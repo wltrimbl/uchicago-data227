{
 "cells": [
  {
   "cell_type": "code",
   "execution_count": 2,
   "metadata": {
    "collapsed": true,
    "jupyter": {
     "outputs_hidden": true
    }
   },
   "outputs": [],
   "source": [
    "import pandas as pd\n",
    "import matplotlib.pyplot as plt\n",
    "import numpy as np"
   ]
  },
  {
   "cell_type": "code",
   "execution_count": 3,
   "metadata": {
    "collapsed": true,
    "jupyter": {
     "outputs_hidden": true
    }
   },
   "outputs": [],
   "source": [
    "def parse_natality(natalitydata, datadictionary):\n",
    "    '''Take in pandas dataframe natalitydata and list-of-lists datadictionary\n",
    "    (for example [[43, 44, \"MATERNALAGE\"]] ) and return a pandas dataframe (same \n",
    "    number of rows) with labeled columns  '''\n",
    "    df = pd.DataFrame()\n",
    "    for start, stop, column_name in datadictionary:\n",
    "        # Get the first column (start)\n",
    "        df[column_name] = natalitydata[0].str.get(start-1)\n",
    "        # Get the remaining columns\n",
    "        for i in range(1, stop-start + 1):\n",
    "            df[column_name]=  df[column_name].str.cat(natalitydata[0].str.get(start-1+i))\n",
    "    return df\n",
    "    for start, stop, column_name in datadictionary:\n",
    "        pd[column_name] = pd.to_numeric(pd[column_name])"
   ]
  },
  {
   "cell_type": "code",
   "execution_count": 4,
   "metadata": {
    "collapsed": true,
    "jupyter": {
     "outputs_hidden": true
    }
   },
   "outputs": [],
   "source": [
    "# https://www.cdc.gov/nchs/data_access/vitalstatsonline.htm \n",
    "# This notebook uses Nat1988.txt which is about 810 Mb.\n",
    "# https://ftp.cdc.gov/pub/Health_Statistics/NCHS/Datasets/DVS/natality/Nat1988.zip \n",
    "\n",
    "# Read the large (215 x 3.9million cells) data file into a pandas frame \n",
    "n1988 = pd.read_csv(\"~/Downloads/birth/NATL1988.txt\", header=None)"
   ]
  },
  {
   "cell_type": "code",
   "execution_count": 5,
   "metadata": {
    "collapsed": true,
    "jupyter": {
     "outputs_hidden": true
    }
   },
   "outputs": [
    {
     "data": {
      "text/plain": [
       "[[12, 12, 'RESIDENTSTATUS'],\n",
       " [13, 14, 'STATEOFRESIDENCE'],\n",
       " [21, 21, 'POPULATIONSIZECITY'],\n",
       " [35, 35, 'SEX'],\n",
       " [36, 36, 'ATTENDANTTYPE'],\n",
       " [37, 37, 'RACEOFFATHER'],\n",
       " [38, 38, 'RACEOFMOTHER'],\n",
       " [39, 39, 'RACEOFCHILD'],\n",
       " [40, 40, 'RACEOFCHILDRECODE3'],\n",
       " [41, 42, 'AGEOFMOTHER'],\n",
       " [60, 60, 'BIRTHORDERRECODE9'],\n",
       " [69, 70, 'AGEOFFATHER'],\n",
       " [77, 78, 'BIRTHWEIGHTRECODE12'],\n",
       " [80, 80, 'PLACEOFDELIVERY'],\n",
       " [81, 81, 'PLURALITY'],\n",
       " [84, 85, 'MONTH'],\n",
       " [86, 87, 'DAY'],\n",
       " [93, 94, 'DETAILGESTATIONAGE'],\n",
       " [98, 99, 'MOTHERSEDUCATION'],\n",
       " [103, 104, 'FATHERSEDUCATION'],\n",
       " [107, 107, 'DETAILMARITALSTATUS'],\n",
       " [181, 182, 'ONEMINUTEAPGAR'],\n",
       " [184, 185, 'FIVEMINUTEAPGAR'],\n",
       " [187, 188, 'HISPANICMOTHER'],\n",
       " [189, 190, 'HISPANICFATHER']]"
      ]
     },
     "execution_count": 5,
     "metadata": {},
     "output_type": "execute_result"
    }
   ],
   "source": [
    "# Load in a file of three columns into a list of lists, the first two elements of which are integers.\n",
    "# This is our table of column positions and column names\n",
    "key1988 = []\n",
    "for line in open(\"KEY1988.txt\"):\n",
    "    fields = line.strip().split()\n",
    "    key1988.append([int(fields[0]), int(fields[1]), fields[2]])\n",
    "key1988\n",
    "# I really thought vaginal/caesarian birth \"mode of delivery\" would be in here but I can't find it in 1988."
   ]
  },
  {
   "cell_type": "code",
   "execution_count": 48,
   "metadata": {},
   "outputs": [],
   "source": [
    "n1988 = pd.read_csv(\"~/Downloads/birth/NATL1988.txt\", header=None)"
   ]
  },
  {
   "cell_type": "code",
   "execution_count": 9,
   "metadata": {
    "collapsed": true,
    "jupyter": {
     "outputs_hidden": true
    }
   },
   "outputs": [
    {
     "data": {
      "text/html": [
       "<div>\n",
       "<style scoped>\n",
       "    .dataframe tbody tr th:only-of-type {\n",
       "        vertical-align: middle;\n",
       "    }\n",
       "\n",
       "    .dataframe tbody tr th {\n",
       "        vertical-align: top;\n",
       "    }\n",
       "\n",
       "    .dataframe thead th {\n",
       "        text-align: right;\n",
       "    }\n",
       "</style>\n",
       "<table border=\"1\" class=\"dataframe\">\n",
       "  <thead>\n",
       "    <tr style=\"text-align: right;\">\n",
       "      <th></th>\n",
       "      <th>RESIDENTSTATUS</th>\n",
       "      <th>STATEOFRESIDENCE</th>\n",
       "      <th>POPULATIONSIZECITY</th>\n",
       "      <th>SEX</th>\n",
       "      <th>ATTENDANTTYPE</th>\n",
       "      <th>RACEOFFATHER</th>\n",
       "      <th>RACEOFMOTHER</th>\n",
       "      <th>RACEOFCHILD</th>\n",
       "      <th>RACEOFCHILDRECODE3</th>\n",
       "      <th>AGEOFMOTHER</th>\n",
       "      <th>...</th>\n",
       "      <th>MONTH</th>\n",
       "      <th>DAY</th>\n",
       "      <th>DETAILGESTATIONAGE</th>\n",
       "      <th>MOTHERSEDUCATION</th>\n",
       "      <th>FATHERSEDUCATION</th>\n",
       "      <th>DETAILMARITALSTATUS</th>\n",
       "      <th>ONEMINUTEAPGAR</th>\n",
       "      <th>FIVEMINUTEAPGAR</th>\n",
       "      <th>HISPANICMOTHER</th>\n",
       "      <th>HISPANICFATHER</th>\n",
       "    </tr>\n",
       "  </thead>\n",
       "  <tbody>\n",
       "    <tr>\n",
       "      <th>0</th>\n",
       "      <td>1</td>\n",
       "      <td>01</td>\n",
       "      <td>9</td>\n",
       "      <td>2</td>\n",
       "      <td>1</td>\n",
       "      <td>1</td>\n",
       "      <td>1</td>\n",
       "      <td>1</td>\n",
       "      <td>1</td>\n",
       "      <td>23</td>\n",
       "      <td>...</td>\n",
       "      <td>01</td>\n",
       "      <td>08</td>\n",
       "      <td>42</td>\n",
       "      <td>12</td>\n",
       "      <td>11</td>\n",
       "      <td>1</td>\n",
       "      <td>09</td>\n",
       "      <td>10</td>\n",
       "      <td>00</td>\n",
       "      <td>00</td>\n",
       "    </tr>\n",
       "    <tr>\n",
       "      <th>1</th>\n",
       "      <td>1</td>\n",
       "      <td>01</td>\n",
       "      <td>9</td>\n",
       "      <td>2</td>\n",
       "      <td>1</td>\n",
       "      <td>9</td>\n",
       "      <td>2</td>\n",
       "      <td>2</td>\n",
       "      <td>3</td>\n",
       "      <td>16</td>\n",
       "      <td>...</td>\n",
       "      <td>01</td>\n",
       "      <td>01</td>\n",
       "      <td>39</td>\n",
       "      <td>10</td>\n",
       "      <td>99</td>\n",
       "      <td>2</td>\n",
       "      <td>08</td>\n",
       "      <td>09</td>\n",
       "      <td>00</td>\n",
       "      <td>99</td>\n",
       "    </tr>\n",
       "    <tr>\n",
       "      <th>2</th>\n",
       "      <td>1</td>\n",
       "      <td>01</td>\n",
       "      <td>9</td>\n",
       "      <td>2</td>\n",
       "      <td>1</td>\n",
       "      <td>2</td>\n",
       "      <td>2</td>\n",
       "      <td>2</td>\n",
       "      <td>3</td>\n",
       "      <td>24</td>\n",
       "      <td>...</td>\n",
       "      <td>01</td>\n",
       "      <td>07</td>\n",
       "      <td>39</td>\n",
       "      <td>12</td>\n",
       "      <td>10</td>\n",
       "      <td>1</td>\n",
       "      <td>07</td>\n",
       "      <td>08</td>\n",
       "      <td>00</td>\n",
       "      <td>00</td>\n",
       "    </tr>\n",
       "    <tr>\n",
       "      <th>3</th>\n",
       "      <td>1</td>\n",
       "      <td>01</td>\n",
       "      <td>9</td>\n",
       "      <td>1</td>\n",
       "      <td>1</td>\n",
       "      <td>9</td>\n",
       "      <td>2</td>\n",
       "      <td>2</td>\n",
       "      <td>3</td>\n",
       "      <td>24</td>\n",
       "      <td>...</td>\n",
       "      <td>01</td>\n",
       "      <td>06</td>\n",
       "      <td>42</td>\n",
       "      <td>11</td>\n",
       "      <td>99</td>\n",
       "      <td>2</td>\n",
       "      <td>09</td>\n",
       "      <td>09</td>\n",
       "      <td>00</td>\n",
       "      <td>99</td>\n",
       "    </tr>\n",
       "    <tr>\n",
       "      <th>4</th>\n",
       "      <td>1</td>\n",
       "      <td>01</td>\n",
       "      <td>9</td>\n",
       "      <td>2</td>\n",
       "      <td>1</td>\n",
       "      <td>9</td>\n",
       "      <td>2</td>\n",
       "      <td>2</td>\n",
       "      <td>3</td>\n",
       "      <td>26</td>\n",
       "      <td>...</td>\n",
       "      <td>01</td>\n",
       "      <td>01</td>\n",
       "      <td>35</td>\n",
       "      <td>12</td>\n",
       "      <td>99</td>\n",
       "      <td>2</td>\n",
       "      <td>08</td>\n",
       "      <td>09</td>\n",
       "      <td>00</td>\n",
       "      <td>99</td>\n",
       "    </tr>\n",
       "  </tbody>\n",
       "</table>\n",
       "<p>5 rows × 25 columns</p>\n",
       "</div>"
      ],
      "text/plain": [
       "  RESIDENTSTATUS STATEOFRESIDENCE POPULATIONSIZECITY SEX ATTENDANTTYPE  \\\n",
       "0              1               01                  9   2             1   \n",
       "1              1               01                  9   2             1   \n",
       "2              1               01                  9   2             1   \n",
       "3              1               01                  9   1             1   \n",
       "4              1               01                  9   2             1   \n",
       "\n",
       "  RACEOFFATHER RACEOFMOTHER RACEOFCHILD RACEOFCHILDRECODE3 AGEOFMOTHER  ...  \\\n",
       "0            1            1           1                  1          23  ...   \n",
       "1            9            2           2                  3          16  ...   \n",
       "2            2            2           2                  3          24  ...   \n",
       "3            9            2           2                  3          24  ...   \n",
       "4            9            2           2                  3          26  ...   \n",
       "\n",
       "  MONTH DAY DETAILGESTATIONAGE MOTHERSEDUCATION FATHERSEDUCATION  \\\n",
       "0    01  08                 42               12               11   \n",
       "1    01  01                 39               10               99   \n",
       "2    01  07                 39               12               10   \n",
       "3    01  06                 42               11               99   \n",
       "4    01  01                 35               12               99   \n",
       "\n",
       "  DETAILMARITALSTATUS ONEMINUTEAPGAR FIVEMINUTEAPGAR HISPANICMOTHER  \\\n",
       "0                   1             09              10             00   \n",
       "1                   2             08              09             00   \n",
       "2                   1             07              08             00   \n",
       "3                   2             09              09             00   \n",
       "4                   2             08              09             00   \n",
       "\n",
       "  HISPANICFATHER  \n",
       "0             00  \n",
       "1             99  \n",
       "2             00  \n",
       "3             99  \n",
       "4             99  \n",
       "\n",
       "[5 rows x 25 columns]"
      ]
     },
     "execution_count": 9,
     "metadata": {},
     "output_type": "execute_result"
    }
   ],
   "source": [
    "df = parse_natality(n1988, key1988)\n",
    "df.head()"
   ]
  },
  {
   "cell_type": "code",
   "execution_count": 8,
   "metadata": {
    "collapsed": true,
    "jupyter": {
     "outputs_hidden": true
    }
   },
   "outputs": [
    {
     "data": {
      "text/plain": [
       "09    1225724\n",
       "08    1179788\n",
       "99     926902\n",
       "07     284030\n",
       "06     102709\n",
       "05      57629\n",
       "04      36892\n",
       "10      32464\n",
       "03      25401\n",
       "01      19762\n",
       "02      19665\n",
       "00       2827\n",
       "Name: ONEMINUTEAPGAR, dtype: int64"
      ]
     },
     "execution_count": 8,
     "metadata": {},
     "output_type": "execute_result"
    }
   ],
   "source": [
    "df[\"ONEMINUTEAPGAR\"].value_counts()"
   ]
  },
  {
   "cell_type": "code",
   "execution_count": 10,
   "metadata": {
    "collapsed": true,
    "jupyter": {
     "outputs_hidden": true
    }
   },
   "outputs": [],
   "source": [
    "apgar1 = df[\"ONEMINUTEAPGAR\"].value_counts().sort_index()/df.ONEMINUTEAPGAR.count()"
   ]
  },
  {
   "cell_type": "code",
   "execution_count": 12,
   "metadata": {
    "collapsed": true,
    "jupyter": {
     "outputs_hidden": true
    }
   },
   "outputs": [
    {
     "data": {
      "text/plain": [
       "<BarContainer object of 12 artists>"
      ]
     },
     "execution_count": 12,
     "metadata": {},
     "output_type": "execute_result"
    },
    {
     "data": {
      "image/png": "[encoded data removed]",
      "text/plain": [
       "<Figure size 432x288 with 1 Axes>"
      ]
     },
     "metadata": {
      "needs_background": "light"
     },
     "output_type": "display_data"
    }
   ],
   "source": [
    "plt.bar(apgar1.index, apgar1)"
   ]
  },
  {
   "cell_type": "code",
   "execution_count": 71,
   "metadata": {
    "collapsed": true,
    "jupyter": {
     "outputs_hidden": true
    }
   },
   "outputs": [],
   "source": [
    "apgar5 = df[\"FIVEMINUTEAPGAR\"].value_counts().sort_index()/df.FIVEMINUTEAPGAR.count()"
   ]
  },
  {
   "cell_type": "code",
   "execution_count": 20,
   "metadata": {
    "collapsed": true,
    "jupyter": {
     "outputs_hidden": true
    }
   },
   "outputs": [
    {
     "data": {
      "text/plain": [
       "<matplotlib.legend.Legend at 0x7f9a3bf9f550>"
      ]
     },
     "execution_count": 20,
     "metadata": {},
     "output_type": "execute_result"
    },
    {
     "data": {
      "image/png": "[encoded data removed]",
      "text/plain": [
       "<Figure size 432x288 with 1 Axes>"
      ]
     },
     "metadata": {
      "needs_background": "light"
     },
     "output_type": "display_data"
    }
   ],
   "source": [
    "plt.bar(apgar1.index, apgar1, alpha=0.5, label=\"1 minute Apgar score\")+plt.bar(apgar5.index, apgar5, alpha=0.5, label=\"5 minute Apgar score\"); plt.legend()"
   ]
  },
  {
   "cell_type": "code",
   "execution_count": 96,
   "metadata": {
    "collapsed": true,
    "jupyter": {
     "outputs_hidden": true
    }
   },
   "outputs": [
    {
     "data": {
      "text/plain": [
       "<matplotlib.legend.Legend at 0x7f99bec359a0>"
      ]
     },
     "execution_count": 96,
     "metadata": {},
     "output_type": "execute_result"
    },
    {
     "data": {
      "image/png": "[encoded data removed]",
      "text/plain": [
       "<Figure size 432x288 with 1 Axes>"
      ]
     },
     "metadata": {
      "needs_background": "light"
     },
     "output_type": "display_data"
    }
   ],
   "source": [
    "# From these two marginal distributions, we see that most babies perk up in the first few minutes of life:\n",
    "# there are fewer 6,7,and 8 scores and more 9s and 10s.\n",
    "\n",
    "# But we need not content ourselves with these marginal distributions; we have the full joint distribution.\n",
    "# We can see what 1 minute scores change to in minute 5 if we wish.\n",
    "\n",
    "# Let's get rid of the \"99\" missing data symbol\n",
    "\n",
    "plt.bar(apgar1.index[:-1], apgar1[:-1], alpha=0.5, label=\"1 minute Apgar score\")+plt.bar(apgar5.index[:-1], apgar5[:-1], alpha=0.5, label=\"5 minute Apgar score\"); plt.legend()\n",
    "\n",
    "\n"
   ]
  },
  {
   "cell_type": "code",
   "execution_count": 25,
   "metadata": {
    "collapsed": true,
    "jupyter": {
     "outputs_hidden": true
    }
   },
   "outputs": [
    {
     "data": {
      "text/plain": [
       "<pandas.core.groupby.generic.DataFrameGroupBy object at 0x7f9a3c147cd0>"
      ]
     },
     "execution_count": 25,
     "metadata": {},
     "output_type": "execute_result"
    }
   ],
   "source": [
    "df.groupby(\"ONEMINUTEAPGAR\")\n"
   ]
  },
  {
   "cell_type": "code",
   "execution_count": 26,
   "metadata": {
    "collapsed": true,
    "jupyter": {
     "outputs_hidden": true
    }
   },
   "outputs": [
    {
     "data": {
      "text/html": [
       "<div>\n",
       "<style scoped>\n",
       "    .dataframe tbody tr th:only-of-type {\n",
       "        vertical-align: middle;\n",
       "    }\n",
       "\n",
       "    .dataframe tbody tr th {\n",
       "        vertical-align: top;\n",
       "    }\n",
       "\n",
       "    .dataframe thead th {\n",
       "        text-align: right;\n",
       "    }\n",
       "</style>\n",
       "<table border=\"1\" class=\"dataframe\">\n",
       "  <thead>\n",
       "    <tr style=\"text-align: right;\">\n",
       "      <th></th>\n",
       "      <th>RESIDENTSTATUS</th>\n",
       "      <th>STATEOFRESIDENCE</th>\n",
       "      <th>POPULATIONSIZECITY</th>\n",
       "      <th>SEX</th>\n",
       "      <th>ATTENDANTTYPE</th>\n",
       "      <th>RACEOFFATHER</th>\n",
       "      <th>RACEOFMOTHER</th>\n",
       "      <th>RACEOFCHILD</th>\n",
       "      <th>RACEOFCHILDRECODE3</th>\n",
       "      <th>AGEOFMOTHER</th>\n",
       "      <th>...</th>\n",
       "      <th>PLURALITY</th>\n",
       "      <th>MONTH</th>\n",
       "      <th>DAY</th>\n",
       "      <th>DETAILGESTATIONAGE</th>\n",
       "      <th>MOTHERSEDUCATION</th>\n",
       "      <th>FATHERSEDUCATION</th>\n",
       "      <th>DETAILMARITALSTATUS</th>\n",
       "      <th>FIVEMINUTEAPGAR</th>\n",
       "      <th>HISPANIMOTHER</th>\n",
       "      <th>HISPANICFATHER</th>\n",
       "    </tr>\n",
       "    <tr>\n",
       "      <th>ONEMINUTEAPGAR</th>\n",
       "      <th></th>\n",
       "      <th></th>\n",
       "      <th></th>\n",
       "      <th></th>\n",
       "      <th></th>\n",
       "      <th></th>\n",
       "      <th></th>\n",
       "      <th></th>\n",
       "      <th></th>\n",
       "      <th></th>\n",
       "      <th></th>\n",
       "      <th></th>\n",
       "      <th></th>\n",
       "      <th></th>\n",
       "      <th></th>\n",
       "      <th></th>\n",
       "      <th></th>\n",
       "      <th></th>\n",
       "      <th></th>\n",
       "      <th></th>\n",
       "      <th></th>\n",
       "    </tr>\n",
       "  </thead>\n",
       "  <tbody>\n",
       "    <tr>\n",
       "      <th>00</th>\n",
       "      <td>2827</td>\n",
       "      <td>2827</td>\n",
       "      <td>2827</td>\n",
       "      <td>2827</td>\n",
       "      <td>2827</td>\n",
       "      <td>2827</td>\n",
       "      <td>2827</td>\n",
       "      <td>2827</td>\n",
       "      <td>2827</td>\n",
       "      <td>2827</td>\n",
       "      <td>...</td>\n",
       "      <td>2827</td>\n",
       "      <td>2827</td>\n",
       "      <td>2827</td>\n",
       "      <td>2827</td>\n",
       "      <td>2827</td>\n",
       "      <td>2827</td>\n",
       "      <td>2827</td>\n",
       "      <td>2827</td>\n",
       "      <td>2827</td>\n",
       "      <td>2827</td>\n",
       "    </tr>\n",
       "    <tr>\n",
       "      <th>01</th>\n",
       "      <td>19762</td>\n",
       "      <td>19762</td>\n",
       "      <td>19762</td>\n",
       "      <td>19762</td>\n",
       "      <td>19762</td>\n",
       "      <td>19762</td>\n",
       "      <td>19762</td>\n",
       "      <td>19762</td>\n",
       "      <td>19762</td>\n",
       "      <td>19762</td>\n",
       "      <td>...</td>\n",
       "      <td>19762</td>\n",
       "      <td>19762</td>\n",
       "      <td>19762</td>\n",
       "      <td>19762</td>\n",
       "      <td>19762</td>\n",
       "      <td>19762</td>\n",
       "      <td>19762</td>\n",
       "      <td>19762</td>\n",
       "      <td>19762</td>\n",
       "      <td>19762</td>\n",
       "    </tr>\n",
       "    <tr>\n",
       "      <th>02</th>\n",
       "      <td>19665</td>\n",
       "      <td>19665</td>\n",
       "      <td>19665</td>\n",
       "      <td>19665</td>\n",
       "      <td>19665</td>\n",
       "      <td>19665</td>\n",
       "      <td>19665</td>\n",
       "      <td>19665</td>\n",
       "      <td>19665</td>\n",
       "      <td>19665</td>\n",
       "      <td>...</td>\n",
       "      <td>19665</td>\n",
       "      <td>19665</td>\n",
       "      <td>19665</td>\n",
       "      <td>19665</td>\n",
       "      <td>19665</td>\n",
       "      <td>19665</td>\n",
       "      <td>19665</td>\n",
       "      <td>19665</td>\n",
       "      <td>19665</td>\n",
       "      <td>19665</td>\n",
       "    </tr>\n",
       "    <tr>\n",
       "      <th>03</th>\n",
       "      <td>25401</td>\n",
       "      <td>25401</td>\n",
       "      <td>25401</td>\n",
       "      <td>25401</td>\n",
       "      <td>25401</td>\n",
       "      <td>25401</td>\n",
       "      <td>25401</td>\n",
       "      <td>25401</td>\n",
       "      <td>25401</td>\n",
       "      <td>25401</td>\n",
       "      <td>...</td>\n",
       "      <td>25401</td>\n",
       "      <td>25401</td>\n",
       "      <td>25401</td>\n",
       "      <td>25401</td>\n",
       "      <td>25401</td>\n",
       "      <td>25401</td>\n",
       "      <td>25401</td>\n",
       "      <td>25401</td>\n",
       "      <td>25401</td>\n",
       "      <td>25401</td>\n",
       "    </tr>\n",
       "    <tr>\n",
       "      <th>04</th>\n",
       "      <td>36892</td>\n",
       "      <td>36892</td>\n",
       "      <td>36892</td>\n",
       "      <td>36892</td>\n",
       "      <td>36892</td>\n",
       "      <td>36892</td>\n",
       "      <td>36892</td>\n",
       "      <td>36892</td>\n",
       "      <td>36892</td>\n",
       "      <td>36892</td>\n",
       "      <td>...</td>\n",
       "      <td>36892</td>\n",
       "      <td>36892</td>\n",
       "      <td>36892</td>\n",
       "      <td>36892</td>\n",
       "      <td>36892</td>\n",
       "      <td>36892</td>\n",
       "      <td>36892</td>\n",
       "      <td>36892</td>\n",
       "      <td>36892</td>\n",
       "      <td>36892</td>\n",
       "    </tr>\n",
       "    <tr>\n",
       "      <th>05</th>\n",
       "      <td>57629</td>\n",
       "      <td>57629</td>\n",
       "      <td>57629</td>\n",
       "      <td>57629</td>\n",
       "      <td>57629</td>\n",
       "      <td>57629</td>\n",
       "      <td>57629</td>\n",
       "      <td>57629</td>\n",
       "      <td>57629</td>\n",
       "      <td>57629</td>\n",
       "      <td>...</td>\n",
       "      <td>57629</td>\n",
       "      <td>57629</td>\n",
       "      <td>57629</td>\n",
       "      <td>57629</td>\n",
       "      <td>57629</td>\n",
       "      <td>57629</td>\n",
       "      <td>57629</td>\n",
       "      <td>57629</td>\n",
       "      <td>57629</td>\n",
       "      <td>57629</td>\n",
       "    </tr>\n",
       "    <tr>\n",
       "      <th>06</th>\n",
       "      <td>102709</td>\n",
       "      <td>102709</td>\n",
       "      <td>102709</td>\n",
       "      <td>102709</td>\n",
       "      <td>102709</td>\n",
       "      <td>102709</td>\n",
       "      <td>102709</td>\n",
       "      <td>102709</td>\n",
       "      <td>102709</td>\n",
       "      <td>102709</td>\n",
       "      <td>...</td>\n",
       "      <td>102709</td>\n",
       "      <td>102709</td>\n",
       "      <td>102709</td>\n",
       "      <td>102709</td>\n",
       "      <td>102709</td>\n",
       "      <td>102709</td>\n",
       "      <td>102709</td>\n",
       "      <td>102709</td>\n",
       "      <td>102709</td>\n",
       "      <td>102709</td>\n",
       "    </tr>\n",
       "    <tr>\n",
       "      <th>07</th>\n",
       "      <td>284030</td>\n",
       "      <td>284030</td>\n",
       "      <td>284030</td>\n",
       "      <td>284030</td>\n",
       "      <td>284030</td>\n",
       "      <td>284030</td>\n",
       "      <td>284030</td>\n",
       "      <td>284030</td>\n",
       "      <td>284030</td>\n",
       "      <td>284030</td>\n",
       "      <td>...</td>\n",
       "      <td>284030</td>\n",
       "      <td>284030</td>\n",
       "      <td>284030</td>\n",
       "      <td>284030</td>\n",
       "      <td>284030</td>\n",
       "      <td>284030</td>\n",
       "      <td>284030</td>\n",
       "      <td>284030</td>\n",
       "      <td>284030</td>\n",
       "      <td>284030</td>\n",
       "    </tr>\n",
       "    <tr>\n",
       "      <th>08</th>\n",
       "      <td>1179788</td>\n",
       "      <td>1179788</td>\n",
       "      <td>1179788</td>\n",
       "      <td>1179788</td>\n",
       "      <td>1179788</td>\n",
       "      <td>1179788</td>\n",
       "      <td>1179788</td>\n",
       "      <td>1179788</td>\n",
       "      <td>1179788</td>\n",
       "      <td>1179788</td>\n",
       "      <td>...</td>\n",
       "      <td>1179788</td>\n",
       "      <td>1179788</td>\n",
       "      <td>1179788</td>\n",
       "      <td>1179788</td>\n",
       "      <td>1179788</td>\n",
       "      <td>1179788</td>\n",
       "      <td>1179788</td>\n",
       "      <td>1179788</td>\n",
       "      <td>1179788</td>\n",
       "      <td>1179788</td>\n",
       "    </tr>\n",
       "    <tr>\n",
       "      <th>09</th>\n",
       "      <td>1225724</td>\n",
       "      <td>1225724</td>\n",
       "      <td>1225724</td>\n",
       "      <td>1225724</td>\n",
       "      <td>1225724</td>\n",
       "      <td>1225724</td>\n",
       "      <td>1225724</td>\n",
       "      <td>1225724</td>\n",
       "      <td>1225724</td>\n",
       "      <td>1225724</td>\n",
       "      <td>...</td>\n",
       "      <td>1225724</td>\n",
       "      <td>1225724</td>\n",
       "      <td>1225724</td>\n",
       "      <td>1225724</td>\n",
       "      <td>1225724</td>\n",
       "      <td>1225724</td>\n",
       "      <td>1225724</td>\n",
       "      <td>1225724</td>\n",
       "      <td>1225724</td>\n",
       "      <td>1225724</td>\n",
       "    </tr>\n",
       "    <tr>\n",
       "      <th>10</th>\n",
       "      <td>32464</td>\n",
       "      <td>32464</td>\n",
       "      <td>32464</td>\n",
       "      <td>32464</td>\n",
       "      <td>32464</td>\n",
       "      <td>32464</td>\n",
       "      <td>32464</td>\n",
       "      <td>32464</td>\n",
       "      <td>32464</td>\n",
       "      <td>32464</td>\n",
       "      <td>...</td>\n",
       "      <td>32464</td>\n",
       "      <td>32464</td>\n",
       "      <td>32464</td>\n",
       "      <td>32464</td>\n",
       "      <td>32464</td>\n",
       "      <td>32464</td>\n",
       "      <td>32464</td>\n",
       "      <td>32464</td>\n",
       "      <td>32464</td>\n",
       "      <td>32464</td>\n",
       "    </tr>\n",
       "    <tr>\n",
       "      <th>99</th>\n",
       "      <td>926902</td>\n",
       "      <td>926902</td>\n",
       "      <td>926902</td>\n",
       "      <td>926902</td>\n",
       "      <td>926902</td>\n",
       "      <td>926902</td>\n",
       "      <td>926902</td>\n",
       "      <td>926902</td>\n",
       "      <td>926902</td>\n",
       "      <td>926902</td>\n",
       "      <td>...</td>\n",
       "      <td>926902</td>\n",
       "      <td>926902</td>\n",
       "      <td>926902</td>\n",
       "      <td>926902</td>\n",
       "      <td>926902</td>\n",
       "      <td>926902</td>\n",
       "      <td>926902</td>\n",
       "      <td>926902</td>\n",
       "      <td>926902</td>\n",
       "      <td>926902</td>\n",
       "    </tr>\n",
       "  </tbody>\n",
       "</table>\n",
       "<p>12 rows × 24 columns</p>\n",
       "</div>"
      ],
      "text/plain": [
       "                RESIDENTSTATUS  STATEOFRESIDENCE  POPULATIONSIZECITY      SEX  \\\n",
       "ONEMINUTEAPGAR                                                                  \n",
       "00                        2827              2827                2827     2827   \n",
       "01                       19762             19762               19762    19762   \n",
       "02                       19665             19665               19665    19665   \n",
       "03                       25401             25401               25401    25401   \n",
       "04                       36892             36892               36892    36892   \n",
       "05                       57629             57629               57629    57629   \n",
       "06                      102709            102709              102709   102709   \n",
       "07                      284030            284030              284030   284030   \n",
       "08                     1179788           1179788             1179788  1179788   \n",
       "09                     1225724           1225724             1225724  1225724   \n",
       "10                       32464             32464               32464    32464   \n",
       "99                      926902            926902              926902   926902   \n",
       "\n",
       "                ATTENDANTTYPE  RACEOFFATHER  RACEOFMOTHER  RACEOFCHILD  \\\n",
       "ONEMINUTEAPGAR                                                           \n",
       "00                       2827          2827          2827         2827   \n",
       "01                      19762         19762         19762        19762   \n",
       "02                      19665         19665         19665        19665   \n",
       "03                      25401         25401         25401        25401   \n",
       "04                      36892         36892         36892        36892   \n",
       "05                      57629         57629         57629        57629   \n",
       "06                     102709        102709        102709       102709   \n",
       "07                     284030        284030        284030       284030   \n",
       "08                    1179788       1179788       1179788      1179788   \n",
       "09                    1225724       1225724       1225724      1225724   \n",
       "10                      32464         32464         32464        32464   \n",
       "99                     926902        926902        926902       926902   \n",
       "\n",
       "                RACEOFCHILDRECODE3  AGEOFMOTHER  ...  PLURALITY    MONTH  \\\n",
       "ONEMINUTEAPGAR                                   ...                       \n",
       "00                            2827         2827  ...       2827     2827   \n",
       "01                           19762        19762  ...      19762    19762   \n",
       "02                           19665        19665  ...      19665    19665   \n",
       "03                           25401        25401  ...      25401    25401   \n",
       "04                           36892        36892  ...      36892    36892   \n",
       "05                           57629        57629  ...      57629    57629   \n",
       "06                          102709       102709  ...     102709   102709   \n",
       "07                          284030       284030  ...     284030   284030   \n",
       "08                         1179788      1179788  ...    1179788  1179788   \n",
       "09                         1225724      1225724  ...    1225724  1225724   \n",
       "10                           32464        32464  ...      32464    32464   \n",
       "99                          926902       926902  ...     926902   926902   \n",
       "\n",
       "                    DAY  DETAILGESTATIONAGE  MOTHERSEDUCATION  \\\n",
       "ONEMINUTEAPGAR                                                  \n",
       "00                 2827                2827              2827   \n",
       "01                19762               19762             19762   \n",
       "02                19665               19665             19665   \n",
       "03                25401               25401             25401   \n",
       "04                36892               36892             36892   \n",
       "05                57629               57629             57629   \n",
       "06               102709              102709            102709   \n",
       "07               284030              284030            284030   \n",
       "08              1179788             1179788           1179788   \n",
       "09              1225724             1225724           1225724   \n",
       "10                32464               32464             32464   \n",
       "99               926902              926902            926902   \n",
       "\n",
       "                FATHERSEDUCATION  DETAILMARITALSTATUS  FIVEMINUTEAPGAR  \\\n",
       "ONEMINUTEAPGAR                                                           \n",
       "00                          2827                 2827             2827   \n",
       "01                         19762                19762            19762   \n",
       "02                         19665                19665            19665   \n",
       "03                         25401                25401            25401   \n",
       "04                         36892                36892            36892   \n",
       "05                         57629                57629            57629   \n",
       "06                        102709               102709           102709   \n",
       "07                        284030               284030           284030   \n",
       "08                       1179788              1179788          1179788   \n",
       "09                       1225724              1225724          1225724   \n",
       "10                         32464                32464            32464   \n",
       "99                        926902               926902           926902   \n",
       "\n",
       "                HISPANIMOTHER  HISPANICFATHER  \n",
       "ONEMINUTEAPGAR                                 \n",
       "00                       2827            2827  \n",
       "01                      19762           19762  \n",
       "02                      19665           19665  \n",
       "03                      25401           25401  \n",
       "04                      36892           36892  \n",
       "05                      57629           57629  \n",
       "06                     102709          102709  \n",
       "07                     284030          284030  \n",
       "08                    1179788         1179788  \n",
       "09                    1225724         1225724  \n",
       "10                      32464           32464  \n",
       "99                     926902          926902  \n",
       "\n",
       "[12 rows x 24 columns]"
      ]
     },
     "execution_count": 26,
     "metadata": {},
     "output_type": "execute_result"
    }
   ],
   "source": [
    "# Ok, this gives me some pandas function that I can't work with directly...\n",
    "df.groupby(\"ONEMINUTEAPGAR\").count()"
   ]
  },
  {
   "cell_type": "code",
   "execution_count": 28,
   "metadata": {
    "collapsed": true,
    "jupyter": {
     "outputs_hidden": true
    }
   },
   "outputs": [
    {
     "data": {
      "text/plain": [
       "ONEMINUTEAPGAR\n",
       "00       2827\n",
       "01      19762\n",
       "02      19665\n",
       "03      25401\n",
       "04      36892\n",
       "05      57629\n",
       "06     102709\n",
       "07     284030\n",
       "08    1179788\n",
       "09    1225724\n",
       "10      32464\n",
       "99     926902\n",
       "Name: FIVEMINUTEAPGAR, dtype: int64"
      ]
     },
     "execution_count": 28,
     "metadata": {},
     "output_type": "execute_result"
    }
   ],
   "source": [
    "# Oh, no, that's not right.  This counted the number of entries in all the columns.  I only want counts for one column\n",
    "df.groupby(\"ONEMINUTEAPGAR\").FIVEMINUTEAPGAR.count()"
   ]
  },
  {
   "cell_type": "code",
   "execution_count": 12,
   "metadata": {
    "collapsed": true,
    "jupyter": {
     "outputs_hidden": true
    }
   },
   "outputs": [
    {
     "data": {
      "text/plain": [
       "ONEMINUTEAPGAR  FIVEMINUTEAPGAR\n",
       "00              00                 1355\n",
       "                01                  404\n",
       "                02                  207\n",
       "                03                  162\n",
       "                04                  147\n",
       "Name: FIVEMINUTEAPGAR, dtype: int64"
      ]
     },
     "execution_count": 12,
     "metadata": {},
     "output_type": "execute_result"
    }
   ],
   "source": [
    "# This is only one-dimensional.\n",
    "\n",
    "# looks like I need to groupby both ONEMINUTEAPGAR and FIVEMINUTEAPGAR\n",
    "apgarapgarhist = df.groupby([\"ONEMINUTEAPGAR\", \"FIVEMINUTEAPGAR\"]).FIVEMINUTEAPGAR.count()\n",
    "apgarapgarhist.head()"
   ]
  },
  {
   "cell_type": "code",
   "execution_count": 13,
   "metadata": {
    "collapsed": true,
    "jupyter": {
     "outputs_hidden": true
    }
   },
   "outputs": [],
   "source": [
    "# And this looks like the 2d histogram I seek.  \n",
    "\n",
    "# To generate a heatmap, I'll convert to a numpy array \n",
    "apgarapgar= np.reshape(np.array(apgarapgarhist), (12,12))\n"
   ]
  },
  {
   "cell_type": "code",
   "execution_count": 14,
   "metadata": {
    "collapsed": true,
    "jupyter": {
     "outputs_hidden": true
    }
   },
   "outputs": [
    {
     "data": {
      "text/plain": [
       "404"
      ]
     },
     "execution_count": 14,
     "metadata": {},
     "output_type": "execute_result"
    }
   ],
   "source": [
    "# It is likely, but we should check, that ONEMINUTEAPGAR is indexed by row, FIVEMINUTEAPGAR by column\n",
    "apgarapgar[0,1]  # should be 404 if row is ONEMINUTEAPGAR and column is FIVEMINUTEAPGAR"
   ]
  },
  {
   "cell_type": "code",
   "execution_count": 15,
   "metadata": {
    "collapsed": true,
    "jupyter": {
     "outputs_hidden": true
    }
   },
   "outputs": [],
   "source": [
    "# chop off unknown apgar scores\n",
    "apgarapgar = apgarapgar[0:11,0:11]"
   ]
  },
  {
   "cell_type": "code",
   "execution_count": 61,
   "metadata": {
    "collapsed": true,
    "jupyter": {
     "outputs_hidden": true
    }
   },
   "outputs": [
    {
     "data": {
      "text/plain": [
       "(Text(0, 0.5, 'One minute Apgar score'),\n",
       " Text(0.5, 0, 'Five minute Apgar score'))"
      ]
     },
     "execution_count": 61,
     "metadata": {},
     "output_type": "execute_result"
    },
    {
     "data": {
      "image/png": "[encoded data removed]",
      "text/plain": [
       "<Figure size 432x288 with 1 Axes>"
      ]
     },
     "metadata": {
      "needs_background": "light"
     },
     "output_type": "display_data"
    }
   ],
   "source": [
    "plt.imshow(apgarapgar); plt.ylabel(\"One minute Apgar score\"), plt.xlabel(\"Five minute Apgar score\")"
   ]
  },
  {
   "cell_type": "code",
   "execution_count": 62,
   "metadata": {
    "collapsed": true,
    "jupyter": {
     "outputs_hidden": true
    }
   },
   "outputs": [
    {
     "data": {
      "text/plain": [
       "<matplotlib.colorbar.Colorbar at 0x7f99bd6a4520>"
      ]
     },
     "execution_count": 62,
     "metadata": {},
     "output_type": "execute_result"
    },
    {
     "data": {
      "image/png": "[encoded data removed]",
      "text/plain": [
       "<Figure size 432x288 with 2 Axes>"
      ]
     },
     "metadata": {
      "needs_background": "light"
     },
     "output_type": "display_data"
    }
   ],
   "source": [
    "# There is almost no color in the bottom column, and there is color in the final row, consistent with\n",
    "# the 1d histograms with <1% in apgar1 = 10 but ~14% in apgar5 = 10\n",
    "# Need a colorbar\n",
    "plt.imshow(apgarapgar); plt.colorbar()"
   ]
  },
  {
   "cell_type": "code",
   "execution_count": 63,
   "metadata": {
    "collapsed": true,
    "jupyter": {
     "outputs_hidden": true
    }
   },
   "outputs": [
    {
     "data": {
      "text/plain": [
       "<matplotlib.colorbar.Colorbar at 0x7f99bd846250>"
      ]
     },
     "execution_count": 63,
     "metadata": {},
     "output_type": "execute_result"
    },
    {
     "data": {
      "image/png": "[encoded data removed]",
      "text/plain": [
       "<Figure size 432x288 with 2 Axes>"
      ]
     },
     "metadata": {
      "needs_background": "light"
     },
     "output_type": "display_data"
    }
   ],
   "source": [
    "# Right.  Raw counts.  Divide by the total number of scores in this 11x11 submatrix..\n",
    "plt.imshow(apgarapgar/apgarapgar.sum()); plt.colorbar()"
   ]
  },
  {
   "cell_type": "code",
   "execution_count": 69,
   "metadata": {
    "collapsed": true,
    "jupyter": {
     "outputs_hidden": true
    }
   },
   "outputs": [
    {
     "data": {
      "text/plain": [
       "<matplotlib.colorbar.Colorbar at 0x7f99bde8f1c0>"
      ]
     },
     "execution_count": 69,
     "metadata": {},
     "output_type": "execute_result"
    },
    {
     "data": {
      "image/png": "[encoded data removed]",
      "text/plain": [
       "<Figure size 432x288 with 2 Axes>"
      ]
     },
     "metadata": {
      "needs_background": "light"
     },
     "output_type": "display_data"
    }
   ],
   "source": [
    "# and my, there isn't a lot of contrast here.  \n",
    "#  Two reasonable options to enhance the contrast:  \n",
    "#      Exaggerated colormap (log-scale colormap)\n",
    "#      Divide by rows ; divide by columns to give the conditional distributions\n",
    "#      of for example   AP5 | AP1 = 8  or AP1 | AP5 = 8\n",
    "# Divide by column totals (apgar 5)  -- where did apgar 5 scores come from?\n",
    "plt.imshow(apgarapgar/apgarapgar.sum(axis=0)); \n",
    "plt.ylabel(\"One minute Apgar score\"), plt.xlabel(\"Given five minute Apgar score\"); plt.colorbar()"
   ]
  },
  {
   "cell_type": "code",
   "execution_count": 70,
   "metadata": {
    "collapsed": true,
    "jupyter": {
     "outputs_hidden": true
    }
   },
   "outputs": [
    {
     "data": {
      "text/plain": [
       "<matplotlib.colorbar.Colorbar at 0x7f99bde32880>"
      ]
     },
     "execution_count": 70,
     "metadata": {},
     "output_type": "execute_result"
    },
    {
     "data": {
      "image/png": "[encoded data removed]",
      "text/plain": [
       "<Figure size 432x288 with 2 Axes>"
      ]
     },
     "metadata": {
      "needs_background": "light"
     },
     "output_type": "display_data"
    }
   ],
   "source": [
    "# divide by row totals -- where did apgar1 scores end up?\n",
    "plt.imshow(apgarapgar.T/apgarapgar.T.sum(axis=0).T); \n",
    "plt.ylabel(\"Given One minute Apgar score\"), plt.xlabel(\"Five minute Apgar score\"); plt.colorbar()"
   ]
  },
  {
   "cell_type": "code",
   "execution_count": 75,
   "metadata": {
    "collapsed": true,
    "jupyter": {
     "outputs_hidden": true
    }
   },
   "outputs": [
    {
     "data": {
      "text/plain": [
       "<matplotlib.colorbar.Colorbar at 0x7f99beb06850>"
      ]
     },
     "execution_count": 75,
     "metadata": {},
     "output_type": "execute_result"
    },
    {
     "data": {
      "image/png": "[encoded data removed]",
      "text/plain": [
       "<Figure size 432x288 with 2 Axes>"
      ]
     },
     "metadata": {
      "needs_background": "light"
     },
     "output_type": "display_data"
    }
   ],
   "source": [
    "# And here is the exaggerated-color scale version\n",
    "# Here matlab.colors.LogNorm  handles making the color scale logarithmic for us. \n",
    "from matplotlib.colors import LogNorm\n",
    "plt.imshow((apgarapgar/apgarapgar.sum()), norm=LogNorm())\n",
    "plt.ylabel(\"One minute Apgar score\"), plt.xlabel(\"Five minute Apgar score\"); plt.colorbar()"
   ]
  },
  {
   "cell_type": "code",
   "execution_count": null,
   "metadata": {
    "collapsed": true,
    "jupyter": {
     "outputs_hidden": true
    }
   },
   "outputs": [],
   "source": [
    "# At least this one shows the truth that infants usually improve their scores between tests!"
   ]
  },
  {
   "cell_type": "code",
   "execution_count": 76,
   "metadata": {
    "collapsed": true,
    "jupyter": {
     "outputs_hidden": true
    }
   },
   "outputs": [],
   "source": [
    "# We have to build a string like 19880621 and change format to get a good date column\n",
    "df[\"DATE\"] = pd.to_datetime(\"1988\" + df[\"MONTH\"]+ df[\"DAY\"], errors=\"coerce\")"
   ]
  },
  {
   "cell_type": "code",
   "execution_count": 94,
   "metadata": {
    "collapsed": true,
    "jupyter": {
     "outputs_hidden": true
    }
   },
   "outputs": [
    {
     "data": {
      "text/plain": [
       "AGEOFMOTHER  ONEMINUTEAPGAR\n",
       "10           02                1\n",
       "             06                1\n",
       "             07                3\n",
       "             08                3\n",
       "             09                5\n",
       "Name: ONEMINUTEAPGAR, dtype: int64"
      ]
     },
     "execution_count": 94,
     "metadata": {},
     "output_type": "execute_result"
    }
   ],
   "source": [
    "maternalageapgarhist = df.groupby([\"AGEOFMOTHER\", \"ONEMINUTEAPGAR\"]).ONEMINUTEAPGAR.count()\n",
    "maternalageapgarhist.head()"
   ]
  },
  {
   "cell_type": "code",
   "execution_count": null,
   "metadata": {
    "collapsed": true,
    "jupyter": {
     "outputs_hidden": true
    }
   },
   "outputs": [],
   "source": []
  },
  {
   "cell_type": "code",
   "execution_count": 77,
   "metadata": {
    "collapsed": true,
    "jupyter": {
     "outputs_hidden": true
    }
   },
   "outputs": [],
   "source": [
    "# Birth rate modulation in time is cute, but infant deaths are a more important signal.\n",
    "# The CDC published data bundles allowing us to examine \"numerator\" and \"denominator\"\n",
    "# files that are cohort-linked all live births and those live births that died.\n",
    "\n",
    "# This gives an accurately-knowable ratio that is *cough* extremely relevant for human health.\n",
    "\n",
    "# But you have to parse two files.. the formats are slightly different and somewhat less detailed..\n",
    "# and you need to query the numerator and the denominator for some properties.. \n",
    "# Hint:  babies born on the weekend are more likely to die than those on weekdays.\n",
    "# and most of that signal is borne by cesarian births.\n"
   ]
  },
  {
   "cell_type": "code",
   "execution_count": null,
   "metadata": {
    "collapsed": true,
    "jupyter": {
     "outputs_hidden": true
    }
   },
   "outputs": [],
   "source": [
    "# ======================================================================="
   ]
  },
  {
   "cell_type": "code",
   "execution_count": 38,
   "metadata": {},
   "outputs": [
    {
     "data": {
      "image/png": "[encoded data removed]",
      "text/plain": [
       "<Figure size 432x288 with 2 Axes>"
      ]
     },
     "metadata": {
      "needs_background": "light"
     },
     "output_type": "display_data"
    }
   ],
   "source": [
    "# Exaggerated-color scale version\n",
    "#  https://matplotlib.org/stable/api/_as_gen/matplotlib.pyplot.savefig.html\n",
    "#  plt.savefig() claims to support PNG, EPS, PDF, and SVG\n",
    "#  It stands to reason they have different optional arguments (resolution, quality, metadata)\n",
    "plt.imshow((apgarapgar/apgarapgar.sum()), norm=LogNorm())\n",
    "plt.ylabel(\"One minute Apgar score\"), plt.xlabel(\"Five minute Apgar score\"); plt.colorbar()\n",
    "plt.savefig(\"APGAR.png\")"
   ]
  },
  {
   "cell_type": "code",
   "execution_count": 39,
   "metadata": {},
   "outputs": [
    {
     "data": {
      "image/png": "[encoded data removed]",
      "text/plain": [
       "<Figure size 432x288 with 2 Axes>"
      ]
     },
     "metadata": {
      "needs_background": "light"
     },
     "output_type": "display_data"
    },
    {
     "data": {
      "image/png": "[encoded data removed]",
      "text/plain": [
       "<Figure size 432x288 with 2 Axes>"
      ]
     },
     "metadata": {
      "needs_background": "light"
     },
     "output_type": "display_data"
    },
    {
     "data": {
      "image/png": "[encoded data removed]",
      "text/plain": [
       "<Figure size 432x288 with 2 Axes>"
      ]
     },
     "metadata": {
      "needs_background": "light"
     },
     "output_type": "display_data"
    },
    {
     "data": {
      "image/png": "[encoded data removed]",
      "text/plain": [
       "<Figure size 432x288 with 2 Axes>"
      ]
     },
     "metadata": {
      "needs_background": "light"
     },
     "output_type": "display_data"
    }
   ],
   "source": [
    "# Let us marginalize over output formats...\n",
    "plt.imshow((apgarapgar/apgarapgar.sum()), norm=LogNorm())\n",
    "plt.ylabel(\"One minute Apgar score\"), plt.xlabel(\"Five minute Apgar score\"); plt.colorbar()\n",
    "plt.savefig(\"APGAR.jpg\")\n",
    "plt.figure()\n",
    "plt.imshow((apgarapgar/apgarapgar.sum()), norm=LogNorm())\n",
    "plt.ylabel(\"One minute Apgar score\"), plt.xlabel(\"Five minute Apgar score\"); plt.colorbar()\n",
    "plt.savefig(\"APGAR.pdf\")\n",
    "plt.figure()\n",
    "plt.imshow((apgarapgar/apgarapgar.sum()), norm=LogNorm())\n",
    "plt.ylabel(\"One minute Apgar score\"), plt.xlabel(\"Five minute Apgar score\"); plt.colorbar()\n",
    "plt.savefig(\"APGAR.eps\")\n",
    "plt.figure()\n",
    "plt.imshow((apgarapgar/apgarapgar.sum()), norm=LogNorm())\n",
    "plt.ylabel(\"One minute Apgar score\"), plt.xlabel(\"Five minute Apgar score\"); plt.colorbar()\n",
    "plt.savefig(\"APGAR.svg\")"
   ]
  },
  {
   "cell_type": "code",
   "execution_count": 40,
   "metadata": {},
   "outputs": [
    {
     "data": {
      "image/png": "[encoded data removed]",
      "text/plain": [
       "<Figure size 432x288 with 2 Axes>"
      ]
     },
     "metadata": {
      "needs_background": "light"
     },
     "output_type": "display_data"
    }
   ],
   "source": [
    "plt.figure()\n",
    "plt.imshow((apgarapgar/apgarapgar.sum()), norm=LogNorm())\n",
    "plt.ylabel(\"One minute Apgar score\"), plt.xlabel(\"Five minute Apgar score\"); plt.colorbar()\n",
    "plt.savefig(\"APGAR300.png\", dpi=300)"
   ]
  },
  {
   "cell_type": "code",
   "execution_count": 41,
   "metadata": {},
   "outputs": [
    {
     "data": {
      "image/png": "[encoded data removed]",
      "text/plain": [
       "<Figure size 432x288 with 2 Axes>"
      ]
     },
     "metadata": {
      "needs_background": "light"
     },
     "output_type": "display_data"
    }
   ],
   "source": [
    "# And this seems to work, though at the cost of file size.   \n",
    "# Make my fonts larger and I'll declare victory\n",
    "\n",
    "plt.figure()\n",
    "plt.imshow((apgarapgar/apgarapgar.sum()), norm=LogNorm())\n",
    "plt.ylabel(\"One minute Apgar score\", fontsize=15), plt.xlabel(\"Five minute Apgar score\", fontsize=15); plt.colorbar()\n",
    "plt.savefig(\"APGAR.eps\")"
   ]
  },
  {
   "cell_type": "code",
   "execution_count": 44,
   "metadata": {},
   "outputs": [
    {
     "data": {
      "image/png": "[encoded data removed]",
      "text/plain": [
       "<Figure size 432x288 with 1 Axes>"
      ]
     },
     "metadata": {
      "needs_background": "light"
     },
     "output_type": "display_data"
    }
   ],
   "source": [
    "fig, ax = plt.subplots()\n",
    "plt.imshow((apgarapgar/apgarapgar.sum()), norm=LogNorm())\n",
    "plt.ylabel(\"One minute Apgar score\", fontsize=15), plt.xlabel(\"Five minute Apgar score\", fontsize=15); \n",
    "plt.xticks(fontsize=13); plt.yticks(fontsize=13)\n",
    "#plt.colorbar(fontsize=13)\n",
    "plt.savefig(\"APGAR.eps\")"
   ]
  },
  {
   "cell_type": "code",
   "execution_count": 47,
   "metadata": {},
   "outputs": [
    {
     "data": {
      "image/png": "[encoded data removed]",
      "text/plain": [
       "<Figure size 432x288 with 2 Axes>"
      ]
     },
     "metadata": {
      "needs_background": "light"
     },
     "output_type": "display_data"
    }
   ],
   "source": [
    "fig, ax = plt.subplots()\n",
    "plt.imshow((apgarapgar/apgarapgar.sum()), norm=LogNorm())\n",
    "plt.ylabel(\"One minute Apgar score\", fontsize=15), plt.xlabel(\"Five minute Apgar score\", fontsize=15); \n",
    "plt.xticks(fontsize=13); plt.yticks(fontsize=13)\n",
    "cb = plt.colorbar()\n",
    "dir(cb)\n",
    "cb.ax.tick_params(labelsize=13) \n",
    "plt.savefig(\"APGAR.eps\")"
   ]
  },
  {
   "cell_type": "code",
   "execution_count": null,
   "metadata": {
    "collapsed": true,
    "jupyter": {
     "outputs_hidden": true
    }
   },
   "outputs": [],
   "source": []
  }
 ],
 "metadata": {
  "kernelspec": {
   "display_name": "Python 3",
   "language": "python",
   "name": "python3"
  },
  "language_info": {
   "codemirror_mode": {
    "name": "ipython",
    "version": 3
   },
   "file_extension": ".py",
   "mimetype": "text/x-python",
   "name": "python",
   "nbconvert_exporter": "python",
   "pygments_lexer": "ipython3",
   "version": "3.8.5"
  }
 },
 "nbformat": 4,
 "nbformat_minor": 4
}
