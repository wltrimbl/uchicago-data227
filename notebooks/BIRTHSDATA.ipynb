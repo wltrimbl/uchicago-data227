{
 "cells": [
  {
   "cell_type": "code",
   "execution_count": 2,
   "metadata": {},
   "outputs": [],
   "source": [
    "import pandas as pd\n",
    "import numpy as np\n",
    "import matplotlib.pyplot as plt\n",
    "n1988 = pd.read_csv(\"~/Downloads/birth/NATL1988.txt\")"
   ]
  },
  {
   "cell_type": "code",
   "execution_count": null,
   "metadata": {},
   "outputs": [],
   "source": [
    "# From the documentation of the detail natality file for 1990 data:\n",
    "# NCHS has adopted a new policy on release of vital statistics unit record\n",
    "# data files.  This new policy was implemented for the 1989 vital event\n",
    "# files to prevent the inadvertent disclosure of individuals and institutions.\n",
    "# As a result, the files for 1989 and later years do not contain the\n",
    "# acutal day or the birth or the dates of birth of the mother or father.\n",
    "# The geographic detail is also restricted...\n",
    "\n",
    "# These datasets are currently distributed by the CDC Vital Satistics Online Portal\n",
    "# https://www.cdc.gov/nchs/data_access/vitalstatsonline.htm\n",
    "\n",
    "# and the NATL1988.zip dataset is \n",
    "# https://ftp.cdc.gov/pub/Health_Statistics/NCHS/Datasets/DVS/natality/Nat1988.zip\n",
    "# with the data dictionary https://ftp.cdc.gov/pub/Health_Statistics/NCHS/Dataset_Documentation/DVS/natality/Nat1988doc.pdf\n"
   ]
  },
  {
   "cell_type": "code",
   "execution_count": null,
   "metadata": {
    "tags": []
   },
   "outputs": [],
   "source": [
    "n1988.head()"
   ]
  },
  {
   "cell_type": "markdown",
   "metadata": {},
   "source": [
    "Pandas thought the first row was a header definition row (which isn't going to work with fixed-with fields like we have here).  I do not want to lose the first row, or call it by its true name, so turn off header parsing:"
   ]
  },
  {
   "cell_type": "code",
   "execution_count": 3,
   "metadata": {},
   "outputs": [],
   "source": [
    "n1988 = pd.read_csv(\"~/Downloads/birth/NATL1988.txt\", header=None)"
   ]
  },
  {
   "cell_type": "code",
   "execution_count": 4,
   "metadata": {},
   "outputs": [
    {
     "data": {
      "text/plain": [
       "Int64Index([0], dtype='int64')"
      ]
     },
     "execution_count": 4,
     "metadata": {},
     "output_type": "execute_result"
    }
   ],
   "source": [
    "n1988.columns"
   ]
  },
  {
   "cell_type": "markdown",
   "metadata": {},
   "source": [
    "Now I have a single column, creatively named \"0\""
   ]
  },
  {
   "cell_type": "code",
   "execution_count": 5,
   "metadata": {},
   "outputs": [
    {
     "data": {
      "text/plain": [
       "0          8010      110100299991771630100263211111231012...\n",
       "1          8010      110100699990002630100663219223160304...\n",
       "2          8010      110100699990002630100663212223241113...\n",
       "3          8010      110100699990002630100663119223241113...\n",
       "4          8010      110100699990002630100663219223261314...\n",
       "                                 ...                        \n",
       "3913788    8520      115101199990002835101183111111190607...\n",
       "3913789    8520      115101199990002835101183119111200709...\n",
       "3913790    8520      115101199990002835101183219111241113...\n",
       "3913791    8520      115101599990002835101583111111291614...\n",
       "3913792    8520      115102099990002835102083231111271414...\n",
       "Name: 0, Length: 3913793, dtype: object"
      ]
     },
     "execution_count": 5,
     "metadata": {},
     "output_type": "execute_result"
    }
   ],
   "source": [
    "n1988[0]"
   ]
  },
  {
   "cell_type": "markdown",
   "metadata": {},
   "source": [
    "And you can see I have an index running from 0 to 3,913,792"
   ]
  },
  {
   "cell_type": "code",
   "execution_count": 6,
   "metadata": {},
   "outputs": [
    {
     "data": {
      "text/plain": [
       "'8010      110100299991771630100263211111231012083320100000220222222 22033374072111101080319742092120831107115043078503011054777707770305126220   111111111102110111111110211   100000941040000 330100301003516012311101'"
      ]
     },
     "execution_count": 6,
     "metadata": {},
     "output_type": "execute_result"
    }
   ],
   "source": [
    "n1988[0][0]"
   ]
  },
  {
   "cell_type": "markdown",
   "metadata": {},
   "source": [
    "Accessing the rows with square brackets works, but I should probably use .loc"
   ]
  },
  {
   "cell_type": "code",
   "execution_count": 8,
   "metadata": {},
   "outputs": [
    {
     "data": {
      "text/plain": [
       "'8010      110100899990151630100863219111200709083320100000220222222 99113005072111101280599734041120839914224033098601605033777707770163101120   111111111102110111111110211   1000007308300991330101501015045011307101'"
      ]
     },
     "execution_count": 8,
     "metadata": {},
     "output_type": "execute_result"
    }
   ],
   "source": [
    "n1988[0].loc[1000]"
   ]
  },
  {
   "cell_type": "markdown",
   "metadata": {},
   "source": [
    "This is a row.. How long is it?"
   ]
  },
  {
   "cell_type": "code",
   "execution_count": 9,
   "metadata": {},
   "outputs": [
    {
     "data": {
      "text/plain": [
       "215"
      ]
     },
     "execution_count": 9,
     "metadata": {},
     "output_type": "execute_result"
    }
   ],
   "source": [
    "len(n1988[0].loc[0])"
   ]
  },
  {
   "cell_type": "code",
   "execution_count": null,
   "metadata": {
    "collapsed": true,
    "jupyter": {
     "outputs_hidden": true
    }
   },
   "outputs": [],
   "source": [
    "# This looks like a row.. can I get columns?"
   ]
  },
  {
   "cell_type": "code",
   "execution_count": 11,
   "metadata": {},
   "outputs": [
    {
     "data": {
      "text/plain": [
       "'7'"
      ]
     },
     "execution_count": 11,
     "metadata": {},
     "output_type": "execute_result"
    }
   ],
   "source": [
    "n1988[0].loc[0][105]"
   ]
  },
  {
   "cell_type": "markdown",
   "metadata": {},
   "source": [
    "It looks like I can access columns with square brackets and a column number."
   ]
  },
  {
   "cell_type": "code",
   "execution_count": 16,
   "metadata": {},
   "outputs": [],
   "source": [
    "# Loop over the data, get the 60th column \"birth order\" and put it in a dataframe.\n",
    "# I'll create an empty list, fill it with strings, and then \n",
    "# convert the list of strings into a dataframe.\n",
    "\n",
    "p = []\n",
    "for i in n1988.index:\n",
    "    p.append(n1988[0].loc[i][60])\n",
    "pf = pd.DataFrame(p)\n",
    "pf.head()"
   ]
  },
  {
   "cell_type": "markdown",
   "metadata": {},
   "source": [
    "Note the data formats.. I created a empty list, filled it with strings, and then converted a list of strings into a dataframe."
   ]
  },
  {
   "cell_type": "code",
   "execution_count": 17,
   "metadata": {},
   "outputs": [
    {
     "data": {
      "text/html": [
       "<div>\n",
       "<style scoped>\n",
       "    .dataframe tbody tr th:only-of-type {\n",
       "        vertical-align: middle;\n",
       "    }\n",
       "\n",
       "    .dataframe tbody tr th {\n",
       "        vertical-align: top;\n",
       "    }\n",
       "\n",
       "    .dataframe thead th {\n",
       "        text-align: right;\n",
       "    }\n",
       "</style>\n",
       "<table border=\"1\" class=\"dataframe\">\n",
       "  <thead>\n",
       "    <tr style=\"text-align: right;\">\n",
       "      <th></th>\n",
       "      <th>0</th>\n",
       "    </tr>\n",
       "  </thead>\n",
       "  <tbody>\n",
       "    <tr>\n",
       "      <th>0</th>\n",
       "      <td>0</td>\n",
       "    </tr>\n",
       "    <tr>\n",
       "      <th>1</th>\n",
       "      <td>0</td>\n",
       "    </tr>\n",
       "    <tr>\n",
       "      <th>2</th>\n",
       "      <td>0</td>\n",
       "    </tr>\n",
       "    <tr>\n",
       "      <th>3</th>\n",
       "      <td>0</td>\n",
       "    </tr>\n",
       "    <tr>\n",
       "      <th>4</th>\n",
       "      <td>0</td>\n",
       "    </tr>\n",
       "  </tbody>\n",
       "</table>\n",
       "</div>"
      ],
      "text/plain": [
       "   0\n",
       "0  0\n",
       "1  0\n",
       "2  0\n",
       "3  0\n",
       "4  0"
      ]
     },
     "execution_count": 17,
     "metadata": {},
     "output_type": "execute_result"
    }
   ],
   "source": [
    "pf.head()"
   ]
  },
  {
   "cell_type": "code",
   "execution_count": 18,
   "metadata": {},
   "outputs": [
    {
     "data": {
      "text/plain": [
       "0    3887285\n",
       "9      22050\n",
       "1       4443\n",
       "2         14\n",
       "3          1\n",
       "dtype: int64"
      ]
     },
     "execution_count": 18,
     "metadata": {},
     "output_type": "execute_result"
    }
   ],
   "source": [
    "pf.value_counts()"
   ]
  },
  {
   "cell_type": "code",
   "execution_count": null,
   "metadata": {
    "collapsed": true,
    "jupyter": {
     "outputs_hidden": true
    }
   },
   "outputs": [],
   "source": [
    "# This does not look right.  \n",
    "# This does not look like column 60, birth order, but\n",
    "# Column 61, the tens place of \"detail live birth order\"\n",
    "#  OK.  This is the python-starts-at-zero property."
   ]
  },
  {
   "cell_type": "code",
   "execution_count": 19,
   "metadata": {},
   "outputs": [],
   "source": [
    "# Loop over the data, get column 60 (total birth order recode 9) and \n",
    "# 41-42  (age of mother single years recode 36)  and put it in a dataframe.\n",
    "p = []\n",
    "q = []\n",
    "for i in n1988.index:\n",
    "    p.append(n1988[0][i][60-1])\n",
    "    q.append(n1988[0][i][(41-1):(42-1+1)])\n",
    "\n",
    "pf = pd.DataFrame({\"BIRTHORDER\": p, \"MATERNALAGE\":q})"
   ]
  },
  {
   "cell_type": "code",
   "execution_count": 20,
   "metadata": {},
   "outputs": [
    {
     "data": {
      "text/html": [
       "<div>\n",
       "<style scoped>\n",
       "    .dataframe tbody tr th:only-of-type {\n",
       "        vertical-align: middle;\n",
       "    }\n",
       "\n",
       "    .dataframe tbody tr th {\n",
       "        vertical-align: top;\n",
       "    }\n",
       "\n",
       "    .dataframe thead th {\n",
       "        text-align: right;\n",
       "    }\n",
       "</style>\n",
       "<table border=\"1\" class=\"dataframe\">\n",
       "  <thead>\n",
       "    <tr style=\"text-align: right;\">\n",
       "      <th></th>\n",
       "      <th>BIRTHORDER</th>\n",
       "      <th>MATERNALAGE</th>\n",
       "    </tr>\n",
       "  </thead>\n",
       "  <tbody>\n",
       "    <tr>\n",
       "      <th>0</th>\n",
       "      <td>2</td>\n",
       "      <td>23</td>\n",
       "    </tr>\n",
       "    <tr>\n",
       "      <th>1</th>\n",
       "      <td>1</td>\n",
       "      <td>16</td>\n",
       "    </tr>\n",
       "    <tr>\n",
       "      <th>2</th>\n",
       "      <td>3</td>\n",
       "      <td>24</td>\n",
       "    </tr>\n",
       "    <tr>\n",
       "      <th>3</th>\n",
       "      <td>1</td>\n",
       "      <td>24</td>\n",
       "    </tr>\n",
       "    <tr>\n",
       "      <th>4</th>\n",
       "      <td>4</td>\n",
       "      <td>26</td>\n",
       "    </tr>\n",
       "  </tbody>\n",
       "</table>\n",
       "</div>"
      ],
      "text/plain": [
       "  BIRTHORDER MATERNALAGE\n",
       "0          2          23\n",
       "1          1          16\n",
       "2          3          24\n",
       "3          1          24\n",
       "4          4          26"
      ]
     },
     "execution_count": 20,
     "metadata": {},
     "output_type": "execute_result"
    }
   ],
   "source": [
    "pf.head()"
   ]
  },
  {
   "cell_type": "code",
   "execution_count": 21,
   "metadata": {},
   "outputs": [
    {
     "data": {
      "text/plain": [
       "1    1319967\n",
       "2    1179514\n",
       "3     723091\n",
       "4     354349\n",
       "5     163387\n",
       "6      74283\n",
       "8      37513\n",
       "7      35460\n",
       "9      26229\n",
       "Name: BIRTHORDER, dtype: int64"
      ]
     },
     "execution_count": 21,
     "metadata": {},
     "output_type": "execute_result"
    }
   ],
   "source": [
    "pf[\"BIRTHORDER\"].value_counts()"
   ]
  },
  {
   "cell_type": "code",
   "execution_count": 22,
   "metadata": {},
   "outputs": [
    {
     "data": {
      "text/plain": [
       "27    256243\n",
       "26    255604\n",
       "25    251485\n",
       "28    245423\n",
       "24    241980\n",
       "29    232004\n",
       "23    228896\n",
       "22    212940\n",
       "30    212852\n",
       "21    199385\n",
       "31    185984\n",
       "20    185349\n",
       "19    168485\n",
       "32    160421\n",
       "33    134290\n",
       "18    133487\n",
       "34    110971\n",
       "17     95932\n",
       "35     88625\n",
       "36     68112\n",
       "16     55186\n",
       "37     50907\n",
       "38     36545\n",
       "39     25657\n",
       "15     25611\n",
       "40     17491\n",
       "41     11305\n",
       "14      8511\n",
       "42      5845\n",
       "43      3121\n",
       "13      1804\n",
       "44      1639\n",
       "45       772\n",
       "46       390\n",
       "12       223\n",
       "47       137\n",
       "48        88\n",
       "49        42\n",
       "11        36\n",
       "10        15\n",
       "Name: MATERNALAGE, dtype: int64"
      ]
     },
     "execution_count": 22,
     "metadata": {},
     "output_type": "execute_result"
    }
   ],
   "source": [
    "pf.MATERNALAGE.value_counts()"
   ]
  },
  {
   "cell_type": "code",
   "execution_count": 400,
   "metadata": {
    "collapsed": true,
    "jupyter": {
     "outputs_hidden": true
    }
   },
   "outputs": [
    {
     "data": {
      "text/plain": [
       "['T',\n",
       " '_AXIS_LEN',\n",
       " '_AXIS_NAMES',\n",
       " '_AXIS_NUMBERS',\n",
       " '_AXIS_ORDERS',\n",
       " '_AXIS_REVERSED',\n",
       " '_AXIS_TO_AXIS_NUMBER',\n",
       " '_HANDLED_TYPES',\n",
       " '__abs__',\n",
       " '__add__',\n",
       " '__and__',\n",
       " '__annotations__',\n",
       " '__array__',\n",
       " '__array_priority__',\n",
       " '__array_ufunc__',\n",
       " '__array_wrap__',\n",
       " '__bool__',\n",
       " '__class__',\n",
       " '__contains__',\n",
       " '__copy__',\n",
       " '__deepcopy__',\n",
       " '__delattr__',\n",
       " '__delitem__',\n",
       " '__dict__',\n",
       " '__dir__',\n",
       " '__div__',\n",
       " '__divmod__',\n",
       " '__doc__',\n",
       " '__eq__',\n",
       " '__finalize__',\n",
       " '__float__',\n",
       " '__floordiv__',\n",
       " '__format__',\n",
       " '__ge__',\n",
       " '__getattr__',\n",
       " '__getattribute__',\n",
       " '__getitem__',\n",
       " '__getstate__',\n",
       " '__gt__',\n",
       " '__hash__',\n",
       " '__iadd__',\n",
       " '__iand__',\n",
       " '__ifloordiv__',\n",
       " '__imod__',\n",
       " '__imul__',\n",
       " '__init__',\n",
       " '__init_subclass__',\n",
       " '__int__',\n",
       " '__invert__',\n",
       " '__ior__',\n",
       " '__ipow__',\n",
       " '__isub__',\n",
       " '__iter__',\n",
       " '__itruediv__',\n",
       " '__ixor__',\n",
       " '__le__',\n",
       " '__len__',\n",
       " '__long__',\n",
       " '__lt__',\n",
       " '__matmul__',\n",
       " '__mod__',\n",
       " '__module__',\n",
       " '__mul__',\n",
       " '__ne__',\n",
       " '__neg__',\n",
       " '__new__',\n",
       " '__nonzero__',\n",
       " '__or__',\n",
       " '__pos__',\n",
       " '__pow__',\n",
       " '__radd__',\n",
       " '__rand__',\n",
       " '__rdiv__',\n",
       " '__rdivmod__',\n",
       " '__reduce__',\n",
       " '__reduce_ex__',\n",
       " '__repr__',\n",
       " '__rfloordiv__',\n",
       " '__rmatmul__',\n",
       " '__rmod__',\n",
       " '__rmul__',\n",
       " '__ror__',\n",
       " '__round__',\n",
       " '__rpow__',\n",
       " '__rsub__',\n",
       " '__rtruediv__',\n",
       " '__rxor__',\n",
       " '__setattr__',\n",
       " '__setitem__',\n",
       " '__setstate__',\n",
       " '__sizeof__',\n",
       " '__str__',\n",
       " '__sub__',\n",
       " '__subclasshook__',\n",
       " '__truediv__',\n",
       " '__weakref__',\n",
       " '__xor__',\n",
       " '_accessors',\n",
       " '_add_numeric_operations',\n",
       " '_add_series_or_dataframe_operations',\n",
       " '_agg_by_level',\n",
       " '_agg_examples_doc',\n",
       " '_agg_see_also_doc',\n",
       " '_aggregate',\n",
       " '_aggregate_multiple_funcs',\n",
       " '_align_frame',\n",
       " '_align_series',\n",
       " '_binop',\n",
       " '_builtin_table',\n",
       " '_can_hold_na',\n",
       " '_check_inplace_setting',\n",
       " '_check_is_chained_assignment_possible',\n",
       " '_check_label_or_level_ambiguity',\n",
       " '_check_setitem_copy',\n",
       " '_clear_item_cache',\n",
       " '_clip_with_one_bound',\n",
       " '_clip_with_scalar',\n",
       " '_consolidate',\n",
       " '_consolidate_inplace',\n",
       " '_construct_axes_dict',\n",
       " '_construct_axes_from_arguments',\n",
       " '_construct_result',\n",
       " '_constructor',\n",
       " '_constructor_expanddim',\n",
       " '_constructor_sliced',\n",
       " '_convert',\n",
       " '_convert_dtypes',\n",
       " '_cython_table',\n",
       " '_data',\n",
       " '_deprecations',\n",
       " '_dir_additions',\n",
       " '_dir_deletions',\n",
       " '_drop_axis',\n",
       " '_drop_labels_or_levels',\n",
       " '_find_valid_index',\n",
       " '_get_axis',\n",
       " '_get_axis_name',\n",
       " '_get_axis_number',\n",
       " '_get_axis_resolvers',\n",
       " '_get_block_manager_axis',\n",
       " '_get_bool_data',\n",
       " '_get_cacher',\n",
       " '_get_cleaned_column_resolvers',\n",
       " '_get_cython_func',\n",
       " '_get_index_resolvers',\n",
       " '_get_item_cache',\n",
       " '_get_label_or_level_values',\n",
       " '_get_numeric_data',\n",
       " '_get_value',\n",
       " '_get_values',\n",
       " '_get_values_tuple',\n",
       " '_get_with',\n",
       " '_gotitem',\n",
       " '_index',\n",
       " '_indexed_same',\n",
       " '_info_axis',\n",
       " '_info_axis_name',\n",
       " '_info_axis_number',\n",
       " '_init_dict',\n",
       " '_init_mgr',\n",
       " '_internal_names',\n",
       " '_internal_names_set',\n",
       " '_is_builtin_func',\n",
       " '_is_cached',\n",
       " '_is_copy',\n",
       " '_is_label_or_level_reference',\n",
       " '_is_label_reference',\n",
       " '_is_level_reference',\n",
       " '_is_mixed_type',\n",
       " '_is_view',\n",
       " '_iset_item',\n",
       " '_ix',\n",
       " '_ixs',\n",
       " '_map_values',\n",
       " '_maybe_cache_changed',\n",
       " '_maybe_update_cacher',\n",
       " '_metadata',\n",
       " '_needs_reindex_multi',\n",
       " '_obj_with_exclusions',\n",
       " '_protect_consolidate',\n",
       " '_reduce',\n",
       " '_reindex_axes',\n",
       " '_reindex_indexer',\n",
       " '_reindex_multi',\n",
       " '_reindex_with_indexers',\n",
       " '_repr_data_resource_',\n",
       " '_repr_latex_',\n",
       " '_reset_cache',\n",
       " '_reset_cacher',\n",
       " '_selected_obj',\n",
       " '_selection',\n",
       " '_selection_list',\n",
       " '_selection_name',\n",
       " '_set_as_cached',\n",
       " '_set_axis',\n",
       " '_set_axis_name',\n",
       " '_set_is_copy',\n",
       " '_set_item',\n",
       " '_set_name',\n",
       " '_set_value',\n",
       " '_set_with',\n",
       " '_set_with_engine',\n",
       " '_slice',\n",
       " '_stat_axis',\n",
       " '_stat_axis_name',\n",
       " '_stat_axis_number',\n",
       " '_take_with_is_copy',\n",
       " '_to_dict_of_blocks',\n",
       " '_try_aggregate_string_function',\n",
       " '_typ',\n",
       " '_update_inplace',\n",
       " '_validate_dtype',\n",
       " '_values',\n",
       " '_where',\n",
       " 'abs',\n",
       " 'add',\n",
       " 'add_prefix',\n",
       " 'add_suffix',\n",
       " 'agg',\n",
       " 'aggregate',\n",
       " 'align',\n",
       " 'all',\n",
       " 'any',\n",
       " 'append',\n",
       " 'apply',\n",
       " 'argmax',\n",
       " 'argmin',\n",
       " 'argsort',\n",
       " 'array',\n",
       " 'asfreq',\n",
       " 'asof',\n",
       " 'astype',\n",
       " 'at',\n",
       " 'at_time',\n",
       " 'attrs',\n",
       " 'autocorr',\n",
       " 'axes',\n",
       " 'backfill',\n",
       " 'between',\n",
       " 'between_time',\n",
       " 'bfill',\n",
       " 'bool',\n",
       " 'clip',\n",
       " 'combine',\n",
       " 'combine_first',\n",
       " 'compare',\n",
       " 'convert_dtypes',\n",
       " 'copy',\n",
       " 'corr',\n",
       " 'count',\n",
       " 'cov',\n",
       " 'cummax',\n",
       " 'cummin',\n",
       " 'cumprod',\n",
       " 'cumsum',\n",
       " 'describe',\n",
       " 'diff',\n",
       " 'div',\n",
       " 'divide',\n",
       " 'divmod',\n",
       " 'dot',\n",
       " 'drop',\n",
       " 'drop_duplicates',\n",
       " 'droplevel',\n",
       " 'dropna',\n",
       " 'dtype',\n",
       " 'dtypes',\n",
       " 'duplicated',\n",
       " 'empty',\n",
       " 'eq',\n",
       " 'equals',\n",
       " 'ewm',\n",
       " 'expanding',\n",
       " 'explode',\n",
       " 'factorize',\n",
       " 'ffill',\n",
       " 'fillna',\n",
       " 'filter',\n",
       " 'first',\n",
       " 'first_valid_index',\n",
       " 'floordiv',\n",
       " 'ge',\n",
       " 'get',\n",
       " 'groupby',\n",
       " 'gt',\n",
       " 'hasnans',\n",
       " 'head',\n",
       " 'hist',\n",
       " 'iat',\n",
       " 'idxmax',\n",
       " 'idxmin',\n",
       " 'iloc',\n",
       " 'index',\n",
       " 'infer_objects',\n",
       " 'interpolate',\n",
       " 'is_monotonic',\n",
       " 'is_monotonic_decreasing',\n",
       " 'is_monotonic_increasing',\n",
       " 'is_unique',\n",
       " 'isin',\n",
       " 'isna',\n",
       " 'isnull',\n",
       " 'item',\n",
       " 'items',\n",
       " 'iteritems',\n",
       " 'keys',\n",
       " 'kurt',\n",
       " 'kurtosis',\n",
       " 'last',\n",
       " 'last_valid_index',\n",
       " 'le',\n",
       " 'loc',\n",
       " 'lt',\n",
       " 'mad',\n",
       " 'map',\n",
       " 'mask',\n",
       " 'max',\n",
       " 'mean',\n",
       " 'median',\n",
       " 'memory_usage',\n",
       " 'min',\n",
       " 'mod',\n",
       " 'mode',\n",
       " 'mul',\n",
       " 'multiply',\n",
       " 'name',\n",
       " 'nbytes',\n",
       " 'ndim',\n",
       " 'ne',\n",
       " 'nlargest',\n",
       " 'notna',\n",
       " 'notnull',\n",
       " 'nsmallest',\n",
       " 'nunique',\n",
       " 'pad',\n",
       " 'pct_change',\n",
       " 'pipe',\n",
       " 'plot',\n",
       " 'pop',\n",
       " 'pow',\n",
       " 'prod',\n",
       " 'product',\n",
       " 'quantile',\n",
       " 'radd',\n",
       " 'rank',\n",
       " 'ravel',\n",
       " 'rdiv',\n",
       " 'rdivmod',\n",
       " 'reindex',\n",
       " 'reindex_like',\n",
       " 'rename',\n",
       " 'rename_axis',\n",
       " 'reorder_levels',\n",
       " 'repeat',\n",
       " 'replace',\n",
       " 'resample',\n",
       " 'reset_index',\n",
       " 'rfloordiv',\n",
       " 'rmod',\n",
       " 'rmul',\n",
       " 'rolling',\n",
       " 'round',\n",
       " 'rpow',\n",
       " 'rsub',\n",
       " 'rtruediv',\n",
       " 'sample',\n",
       " 'searchsorted',\n",
       " 'sem',\n",
       " 'set_axis',\n",
       " 'shape',\n",
       " 'shift',\n",
       " 'size',\n",
       " 'skew',\n",
       " 'slice_shift',\n",
       " 'sort_index',\n",
       " 'sort_values',\n",
       " 'squeeze',\n",
       " 'std',\n",
       " 'sub',\n",
       " 'subtract',\n",
       " 'sum',\n",
       " 'swapaxes',\n",
       " 'swaplevel',\n",
       " 'tail',\n",
       " 'take',\n",
       " 'to_clipboard',\n",
       " 'to_csv',\n",
       " 'to_dict',\n",
       " 'to_excel',\n",
       " 'to_frame',\n",
       " 'to_hdf',\n",
       " 'to_json',\n",
       " 'to_latex',\n",
       " 'to_list',\n",
       " 'to_markdown',\n",
       " 'to_numpy',\n",
       " 'to_period',\n",
       " 'to_pickle',\n",
       " 'to_sql',\n",
       " 'to_string',\n",
       " 'to_timestamp',\n",
       " 'to_xarray',\n",
       " 'transform',\n",
       " 'transpose',\n",
       " 'truediv',\n",
       " 'truncate',\n",
       " 'tz_convert',\n",
       " 'tz_localize',\n",
       " 'unique',\n",
       " 'unstack',\n",
       " 'update',\n",
       " 'value_counts',\n",
       " 'values',\n",
       " 'var',\n",
       " 'view',\n",
       " 'where',\n",
       " 'xs']"
      ]
     },
     "execution_count": 400,
     "metadata": {},
     "output_type": "execute_result"
    }
   ],
   "source": [
    "dir(pf.MATERNALAGE.value_counts())"
   ]
  },
  {
   "cell_type": "code",
   "execution_count": 23,
   "metadata": {},
   "outputs": [
    {
     "data": {
      "text/plain": [
       "array([256243, 255604, 251485, 245423, 241980, 232004, 228896, 212940,\n",
       "       212852, 199385, 185984, 185349, 168485, 160421, 134290, 133487,\n",
       "       110971,  95932,  88625,  68112,  55186,  50907,  36545,  25657,\n",
       "        25611,  17491,  11305,   8511,   5845,   3121,   1804,   1639,\n",
       "          772,    390,    223,    137,     88,     42,     36,     15])"
      ]
     },
     "execution_count": 23,
     "metadata": {},
     "output_type": "execute_result"
    }
   ],
   "source": [
    "pf.MATERNALAGE.value_counts().values"
   ]
  },
  {
   "cell_type": "code",
   "execution_count": 25,
   "metadata": {},
   "outputs": [
    {
     "data": {
      "text/plain": [
       "<BarContainer object of 9 artists>"
      ]
     },
     "execution_count": 25,
     "metadata": {},
     "output_type": "execute_result"
    },
    {
     "data": {
      "image/png": "[encoded data removed]",
      "text/plain": [
       "<Figure size 432x288 with 1 Axes>"
      ]
     },
     "metadata": {
      "needs_background": "light"
     },
     "output_type": "display_data"
    }
   ],
   "source": [
    "plt.bar(pf[\"BIRTHORDER\"].value_counts().index, pf[\"BIRTHORDER\"].value_counts().values)"
   ]
  },
  {
   "cell_type": "code",
   "execution_count": 26,
   "metadata": {},
   "outputs": [
    {
     "data": {
      "text/plain": [
       "Text(0.5, 0, 'Birth order')"
      ]
     },
     "execution_count": 26,
     "metadata": {},
     "output_type": "execute_result"
    },
    {
     "data": {
      "image/png": "[encoded data removed]",
      "text/plain": [
       "<Figure size 432x288 with 1 Axes>"
      ]
     },
     "metadata": {
      "needs_background": "light"
     },
     "output_type": "display_data"
    }
   ],
   "source": [
    "plt.xlabel(\"Birth order\")"
   ]
  },
  {
   "cell_type": "code",
   "execution_count": 95,
   "metadata": {
    "collapsed": true,
    "jupyter": {
     "outputs_hidden": true
    }
   },
   "outputs": [],
   "source": [
    "p = []\n",
    "q = []\n",
    "for i in n1988.index:\n",
    "    p.append(n1988[0][i][60-1])\n",
    "    q.append(n1988[0][i][(41-1):(42-1+1)])\n",
    "\n",
    "pf = pd.DataFrame({\"BIRTHORDER\": p, \"MATERNALAGE\":q})"
   ]
  },
  {
   "cell_type": "code",
   "execution_count": 27,
   "metadata": {},
   "outputs": [],
   "source": [
    "# Loop over the data, get columns 84-87 (month and date of birth)\n",
    "# and put it in a dataframe.\n",
    "p = []\n",
    "q = []\n",
    "for i in n1988.index:\n",
    "    p.append(n1988[0][i][(84-1):(85-1+1)]) # MONTH\n",
    "    q.append(n1988[0][i][(86-1):(87-1+1)]) # DAY\n",
    "birthdate = pd.DataFrame({\"MONTH\": p, \"DAY\":q})"
   ]
  },
  {
   "cell_type": "code",
   "execution_count": 28,
   "metadata": {},
   "outputs": [
    {
     "data": {
      "text/plain": [
       "08    354599\n",
       "09    347277\n",
       "07    346831\n",
       "10    331633\n",
       "06    329222\n",
       "05    326281\n",
       "12    322327\n",
       "03    322243\n",
       "11    314666\n",
       "01    310500\n",
       "04    309463\n",
       "02    298751\n",
       "Name: MONTH, dtype: int64"
      ]
     },
     "execution_count": 28,
     "metadata": {},
     "output_type": "execute_result"
    }
   ],
   "source": [
    "birthdate.MONTH.value_counts()"
   ]
  },
  {
   "cell_type": "code",
   "execution_count": 29,
   "metadata": {},
   "outputs": [
    {
     "data": {
      "text/plain": [
       "02    298751\n",
       "04    309463\n",
       "01    310500\n",
       "11    314666\n",
       "03    322243\n",
       "12    322327\n",
       "05    326281\n",
       "06    329222\n",
       "10    331633\n",
       "07    346831\n",
       "09    347277\n",
       "08    354599\n",
       "Name: MONTH, dtype: int64"
      ]
     },
     "execution_count": 29,
     "metadata": {},
     "output_type": "execute_result"
    }
   ],
   "source": [
    "months = birthdate.MONTH.value_counts().sort_values()\n",
    "months"
   ]
  },
  {
   "cell_type": "code",
   "execution_count": 30,
   "metadata": {},
   "outputs": [
    {
     "data": {
      "text/plain": [
       "02    298751\n",
       "04    309463\n",
       "01    310500\n",
       "11    314666\n",
       "03    322243\n",
       "12    322327\n",
       "05    326281\n",
       "06    329222\n",
       "10    331633\n",
       "07    346831\n",
       "09    347277\n",
       "08    354599\n",
       "Name: MONTH, dtype: int64"
      ]
     },
     "execution_count": 30,
     "metadata": {},
     "output_type": "execute_result"
    }
   ],
   "source": [
    "months = birthdate.MONTH.value_counts().sort_values(\"index\")\n",
    "months"
   ]
  },
  {
   "cell_type": "code",
   "execution_count": 31,
   "metadata": {},
   "outputs": [
    {
     "data": {
      "text/plain": [
       "01    310500\n",
       "02    298751\n",
       "03    322243\n",
       "04    309463\n",
       "05    326281\n",
       "06    329222\n",
       "07    346831\n",
       "08    354599\n",
       "09    347277\n",
       "10    331633\n",
       "11    314666\n",
       "12    322327\n",
       "Name: MONTH, dtype: int64"
      ]
     },
     "execution_count": 31,
     "metadata": {},
     "output_type": "execute_result"
    }
   ],
   "source": [
    "months = birthdate.MONTH.value_counts().sort_index()\n",
    "months"
   ]
  },
  {
   "cell_type": "code",
   "execution_count": 32,
   "metadata": {},
   "outputs": [
    {
     "data": {
      "text/plain": [
       "<BarContainer object of 12 artists>"
      ]
     },
     "execution_count": 32,
     "metadata": {},
     "output_type": "execute_result"
    },
    {
     "data": {
      "image/png": "[encoded data removed]",
      "text/plain": [
       "<Figure size 432x288 with 1 Axes>"
      ]
     },
     "metadata": {
      "needs_background": "light"
     },
     "output_type": "display_data"
    }
   ],
   "source": [
    "plt.bar(months.index, months.values)"
   ]
  },
  {
   "cell_type": "code",
   "execution_count": 33,
   "metadata": {},
   "outputs": [
    {
     "data": {
      "text/plain": [
       "01    129940\n",
       "02    126943\n",
       "03    123604\n",
       "04    125798\n",
       "05    126746\n",
       "06    127817\n",
       "07    129599\n",
       "08    132952\n",
       "09    127886\n",
       "10    124794\n",
       "11    128938\n",
       "12    130094\n",
       "13    125315\n",
       "14    129524\n",
       "15    132883\n",
       "16    129031\n",
       "17    125259\n",
       "18    130035\n",
       "19    130720\n",
       "20    129787\n",
       "21    129716\n",
       "22    133094\n",
       "23    127370\n",
       "24    121460\n",
       "25    127612\n",
       "26    128610\n",
       "27    127819\n",
       "28    130629\n",
       "29    131792\n",
       "30    116662\n",
       "31     71357\n",
       "99         7\n",
       "Name: DAY, dtype: int64"
      ]
     },
     "execution_count": 33,
     "metadata": {},
     "output_type": "execute_result"
    }
   ],
   "source": [
    "days = birthdate.DAY.value_counts().sort_index()\n",
    "days"
   ]
  },
  {
   "cell_type": "code",
   "execution_count": 34,
   "metadata": {},
   "outputs": [
    {
     "data": {
      "text/plain": [
       "<BarContainer object of 32 artists>"
      ]
     },
     "execution_count": 34,
     "metadata": {},
     "output_type": "execute_result"
    },
    {
     "data": {
      "image/png": "[encoded data removed]",
      "text/plain": [
       "<Figure size 432x288 with 1 Axes>"
      ]
     },
     "metadata": {
      "needs_background": "light"
     },
     "output_type": "display_data"
    }
   ],
   "source": [
    "plt.bar(days.index, days)"
   ]
  },
  {
   "cell_type": "code",
   "execution_count": 35,
   "metadata": {},
   "outputs": [
    {
     "data": {
      "text/plain": [
       "<BarContainer object of 32 artists>"
      ]
     },
     "execution_count": 35,
     "metadata": {},
     "output_type": "execute_result"
    },
    {
     "data": {
      "image/png": "[encoded data removed]",
      "text/plain": [
       "<Figure size 1080x720 with 1 Axes>"
      ]
     },
     "metadata": {
      "needs_background": "light"
     },
     "output_type": "display_data"
    }
   ],
   "source": [
    "plt.figure(figsize=(15,10))\n",
    "plt.bar(days.index, days)"
   ]
  },
  {
   "cell_type": "code",
   "execution_count": 36,
   "metadata": {},
   "outputs": [
    {
     "data": {
      "text/plain": [
       "Timestamp('1988-01-01 00:00:00')"
      ]
     },
     "execution_count": 36,
     "metadata": {},
     "output_type": "execute_result"
    }
   ],
   "source": [
    "pd.to_datetime(\"1988-01-01\")"
   ]
  },
  {
   "cell_type": "code",
   "execution_count": 37,
   "metadata": {},
   "outputs": [
    {
     "data": {
      "text/html": [
       "<div>\n",
       "<style scoped>\n",
       "    .dataframe tbody tr th:only-of-type {\n",
       "        vertical-align: middle;\n",
       "    }\n",
       "\n",
       "    .dataframe tbody tr th {\n",
       "        vertical-align: top;\n",
       "    }\n",
       "\n",
       "    .dataframe thead th {\n",
       "        text-align: right;\n",
       "    }\n",
       "</style>\n",
       "<table border=\"1\" class=\"dataframe\">\n",
       "  <thead>\n",
       "    <tr style=\"text-align: right;\">\n",
       "      <th></th>\n",
       "      <th>MONTH</th>\n",
       "      <th>DAY</th>\n",
       "    </tr>\n",
       "  </thead>\n",
       "  <tbody>\n",
       "    <tr>\n",
       "      <th>0</th>\n",
       "      <td>01</td>\n",
       "      <td>08</td>\n",
       "    </tr>\n",
       "    <tr>\n",
       "      <th>1</th>\n",
       "      <td>01</td>\n",
       "      <td>01</td>\n",
       "    </tr>\n",
       "    <tr>\n",
       "      <th>2</th>\n",
       "      <td>01</td>\n",
       "      <td>07</td>\n",
       "    </tr>\n",
       "    <tr>\n",
       "      <th>3</th>\n",
       "      <td>01</td>\n",
       "      <td>06</td>\n",
       "    </tr>\n",
       "    <tr>\n",
       "      <th>4</th>\n",
       "      <td>01</td>\n",
       "      <td>01</td>\n",
       "    </tr>\n",
       "  </tbody>\n",
       "</table>\n",
       "</div>"
      ],
      "text/plain": [
       "  MONTH DAY\n",
       "0    01  08\n",
       "1    01  01\n",
       "2    01  07\n",
       "3    01  06\n",
       "4    01  01"
      ]
     },
     "execution_count": 37,
     "metadata": {},
     "output_type": "execute_result"
    }
   ],
   "source": [
    "birthdate.head()"
   ]
  },
  {
   "cell_type": "markdown",
   "metadata": {},
   "source": [
    "I'm pretty sure I'm going to need to change these into a time format to make good use of them.  Let us construct an ISO-8601-compliant string like 1988-01-02 and add it as a new column."
   ]
  },
  {
   "cell_type": "code",
   "execution_count": 40,
   "metadata": {},
   "outputs": [
    {
     "ename": "ParserError",
     "evalue": "day is out of range for month: 19881099",
     "output_type": "error",
     "traceback": [
      "\u001b[0;31m---------------------------------------------------------------------------\u001b[0m",
      "\u001b[0;31mValueError\u001b[0m                                Traceback (most recent call last)",
      "\u001b[0;32m/Applications/anaconda3/lib/python3.8/site-packages/dateutil/parser/_parser.py\u001b[0m in \u001b[0;36mparse\u001b[0;34m(self, timestr, default, ignoretz, tzinfos, **kwargs)\u001b[0m\n\u001b[1;32m    654\u001b[0m         \u001b[0;32mtry\u001b[0m\u001b[0;34m:\u001b[0m\u001b[0;34m\u001b[0m\u001b[0;34m\u001b[0m\u001b[0m\n\u001b[0;32m--> 655\u001b[0;31m             \u001b[0mret\u001b[0m \u001b[0;34m=\u001b[0m \u001b[0mself\u001b[0m\u001b[0;34m.\u001b[0m\u001b[0m_build_naive\u001b[0m\u001b[0;34m(\u001b[0m\u001b[0mres\u001b[0m\u001b[0;34m,\u001b[0m \u001b[0mdefault\u001b[0m\u001b[0;34m)\u001b[0m\u001b[0;34m\u001b[0m\u001b[0;34m\u001b[0m\u001b[0m\n\u001b[0m\u001b[1;32m    656\u001b[0m         \u001b[0;32mexcept\u001b[0m \u001b[0mValueError\u001b[0m \u001b[0;32mas\u001b[0m \u001b[0me\u001b[0m\u001b[0;34m:\u001b[0m\u001b[0;34m\u001b[0m\u001b[0;34m\u001b[0m\u001b[0m\n",
      "\u001b[0;32m/Applications/anaconda3/lib/python3.8/site-packages/dateutil/parser/_parser.py\u001b[0m in \u001b[0;36m_build_naive\u001b[0;34m(self, res, default)\u001b[0m\n\u001b[1;32m   1240\u001b[0m \u001b[0;34m\u001b[0m\u001b[0m\n\u001b[0;32m-> 1241\u001b[0;31m         \u001b[0mnaive\u001b[0m \u001b[0;34m=\u001b[0m \u001b[0mdefault\u001b[0m\u001b[0;34m.\u001b[0m\u001b[0mreplace\u001b[0m\u001b[0;34m(\u001b[0m\u001b[0;34m**\u001b[0m\u001b[0mrepl\u001b[0m\u001b[0;34m)\u001b[0m\u001b[0;34m\u001b[0m\u001b[0;34m\u001b[0m\u001b[0m\n\u001b[0m\u001b[1;32m   1242\u001b[0m \u001b[0;34m\u001b[0m\u001b[0m\n",
      "\u001b[0;31mValueError\u001b[0m: day is out of range for month",
      "\nThe above exception was the direct cause of the following exception:\n",
      "\u001b[0;31mParserError\u001b[0m                               Traceback (most recent call last)",
      "\u001b[0;32mpandas/_libs/tslib.pyx\u001b[0m in \u001b[0;36mpandas._libs.tslib.array_to_datetime\u001b[0;34m()\u001b[0m\n",
      "\u001b[0;32mpandas/_libs/tslibs/parsing.pyx\u001b[0m in \u001b[0;36mpandas._libs.tslibs.parsing.parse_datetime_string\u001b[0;34m()\u001b[0m\n",
      "\u001b[0;32m/Applications/anaconda3/lib/python3.8/site-packages/dateutil/parser/_parser.py\u001b[0m in \u001b[0;36mparse\u001b[0;34m(timestr, parserinfo, **kwargs)\u001b[0m\n\u001b[1;32m   1373\u001b[0m     \u001b[0;32melse\u001b[0m\u001b[0;34m:\u001b[0m\u001b[0;34m\u001b[0m\u001b[0;34m\u001b[0m\u001b[0m\n\u001b[0;32m-> 1374\u001b[0;31m         \u001b[0;32mreturn\u001b[0m \u001b[0mDEFAULTPARSER\u001b[0m\u001b[0;34m.\u001b[0m\u001b[0mparse\u001b[0m\u001b[0;34m(\u001b[0m\u001b[0mtimestr\u001b[0m\u001b[0;34m,\u001b[0m \u001b[0;34m**\u001b[0m\u001b[0mkwargs\u001b[0m\u001b[0;34m)\u001b[0m\u001b[0;34m\u001b[0m\u001b[0;34m\u001b[0m\u001b[0m\n\u001b[0m\u001b[1;32m   1375\u001b[0m \u001b[0;34m\u001b[0m\u001b[0m\n",
      "\u001b[0;32m/Applications/anaconda3/lib/python3.8/site-packages/dateutil/parser/_parser.py\u001b[0m in \u001b[0;36mparse\u001b[0;34m(self, timestr, default, ignoretz, tzinfos, **kwargs)\u001b[0m\n\u001b[1;32m    656\u001b[0m         \u001b[0;32mexcept\u001b[0m \u001b[0mValueError\u001b[0m \u001b[0;32mas\u001b[0m \u001b[0me\u001b[0m\u001b[0;34m:\u001b[0m\u001b[0;34m\u001b[0m\u001b[0;34m\u001b[0m\u001b[0m\n\u001b[0;32m--> 657\u001b[0;31m             \u001b[0msix\u001b[0m\u001b[0;34m.\u001b[0m\u001b[0mraise_from\u001b[0m\u001b[0;34m(\u001b[0m\u001b[0mParserError\u001b[0m\u001b[0;34m(\u001b[0m\u001b[0me\u001b[0m\u001b[0;34m.\u001b[0m\u001b[0margs\u001b[0m\u001b[0;34m[\u001b[0m\u001b[0;36m0\u001b[0m\u001b[0;34m]\u001b[0m \u001b[0;34m+\u001b[0m \u001b[0;34m\": %s\"\u001b[0m\u001b[0;34m,\u001b[0m \u001b[0mtimestr\u001b[0m\u001b[0;34m)\u001b[0m\u001b[0;34m,\u001b[0m \u001b[0me\u001b[0m\u001b[0;34m)\u001b[0m\u001b[0;34m\u001b[0m\u001b[0;34m\u001b[0m\u001b[0m\n\u001b[0m\u001b[1;32m    658\u001b[0m \u001b[0;34m\u001b[0m\u001b[0m\n",
      "\u001b[0;32m/Applications/anaconda3/lib/python3.8/site-packages/six.py\u001b[0m in \u001b[0;36mraise_from\u001b[0;34m(value, from_value)\u001b[0m\n",
      "\u001b[0;31mParserError\u001b[0m: day is out of range for month: 19881099",
      "\nDuring handling of the above exception, another exception occurred:\n",
      "\u001b[0;31mTypeError\u001b[0m                                 Traceback (most recent call last)",
      "\u001b[0;32mpandas/_libs/tslib.pyx\u001b[0m in \u001b[0;36mpandas._libs.tslib.array_to_datetime\u001b[0;34m()\u001b[0m\n",
      "\u001b[0;31mTypeError\u001b[0m: invalid string coercion to datetime",
      "\nDuring handling of the above exception, another exception occurred:\n",
      "\u001b[0;31mValueError\u001b[0m                                Traceback (most recent call last)",
      "\u001b[0;32m/Applications/anaconda3/lib/python3.8/site-packages/dateutil/parser/_parser.py\u001b[0m in \u001b[0;36mparse\u001b[0;34m(self, timestr, default, ignoretz, tzinfos, **kwargs)\u001b[0m\n\u001b[1;32m    654\u001b[0m         \u001b[0;32mtry\u001b[0m\u001b[0;34m:\u001b[0m\u001b[0;34m\u001b[0m\u001b[0;34m\u001b[0m\u001b[0m\n\u001b[0;32m--> 655\u001b[0;31m             \u001b[0mret\u001b[0m \u001b[0;34m=\u001b[0m \u001b[0mself\u001b[0m\u001b[0;34m.\u001b[0m\u001b[0m_build_naive\u001b[0m\u001b[0;34m(\u001b[0m\u001b[0mres\u001b[0m\u001b[0;34m,\u001b[0m \u001b[0mdefault\u001b[0m\u001b[0;34m)\u001b[0m\u001b[0;34m\u001b[0m\u001b[0;34m\u001b[0m\u001b[0m\n\u001b[0m\u001b[1;32m    656\u001b[0m         \u001b[0;32mexcept\u001b[0m \u001b[0mValueError\u001b[0m \u001b[0;32mas\u001b[0m \u001b[0me\u001b[0m\u001b[0;34m:\u001b[0m\u001b[0;34m\u001b[0m\u001b[0;34m\u001b[0m\u001b[0m\n",
      "\u001b[0;32m/Applications/anaconda3/lib/python3.8/site-packages/dateutil/parser/_parser.py\u001b[0m in \u001b[0;36m_build_naive\u001b[0;34m(self, res, default)\u001b[0m\n\u001b[1;32m   1240\u001b[0m \u001b[0;34m\u001b[0m\u001b[0m\n\u001b[0;32m-> 1241\u001b[0;31m         \u001b[0mnaive\u001b[0m \u001b[0;34m=\u001b[0m \u001b[0mdefault\u001b[0m\u001b[0;34m.\u001b[0m\u001b[0mreplace\u001b[0m\u001b[0;34m(\u001b[0m\u001b[0;34m**\u001b[0m\u001b[0mrepl\u001b[0m\u001b[0;34m)\u001b[0m\u001b[0;34m\u001b[0m\u001b[0;34m\u001b[0m\u001b[0m\n\u001b[0m\u001b[1;32m   1242\u001b[0m \u001b[0;34m\u001b[0m\u001b[0m\n",
      "\u001b[0;31mValueError\u001b[0m: day is out of range for month",
      "\nThe above exception was the direct cause of the following exception:\n",
      "\u001b[0;31mParserError\u001b[0m                               Traceback (most recent call last)",
      "\u001b[0;32m<ipython-input-40-61e74ae19199>\u001b[0m in \u001b[0;36m<module>\u001b[0;34m\u001b[0m\n\u001b[0;32m----> 1\u001b[0;31m \u001b[0mbirthdate\u001b[0m\u001b[0;34m[\u001b[0m\u001b[0;34m\"ISO8601\"\u001b[0m\u001b[0;34m]\u001b[0m \u001b[0;34m=\u001b[0m \u001b[0mpd\u001b[0m\u001b[0;34m.\u001b[0m\u001b[0mto_datetime\u001b[0m\u001b[0;34m(\u001b[0m\u001b[0;34m\"1988\"\u001b[0m \u001b[0;34m+\u001b[0m \u001b[0mbirthdate\u001b[0m\u001b[0;34m[\u001b[0m\u001b[0;34m\"MONTH\"\u001b[0m\u001b[0;34m]\u001b[0m\u001b[0;34m+\u001b[0m \u001b[0mbirthdate\u001b[0m\u001b[0;34m[\u001b[0m\u001b[0;34m\"DAY\"\u001b[0m\u001b[0;34m]\u001b[0m\u001b[0;34m)\u001b[0m\u001b[0;34m\u001b[0m\u001b[0;34m\u001b[0m\u001b[0m\n\u001b[0m",
      "\u001b[0;32m/Applications/anaconda3/lib/python3.8/site-packages/pandas/core/tools/datetimes.py\u001b[0m in \u001b[0;36mto_datetime\u001b[0;34m(arg, errors, dayfirst, yearfirst, utc, format, exact, unit, infer_datetime_format, origin, cache)\u001b[0m\n\u001b[1;32m    797\u001b[0m                 \u001b[0mresult\u001b[0m \u001b[0;34m=\u001b[0m \u001b[0mresult\u001b[0m\u001b[0;34m.\u001b[0m\u001b[0mtz_localize\u001b[0m\u001b[0;34m(\u001b[0m\u001b[0mtz\u001b[0m\u001b[0;34m)\u001b[0m\u001b[0;34m\u001b[0m\u001b[0;34m\u001b[0m\u001b[0m\n\u001b[1;32m    798\u001b[0m     \u001b[0;32melif\u001b[0m \u001b[0misinstance\u001b[0m\u001b[0;34m(\u001b[0m\u001b[0marg\u001b[0m\u001b[0;34m,\u001b[0m \u001b[0mABCSeries\u001b[0m\u001b[0;34m)\u001b[0m\u001b[0;34m:\u001b[0m\u001b[0;34m\u001b[0m\u001b[0;34m\u001b[0m\u001b[0m\n\u001b[0;32m--> 799\u001b[0;31m         \u001b[0mcache_array\u001b[0m \u001b[0;34m=\u001b[0m \u001b[0m_maybe_cache\u001b[0m\u001b[0;34m(\u001b[0m\u001b[0marg\u001b[0m\u001b[0;34m,\u001b[0m \u001b[0mformat\u001b[0m\u001b[0;34m,\u001b[0m \u001b[0mcache\u001b[0m\u001b[0;34m,\u001b[0m \u001b[0mconvert_listlike\u001b[0m\u001b[0;34m)\u001b[0m\u001b[0;34m\u001b[0m\u001b[0;34m\u001b[0m\u001b[0m\n\u001b[0m\u001b[1;32m    800\u001b[0m         \u001b[0;32mif\u001b[0m \u001b[0;32mnot\u001b[0m \u001b[0mcache_array\u001b[0m\u001b[0;34m.\u001b[0m\u001b[0mempty\u001b[0m\u001b[0;34m:\u001b[0m\u001b[0;34m\u001b[0m\u001b[0;34m\u001b[0m\u001b[0m\n\u001b[1;32m    801\u001b[0m             \u001b[0mresult\u001b[0m \u001b[0;34m=\u001b[0m \u001b[0marg\u001b[0m\u001b[0;34m.\u001b[0m\u001b[0mmap\u001b[0m\u001b[0;34m(\u001b[0m\u001b[0mcache_array\u001b[0m\u001b[0;34m)\u001b[0m\u001b[0;34m\u001b[0m\u001b[0;34m\u001b[0m\u001b[0m\n",
      "\u001b[0;32m/Applications/anaconda3/lib/python3.8/site-packages/pandas/core/tools/datetimes.py\u001b[0m in \u001b[0;36m_maybe_cache\u001b[0;34m(arg, format, cache, convert_listlike)\u001b[0m\n\u001b[1;32m    168\u001b[0m         \u001b[0munique_dates\u001b[0m \u001b[0;34m=\u001b[0m \u001b[0munique\u001b[0m\u001b[0;34m(\u001b[0m\u001b[0marg\u001b[0m\u001b[0;34m)\u001b[0m\u001b[0;34m\u001b[0m\u001b[0;34m\u001b[0m\u001b[0m\n\u001b[1;32m    169\u001b[0m         \u001b[0;32mif\u001b[0m \u001b[0mlen\u001b[0m\u001b[0;34m(\u001b[0m\u001b[0munique_dates\u001b[0m\u001b[0;34m)\u001b[0m \u001b[0;34m<\u001b[0m \u001b[0mlen\u001b[0m\u001b[0;34m(\u001b[0m\u001b[0marg\u001b[0m\u001b[0;34m)\u001b[0m\u001b[0;34m:\u001b[0m\u001b[0;34m\u001b[0m\u001b[0;34m\u001b[0m\u001b[0m\n\u001b[0;32m--> 170\u001b[0;31m             \u001b[0mcache_dates\u001b[0m \u001b[0;34m=\u001b[0m \u001b[0mconvert_listlike\u001b[0m\u001b[0;34m(\u001b[0m\u001b[0munique_dates\u001b[0m\u001b[0;34m,\u001b[0m \u001b[0mformat\u001b[0m\u001b[0;34m)\u001b[0m\u001b[0;34m\u001b[0m\u001b[0;34m\u001b[0m\u001b[0m\n\u001b[0m\u001b[1;32m    171\u001b[0m             \u001b[0mcache_array\u001b[0m \u001b[0;34m=\u001b[0m \u001b[0mSeries\u001b[0m\u001b[0;34m(\u001b[0m\u001b[0mcache_dates\u001b[0m\u001b[0;34m,\u001b[0m \u001b[0mindex\u001b[0m\u001b[0;34m=\u001b[0m\u001b[0munique_dates\u001b[0m\u001b[0;34m)\u001b[0m\u001b[0;34m\u001b[0m\u001b[0;34m\u001b[0m\u001b[0m\n\u001b[1;32m    172\u001b[0m     \u001b[0;32mreturn\u001b[0m \u001b[0mcache_array\u001b[0m\u001b[0;34m\u001b[0m\u001b[0;34m\u001b[0m\u001b[0m\n",
      "\u001b[0;32m/Applications/anaconda3/lib/python3.8/site-packages/pandas/core/tools/datetimes.py\u001b[0m in \u001b[0;36m_convert_listlike_datetimes\u001b[0;34m(arg, format, name, tz, unit, errors, infer_datetime_format, dayfirst, yearfirst, exact)\u001b[0m\n\u001b[1;32m    457\u001b[0m         \u001b[0;32massert\u001b[0m \u001b[0mformat\u001b[0m \u001b[0;32mis\u001b[0m \u001b[0;32mNone\u001b[0m \u001b[0;32mor\u001b[0m \u001b[0minfer_datetime_format\u001b[0m\u001b[0;34m\u001b[0m\u001b[0;34m\u001b[0m\u001b[0m\n\u001b[1;32m    458\u001b[0m         \u001b[0mutc\u001b[0m \u001b[0;34m=\u001b[0m \u001b[0mtz\u001b[0m \u001b[0;34m==\u001b[0m \u001b[0;34m\"utc\"\u001b[0m\u001b[0;34m\u001b[0m\u001b[0;34m\u001b[0m\u001b[0m\n\u001b[0;32m--> 459\u001b[0;31m         result, tz_parsed = objects_to_datetime64ns(\n\u001b[0m\u001b[1;32m    460\u001b[0m             \u001b[0marg\u001b[0m\u001b[0;34m,\u001b[0m\u001b[0;34m\u001b[0m\u001b[0;34m\u001b[0m\u001b[0m\n\u001b[1;32m    461\u001b[0m             \u001b[0mdayfirst\u001b[0m\u001b[0;34m=\u001b[0m\u001b[0mdayfirst\u001b[0m\u001b[0;34m,\u001b[0m\u001b[0;34m\u001b[0m\u001b[0;34m\u001b[0m\u001b[0m\n",
      "\u001b[0;32m/Applications/anaconda3/lib/python3.8/site-packages/pandas/core/arrays/datetimes.py\u001b[0m in \u001b[0;36mobjects_to_datetime64ns\u001b[0;34m(data, dayfirst, yearfirst, utc, errors, require_iso8601, allow_object)\u001b[0m\n\u001b[1;32m   2057\u001b[0m             \u001b[0;32mreturn\u001b[0m \u001b[0mvalues\u001b[0m\u001b[0;34m.\u001b[0m\u001b[0mview\u001b[0m\u001b[0;34m(\u001b[0m\u001b[0;34m\"i8\"\u001b[0m\u001b[0;34m)\u001b[0m\u001b[0;34m,\u001b[0m \u001b[0mtz_parsed\u001b[0m\u001b[0;34m\u001b[0m\u001b[0;34m\u001b[0m\u001b[0m\n\u001b[1;32m   2058\u001b[0m         \u001b[0;32mexcept\u001b[0m \u001b[0;34m(\u001b[0m\u001b[0mValueError\u001b[0m\u001b[0;34m,\u001b[0m \u001b[0mTypeError\u001b[0m\u001b[0;34m)\u001b[0m\u001b[0;34m:\u001b[0m\u001b[0;34m\u001b[0m\u001b[0;34m\u001b[0m\u001b[0m\n\u001b[0;32m-> 2059\u001b[0;31m             \u001b[0;32mraise\u001b[0m \u001b[0me\u001b[0m\u001b[0;34m\u001b[0m\u001b[0;34m\u001b[0m\u001b[0m\n\u001b[0m\u001b[1;32m   2060\u001b[0m \u001b[0;34m\u001b[0m\u001b[0m\n\u001b[1;32m   2061\u001b[0m     \u001b[0;32mif\u001b[0m \u001b[0mtz_parsed\u001b[0m \u001b[0;32mis\u001b[0m \u001b[0;32mnot\u001b[0m \u001b[0;32mNone\u001b[0m\u001b[0;34m:\u001b[0m\u001b[0;34m\u001b[0m\u001b[0;34m\u001b[0m\u001b[0m\n",
      "\u001b[0;32m/Applications/anaconda3/lib/python3.8/site-packages/pandas/core/arrays/datetimes.py\u001b[0m in \u001b[0;36mobjects_to_datetime64ns\u001b[0;34m(data, dayfirst, yearfirst, utc, errors, require_iso8601, allow_object)\u001b[0m\n\u001b[1;32m   2042\u001b[0m \u001b[0;34m\u001b[0m\u001b[0m\n\u001b[1;32m   2043\u001b[0m     \u001b[0;32mtry\u001b[0m\u001b[0;34m:\u001b[0m\u001b[0;34m\u001b[0m\u001b[0;34m\u001b[0m\u001b[0m\n\u001b[0;32m-> 2044\u001b[0;31m         result, tz_parsed = tslib.array_to_datetime(\n\u001b[0m\u001b[1;32m   2045\u001b[0m             \u001b[0mdata\u001b[0m\u001b[0;34m,\u001b[0m\u001b[0;34m\u001b[0m\u001b[0;34m\u001b[0m\u001b[0m\n\u001b[1;32m   2046\u001b[0m             \u001b[0merrors\u001b[0m\u001b[0;34m=\u001b[0m\u001b[0merrors\u001b[0m\u001b[0;34m,\u001b[0m\u001b[0;34m\u001b[0m\u001b[0;34m\u001b[0m\u001b[0m\n",
      "\u001b[0;32mpandas/_libs/tslib.pyx\u001b[0m in \u001b[0;36mpandas._libs.tslib.array_to_datetime\u001b[0;34m()\u001b[0m\n",
      "\u001b[0;32mpandas/_libs/tslib.pyx\u001b[0m in \u001b[0;36mpandas._libs.tslib.array_to_datetime\u001b[0;34m()\u001b[0m\n",
      "\u001b[0;32mpandas/_libs/tslib.pyx\u001b[0m in \u001b[0;36mpandas._libs.tslib.array_to_datetime_object\u001b[0;34m()\u001b[0m\n",
      "\u001b[0;32mpandas/_libs/tslib.pyx\u001b[0m in \u001b[0;36mpandas._libs.tslib.array_to_datetime_object\u001b[0;34m()\u001b[0m\n",
      "\u001b[0;32mpandas/_libs/tslibs/parsing.pyx\u001b[0m in \u001b[0;36mpandas._libs.tslibs.parsing.parse_datetime_string\u001b[0;34m()\u001b[0m\n",
      "\u001b[0;32m/Applications/anaconda3/lib/python3.8/site-packages/dateutil/parser/_parser.py\u001b[0m in \u001b[0;36mparse\u001b[0;34m(timestr, parserinfo, **kwargs)\u001b[0m\n\u001b[1;32m   1372\u001b[0m         \u001b[0;32mreturn\u001b[0m \u001b[0mparser\u001b[0m\u001b[0;34m(\u001b[0m\u001b[0mparserinfo\u001b[0m\u001b[0;34m)\u001b[0m\u001b[0;34m.\u001b[0m\u001b[0mparse\u001b[0m\u001b[0;34m(\u001b[0m\u001b[0mtimestr\u001b[0m\u001b[0;34m,\u001b[0m \u001b[0;34m**\u001b[0m\u001b[0mkwargs\u001b[0m\u001b[0;34m)\u001b[0m\u001b[0;34m\u001b[0m\u001b[0;34m\u001b[0m\u001b[0m\n\u001b[1;32m   1373\u001b[0m     \u001b[0;32melse\u001b[0m\u001b[0;34m:\u001b[0m\u001b[0;34m\u001b[0m\u001b[0;34m\u001b[0m\u001b[0m\n\u001b[0;32m-> 1374\u001b[0;31m         \u001b[0;32mreturn\u001b[0m \u001b[0mDEFAULTPARSER\u001b[0m\u001b[0;34m.\u001b[0m\u001b[0mparse\u001b[0m\u001b[0;34m(\u001b[0m\u001b[0mtimestr\u001b[0m\u001b[0;34m,\u001b[0m \u001b[0;34m**\u001b[0m\u001b[0mkwargs\u001b[0m\u001b[0;34m)\u001b[0m\u001b[0;34m\u001b[0m\u001b[0;34m\u001b[0m\u001b[0m\n\u001b[0m\u001b[1;32m   1375\u001b[0m \u001b[0;34m\u001b[0m\u001b[0m\n\u001b[1;32m   1376\u001b[0m \u001b[0;34m\u001b[0m\u001b[0m\n",
      "\u001b[0;32m/Applications/anaconda3/lib/python3.8/site-packages/dateutil/parser/_parser.py\u001b[0m in \u001b[0;36mparse\u001b[0;34m(self, timestr, default, ignoretz, tzinfos, **kwargs)\u001b[0m\n\u001b[1;32m    655\u001b[0m             \u001b[0mret\u001b[0m \u001b[0;34m=\u001b[0m \u001b[0mself\u001b[0m\u001b[0;34m.\u001b[0m\u001b[0m_build_naive\u001b[0m\u001b[0;34m(\u001b[0m\u001b[0mres\u001b[0m\u001b[0;34m,\u001b[0m \u001b[0mdefault\u001b[0m\u001b[0;34m)\u001b[0m\u001b[0;34m\u001b[0m\u001b[0;34m\u001b[0m\u001b[0m\n\u001b[1;32m    656\u001b[0m         \u001b[0;32mexcept\u001b[0m \u001b[0mValueError\u001b[0m \u001b[0;32mas\u001b[0m \u001b[0me\u001b[0m\u001b[0;34m:\u001b[0m\u001b[0;34m\u001b[0m\u001b[0;34m\u001b[0m\u001b[0m\n\u001b[0;32m--> 657\u001b[0;31m             \u001b[0msix\u001b[0m\u001b[0;34m.\u001b[0m\u001b[0mraise_from\u001b[0m\u001b[0;34m(\u001b[0m\u001b[0mParserError\u001b[0m\u001b[0;34m(\u001b[0m\u001b[0me\u001b[0m\u001b[0;34m.\u001b[0m\u001b[0margs\u001b[0m\u001b[0;34m[\u001b[0m\u001b[0;36m0\u001b[0m\u001b[0;34m]\u001b[0m \u001b[0;34m+\u001b[0m \u001b[0;34m\": %s\"\u001b[0m\u001b[0;34m,\u001b[0m \u001b[0mtimestr\u001b[0m\u001b[0;34m)\u001b[0m\u001b[0;34m,\u001b[0m \u001b[0me\u001b[0m\u001b[0;34m)\u001b[0m\u001b[0;34m\u001b[0m\u001b[0;34m\u001b[0m\u001b[0m\n\u001b[0m\u001b[1;32m    658\u001b[0m \u001b[0;34m\u001b[0m\u001b[0m\n\u001b[1;32m    659\u001b[0m         \u001b[0;32mif\u001b[0m \u001b[0;32mnot\u001b[0m \u001b[0mignoretz\u001b[0m\u001b[0;34m:\u001b[0m\u001b[0;34m\u001b[0m\u001b[0;34m\u001b[0m\u001b[0m\n",
      "\u001b[0;32m/Applications/anaconda3/lib/python3.8/site-packages/six.py\u001b[0m in \u001b[0;36mraise_from\u001b[0;34m(value, from_value)\u001b[0m\n",
      "\u001b[0;31mParserError\u001b[0m: day is out of range for month: 19881099"
     ]
    }
   ],
   "source": [
    "birthdate[\"ISO8601\"] = pd.to_datetime(\"1988\" + birthdate[\"MONTH\"]+ birthdate[\"DAY\"])"
   ]
  },
  {
   "cell_type": "code",
   "execution_count": 41,
   "metadata": {},
   "outputs": [],
   "source": [
    "# ParserError: day is out of range for month: 19881099\n",
    "\n",
    "# Believe it or not, this is good news.  October 99th is not being coded as a date.\n",
    "# https://pandas.pydata.org/docs/reference/api/pandas.to_datetime.html\n",
    "# we have options errors=\"ignore\" which will set the date to the input or\n",
    "# errors=\"coerce\" which will set the date to Not a Time.\n",
    "birthdate[\"DATE\"] = pd.to_datetime(\"1988\" + birthdate[\"MONTH\"]+ birthdate[\"DAY\"], errors=\"coerce\")"
   ]
  },
  {
   "cell_type": "code",
   "execution_count": 43,
   "metadata": {},
   "outputs": [
    {
     "data": {
      "text/html": [
       "<div>\n",
       "<style scoped>\n",
       "    .dataframe tbody tr th:only-of-type {\n",
       "        vertical-align: middle;\n",
       "    }\n",
       "\n",
       "    .dataframe tbody tr th {\n",
       "        vertical-align: top;\n",
       "    }\n",
       "\n",
       "    .dataframe thead th {\n",
       "        text-align: right;\n",
       "    }\n",
       "</style>\n",
       "<table border=\"1\" class=\"dataframe\">\n",
       "  <thead>\n",
       "    <tr style=\"text-align: right;\">\n",
       "      <th></th>\n",
       "      <th>MONTH</th>\n",
       "      <th>DAY</th>\n",
       "      <th>DATE</th>\n",
       "    </tr>\n",
       "  </thead>\n",
       "  <tbody>\n",
       "    <tr>\n",
       "      <th>0</th>\n",
       "      <td>01</td>\n",
       "      <td>08</td>\n",
       "      <td>1988-01-08</td>\n",
       "    </tr>\n",
       "    <tr>\n",
       "      <th>1</th>\n",
       "      <td>01</td>\n",
       "      <td>01</td>\n",
       "      <td>1988-01-01</td>\n",
       "    </tr>\n",
       "    <tr>\n",
       "      <th>2</th>\n",
       "      <td>01</td>\n",
       "      <td>07</td>\n",
       "      <td>1988-01-07</td>\n",
       "    </tr>\n",
       "    <tr>\n",
       "      <th>3</th>\n",
       "      <td>01</td>\n",
       "      <td>06</td>\n",
       "      <td>1988-01-06</td>\n",
       "    </tr>\n",
       "    <tr>\n",
       "      <th>4</th>\n",
       "      <td>01</td>\n",
       "      <td>01</td>\n",
       "      <td>1988-01-01</td>\n",
       "    </tr>\n",
       "  </tbody>\n",
       "</table>\n",
       "</div>"
      ],
      "text/plain": [
       "  MONTH DAY       DATE\n",
       "0    01  08 1988-01-08\n",
       "1    01  01 1988-01-01\n",
       "2    01  07 1988-01-07\n",
       "3    01  06 1988-01-06\n",
       "4    01  01 1988-01-01"
      ]
     },
     "execution_count": 43,
     "metadata": {},
     "output_type": "execute_result"
    }
   ],
   "source": [
    "# It completes this time.  Look at the output \n",
    "birthdate.head()"
   ]
  },
  {
   "cell_type": "code",
   "execution_count": 5,
   "metadata": {},
   "outputs": [
    {
     "data": {
      "text/plain": [
       "(<Figure size 900x244.8 with 3 Axes>,\n",
       " array([<AxesSubplot:ylabel='2019'>, <AxesSubplot:ylabel='2020'>],\n",
       "       dtype=object))"
      ]
     },
     "execution_count": 5,
     "metadata": {},
     "output_type": "execute_result"
    },
    {
     "data": {
      "image/png": "[encoded data removed]",
      "text/plain": [
       "<Figure size 900x244.8 with 3 Axes>"
      ]
     },
     "metadata": {
      "needs_background": "light"
     },
     "output_type": "display_data"
    }
   ],
   "source": [
    "# This is the example code from a python module for making calendars:\n",
    "# https://github.com/tomkwok/calplot\n",
    "import calplot\n",
    "import numpy as np; np.random.seed(sum(map(ord, 'calplot')))\n",
    "import pandas as pd\n",
    "all_days = pd.date_range('1/1/2019', periods=730, freq='D')\n",
    "days = np.random.choice(all_days, 500)\n",
    "events = pd.Series(np.random.randn(len(days)), index=days)\n",
    "calplot.calplot(events)\n"
   ]
  },
  {
   "cell_type": "code",
   "execution_count": 45,
   "metadata": {},
   "outputs": [
    {
     "data": {
      "text/plain": [
       "1988-04-19   -1.578210\n",
       "1988-08-13   -1.652141\n",
       "1988-05-16   -0.697981\n",
       "1988-07-10    0.807642\n",
       "1988-04-10    0.332722\n",
       "dtype: float64"
      ]
     },
     "execution_count": 45,
     "metadata": {},
     "output_type": "execute_result"
    },
    {
     "data": {
      "image/png": "[encoded data removed]",
      "text/plain": [
       "<Figure size 900x122.4 with 2 Axes>"
      ]
     },
     "metadata": {
      "needs_background": "light"
     },
     "output_type": "display_data"
    }
   ],
   "source": [
    "all_days = pd.date_range('1/1/1988', periods=365, freq='D')\n",
    "days = np.random.choice(all_days, 500)\n",
    "events = pd.Series(np.random.randn(len(days)), index=days)\n",
    "calplot.calplot(events)\n",
    "events.head()"
   ]
  },
  {
   "cell_type": "code",
   "execution_count": 47,
   "metadata": {},
   "outputs": [
    {
     "data": {
      "text/plain": [
       "1988-09-20    12851\n",
       "1988-07-07    12727\n",
       "1988-09-23    12694\n",
       "1988-09-09    12661\n",
       "1988-09-16    12620\n",
       "Name: DATE, dtype: int64"
      ]
     },
     "execution_count": 47,
     "metadata": {},
     "output_type": "execute_result"
    }
   ],
   "source": [
    "datehist = birthdate[\"DATE\"].value_counts()\n",
    "datehist.head()"
   ]
  },
  {
   "cell_type": "code",
   "execution_count": 48,
   "metadata": {},
   "outputs": [
    {
     "data": {
      "text/plain": [
       "(<Figure size 900x122.4 with 2 Axes>,\n",
       " array([<AxesSubplot:ylabel='1988'>], dtype=object))"
      ]
     },
     "execution_count": 48,
     "metadata": {},
     "output_type": "execute_result"
    },
    {
     "data": {
      "image/png": "[encoded data removed]",
      "text/plain": [
       "<Figure size 900x122.4 with 2 Axes>"
      ]
     },
     "metadata": {
      "needs_background": "light"
     },
     "output_type": "display_data"
    }
   ],
   "source": [
    "# This looks promising.  Let us try making a calendar plot.\n",
    "calplot.calplot(datehist)\n"
   ]
  },
  {
   "cell_type": "code",
   "execution_count": 49,
   "metadata": {},
   "outputs": [
    {
     "ename": "TypeError",
     "evalue": "bar() missing 1 required positional argument: 'height'",
     "output_type": "error",
     "traceback": [
      "\u001b[0;31m---------------------------------------------------------------------------\u001b[0m",
      "\u001b[0;31mTypeError\u001b[0m                                 Traceback (most recent call last)",
      "\u001b[0;32m<ipython-input-49-9ec6e7edf82d>\u001b[0m in \u001b[0;36m<module>\u001b[0;34m\u001b[0m\n\u001b[0;32m----> 1\u001b[0;31m \u001b[0mplt\u001b[0m\u001b[0;34m.\u001b[0m\u001b[0mbar\u001b[0m\u001b[0;34m(\u001b[0m\u001b[0mdatehist\u001b[0m\u001b[0;34m)\u001b[0m\u001b[0;34m\u001b[0m\u001b[0;34m\u001b[0m\u001b[0m\n\u001b[0m",
      "\u001b[0;31mTypeError\u001b[0m: bar() missing 1 required positional argument: 'height'"
     ]
    }
   ],
   "source": [
    "plt.bar(datehist)"
   ]
  },
  {
   "cell_type": "code",
   "execution_count": 50,
   "metadata": {},
   "outputs": [
    {
     "data": {
      "text/plain": [
       "<BarContainer object of 366 artists>"
      ]
     },
     "execution_count": 50,
     "metadata": {},
     "output_type": "execute_result"
    },
    {
     "data": {
      "image/png": "[encoded data removed]",
      "text/plain": [
       "<Figure size 432x288 with 1 Axes>"
      ]
     },
     "metadata": {
      "needs_background": "light"
     },
     "output_type": "display_data"
    }
   ],
   "source": [
    "plt.bar(range(len(datehist)), datehist)"
   ]
  },
  {
   "cell_type": "code",
   "execution_count": null,
   "metadata": {},
   "outputs": [],
   "source": [
    "#  Aaaargghh.  When I created the histogram, it sorted by value, which is bad.\n",
    "#  Why do we have a bimodal distribution here?"
   ]
  },
  {
   "cell_type": "code",
   "execution_count": 51,
   "metadata": {},
   "outputs": [
    {
     "data": {
      "text/plain": [
       "<BarContainer object of 366 artists>"
      ]
     },
     "execution_count": 51,
     "metadata": {},
     "output_type": "execute_result"
    },
    {
     "data": {
      "image/png": "[encoded data removed]",
      "text/plain": [
       "<Figure size 432x288 with 1 Axes>"
      ]
     },
     "metadata": {
      "needs_background": "light"
     },
     "output_type": "display_data"
    }
   ],
   "source": [
    "plt.bar(range(len(datehist)), datehist.sort_index())"
   ]
  },
  {
   "cell_type": "code",
   "execution_count": 52,
   "metadata": {},
   "outputs": [
    {
     "data": {
      "text/plain": [
       "Text(0.5, 0, 'Day in 1988')"
      ]
     },
     "execution_count": 52,
     "metadata": {},
     "output_type": "execute_result"
    },
    {
     "data": {
      "image/png": "[encoded data removed]",
      "text/plain": [
       "<Figure size 1152x576 with 1 Axes>"
      ]
     },
     "metadata": {
      "needs_background": "light"
     },
     "output_type": "display_data"
    }
   ],
   "source": [
    "# Make this wider, more pleasant to look at\n",
    "plt.figure(figsize=(16,8))\n",
    "plt.bar(range(1,len(datehist)+1), datehist.sort_index(), width=1)\n",
    "plt.xlabel (\"Day in 1988\")"
   ]
  },
  {
   "cell_type": "code",
   "execution_count": null,
   "metadata": {
    "collapsed": true,
    "jupyter": {
     "outputs_hidden": true
    }
   },
   "outputs": [],
   "source": [
    "# This is not presentation-ready, but this gives us some pretty good insight into\n",
    "# three drivers of birth timing, weekends, holidays, and a seasonal modulation."
   ]
  },
  {
   "cell_type": "code",
   "execution_count": null,
   "metadata": {
    "collapsed": true,
    "jupyter": {
     "outputs_hidden": true
    }
   },
   "outputs": [],
   "source": [
    "# Let us look back at our data parser, though.  \n",
    "# It's slow, and I don't want to edit it every time\n",
    "# a new column comes to my attention.\n",
    "\n",
    "# Loop over the data, get columns 84-87 (month and date of birth)\n",
    "# and put it in a dataframe.\n",
    "p = []\n",
    "q = []\n",
    "for i in n1988.index:\n",
    "    p.append(n1988[0][i][(84-1):(85-1+1)]) # MONTH\n",
    "    q.append(n1988[0][i][(86-1):(87-1+1)]) # DAY\n",
    "birthdate = pd.DataFrame({\"MONTH\": p, \"DAY\":q})"
   ]
  },
  {
   "cell_type": "markdown",
   "metadata": {},
   "source": [
    "Looking at the description...\n",
    "\n",
    "![Data description](FIELDS.jpg \"Exceprt from data description showing Date and month fields\")\n",
    "\n",
    "To get the data into our computing environment, we have three tasks:\n",
    "1. extract columns (with the right field width)\n",
    "2. associate columns with human-readable names \n",
    "3. decode symbols \n",
    "\n",
    "If we can put the layout of the database *into data, instead of code*, we can expand the scope of our investigation by modifying data, *not code*.  This will work well for us."
   ]
  },
  {
   "cell_type": "code",
   "execution_count": 155,
   "metadata": {
    "collapsed": true,
    "jupyter": {
     "outputs_hidden": true
    }
   },
   "outputs": [
    {
     "name": "stdout",
     "output_type": "stream",
     "text": [
      "~/git/VIZ/visualization-curriculum\n"
     ]
    }
   ],
   "source": [
    "# let's start with trying to use data to specify the layout,\n",
    "# write a partser that generates a dataframe with column names,\n",
    "# and we can expand to more columns (and decode the symbols) later.\n"
   ]
  },
  {
   "cell_type": "code",
   "execution_count": null,
   "metadata": {
    "collapsed": true,
    "jupyter": {
     "outputs_hidden": true
    }
   },
   "outputs": [],
   "source": []
  },
  {
   "cell_type": "code",
   "execution_count": 60,
   "metadata": {},
   "outputs": [],
   "source": [
    "# Let us start with something like these fields (which do not require decoding)\n",
    "# This is a (pure python) list of lists\n",
    "#  [ [startcolumn, stopcolumn, fieldname] ] \n",
    "dict1988 =[\n",
    "    [84, 85, \"MONTHOFBIRTH\"],\n",
    "    [86, 87, \"DAYOFMONTH\"],\n",
    "]\n",
    "# Since this is our data structure for our use, we can use any data type that works;\n",
    "# there is no requirement that we use pandas or numpy here.\n"
   ]
  },
  {
   "cell_type": "markdown",
   "metadata": {
    "jupyter": {
     "outputs_hidden": true
    }
   },
   "source": [
    "# Now, to organize my thoughts, I'm going to write a function prototype with a docstring that tells me what I need and what I promise to deliver."
   ]
  },
  {
   "cell_type": "code",
   "execution_count": null,
   "metadata": {
    "collapsed": true,
    "jupyter": {
     "outputs_hidden": true
    }
   },
   "outputs": [],
   "source": [
    "def parse_natality(natalitydata, datadictionary):\n",
    "    '''Take in pandas dataframe natalitydata and list-of-lists \n",
    "    datadictionary  (for example [[43, 44, \"MATERNALAGE\"]] ) \n",
    "    and return a pandas dataframe (same number of rows) with \n",
    "    labeled columns  '''"
   ]
  },
  {
   "cell_type": "code",
   "execution_count": null,
   "metadata": {
    "collapsed": true,
    "jupyter": {
     "outputs_hidden": true
    }
   },
   "outputs": [],
   "source": [
    "#  Where to start?  For loop over data dictionary first, or for loop over data?\n",
    "#  Hint: which one is more expensive? This is the one we will want to do once.\n",
    "# "
   ]
  },
  {
   "cell_type": "code",
   "execution_count": 54,
   "metadata": {},
   "outputs": [
    {
     "name": "stdout",
     "output_type": "stream",
     "text": [
      "<class 'pandas.core.series.Series'>\n"
     ]
    },
    {
     "data": {
      "text/plain": [
       "0          8010      110100299991771630100263211111231012...\n",
       "1          8010      110100699990002630100663219223160304...\n",
       "2          8010      110100699990002630100663212223241113...\n",
       "3          8010      110100699990002630100663119223241113...\n",
       "4          8010      110100699990002630100663219223261314...\n",
       "                                 ...                        \n",
       "3913788    8520      115101199990002835101183111111190607...\n",
       "3913789    8520      115101199990002835101183119111200709...\n",
       "3913790    8520      115101199990002835101183219111241113...\n",
       "3913791    8520      115101599990002835101583111111291614...\n",
       "3913792    8520      115102099990002835102083231111271414...\n",
       "Name: 0, Length: 3913793, dtype: object"
      ]
     },
     "execution_count": 54,
     "metadata": {},
     "output_type": "execute_result"
    }
   ],
   "source": [
    "print(type(n1988[0]))\n",
    "n1988[0]"
   ]
  },
  {
   "cell_type": "code",
   "execution_count": 56,
   "metadata": {},
   "outputs": [
    {
     "name": "stdout",
     "output_type": "stream",
     "text": [
      "<class 'str'>\n"
     ]
    },
    {
     "data": {
      "text/plain": [
       "'8010      110101699990002630101663111111220911083320000000110111111 23033390072111101050301744092141041309112011777777700000777707777770001160   111111001102110111111110211   100000830940000 330103101031000011709101'"
      ]
     },
     "execution_count": 56,
     "metadata": {},
     "output_type": "execute_result"
    }
   ],
   "source": [
    "print(type(n1988[0].loc[42]))\n",
    "n1988[0].loc[42]"
   ]
  },
  {
   "cell_type": "code",
   "execution_count": 57,
   "metadata": {},
   "outputs": [
    {
     "name": "stdout",
     "output_type": "stream",
     "text": [
      "<class 'str'>\n"
     ]
    },
    {
     "data": {
      "text/plain": [
       "'01'"
      ]
     },
     "execution_count": 57,
     "metadata": {},
     "output_type": "execute_result"
    }
   ],
   "source": [
    "print(type(n1988[0].loc[42][83:84+1]))\n",
    "n1988[0].loc[42][83:84+1]"
   ]
  },
  {
   "cell_type": "code",
   "execution_count": 176,
   "metadata": {
    "collapsed": true,
    "jupyter": {
     "outputs_hidden": true
    }
   },
   "outputs": [
    {
     "data": {
      "text/plain": [
       "83    8010      110101799990931630101763211111241113...\n",
       "84    8010      110101799990931630101763111111342115...\n",
       "Name: 0, dtype: object"
      ]
     },
     "execution_count": 176,
     "metadata": {},
     "output_type": "execute_result"
    }
   ],
   "source": [
    "# So I can access the cth column and ith row with df[0].loc[i][c]"
   ]
  },
  {
   "cell_type": "code",
   "execution_count": 58,
   "metadata": {},
   "outputs": [],
   "source": [
    "# First I'm going to make certain I have the data I think I do\n",
    "def parse_natality(natalitydata, datadictionary):\n",
    "    '''Take in pandas dataframe natalitydata and list-of-lists datadictionary\n",
    "    (for example [[43, 44, \"MATERNALAGE\"]] ) and return a pandas dataframe (same \n",
    "    number of rows) with labeled columns  '''\n",
    "    for index in natalitydata.index:\n",
    "        for start, stop, column_name in datadictionary:\n",
    "            if index < 3:\n",
    "                print(index, start,stop, column_name)"
   ]
  },
  {
   "cell_type": "code",
   "execution_count": 61,
   "metadata": {},
   "outputs": [
    {
     "name": "stdout",
     "output_type": "stream",
     "text": [
      "0 84 85 MONTHOFBIRTH\n",
      "0 86 87 DAYOFMONTH\n",
      "1 84 85 MONTHOFBIRTH\n",
      "1 86 87 DAYOFMONTH\n",
      "2 84 85 MONTHOFBIRTH\n",
      "2 86 87 DAYOFMONTH\n"
     ]
    }
   ],
   "source": [
    "parse_natality(n1988, dict1988)"
   ]
  },
  {
   "cell_type": "code",
   "execution_count": 62,
   "metadata": {},
   "outputs": [],
   "source": [
    "# Above, we had hard-coded lists p and q that took all our intermediate data.  \n",
    "# If we are going to automate column-extraction, we need a more flexible data structure.\n",
    "# Dictionary of lists.\n",
    "# So let's make a dictionary of empty lists first.\n",
    "def parse_natality(natalitydata, datadictionary):\n",
    "    '''Take in pandas dataframe natalitydata and list-of-lists datadictionary\n",
    "    (for example [[43, 44, \"MATERNALAGE\"]] ) and return a pandas dataframe (same \n",
    "    number of rows) with labeled columns  '''\n",
    "    intermediate_data={}\n",
    "    # First, populate intermediate_data with empty lists for each column_name\n",
    "    for start, stop, column_name in datadictionary:\n",
    "        intermediate_data[column_name] = []\n",
    "    # Now loop through the data    \n",
    "    for index in natalitydata.index:\n",
    "        for start, stop, column_name in datadictionary:\n",
    "            if index < 3:\n",
    "                print(index, start,stop, column_name)\n",
    "    return intermediate_data"
   ]
  },
  {
   "cell_type": "code",
   "execution_count": 63,
   "metadata": {},
   "outputs": [
    {
     "name": "stdout",
     "output_type": "stream",
     "text": [
      "0 84 85 MONTHOFBIRTH\n",
      "0 86 87 DAYOFMONTH\n",
      "1 84 85 MONTHOFBIRTH\n",
      "1 86 87 DAYOFMONTH\n",
      "2 84 85 MONTHOFBIRTH\n",
      "2 86 87 DAYOFMONTH\n"
     ]
    },
    {
     "data": {
      "text/plain": [
       "{'MONTHOFBIRTH': [], 'DAYOFMONTH': []}"
      ]
     },
     "execution_count": 63,
     "metadata": {},
     "output_type": "execute_result"
    }
   ],
   "source": [
    "parse_natality(n1988, dict1988)"
   ]
  },
  {
   "cell_type": "code",
   "execution_count": 66,
   "metadata": {},
   "outputs": [],
   "source": [
    "def parse_natality(natalitydata, datadictionary):\n",
    "    '''Take in pandas dataframe natalitydata and list-of-lists datadictionary\n",
    "    (for example [[43, 44, \"MATERNALAGE\"]] ) and return a pandas dataframe (same \n",
    "    number of rows) with labeled columns  '''\n",
    "    intermediate_data={}\n",
    "    # First, populate intermediate_data with empty lists for each column_name\n",
    "    for start, stop, column_name in datadictionary:\n",
    "        intermediate_data[column_name] = []\n",
    "    for idx in natalitydata.index:\n",
    "        for start, stop, column_name in datadictionary:\n",
    "            if idx < 3:\n",
    "                datafield = natalitydata.loc[idx][0][start:(stop+1)]\n",
    "                print(idx, start,stop, column_name, datafield)\n",
    "    return intermediate_data"
   ]
  },
  {
   "cell_type": "code",
   "execution_count": 67,
   "metadata": {},
   "outputs": [
    {
     "name": "stdout",
     "output_type": "stream",
     "text": [
      "0 84 85 MONTHOFBIRTH 10\n",
      "0 86 87 DAYOFMONTH 80\n",
      "1 84 85 MONTHOFBIRTH 10\n",
      "1 86 87 DAYOFMONTH 10\n",
      "2 84 85 MONTHOFBIRTH 10\n",
      "2 86 87 DAYOFMONTH 70\n"
     ]
    },
    {
     "data": {
      "text/plain": [
       "{'MONTHOFBIRTH': [], 'DAYOFMONTH': []}"
      ]
     },
     "execution_count": 67,
     "metadata": {},
     "output_type": "execute_result"
    }
   ],
   "source": [
    "parse_natality(n1988, dict1988)"
   ]
  },
  {
   "cell_type": "code",
   "execution_count": 69,
   "metadata": {},
   "outputs": [],
   "source": [
    "# Well, that's not right.  Day of month 80?  Birth order 0?  Off-by-one again\n",
    "def parse_natality(natalitydata, datadictionary):\n",
    "    '''Take in pandas dataframe natalitydata and list-of-lists datadictionary\n",
    "    (for example [[43, 44, \"MATERNALAGE\"]] ) and return a pandas dataframe (same \n",
    "    number of rows) with labeled columns  '''\n",
    "    intermediate_data={}\n",
    "    for start, stop, column_name in datadictionary:\n",
    "        intermediate_data[column_name] = []\n",
    "    for idx in natalitydata.index:\n",
    "        for start, stop, column_name in datadictionary:\n",
    "            if idx < 3:\n",
    "                datafield = natalitydata.loc[idx][0][start-1:(stop-1+1)]\n",
    "                print(idx, start,stop, column_name, datafield)\n",
    "    return intermediate_data"
   ]
  },
  {
   "cell_type": "code",
   "execution_count": 70,
   "metadata": {},
   "outputs": [
    {
     "name": "stdout",
     "output_type": "stream",
     "text": [
      "0 84 85 MONTHOFBIRTH 01\n",
      "0 86 87 DAYOFMONTH 08\n",
      "1 84 85 MONTHOFBIRTH 01\n",
      "1 86 87 DAYOFMONTH 01\n",
      "2 84 85 MONTHOFBIRTH 01\n",
      "2 86 87 DAYOFMONTH 07\n"
     ]
    },
    {
     "data": {
      "text/plain": [
       "{'MONTHOFBIRTH': [], 'DAYOFMONTH': []}"
      ]
     },
     "execution_count": 70,
     "metadata": {},
     "output_type": "execute_result"
    }
   ],
   "source": [
    "parse_natality(n1988, dict1988)"
   ]
  },
  {
   "cell_type": "code",
   "execution_count": 71,
   "metadata": {},
   "outputs": [],
   "source": [
    "# These values look sane now, so let us put the data in lists.\n",
    "def parse_natality(natalitydata, datadictionary):\n",
    "    '''Take in pandas dataframe natalitydata and list-of-lists datadictionary\n",
    "    (for example [[43, 44, \"MATERNALAGE\"]] ) and return a pandas dataframe (same \n",
    "    number of rows) with labeled columns  '''\n",
    "    intermediate_data={}\n",
    "    for start, stop, column_name in datadictionary:\n",
    "        intermediate_data[column_name] = []\n",
    "    for idx in natalitydata.index:\n",
    "        for start, stop, column_name in datadictionary:\n",
    "            datafield = natalitydata.loc[idx][0][start-1:(stop-1+1)]\n",
    "            intermediate_data[column_name].append(datafield)\n",
    "   #         if idx < 3:\n",
    "   #              print(idx, start,stop, column_name, natalitydata.loc[idx][0][start-1:(stop-1+1)])\n",
    "    return intermediate_data"
   ]
  },
  {
   "cell_type": "code",
   "execution_count": null,
   "metadata": {
    "collapsed": true,
    "jupyter": {
     "outputs_hidden": true
    }
   },
   "outputs": [],
   "source": [
    "parse_natality(n1988, dict1988)"
   ]
  },
  {
   "cell_type": "code",
   "execution_count": 73,
   "metadata": {},
   "outputs": [
    {
     "name": "stdout",
     "output_type": "stream",
     "text": [
      "744.03156208992\n"
     ]
    }
   ],
   "source": [
    "# Takes a while this time.  And it returns a hash of lists.  I'd prefer pandas data frames..\n",
    "import time\n",
    "starttime = time.time()\n",
    "parse_natality(n1988, dict1988)\n",
    "stoptime = time.time()\n",
    "print(stoptime-starttime)   # Agh.   12 minutes "
   ]
  },
  {
   "cell_type": "code",
   "execution_count": 75,
   "metadata": {},
   "outputs": [
    {
     "data": {
      "text/plain": [
       "39138"
      ]
     },
     "execution_count": 75,
     "metadata": {},
     "output_type": "execute_result"
    }
   ],
   "source": [
    "# My code doesn't even give me a dataframe yet and it's taking forever.  \n",
    "# Faster feedback will take me to my goal faster.. so create a dataframe \n",
    "# that only has 1% of the data: \n",
    "n1988sample = n1988[::100]\n",
    "len(n1988sample)"
   ]
  },
  {
   "cell_type": "code",
   "execution_count": 74,
   "metadata": {},
   "outputs": [],
   "source": [
    "# transfer data from intermediate_data hash to pandas dataframe at the end\n",
    "def parse_natality(natalitydata, datadictionary):\n",
    "    '''Take in pandas dataframe natalitydata and list-of-lists datadictionary\n",
    "    (for example [[43, 44, \"MATERNALAGE\"]] ) and return a pandas dataframe (same \n",
    "    number of rows) with labeled columns  '''\n",
    "    intermediate_data={}\n",
    "    for start, stop, column_name in datadictionary:\n",
    "        intermediate_data[column_name] = []\n",
    "    for idx in natalitydata.index:\n",
    "        for start, stop, column_name in datadictionary:\n",
    "            intermediate_data[column_name].append(natalitydata.loc[idx][0][start-1:(stop-1+1)])\n",
    "   #         if idx < 3:\n",
    "   #              print(idx, start,stop, column_name, natalitydata.loc[idx][0][start-1:(stop-1+1)])\n",
    "    df = pd.DataFrame()\n",
    "    for start, stop, column_name in datadictionary:\n",
    "        print(column_name)\n",
    "        df[column_name] = pd.Series(intermediate_data[column_name])\n",
    "    return df"
   ]
  },
  {
   "cell_type": "code",
   "execution_count": 76,
   "metadata": {},
   "outputs": [
    {
     "name": "stdout",
     "output_type": "stream",
     "text": [
      "MONTHOFBIRTH\n",
      "DAYOFMONTH\n",
      "6.547459840774536\n"
     ]
    }
   ],
   "source": [
    "starttime=time.time()\n",
    "df = parse_natality(n1988sample, dict1988)\n",
    "stoptime=time.time()\n",
    "print(stoptime-starttime)"
   ]
  },
  {
   "cell_type": "code",
   "execution_count": 77,
   "metadata": {},
   "outputs": [
    {
     "data": {
      "text/html": [
       "<div>\n",
       "<style scoped>\n",
       "    .dataframe tbody tr th:only-of-type {\n",
       "        vertical-align: middle;\n",
       "    }\n",
       "\n",
       "    .dataframe tbody tr th {\n",
       "        vertical-align: top;\n",
       "    }\n",
       "\n",
       "    .dataframe thead th {\n",
       "        text-align: right;\n",
       "    }\n",
       "</style>\n",
       "<table border=\"1\" class=\"dataframe\">\n",
       "  <thead>\n",
       "    <tr style=\"text-align: right;\">\n",
       "      <th></th>\n",
       "      <th>MONTHOFBIRTH</th>\n",
       "      <th>DAYOFMONTH</th>\n",
       "    </tr>\n",
       "  </thead>\n",
       "  <tbody>\n",
       "    <tr>\n",
       "      <th>0</th>\n",
       "      <td>01</td>\n",
       "      <td>08</td>\n",
       "    </tr>\n",
       "    <tr>\n",
       "      <th>1</th>\n",
       "      <td>01</td>\n",
       "      <td>07</td>\n",
       "    </tr>\n",
       "    <tr>\n",
       "      <th>2</th>\n",
       "      <td>01</td>\n",
       "      <td>04</td>\n",
       "    </tr>\n",
       "    <tr>\n",
       "      <th>3</th>\n",
       "      <td>01</td>\n",
       "      <td>02</td>\n",
       "    </tr>\n",
       "    <tr>\n",
       "      <th>4</th>\n",
       "      <td>01</td>\n",
       "      <td>03</td>\n",
       "    </tr>\n",
       "    <tr>\n",
       "      <th>...</th>\n",
       "      <td>...</td>\n",
       "      <td>...</td>\n",
       "    </tr>\n",
       "    <tr>\n",
       "      <th>39133</th>\n",
       "      <td>12</td>\n",
       "      <td>08</td>\n",
       "    </tr>\n",
       "    <tr>\n",
       "      <th>39134</th>\n",
       "      <td>12</td>\n",
       "      <td>06</td>\n",
       "    </tr>\n",
       "    <tr>\n",
       "      <th>39135</th>\n",
       "      <td>12</td>\n",
       "      <td>31</td>\n",
       "    </tr>\n",
       "    <tr>\n",
       "      <th>39136</th>\n",
       "      <td>11</td>\n",
       "      <td>01</td>\n",
       "    </tr>\n",
       "    <tr>\n",
       "      <th>39137</th>\n",
       "      <td>06</td>\n",
       "      <td>07</td>\n",
       "    </tr>\n",
       "  </tbody>\n",
       "</table>\n",
       "<p>39138 rows × 2 columns</p>\n",
       "</div>"
      ],
      "text/plain": [
       "      MONTHOFBIRTH DAYOFMONTH\n",
       "0               01         08\n",
       "1               01         07\n",
       "2               01         04\n",
       "3               01         02\n",
       "4               01         03\n",
       "...            ...        ...\n",
       "39133           12         08\n",
       "39134           12         06\n",
       "39135           12         31\n",
       "39136           11         01\n",
       "39137           06         07\n",
       "\n",
       "[39138 rows x 2 columns]"
      ]
     },
     "execution_count": 77,
     "metadata": {},
     "output_type": "execute_result"
    }
   ],
   "source": [
    "df"
   ]
  },
  {
   "cell_type": "code",
   "execution_count": 247,
   "metadata": {
    "collapsed": true,
    "jupyter": {
     "outputs_hidden": true
    }
   },
   "outputs": [
    {
     "name": "stdout",
     "output_type": "stream",
     "text": [
      "MONTHOFBIRTH\n",
      "DAYOFMONTH\n",
      "BIRTHODRDER\n",
      "MATERNALAGE\n",
      "1980.126319885254\n"
     ]
    }
   ],
   "source": [
    "#  This puts my data in a reasonably good place, but now I worry about efficiency.\n",
    "#  This didn't take long, but it was 1% of the whole dataset.\n",
    "#  I only have to run this when I want to get new columns, but still, I want to \n",
    "#  lower my personal cost of accessing information.\n",
    "\n",
    "# Why am I looping through all 4M records?  Because I am accessing \n",
    "# the columns by .loc[i][colnumber].  Can pandas help me?\n",
    "# https://pandas.pydata.org/pandas-docs/version/1.3/user_guide/text.html \n",
    "\n",
    "# pd.str.get() will extract a single column *as a pandas dataframe*,\n",
    "# so I can get all the rows with a single operation. "
   ]
  },
  {
   "cell_type": "code",
   "execution_count": 82,
   "metadata": {},
   "outputs": [
    {
     "data": {
      "text/plain": [
       "0          1\n",
       "100        1\n",
       "200        1\n",
       "300        1\n",
       "400        1\n",
       "          ..\n",
       "3913300    1\n",
       "3913400    1\n",
       "3913500    1\n",
       "3913600    1\n",
       "3913700    1\n",
       "Name: 0, Length: 39138, dtype: object"
      ]
     },
     "execution_count": 82,
     "metadata": {},
     "output_type": "execute_result"
    }
   ],
   "source": [
    "n1988sample[0].str.get(80)"
   ]
  },
  {
   "cell_type": "code",
   "execution_count": 87,
   "metadata": {},
   "outputs": [],
   "source": [
    "def parse_natality(natalitydata, datadictionary):\n",
    "    '''Take in pandas dataframe natalitydata and list-of-lists datadictionary\n",
    "    (for example [[43, 44, \"MATERNALAGE\"]] ) and return a pandas dataframe (same \n",
    "    number of rows) with labeled columns  '''\n",
    "    df = pd.DataFrame()\n",
    "    for start, stop, column_name in datadictionary:\n",
    "        df[column_name] = natalitydata[0].str.get(start-1)\n",
    "    return df\n"
   ]
  },
  {
   "cell_type": "code",
   "execution_count": 88,
   "metadata": {},
   "outputs": [
    {
     "name": "stdout",
     "output_type": "stream",
     "text": [
      "0.160660982131958\n"
     ]
    }
   ],
   "source": [
    "starttime=time.time()\n",
    "df = parse_natality(n1988sample, dict1988) \n",
    "stoptime=time.time()\n",
    "print(stoptime-starttime)"
   ]
  },
  {
   "cell_type": "code",
   "execution_count": 89,
   "metadata": {},
   "outputs": [
    {
     "data": {
      "text/html": [
       "<div>\n",
       "<style scoped>\n",
       "    .dataframe tbody tr th:only-of-type {\n",
       "        vertical-align: middle;\n",
       "    }\n",
       "\n",
       "    .dataframe tbody tr th {\n",
       "        vertical-align: top;\n",
       "    }\n",
       "\n",
       "    .dataframe thead th {\n",
       "        text-align: right;\n",
       "    }\n",
       "</style>\n",
       "<table border=\"1\" class=\"dataframe\">\n",
       "  <thead>\n",
       "    <tr style=\"text-align: right;\">\n",
       "      <th></th>\n",
       "      <th>MONTHOFBIRTH</th>\n",
       "      <th>DAYOFMONTH</th>\n",
       "    </tr>\n",
       "  </thead>\n",
       "  <tbody>\n",
       "    <tr>\n",
       "      <th>0</th>\n",
       "      <td>0</td>\n",
       "      <td>0</td>\n",
       "    </tr>\n",
       "    <tr>\n",
       "      <th>100</th>\n",
       "      <td>0</td>\n",
       "      <td>0</td>\n",
       "    </tr>\n",
       "    <tr>\n",
       "      <th>200</th>\n",
       "      <td>0</td>\n",
       "      <td>0</td>\n",
       "    </tr>\n",
       "    <tr>\n",
       "      <th>300</th>\n",
       "      <td>0</td>\n",
       "      <td>0</td>\n",
       "    </tr>\n",
       "    <tr>\n",
       "      <th>400</th>\n",
       "      <td>0</td>\n",
       "      <td>0</td>\n",
       "    </tr>\n",
       "    <tr>\n",
       "      <th>...</th>\n",
       "      <td>...</td>\n",
       "      <td>...</td>\n",
       "    </tr>\n",
       "    <tr>\n",
       "      <th>3913300</th>\n",
       "      <td>1</td>\n",
       "      <td>0</td>\n",
       "    </tr>\n",
       "    <tr>\n",
       "      <th>3913400</th>\n",
       "      <td>1</td>\n",
       "      <td>0</td>\n",
       "    </tr>\n",
       "    <tr>\n",
       "      <th>3913500</th>\n",
       "      <td>1</td>\n",
       "      <td>3</td>\n",
       "    </tr>\n",
       "    <tr>\n",
       "      <th>3913600</th>\n",
       "      <td>1</td>\n",
       "      <td>0</td>\n",
       "    </tr>\n",
       "    <tr>\n",
       "      <th>3913700</th>\n",
       "      <td>0</td>\n",
       "      <td>0</td>\n",
       "    </tr>\n",
       "  </tbody>\n",
       "</table>\n",
       "<p>39138 rows × 2 columns</p>\n",
       "</div>"
      ],
      "text/plain": [
       "        MONTHOFBIRTH DAYOFMONTH\n",
       "0                  0          0\n",
       "100                0          0\n",
       "200                0          0\n",
       "300                0          0\n",
       "400                0          0\n",
       "...              ...        ...\n",
       "3913300            1          0\n",
       "3913400            1          0\n",
       "3913500            1          3\n",
       "3913600            1          0\n",
       "3913700            0          0\n",
       "\n",
       "[39138 rows x 2 columns]"
      ]
     },
     "execution_count": 89,
     "metadata": {},
     "output_type": "execute_result"
    }
   ],
   "source": [
    "df"
   ]
  },
  {
   "cell_type": "code",
   "execution_count": null,
   "metadata": {},
   "outputs": [],
   "source": [
    "# almost there, but pd.str.get()  only gets one column at a time.\n"
   ]
  },
  {
   "cell_type": "code",
   "execution_count": 90,
   "metadata": {},
   "outputs": [],
   "source": [
    "def parse_natality(natalitydata, datadictionary):\n",
    "    '''Take in pandas dataframe natalitydata and list-of-lists datadictionary\n",
    "    (for example [[43, 44, \"MATERNALAGE\"]] ) and return a pandas dataframe (same \n",
    "    number of rows) with labeled columns  '''\n",
    "    df = pd.DataFrame()\n",
    "    for start, stop, column_name in datadictionary:\n",
    "        # Get the first column (start)\n",
    "        df[column_name] = natalitydata[0].str.get(start-1)\n",
    "        # Get the remaining columns\n",
    "        for i in range(1, stop-start + 1):\n",
    "            df[column_name]=  df[column_name].str.cat(natalitydata[0].str.get(start-1+i))\n",
    "    return df"
   ]
  },
  {
   "cell_type": "code",
   "execution_count": 91,
   "metadata": {},
   "outputs": [
    {
     "name": "stdout",
     "output_type": "stream",
     "text": [
      "0.2548980712890625\n"
     ]
    },
    {
     "data": {
      "text/html": [
       "<div>\n",
       "<style scoped>\n",
       "    .dataframe tbody tr th:only-of-type {\n",
       "        vertical-align: middle;\n",
       "    }\n",
       "\n",
       "    .dataframe tbody tr th {\n",
       "        vertical-align: top;\n",
       "    }\n",
       "\n",
       "    .dataframe thead th {\n",
       "        text-align: right;\n",
       "    }\n",
       "</style>\n",
       "<table border=\"1\" class=\"dataframe\">\n",
       "  <thead>\n",
       "    <tr style=\"text-align: right;\">\n",
       "      <th></th>\n",
       "      <th>MONTHOFBIRTH</th>\n",
       "      <th>DAYOFMONTH</th>\n",
       "    </tr>\n",
       "  </thead>\n",
       "  <tbody>\n",
       "    <tr>\n",
       "      <th>0</th>\n",
       "      <td>01</td>\n",
       "      <td>08</td>\n",
       "    </tr>\n",
       "    <tr>\n",
       "      <th>100</th>\n",
       "      <td>01</td>\n",
       "      <td>07</td>\n",
       "    </tr>\n",
       "    <tr>\n",
       "      <th>200</th>\n",
       "      <td>01</td>\n",
       "      <td>04</td>\n",
       "    </tr>\n",
       "    <tr>\n",
       "      <th>300</th>\n",
       "      <td>01</td>\n",
       "      <td>02</td>\n",
       "    </tr>\n",
       "    <tr>\n",
       "      <th>400</th>\n",
       "      <td>01</td>\n",
       "      <td>03</td>\n",
       "    </tr>\n",
       "  </tbody>\n",
       "</table>\n",
       "</div>"
      ],
      "text/plain": [
       "    MONTHOFBIRTH DAYOFMONTH\n",
       "0             01         08\n",
       "100           01         07\n",
       "200           01         04\n",
       "300           01         02\n",
       "400           01         03"
      ]
     },
     "execution_count": 91,
     "metadata": {},
     "output_type": "execute_result"
    }
   ],
   "source": [
    "starttime=time.time()\n",
    "df = parse_natality(n1988sample, dict1988) \n",
    "stoptime=time.time()\n",
    "print(stoptime-starttime)\n",
    "df.head()"
   ]
  },
  {
   "cell_type": "code",
   "execution_count": 92,
   "metadata": {},
   "outputs": [
    {
     "name": "stdout",
     "output_type": "stream",
     "text": [
      "13.163327932357788\n"
     ]
    },
    {
     "data": {
      "text/html": [
       "<div>\n",
       "<style scoped>\n",
       "    .dataframe tbody tr th:only-of-type {\n",
       "        vertical-align: middle;\n",
       "    }\n",
       "\n",
       "    .dataframe tbody tr th {\n",
       "        vertical-align: top;\n",
       "    }\n",
       "\n",
       "    .dataframe thead th {\n",
       "        text-align: right;\n",
       "    }\n",
       "</style>\n",
       "<table border=\"1\" class=\"dataframe\">\n",
       "  <thead>\n",
       "    <tr style=\"text-align: right;\">\n",
       "      <th></th>\n",
       "      <th>MONTHOFBIRTH</th>\n",
       "      <th>DAYOFMONTH</th>\n",
       "    </tr>\n",
       "  </thead>\n",
       "  <tbody>\n",
       "    <tr>\n",
       "      <th>0</th>\n",
       "      <td>01</td>\n",
       "      <td>08</td>\n",
       "    </tr>\n",
       "    <tr>\n",
       "      <th>1</th>\n",
       "      <td>01</td>\n",
       "      <td>01</td>\n",
       "    </tr>\n",
       "    <tr>\n",
       "      <th>2</th>\n",
       "      <td>01</td>\n",
       "      <td>07</td>\n",
       "    </tr>\n",
       "    <tr>\n",
       "      <th>3</th>\n",
       "      <td>01</td>\n",
       "      <td>06</td>\n",
       "    </tr>\n",
       "    <tr>\n",
       "      <th>4</th>\n",
       "      <td>01</td>\n",
       "      <td>01</td>\n",
       "    </tr>\n",
       "  </tbody>\n",
       "</table>\n",
       "</div>"
      ],
      "text/plain": [
       "  MONTHOFBIRTH DAYOFMONTH\n",
       "0           01         08\n",
       "1           01         01\n",
       "2           01         07\n",
       "3           01         06\n",
       "4           01         01"
      ]
     },
     "execution_count": 92,
     "metadata": {},
     "output_type": "execute_result"
    }
   ],
   "source": [
    "# Looks reasonable.  We can expand to the entire dataset and\n",
    "# make sure it completes in a reaosonable time:\n",
    "starttime=time.time()\n",
    "df = parse_natality(n1988, dict1988) \n",
    "stoptime=time.time()\n",
    "print(stoptime-starttime)\n",
    "df.head()"
   ]
  },
  {
   "cell_type": "code",
   "execution_count": 96,
   "metadata": {},
   "outputs": [
    {
     "data": {
      "text/plain": [
       "pandas.core.series.Series"
      ]
     },
     "execution_count": 96,
     "metadata": {},
     "output_type": "execute_result"
    }
   ],
   "source": [
    "type(df.MONTHOFBIRTH)"
   ]
  },
  {
   "cell_type": "code",
   "execution_count": 97,
   "metadata": {},
   "outputs": [
    {
     "data": {
      "text/plain": [
       "str"
      ]
     },
     "execution_count": 97,
     "metadata": {},
     "output_type": "execute_result"
    }
   ],
   "source": [
    "# That doesn't answer my question\n",
    "type(df.MONTHOFBIRTH[0])\n",
    "# One more picky little request.. numeric data types?\n"
   ]
  },
  {
   "cell_type": "code",
   "execution_count": 98,
   "metadata": {},
   "outputs": [],
   "source": [
    "def parse_natality(natalitydata, datadictionary):\n",
    "    '''Take in pandas dataframe natalitydata and list-of-lists datadictionary\n",
    "    (for example [[43, 44, \"MATERNALAGE\"]] ) and return a pandas dataframe (same \n",
    "    number of rows) with labeled columns  '''\n",
    "    df = pd.DataFrame()\n",
    "    for start, stop, column_name in datadictionary:\n",
    "        # Get the first column (start)\n",
    "        df[column_name] = natalitydata[0].str.get(start-1)\n",
    "        # Get the remaining columns\n",
    "        for i in range(1, stop-start + 1):\n",
    "            df[column_name]=  df[column_name].str.cat(natalitydata[0].str.get(start-1+i))\n",
    "    return df\n",
    "    for start, stop, column_name in datadictionary:\n",
    "        pd[column_name] = pd.to_numeric(pd[column_name])"
   ]
  },
  {
   "cell_type": "code",
   "execution_count": 102,
   "metadata": {},
   "outputs": [
    {
     "data": {
      "text/plain": [
       "str"
      ]
     },
     "execution_count": 102,
     "metadata": {},
     "output_type": "execute_result"
    }
   ],
   "source": [
    "df = parse_natality(n1988, dict1988) \n",
    "type(df.MONTHOFBIRTH[0])\n",
    "df.head()"
   ]
  },
  {
   "cell_type": "code",
   "execution_count": 104,
   "metadata": {},
   "outputs": [],
   "source": [
    "# I am now satisfied that it is working.\n",
    "dict1988 =[\n",
    "    [84, 85, \"MONTHOFBIRTH\"],\n",
    "    [86, 87, \"DAYOFMONTH\"],\n",
    "    [60, 60, \"BIRTHODRDER\"],\n",
    "    [41, 42, \"MATERNALAGE\"],\n",
    "    [28, 29, \"STATE\"], \n",
    "    [69, 70, \"PATERNALAGE\"],\n",
    "]"
   ]
  },
  {
   "cell_type": "code",
   "execution_count": 105,
   "metadata": {},
   "outputs": [],
   "source": [
    "df = parse_natality(n1988, dict1988) \n"
   ]
  },
  {
   "cell_type": "code",
   "execution_count": 106,
   "metadata": {},
   "outputs": [],
   "source": [
    "age = df.MATERNALAGE.value_counts()"
   ]
  },
  {
   "cell_type": "code",
   "execution_count": 107,
   "metadata": {},
   "outputs": [
    {
     "data": {
      "text/plain": [
       "10        15\n",
       "11        36\n",
       "12       223\n",
       "13      1804\n",
       "14      8511\n",
       "15     25611\n",
       "16     55186\n",
       "17     95932\n",
       "18    133487\n",
       "19    168485\n",
       "20    185349\n",
       "21    199385\n",
       "22    212940\n",
       "23    228896\n",
       "24    241980\n",
       "25    251485\n",
       "26    255604\n",
       "27    256243\n",
       "28    245423\n",
       "29    232004\n",
       "30    212852\n",
       "31    185984\n",
       "32    160421\n",
       "33    134290\n",
       "34    110971\n",
       "35     88625\n",
       "36     68112\n",
       "37     50907\n",
       "38     36545\n",
       "39     25657\n",
       "40     17491\n",
       "41     11305\n",
       "42      5845\n",
       "43      3121\n",
       "44      1639\n",
       "45       772\n",
       "46       390\n",
       "47       137\n",
       "48        88\n",
       "49        42\n",
       "Name: MATERNALAGE, dtype: int64"
      ]
     },
     "execution_count": 107,
     "metadata": {},
     "output_type": "execute_result"
    }
   ],
   "source": [
    "df.MATERNALAGE.value_counts().sort_index()"
   ]
  },
  {
   "cell_type": "code",
   "execution_count": null,
   "metadata": {},
   "outputs": [],
   "source": []
  },
  {
   "cell_type": "code",
   "execution_count": null,
   "metadata": {},
   "outputs": [],
   "source": []
  },
  {
   "cell_type": "code",
   "execution_count": null,
   "metadata": {},
   "outputs": [],
   "source": []
  },
  {
   "cell_type": "code",
   "execution_count": 255,
   "metadata": {
    "collapsed": true,
    "jupyter": {
     "outputs_hidden": true
    }
   },
   "outputs": [
    {
     "data": {
      "text/plain": [
       "{'01': 'AL',\n",
       " '02': 'AK',\n",
       " '03': 'AZ',\n",
       " '04': 'AR',\n",
       " '05': 'CA',\n",
       " '06': 'CO',\n",
       " '07': 'CT',\n",
       " '08': 'DE',\n",
       " '09': 'DC',\n",
       " '10': 'FL',\n",
       " '11': 'GA',\n",
       " '12': 'HI',\n",
       " '13': 'ID',\n",
       " '14': 'IL',\n",
       " '15': 'IN',\n",
       " '16': 'IA',\n",
       " '17': 'KS',\n",
       " '18': 'MD',\n",
       " '19': 'ME',\n",
       " '20': 'LA',\n",
       " '21': 'KY',\n",
       " '22': 'MA',\n",
       " '23': 'MI',\n",
       " '24': 'MN',\n",
       " '25': 'MS',\n",
       " '26': 'MO',\n",
       " '27': 'MT',\n",
       " '28': 'NE',\n",
       " '29': 'NV',\n",
       " '30': 'NH',\n",
       " '31': 'NJ',\n",
       " '32': 'NM',\n",
       " '33': 'NY',\n",
       " '34': 'NC',\n",
       " '35': 'ND',\n",
       " '36': 'OH',\n",
       " '37': 'OK',\n",
       " '38': 'OR',\n",
       " '39': 'PA',\n",
       " '40': 'RI',\n",
       " '41': 'SC',\n",
       " '42': 'SD',\n",
       " '43': 'TN',\n",
       " '44': 'TX',\n",
       " '45': 'UT',\n",
       " '46': 'VT',\n",
       " '47': 'VA',\n",
       " '48': 'WA',\n",
       " '49': 'WV',\n",
       " '50': 'WI',\n",
       " '51': 'WY'}"
      ]
     },
     "execution_count": 255,
     "metadata": {},
     "output_type": "execute_result"
    }
   ],
   "source": []
  },
  {
   "cell_type": "code",
   "execution_count": 108,
   "metadata": {},
   "outputs": [],
   "source": [
    "age = df.MATERNALAGE.value_counts()"
   ]
  },
  {
   "cell_type": "code",
   "execution_count": 109,
   "metadata": {},
   "outputs": [
    {
     "data": {
      "text/plain": [
       "10        15\n",
       "11        36\n",
       "12       223\n",
       "13      1804\n",
       "14      8511\n",
       "15     25611\n",
       "16     55186\n",
       "17     95932\n",
       "18    133487\n",
       "19    168485\n",
       "20    185349\n",
       "21    199385\n",
       "22    212940\n",
       "23    228896\n",
       "24    241980\n",
       "25    251485\n",
       "26    255604\n",
       "27    256243\n",
       "28    245423\n",
       "29    232004\n",
       "30    212852\n",
       "31    185984\n",
       "32    160421\n",
       "33    134290\n",
       "34    110971\n",
       "35     88625\n",
       "36     68112\n",
       "37     50907\n",
       "38     36545\n",
       "39     25657\n",
       "40     17491\n",
       "41     11305\n",
       "42      5845\n",
       "43      3121\n",
       "44      1639\n",
       "45       772\n",
       "46       390\n",
       "47       137\n",
       "48        88\n",
       "49        42\n",
       "Name: MATERNALAGE, dtype: int64"
      ]
     },
     "execution_count": 109,
     "metadata": {},
     "output_type": "execute_result"
    }
   ],
   "source": [
    "df.MATERNALAGE.value_counts().sort_index()"
   ]
  },
  {
   "cell_type": "code",
   "execution_count": 110,
   "metadata": {},
   "outputs": [
    {
     "data": {
      "text/plain": [
       "<BarContainer object of 40 artists>"
      ]
     },
     "execution_count": 110,
     "metadata": {},
     "output_type": "execute_result"
    },
    {
     "data": {
      "image/png": "[encoded data removed]",
      "text/plain": [
       "<Figure size 432x288 with 1 Axes>"
      ]
     },
     "metadata": {
      "needs_background": "light"
     },
     "output_type": "display_data"
    }
   ],
   "source": [
    "plt.bar(x=df.MATERNALAGE.value_counts().sort_index().index, height=df.MATERNALAGE.value_counts().sort_index().values)"
   ]
  },
  {
   "cell_type": "code",
   "execution_count": 111,
   "metadata": {},
   "outputs": [
    {
     "data": {
      "text/plain": [
       "<BarContainer object of 40 artists>"
      ]
     },
     "execution_count": 111,
     "metadata": {},
     "output_type": "execute_result"
    },
    {
     "data": {
      "image/png": "[encoded data removed]",
      "text/plain": [
       "<Figure size 1080x576 with 1 Axes>"
      ]
     },
     "metadata": {
      "needs_background": "light"
     },
     "output_type": "display_data"
    }
   ],
   "source": [
    "plt.figure(figsize=(15,8))\n",
    "plt.bar(x=df.MATERNALAGE.value_counts().sort_index().index, height=df.MATERNALAGE.value_counts().sort_index().values)\n"
   ]
  },
  {
   "cell_type": "code",
   "execution_count": 115,
   "metadata": {},
   "outputs": [
    {
     "data": {
      "text/plain": [
       "(array([[3.30000e+02, 1.52000e+02, 1.80000e+01, 4.00000e+00, 1.00000e+00,\n",
       "         0.00000e+00, 0.00000e+00, 0.00000e+00, 0.00000e+00, 1.57300e+03],\n",
       "        [3.00350e+04, 5.94940e+04, 2.66400e+03, 3.02000e+02, 4.90000e+01,\n",
       "         1.20000e+01, 3.00000e+00, 2.00000e+00, 0.00000e+00, 9.26790e+04],\n",
       "        [2.37280e+04, 4.04708e+05, 4.97680e+04, 4.98400e+03, 7.33000e+02,\n",
       "         1.60000e+02, 4.70000e+01, 1.10000e+01, 0.00000e+00, 2.02567e+05],\n",
       "        [1.71000e+03, 5.29612e+05, 2.42126e+05, 2.18470e+04, 2.77900e+03,\n",
       "         5.56000e+02, 1.00000e+02, 1.80000e+01, 3.00000e+00, 1.36550e+05],\n",
       "        [3.33000e+02, 2.35694e+05, 6.07801e+05, 5.78670e+04, 6.03700e+03,\n",
       "         9.74000e+02, 1.55000e+02, 1.90000e+01, 2.00000e+00, 8.03920e+04],\n",
       "        [1.11000e+02, 4.21460e+04, 4.92953e+05, 1.03438e+05, 9.32400e+03,\n",
       "         1.37100e+03, 1.97000e+02, 2.30000e+01, 6.00000e+00, 4.39780e+04],\n",
       "        [4.00000e+01, 1.04440e+04, 1.55220e+05, 1.20602e+05, 1.05510e+04,\n",
       "         1.51600e+03, 2.69000e+02, 3.50000e+01, 4.00000e+00, 1.99340e+04],\n",
       "        [2.80000e+01, 2.19400e+03, 2.00390e+04, 5.26500e+04, 7.85000e+03,\n",
       "         1.13500e+03, 1.82000e+02, 2.00000e+01, 2.00000e+00, 6.89800e+03],\n",
       "        [0.00000e+00, 2.16000e+02, 1.53600e+03, 5.51800e+03, 2.64200e+03,\n",
       "         3.73000e+02, 5.80000e+01, 8.00000e+00, 2.00000e+00, 1.02400e+03],\n",
       "        [0.00000e+00, 1.10000e+01, 5.90000e+01, 1.32000e+02, 3.27000e+02,\n",
       "         5.00000e+01, 1.00000e+01, 2.00000e+00, 0.00000e+00, 6.60000e+01]]),\n",
       " array([10. , 13.9, 17.8, 21.7, 25.6, 29.5, 33.4, 37.3, 41.2, 45.1, 49. ]),\n",
       " array([10. , 18.9, 27.8, 36.7, 45.6, 54.5, 63.4, 72.3, 81.2, 90.1, 99. ]),\n",
       " <matplotlib.collections.QuadMesh at 0x7febf4c73fa0>)"
      ]
     },
     "execution_count": 115,
     "metadata": {},
     "output_type": "execute_result"
    },
    {
     "data": {
      "image/png": "[encoded data removed]",
      "text/plain": [
       "<Figure size 432x288 with 1 Axes>"
      ]
     },
     "metadata": {
      "needs_background": "light"
     },
     "output_type": "display_data"
    }
   ],
   "source": [
    "plt.hist2d(pd.to_numeric(df[\"MATERNALAGE\"]), pd.to_numeric(df[\"PATERNALAGE\"]))"
   ]
  },
  {
   "cell_type": "code",
   "execution_count": 117,
   "metadata": {},
   "outputs": [
    {
     "data": {
      "text/plain": [
       "(array([[0.00000e+00, 1.00000e+00, 1.00000e+00, 4.00000e+00, 5.00000e+00,\n",
       "         0.00000e+00, 2.00000e+00, 3.00000e+00, 1.00000e+00, 2.00000e+00,\n",
       "         0.00000e+00, 0.00000e+00, 0.00000e+00, 0.00000e+00, 0.00000e+00,\n",
       "         0.00000e+00, 0.00000e+00, 0.00000e+00, 0.00000e+00, 0.00000e+00,\n",
       "         0.00000e+00, 0.00000e+00, 0.00000e+00, 0.00000e+00, 0.00000e+00,\n",
       "         0.00000e+00, 0.00000e+00, 0.00000e+00, 0.00000e+00, 3.20000e+01],\n",
       "        [1.00000e+00, 1.50000e+01, 1.60000e+01, 1.10000e+01, 2.00000e+00,\n",
       "         3.00000e+00, 0.00000e+00, 0.00000e+00, 0.00000e+00, 0.00000e+00,\n",
       "         0.00000e+00, 0.00000e+00, 0.00000e+00, 0.00000e+00, 0.00000e+00,\n",
       "         0.00000e+00, 0.00000e+00, 0.00000e+00, 0.00000e+00, 0.00000e+00,\n",
       "         0.00000e+00, 0.00000e+00, 0.00000e+00, 0.00000e+00, 0.00000e+00,\n",
       "         0.00000e+00, 0.00000e+00, 0.00000e+00, 0.00000e+00, 1.75000e+02],\n",
       "        [0.00000e+00, 6.80000e+01, 2.28000e+02, 8.90000e+01, 3.00000e+01,\n",
       "         8.00000e+00, 6.00000e+00, 3.00000e+00, 3.00000e+00, 1.00000e+00,\n",
       "         1.00000e+00, 0.00000e+00, 0.00000e+00, 1.00000e+00, 0.00000e+00,\n",
       "         0.00000e+00, 0.00000e+00, 0.00000e+00, 0.00000e+00, 0.00000e+00,\n",
       "         0.00000e+00, 0.00000e+00, 0.00000e+00, 0.00000e+00, 0.00000e+00,\n",
       "         0.00000e+00, 0.00000e+00, 0.00000e+00, 0.00000e+00, 1.36600e+03],\n",
       "        [1.00000e+00, 7.05000e+02, 6.12500e+03, 4.21200e+03, 1.34600e+03,\n",
       "         4.43000e+02, 1.42000e+02, 5.30000e+01, 1.80000e+01, 1.90000e+01,\n",
       "         6.00000e+00, 1.00000e+00, 6.00000e+00, 0.00000e+00, 1.00000e+00,\n",
       "         0.00000e+00, 0.00000e+00, 0.00000e+00, 0.00000e+00, 0.00000e+00,\n",
       "         0.00000e+00, 0.00000e+00, 0.00000e+00, 2.00000e+00, 0.00000e+00,\n",
       "         0.00000e+00, 0.00000e+00, 0.00000e+00, 0.00000e+00, 2.10420e+04],\n",
       "        [4.00000e+00, 3.31000e+02, 9.63200e+03, 1.08810e+04, 3.83700e+03,\n",
       "         1.22500e+03, 4.11000e+02, 1.64000e+02, 8.00000e+01, 2.90000e+01,\n",
       "         2.40000e+01, 1.10000e+01, 6.00000e+00, 9.00000e+00, 0.00000e+00,\n",
       "         2.00000e+00, 1.00000e+00, 1.00000e+00, 1.00000e+00, 1.00000e+00,\n",
       "         0.00000e+00, 0.00000e+00, 0.00000e+00, 0.00000e+00, 0.00000e+00,\n",
       "         0.00000e+00, 0.00000e+00, 0.00000e+00, 0.00000e+00, 2.85360e+04],\n",
       "        [4.00000e+00, 2.00000e+02, 1.30330e+04, 2.42590e+04, 9.97600e+03,\n",
       "         3.31500e+03, 1.16200e+03, 4.58000e+02, 1.76000e+02, 1.30000e+02,\n",
       "         5.50000e+01, 2.70000e+01, 1.30000e+01, 8.00000e+00, 6.00000e+00,\n",
       "         2.00000e+00, 4.00000e+00, 2.00000e+00, 1.00000e+00, 0.00000e+00,\n",
       "         0.00000e+00, 0.00000e+00, 0.00000e+00, 0.00000e+00, 0.00000e+00,\n",
       "         0.00000e+00, 0.00000e+00, 0.00000e+00, 0.00000e+00, 4.31010e+04],\n",
       "        [1.00000e+01, 1.60000e+02, 1.89360e+04, 8.27140e+04, 5.71660e+04,\n",
       "         2.18120e+04, 8.31700e+03, 3.27200e+03, 1.46300e+03, 7.05000e+02,\n",
       "         4.26000e+02, 2.11000e+02, 1.05000e+02, 6.70000e+01, 3.90000e+01,\n",
       "         2.20000e+01, 1.30000e+01, 9.00000e+00, 9.00000e+00, 5.00000e+00,\n",
       "         5.00000e+00, 3.00000e+00, 1.00000e+00, 3.00000e+00, 0.00000e+00,\n",
       "         0.00000e+00, 0.00000e+00, 0.00000e+00, 0.00000e+00, 1.06499e+05],\n",
       "        [8.00000e+00, 1.20000e+01, 3.11600e+03, 4.07520e+04, 5.15350e+04,\n",
       "         2.31250e+04, 9.16800e+03, 3.69500e+03, 1.64900e+03, 7.78000e+02,\n",
       "         4.47000e+02, 2.16000e+02, 1.21000e+02, 5.90000e+01, 3.40000e+01,\n",
       "         2.30000e+01, 1.70000e+01, 7.00000e+00, 8.00000e+00, 3.00000e+00,\n",
       "         3.00000e+00, 1.00000e+00, 1.00000e+00, 0.00000e+00, 0.00000e+00,\n",
       "         0.00000e+00, 0.00000e+00, 0.00000e+00, 0.00000e+00, 5.05710e+04],\n",
       "        [1.10000e+01, 1.50000e+01, 1.46000e+03, 2.85920e+04, 6.44120e+04,\n",
       "         3.46000e+04, 1.39940e+04, 5.73700e+03, 2.47300e+03, 1.22100e+03,\n",
       "         6.55000e+02, 3.25000e+02, 1.66000e+02, 9.20000e+01, 5.00000e+01,\n",
       "         3.70000e+01, 2.10000e+01, 1.10000e+01, 5.00000e+00, 8.00000e+00,\n",
       "         1.00000e+00, 1.00000e+00, 0.00000e+00, 1.00000e+00, 0.00000e+00,\n",
       "         0.00000e+00, 0.00000e+00, 0.00000e+00, 0.00000e+00, 4.54970e+04],\n",
       "        [1.10000e+01, 1.00000e+00, 7.59000e+02, 1.57580e+04, 6.86110e+04,\n",
       "         4.98090e+04, 2.09250e+04, 8.66700e+03, 3.77800e+03, 1.88300e+03,\n",
       "         9.97000e+02, 4.60000e+02, 2.26000e+02, 1.10000e+02, 7.60000e+01,\n",
       "         5.20000e+01, 3.60000e+01, 2.00000e+01, 7.00000e+00, 5.00000e+00,\n",
       "         2.00000e+00, 1.00000e+00, 0.00000e+00, 1.00000e+00, 1.00000e+00,\n",
       "         0.00000e+00, 0.00000e+00, 0.00000e+00, 0.00000e+00, 4.07440e+04],\n",
       "        [1.60000e+01, 5.00000e+00, 7.07000e+02, 1.36980e+04, 1.07505e+05,\n",
       "         1.52012e+05, 7.32460e+04, 3.03770e+04, 1.30310e+04, 6.10200e+03,\n",
       "         2.98600e+03, 1.44500e+03, 7.59000e+02, 3.86000e+02, 2.42000e+02,\n",
       "         1.43000e+02, 8.40000e+01, 4.80000e+01, 3.50000e+01, 1.50000e+01,\n",
       "         2.00000e+00, 7.00000e+00, 3.00000e+00, 1.00000e+00, 0.00000e+00,\n",
       "         0.00000e+00, 0.00000e+00, 0.00000e+00, 0.00000e+00, 6.80210e+04],\n",
       "        [1.20000e+01, 2.00000e+00, 1.97000e+02, 3.37800e+03, 2.63850e+04,\n",
       "         9.24560e+04, 5.79280e+04, 2.38410e+04, 1.03330e+04, 4.60100e+03,\n",
       "         2.31800e+03, 1.05500e+03, 5.44000e+02, 2.84000e+02, 1.52000e+02,\n",
       "         9.10000e+01, 5.00000e+01, 3.20000e+01, 2.60000e+01, 4.00000e+00,\n",
       "         4.00000e+00, 3.00000e+00, 1.00000e+00, 1.00000e+00, 1.00000e+00,\n",
       "         0.00000e+00, 1.00000e+00, 0.00000e+00, 0.00000e+00, 2.77850e+04],\n",
       "        [7.00000e+00, 2.00000e+00, 1.06000e+02, 2.30300e+03, 1.54150e+04,\n",
       "         8.13970e+04, 7.52490e+04, 3.17550e+04, 1.34500e+04, 5.99700e+03,\n",
       "         2.93800e+03, 1.24500e+03, 6.70000e+02, 3.38000e+02, 1.88000e+02,\n",
       "         9.10000e+01, 6.80000e+01, 3.10000e+01, 2.10000e+01, 1.10000e+01,\n",
       "         5.00000e+00, 3.00000e+00, 1.00000e+00, 0.00000e+00, 0.00000e+00,\n",
       "         1.00000e+00, 0.00000e+00, 0.00000e+00, 0.00000e+00, 2.43120e+04],\n",
       "        [1.00000e+01, 2.00000e+00, 1.53000e+02, 2.79600e+03, 1.72800e+04,\n",
       "         9.12820e+04, 1.84953e+05, 9.42550e+04, 3.84130e+04, 1.74690e+04,\n",
       "         8.09500e+03, 3.36900e+03, 1.66600e+03, 8.42000e+02, 4.67000e+02,\n",
       "         2.81000e+02, 1.38000e+02, 1.02000e+02, 4.70000e+01, 2.50000e+01,\n",
       "         1.10000e+01, 6.00000e+00, 3.00000e+00, 0.00000e+00, 0.00000e+00,\n",
       "         1.00000e+00, 0.00000e+00, 0.00000e+00, 0.00000e+00, 4.00000e+04],\n",
       "        [7.00000e+00, 2.00000e+00, 4.40000e+01, 8.41000e+02, 4.70200e+03,\n",
       "         1.96780e+04, 8.07970e+04, 6.27820e+04, 2.61470e+04, 1.13460e+04,\n",
       "         5.18800e+03, 2.22000e+03, 1.03600e+03, 5.26000e+02, 3.04000e+02,\n",
       "         1.26000e+02, 9.00000e+01, 4.70000e+01, 1.90000e+01, 1.40000e+01,\n",
       "         2.00000e+00, 3.00000e+00, 2.00000e+00, 1.00000e+00, 0.00000e+00,\n",
       "         0.00000e+00, 0.00000e+00, 0.00000e+00, 0.00000e+00, 1.60800e+04],\n",
       "        [7.00000e+00, 1.00000e+00, 2.90000e+01, 5.97000e+02, 3.37100e+03,\n",
       "         1.28190e+04, 5.46370e+04, 7.13610e+04, 3.14480e+04, 1.34200e+04,\n",
       "         6.03800e+03, 2.57600e+03, 1.16200e+03, 6.13000e+02, 2.99000e+02,\n",
       "         1.72000e+02, 9.40000e+01, 4.80000e+01, 2.70000e+01, 1.60000e+01,\n",
       "         4.00000e+00, 3.00000e+00, 0.00000e+00, 0.00000e+00, 2.00000e+00,\n",
       "         1.00000e+00, 0.00000e+00, 0.00000e+00, 0.00000e+00, 1.41070e+04],\n",
       "        [1.50000e+01, 1.00000e+00, 4.00000e+01, 7.54000e+02, 4.19500e+03,\n",
       "         1.46800e+04, 4.71850e+04, 1.24703e+05, 7.56050e+04, 3.18900e+04,\n",
       "         1.43150e+04, 5.80200e+03, 2.68400e+03, 1.30200e+03, 7.49000e+02,\n",
       "         3.71000e+02, 1.94000e+02, 1.22000e+02, 6.40000e+01, 2.90000e+01,\n",
       "         9.00000e+00, 8.00000e+00, 6.00000e+00, 0.00000e+00, 2.00000e+00,\n",
       "         1.00000e+00, 0.00000e+00, 0.00000e+00, 0.00000e+00, 2.16790e+04],\n",
       "        [1.00000e+00, 1.00000e+00, 1.60000e+01, 2.20000e+02, 1.33000e+03,\n",
       "         4.18000e+03, 1.13760e+04, 3.53530e+04, 4.12850e+04, 1.82540e+04,\n",
       "         7.82800e+03, 3.31500e+03, 1.42900e+03, 7.15000e+02, 3.71000e+02,\n",
       "         1.94000e+02, 1.08000e+02, 6.80000e+01, 3.20000e+01, 1.10000e+01,\n",
       "         5.00000e+00, 4.00000e+00, 1.00000e+00, 1.00000e+00, 0.00000e+00,\n",
       "         0.00000e+00, 0.00000e+00, 0.00000e+00, 0.00000e+00, 8.19200e+03],\n",
       "        [1.00000e+00, 0.00000e+00, 1.20000e+01, 1.77000e+02, 9.19000e+02,\n",
       "         2.96100e+03, 7.89500e+03, 1.93170e+04, 3.87570e+04, 1.95600e+04,\n",
       "         8.31000e+03, 3.44500e+03, 1.50600e+03, 7.37000e+02, 3.65000e+02,\n",
       "         1.63000e+02, 1.05000e+02, 7.00000e+01, 4.50000e+01, 1.20000e+01,\n",
       "         1.40000e+01, 3.00000e+00, 5.00000e+00, 1.00000e+00, 1.00000e+00,\n",
       "         0.00000e+00, 0.00000e+00, 0.00000e+00, 0.00000e+00, 6.59000e+03],\n",
       "        [0.00000e+00, 1.00000e+00, 1.40000e+01, 1.21000e+02, 6.42000e+02,\n",
       "         2.13300e+03, 5.29200e+03, 1.12290e+04, 2.88350e+04, 1.95570e+04,\n",
       "         8.63300e+03, 3.50000e+03, 1.59200e+03, 7.51000e+02, 3.71000e+02,\n",
       "         1.85000e+02, 1.30000e+02, 6.50000e+01, 4.20000e+01, 2.10000e+01,\n",
       "         5.00000e+00, 9.00000e+00, 2.00000e+00, 1.00000e+00, 0.00000e+00,\n",
       "         0.00000e+00, 1.00000e+00, 0.00000e+00, 0.00000e+00, 5.49300e+03],\n",
       "        [1.00000e+00, 1.00000e+00, 1.00000e+01, 1.71000e+02, 7.67000e+02,\n",
       "         2.55300e+03, 5.73500e+03, 1.16310e+04, 2.65290e+04, 3.42980e+04,\n",
       "         1.68250e+04, 6.47400e+03, 3.04500e+03, 1.43000e+03, 7.54000e+02,\n",
       "         4.45000e+02, 2.43000e+02, 1.10000e+02, 8.00000e+01, 3.00000e+01,\n",
       "         2.00000e+01, 7.00000e+00, 4.00000e+00, 3.00000e+00, 1.00000e+00,\n",
       "         1.00000e+00, 0.00000e+00, 0.00000e+00, 0.00000e+00, 7.85100e+03],\n",
       "        [3.00000e+00, 1.00000e+00, 1.20000e+01, 4.90000e+01, 2.28000e+02,\n",
       "         6.84000e+02, 1.60300e+03, 2.68800e+03, 4.99000e+03, 1.04740e+04,\n",
       "         7.40400e+03, 2.97600e+03, 1.36300e+03, 6.37000e+02, 3.43000e+02,\n",
       "         1.76000e+02, 1.01000e+02, 6.50000e+01, 3.20000e+01, 9.00000e+00,\n",
       "         4.00000e+00, 6.00000e+00, 1.00000e+00, 0.00000e+00, 0.00000e+00,\n",
       "         0.00000e+00, 0.00000e+00, 0.00000e+00, 0.00000e+00, 2.69600e+03],\n",
       "        [3.00000e+00, 0.00000e+00, 3.00000e+00, 2.70000e+01, 1.69000e+02,\n",
       "         4.05000e+02, 9.85000e+02, 1.69800e+03, 2.89600e+03, 6.00600e+03,\n",
       "         6.37600e+03, 2.71700e+03, 1.20400e+03, 5.67000e+02, 3.28000e+02,\n",
       "         1.73000e+02, 1.02000e+02, 3.60000e+01, 3.60000e+01, 1.80000e+01,\n",
       "         5.00000e+00, 0.00000e+00, 4.00000e+00, 2.00000e+00, 0.00000e+00,\n",
       "         0.00000e+00, 1.00000e+00, 0.00000e+00, 0.00000e+00, 1.89600e+03],\n",
       "        [1.00000e+00, 0.00000e+00, 5.00000e+00, 4.20000e+01, 1.76000e+02,\n",
       "         4.14000e+02, 9.36000e+02, 1.60000e+03, 2.64300e+03, 4.37700e+03,\n",
       "         7.81300e+03, 4.50700e+03, 1.99200e+03, 9.31000e+02, 4.85000e+02,\n",
       "         2.40000e+02, 1.63000e+02, 7.90000e+01, 5.10000e+01, 2.20000e+01,\n",
       "         5.00000e+00, 1.00000e+00, 2.00000e+00, 4.00000e+00, 1.00000e+00,\n",
       "         0.00000e+00, 0.00000e+00, 0.00000e+00, 0.00000e+00, 2.30600e+03],\n",
       "        [0.00000e+00, 0.00000e+00, 0.00000e+00, 8.00000e+00, 3.20000e+01,\n",
       "         7.50000e+01, 1.62000e+02, 2.61000e+02, 4.34000e+02, 6.04000e+02,\n",
       "         1.23300e+03, 1.27700e+03, 6.23000e+02, 2.74000e+02, 1.74000e+02,\n",
       "         8.30000e+01, 3.90000e+01, 2.80000e+01, 1.20000e+01, 7.00000e+00,\n",
       "         2.00000e+00, 1.00000e+00, 0.00000e+00, 0.00000e+00, 1.00000e+00,\n",
       "         0.00000e+00, 0.00000e+00, 0.00000e+00, 0.00000e+00, 5.15000e+02],\n",
       "        [0.00000e+00, 0.00000e+00, 0.00000e+00, 2.00000e+00, 1.70000e+01,\n",
       "         3.80000e+01, 8.70000e+01, 1.25000e+02, 1.75000e+02, 2.76000e+02,\n",
       "         4.40000e+02, 7.58000e+02, 4.62000e+02, 1.99000e+02, 1.30000e+02,\n",
       "         5.10000e+01, 3.20000e+01, 2.00000e+01, 1.50000e+01, 4.00000e+00,\n",
       "         2.00000e+00, 2.00000e+00, 1.00000e+00, 0.00000e+00, 0.00000e+00,\n",
       "         0.00000e+00, 0.00000e+00, 0.00000e+00, 0.00000e+00, 2.85000e+02],\n",
       "        [0.00000e+00, 0.00000e+00, 0.00000e+00, 5.00000e+00, 9.00000e+00,\n",
       "         3.00000e+01, 5.80000e+01, 8.80000e+01, 1.46000e+02, 1.63000e+02,\n",
       "         2.26000e+02, 5.41000e+02, 4.32000e+02, 2.25000e+02, 1.23000e+02,\n",
       "         5.90000e+01, 3.40000e+01, 2.70000e+01, 1.10000e+01, 4.00000e+00,\n",
       "         1.00000e+00, 3.00000e+00, 1.00000e+00, 0.00000e+00, 1.00000e+00,\n",
       "         0.00000e+00, 0.00000e+00, 0.00000e+00, 0.00000e+00, 2.24000e+02],\n",
       "        [0.00000e+00, 0.00000e+00, 0.00000e+00, 0.00000e+00, 2.00000e+00,\n",
       "         4.00000e+00, 1.00000e+01, 9.00000e+00, 1.90000e+01, 1.80000e+01,\n",
       "         2.90000e+01, 4.00000e+01, 1.02000e+02, 6.20000e+01, 3.10000e+01,\n",
       "         8.00000e+00, 8.00000e+00, 2.00000e+00, 2.00000e+00, 1.00000e+00,\n",
       "         0.00000e+00, 0.00000e+00, 0.00000e+00, 0.00000e+00, 0.00000e+00,\n",
       "         0.00000e+00, 0.00000e+00, 0.00000e+00, 0.00000e+00, 4.30000e+01],\n",
       "        [0.00000e+00, 0.00000e+00, 0.00000e+00, 0.00000e+00, 0.00000e+00,\n",
       "         2.00000e+00, 3.00000e+00, 2.00000e+00, 7.00000e+00, 3.00000e+00,\n",
       "         1.00000e+01, 1.00000e+01, 3.80000e+01, 2.50000e+01, 7.00000e+00,\n",
       "         1.20000e+01, 3.00000e+00, 1.00000e+00, 2.00000e+00, 0.00000e+00,\n",
       "         0.00000e+00, 1.00000e+00, 1.00000e+00, 0.00000e+00, 0.00000e+00,\n",
       "         0.00000e+00, 0.00000e+00, 0.00000e+00, 0.00000e+00, 1.00000e+01],\n",
       "        [0.00000e+00, 0.00000e+00, 0.00000e+00, 1.00000e+00, 1.00000e+00,\n",
       "         1.00000e+00, 2.00000e+00, 3.00000e+00, 4.00000e+00, 5.00000e+00,\n",
       "         6.00000e+00, 1.10000e+01, 1.30000e+01, 3.10000e+01, 1.80000e+01,\n",
       "         8.00000e+00, 4.00000e+00, 4.00000e+00, 0.00000e+00, 4.00000e+00,\n",
       "         1.00000e+00, 0.00000e+00, 0.00000e+00, 0.00000e+00, 0.00000e+00,\n",
       "         0.00000e+00, 0.00000e+00, 0.00000e+00, 0.00000e+00, 1.30000e+01]]),\n",
       " array([10. , 11.3, 12.6, 13.9, 15.2, 16.5, 17.8, 19.1, 20.4, 21.7, 23. ,\n",
       "        24.3, 25.6, 26.9, 28.2, 29.5, 30.8, 32.1, 33.4, 34.7, 36. , 37.3,\n",
       "        38.6, 39.9, 41.2, 42.5, 43.8, 45.1, 46.4, 47.7, 49. ]),\n",
       " array([10.        , 12.96666667, 15.93333333, 18.9       , 21.86666667,\n",
       "        24.83333333, 27.8       , 30.76666667, 33.73333333, 36.7       ,\n",
       "        39.66666667, 42.63333333, 45.6       , 48.56666667, 51.53333333,\n",
       "        54.5       , 57.46666667, 60.43333333, 63.4       , 66.36666667,\n",
       "        69.33333333, 72.3       , 75.26666667, 78.23333333, 81.2       ,\n",
       "        84.16666667, 87.13333333, 90.1       , 93.06666667, 96.03333333,\n",
       "        99.        ]),\n",
       " <matplotlib.collections.QuadMesh at 0x7febf4044af0>)"
      ]
     },
     "execution_count": 117,
     "metadata": {},
     "output_type": "execute_result"
    },
    {
     "data": {
      "image/png": "[encoded data removed]",
      "text/plain": [
       "<Figure size 432x288 with 1 Axes>"
      ]
     },
     "metadata": {
      "needs_background": "light"
     },
     "output_type": "display_data"
    }
   ],
   "source": [
    "# More bins?\n",
    "plt.hist2d(pd.to_numeric(df[\"MATERNALAGE\"]), pd.to_numeric(df[\"PATERNALAGE\"]), bins=30)"
   ]
  },
  {
   "cell_type": "code",
   "execution_count": null,
   "metadata": {},
   "outputs": [],
   "source": [
    "And here we have an example of the hisogrammer's migrane.  \n",
    "The field boundaries for both MATERNALAGE and PATERNALAGE\n",
    "sometimes encompass different numbers of data points on the\n",
    "underlying distribution over nonnegative integers.\n",
    "\n",
    "We can always fix this by explicitly defining the bins to \n",
    "always include integer numbers of numbers.  "
   ]
  },
  {
   "cell_type": "code",
   "execution_count": null,
   "metadata": {},
   "outputs": [],
   "source": []
  },
  {
   "cell_type": "code",
   "execution_count": 119,
   "metadata": {},
   "outputs": [],
   "source": [
    "bins1 = np.arange(10,50) +.5\n",
    "bins2 = np.arange(10,100)+.5"
   ]
  },
  {
   "cell_type": "code",
   "execution_count": 121,
   "metadata": {},
   "outputs": [
    {
     "data": {
      "text/plain": [
       "Text(0, 0.5, 'Paternal age')"
      ]
     },
     "execution_count": 121,
     "metadata": {},
     "output_type": "execute_result"
    },
    {
     "data": {
      "image/png": "[encoded data removed]",
      "text/plain": [
       "<Figure size 432x288 with 1 Axes>"
      ]
     },
     "metadata": {
      "needs_background": "light"
     },
     "output_type": "display_data"
    }
   ],
   "source": [
    "plt.hist2d(pd.to_numeric(df[\"MATERNALAGE\"]), pd.to_numeric(df[\"PATERNALAGE\"]), bins=(bins1, bins2))\n",
    "plt.xlabel(\"Maternal age\"); plt.ylabel(\"Paternal age\")"
   ]
  },
  {
   "cell_type": "code",
   "execution_count": null,
   "metadata": {},
   "outputs": [],
   "source": [
    "Now we see something peculiar; the catch-all category \n",
    "PATERNALAGE=99 is a symbol for missing values.  \n",
    "And just glancing at the heatmap shows the marginal\n",
    "distribution of MATERNALAGE given PATERNALAGE=99 is \n",
    "peaked around 18."
   ]
  },
  {
   "cell_type": "code",
   "execution_count": 122,
   "metadata": {},
   "outputs": [
    {
     "data": {
      "image/png": "[encoded data removed]",
      "text/plain": [
       "<Figure size 432x288 with 1 Axes>"
      ]
     },
     "metadata": {
      "needs_background": "light"
     },
     "output_type": "display_data"
    }
   ],
   "source": [
    "paternalage = df.PATERNALAGE.value_counts().sort_index()\n",
    "plt.bar(paternalage.index, paternalage.values)\n",
    "maternalage = df.MATERNALAGE.value_counts().sort_index()"
   ]
  },
  {
   "cell_type": "code",
   "execution_count": 123,
   "metadata": {},
   "outputs": [
    {
     "name": "stderr",
     "output_type": "stream",
     "text": [
      "<ipython-input-123-b4f57fe76ace>:5: MatplotlibDeprecationWarning: Adding an axes using the same arguments as a previous axes currently reuses the earlier instance.  In a future version, a new instance will always be created and returned.  Meanwhile, this warning can be suppressed, and the future behavior ensured, by passing a unique label to each axes instance.\n",
      "  plt.subplot(211)\n"
     ]
    },
    {
     "data": {
      "text/plain": [
       "<BarContainer object of 40 artists>"
      ]
     },
     "execution_count": 123,
     "metadata": {},
     "output_type": "execute_result"
    },
    {
     "data": {
      "image/png": "[encoded data removed]",
      "text/plain": [
       "<Figure size 432x288 with 1 Axes>"
      ]
     },
     "metadata": {
      "needs_background": "light"
     },
     "output_type": "display_data"
    }
   ],
   "source": [
    "paternalage = df.PATERNALAGE.value_counts().sort_index()[:-1]\n",
    "\n",
    "plt.subplot(211)\n",
    "plt.bar(paternalage.index, paternalage.values, alpha=0.5)\n",
    "plt.subplot(211)\n",
    "plt.bar(maternalage.index, maternalage.values, alpha=0.5)\n",
    "\n"
   ]
  },
  {
   "cell_type": "code",
   "execution_count": 130,
   "metadata": {},
   "outputs": [
    {
     "data": {
      "text/plain": [
       "<BarContainer object of 40 artists>"
      ]
     },
     "execution_count": 130,
     "metadata": {},
     "output_type": "execute_result"
    },
    {
     "data": {
      "image/png": "[encoded data removed]",
      "text/plain": [
       "<Figure size 432x288 with 2 Axes>"
      ]
     },
     "metadata": {
      "needs_background": "light"
     },
     "output_type": "display_data"
    }
   ],
   "source": [
    "\n",
    "plt.subplot(211)\n",
    "plt.bar(pd.to_numeric(paternalage.index), paternalage.values, alpha=0.5)\n",
    "plt.subplot(212)\n",
    "plt.bar(pd.to_numeric(maternalage.index), maternalage.values, alpha=0.5)\n"
   ]
  },
  {
   "cell_type": "code",
   "execution_count": 133,
   "metadata": {},
   "outputs": [
    {
     "data": {
      "text/plain": [
       "<matplotlib.legend.Legend at 0x7feccad6a700>"
      ]
     },
     "execution_count": 133,
     "metadata": {},
     "output_type": "execute_result"
    },
    {
     "data": {
      "image/png": "[encoded data removed]",
      "text/plain": [
       "<Figure size 1080x576 with 1 Axes>"
      ]
     },
     "metadata": {
      "needs_background": "light"
     },
     "output_type": "display_data"
    }
   ],
   "source": [
    "plt.figure(figsize=(15,8))\n",
    "plt.bar(pd.to_numeric(paternalage.index), paternalage.values, alpha=0.5, label=\"paternal age (where stated)\")\n",
    "plt.bar(pd.to_numeric(maternalage.index), maternalage.values, alpha=0.5, label=\"maternal age\")\n",
    "plt.legend()"
   ]
  },
  {
   "cell_type": "code",
   "execution_count": 125,
   "metadata": {},
   "outputs": [],
   "source": [
    "df[\"MATERNALAGE\"]=pd.to_numeric(df.MATERNALAGE)"
   ]
  },
  {
   "cell_type": "code",
   "execution_count": 126,
   "metadata": {},
   "outputs": [],
   "source": [
    "# Since I have a list of individual rows.. and I want something like a histogram.. I look\n",
    "# into the pandas doucmentation for methods that aggregate dataframes:\n",
    "# https://pandas.pydata.org/pandas-docs/stable/user_guide/groupby.html\n",
    "#\n",
    "gb = df.groupby([\"MATERNALAGE\", \"STATE\"])"
   ]
  },
  {
   "cell_type": "code",
   "execution_count": 127,
   "metadata": {},
   "outputs": [
    {
     "data": {
      "text/plain": [
       "MATERNALAGE  STATE\n",
       "10           05       10\n",
       "             09       10\n",
       "             10       10\n",
       "             15       10\n",
       "             18       10\n",
       "                      ..\n",
       "49           24       49\n",
       "             33       49\n",
       "             39       49\n",
       "             44       49\n",
       "             50       49\n",
       "Name: MATERNALAGE, Length: 1854, dtype: int64"
      ]
     },
     "execution_count": 127,
     "metadata": {},
     "output_type": "execute_result"
    }
   ],
   "source": [
    "gb.MATERNALAGE.median()"
   ]
  },
  {
   "cell_type": "code",
   "execution_count": 357,
   "metadata": {
    "collapsed": true,
    "jupyter": {
     "outputs_hidden": true
    }
   },
   "outputs": [],
   "source": [
    "gb = df.groupby([\"STATE\", \"MATERNALAGE\"])"
   ]
  },
  {
   "cell_type": "code",
   "execution_count": 128,
   "metadata": {},
   "outputs": [
    {
     "data": {
      "text/plain": [
       "MATERNALAGE  STATE\n",
       "10           05       1\n",
       "             09       1\n",
       "             10       2\n",
       "             15       3\n",
       "             18       1\n",
       "                     ..\n",
       "49           24       1\n",
       "             33       1\n",
       "             39       1\n",
       "             44       2\n",
       "             50       2\n",
       "Name: MATERNALAGE, Length: 1854, dtype: int64"
      ]
     },
     "execution_count": 128,
     "metadata": {},
     "output_type": "execute_result"
    }
   ],
   "source": [
    "gb.MATERNALAGE.count()"
   ]
  },
  {
   "cell_type": "code",
   "execution_count": 375,
   "metadata": {
    "collapsed": true,
    "jupyter": {
     "outputs_hidden": true
    }
   },
   "outputs": [
    {
     "data": {
      "text/plain": [
       "STATE  MATERNALAGE\n",
       "01     12                8\n",
       "       13               61\n",
       "       14              221\n",
       "       15              613\n",
       "       16             1319\n",
       "                      ... \n",
       "51     43                4\n",
       "       44                4\n",
       "       45                2\n",
       "       46                2\n",
       "       47                1\n",
       "Name: STATE, Length: 1854, dtype: int64"
      ]
     },
     "execution_count": 375,
     "metadata": {},
     "output_type": "execute_result"
    }
   ],
   "source": [
    "gb.STATE.count()"
   ]
  },
  {
   "cell_type": "code",
   "execution_count": 129,
   "metadata": {},
   "outputs": [
    {
     "data": {
      "text/plain": [
       "STATE\n",
       "01    25\n",
       "02    26\n",
       "03    26\n",
       "04    24\n",
       "05    27\n",
       "06    27\n",
       "07    28\n",
       "08    26\n",
       "09    28\n",
       "10    26\n",
       "11    25\n",
       "12    27\n",
       "13    26\n",
       "14    26\n",
       "15    25\n",
       "16    26\n",
       "17    26\n",
       "18    25\n",
       "19    25\n",
       "20    26\n",
       "21    26\n",
       "22    28\n",
       "23    26\n",
       "24    27\n",
       "25    24\n",
       "26    26\n",
       "27    26\n",
       "28    26\n",
       "29    26\n",
       "30    27\n",
       "31    28\n",
       "32    25\n",
       "33    27\n",
       "34    25\n",
       "35    26\n",
       "36    26\n",
       "37    25\n",
       "38    26\n",
       "39    27\n",
       "40    27\n",
       "41    25\n",
       "42    26\n",
       "43    25\n",
       "44    25\n",
       "45    26\n",
       "46    27\n",
       "47    26\n",
       "48    26\n",
       "49    24\n",
       "50    27\n",
       "51    26\n",
       "Name: MATERNALAGE, dtype: int64"
      ]
     },
     "execution_count": 129,
     "metadata": {},
     "output_type": "execute_result"
    }
   ],
   "source": [
    "df.groupby(\"STATE\")[\"MATERNALAGE\"].median()"
   ]
  },
  {
   "cell_type": "code",
   "execution_count": null,
   "metadata": {},
   "outputs": [],
   "source": [
    "#If only we could decode the states, we would see which states have on average older mothers."
   ]
  },
  {
   "cell_type": "markdown",
   "metadata": {},
   "source": [
    "* Fail early and often\n",
    "* Invest in faster feedback\n",
    "** Hack at code with data subset\n",
    "* Specify what you want before you do it\n",
    "* Get it right first, make it fast later\n",
    "* Usually better to use p"
   ]
  },
  {
   "cell_type": "code",
   "execution_count": null,
   "metadata": {
    "collapsed": true,
    "jupyter": {
     "outputs_hidden": true
    }
   },
   "outputs": [],
   "source": [
    "# Cleaning up the numbers which are symbols is a little messier.  It is left as an exercise for the student.\n",
    "\n"
   ]
  },
  {
   "cell_type": "code",
   "execution_count": 116,
   "metadata": {},
   "outputs": [
    {
     "data": {
      "text/plain": [
       "{'01': 'AL',\n",
       " '02': 'AK',\n",
       " '03': 'AZ',\n",
       " '04': 'AR',\n",
       " '05': 'CA',\n",
       " '06': 'CO',\n",
       " '07': 'CT',\n",
       " '08': 'DE',\n",
       " '09': 'DC',\n",
       " '10': 'FL',\n",
       " '11': 'GA',\n",
       " '12': 'HI',\n",
       " '13': 'ID',\n",
       " '14': 'IL',\n",
       " '15': 'IN',\n",
       " '16': 'IA',\n",
       " '17': 'KS',\n",
       " '18': 'MD',\n",
       " '19': 'ME',\n",
       " '20': 'LA',\n",
       " '21': 'KY',\n",
       " '22': 'MA',\n",
       " '23': 'MI',\n",
       " '24': 'MN',\n",
       " '25': 'MS',\n",
       " '26': 'MO',\n",
       " '27': 'MT',\n",
       " '28': 'NE',\n",
       " '29': 'NV',\n",
       " '30': 'NH',\n",
       " '31': 'NJ',\n",
       " '32': 'NM',\n",
       " '33': 'NY',\n",
       " '34': 'NC',\n",
       " '35': 'ND',\n",
       " '36': 'OH',\n",
       " '37': 'OK',\n",
       " '38': 'OR',\n",
       " '39': 'PA',\n",
       " '40': 'RI',\n",
       " '41': 'SC',\n",
       " '42': 'SD',\n",
       " '43': 'TN',\n",
       " '44': 'TX',\n",
       " '45': 'UT',\n",
       " '46': 'VT',\n",
       " '47': 'VA',\n",
       " '48': 'WA',\n",
       " '49': 'WV',\n",
       " '50': 'WI',\n",
       " '51': 'WY'}"
      ]
     },
     "execution_count": 116,
     "metadata": {},
     "output_type": "execute_result"
    }
   ],
   "source": [
    "h = {}\n",
    "for line in open(\"~/Downloads/birth/STATE2829decoder.csv\"):\n",
    "    fields = line.strip().split()\n",
    "    h[fields[0]] = fields[1]\n",
    "h"
   ]
  },
  {
   "cell_type": "code",
   "execution_count": null,
   "metadata": {},
   "outputs": [],
   "source": [
    "df[\"STATEA\"] = pd.Series ( \"\", index=df.index)\n",
    "for i in df.index:\n",
    "    df[\"STATEA\"].loc[i] =  h [ df.loc[i].STATE] \n",
    "    if i % 100 == 0:\n",
    "        print(i,  h [ df.loc[i].STATE] )"
   ]
  }
 ],
 "metadata": {
  "kernelspec": {
   "display_name": "Python 3 (ipykernel)",
   "language": "python",
   "name": "python3"
  },
  "language_info": {
   "codemirror_mode": {
    "name": "ipython",
    "version": 3
   },
   "file_extension": ".py",
   "mimetype": "text/x-python",
   "name": "python",
   "nbconvert_exporter": "python",
   "pygments_lexer": "ipython3",
   "version": "3.9.12"
  }
 },
 "nbformat": 4,
 "nbformat_minor": 4
}
