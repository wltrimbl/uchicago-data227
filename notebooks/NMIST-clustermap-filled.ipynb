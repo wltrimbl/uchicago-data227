{
 "cells": [
  {
   "cell_type": "code",
   "execution_count": null,
   "metadata": {},
   "outputs": [],
   "source": [
    "# This notebook plays with the MNIST digits dataset, for which I use the\n",
    "# parser https://pypi.org/project/python-mnist/\n",
    "# and the official data source http://www.itl.nist.gov/iaui/vip/cs_links/EMNIST/gzip.zip\n",
    "import pandas as pd\n",
    "import numpy as np\n",
    "import matplotlib.pyplot as plt\n",
    "\n",
    "\n",
    "from mnist import MNIST\n",
    "mndata = MNIST('~/git/python-mnist/data')\n",
    "images, labels = mndata.load_training()\n",
    "testX, testY = mndata.load_testing()"
   ]
  },
  {
   "cell_type": "code",
   "execution_count": null,
   "metadata": {},
   "outputs": [],
   "source": []
  },
  {
   "cell_type": "code",
   "execution_count": null,
   "metadata": {},
   "outputs": [],
   "source": [
    "digits"
   ]
  },
  {
   "cell_type": "code",
   "execution_count": null,
   "metadata": {},
   "outputs": [],
   "source": [
    "digits = np.array(images)"
   ]
  },
  {
   "cell_type": "code",
   "execution_count": null,
   "metadata": {},
   "outputs": [],
   "source": [
    "digits.shape"
   ]
  },
  {
   "cell_type": "code",
   "execution_count": null,
   "metadata": {},
   "outputs": [],
   "source": [
    "p = np.reshape(digits, newshape=( 60000, 28,28))"
   ]
  },
  {
   "cell_type": "code",
   "execution_count": null,
   "metadata": {},
   "outputs": [],
   "source": [
    "p.shape"
   ]
  },
  {
   "cell_type": "code",
   "execution_count": null,
   "metadata": {},
   "outputs": [],
   "source": [
    "plt.imshow(p[4,::])"
   ]
  },
  {
   "cell_type": "code",
   "execution_count": null,
   "metadata": {},
   "outputs": [],
   "source": [
    "plt.subplot(221)\n",
    "plt.imshow(p[0,::])\n",
    "plt.subplot(222)\n",
    "plt.imshow(p[1,::])\n",
    "plt.subplot(223)\n",
    "plt.imshow(p[2,::])\n",
    "plt.subplot(224)\n",
    "plt.imshow(p[3,::])\n",
    "plt.savefig(\"MNIST.png\", dpi=300, bbox_inches=\"tight\")"
   ]
  },
  {
   "cell_type": "code",
   "execution_count": null,
   "metadata": {},
   "outputs": [],
   "source": [
    "ones = np.where(np.array(labels)==8)"
   ]
  },
  {
   "cell_type": "code",
   "execution_count": null,
   "metadata": {},
   "outputs": [],
   "source": [
    "ones[0]"
   ]
  },
  {
   "cell_type": "code",
   "execution_count": null,
   "metadata": {},
   "outputs": [],
   "source": [
    "images[ones[0]]"
   ]
  },
  {
   "cell_type": "code",
   "execution_count": null,
   "metadata": {},
   "outputs": [],
   "source": [
    "labels[0:100]"
   ]
  },
  {
   "cell_type": "code",
   "execution_count": null,
   "metadata": {},
   "outputs": [],
   "source": [
    "sample = digits[0:1000,:]"
   ]
  },
  {
   "cell_type": "code",
   "execution_count": null,
   "metadata": {},
   "outputs": [],
   "source": []
  },
  {
   "cell_type": "code",
   "execution_count": null,
   "metadata": {},
   "outputs": [],
   "source": [
    "import seaborn as sb\n",
    "sb.heatmap(sample)\n",
    "plt.xlabel(\"pixels\")\n",
    "plt.ylabel(\"samples\")"
   ]
  },
  {
   "cell_type": "code",
   "execution_count": null,
   "metadata": {},
   "outputs": [],
   "source": [
    "# Wait, this isn't quite what I want.  I want to reorder columns (pixel positions) and rows (sample digits).\n",
    "sb.clustermap(sample)\n"
   ]
  },
  {
   "cell_type": "code",
   "execution_count": null,
   "metadata": {},
   "outputs": [],
   "source": [
    "# A little busy, maybe only look at 100 samples?\n",
    "sb.clustermap(sample[0:100,:])"
   ]
  },
  {
   "cell_type": "code",
   "execution_count": null,
   "metadata": {},
   "outputs": [],
   "source": [
    "sb.clustermap(sample[0:100,:], row_colors=labels[0:100])"
   ]
  },
  {
   "cell_type": "code",
   "execution_count": null,
   "metadata": {},
   "outputs": [],
   "source": [
    "# sb.clustermap wants a list of color names for row_colors.  Fine.  \n",
    "\n",
    "h = {0: \"black\", 1:\"brown\", 2:\"red\", 3:\"orange\", 4:\"yellow\",\n",
    "    5:\"green\", 6:\"blue\", 7:\"purple\", 8:\"grey\", 9:\"white\"}\n",
    "colorlabels100 = []\n",
    "for l in labels[0:100]:\n",
    "    colorlabels100.append(h[l])\n",
    "colorlabels100"
   ]
  },
  {
   "cell_type": "code",
   "execution_count": null,
   "metadata": {},
   "outputs": [],
   "source": [
    "clustermap = sb.clustermap(sample[0:100,:], row_colors=colorlabels100)"
   ]
  },
  {
   "cell_type": "code",
   "execution_count": null,
   "metadata": {},
   "outputs": [],
   "source": [
    "# The clustermap library function gives me the data in attributes of the return value:\n",
    "dir(clustermap)"
   ]
  },
  {
   "cell_type": "code",
   "execution_count": null,
   "metadata": {},
   "outputs": [],
   "source": [
    "# There is data, which is what I gave it, \n",
    "plt.imshow(clustermap.data)"
   ]
  },
  {
   "cell_type": "code",
   "execution_count": null,
   "metadata": {},
   "outputs": [],
   "source": [
    "# And data2d, which has been reordered\n",
    "plt.imshow(clustermap.data2d, aspect=\"auto\")"
   ]
  },
  {
   "cell_type": "code",
   "execution_count": null,
   "metadata": {},
   "outputs": [],
   "source": [
    "# I can plot what all the digits look like on top of each other\n",
    "plt.imshow(np.array(clustermap.data.sum(axis=0)).reshape( (28,28)))"
   ]
  },
  {
   "cell_type": "code",
   "execution_count": null,
   "metadata": {},
   "outputs": [],
   "source": [
    "# And it turns out the indexes for the row- and column- reordering are buried in ax_col_dendrogram:\n",
    "dir(clustermap.ax_col_dendrogram)"
   ]
  },
  {
   "cell_type": "code",
   "execution_count": null,
   "metadata": {},
   "outputs": [],
   "source": [
    "# To get the reordering of the rows and columns,\n",
    "# https://github.com/mwaskom/seaborn/issues/1207\n",
    "# I need clustermap.dendrogram_row.reordered_ind\n",
    "clustermap.dendrogram_row.reordered_ind [ 0:20]"
   ]
  },
  {
   "cell_type": "code",
   "execution_count": null,
   "metadata": {},
   "outputs": [],
   "source": [
    "clustermap.dendrogram_col.reordered_ind[0:10]"
   ]
  },
  {
   "cell_type": "code",
   "execution_count": null,
   "metadata": {},
   "outputs": [],
   "source": [
    "digits.shape"
   ]
  },
  {
   "cell_type": "code",
   "execution_count": null,
   "metadata": {},
   "outputs": [],
   "source": [
    "# So let's get some pieces of this clustergram and plot them on a 28x28 pixel grid:\n",
    "middlepixels = clustermap.dendrogram_col.reordered_ind[300:600]\n",
    "endpixels = clustermap.dendrogram_col.reordered_ind[723:]"
   ]
  },
  {
   "cell_type": "code",
   "execution_count": null,
   "metadata": {},
   "outputs": [],
   "source": [
    "middle_image = np.zeros((28,28))\n",
    "end_image = np.zeros((28,28))"
   ]
  },
  {
   "cell_type": "code",
   "execution_count": null,
   "metadata": {},
   "outputs": [],
   "source": [
    "middle_image.reshape((784,))[middlepixels] = 1\n",
    "end_image.reshape((784,))[endpixels] = 1"
   ]
  },
  {
   "cell_type": "code",
   "execution_count": null,
   "metadata": {},
   "outputs": [],
   "source": [
    "# These are the pixels that were clustered\n",
    "plt.subplot(121)\n",
    "plt.imshow(middle_image)\n",
    "plt.subplot(122)\n",
    "plt.imshow(end_image)"
   ]
  },
  {
   "cell_type": "code",
   "execution_count": null,
   "metadata": {},
   "outputs": [],
   "source": [
    "# Asking clustermap to compare my rows and columns...\n",
    "# Let us try PCA, linear-algebra-only dimension reduction approach.\n",
    "\n",
    "from sklearn.decomposition import PCA\n",
    "pca=PCA(n_components=30)\n",
    "pca.fit(sample.T)"
   ]
  },
  {
   "cell_type": "code",
   "execution_count": null,
   "metadata": {},
   "outputs": [],
   "source": [
    "pca.components_.shape"
   ]
  },
  {
   "cell_type": "code",
   "execution_count": null,
   "metadata": {},
   "outputs": [],
   "source": [
    "plt.scatter(pca.components_[0,:], pca.components_[1,:])"
   ]
  },
  {
   "cell_type": "code",
   "execution_count": null,
   "metadata": {},
   "outputs": [],
   "source": [
    "plt.scatter(pca.components_[0,:], pca.components_[1,:], color=colorlabels100)"
   ]
  },
  {
   "cell_type": "code",
   "execution_count": null,
   "metadata": {},
   "outputs": [],
   "source": [
    "# This is a sample of 1000 points. \n",
    "h = {0: \"black\", 1:\"brown\", 2:\"red\", 3:\"orange\", 4:\"yellow\",\n",
    "    5:\"green\", 6:\"blue\", 7:\"purple\", 8:\"grey\", 9:\"white\"}\n",
    "colorlabels1k = []\n",
    "for l in labels[0:1000]:\n",
    "    colorlabels1k.append(h[l])\n",
    "colorlabels1k[0:50]\n",
    "\n",
    "colorlabelsall = []\n",
    "for l in labels:\n",
    "    colorlabelsall.append(h[l])\n",
    "colorlabelsall[0:50]"
   ]
  },
  {
   "cell_type": "code",
   "execution_count": null,
   "metadata": {},
   "outputs": [],
   "source": [
    "plt.scatter(pca.components_[0,:], pca.components_[1,:], color=colorlabels1k)\n",
    "plt.xlabel(\"PC 1    \"+\"{:.1f}\".format(pca.explained_variance_ratio_[0] * 100) + \"%\"); \n",
    "plt.ylabel(\"PC 2    \"+\"{:.1f}\".format(pca.explained_variance_ratio_[1] * 100) + \"%\"); "
   ]
  },
  {
   "cell_type": "code",
   "execution_count": null,
   "metadata": {},
   "outputs": [],
   "source": [
    "plt.scatter(pca.components_[2,:], pca.components_[3,:], color=colorlabels1k)\n",
    "plt.xlabel(\"PC 3    \"+\"{:.1f}\".format(pca.explained_variance_ratio_[2] * 100) + \"%\"); \n",
    "plt.ylabel(\"PC 4    \"+\"{:.1f}\".format(pca.explained_variance_ratio_[3] * 100) + \"%\"); "
   ]
  },
  {
   "cell_type": "code",
   "execution_count": null,
   "metadata": {},
   "outputs": [],
   "source": [
    "# A little disappointing, 1000 digits fed into PCA and plotted. \n",
    "# Let us try TSNE on this 1000 sample by 30-dimensional PCA"
   ]
  },
  {
   "cell_type": "code",
   "execution_count": null,
   "metadata": {},
   "outputs": [],
   "source": [
    "from sklearn.manifold import TSNE\n",
    "X_embedded = TSNE(n_components=2, learning_rate=.1, init='random').fit(pca.components_.T)"
   ]
  },
  {
   "cell_type": "code",
   "execution_count": null,
   "metadata": {},
   "outputs": [],
   "source": [
    "X_embedded"
   ]
  },
  {
   "cell_type": "code",
   "execution_count": null,
   "metadata": {},
   "outputs": [],
   "source": [
    "dir(X_embedded)"
   ]
  },
  {
   "cell_type": "code",
   "execution_count": null,
   "metadata": {},
   "outputs": [],
   "source": [
    "X_embedded.embedding_.shape"
   ]
  },
  {
   "cell_type": "code",
   "execution_count": null,
   "metadata": {},
   "outputs": [],
   "source": [
    "# We want to plot embedding_[:,1] against embedding_[:,0] \n",
    "plt.scatter(X_embedded.embedding_[:,0], X_embedded.embedding_[:,1])"
   ]
  },
  {
   "cell_type": "code",
   "execution_count": null,
   "metadata": {},
   "outputs": [],
   "source": [
    "# And add label colors\n",
    "plt.scatter(X_embedded.embedding_[:,0], X_embedded.embedding_[:,1], color=colorlabels1k)"
   ]
  },
  {
   "cell_type": "code",
   "execution_count": null,
   "metadata": {},
   "outputs": [],
   "source": [
    "# This is a little more satisfying than [blind] PCA, but \n",
    "# less than perfect.  "
   ]
  },
  {
   "cell_type": "code",
   "execution_count": null,
   "metadata": {},
   "outputs": [],
   "source": [
    "# Fit 50-component PCA on all the data\n",
    "pca50=PCA(n_components=50)\n",
    "pca50.fit(digits.T)"
   ]
  },
  {
   "cell_type": "code",
   "execution_count": null,
   "metadata": {},
   "outputs": [],
   "source": [
    "plt.scatter(pca50.components_[0,:], pca50.components_[1,:], color=colorlabelsall)\n",
    "plt.xlabel(\"PC 1    \"+\"{:.1f}\".format(pca50.explained_variance_ratio_[0] * 100) + \"%\"); \n",
    "plt.ylabel(\"PC 2    \"+\"{:.1f}\".format(pca50.explained_variance_ratio_[1] * 100) + \"%\"); "
   ]
  },
  {
   "cell_type": "code",
   "execution_count": null,
   "metadata": {},
   "outputs": [],
   "source": [
    "pca50.components_.shape"
   ]
  },
  {
   "cell_type": "code",
   "execution_count": null,
   "metadata": {},
   "outputs": [],
   "source": [
    "# Fit TSNE on subset of the big PCA output, but since TSNE takes too long for 10^{4} points, use only \n",
    "# 1000 samples\n",
    "TSNE1K = TSNE(n_components=2, learning_rate=.1, init='random').fit(pca50.components_[:,0:1000].T)"
   ]
  },
  {
   "cell_type": "code",
   "execution_count": null,
   "metadata": {},
   "outputs": [],
   "source": [
    "plt.scatter(TSNE1K.embedding_[:,0], TSNE1K.embedding_[:,1], color=colorlabelsall[0:1000])"
   ]
  },
  {
   "cell_type": "code",
   "execution_count": null,
   "metadata": {},
   "outputs": [],
   "source": [
    "TSNE4K = TSNE(n_components=2, learning_rate=.1, init='random').fit(pca50.components_[:,0:4000].T)"
   ]
  },
  {
   "cell_type": "code",
   "execution_count": null,
   "metadata": {},
   "outputs": [],
   "source": [
    "plt.scatter(TSNE4K.embedding_[:,0], TSNE4K.embedding_[:,1], color=colorlabelsall[0:4000])"
   ]
  },
  {
   "cell_type": "code",
   "execution_count": null,
   "metadata": {},
   "outputs": [],
   "source": [
    "# Wait, this is qualitatively different from TSNE with n=1k \n",
    "\n",
    "# We can see that the TSNE procedure for drawing pretty 2d pictures that \n",
    "# reflect concentrations of point density in high dimensional spaces\n",
    "# is sensitive to number of points and tuning parameters; \n",
    "# and be warned, it is not deterministic, so you don't get the\n",
    "# same clouds each time you run it.  But it sure is pretty."
   ]
  },
  {
   "cell_type": "code",
   "execution_count": null,
   "metadata": {},
   "outputs": [],
   "source": [
    "TSNE10K = TSNE(n_components=2, learning_rate=1.5, init=\"random\").fit(pca50.components_[:,0:10000].T)"
   ]
  },
  {
   "cell_type": "code",
   "execution_count": null,
   "metadata": {},
   "outputs": [],
   "source": [
    "plt.scatter(TSNE10K.embedding_[:,0], TSNE10K.embedding_[:,1], color=colorlabelsall[0:10000])"
   ]
  },
  {
   "cell_type": "code",
   "execution_count": null,
   "metadata": {},
   "outputs": [],
   "source": [
    "\n"
   ]
  },
  {
   "cell_type": "code",
   "execution_count": null,
   "metadata": {},
   "outputs": [],
   "source": [
    "digits"
   ]
  },
  {
   "cell_type": "code",
   "execution_count": null,
   "metadata": {},
   "outputs": [],
   "source": [
    "# The image of all the pixels flattened out is jumbled -- it is a mixture of the digits.\n",
    "plt.imshow(digits, aspect=\"auto\")"
   ]
  },
  {
   "cell_type": "code",
   "execution_count": null,
   "metadata": {},
   "outputs": [],
   "source": [
    "# I can sort by the labels, and show them grouped by digit.\n",
    "digitsordered = digits[np.argsort(labels),:]\n",
    "digits.shape"
   ]
  },
  {
   "cell_type": "code",
   "execution_count": null,
   "metadata": {},
   "outputs": [],
   "source": [
    "plt.imshow(digitsordered, aspect=\"auto\")"
   ]
  },
  {
   "cell_type": "code",
   "execution_count": null,
   "metadata": {},
   "outputs": [],
   "source": []
  }
 ],
 "metadata": {
  "kernelspec": {
   "display_name": "Python 3",
   "language": "python",
   "name": "python3"
  },
  "language_info": {
   "codemirror_mode": {
    "name": "ipython",
    "version": 3
   },
   "file_extension": ".py",
   "mimetype": "text/x-python",
   "name": "python",
   "nbconvert_exporter": "python",
   "pygments_lexer": "ipython3",
   "version": "3.8.5"
  }
 },
 "nbformat": 4,
 "nbformat_minor": 4
}
