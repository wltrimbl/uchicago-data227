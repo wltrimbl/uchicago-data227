{
 "cells": [
  {
   "cell_type": "code",
   "execution_count": 2,
   "metadata": {
    "collapsed": true,
    "jupyter": {
     "outputs_hidden": true
    }
   },
   "outputs": [],
   "source": [
    "import pandas as pd\n",
    "import matplotlib.pyplot as plt\n",
    "import numpy as np"
   ]
  },
  {
   "cell_type": "code",
   "execution_count": 3,
   "metadata": {
    "collapsed": true,
    "jupyter": {
     "outputs_hidden": true
    }
   },
   "outputs": [],
   "source": [
    "def parse_natality(natalitydata, datadictionary):\n",
    "    '''Take in pandas dataframe natalitydata and list-of-lists datadictionary\n",
    "    (for example [[43, 44, \"MATERNALAGE\"]] ) and return a pandas dataframe (same \n",
    "    number of rows) with labeled columns  '''\n",
    "    df = pd.DataFrame()\n",
    "    for start, stop, column_name in datadictionary:\n",
    "        # Get the first column (start)\n",
    "        df[column_name] = natalitydata[0].str.get(start-1)\n",
    "        # Get the remaining columns\n",
    "        for i in range(1, stop-start + 1):\n",
    "            df[column_name]=  df[column_name].str.cat(natalitydata[0].str.get(start-1+i))\n",
    "    return df\n",
    "    for start, stop, column_name in datadictionary:\n",
    "        pd[column_name] = pd.to_numeric(pd[column_name])"
   ]
  },
  {
   "cell_type": "code",
   "execution_count": 49,
   "metadata": {},
   "outputs": [],
   "source": [
    "# https://www.cdc.gov/nchs/data_access/vitalstatsonline.htm \n",
    "# This notebook uses Nat1988.txt which is about 810 Mb.\n",
    "# https://ftp.cdc.gov/pub/Health_Statistics/NCHS/Datasets/DVS/natality/Nat1988.zip \n",
    "\n",
    "# Read the large (215 x 3.9million cells) data file into a pandas frame \n",
    "n85n = pd.read_csv(\"LinkCO85/LinkCO85USnum.dat\", header=None)"
   ]
  },
  {
   "cell_type": "code",
   "execution_count": 60,
   "metadata": {},
   "outputs": [
    {
     "data": {
      "text/plain": [
       "[[231, 234, 'ICDCODE'],\n",
       " [235, 237, 'CAUSERECODE'],\n",
       " [230, 230, 'PLACEOFACCIDENT'],\n",
       " [226, 227, 'AGERECODE38'],\n",
       " [58, 61, 'MATERNALAGE'],\n",
       " [90, 90, 'ATTENDANT'],\n",
       " [89, 89, 'PLACE'],\n",
       " [85, 85, 'BIRTHORDERRECODE'],\n",
       " [43, 44, 'BIRTHWEIGHTGRAMS'],\n",
       " [38, 38, 'SEX'],\n",
       " [36, 36, 'RACE'],\n",
       " [37, 37, 'RACERECODE3'],\n",
       " [39, 40, 'WEEKSGESTATION']]"
      ]
     },
     "execution_count": 60,
     "metadata": {},
     "output_type": "execute_result"
    }
   ],
   "source": [
    "# Load in a file of three columns into a list of lists, the first two elements of which are integers.\n",
    "# This is our table of column positions and column names\n",
    "key1985 = []\n",
    "for line in open(\"KEY1985n.txt\"):\n",
    "    fields = line.strip().split()\n",
    "    key1985.append([int(fields[0]), int(fields[1]), fields[2]])\n",
    "key1985\n",
    "# I really thought vaginal/caesarian birth \"mode of delivery\" would be in here but I can't find it in 1988."
   ]
  },
  {
   "cell_type": "code",
   "execution_count": 62,
   "metadata": {},
   "outputs": [
    {
     "data": {
      "text/html": [
       "<div>\n",
       "<style scoped>\n",
       "    .dataframe tbody tr th:only-of-type {\n",
       "        vertical-align: middle;\n",
       "    }\n",
       "\n",
       "    .dataframe tbody tr th {\n",
       "        vertical-align: top;\n",
       "    }\n",
       "\n",
       "    .dataframe thead th {\n",
       "        text-align: right;\n",
       "    }\n",
       "</style>\n",
       "<table border=\"1\" class=\"dataframe\">\n",
       "  <thead>\n",
       "    <tr style=\"text-align: right;\">\n",
       "      <th></th>\n",
       "      <th>ICDCODE</th>\n",
       "      <th>CAUSERECODE</th>\n",
       "      <th>PLACEOFACCIDENT</th>\n",
       "      <th>AGERECODE38</th>\n",
       "      <th>MATERNALAGE</th>\n",
       "      <th>ATTENDANT</th>\n",
       "      <th>PLACE</th>\n",
       "      <th>BIRTHORDERRECODE</th>\n",
       "      <th>BIRTHWEIGHTGRAMS</th>\n",
       "      <th>SEX</th>\n",
       "      <th>RACE</th>\n",
       "      <th>RACERECODE3</th>\n",
       "      <th>WEEKSGESTATION</th>\n",
       "    </tr>\n",
       "  </thead>\n",
       "  <tbody>\n",
       "    <tr>\n",
       "      <th>0</th>\n",
       "      <td>7531</td>\n",
       "      <td>330</td>\n",
       "      <td></td>\n",
       "      <td>00</td>\n",
       "      <td>1806</td>\n",
       "      <td>1</td>\n",
       "      <td>1</td>\n",
       "      <td>1</td>\n",
       "      <td>20</td>\n",
       "      <td>1</td>\n",
       "      <td>1</td>\n",
       "      <td>1</td>\n",
       "      <td>41</td>\n",
       "    </tr>\n",
       "    <tr>\n",
       "      <th>1</th>\n",
       "      <td>7650</td>\n",
       "      <td>440</td>\n",
       "      <td></td>\n",
       "      <td>00</td>\n",
       "      <td>1907</td>\n",
       "      <td>1</td>\n",
       "      <td>1</td>\n",
       "      <td>1</td>\n",
       "      <td>05</td>\n",
       "      <td>1</td>\n",
       "      <td>2</td>\n",
       "      <td>3</td>\n",
       "      <td>24</td>\n",
       "    </tr>\n",
       "    <tr>\n",
       "      <th>2</th>\n",
       "      <td>7718</td>\n",
       "      <td>520</td>\n",
       "      <td></td>\n",
       "      <td>00</td>\n",
       "      <td>2008</td>\n",
       "      <td>1</td>\n",
       "      <td>1</td>\n",
       "      <td>2</td>\n",
       "      <td>17</td>\n",
       "      <td>2</td>\n",
       "      <td>2</td>\n",
       "      <td>3</td>\n",
       "      <td>31</td>\n",
       "    </tr>\n",
       "    <tr>\n",
       "      <th>3</th>\n",
       "      <td>7566</td>\n",
       "      <td>340</td>\n",
       "      <td></td>\n",
       "      <td>00</td>\n",
       "      <td>2509</td>\n",
       "      <td>1</td>\n",
       "      <td>1</td>\n",
       "      <td>1</td>\n",
       "      <td>15</td>\n",
       "      <td>1</td>\n",
       "      <td>1</td>\n",
       "      <td>1</td>\n",
       "      <td>37</td>\n",
       "    </tr>\n",
       "    <tr>\n",
       "      <th>4</th>\n",
       "      <td>7718</td>\n",
       "      <td>520</td>\n",
       "      <td></td>\n",
       "      <td>02</td>\n",
       "      <td>1806</td>\n",
       "      <td>1</td>\n",
       "      <td>1</td>\n",
       "      <td>1</td>\n",
       "      <td>26</td>\n",
       "      <td>2</td>\n",
       "      <td>1</td>\n",
       "      <td>1</td>\n",
       "      <td>38</td>\n",
       "    </tr>\n",
       "  </tbody>\n",
       "</table>\n",
       "</div>"
      ],
      "text/plain": [
       "  ICDCODE CAUSERECODE PLACEOFACCIDENT AGERECODE38 MATERNALAGE ATTENDANT PLACE  \\\n",
       "0    7531         330                          00        1806         1     1   \n",
       "1    7650         440                          00        1907         1     1   \n",
       "2    7718         520                          00        2008         1     1   \n",
       "3    7566         340                          00        2509         1     1   \n",
       "4    7718         520                          02        1806         1     1   \n",
       "\n",
       "  BIRTHORDERRECODE BIRTHWEIGHTGRAMS SEX RACE RACERECODE3 WEEKSGESTATION  \n",
       "0                1               20   1    1           1             41  \n",
       "1                1               05   1    2           3             24  \n",
       "2                2               17   2    2           3             31  \n",
       "3                1               15   1    1           1             37  \n",
       "4                1               26   2    1           1             38  "
      ]
     },
     "execution_count": 62,
     "metadata": {},
     "output_type": "execute_result"
    }
   ],
   "source": [
    "\n",
    "\n",
    "df = parse_natality(n85n, key1985)\n",
    "df.head()"
   ]
  },
  {
   "cell_type": "code",
   "execution_count": 63,
   "metadata": {},
   "outputs": [
    {
     "data": {
      "text/plain": [
       "00    14708\n",
       "28     3542\n",
       "29     2882\n",
       "01     2460\n",
       "30     1918\n",
       "02     1663\n",
       "31     1361\n",
       "03      997\n",
       "32      976\n",
       "33      702\n",
       "04      639\n",
       "34      551\n",
       "35      501\n",
       "05      457\n",
       "06      411\n",
       "36      400\n",
       "37      394\n",
       "07      354\n",
       "38      350\n",
       "09      325\n",
       "08      321\n",
       "10      311\n",
       "11      268\n",
       "12      234\n",
       "13      204\n",
       "14      200\n",
       "15      189\n",
       "18      187\n",
       "16      183\n",
       "17      182\n",
       "19      168\n",
       "20      162\n",
       "21      159\n",
       "24      151\n",
       "27      144\n",
       "22      133\n",
       "23      131\n",
       "25      127\n",
       "26      125\n",
       "Name: AGERECODE38, dtype: int64"
      ]
     },
     "execution_count": 63,
     "metadata": {},
     "output_type": "execute_result"
    }
   ],
   "source": [
    "df[\"AGERECODE38\"].value_counts()"
   ]
  },
  {
   "cell_type": "code",
   "execution_count": 64,
   "metadata": {},
   "outputs": [
    {
     "data": {
      "text/plain": [
       "590    5242\n",
       "510    3654\n",
       "500    3634\n",
       "440    3191\n",
       "570    2947\n",
       "       ... \n",
       "550       7\n",
       "060       6\n",
       "020       4\n",
       "100       4\n",
       "450       1\n",
       "Name: CAUSERECODE, Length: 61, dtype: int64"
      ]
     },
     "execution_count": 64,
     "metadata": {},
     "output_type": "execute_result"
    }
   ],
   "source": [
    "df.CAUSERECODE.value_counts()"
   ]
  },
  {
   "cell_type": "code",
   "execution_count": 123,
   "metadata": {},
   "outputs": [
    {
     "name": "stdout",
     "output_type": "stream",
     "text": [
      "5242 SIDS deaths\n",
      "178 Suffocation deaths\n"
     ]
    }
   ],
   "source": [
    "sids = df.loc[np.where(df.CAUSERECODE==\"590\")] # 590 is SIDS\n",
    "print ( len(sids) , \"SIDS deaths\")\n",
    "suffocation = df.loc[np.where(df.CAUSERECODE==\"630\")] # 590 is SIDS\n",
    "print (len(suffocation), \"Suffocation deaths\")"
   ]
  },
  {
   "cell_type": "code",
   "execution_count": 68,
   "metadata": {},
   "outputs": [
    {
     "data": {
      "text/plain": [
       "29    1425\n",
       "28    1335\n",
       "30     904\n",
       "31     526\n",
       "32     297\n",
       "33     165\n",
       "34      99\n",
       "35      64\n",
       "27      32\n",
       "24      30\n",
       "37      27\n",
       "36      27\n",
       "26      25\n",
       "20      21\n",
       "21      21\n",
       "18      20\n",
       "22      20\n",
       "25      19\n",
       "38      19\n",
       "16      17\n",
       "17      15\n",
       "19      14\n",
       "13      11\n",
       "08      10\n",
       "14      10\n",
       "23      10\n",
       "06       9\n",
       "15       9\n",
       "11       8\n",
       "10       8\n",
       "09       7\n",
       "00       7\n",
       "03       6\n",
       "07       6\n",
       "01       5\n",
       "04       4\n",
       "05       4\n",
       "12       3\n",
       "02       3\n",
       "Name: AGERECODE38, dtype: int64"
      ]
     },
     "execution_count": 68,
     "metadata": {},
     "output_type": "execute_result"
    }
   ],
   "source": [
    "sids.AGERECODE38.value_counts()"
   ]
  },
  {
   "cell_type": "code",
   "execution_count": 72,
   "metadata": {},
   "outputs": [],
   "source": [
    "sidshisto = sids.AGERECODE38.value_counts().sort_index()"
   ]
  },
  {
   "cell_type": "code",
   "execution_count": 76,
   "metadata": {},
   "outputs": [
    {
     "data": {
      "text/plain": [
       "<BarContainer object of 39 artists>"
      ]
     },
     "execution_count": 76,
     "metadata": {},
     "output_type": "execute_result"
    },
    {
     "data": {
      "image/png": "[encoded data removed]",
      "text/plain": [
       "<Figure size 432x288 with 1 Axes>"
      ]
     },
     "metadata": {
      "needs_background": "light"
     },
     "output_type": "display_data"
    }
   ],
   "source": [
    "plt.bar(sidshisto.index, sidshisto.values)"
   ]
  },
  {
   "cell_type": "code",
   "execution_count": 75,
   "metadata": {},
   "outputs": [
    {
     "data": {
      "text/plain": [
       "<BarContainer object of 19 artists>"
      ]
     },
     "execution_count": 75,
     "metadata": {},
     "output_type": "execute_result"
    },
    {
     "data": {
      "image/png": "[encoded data removed]",
      "text/plain": [
       "<Figure size 432x288 with 1 Axes>"
      ]
     },
     "metadata": {
      "needs_background": "light"
     },
     "output_type": "display_data"
    }
   ],
   "source": [
    "plt.bar(sidshisto.index[20:], sidshisto.values[20:])"
   ]
  },
  {
   "cell_type": "code",
   "execution_count": 77,
   "metadata": {},
   "outputs": [
    {
     "data": {
      "text/plain": [
       "<BarContainer object of 11 artists>"
      ]
     },
     "execution_count": 77,
     "metadata": {},
     "output_type": "execute_result"
    },
    {
     "data": {
      "image/png": "[encoded data removed]",
      "text/plain": [
       "<Figure size 432x288 with 1 Axes>"
      ]
     },
     "metadata": {
      "needs_background": "light"
     },
     "output_type": "display_data"
    }
   ],
   "source": [
    "plt.bar(sidshisto.index[28:], sidshisto.values[28:])"
   ]
  },
  {
   "cell_type": "code",
   "execution_count": 103,
   "metadata": {},
   "outputs": [
    {
     "data": {
      "text/plain": [
       "1     1335\n",
       "2     1425\n",
       "3      904\n",
       "4      526\n",
       "5      297\n",
       "6      165\n",
       "7       99\n",
       "8       64\n",
       "9       27\n",
       "10      27\n",
       "11      19\n",
       "Name: AGERECODE38, dtype: int64"
      ]
     },
     "execution_count": 103,
     "metadata": {},
     "output_type": "execute_result"
    }
   ],
   "source": [
    "sidsbymonth=sidshisto.iloc[28:]\n",
    "sidsbymonth.index = pd.to_numeric(sidsbymonth.index)-27\n",
    "sidsbymonth"
   ]
  },
  {
   "cell_type": "code",
   "execution_count": 107,
   "metadata": {},
   "outputs": [],
   "source": [
    "sidshist = pd.concat([pd.DataFrame( [sidshisto.iloc[0:28].values.sum()]) , sidsbymonth] )"
   ]
  },
  {
   "cell_type": "code",
   "execution_count": 125,
   "metadata": {},
   "outputs": [
    {
     "data": {
      "image/png": "[encoded data removed]",
      "text/plain": [
       "<Figure size 432x288 with 1 Axes>"
      ]
     },
     "metadata": {
      "needs_background": "light"
     },
     "output_type": "display_data"
    }
   ],
   "source": [
    "plt.bar(sidshist.index, sidshist[0])\n",
    "plt.xlabel(\"Age(months)\")\n",
    "plt.ylabel(\"SIDS deaths, 1985\")\n",
    "plt.savefig(\"SIDSDEATHS1985.eps\")"
   ]
  },
  {
   "cell_type": "code",
   "execution_count": 126,
   "metadata": {},
   "outputs": [
    {
     "data": {
      "text/html": [
       "<div>\n",
       "<style scoped>\n",
       "    .dataframe tbody tr th:only-of-type {\n",
       "        vertical-align: middle;\n",
       "    }\n",
       "\n",
       "    .dataframe tbody tr th {\n",
       "        vertical-align: top;\n",
       "    }\n",
       "\n",
       "    .dataframe thead th {\n",
       "        text-align: right;\n",
       "    }\n",
       "</style>\n",
       "<table border=\"1\" class=\"dataframe\">\n",
       "  <thead>\n",
       "    <tr style=\"text-align: right;\">\n",
       "      <th></th>\n",
       "      <th>0</th>\n",
       "    </tr>\n",
       "  </thead>\n",
       "  <tbody>\n",
       "    <tr>\n",
       "      <th>0</th>\n",
       "      <td>354</td>\n",
       "    </tr>\n",
       "    <tr>\n",
       "      <th>1</th>\n",
       "      <td>1335</td>\n",
       "    </tr>\n",
       "    <tr>\n",
       "      <th>2</th>\n",
       "      <td>1425</td>\n",
       "    </tr>\n",
       "    <tr>\n",
       "      <th>3</th>\n",
       "      <td>904</td>\n",
       "    </tr>\n",
       "    <tr>\n",
       "      <th>4</th>\n",
       "      <td>526</td>\n",
       "    </tr>\n",
       "    <tr>\n",
       "      <th>5</th>\n",
       "      <td>297</td>\n",
       "    </tr>\n",
       "    <tr>\n",
       "      <th>6</th>\n",
       "      <td>165</td>\n",
       "    </tr>\n",
       "    <tr>\n",
       "      <th>7</th>\n",
       "      <td>99</td>\n",
       "    </tr>\n",
       "    <tr>\n",
       "      <th>8</th>\n",
       "      <td>64</td>\n",
       "    </tr>\n",
       "    <tr>\n",
       "      <th>9</th>\n",
       "      <td>27</td>\n",
       "    </tr>\n",
       "    <tr>\n",
       "      <th>10</th>\n",
       "      <td>27</td>\n",
       "    </tr>\n",
       "    <tr>\n",
       "      <th>11</th>\n",
       "      <td>19</td>\n",
       "    </tr>\n",
       "  </tbody>\n",
       "</table>\n",
       "</div>"
      ],
      "text/plain": [
       "       0\n",
       "0    354\n",
       "1   1335\n",
       "2   1425\n",
       "3    904\n",
       "4    526\n",
       "5    297\n",
       "6    165\n",
       "7     99\n",
       "8     64\n",
       "9     27\n",
       "10    27\n",
       "11    19"
      ]
     },
     "execution_count": 126,
     "metadata": {},
     "output_type": "execute_result"
    }
   ],
   "source": [
    "sidshist\n"
   ]
  },
  {
   "cell_type": "code",
   "execution_count": 128,
   "metadata": {},
   "outputs": [
    {
     "data": {
      "image/png": "[encoded data removed]",
      "text/plain": [
       "<Figure size 432x288 with 1 Axes>"
      ]
     },
     "metadata": {
      "needs_background": "light"
     },
     "output_type": "display_data"
    }
   ],
   "source": [
    "fix, ax = plt.subplots()\n",
    "plt.bar(sidshist.index, sidshist[0])\n",
    "\n",
    "ax.set_yscale('log')\n",
    "plt.xlabel(\"Age(months)\")\n",
    "plt.ylabel(\"SIDS deaths, 1985\")\n",
    "plt.savefig(\"SIDSDEATHS1985.eps\")"
   ]
  },
  {
   "cell_type": "code",
   "execution_count": 136,
   "metadata": {},
   "outputs": [
    {
     "data": {
      "image/png": "[encoded data removed]",
      "text/plain": [
       "<Figure size 432x288 with 1 Axes>"
      ]
     },
     "metadata": {
      "needs_background": "light"
     },
     "output_type": "display_data"
    }
   ],
   "source": [
    "fix, ax = plt.subplots()\n",
    "plt.bar(sidshist.index[:-1], np.diff(np.log(sidshist[0]))/np.log(10))\n",
    "\n",
    "#ax.set_yscale('log')\n",
    "plt.xlabel(\"Age(months)\")\n",
    "plt.ylabel(\"SIDS deaths, 1985\")\n",
    "plt.savefig(\"SIDSDEATHS1985.eps\")"
   ]
  },
  {
   "cell_type": "code",
   "execution_count": 142,
   "metadata": {},
   "outputs": [
    {
     "data": {
      "text/plain": [
       "0.5888436553555889"
      ]
     },
     "execution_count": 142,
     "metadata": {},
     "output_type": "execute_result"
    }
   ],
   "source": [
    "10**(-0.23)"
   ]
  },
  {
   "cell_type": "code",
   "execution_count": 143,
   "metadata": {},
   "outputs": [
    {
     "data": {
      "text/plain": [
       "0.5888436553555889"
      ]
     },
     "execution_count": 143,
     "metadata": {},
     "output_type": "execute_result"
    }
   ],
   "source": [
    "np.exp(-0.23* np.log(10))"
   ]
  },
  {
   "cell_type": "code",
   "execution_count": 144,
   "metadata": {},
   "outputs": [
    {
     "data": {
      "text/plain": [
       "0.5295945713886305"
      ]
     },
     "execution_count": 144,
     "metadata": {},
     "output_type": "execute_result"
    }
   ],
   "source": [
    "0.23 * np.log(10)"
   ]
  },
  {
   "cell_type": "code",
   "execution_count": 147,
   "metadata": {},
   "outputs": [],
   "source": [
    "x = np.arange(0,28)\n",
    "y = np.exp(-0.53 /30.5 * x)"
   ]
  },
  {
   "cell_type": "code",
   "execution_count": 148,
   "metadata": {},
   "outputs": [],
   "source": [
    "d1 = y[0]"
   ]
  },
  {
   "cell_type": "code",
   "execution_count": 149,
   "metadata": {},
   "outputs": [],
   "source": [
    "d2 = y[1:7].sum()\n",
    "d3 = y[7:27].sum()"
   ]
  },
  {
   "cell_type": "code",
   "execution_count": 150,
   "metadata": {},
   "outputs": [
    {
     "data": {
      "text/plain": [
       "(1.0, 5.648444045860154, 15.089905672287157)"
      ]
     },
     "execution_count": 150,
     "metadata": {},
     "output_type": "execute_result"
    }
   ],
   "source": [
    "(d1,d2,d3)"
   ]
  },
  {
   "cell_type": "code",
   "execution_count": 152,
   "metadata": {},
   "outputs": [
    {
     "data": {
      "text/plain": [
       "21.73834971814731"
      ]
     },
     "execution_count": 152,
     "metadata": {},
     "output_type": "execute_result"
    }
   ],
   "source": [
    "d1+d2+d3"
   ]
  },
  {
   "cell_type": "code",
   "execution_count": 154,
   "metadata": {},
   "outputs": [
    {
     "data": {
      "text/plain": [
       "array([ 1.42607416,  8.05510007, 21.51932449])"
      ]
     },
     "execution_count": 154,
     "metadata": {},
     "output_type": "execute_result"
    }
   ],
   "source": [
    "np.array([d1,d2,d3]) * 31/ 21.738"
   ]
  },
  {
   "cell_type": "code",
   "execution_count": 157,
   "metadata": {},
   "outputs": [
    {
     "data": {
      "text/plain": [
       "36.336371777649845"
      ]
     },
     "execution_count": 157,
     "metadata": {},
     "output_type": "execute_result"
    }
   ],
   "source": [
    "(6-0.96)**2 / 0.96 + (11-5.79)**2 / 5.79 + (10-20.25)**2 / 20.25"
   ]
  },
  {
   "cell_type": "code",
   "execution_count": 158,
   "metadata": {},
   "outputs": [
    {
     "data": {
      "text/plain": [
       "(26.460000000000004, 4.688100172711572, 5.188271604938271)"
      ]
     },
     "execution_count": 158,
     "metadata": {},
     "output_type": "execute_result"
    }
   ],
   "source": [
    "(6-0.96)**2 / 0.96 , (11-5.79)**2 / 5.79 , (10-20.25)**2 / 20.25"
   ]
  },
  {
   "cell_type": "code",
   "execution_count": 159,
   "metadata": {},
   "outputs": [
    {
     "data": {
      "text/plain": [
       "(14.77211267605634, 1.0724069478908185, 5.188271604938271)"
      ]
     },
     "execution_count": 159,
     "metadata": {},
     "output_type": "execute_result"
    }
   ],
   "source": [
    "(6-1.42)**2 / 1.42 , (11-8.06)**2/8.06, (10-20.25)**2 / 20.25"
   ]
  },
  {
   "cell_type": "code",
   "execution_count": 160,
   "metadata": {},
   "outputs": [
    {
     "data": {
      "text/plain": [
       "21.03279122888543"
      ]
     },
     "execution_count": 160,
     "metadata": {},
     "output_type": "execute_result"
    }
   ],
   "source": [
    "(6-1.42)**2 / 1.42+(11-8.06)**2/8.06+ (10-20.25)**2 / 20.25"
   ]
  },
  {
   "cell_type": "code",
   "execution_count": 162,
   "metadata": {},
   "outputs": [],
   "source": [
    "from  scipy.stats import chisquare\n"
   ]
  },
  {
   "cell_type": "code",
   "execution_count": 165,
   "metadata": {},
   "outputs": [
    {
     "data": {
      "text/plain": [
       "Power_divergenceResult(statistic=36.336371777649845, pvalue=1.2872328734886733e-08)"
      ]
     },
     "execution_count": 165,
     "metadata": {},
     "output_type": "execute_result"
    }
   ],
   "source": [
    "chisquare ([6,11,10], [0.96,5.79,20.25])"
   ]
  },
  {
   "cell_type": "code",
   "execution_count": 164,
   "metadata": {},
   "outputs": [
    {
     "data": {
      "text/plain": [
       "Power_divergenceResult(statistic=21.03279122888543, pvalue=2.7088653319804945e-05)"
      ]
     },
     "execution_count": 164,
     "metadata": {},
     "output_type": "execute_result"
    }
   ],
   "source": [
    "chisquare ([6,11,10], [1.42,8.06,20.25])"
   ]
  },
  {
   "cell_type": "code",
   "execution_count": 166,
   "metadata": {},
   "outputs": [
    {
     "data": {
      "text/plain": [
       "2104.4096897858867"
      ]
     },
     "execution_count": 166,
     "metadata": {},
     "output_type": "execute_result"
    }
   ],
   "source": [
    "# So, nonuniform rate, informed by sensible and relevant data,\n",
    "# makes the observed counts\n",
    "2.7088653319804945e-05/1.2872328734886733e-08"
   ]
  },
  {
   "cell_type": "code",
   "execution_count": null,
   "metadata": {},
   "outputs": [],
   "source": [
    "# times more likely"
   ]
  },
  {
   "cell_type": "code",
   "execution_count": 183,
   "metadata": {},
   "outputs": [
    {
     "data": {
      "image/png": "[encoded data removed]",
      "text/plain": [
       "<Figure size 432x288 with 1 Axes>"
      ]
     },
     "metadata": {
      "needs_background": "light"
     },
     "output_type": "display_data"
    }
   ],
   "source": [
    "fix, ax = plt.subplots()\n",
    "plt.bar(np.arange(0,12)+.5, sidshist[0])\n",
    "\n",
    "ax.set_yscale('log')\n",
    "plt.xlabel(\"Age(months)\", fontsize=16)\n",
    "plt.ylabel(\"Infant deaths w/SIDS \\n on death certificate, 1985\", fontsize=16)\n",
    "plt.arrow(2,2000, 0,-1000, head_length=100)\n",
    "plt.arrow(4,2000, 0,-1000, head_length=100)\n",
    "plt.arrow(6,2000, 0,-1000, head_length=100)\n",
    "plt.xticks(fontsize=15)\n",
    "plt.yticks(fontsize=15)\n",
    "\n",
    "plt.savefig(\"SIDSDEATHS1985.eps\")\n"
   ]
  },
  {
   "cell_type": "code",
   "execution_count": 186,
   "metadata": {},
   "outputs": [
    {
     "data": {
      "image/png": "[encoded data removed]",
      "text/plain": [
       "<Figure size 432x288 with 1 Axes>"
      ]
     },
     "metadata": {
      "needs_background": "light"
     },
     "output_type": "display_data"
    }
   ],
   "source": [
    "fix, ax = plt.subplots()\n",
    "plt.bar(np.arange(0,12)+.5, sidshist[0])\n",
    "#ax.set_yscale('log')\n",
    "\n",
    "plt.xlabel(\"Age(months)\", fontsize=16)\n",
    "plt.ylabel(\"Infant deaths w/SIDS \\n on death certificate, 1985\", fontsize=16)\n",
    "plt.arrow(2,1700, 0,-300, head_length=100)\n",
    "plt.arrow(4,1700, 0,-300, head_length=100)\n",
    "plt.arrow(6,1700, 0,-300, head_length=100)\n",
    "plt.xticks(fontsize=15)\n",
    "plt.yticks(fontsize=15)\n",
    "plt.savefig(\"SIDS1985.eps\")"
   ]
  },
  {
   "cell_type": "code",
   "execution_count": null,
   "metadata": {},
   "outputs": [],
   "source": []
  }
 ],
 "metadata": {
  "kernelspec": {
   "display_name": "Python 3",
   "language": "python",
   "name": "python3"
  },
  "language_info": {
   "codemirror_mode": {
    "name": "ipython",
    "version": 3
   },
   "file_extension": ".py",
   "mimetype": "text/x-python",
   "name": "python",
   "nbconvert_exporter": "python",
   "pygments_lexer": "ipython3",
   "version": "3.8.5"
  }
 },
 "nbformat": 4,
 "nbformat_minor": 4
}
