{
 "cells": [
  {
   "cell_type": "code",
   "execution_count": null,
   "id": "fca4d022-da1f-4afd-9a34-fd436452116b",
   "metadata": {},
   "outputs": [],
   "source": [
    "import pandas as pd\n",
    "import numpy as np\n",
    "import matplotlib.pyplot as plt"
   ]
  },
  {
   "cell_type": "code",
   "execution_count": null,
   "id": "34fb05b4-c298-4987-99cb-d8edd82c9b17",
   "metadata": {},
   "outputs": [],
   "source": [
    "# Hints on fireball, example pressure-wind speed scatterplot in altiar \n",
    "\n",
    "l = pd.read_csv(\"/Users/wltrimbl/Downloads/tvs-2022.csv\", skiprows=2)"
   ]
  },
  {
   "cell_type": "code",
   "execution_count": null,
   "id": "2b8a9fbf-ad7e-4825-a09b-010b416389e2",
   "metadata": {},
   "outputs": [],
   "source": [
    "l"
   ]
  },
  {
   "cell_type": "code",
   "execution_count": null,
   "id": "b4295398-d780-457f-bc69-63de1fe7f89a",
   "metadata": {
    "tags": []
   },
   "outputs": [],
   "source": [
    "l[\"Date\"] = pd.to_datetime(l[\"#ZTIME\"])"
   ]
  },
  {
   "cell_type": "code",
   "execution_count": null,
   "id": "910117ac-7ff8-4a78-8112-eccd2028bffe",
   "metadata": {},
   "outputs": [],
   "source": [
    "l.Date"
   ]
  },
  {
   "cell_type": "code",
   "execution_count": null,
   "id": "acae1fb7-211b-4d34-ae32-ed4f2ac91e69",
   "metadata": {},
   "outputs": [],
   "source": [
    "hist=plt.hist(l.Date, bins=900)"
   ]
  },
  {
   "cell_type": "code",
   "execution_count": null,
   "id": "2f39d1ee-7451-4079-b3f6-60121194f1b0",
   "metadata": {},
   "outputs": [],
   "source": [
    "# This is data corruption, these dates are not in 1970, they are from 2022.\n",
    "l[\"Date\"] = pd.to_datetime(l[\"#ZTIME\"], format=\"%Y%m%d%H%M%S\")\n",
    "l[\"Date\"]"
   ]
  },
  {
   "cell_type": "code",
   "execution_count": null,
   "id": "87df88ed-0d20-4411-b138-7dcca621ea02",
   "metadata": {},
   "outputs": [],
   "source": [
    "plt.hist(l[\"Date\"])"
   ]
  },
  {
   "cell_type": "code",
   "execution_count": null,
   "id": "dac32ce7-352e-4059-8a5b-94108f704854",
   "metadata": {
    "tags": []
   },
   "outputs": [],
   "source": [
    "plt.hist(l[\"Date\"], bins=30)"
   ]
  },
  {
   "cell_type": "code",
   "execution_count": null,
   "id": "0232aa84-b086-4cf9-86d0-086e1e58dc6b",
   "metadata": {},
   "outputs": [],
   "source": [
    "# Histograms are nice. What about cumulative plots?\n",
    "\n",
    "plt.hist(l[\"Date\"], bins=200)"
   ]
  },
  {
   "cell_type": "code",
   "execution_count": null,
   "id": "20dd25be-b056-41d7-8ec6-3c02cfc4a689",
   "metadata": {
    "tags": []
   },
   "outputs": [],
   "source": [
    "plt.hist(l[\"Date\"], bins=pd.date_range(l[\"Date\"][0], periods=100))"
   ]
  },
  {
   "cell_type": "code",
   "execution_count": null,
   "id": "5d890dfe-f85f-450e-b175-d058346754ea",
   "metadata": {},
   "outputs": [],
   "source": [
    "plt.plot(np.arange(len(l)), l[\"Date\"].sort_values()) "
   ]
  },
  {
   "cell_type": "code",
   "execution_count": null,
   "id": "526d87ce-ed67-431e-b603-81ddae5b2e6a",
   "metadata": {},
   "outputs": [],
   "source": [
    "from matplotlib import ticker\n",
    "# https://matplotlib.org/stable/api/ticker_api.html  Ugh, that's unreadable\n",
    "fig, ax = plt.subplots(figsize=(8,4))\n",
    "plt.plot(l[\"Date\"].sort_values(), np.arange(len(l))) \n",
    "plt.xlabel(\"Date\")\n",
    "plt.ylabel(\"Lightning strikes\")\n",
    "ax.yaxis.set_major_formatter(ticker.StrMethodFormatter(\"{x:d}\"))"
   ]
  },
  {
   "cell_type": "code",
   "execution_count": null,
   "id": "0cce8f33-8509-4f03-91cc-454a2cf34782",
   "metadata": {},
   "outputs": [],
   "source": [
    "h[900][0].value_counts()"
   ]
  },
  {
   "cell_type": "code",
   "execution_count": null,
   "id": "852d5561-f4ef-49f0-b72b-d2909ae4a8c8",
   "metadata": {
    "tags": []
   },
   "outputs": [],
   "source": [
    "# Some trial-and-error and I find the format string ,.0f  will add commas and\n",
    "# remove decimals from a floating point axis."
   ]
  },
  {
   "cell_type": "code",
   "execution_count": null,
   "id": "bfa777cf-4efa-4e31-b30d-cc608abf2508",
   "metadata": {
    "tags": []
   },
   "outputs": [],
   "source": [
    "from matplotlib import ticker\n",
    "# https://matplotlib.org/stable/api/ticker_api.html  Ugh, that's unreadable\n",
    "fig, ax = plt.subplots(figsize=(8,4))\n",
    "plt.plot(l[\"Date\"].sort_values(), range(len(l))) \n",
    "plt.xlabel(\"Date\")\n",
    "plt.ylabel(\"Lightning strikes\")\n",
    "ax.yaxis.set_major_formatter(ticker.StrMethodFormatter(\"{x:,.0f}\"))"
   ]
  },
  {
   "cell_type": "code",
   "execution_count": null,
   "id": "0a83e272-ab0f-4294-8329-43de0197689e",
   "metadata": {},
   "outputs": [],
   "source": [
    "# This is somewhat difficult to understand... "
   ]
  },
  {
   "cell_type": "markdown",
   "id": "89fade25-33a4-4d91-a63c-80d7029bccc8",
   "metadata": {},
   "source": [
    "Latitude and longitude of lightning strikes, and some histograms..."
   ]
  },
  {
   "cell_type": "code",
   "execution_count": null,
   "id": "7c0c21b5-337b-4284-a398-f10aae00da6a",
   "metadata": {
    "tags": []
   },
   "outputs": [],
   "source": [
    "# https://pythonprogramming.net/plotting-maps-python-basemap/\n",
    "import mpl_toolkits\n",
    "from mpl_toolkits.basemap import Basemap\n",
    "import matplotlib.pyplot as plt\n",
    "import numpy as np\n",
    "def drawmap():\n",
    "  \n",
    "    m = Basemap(projection='robin',lon_0=0,resolution='c')\n",
    "\n",
    "    m.drawcoastlines()\n",
    "    m.drawcountries()\n",
    "#    m.drawstates()\n",
    "\n",
    "# This is the syntax to convert using the projection\n",
    "# from long, lat to map coordinates\n",
    "    x,y =    (1,1)  # DATA GOES HERE \n",
    "# And this hurricane track is just an x,y scatterplot\n",
    "    m.plot(x,y)\n",
    "# This decorates the map with a color background image of Earth\n",
    " #   m.bluemarble(alpha=0.1)\n",
    "#    parallels = np.arange(0.,60,10.)\n",
    "#    m.drawparallels(parallels,labels=[False,True,True,False])\n",
    "#    meridians = np.arange(-20.,-140.,-10.)\n",
    "#    m.drawmeridians(meridians,labels=[True,False,False,True])\n",
    "\n",
    "    plt.title(\"TITLE\")\n",
    "    plt.show()\n",
    "drawmap()"
   ]
  },
  {
   "cell_type": "code",
   "execution_count": null,
   "id": "296987a6-202c-4a9c-8354-1c39bb334df6",
   "metadata": {
    "tags": []
   },
   "outputs": [],
   "source": [
    "# https://pythonprogramming.net/plotting-maps-python-basemap/\n",
    "import mpl_toolkits\n",
    "from mpl_toolkits.basemap import Basemap\n",
    "import matplotlib.pyplot as plt\n",
    "import numpy as np\n",
    "def drawmap():\n",
    "\n",
    "    m = Basemap(projection='robin',lon_0=0,resolution='c')\n",
    "    \n",
    "    m.drawcoastlines()\n",
    "    m.drawcountries()\n",
    "#    m.drawstates()\n",
    "\n",
    "# This is the syntax to convert using the projection\n",
    "# from long, lat to map coordinates\n",
    "    x,y =    m(l.LON, l.LAT)  # DATA GOES HERE \n",
    "# And this hurricane track is just an x,y scatterplot\n",
    "    m.scatter(x,y)\n",
    "# This decorates the map with a color background image of Earth\n",
    " #   m.bluemarble(alpha=0.1)\n",
    "#    parallels = np.arange(0.,60,10.)\n",
    "#    m.drawparallels(parallels,labels=[False,True,True,False])\n",
    "#    meridians = np.arange(-20.,-140.,-10.)\n",
    "#    m.drawmeridians(meridians,labels=[True,False,False,True])\n",
    "\n",
    "    plt.title(\"TITLE\")\n",
    "    plt.show()\n",
    "drawmap()"
   ]
  },
  {
   "cell_type": "code",
   "execution_count": null,
   "id": "ef49d0af-c290-45fb-ab31-0b6c478b4291",
   "metadata": {
    "tags": []
   },
   "outputs": [],
   "source": [
    "wl = pd.read_csv(\"/Users/wltrimbl/Downloads/hail-2022.csv\", skiprows=2)"
   ]
  },
  {
   "cell_type": "code",
   "execution_count": null,
   "id": "cab44583-aff1-4dc1-9bd6-4fc7559941ff",
   "metadata": {
    "tags": []
   },
   "outputs": [],
   "source": [
    "sample =wl.sample(1000)"
   ]
  },
  {
   "cell_type": "code",
   "execution_count": null,
   "id": "75ea9368-ca02-4e5f-b415-c36b25297582",
   "metadata": {
    "tags": []
   },
   "outputs": [],
   "source": [
    "# https://pythonprogramming.net/plotting-maps-python-basemap/\n",
    "import mpl_toolkits\n",
    "from mpl_toolkits.basemap import Basemap\n",
    "import matplotlib.pyplot as plt\n",
    "import numpy as np\n",
    "def drawmap():\n",
    "\n",
    "    m = Basemap(projection='robin',lon_0=0,resolution='c')\n",
    "    \n",
    "    m.drawcoastlines()\n",
    "    m.drawcountries()\n",
    "#    m.drawstates()\n",
    "\n",
    "# This is the syntax to convert using the projection\n",
    "# from long, lat to map coordinates\n",
    "    x,y =    m(wl.LON, wl.LAT)  # DATA GOES HERE \n",
    "# And this hurricane track is just an x,y scatterplot\n",
    "    m.scatter(x,y)\n",
    "# This decorates the map with a color background image of Earth\n",
    " #   m.bluemarble(alpha=0.1)\n",
    "#    parallels = np.arange(0.,60,10.)\n",
    "#    m.drawparallels(parallels,labels=[False,True,True,False])\n",
    "#    meridians = np.arange(-20.,-140.,-10.)\n",
    "#    m.drawmeridians(meridians,labels=[True,False,False,True])\n",
    "\n",
    "    plt.title(\"Sample of 1000 lightning strikes from hail-2022\")\n",
    "    plt.show()\n",
    "drawmap()"
   ]
  },
  {
   "cell_type": "code",
   "execution_count": null,
   "id": "a7c56921-033a-482b-b5e5-a28817c5eb0e",
   "metadata": {
    "tags": []
   },
   "outputs": [],
   "source": [
    "# https://pythonprogramming.net/plotting-maps-python-basemap/\n",
    "import mpl_toolkits\n",
    "from mpl_toolkits.basemap import Basemap\n",
    "import matplotlib.pyplot as plt\n",
    "import numpy as np\n",
    "def drawmap():\n",
    "\n",
    " #   m = Basemap(projection='robin',lon_0=0,resolution='c')\n",
    " \n",
    "    m = Basemap(projection='aea', lat_0=35, lon_0 = -100,resolution='l',\n",
    "                llcrnrlat=20,urcrnrlat=50,\n",
    "                llcrnrlon=-120,urcrnrlon=-70)     \n",
    "    m.drawcoastlines()\n",
    "    m.drawcountries()\n",
    "#    m.drawstates()\n",
    "\n",
    "# This is the syntax to convert using the projection\n",
    "# from long, lat to map coordinates\n",
    "    x,y =    m(l.LON, l.LAT)  # DATA GOES HERE \n",
    "# And this hurricane track is just an x,y scatterplot\n",
    "    m.scatter(x,y, s=0.1)\n",
    "# This decorates the map with a color background image of Earth\n",
    " #   m.bluemarble(alpha=0.1)\n",
    "#    parallels = np.arange(0.,60,10.)\n",
    "#    m.drawparallels(parallels,labels=[False,True,True,False])\n",
    "#    meridians = np.arange(-20.,-140.,-10.)\n",
    "#    m.drawmeridians(meridians,labels=[True,False,False,True])\n",
    "\n",
    "    plt.title(\"TITLE\")\n",
    "    plt.show()\n",
    "drawmap()"
   ]
  },
  {
   "cell_type": "code",
   "execution_count": null,
   "id": "553939f9-c908-4a55-9b75-191f05613cdf",
   "metadata": {
    "tags": []
   },
   "outputs": [],
   "source": [
    "plt.figure(figsize=(8,4))\n",
    "l.LAT.hist(bins=40)\n",
    "plt.xlabel(\"Latitude\")\n",
    "plt.ylabel(\"Number of lightning events\")"
   ]
  },
  {
   "cell_type": "code",
   "execution_count": null,
   "id": "65c72314-48a2-4a67-89b6-f3dc6e82578a",
   "metadata": {
    "tags": []
   },
   "outputs": [],
   "source": [
    "plt.figure(figsize=(8,4))\n",
    "l.LON.hist(bins=40)\n",
    "plt.xlabel(\"Longitude\")\n",
    "plt.ylabel(\"Number of lightning events\")"
   ]
  },
  {
   "cell_type": "code",
   "execution_count": null,
   "id": "45701262-0c6f-4c08-8857-239d0a314927",
   "metadata": {
    "tags": []
   },
   "outputs": [],
   "source": [
    "plt.figure(figsize=(8,4), )\n",
    "l.LON.hist(bins=np.arange(-110, -60, 2))\n",
    "plt.xlabel(\"Longitude\")\n",
    "plt.ylabel(\"Number of lightning events\")"
   ]
  },
  {
   "cell_type": "code",
   "execution_count": null,
   "id": "74605726-15cf-42ad-93c6-939bbf4b617c",
   "metadata": {
    "tags": []
   },
   "outputs": [],
   "source": [
    "plt.figure(figsize=(8,4), )\n",
    "l.LON.hist(bins=np.arange(-110, -60, .2))\n",
    "plt.xlabel(\"Longitude\")\n",
    "plt.ylabel(\"Number of lightning events\")"
   ]
  },
  {
   "cell_type": "code",
   "execution_count": null,
   "id": "f1040e0a-99c3-43ee-bce5-9495904d611f",
   "metadata": {
    "tags": []
   },
   "outputs": [],
   "source": [
    "plt.figure(figsize=(8,4), )\n",
    "l.LON.hist(bins=np.arange(-110, -60, .02))\n",
    "plt.xlabel(\"Longitude\")\n",
    "plt.ylabel(\"Number of lightning events\")"
   ]
  },
  {
   "cell_type": "code",
   "execution_count": null,
   "id": "eb5abb0f-13c1-4777-bd94-42cfd7e80972",
   "metadata": {},
   "outputs": [],
   "source": []
  },
  {
   "cell_type": "code",
   "execution_count": null,
   "id": "9b79bb7a-d92c-4f4d-8708-0114a08c74db",
   "metadata": {
    "tags": []
   },
   "outputs": [],
   "source": [
    "c, b = np.histogram(l.LON, bins =np.arange(-110, -60, .02) )\n",
    "c, b"
   ]
  },
  {
   "cell_type": "code",
   "execution_count": null,
   "id": "4c91e8c3-a84c-4071-abe6-7d5e3d12ca57",
   "metadata": {
    "tags": []
   },
   "outputs": [],
   "source": [
    "# According to stackoverflow, the numpy equivalent of pd.value_counts() is\n",
    "# https://stackoverflow.com/questions/70887293/equivalent-of-value-counts-of-pandas-in-numpy\n",
    "unique, counts = np.unique(c, return_counts=True)\n",
    "unique, counts, len(counts)\n"
   ]
  },
  {
   "cell_type": "code",
   "execution_count": null,
   "id": "af15cdff-f47e-4590-97de-54284f3c85eb",
   "metadata": {},
   "outputs": [],
   "source": [
    "plt.bar(unique, counts)\n",
    "plt.xlabel(\"Number of events in bin (n=186 bins)\")\n",
    "plt.ylabel(\"Number of bins\")\n",
    "plt.title(\"The histogram of the histogram\")"
   ]
  },
  {
   "cell_type": "code",
   "execution_count": null,
   "id": "60c44d45-76e9-4174-9f85-a9978daec0b0",
   "metadata": {
    "tags": []
   },
   "outputs": [],
   "source": [
    "# How many events were there... ?  88k... into 186 bins... \n",
    "len(l), len(l) / len(counts) "
   ]
  },
  {
   "cell_type": "code",
   "execution_count": null,
   "id": "3fe37088-fdc1-4b84-96e1-b793ac47797e",
   "metadata": {},
   "outputs": [],
   "source": [
    "# That can't be right.  Something doesn't add up. "
   ]
  },
  {
   "cell_type": "code",
   "execution_count": null,
   "id": "581a4639-0c63-4343-8e5a-9e46aec0f3a9",
   "metadata": {
    "tags": []
   },
   "outputs": [],
   "source": [
    "sum(counts)"
   ]
  },
  {
   "cell_type": "code",
   "execution_count": null,
   "id": "0a8ed725-d784-416f-a593-8c60bd4a9e59",
   "metadata": {
    "tags": []
   },
   "outputs": [],
   "source": [
    "plt.plot(np.arange(len(l)), l.LON.sort_values())"
   ]
  },
  {
   "cell_type": "code",
   "execution_count": null,
   "id": "d4e93edc-481a-46e1-b594-f88db21bdf21",
   "metadata": {
    "tags": []
   },
   "outputs": [],
   "source": [
    "plt.plot(np.arange(len(l)), l.LON.sort_values())\n",
    "plt.ylim(-110, -60)"
   ]
  },
  {
   "cell_type": "code",
   "execution_count": null,
   "id": "009ec5b6-29a5-4951-b235-428757446453",
   "metadata": {
    "tags": []
   },
   "outputs": [],
   "source": [
    "# Ok, c, b was np.histogram... \n",
    "c.sum(), len(c)"
   ]
  },
  {
   "cell_type": "code",
   "execution_count": null,
   "id": "3eddb733-6ced-416f-963b-ce0a8c1f3682",
   "metadata": {},
   "outputs": [],
   "source": [
    "# Ahhh, now I see.    The numpy.histogram has one point for every value, but\n",
    "# the result of np.unique does not... because it's the histogram of the histogram!"
   ]
  },
  {
   "cell_type": "code",
   "execution_count": null,
   "id": "eb56d0a4-8a0c-4b78-834a-38e1a63bab4a",
   "metadata": {
    "tags": []
   },
   "outputs": [],
   "source": [
    "sum(unique * counts)"
   ]
  },
  {
   "cell_type": "markdown",
   "id": "d702a70d-5390-45a3-8a39-1c145752d359",
   "metadata": {},
   "source": [
    "Can we over-histogram? \n"
   ]
  },
  {
   "cell_type": "code",
   "execution_count": null,
   "id": "89cfee04-2184-47c4-86a7-267865b085a0",
   "metadata": {
    "tags": []
   },
   "outputs": [],
   "source": [
    "c25k, b25k = np.histogram(l.LON, bins =np.arange(-110, -60, .002) )\n",
    "c25k, b25k, len(b25k)"
   ]
  },
  {
   "cell_type": "code",
   "execution_count": null,
   "id": "21552b9f-c6e0-4b6e-bce8-080a4710db0f",
   "metadata": {},
   "outputs": [],
   "source": [
    "plt.bar(b25k, c25k)\n",
    "plt.xlabel(\"Number of events in bin (n=25k bins)\")\n",
    "plt.ylabel(\"Number of bins\")\n",
    "plt.title(\"The histogram of the histogram\")"
   ]
  },
  {
   "cell_type": "code",
   "execution_count": null,
   "id": "07f51cd7-a9f4-46fa-a2c5-f444331e5929",
   "metadata": {},
   "outputs": [],
   "source": [
    "plt.bar(b25k[:-1], c25k)\n",
    "plt.xlabel(\"Number of events in bin (n=25k bins)\")\n",
    "plt.ylabel(\"Longitude\")\n",
    "plt.title(\"The histogram of \\nlightning by longitude in .002 degree bins\")"
   ]
  },
  {
   "cell_type": "code",
   "execution_count": null,
   "id": "3ea7c7fd-6396-42eb-a052-e9ad8b396ecb",
   "metadata": {},
   "outputs": [],
   "source": [
    "unique25k, counts25k = np.unique(c25k, return_counts=True)\n",
    "unique25k, counts25k, len(counts25k)"
   ]
  },
  {
   "cell_type": "code",
   "execution_count": null,
   "id": "757e64d8-a42d-40cf-bde8-bb455560ba69",
   "metadata": {
    "tags": []
   },
   "outputs": [],
   "source": [
    "plt.bar(unique25k, counts25k)\n",
    "plt.xlabel(\"Number of events in bin (n=25k bins)\")\n",
    "plt.ylabel(\"Number of bins\")\n",
    "plt.title(\"The histogram of the histogram\")"
   ]
  },
  {
   "cell_type": "code",
   "execution_count": null,
   "id": "4c93abaf-3ce4-47e2-ae58-a7fa1a4eecc2",
   "metadata": {},
   "outputs": [],
   "source": [
    "import scipy.stats\n",
    "uniform = scipy.stats.uniform.rvs(-110,50, size=88000)"
   ]
  },
  {
   "cell_type": "code",
   "execution_count": null,
   "id": "181deacf-0b41-4a5a-8446-db8ab283fa2e",
   "metadata": {
    "tags": []
   },
   "outputs": [],
   "source": [
    "cr25k, r25k = np.histogram(uniform, bins =np.arange(-110, -60, .002) )\n",
    "cr25k, r25k, len(r25k)\n"
   ]
  },
  {
   "cell_type": "code",
   "execution_count": null,
   "id": "2645fd94-de2b-456f-a684-7cf3ae893a84",
   "metadata": {
    "tags": []
   },
   "outputs": [],
   "source": [
    "uniquerandom, countsrandom = np.unique(cr25k, return_counts=True)\n",
    "uniquerandom, countsrandom, len(countsrandom)"
   ]
  },
  {
   "cell_type": "code",
   "execution_count": null,
   "id": "ef58431b-76e6-41d4-aecf-1701372dc0ff",
   "metadata": {
    "tags": []
   },
   "outputs": [],
   "source": [
    "plt.bar(uniquerandom, countsrandom, alpha=0.4, label=\"uniform random\")\n",
    "plt.xlabel(\"Number of events in bin (n=25k bins)\")\n",
    "plt.ylabel(\"Number of bins\")\n",
    "plt.bar(unique25k, counts25k, alpha=0.3, label=\"lightning strikes\")\n",
    "plt.title(\"The histogram of the histogram\")\n",
    "plt.legend()"
   ]
  },
  {
   "cell_type": "code",
   "execution_count": null,
   "id": "5273bff8-5396-4f12-ab7a-21da24a179f0",
   "metadata": {},
   "outputs": [],
   "source": [
    "plt.figure(figsize=(8,4))\n",
    "l.LAT[0:100].hist(bins=40)\n",
    "plt.xlabel(\"Latitude\")\n",
    "plt.ylabel(\"Number of lightning events\")"
   ]
  },
  {
   "cell_type": "code",
   "execution_count": null,
   "id": "8afef033-f904-4620-a35f-0f7397a7a42d",
   "metadata": {},
   "outputs": [],
   "source": []
  },
  {
   "cell_type": "code",
   "execution_count": null,
   "id": "42fa3680-47f4-4475-b388-a0a6f9a9e388",
   "metadata": {},
   "outputs": [],
   "source": []
  },
  {
   "cell_type": "code",
   "execution_count": null,
   "id": "92adc497-48e8-4b7b-aa81-e0939d62a157",
   "metadata": {},
   "outputs": [],
   "source": []
  },
  {
   "cell_type": "code",
   "execution_count": null,
   "id": "7734cc21-361d-4273-909f-54129616a61e",
   "metadata": {},
   "outputs": [],
   "source": []
  },
  {
   "cell_type": "code",
   "execution_count": null,
   "id": "ed08f04b-5db3-4db8-b9c7-632373db1f67",
   "metadata": {},
   "outputs": [],
   "source": []
  },
  {
   "cell_type": "code",
   "execution_count": null,
   "id": "9dd879bd-354c-4280-8760-1036883a56e6",
   "metadata": {},
   "outputs": [],
   "source": []
  },
  {
   "cell_type": "code",
   "execution_count": null,
   "id": "9057351b-31b7-4f9b-96a3-5759d72bb00c",
   "metadata": {},
   "outputs": [],
   "source": []
  },
  {
   "cell_type": "code",
   "execution_count": null,
   "id": "c3faff5b-375b-4f6b-b69c-0f9477822240",
   "metadata": {},
   "outputs": [],
   "source": []
  },
  {
   "cell_type": "code",
   "execution_count": null,
   "id": "5c63bb2d-6bf4-4bb8-a387-33465a9df5a0",
   "metadata": {},
   "outputs": [],
   "source": []
  },
  {
   "cell_type": "code",
   "execution_count": null,
   "id": "0d797687-9d21-442d-ba21-2eb0da71d16c",
   "metadata": {},
   "outputs": [],
   "source": []
  },
  {
   "cell_type": "code",
   "execution_count": null,
   "id": "e9f273d2-6ea9-45ea-855d-6c694fc81ddb",
   "metadata": {},
   "outputs": [],
   "source": []
  },
  {
   "cell_type": "code",
   "execution_count": null,
   "id": "c24e1883-f21a-4675-84d1-e0a11a2b3bbb",
   "metadata": {},
   "outputs": [],
   "source": []
  },
  {
   "cell_type": "code",
   "execution_count": null,
   "id": "54197e3b-cf7c-45fa-8ffd-48279ac4c95c",
   "metadata": {},
   "outputs": [],
   "source": []
  },
  {
   "cell_type": "code",
   "execution_count": null,
   "id": "9346bef0-431f-4a83-9764-7d41e91b99b2",
   "metadata": {},
   "outputs": [],
   "source": []
  },
  {
   "cell_type": "code",
   "execution_count": null,
   "id": "f74f9845-f70c-491d-bed5-3c8fe5dfc73e",
   "metadata": {},
   "outputs": [],
   "source": []
  },
  {
   "cell_type": "code",
   "execution_count": null,
   "id": "1d7b3e9b-74c3-401c-aa8b-5c89dac18154",
   "metadata": {},
   "outputs": [],
   "source": []
  },
  {
   "cell_type": "code",
   "execution_count": null,
   "id": "a1296201-ca98-4c4b-b364-1f73e3633bd1",
   "metadata": {},
   "outputs": [],
   "source": []
  },
  {
   "cell_type": "code",
   "execution_count": null,
   "id": "5c749dd8-a422-4d0e-8e31-bd5605aaba20",
   "metadata": {},
   "outputs": [],
   "source": []
  },
  {
   "cell_type": "code",
   "execution_count": null,
   "id": "533359bb-201a-45ce-a806-9ddb61efc35b",
   "metadata": {},
   "outputs": [],
   "source": []
  },
  {
   "cell_type": "code",
   "execution_count": null,
   "id": "f2f88408-231c-4a7a-81c6-7839598a20d4",
   "metadata": {},
   "outputs": [],
   "source": []
  },
  {
   "cell_type": "code",
   "execution_count": null,
   "id": "70ab8e85-75f9-44d6-8331-953c252808bc",
   "metadata": {},
   "outputs": [],
   "source": []
  },
  {
   "cell_type": "code",
   "execution_count": null,
   "id": "dec94d52-be5b-4c5f-b371-b5a83ab9a72c",
   "metadata": {},
   "outputs": [],
   "source": []
  },
  {
   "cell_type": "code",
   "execution_count": null,
   "id": "c7bb0572-afa1-476c-9858-edb92b2af801",
   "metadata": {},
   "outputs": [],
   "source": []
  },
  {
   "cell_type": "code",
   "execution_count": null,
   "id": "bf8bd34b-93ed-4cb0-a042-f21e5aefcbb8",
   "metadata": {},
   "outputs": [],
   "source": []
  },
  {
   "cell_type": "code",
   "execution_count": null,
   "id": "eb6ca76d-6d9b-47a9-ab5c-eaa4e863aeb7",
   "metadata": {},
   "outputs": [],
   "source": []
  },
  {
   "cell_type": "code",
   "execution_count": null,
   "id": "5c430ad0-09b3-4422-a42e-9144d3633bd3",
   "metadata": {},
   "outputs": [],
   "source": []
  },
  {
   "cell_type": "code",
   "execution_count": null,
   "id": "0dac81ad-23fb-4d0b-a7aa-f37086db1bec",
   "metadata": {},
   "outputs": [],
   "source": []
  },
  {
   "cell_type": "code",
   "execution_count": null,
   "id": "54e6f0b4-af72-4a8b-a946-758b10032a3b",
   "metadata": {},
   "outputs": [],
   "source": []
  },
  {
   "cell_type": "code",
   "execution_count": null,
   "id": "0555a254-afd3-42bb-b179-e664436a4643",
   "metadata": {},
   "outputs": [],
   "source": []
  },
  {
   "cell_type": "code",
   "execution_count": null,
   "id": "7e992604-e1c8-4d86-9cd7-6f3b31c4b6fa",
   "metadata": {},
   "outputs": [],
   "source": []
  },
  {
   "cell_type": "code",
   "execution_count": null,
   "id": "9c4f8ddc-2179-4144-bb75-9cbb7a42200b",
   "metadata": {},
   "outputs": [],
   "source": []
  },
  {
   "cell_type": "code",
   "execution_count": null,
   "id": "47e222be-176e-47d4-b4a7-420e13dedc41",
   "metadata": {},
   "outputs": [],
   "source": []
  },
  {
   "cell_type": "code",
   "execution_count": null,
   "id": "eab06cef-5a8c-4b24-b588-fdc5c80b4634",
   "metadata": {},
   "outputs": [],
   "source": []
  },
  {
   "cell_type": "code",
   "execution_count": null,
   "id": "6e2372f8-8832-4a5f-86a7-ef72982bf538",
   "metadata": {},
   "outputs": [],
   "source": []
  },
  {
   "cell_type": "code",
   "execution_count": null,
   "id": "7abbc62a-98ae-4b80-bfa8-1782ca21d0a0",
   "metadata": {},
   "outputs": [],
   "source": []
  },
  {
   "cell_type": "code",
   "execution_count": null,
   "id": "947581b7-2652-4cc5-a0a9-c1fbfdc30f1a",
   "metadata": {},
   "outputs": [],
   "source": []
  },
  {
   "cell_type": "code",
   "execution_count": null,
   "id": "f004d2a9-65c6-4b5a-94f8-82831b76231c",
   "metadata": {},
   "outputs": [],
   "source": []
  },
  {
   "cell_type": "code",
   "execution_count": null,
   "id": "771862fc-f194-4849-9f42-8d5c9e172627",
   "metadata": {},
   "outputs": [],
   "source": []
  },
  {
   "cell_type": "code",
   "execution_count": null,
   "id": "157676c9-e5e9-46a1-a721-03ba674b37d5",
   "metadata": {},
   "outputs": [],
   "source": []
  },
  {
   "cell_type": "code",
   "execution_count": null,
   "id": "6f06380a-2b3b-4146-949e-ae0c9252ddc1",
   "metadata": {},
   "outputs": [],
   "source": []
  },
  {
   "cell_type": "code",
   "execution_count": null,
   "id": "8260831e-d0d1-4f7f-9d7e-679f79e2aba2",
   "metadata": {},
   "outputs": [],
   "source": []
  },
  {
   "cell_type": "code",
   "execution_count": null,
   "id": "bbd47bce-7a23-468b-80b7-4b9b0af5033b",
   "metadata": {},
   "outputs": [],
   "source": []
  },
  {
   "cell_type": "code",
   "execution_count": null,
   "id": "f2c351dd-a422-4cbf-bfa5-d73386c8edb1",
   "metadata": {},
   "outputs": [],
   "source": []
  },
  {
   "cell_type": "code",
   "execution_count": null,
   "id": "b3e0cc11-6575-4d29-a9e9-c8e960b51cde",
   "metadata": {},
   "outputs": [],
   "source": []
  },
  {
   "cell_type": "code",
   "execution_count": null,
   "id": "6fbb6c0f-4a01-42a7-b45c-37b50110f726",
   "metadata": {},
   "outputs": [],
   "source": []
  },
  {
   "cell_type": "code",
   "execution_count": null,
   "id": "7a38c4c2-beaf-443f-a630-41ca83696fde",
   "metadata": {},
   "outputs": [],
   "source": []
  },
  {
   "cell_type": "code",
   "execution_count": null,
   "id": "5a976eec-c50c-4bfd-8833-088a271f9384",
   "metadata": {},
   "outputs": [],
   "source": []
  },
  {
   "cell_type": "code",
   "execution_count": null,
   "id": "09778818-4a37-4fbb-b1a9-86cff54ea7fa",
   "metadata": {},
   "outputs": [],
   "source": []
  },
  {
   "cell_type": "code",
   "execution_count": null,
   "id": "969d3ac3-0441-4f96-a720-48571d68981b",
   "metadata": {},
   "outputs": [],
   "source": []
  }
 ],
 "metadata": {
  "kernelspec": {
   "display_name": "Python 3 (ipykernel)",
   "language": "python",
   "name": "python3"
  },
  "language_info": {
   "codemirror_mode": {
    "name": "ipython",
    "version": 3
   },
   "file_extension": ".py",
   "mimetype": "text/x-python",
   "name": "python",
   "nbconvert_exporter": "python",
   "pygments_lexer": "ipython3",
   "version": "3.11.5"
  }
 },
 "nbformat": 4,
 "nbformat_minor": 5
}
