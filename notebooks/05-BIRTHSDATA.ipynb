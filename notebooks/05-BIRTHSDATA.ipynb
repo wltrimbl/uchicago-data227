{
 "cells": [
  {
   "cell_type": "code",
   "execution_count": null,
   "metadata": {
    "tags": []
   },
   "outputs": [],
   "source": [
    "import pandas as pd\n",
    "import numpy as np\n",
    "import matplotlib.pyplot as plt\n",
    "import time\n",
    "n1988 = pd.read_csv(\"~/data/birth/NATL1988.txt\")"
   ]
  },
  {
   "cell_type": "code",
   "execution_count": null,
   "metadata": {},
   "outputs": [],
   "source": [
    "# From the documentation of the detail natality file for 1990 data:\n",
    "# NCHS has adopted a new policy on release of vital statistics unit record\n",
    "# data files.  This new policy was implemented for the 1989 vital event\n",
    "# files to prevent the inadvertent disclosure of individuals and institutions.\n",
    "# As a result, the files for 1989 and later years do not contain the\n",
    "# acutal day or the birth or the dates of birth of the mother or father.\n",
    "# The geographic detail is also restricted...\n",
    "\n",
    "# These datasets are currently distributed by the CDC Vital Satistics Online Portal\n",
    "# https://www.cdc.gov/nchs/data_access/vitalstatsonline.htm\n",
    "\n",
    "# and the NATL1988.zip dataset is \n",
    "# https://ftp.cdc.gov/pub/Health_Statistics/NCHS/Datasets/DVS/natality/Nat1988.zip\n",
    "# with the data dictionary https://ftp.cdc.gov/pub/Health_Statistics/NCHS/Dataset_Documentation/DVS/natality/Nat1988doc.pdf\n"
   ]
  },
  {
   "cell_type": "code",
   "execution_count": null,
   "metadata": {
    "tags": []
   },
   "outputs": [],
   "source": [
    "n1988.head()"
   ]
  },
  {
   "cell_type": "code",
   "execution_count": null,
   "metadata": {
    "tags": []
   },
   "outputs": [],
   "source": [
    "len(n1988), type(n1988.iloc[0, 0]), n1988.columns"
   ]
  },
  {
   "cell_type": "markdown",
   "metadata": {},
   "source": [
    "Pandas thought the first row was a header definition row (which isn't going to work with fixed-with fields like we have here).  I do not want to lose the first row, or call it by its true name, so turn off header parsing:"
   ]
  },
  {
   "cell_type": "code",
   "execution_count": null,
   "metadata": {
    "tags": []
   },
   "outputs": [],
   "source": [
    "n1988 = pd.read_csv(\"~/data/birth/NATL1988.txt\", header=None)"
   ]
  },
  {
   "cell_type": "code",
   "execution_count": null,
   "metadata": {
    "tags": []
   },
   "outputs": [],
   "source": [
    "n1988.columns"
   ]
  },
  {
   "cell_type": "code",
   "execution_count": null,
   "metadata": {
    "tags": []
   },
   "outputs": [],
   "source": [
    "len(n1988.iloc[0,0])"
   ]
  },
  {
   "cell_type": "markdown",
   "metadata": {},
   "source": [
    "Now I have a single column, creatively named \"0\""
   ]
  },
  {
   "cell_type": "code",
   "execution_count": null,
   "metadata": {
    "tags": []
   },
   "outputs": [],
   "source": [
    "n1988[0]"
   ]
  },
  {
   "cell_type": "markdown",
   "metadata": {},
   "source": [
    "And you can see I have an index running from 0 to 3,913,792"
   ]
  },
  {
   "cell_type": "code",
   "execution_count": null,
   "metadata": {
    "tags": []
   },
   "outputs": [],
   "source": [
    "n1988[0][0]"
   ]
  },
  {
   "cell_type": "markdown",
   "metadata": {},
   "source": [
    "Accessing the rows with square brackets works, but I should probably use .loc"
   ]
  },
  {
   "cell_type": "code",
   "execution_count": null,
   "metadata": {
    "tags": []
   },
   "outputs": [],
   "source": [
    "n1988[0].loc[1000]"
   ]
  },
  {
   "cell_type": "markdown",
   "metadata": {},
   "source": [
    "This is a row.. How long is it?"
   ]
  },
  {
   "cell_type": "code",
   "execution_count": null,
   "metadata": {
    "tags": []
   },
   "outputs": [],
   "source": [
    "len(n1988[0].loc[0])"
   ]
  },
  {
   "cell_type": "code",
   "execution_count": null,
   "metadata": {},
   "outputs": [],
   "source": [
    "# This looks like a row.. can I get columns?"
   ]
  },
  {
   "cell_type": "code",
   "execution_count": null,
   "metadata": {
    "tags": []
   },
   "outputs": [],
   "source": [
    "n1988[0].loc[0][105:107]"
   ]
  },
  {
   "cell_type": "markdown",
   "metadata": {},
   "source": [
    "It looks like I can access columns with square brackets and a column number."
   ]
  },
  {
   "cell_type": "code",
   "execution_count": null,
   "metadata": {
    "tags": []
   },
   "outputs": [],
   "source": [
    "# Loop over the data, get the 60th column \"birth order\" and put it in a dataframe.\n",
    "# I'll create an empty list, fill it with strings, and then \n",
    "# convert the list of strings into a dataframe.\n",
    "\n",
    "p = []\n",
    "for i in n1988.index:\n",
    "    p.append(n1988[0].loc[i][60])\n",
    "pf = pd.DataFrame(p)\n",
    "pf.head()"
   ]
  },
  {
   "cell_type": "markdown",
   "metadata": {},
   "source": [
    "Note the data formats.. I created a empty list, filled it with strings, and then converted a list of strings into a dataframe."
   ]
  },
  {
   "cell_type": "code",
   "execution_count": null,
   "metadata": {},
   "outputs": [],
   "source": []
  },
  {
   "cell_type": "code",
   "execution_count": null,
   "metadata": {
    "tags": []
   },
   "outputs": [],
   "source": [
    "pf.head()"
   ]
  },
  {
   "cell_type": "code",
   "execution_count": null,
   "metadata": {
    "tags": []
   },
   "outputs": [],
   "source": [
    "pf.value_counts()"
   ]
  },
  {
   "cell_type": "code",
   "execution_count": null,
   "metadata": {},
   "outputs": [],
   "source": [
    "# This does not look right.  \n",
    "# This does not look like column 60, birth order, but\n",
    "# Column 61, the tens place of \"detail live birth order\"\n",
    "#  OK.  This is the python-starts-at-zero property."
   ]
  },
  {
   "cell_type": "code",
   "execution_count": null,
   "metadata": {
    "tags": []
   },
   "outputs": [],
   "source": [
    "# Loop over the data, get column 60 (total birth order recode 9) and \n",
    "# 41-42  (age of mother single years recode 36)  and put it in a dataframe.\n",
    "p = []\n",
    "q = []\n",
    "for i in n1988.index:\n",
    "    p.append(n1988[0][i][60-1])\n",
    "    q.append(n1988[0][i][(41-1):(42-1+1)])\n",
    "\n",
    "pf = pd.DataFrame({\"BIRTHORDER\": p, \"MATERNALAGE\":q})"
   ]
  },
  {
   "cell_type": "code",
   "execution_count": null,
   "metadata": {
    "tags": []
   },
   "outputs": [],
   "source": [
    "pf.head()"
   ]
  },
  {
   "cell_type": "code",
   "execution_count": null,
   "metadata": {
    "tags": []
   },
   "outputs": [],
   "source": [
    "pf[\"BIRTHORDER\"].value_counts().sort_index()"
   ]
  },
  {
   "cell_type": "code",
   "execution_count": null,
   "metadata": {
    "tags": []
   },
   "outputs": [],
   "source": [
    "pf.MATERNALAGE.value_counts()"
   ]
  },
  {
   "cell_type": "code",
   "execution_count": null,
   "metadata": {
    "tags": []
   },
   "outputs": [],
   "source": [
    "pf.MATERNALAGE.value_counts().sort_index()"
   ]
  },
  {
   "cell_type": "code",
   "execution_count": null,
   "metadata": {},
   "outputs": [],
   "source": [
    "dir(pf.MATERNALAGE.value_counts())"
   ]
  },
  {
   "cell_type": "code",
   "execution_count": null,
   "metadata": {
    "tags": []
   },
   "outputs": [],
   "source": [
    "pf.MATERNALAGE.value_counts().values"
   ]
  },
  {
   "cell_type": "code",
   "execution_count": null,
   "metadata": {
    "tags": []
   },
   "outputs": [],
   "source": [
    "plt.bar(pf[\"BIRTHORDER\"].value_counts().index, pf[\"BIRTHORDER\"].value_counts().values)\n",
    "plt.xlabel(\"Birth order\")"
   ]
  },
  {
   "cell_type": "code",
   "execution_count": null,
   "metadata": {},
   "outputs": [],
   "source": [
    "plt.xlabel(\"Birth order\")"
   ]
  },
  {
   "cell_type": "code",
   "execution_count": null,
   "metadata": {},
   "outputs": [],
   "source": [
    "p = []\n",
    "q = []\n",
    "for i in n1988.index:\n",
    "    p.append(n1988[0][i][60-1])\n",
    "    q.append(n1988[0][i][(41-1):(42-1+1)])\n",
    "\n",
    "pf = pd.DataFrame({\"BIRTHORDER\": p, \"MATERNALAGE\":q})"
   ]
  },
  {
   "cell_type": "code",
   "execution_count": null,
   "metadata": {
    "tags": []
   },
   "outputs": [],
   "source": [
    "# Loop over the data, get columns 84-87 (month and date of birth)\n",
    "# and put it in a dataframe.\n",
    "p = []\n",
    "q = []\n",
    "for i in n1988.index:\n",
    "    p.append(n1988[0][i][(84-1):(85-1+1)]) # MONTH\n",
    "    q.append(n1988[0][i][(86-1):(87-1+1)]) # DAY\n",
    "birthdate = pd.DataFrame({\"MONTH\": p, \"DAY\":q})"
   ]
  },
  {
   "cell_type": "code",
   "execution_count": null,
   "metadata": {
    "tags": []
   },
   "outputs": [],
   "source": [
    "birthdate.MONTH.value_counts()"
   ]
  },
  {
   "cell_type": "code",
   "execution_count": null,
   "metadata": {},
   "outputs": [],
   "source": []
  },
  {
   "cell_type": "code",
   "execution_count": null,
   "metadata": {
    "tags": []
   },
   "outputs": [],
   "source": [
    "months = birthdate.MONTH.value_counts().sort_values()\n",
    "months"
   ]
  },
  {
   "cell_type": "code",
   "execution_count": null,
   "metadata": {
    "tags": []
   },
   "outputs": [],
   "source": [
    "months = birthdate.MONTH.value_counts().sort_index()\n",
    "months"
   ]
  },
  {
   "cell_type": "code",
   "execution_count": null,
   "metadata": {
    "tags": []
   },
   "outputs": [],
   "source": [
    "plt.bar(months.index, months.values)"
   ]
  },
  {
   "cell_type": "code",
   "execution_count": null,
   "metadata": {
    "tags": []
   },
   "outputs": [],
   "source": [
    "birthdays = birthdate.DAY.value_counts().sort_index()\n",
    "birthdays"
   ]
  },
  {
   "cell_type": "code",
   "execution_count": null,
   "metadata": {
    "tags": []
   },
   "outputs": [],
   "source": [
    "plt.bar(birthdays.index, birthdays)"
   ]
  },
  {
   "cell_type": "code",
   "execution_count": null,
   "metadata": {
    "tags": []
   },
   "outputs": [],
   "source": [
    "plt.figure(figsize=(8,4))\n",
    "plt.bar(birthdays.index, birthdays)"
   ]
  },
  {
   "cell_type": "code",
   "execution_count": null,
   "metadata": {
    "tags": []
   },
   "outputs": [],
   "source": [
    "pd.to_datetime(\"1988-01-01\")"
   ]
  },
  {
   "cell_type": "code",
   "execution_count": null,
   "metadata": {
    "tags": []
   },
   "outputs": [],
   "source": [
    "birthdate.head()"
   ]
  },
  {
   "cell_type": "markdown",
   "metadata": {},
   "source": [
    "I'm pretty sure I'm going to need to change these into a time format to make good use of them.  Let us construct an ISO-8601-compliant string like 1988-01-02 and add it as a new column."
   ]
  },
  {
   "cell_type": "code",
   "execution_count": null,
   "metadata": {
    "tags": []
   },
   "outputs": [],
   "source": [
    "birthdate[\"ISO8601\"] = pd.to_datetime(\"1988\" + birthdate[\"MONTH\"]+ birthdate[\"DAY\"])\n",
    "birthdate[\"ISO8601\"]"
   ]
  },
  {
   "cell_type": "code",
   "execution_count": null,
   "metadata": {
    "tags": []
   },
   "outputs": [],
   "source": [
    "# ValueError: unconverted data remains when parsing with format \"%Y%m%d\": \"9\", at position 291. \n",
    "\n",
    "# Believe it or not, this is good news.  October 99th is not being coded as a date.\n",
    "# https://pandas.pydata.org/docs/reference/api/pandas.to_datetime.html\n",
    "# we have options errors=\"ignore\" which will set the date to the input or\n",
    "# errors=\"coerce\" which will set the date to Not a Time.\n",
    "birthdate[\"DATE\"] = pd.to_datetime(\"1988\" + birthdate[\"MONTH\"]+ birthdate[\"DAY\"], errors=\"coerce\")"
   ]
  },
  {
   "cell_type": "code",
   "execution_count": null,
   "metadata": {
    "tags": []
   },
   "outputs": [],
   "source": [
    "# It completes this time.  Look at the output \n",
    "birthdate.head()"
   ]
  },
  {
   "cell_type": "code",
   "execution_count": null,
   "metadata": {
    "tags": []
   },
   "outputs": [],
   "source": [
    "# This is the example code from a python module for making calendars:\n",
    "# https://github.com/tomkwok/calplot\n",
    "\n",
    "# This is verbatim the sample code: generate an array of 730 days, and \n",
    "# populate 500 of these days with random numbers.  Paint the result on \n",
    "# a calendar.  \n",
    "\n",
    "import calplot\n",
    "import numpy as np; np.random.seed(sum(map(ord, 'calplot')))\n",
    "import pandas as pd\n",
    "all_days = pd.date_range('1/1/2019', periods=730, freq='D')\n",
    "days = np.random.choice(all_days, 500)\n",
    "events = pd.Series(np.random.randn(len(days)), index=days)\n",
    "calplot.calplot(events)\n",
    "events.head()"
   ]
  },
  {
   "cell_type": "code",
   "execution_count": null,
   "metadata": {
    "tags": []
   },
   "outputs": [],
   "source": [
    "# So if I paint all the days with random numbers, the blank spots vanish:\n",
    "\n",
    "all_days = pd.date_range('1/1/1988', periods=365, freq='D')\n",
    "days = np.random.choice(all_days, 500)\n",
    "events = pd.Series(np.random.randn(len(days)), index=days)\n",
    "calplot.calplot(events)\n",
    "events.head()"
   ]
  },
  {
   "cell_type": "code",
   "execution_count": null,
   "metadata": {
    "tags": []
   },
   "outputs": [],
   "source": [
    "datehist = birthdate[\"DATE\"].value_counts()\n",
    "datehist.head()"
   ]
  },
  {
   "cell_type": "code",
   "execution_count": null,
   "metadata": {
    "tags": []
   },
   "outputs": [],
   "source": [
    "# This looks promising.  Let us try making a calendar plot.\n",
    "calplot.calplot(datehist)\n"
   ]
  },
  {
   "cell_type": "code",
   "execution_count": null,
   "metadata": {
    "tags": []
   },
   "outputs": [],
   "source": [
    "plt.bar(datehist)"
   ]
  },
  {
   "cell_type": "code",
   "execution_count": null,
   "metadata": {
    "tags": []
   },
   "outputs": [],
   "source": [
    "plt.bar(range(len(datehist)), datehist)"
   ]
  },
  {
   "cell_type": "code",
   "execution_count": null,
   "metadata": {},
   "outputs": [],
   "source": [
    "#  Aaaargghh.  When I created the histogram, it sorted by value, which is bad.\n",
    "#  Why do we have a bimodal distribution here?"
   ]
  },
  {
   "cell_type": "code",
   "execution_count": null,
   "metadata": {
    "tags": []
   },
   "outputs": [],
   "source": [
    "plt.bar(range(len(datehist)), datehist.sort_index())"
   ]
  },
  {
   "cell_type": "code",
   "execution_count": null,
   "metadata": {
    "tags": []
   },
   "outputs": [],
   "source": [
    "plt.hist(datehist.values, bins=30)"
   ]
  },
  {
   "cell_type": "code",
   "execution_count": null,
   "metadata": {
    "tags": []
   },
   "outputs": [],
   "source": [
    "# Make this wider, more pleasant to look at\n",
    "plt.figure(figsize=(10,4))\n",
    "plt.bar(range(1,len(datehist)+1), datehist.sort_index(), width=1)\n",
    "plt.xlabel (\"Day in 1988\")"
   ]
  },
  {
   "cell_type": "code",
   "execution_count": null,
   "metadata": {},
   "outputs": [],
   "source": [
    "# This is not presentation-ready, but this gives us some pretty good insight into\n",
    "# three drivers of birth timing, weekends, holidays, and a seasonal modulation."
   ]
  },
  {
   "cell_type": "code",
   "execution_count": null,
   "metadata": {
    "tags": []
   },
   "outputs": [],
   "source": [
    "# Let us look back at our data parser, though.  \n",
    "# It's slow, and I don't want to edit it every time\n",
    "# a new column comes to my attention.\n",
    "\n",
    "# SLOW\n",
    "\n",
    "# Loop over the data, get columns 84-87 (month and date of birth)\n",
    "# and put it in a dataframe.\n",
    "p = []\n",
    "q = []\n",
    "for i in n1988.index:\n",
    "    p.append(n1988[0][i][(84-1):(85-1+1)]) # MONTH\n",
    "    q.append(n1988[0][i][(86-1):(87-1+1)]) # DAY\n",
    "birthdate = pd.DataFrame({\"MONTH\": p, \"DAY\":q})"
   ]
  },
  {
   "cell_type": "markdown",
   "metadata": {},
   "source": [
    "Looking at the description...\n",
    "\n",
    "![Data description](FIELDS.jpg \"Exceprt from data description showing Date and month fields\")\n",
    "\n",
    "To get the data into our computing environment, we have three tasks:\n",
    "1. extract columns (with the right field width)\n",
    "2. associate columns with human-readable names \n",
    "3. decode symbols \n",
    "\n",
    "If we can put the layout of the database *into data, instead of code*, we can expand the scope of our investigation by modifying data, *not code*.  This will work well for us."
   ]
  },
  {
   "cell_type": "code",
   "execution_count": null,
   "metadata": {},
   "outputs": [],
   "source": [
    "# let's start with trying to USING DATA TO SPECIFY THE LAYOUT,\n",
    "# (Here, the column positions, widths, and names) \n",
    "# Write a parser that generates a dataframe with column names,\n",
    "# and we can expand to more columns (and decode the symbols) later.\n"
   ]
  },
  {
   "cell_type": "code",
   "execution_count": null,
   "metadata": {},
   "outputs": [],
   "source": []
  },
  {
   "cell_type": "code",
   "execution_count": null,
   "metadata": {
    "tags": []
   },
   "outputs": [],
   "source": [
    "# Let us start with something like these fields (which do not require decoding)\n",
    "# This is a (pure python) list of lists\n",
    "#  [ [startcolumn, stopcolumn, fieldname] ] \n",
    "dict1988 =[\n",
    "    [84, 85, \"MONTHOFBIRTH\"],\n",
    "    [86, 87, \"DAYOFMONTH\"],\n",
    "]\n",
    "# Since this is our data structure for our use, we can use any data type that works;\n",
    "# there is no requirement that we use pandas or numpy here.\n"
   ]
  },
  {
   "cell_type": "markdown",
   "metadata": {
    "jupyter": {
     "outputs_hidden": true
    }
   },
   "source": [
    "# Now, to organize my thoughts, I'm going to write a function prototype with a docstring that tells me what I need and what I promise to deliver."
   ]
  },
  {
   "cell_type": "code",
   "execution_count": null,
   "metadata": {},
   "outputs": [],
   "source": [
    "def parse_natality(natalitydata, datadictionary):\n",
    "    '''Take in pandas dataframe natalitydata and list-of-lists \n",
    "    datadictionary  (for example [[43, 44, \"MATERNALAGE\"]] ) \n",
    "    and return a pandas dataframe (same number of rows) with \n",
    "    labeled columns  '''"
   ]
  },
  {
   "cell_type": "code",
   "execution_count": null,
   "metadata": {},
   "outputs": [],
   "source": [
    "#  Where to start?  For loop over data dictionary first, or for loop over data?\n",
    "#  Hint: which one is more expensive? This is the one we will want to do once.\n",
    "# "
   ]
  },
  {
   "cell_type": "code",
   "execution_count": null,
   "metadata": {
    "tags": []
   },
   "outputs": [],
   "source": [
    "print(type(n1988[0]))\n",
    "n1988[0]"
   ]
  },
  {
   "cell_type": "code",
   "execution_count": null,
   "metadata": {
    "tags": []
   },
   "outputs": [],
   "source": [
    "print(type(n1988[0].loc[42]))\n",
    "n1988[0].loc[42]"
   ]
  },
  {
   "cell_type": "code",
   "execution_count": null,
   "metadata": {
    "tags": []
   },
   "outputs": [],
   "source": [
    "print(type(n1988[0].loc[42][83:84+1]))\n",
    "n1988[0].loc[42][83:84+1]"
   ]
  },
  {
   "cell_type": "code",
   "execution_count": null,
   "metadata": {},
   "outputs": [],
   "source": [
    "# So I can access the cth column and ith row with df[0].loc[i][c]"
   ]
  },
  {
   "cell_type": "code",
   "execution_count": null,
   "metadata": {
    "tags": []
   },
   "outputs": [],
   "source": [
    "# First I'm going to make certain I have the data I think I do\n",
    "def parse_natality(natalitydata, datadictionary):\n",
    "    '''Take in pandas dataframe natalitydata and list-of-lists datadictionary\n",
    "    (for example [[43, 44, \"MATERNALAGE\"]] ) and return a pandas dataframe (same \n",
    "    number of rows) with labeled columns  '''\n",
    "    for index in natalitydata.index:\n",
    "        for start, stop, column_name in datadictionary:\n",
    "            if index < 3:\n",
    "                print(index, start,stop, column_name)"
   ]
  },
  {
   "cell_type": "code",
   "execution_count": null,
   "metadata": {
    "tags": []
   },
   "outputs": [],
   "source": [
    "parse_natality(n1988, dict1988)"
   ]
  },
  {
   "cell_type": "code",
   "execution_count": null,
   "metadata": {
    "tags": []
   },
   "outputs": [],
   "source": [
    "# Above, we had hard-coded lists p and q that took all our intermediate data.  \n",
    "# If we are going to automate column-extraction, we need a more flexible data structure.\n",
    "# Dictionary of lists.\n",
    "# So let's make a dictionary of empty lists first.\n",
    "def parse_natality(natalitydata, datadictionary):\n",
    "    '''Take in pandas dataframe natalitydata and list-of-lists datadictionary\n",
    "    (for example [[43, 44, \"MATERNALAGE\"]] ) and return a pandas dataframe (same \n",
    "    number of rows) with labeled columns  '''\n",
    "    intermediate_data={}\n",
    "    # First, populate intermediate_data with empty lists for each column_name\n",
    "    for start, stop, column_name in datadictionary:\n",
    "        intermediate_data[column_name] = []\n",
    "    # Now loop through the data    \n",
    "    for index in natalitydata.index:\n",
    "        for start, stop, column_name in datadictionary:\n",
    "            if index < 3:\n",
    "                print(index, start,stop, column_name)\n",
    "    return intermediate_data"
   ]
  },
  {
   "cell_type": "code",
   "execution_count": null,
   "metadata": {
    "tags": []
   },
   "outputs": [],
   "source": [
    "parse_natality(n1988, dict1988)"
   ]
  },
  {
   "cell_type": "code",
   "execution_count": null,
   "metadata": {
    "tags": []
   },
   "outputs": [],
   "source": [
    "def parse_natality(natalitydata, datadictionary):\n",
    "    '''Take in pandas dataframe natalitydata and list-of-lists datadictionary\n",
    "    (for example [[43, 44, \"MATERNALAGE\"]] ) and return a pandas dataframe (same \n",
    "    number of rows) with labeled columns  '''\n",
    "    intermediate_data={}\n",
    "    # First, populate intermediate_data with empty lists for each column_name\n",
    "    for start, stop, column_name in datadictionary:\n",
    "        intermediate_data[column_name] = []\n",
    "    for idx in natalitydata.index:\n",
    "        for start, stop, column_name in datadictionary:\n",
    "            if idx < 3:\n",
    "                datafield = natalitydata.loc[idx][0][start:(stop+1)]\n",
    "                print(idx, start,stop, column_name, datafield)\n",
    "    return intermediate_data"
   ]
  },
  {
   "cell_type": "code",
   "execution_count": null,
   "metadata": {
    "tags": []
   },
   "outputs": [],
   "source": [
    "parse_natality(n1988, dict1988)"
   ]
  },
  {
   "cell_type": "code",
   "execution_count": null,
   "metadata": {
    "tags": []
   },
   "outputs": [],
   "source": [
    "# Well, that's not right.  Day of month 80?  Birth order 0?  Off-by-one again\n",
    "def parse_natality(natalitydata, datadictionary):\n",
    "    '''Take in pandas dataframe natalitydata and list-of-lists datadictionary\n",
    "    (for example [[43, 44, \"MATERNALAGE\"]] ) and return a pandas dataframe (same \n",
    "    number of rows) with labeled columns  '''\n",
    "    intermediate_data={}\n",
    "    for start, stop, column_name in datadictionary:\n",
    "        intermediate_data[column_name] = []\n",
    "    for idx in natalitydata.index:\n",
    "        for start, stop, column_name in datadictionary:\n",
    "            if idx < 3:\n",
    "                datafield = natalitydata.loc[idx][0][start-1:(stop-1+1)]\n",
    "                print(idx, start,stop, column_name, datafield)\n",
    "    return intermediate_data"
   ]
  },
  {
   "cell_type": "code",
   "execution_count": null,
   "metadata": {
    "tags": []
   },
   "outputs": [],
   "source": [
    "parse_natality(n1988, dict1988)"
   ]
  },
  {
   "cell_type": "code",
   "execution_count": null,
   "metadata": {
    "tags": []
   },
   "outputs": [],
   "source": [
    "# These values look sane now, so let us put the data in lists.\n",
    "def parse_natality(natalitydata, datadictionary):\n",
    "    '''Take in pandas dataframe natalitydata and list-of-lists datadictionary\n",
    "    (for example [[43, 44, \"MATERNALAGE\"]] ) and return a pandas dataframe (same \n",
    "    number of rows) with labeled columns  '''\n",
    "    intermediate_data={}\n",
    "    for start, stop, column_name in datadictionary:\n",
    "        intermediate_data[column_name] = []\n",
    "    for idx in natalitydata.index:\n",
    "        for start, stop, column_name in datadictionary:\n",
    "            datafield = natalitydata.loc[idx][0][start-1:(stop-1+1)]\n",
    "            intermediate_data[column_name].append(datafield)\n",
    "   #         if idx < 3:\n",
    "   #              print(idx, start,stop, column_name, natalitydata.loc[idx][0][start-1:(stop-1+1)])\n",
    "    return intermediate_data"
   ]
  },
  {
   "cell_type": "code",
   "execution_count": null,
   "metadata": {
    "tags": []
   },
   "outputs": [],
   "source": [
    "parse_natality(n1988, dict1988)"
   ]
  },
  {
   "cell_type": "code",
   "execution_count": null,
   "metadata": {},
   "outputs": [],
   "source": [
    "# Takes a while this time.  And it returns a hash of lists.  I'd prefer pandas data frames..\n",
    "starttime = time.time()\n",
    "parse_natality(n1988, dict1988)\n",
    "stoptime = time.time()\n",
    "print(stoptime-starttime)   # Agh.   12 minutes "
   ]
  },
  {
   "cell_type": "code",
   "execution_count": null,
   "metadata": {
    "tags": []
   },
   "outputs": [],
   "source": []
  },
  {
   "cell_type": "code",
   "execution_count": null,
   "metadata": {},
   "outputs": [],
   "source": [
    "# My code doesn't even give me a dataframe yet and it's taking forever.  \n",
    "# Faster feedback will take me to my goal faster.. so create a dataframe \n",
    "# that only has 1% of the data: \n",
    "n1988sample = n1988[::100]\n",
    "len(n1988sample)"
   ]
  },
  {
   "cell_type": "code",
   "execution_count": null,
   "metadata": {},
   "outputs": [],
   "source": [
    "# transfer data from intermediate_data hash to pandas dataframe at the end\n",
    "def parse_natality(natalitydata, datadictionary):\n",
    "    '''Take in pandas dataframe natalitydata and list-of-lists datadictionary\n",
    "    (for example [[43, 44, \"MATERNALAGE\"]] ) and return a pandas dataframe (same \n",
    "    number of rows) with labeled columns  '''\n",
    "    intermediate_data={}\n",
    "    for start, stop, column_name in datadictionary:\n",
    "        intermediate_data[column_name] = []\n",
    "    for idx in natalitydata.index:\n",
    "        for start, stop, column_name in datadictionary:\n",
    "            intermediate_data[column_name].append(natalitydata.loc[idx][0][start-1:(stop-1+1)])\n",
    "   #         if idx < 3:\n",
    "   #              print(idx, start,stop, column_name, natalitydata.loc[idx][0][start-1:(stop-1+1)])\n",
    "    df = pd.DataFrame()\n",
    "    for start, stop, column_name in datadictionary:\n",
    "        print(column_name)\n",
    "        df[column_name] = pd.Series(intermediate_data[column_name])\n",
    "    return df"
   ]
  },
  {
   "cell_type": "code",
   "execution_count": null,
   "metadata": {},
   "outputs": [],
   "source": [
    "starttime=time.time()\n",
    "df = parse_natality(n1988sample, dict1988)\n",
    "stoptime=time.time()\n",
    "print(stoptime-starttime)"
   ]
  },
  {
   "cell_type": "code",
   "execution_count": null,
   "metadata": {},
   "outputs": [],
   "source": [
    "df"
   ]
  },
  {
   "cell_type": "code",
   "execution_count": null,
   "metadata": {},
   "outputs": [],
   "source": [
    "#  This puts my data in a reasonably good place, but now I worry about efficiency.\n",
    "#  This didn't take long, but it was 1% of the whole dataset.\n",
    "#  I only have to run this when I want to get new columns, but still, I want to \n",
    "#  lower my personal cost of accessing information.\n",
    "\n",
    "# Why am I looping through all 4M records?  Because I am accessing \n",
    "# the columns by .loc[i][colnumber].  Can pandas help me?\n",
    "# https://pandas.pydata.org/pandas-docs/version/1.3/user_guide/text.html \n",
    "\n",
    "# pd.str.get() will extract a single column *as a pandas dataframe*,\n",
    "# so I can get all the rows with a single operation. "
   ]
  },
  {
   "cell_type": "code",
   "execution_count": null,
   "metadata": {},
   "outputs": [],
   "source": [
    "n1988sample[0].str.get(80)"
   ]
  },
  {
   "cell_type": "code",
   "execution_count": null,
   "metadata": {},
   "outputs": [],
   "source": [
    "def parse_natality(natalitydata, datadictionary):\n",
    "    '''Take in pandas dataframe natalitydata and list-of-lists datadictionary\n",
    "    (for example [[43, 44, \"MATERNALAGE\"]] ) and return a pandas dataframe (same \n",
    "    number of rows) with labeled columns  '''\n",
    "    df = pd.DataFrame()\n",
    "    for start, stop, column_name in datadictionary:\n",
    "        df[column_name] = natalitydata[0].str.get(start-1)\n",
    "    return df\n"
   ]
  },
  {
   "cell_type": "code",
   "execution_count": null,
   "metadata": {},
   "outputs": [],
   "source": [
    "starttime=time.time()\n",
    "df = parse_natality(n1988sample, dict1988) \n",
    "stoptime=time.time()\n",
    "print(stoptime-starttime)"
   ]
  },
  {
   "cell_type": "code",
   "execution_count": null,
   "metadata": {},
   "outputs": [],
   "source": [
    "df"
   ]
  },
  {
   "cell_type": "code",
   "execution_count": null,
   "metadata": {},
   "outputs": [],
   "source": [
    "# almost there, but pd.str.get()  only gets one column at a time.\n"
   ]
  },
  {
   "cell_type": "code",
   "execution_count": null,
   "metadata": {},
   "outputs": [],
   "source": [
    "def parse_natality(natalitydata, datadictionary):\n",
    "    '''Take in pandas dataframe natalitydata and list-of-lists datadictionary\n",
    "    (for example [[43, 44, \"MATERNALAGE\"]] ) and return a pandas dataframe (same \n",
    "    number of rows) with labeled columns  '''\n",
    "    df = pd.DataFrame()\n",
    "    for start, stop, column_name in datadictionary:\n",
    "        # Get the first column (start)\n",
    "        df[column_name] = natalitydata[0].str.get(start-1)\n",
    "        # Get the remaining columns\n",
    "        for i in range(1, stop-start + 1):\n",
    "            df[column_name]=  df[column_name].str.cat(natalitydata[0].str.get(start-1+i))\n",
    "    return df"
   ]
  },
  {
   "cell_type": "code",
   "execution_count": null,
   "metadata": {},
   "outputs": [],
   "source": [
    "starttime=time.time()\n",
    "df = parse_natality(n1988sample, dict1988) \n",
    "stoptime=time.time()\n",
    "print(stoptime-starttime)\n",
    "df.head()"
   ]
  },
  {
   "cell_type": "code",
   "execution_count": null,
   "metadata": {},
   "outputs": [],
   "source": [
    "# Looks reasonable.  We can expand to the entire dataset and\n",
    "# make sure it completes in a reaosonable time:\n",
    "starttime=time.time()\n",
    "df = parse_natality(n1988, dict1988) \n",
    "stoptime=time.time()\n",
    "print(stoptime-starttime)\n",
    "df.head()"
   ]
  },
  {
   "cell_type": "code",
   "execution_count": 161,
   "metadata": {
    "tags": []
   },
   "outputs": [
    {
     "data": {
      "text/plain": [
       "pandas.core.series.Series"
      ]
     },
     "execution_count": 161,
     "metadata": {},
     "output_type": "execute_result"
    }
   ],
   "source": [
    "type(df.MONTHOFBIRTH)"
   ]
  },
  {
   "cell_type": "code",
   "execution_count": 162,
   "metadata": {
    "tags": []
   },
   "outputs": [
    {
     "data": {
      "text/plain": [
       "numpy.int64"
      ]
     },
     "execution_count": 162,
     "metadata": {},
     "output_type": "execute_result"
    }
   ],
   "source": [
    "# That doesn't answer my question\n",
    "type(df.MONTHOFBIRTH[0])\n",
    "# One more picky little request.. numeric data types?\n"
   ]
  },
  {
   "cell_type": "code",
   "execution_count": null,
   "metadata": {
    "tags": []
   },
   "outputs": [],
   "source": [
    "def parse_natality(natalitydata, datadictionary):\n",
    "    '''Take in pandas dataframe natalitydata and list-of-lists datadictionary\n",
    "    (for example [[43, 44, \"MATERNALAGE\"]] ) and return a pandas dataframe (same \n",
    "    number of rows) with labeled columns  '''\n",
    "    df = pd.DataFrame()\n",
    "    for start, stop, column_name in datadictionary:\n",
    "        # Get the first column (start)\n",
    "        df[column_name] = natalitydata[0].str.get(start-1)\n",
    "        # Get the remaining columns\n",
    "        for i in range(1, stop-start + 1):\n",
    "            df[column_name]=  df[column_name].str.cat(natalitydata[0].str.get(start-1+i))\n",
    "    return df\n",
    "    for start, stop, column_name in datadictionary:\n",
    "        pd[column_name] = pd.to_numeric(pd[column_name])"
   ]
  },
  {
   "cell_type": "code",
   "execution_count": 163,
   "metadata": {
    "tags": []
   },
   "outputs": [
    {
     "data": {
      "text/html": [
       "<div>\n",
       "<style scoped>\n",
       "    .dataframe tbody tr th:only-of-type {\n",
       "        vertical-align: middle;\n",
       "    }\n",
       "\n",
       "    .dataframe tbody tr th {\n",
       "        vertical-align: top;\n",
       "    }\n",
       "\n",
       "    .dataframe thead th {\n",
       "        text-align: right;\n",
       "    }\n",
       "</style>\n",
       "<table border=\"1\" class=\"dataframe\">\n",
       "  <thead>\n",
       "    <tr style=\"text-align: right;\">\n",
       "      <th></th>\n",
       "      <th>MONTHOFBIRTH</th>\n",
       "      <th>DAYOFMONTH</th>\n",
       "      <th>BIRTHODRDER</th>\n",
       "      <th>MATERNALAGE</th>\n",
       "      <th>STATE</th>\n",
       "      <th>PATERNALAGE</th>\n",
       "      <th>STATEA</th>\n",
       "    </tr>\n",
       "  </thead>\n",
       "  <tbody>\n",
       "    <tr>\n",
       "      <th>0</th>\n",
       "      <td>1</td>\n",
       "      <td>8</td>\n",
       "      <td>2</td>\n",
       "      <td>23</td>\n",
       "      <td>1</td>\n",
       "      <td>22</td>\n",
       "      <td>AL</td>\n",
       "    </tr>\n",
       "    <tr>\n",
       "      <th>1</th>\n",
       "      <td>1</td>\n",
       "      <td>1</td>\n",
       "      <td>1</td>\n",
       "      <td>16</td>\n",
       "      <td>1</td>\n",
       "      <td>99</td>\n",
       "      <td>AL</td>\n",
       "    </tr>\n",
       "    <tr>\n",
       "      <th>2</th>\n",
       "      <td>1</td>\n",
       "      <td>7</td>\n",
       "      <td>3</td>\n",
       "      <td>24</td>\n",
       "      <td>1</td>\n",
       "      <td>26</td>\n",
       "      <td>AL</td>\n",
       "    </tr>\n",
       "    <tr>\n",
       "      <th>3</th>\n",
       "      <td>1</td>\n",
       "      <td>6</td>\n",
       "      <td>1</td>\n",
       "      <td>24</td>\n",
       "      <td>1</td>\n",
       "      <td>99</td>\n",
       "      <td>AL</td>\n",
       "    </tr>\n",
       "    <tr>\n",
       "      <th>4</th>\n",
       "      <td>1</td>\n",
       "      <td>1</td>\n",
       "      <td>4</td>\n",
       "      <td>26</td>\n",
       "      <td>1</td>\n",
       "      <td>99</td>\n",
       "      <td>AL</td>\n",
       "    </tr>\n",
       "  </tbody>\n",
       "</table>\n",
       "</div>"
      ],
      "text/plain": [
       "   MONTHOFBIRTH  DAYOFMONTH  BIRTHODRDER  MATERNALAGE  STATE  PATERNALAGE  \\\n",
       "0             1           8            2           23      1           22   \n",
       "1             1           1            1           16      1           99   \n",
       "2             1           7            3           24      1           26   \n",
       "3             1           6            1           24      1           99   \n",
       "4             1           1            4           26      1           99   \n",
       "\n",
       "  STATEA  \n",
       "0     AL  \n",
       "1     AL  \n",
       "2     AL  \n",
       "3     AL  \n",
       "4     AL  "
      ]
     },
     "execution_count": 163,
     "metadata": {},
     "output_type": "execute_result"
    }
   ],
   "source": [
    "#df = parse_natality(n1988, dict1988) \n",
    "type(df.MONTHOFBIRTH[0])\n",
    "df.head()"
   ]
  },
  {
   "cell_type": "code",
   "execution_count": null,
   "metadata": {
    "tags": []
   },
   "outputs": [],
   "source": [
    "# I am now satisfied that it is working.\n",
    "dict1988 =[\n",
    "    [84, 85, \"MONTHOFBIRTH\"],\n",
    "    [86, 87, \"DAYOFMONTH\"],\n",
    "    [60, 60, \"BIRTHODRDER\"],\n",
    "    [41, 42, \"MATERNALAGE\"],\n",
    "    [28, 29, \"STATE\"], \n",
    "    [69, 70, \"PATERNALAGE\"],\n",
    "]"
   ]
  },
  {
   "cell_type": "code",
   "execution_count": null,
   "metadata": {
    "tags": []
   },
   "outputs": [],
   "source": [
    "starttime=time.time()\n",
    "dfs = parse_natality(n1988.sample(n=1000), dict1988)\n",
    "stoptime=time.time()\n",
    "print(stoptime-starttime)"
   ]
  },
  {
   "cell_type": "code",
   "execution_count": null,
   "metadata": {
    "tags": []
   },
   "outputs": [],
   "source": [
    "dfs"
   ]
  },
  {
   "cell_type": "code",
   "execution_count": null,
   "metadata": {
    "tags": []
   },
   "outputs": [],
   "source": [
    "# After optimizations, this takes 41 seconds\n",
    "starttime=time.time()\n",
    "df = parse_natality(n1988, dict1988)\n",
    "stoptime=time.time()\n",
    "print(stoptime-starttime)"
   ]
  },
  {
   "cell_type": "code",
   "execution_count": null,
   "metadata": {
    "tags": []
   },
   "outputs": [],
   "source": []
  },
  {
   "cell_type": "code",
   "execution_count": null,
   "metadata": {
    "tags": []
   },
   "outputs": [],
   "source": [
    "# Checkpoint:\n",
    "import os.path\n",
    "from os import path\n",
    "if not path.exists(\"births1988subset.csv\"):\n",
    "    print(\"saving births1988subset.csv\", df.shape)\n",
    "    df.to_csv(\"births1988subset.csv\", index=None) "
   ]
  },
  {
   "cell_type": "code",
   "execution_count": 164,
   "metadata": {
    "tags": []
   },
   "outputs": [],
   "source": [
    "df = pd.read_csv(\"births1988subset.csv\")"
   ]
  },
  {
   "cell_type": "code",
   "execution_count": 165,
   "metadata": {
    "tags": []
   },
   "outputs": [],
   "source": [
    "age = df.MATERNALAGE.value_counts()"
   ]
  },
  {
   "cell_type": "code",
   "execution_count": 166,
   "metadata": {
    "tags": []
   },
   "outputs": [
    {
     "data": {
      "text/plain": [
       "MATERNALAGE\n",
       "10        15\n",
       "11        36\n",
       "12       223\n",
       "13      1804\n",
       "14      8511\n",
       "15     25611\n",
       "16     55186\n",
       "17     95932\n",
       "18    133487\n",
       "19    168485\n",
       "20    185349\n",
       "21    199385\n",
       "22    212940\n",
       "23    228896\n",
       "24    241980\n",
       "25    251485\n",
       "26    255604\n",
       "27    256243\n",
       "28    245423\n",
       "29    232004\n",
       "30    212852\n",
       "31    185984\n",
       "32    160421\n",
       "33    134290\n",
       "34    110971\n",
       "35     88625\n",
       "36     68112\n",
       "37     50907\n",
       "38     36545\n",
       "39     25657\n",
       "40     17491\n",
       "41     11305\n",
       "42      5845\n",
       "43      3121\n",
       "44      1639\n",
       "45       772\n",
       "46       390\n",
       "47       137\n",
       "48        88\n",
       "49        42\n",
       "Name: count, dtype: int64"
      ]
     },
     "execution_count": 166,
     "metadata": {},
     "output_type": "execute_result"
    }
   ],
   "source": [
    "df.MATERNALAGE.value_counts().sort_index()"
   ]
  },
  {
   "cell_type": "code",
   "execution_count": 167,
   "metadata": {
    "tags": []
   },
   "outputs": [],
   "source": [
    "age = df.MATERNALAGE.value_counts()"
   ]
  },
  {
   "cell_type": "code",
   "execution_count": 168,
   "metadata": {
    "tags": []
   },
   "outputs": [
    {
     "data": {
      "text/plain": [
       "MATERNALAGE\n",
       "10        15\n",
       "11        36\n",
       "12       223\n",
       "13      1804\n",
       "14      8511\n",
       "15     25611\n",
       "16     55186\n",
       "17     95932\n",
       "18    133487\n",
       "19    168485\n",
       "20    185349\n",
       "21    199385\n",
       "22    212940\n",
       "23    228896\n",
       "24    241980\n",
       "25    251485\n",
       "26    255604\n",
       "27    256243\n",
       "28    245423\n",
       "29    232004\n",
       "30    212852\n",
       "31    185984\n",
       "32    160421\n",
       "33    134290\n",
       "34    110971\n",
       "35     88625\n",
       "36     68112\n",
       "37     50907\n",
       "38     36545\n",
       "39     25657\n",
       "40     17491\n",
       "41     11305\n",
       "42      5845\n",
       "43      3121\n",
       "44      1639\n",
       "45       772\n",
       "46       390\n",
       "47       137\n",
       "48        88\n",
       "49        42\n",
       "Name: count, dtype: int64"
      ]
     },
     "execution_count": 168,
     "metadata": {},
     "output_type": "execute_result"
    }
   ],
   "source": [
    "df.MATERNALAGE.value_counts().sort_index()"
   ]
  },
  {
   "cell_type": "code",
   "execution_count": 169,
   "metadata": {
    "tags": []
   },
   "outputs": [
    {
     "data": {
      "text/plain": [
       "<Axes: >"
      ]
     },
     "execution_count": 169,
     "metadata": {},
     "output_type": "execute_result"
    },
    {
     "data": {
      "image/png": "[encoded data removed]",
      "text/plain": [
       "<Figure size 640x480 with 1 Axes>"
      ]
     },
     "metadata": {},
     "output_type": "display_data"
    }
   ],
   "source": [
    "df.MATERNALAGE.hist()"
   ]
  },
  {
   "cell_type": "code",
   "execution_count": 170,
   "metadata": {
    "tags": []
   },
   "outputs": [
    {
     "data": {
      "text/plain": [
       "<Axes: >"
      ]
     },
     "execution_count": 170,
     "metadata": {},
     "output_type": "execute_result"
    },
    {
     "data": {
      "image/png": "[encoded data removed]",
      "text/plain": [
       "<Figure size 640x480 with 1 Axes>"
      ]
     },
     "metadata": {},
     "output_type": "display_data"
    }
   ],
   "source": [
    "df.MATERNALAGE.hist(bins=20)"
   ]
  },
  {
   "cell_type": "code",
   "execution_count": 173,
   "metadata": {
    "tags": []
   },
   "outputs": [
    {
     "data": {
      "text/plain": [
       "<Axes: >"
      ]
     },
     "execution_count": 173,
     "metadata": {},
     "output_type": "execute_result"
    },
    {
     "data": {
      "image/png": "[encoded data removed]",
      "text/plain": [
       "<Figure size 640x480 with 1 Axes>"
      ]
     },
     "metadata": {},
     "output_type": "display_data"
    }
   ],
   "source": [
    "df.MATERNALAGE.hist(bins=34)"
   ]
  },
  {
   "cell_type": "code",
   "execution_count": 175,
   "metadata": {
    "tags": []
   },
   "outputs": [
    {
     "data": {
      "text/plain": [
       "<Axes: >"
      ]
     },
     "execution_count": 175,
     "metadata": {},
     "output_type": "execute_result"
    },
    {
     "data": {
      "image/png": "[encoded data removed]",
      "text/plain": [
       "<Figure size 640x480 with 1 Axes>"
      ]
     },
     "metadata": {},
     "output_type": "display_data"
    }
   ],
   "source": [
    "df.MATERNALAGE.hist(bins=np.arange(10,  48))"
   ]
  },
  {
   "cell_type": "code",
   "execution_count": null,
   "metadata": {},
   "outputs": [],
   "source": [
    "# AAaaaaaaahhhhhhhhhhh! What happened? "
   ]
  },
  {
   "cell_type": "code",
   "execution_count": 174,
   "metadata": {
    "tags": []
   },
   "outputs": [
    {
     "data": {
      "text/plain": [
       "<BarContainer object of 40 artists>"
      ]
     },
     "execution_count": 174,
     "metadata": {},
     "output_type": "execute_result"
    },
    {
     "data": {
      "image/png": "[encoded data removed]",
      "text/plain": [
       "<Figure size 640x480 with 1 Axes>"
      ]
     },
     "metadata": {},
     "output_type": "display_data"
    }
   ],
   "source": [
    "plt.bar(x=df.MATERNALAGE.value_counts().sort_index().index, \n",
    "        height=df.MATERNALAGE.value_counts().sort_index().values)"
   ]
  },
  {
   "cell_type": "code",
   "execution_count": 176,
   "metadata": {
    "tags": []
   },
   "outputs": [
    {
     "data": {
      "text/plain": [
       "<BarContainer object of 40 artists>"
      ]
     },
     "execution_count": 176,
     "metadata": {},
     "output_type": "execute_result"
    },
    {
     "data": {
      "image/png": "[encoded data removed]",
      "text/plain": [
       "<Figure size 1500x800 with 1 Axes>"
      ]
     },
     "metadata": {},
     "output_type": "display_data"
    }
   ],
   "source": [
    "plt.figure(figsize=(15,8))\n",
    "plt.bar(x=df.MATERNALAGE.value_counts().sort_index().index, \n",
    "        height=df.MATERNALAGE.value_counts().sort_index().values)\n"
   ]
  },
  {
   "cell_type": "code",
   "execution_count": 177,
   "metadata": {
    "tags": []
   },
   "outputs": [
    {
     "data": {
      "text/plain": [
       "<Axes: >"
      ]
     },
     "execution_count": 177,
     "metadata": {},
     "output_type": "execute_result"
    },
    {
     "data": {
      "image/png": "[encoded data removed]",
      "text/plain": [
       "<Figure size 640x480 with 1 Axes>"
      ]
     },
     "metadata": {},
     "output_type": "display_data"
    }
   ],
   "source": [
    "df.PATERNALAGE.hist(bins=np.arange(15,65))"
   ]
  },
  {
   "cell_type": "code",
   "execution_count": 178,
   "metadata": {
    "tags": []
   },
   "outputs": [
    {
     "data": {
      "text/plain": [
       "(array([[3.30000e+02, 1.52000e+02, 1.80000e+01, 4.00000e+00, 1.00000e+00,\n",
       "         0.00000e+00, 0.00000e+00, 0.00000e+00, 0.00000e+00, 1.57300e+03],\n",
       "        [3.00350e+04, 5.94940e+04, 2.66400e+03, 3.02000e+02, 4.90000e+01,\n",
       "         1.20000e+01, 3.00000e+00, 2.00000e+00, 0.00000e+00, 9.26790e+04],\n",
       "        [2.37280e+04, 4.04708e+05, 4.97680e+04, 4.98400e+03, 7.33000e+02,\n",
       "         1.60000e+02, 4.70000e+01, 1.10000e+01, 0.00000e+00, 2.02567e+05],\n",
       "        [1.71000e+03, 5.29612e+05, 2.42126e+05, 2.18470e+04, 2.77900e+03,\n",
       "         5.56000e+02, 1.00000e+02, 1.80000e+01, 3.00000e+00, 1.36550e+05],\n",
       "        [3.33000e+02, 2.35694e+05, 6.07801e+05, 5.78670e+04, 6.03700e+03,\n",
       "         9.74000e+02, 1.55000e+02, 1.90000e+01, 2.00000e+00, 8.03920e+04],\n",
       "        [1.11000e+02, 4.21460e+04, 4.92953e+05, 1.03438e+05, 9.32400e+03,\n",
       "         1.37100e+03, 1.97000e+02, 2.30000e+01, 6.00000e+00, 4.39780e+04],\n",
       "        [4.00000e+01, 1.04440e+04, 1.55220e+05, 1.20602e+05, 1.05510e+04,\n",
       "         1.51600e+03, 2.69000e+02, 3.50000e+01, 4.00000e+00, 1.99340e+04],\n",
       "        [2.80000e+01, 2.19400e+03, 2.00390e+04, 5.26500e+04, 7.85000e+03,\n",
       "         1.13500e+03, 1.82000e+02, 2.00000e+01, 2.00000e+00, 6.89800e+03],\n",
       "        [0.00000e+00, 2.16000e+02, 1.53600e+03, 5.51800e+03, 2.64200e+03,\n",
       "         3.73000e+02, 5.80000e+01, 8.00000e+00, 2.00000e+00, 1.02400e+03],\n",
       "        [0.00000e+00, 1.10000e+01, 5.90000e+01, 1.32000e+02, 3.27000e+02,\n",
       "         5.00000e+01, 1.00000e+01, 2.00000e+00, 0.00000e+00, 6.60000e+01]]),\n",
       " array([10. , 13.9, 17.8, 21.7, 25.6, 29.5, 33.4, 37.3, 41.2, 45.1, 49. ]),\n",
       " array([10. , 18.9, 27.8, 36.7, 45.6, 54.5, 63.4, 72.3, 81.2, 90.1, 99. ]),\n",
       " <matplotlib.collections.QuadMesh at 0x299cf1050>)"
      ]
     },
     "execution_count": 178,
     "metadata": {},
     "output_type": "execute_result"
    },
    {
     "data": {
      "image/png": "[encoded data removed]",
      "text/plain": [
       "<Figure size 640x480 with 1 Axes>"
      ]
     },
     "metadata": {},
     "output_type": "display_data"
    }
   ],
   "source": [
    "plt.hist2d(pd.to_numeric(df[\"MATERNALAGE\"]), pd.to_numeric(df[\"PATERNALAGE\"]))"
   ]
  },
  {
   "cell_type": "code",
   "execution_count": 179,
   "metadata": {
    "tags": []
   },
   "outputs": [
    {
     "data": {
      "text/plain": [
       "(array([[0.00000e+00, 1.00000e+00, 1.00000e+00, 4.00000e+00, 5.00000e+00,\n",
       "         0.00000e+00, 2.00000e+00, 3.00000e+00, 1.00000e+00, 2.00000e+00,\n",
       "         0.00000e+00, 0.00000e+00, 0.00000e+00, 0.00000e+00, 0.00000e+00,\n",
       "         0.00000e+00, 0.00000e+00, 0.00000e+00, 0.00000e+00, 0.00000e+00,\n",
       "         0.00000e+00, 0.00000e+00, 0.00000e+00, 0.00000e+00, 0.00000e+00,\n",
       "         0.00000e+00, 0.00000e+00, 0.00000e+00, 0.00000e+00, 3.20000e+01],\n",
       "        [1.00000e+00, 1.50000e+01, 1.60000e+01, 1.10000e+01, 2.00000e+00,\n",
       "         3.00000e+00, 0.00000e+00, 0.00000e+00, 0.00000e+00, 0.00000e+00,\n",
       "         0.00000e+00, 0.00000e+00, 0.00000e+00, 0.00000e+00, 0.00000e+00,\n",
       "         0.00000e+00, 0.00000e+00, 0.00000e+00, 0.00000e+00, 0.00000e+00,\n",
       "         0.00000e+00, 0.00000e+00, 0.00000e+00, 0.00000e+00, 0.00000e+00,\n",
       "         0.00000e+00, 0.00000e+00, 0.00000e+00, 0.00000e+00, 1.75000e+02],\n",
       "        [0.00000e+00, 6.80000e+01, 2.28000e+02, 8.90000e+01, 3.00000e+01,\n",
       "         8.00000e+00, 6.00000e+00, 3.00000e+00, 3.00000e+00, 1.00000e+00,\n",
       "         1.00000e+00, 0.00000e+00, 0.00000e+00, 1.00000e+00, 0.00000e+00,\n",
       "         0.00000e+00, 0.00000e+00, 0.00000e+00, 0.00000e+00, 0.00000e+00,\n",
       "         0.00000e+00, 0.00000e+00, 0.00000e+00, 0.00000e+00, 0.00000e+00,\n",
       "         0.00000e+00, 0.00000e+00, 0.00000e+00, 0.00000e+00, 1.36600e+03],\n",
       "        [1.00000e+00, 7.05000e+02, 6.12500e+03, 4.21200e+03, 1.34600e+03,\n",
       "         4.43000e+02, 1.42000e+02, 5.30000e+01, 1.80000e+01, 1.90000e+01,\n",
       "         6.00000e+00, 1.00000e+00, 6.00000e+00, 0.00000e+00, 1.00000e+00,\n",
       "         0.00000e+00, 0.00000e+00, 0.00000e+00, 0.00000e+00, 0.00000e+00,\n",
       "         0.00000e+00, 0.00000e+00, 0.00000e+00, 2.00000e+00, 0.00000e+00,\n",
       "         0.00000e+00, 0.00000e+00, 0.00000e+00, 0.00000e+00, 2.10420e+04],\n",
       "        [4.00000e+00, 3.31000e+02, 9.63200e+03, 1.08810e+04, 3.83700e+03,\n",
       "         1.22500e+03, 4.11000e+02, 1.64000e+02, 8.00000e+01, 2.90000e+01,\n",
       "         2.40000e+01, 1.10000e+01, 6.00000e+00, 9.00000e+00, 0.00000e+00,\n",
       "         2.00000e+00, 1.00000e+00, 1.00000e+00, 1.00000e+00, 1.00000e+00,\n",
       "         0.00000e+00, 0.00000e+00, 0.00000e+00, 0.00000e+00, 0.00000e+00,\n",
       "         0.00000e+00, 0.00000e+00, 0.00000e+00, 0.00000e+00, 2.85360e+04],\n",
       "        [4.00000e+00, 2.00000e+02, 1.30330e+04, 2.42590e+04, 9.97600e+03,\n",
       "         3.31500e+03, 1.16200e+03, 4.58000e+02, 1.76000e+02, 1.30000e+02,\n",
       "         5.50000e+01, 2.70000e+01, 1.30000e+01, 8.00000e+00, 6.00000e+00,\n",
       "         2.00000e+00, 4.00000e+00, 2.00000e+00, 1.00000e+00, 0.00000e+00,\n",
       "         0.00000e+00, 0.00000e+00, 0.00000e+00, 0.00000e+00, 0.00000e+00,\n",
       "         0.00000e+00, 0.00000e+00, 0.00000e+00, 0.00000e+00, 4.31010e+04],\n",
       "        [1.00000e+01, 1.60000e+02, 1.89360e+04, 8.27140e+04, 5.71660e+04,\n",
       "         2.18120e+04, 8.31700e+03, 3.27200e+03, 1.46300e+03, 7.05000e+02,\n",
       "         4.26000e+02, 2.11000e+02, 1.05000e+02, 6.70000e+01, 3.90000e+01,\n",
       "         2.20000e+01, 1.30000e+01, 9.00000e+00, 9.00000e+00, 5.00000e+00,\n",
       "         5.00000e+00, 3.00000e+00, 1.00000e+00, 3.00000e+00, 0.00000e+00,\n",
       "         0.00000e+00, 0.00000e+00, 0.00000e+00, 0.00000e+00, 1.06499e+05],\n",
       "        [8.00000e+00, 1.20000e+01, 3.11600e+03, 4.07520e+04, 5.15350e+04,\n",
       "         2.31250e+04, 9.16800e+03, 3.69500e+03, 1.64900e+03, 7.78000e+02,\n",
       "         4.47000e+02, 2.16000e+02, 1.21000e+02, 5.90000e+01, 3.40000e+01,\n",
       "         2.30000e+01, 1.70000e+01, 7.00000e+00, 8.00000e+00, 3.00000e+00,\n",
       "         3.00000e+00, 1.00000e+00, 1.00000e+00, 0.00000e+00, 0.00000e+00,\n",
       "         0.00000e+00, 0.00000e+00, 0.00000e+00, 0.00000e+00, 5.05710e+04],\n",
       "        [1.10000e+01, 1.50000e+01, 1.46000e+03, 2.85920e+04, 6.44120e+04,\n",
       "         3.46000e+04, 1.39940e+04, 5.73700e+03, 2.47300e+03, 1.22100e+03,\n",
       "         6.55000e+02, 3.25000e+02, 1.66000e+02, 9.20000e+01, 5.00000e+01,\n",
       "         3.70000e+01, 2.10000e+01, 1.10000e+01, 5.00000e+00, 8.00000e+00,\n",
       "         1.00000e+00, 1.00000e+00, 0.00000e+00, 1.00000e+00, 0.00000e+00,\n",
       "         0.00000e+00, 0.00000e+00, 0.00000e+00, 0.00000e+00, 4.54970e+04],\n",
       "        [1.10000e+01, 1.00000e+00, 7.59000e+02, 1.57580e+04, 6.86110e+04,\n",
       "         4.98090e+04, 2.09250e+04, 8.66700e+03, 3.77800e+03, 1.88300e+03,\n",
       "         9.97000e+02, 4.60000e+02, 2.26000e+02, 1.10000e+02, 7.60000e+01,\n",
       "         5.20000e+01, 3.60000e+01, 2.00000e+01, 7.00000e+00, 5.00000e+00,\n",
       "         2.00000e+00, 1.00000e+00, 0.00000e+00, 1.00000e+00, 1.00000e+00,\n",
       "         0.00000e+00, 0.00000e+00, 0.00000e+00, 0.00000e+00, 4.07440e+04],\n",
       "        [1.60000e+01, 5.00000e+00, 7.07000e+02, 1.36980e+04, 1.07505e+05,\n",
       "         1.52012e+05, 7.32460e+04, 3.03770e+04, 1.30310e+04, 6.10200e+03,\n",
       "         2.98600e+03, 1.44500e+03, 7.59000e+02, 3.86000e+02, 2.42000e+02,\n",
       "         1.43000e+02, 8.40000e+01, 4.80000e+01, 3.50000e+01, 1.50000e+01,\n",
       "         2.00000e+00, 7.00000e+00, 3.00000e+00, 1.00000e+00, 0.00000e+00,\n",
       "         0.00000e+00, 0.00000e+00, 0.00000e+00, 0.00000e+00, 6.80210e+04],\n",
       "        [1.20000e+01, 2.00000e+00, 1.97000e+02, 3.37800e+03, 2.63850e+04,\n",
       "         9.24560e+04, 5.79280e+04, 2.38410e+04, 1.03330e+04, 4.60100e+03,\n",
       "         2.31800e+03, 1.05500e+03, 5.44000e+02, 2.84000e+02, 1.52000e+02,\n",
       "         9.10000e+01, 5.00000e+01, 3.20000e+01, 2.60000e+01, 4.00000e+00,\n",
       "         4.00000e+00, 3.00000e+00, 1.00000e+00, 1.00000e+00, 1.00000e+00,\n",
       "         0.00000e+00, 1.00000e+00, 0.00000e+00, 0.00000e+00, 2.77850e+04],\n",
       "        [7.00000e+00, 2.00000e+00, 1.06000e+02, 2.30300e+03, 1.54150e+04,\n",
       "         8.13970e+04, 7.52490e+04, 3.17550e+04, 1.34500e+04, 5.99700e+03,\n",
       "         2.93800e+03, 1.24500e+03, 6.70000e+02, 3.38000e+02, 1.88000e+02,\n",
       "         9.10000e+01, 6.80000e+01, 3.10000e+01, 2.10000e+01, 1.10000e+01,\n",
       "         5.00000e+00, 3.00000e+00, 1.00000e+00, 0.00000e+00, 0.00000e+00,\n",
       "         1.00000e+00, 0.00000e+00, 0.00000e+00, 0.00000e+00, 2.43120e+04],\n",
       "        [1.00000e+01, 2.00000e+00, 1.53000e+02, 2.79600e+03, 1.72800e+04,\n",
       "         9.12820e+04, 1.84953e+05, 9.42550e+04, 3.84130e+04, 1.74690e+04,\n",
       "         8.09500e+03, 3.36900e+03, 1.66600e+03, 8.42000e+02, 4.67000e+02,\n",
       "         2.81000e+02, 1.38000e+02, 1.02000e+02, 4.70000e+01, 2.50000e+01,\n",
       "         1.10000e+01, 6.00000e+00, 3.00000e+00, 0.00000e+00, 0.00000e+00,\n",
       "         1.00000e+00, 0.00000e+00, 0.00000e+00, 0.00000e+00, 4.00000e+04],\n",
       "        [7.00000e+00, 2.00000e+00, 4.40000e+01, 8.41000e+02, 4.70200e+03,\n",
       "         1.96780e+04, 8.07970e+04, 6.27820e+04, 2.61470e+04, 1.13460e+04,\n",
       "         5.18800e+03, 2.22000e+03, 1.03600e+03, 5.26000e+02, 3.04000e+02,\n",
       "         1.26000e+02, 9.00000e+01, 4.70000e+01, 1.90000e+01, 1.40000e+01,\n",
       "         2.00000e+00, 3.00000e+00, 2.00000e+00, 1.00000e+00, 0.00000e+00,\n",
       "         0.00000e+00, 0.00000e+00, 0.00000e+00, 0.00000e+00, 1.60800e+04],\n",
       "        [7.00000e+00, 1.00000e+00, 2.90000e+01, 5.97000e+02, 3.37100e+03,\n",
       "         1.28190e+04, 5.46370e+04, 7.13610e+04, 3.14480e+04, 1.34200e+04,\n",
       "         6.03800e+03, 2.57600e+03, 1.16200e+03, 6.13000e+02, 2.99000e+02,\n",
       "         1.72000e+02, 9.40000e+01, 4.80000e+01, 2.70000e+01, 1.60000e+01,\n",
       "         4.00000e+00, 3.00000e+00, 0.00000e+00, 0.00000e+00, 2.00000e+00,\n",
       "         1.00000e+00, 0.00000e+00, 0.00000e+00, 0.00000e+00, 1.41070e+04],\n",
       "        [1.50000e+01, 1.00000e+00, 4.00000e+01, 7.54000e+02, 4.19500e+03,\n",
       "         1.46800e+04, 4.71850e+04, 1.24703e+05, 7.56050e+04, 3.18900e+04,\n",
       "         1.43150e+04, 5.80200e+03, 2.68400e+03, 1.30200e+03, 7.49000e+02,\n",
       "         3.71000e+02, 1.94000e+02, 1.22000e+02, 6.40000e+01, 2.90000e+01,\n",
       "         9.00000e+00, 8.00000e+00, 6.00000e+00, 0.00000e+00, 2.00000e+00,\n",
       "         1.00000e+00, 0.00000e+00, 0.00000e+00, 0.00000e+00, 2.16790e+04],\n",
       "        [1.00000e+00, 1.00000e+00, 1.60000e+01, 2.20000e+02, 1.33000e+03,\n",
       "         4.18000e+03, 1.13760e+04, 3.53530e+04, 4.12850e+04, 1.82540e+04,\n",
       "         7.82800e+03, 3.31500e+03, 1.42900e+03, 7.15000e+02, 3.71000e+02,\n",
       "         1.94000e+02, 1.08000e+02, 6.80000e+01, 3.20000e+01, 1.10000e+01,\n",
       "         5.00000e+00, 4.00000e+00, 1.00000e+00, 1.00000e+00, 0.00000e+00,\n",
       "         0.00000e+00, 0.00000e+00, 0.00000e+00, 0.00000e+00, 8.19200e+03],\n",
       "        [1.00000e+00, 0.00000e+00, 1.20000e+01, 1.77000e+02, 9.19000e+02,\n",
       "         2.96100e+03, 7.89500e+03, 1.93170e+04, 3.87570e+04, 1.95600e+04,\n",
       "         8.31000e+03, 3.44500e+03, 1.50600e+03, 7.37000e+02, 3.65000e+02,\n",
       "         1.63000e+02, 1.05000e+02, 7.00000e+01, 4.50000e+01, 1.20000e+01,\n",
       "         1.40000e+01, 3.00000e+00, 5.00000e+00, 1.00000e+00, 1.00000e+00,\n",
       "         0.00000e+00, 0.00000e+00, 0.00000e+00, 0.00000e+00, 6.59000e+03],\n",
       "        [0.00000e+00, 1.00000e+00, 1.40000e+01, 1.21000e+02, 6.42000e+02,\n",
       "         2.13300e+03, 5.29200e+03, 1.12290e+04, 2.88350e+04, 1.95570e+04,\n",
       "         8.63300e+03, 3.50000e+03, 1.59200e+03, 7.51000e+02, 3.71000e+02,\n",
       "         1.85000e+02, 1.30000e+02, 6.50000e+01, 4.20000e+01, 2.10000e+01,\n",
       "         5.00000e+00, 9.00000e+00, 2.00000e+00, 1.00000e+00, 0.00000e+00,\n",
       "         0.00000e+00, 1.00000e+00, 0.00000e+00, 0.00000e+00, 5.49300e+03],\n",
       "        [1.00000e+00, 1.00000e+00, 1.00000e+01, 1.71000e+02, 7.67000e+02,\n",
       "         2.55300e+03, 5.73500e+03, 1.16310e+04, 2.65290e+04, 3.42980e+04,\n",
       "         1.68250e+04, 6.47400e+03, 3.04500e+03, 1.43000e+03, 7.54000e+02,\n",
       "         4.45000e+02, 2.43000e+02, 1.10000e+02, 8.00000e+01, 3.00000e+01,\n",
       "         2.00000e+01, 7.00000e+00, 4.00000e+00, 3.00000e+00, 1.00000e+00,\n",
       "         1.00000e+00, 0.00000e+00, 0.00000e+00, 0.00000e+00, 7.85100e+03],\n",
       "        [3.00000e+00, 1.00000e+00, 1.20000e+01, 4.90000e+01, 2.28000e+02,\n",
       "         6.84000e+02, 1.60300e+03, 2.68800e+03, 4.99000e+03, 1.04740e+04,\n",
       "         7.40400e+03, 2.97600e+03, 1.36300e+03, 6.37000e+02, 3.43000e+02,\n",
       "         1.76000e+02, 1.01000e+02, 6.50000e+01, 3.20000e+01, 9.00000e+00,\n",
       "         4.00000e+00, 6.00000e+00, 1.00000e+00, 0.00000e+00, 0.00000e+00,\n",
       "         0.00000e+00, 0.00000e+00, 0.00000e+00, 0.00000e+00, 2.69600e+03],\n",
       "        [3.00000e+00, 0.00000e+00, 3.00000e+00, 2.70000e+01, 1.69000e+02,\n",
       "         4.05000e+02, 9.85000e+02, 1.69800e+03, 2.89600e+03, 6.00600e+03,\n",
       "         6.37600e+03, 2.71700e+03, 1.20400e+03, 5.67000e+02, 3.28000e+02,\n",
       "         1.73000e+02, 1.02000e+02, 3.60000e+01, 3.60000e+01, 1.80000e+01,\n",
       "         5.00000e+00, 0.00000e+00, 4.00000e+00, 2.00000e+00, 0.00000e+00,\n",
       "         0.00000e+00, 1.00000e+00, 0.00000e+00, 0.00000e+00, 1.89600e+03],\n",
       "        [1.00000e+00, 0.00000e+00, 5.00000e+00, 4.20000e+01, 1.76000e+02,\n",
       "         4.14000e+02, 9.36000e+02, 1.60000e+03, 2.64300e+03, 4.37700e+03,\n",
       "         7.81300e+03, 4.50700e+03, 1.99200e+03, 9.31000e+02, 4.85000e+02,\n",
       "         2.40000e+02, 1.63000e+02, 7.90000e+01, 5.10000e+01, 2.20000e+01,\n",
       "         5.00000e+00, 1.00000e+00, 2.00000e+00, 4.00000e+00, 1.00000e+00,\n",
       "         0.00000e+00, 0.00000e+00, 0.00000e+00, 0.00000e+00, 2.30600e+03],\n",
       "        [0.00000e+00, 0.00000e+00, 0.00000e+00, 8.00000e+00, 3.20000e+01,\n",
       "         7.50000e+01, 1.62000e+02, 2.61000e+02, 4.34000e+02, 6.04000e+02,\n",
       "         1.23300e+03, 1.27700e+03, 6.23000e+02, 2.74000e+02, 1.74000e+02,\n",
       "         8.30000e+01, 3.90000e+01, 2.80000e+01, 1.20000e+01, 7.00000e+00,\n",
       "         2.00000e+00, 1.00000e+00, 0.00000e+00, 0.00000e+00, 1.00000e+00,\n",
       "         0.00000e+00, 0.00000e+00, 0.00000e+00, 0.00000e+00, 5.15000e+02],\n",
       "        [0.00000e+00, 0.00000e+00, 0.00000e+00, 2.00000e+00, 1.70000e+01,\n",
       "         3.80000e+01, 8.70000e+01, 1.25000e+02, 1.75000e+02, 2.76000e+02,\n",
       "         4.40000e+02, 7.58000e+02, 4.62000e+02, 1.99000e+02, 1.30000e+02,\n",
       "         5.10000e+01, 3.20000e+01, 2.00000e+01, 1.50000e+01, 4.00000e+00,\n",
       "         2.00000e+00, 2.00000e+00, 1.00000e+00, 0.00000e+00, 0.00000e+00,\n",
       "         0.00000e+00, 0.00000e+00, 0.00000e+00, 0.00000e+00, 2.85000e+02],\n",
       "        [0.00000e+00, 0.00000e+00, 0.00000e+00, 5.00000e+00, 9.00000e+00,\n",
       "         3.00000e+01, 5.80000e+01, 8.80000e+01, 1.46000e+02, 1.63000e+02,\n",
       "         2.26000e+02, 5.41000e+02, 4.32000e+02, 2.25000e+02, 1.23000e+02,\n",
       "         5.90000e+01, 3.40000e+01, 2.70000e+01, 1.10000e+01, 4.00000e+00,\n",
       "         1.00000e+00, 3.00000e+00, 1.00000e+00, 0.00000e+00, 1.00000e+00,\n",
       "         0.00000e+00, 0.00000e+00, 0.00000e+00, 0.00000e+00, 2.24000e+02],\n",
       "        [0.00000e+00, 0.00000e+00, 0.00000e+00, 0.00000e+00, 2.00000e+00,\n",
       "         4.00000e+00, 1.00000e+01, 9.00000e+00, 1.90000e+01, 1.80000e+01,\n",
       "         2.90000e+01, 4.00000e+01, 1.02000e+02, 6.20000e+01, 3.10000e+01,\n",
       "         8.00000e+00, 8.00000e+00, 2.00000e+00, 2.00000e+00, 1.00000e+00,\n",
       "         0.00000e+00, 0.00000e+00, 0.00000e+00, 0.00000e+00, 0.00000e+00,\n",
       "         0.00000e+00, 0.00000e+00, 0.00000e+00, 0.00000e+00, 4.30000e+01],\n",
       "        [0.00000e+00, 0.00000e+00, 0.00000e+00, 0.00000e+00, 0.00000e+00,\n",
       "         2.00000e+00, 3.00000e+00, 2.00000e+00, 7.00000e+00, 3.00000e+00,\n",
       "         1.00000e+01, 1.00000e+01, 3.80000e+01, 2.50000e+01, 7.00000e+00,\n",
       "         1.20000e+01, 3.00000e+00, 1.00000e+00, 2.00000e+00, 0.00000e+00,\n",
       "         0.00000e+00, 1.00000e+00, 1.00000e+00, 0.00000e+00, 0.00000e+00,\n",
       "         0.00000e+00, 0.00000e+00, 0.00000e+00, 0.00000e+00, 1.00000e+01],\n",
       "        [0.00000e+00, 0.00000e+00, 0.00000e+00, 1.00000e+00, 1.00000e+00,\n",
       "         1.00000e+00, 2.00000e+00, 3.00000e+00, 4.00000e+00, 5.00000e+00,\n",
       "         6.00000e+00, 1.10000e+01, 1.30000e+01, 3.10000e+01, 1.80000e+01,\n",
       "         8.00000e+00, 4.00000e+00, 4.00000e+00, 0.00000e+00, 4.00000e+00,\n",
       "         1.00000e+00, 0.00000e+00, 0.00000e+00, 0.00000e+00, 0.00000e+00,\n",
       "         0.00000e+00, 0.00000e+00, 0.00000e+00, 0.00000e+00, 1.30000e+01]]),\n",
       " array([10. , 11.3, 12.6, 13.9, 15.2, 16.5, 17.8, 19.1, 20.4, 21.7, 23. ,\n",
       "        24.3, 25.6, 26.9, 28.2, 29.5, 30.8, 32.1, 33.4, 34.7, 36. , 37.3,\n",
       "        38.6, 39.9, 41.2, 42.5, 43.8, 45.1, 46.4, 47.7, 49. ]),\n",
       " array([10.        , 12.96666667, 15.93333333, 18.9       , 21.86666667,\n",
       "        24.83333333, 27.8       , 30.76666667, 33.73333333, 36.7       ,\n",
       "        39.66666667, 42.63333333, 45.6       , 48.56666667, 51.53333333,\n",
       "        54.5       , 57.46666667, 60.43333333, 63.4       , 66.36666667,\n",
       "        69.33333333, 72.3       , 75.26666667, 78.23333333, 81.2       ,\n",
       "        84.16666667, 87.13333333, 90.1       , 93.06666667, 96.03333333,\n",
       "        99.        ]),\n",
       " <matplotlib.collections.QuadMesh at 0x2997c3c90>)"
      ]
     },
     "execution_count": 179,
     "metadata": {},
     "output_type": "execute_result"
    },
    {
     "data": {
      "image/png": "[encoded data removed]",
      "text/plain": [
       "<Figure size 640x480 with 1 Axes>"
      ]
     },
     "metadata": {},
     "output_type": "display_data"
    }
   ],
   "source": [
    "# More bins?\n",
    "plt.hist2d(pd.to_numeric(df[\"MATERNALAGE\"]), pd.to_numeric(df[\"PATERNALAGE\"]), bins=30)"
   ]
  },
  {
   "cell_type": "markdown",
   "metadata": {},
   "source": [
    "And here we have an example of the hisogrammer's migrane.  \n",
    "The field boundaries for both MATERNALAGE and PATERNALAGE\n",
    "sometimes encompass different numbers of data points on the\n",
    "underlying distribution over nonnegative integers.\n",
    "\n",
    "We can always fix this by explicitly defining the bins to \n",
    "always include integer numbers of numbers.  "
   ]
  },
  {
   "cell_type": "code",
   "execution_count": null,
   "metadata": {},
   "outputs": [],
   "source": []
  },
  {
   "cell_type": "code",
   "execution_count": 180,
   "metadata": {
    "tags": []
   },
   "outputs": [],
   "source": [
    "bins1 = np.arange(10,50) +.5\n",
    "bins2 = np.arange(10,100)+.5"
   ]
  },
  {
   "cell_type": "code",
   "execution_count": 181,
   "metadata": {
    "tags": []
   },
   "outputs": [
    {
     "data": {
      "text/plain": [
       "Text(0, 0.5, 'Paternal age')"
      ]
     },
     "execution_count": 181,
     "metadata": {},
     "output_type": "execute_result"
    },
    {
     "data": {
      "image/png": "[encoded data removed]",
      "text/plain": [
       "<Figure size 640x480 with 1 Axes>"
      ]
     },
     "metadata": {},
     "output_type": "display_data"
    }
   ],
   "source": [
    "plt.hist2d(pd.to_numeric(df[\"MATERNALAGE\"]), pd.to_numeric(df[\"PATERNALAGE\"]), bins=(bins1, bins2))\n",
    "plt.xlabel(\"Maternal age\"); plt.ylabel(\"Paternal age\")"
   ]
  },
  {
   "cell_type": "markdown",
   "metadata": {},
   "source": [
    "Now we see something peculiar; the catch-all category \n",
    "PATERNALAGE=99 is a symbol for missing values.  \n",
    "And just glancing at the heatmap shows the marginal\n",
    "distribution of MATERNALAGE given PATERNALAGE=99 is \n",
    "peaked around 18."
   ]
  },
  {
   "cell_type": "code",
   "execution_count": 182,
   "metadata": {
    "tags": []
   },
   "outputs": [
    {
     "data": {
      "image/png": "[encoded data removed]",
      "text/plain": [
       "<Figure size 640x480 with 1 Axes>"
      ]
     },
     "metadata": {},
     "output_type": "display_data"
    }
   ],
   "source": [
    "paternalage = df.PATERNALAGE.value_counts().sort_index()\n",
    "plt.bar(paternalage.index, paternalage.values)\n",
    "maternalage = df.MATERNALAGE.value_counts().sort_index()"
   ]
  },
  {
   "cell_type": "code",
   "execution_count": 183,
   "metadata": {
    "tags": []
   },
   "outputs": [
    {
     "data": {
      "text/plain": [
       "<BarContainer object of 40 artists>"
      ]
     },
     "execution_count": 183,
     "metadata": {},
     "output_type": "execute_result"
    },
    {
     "data": {
      "image/png": "[encoded data removed]",
      "text/plain": [
       "<Figure size 640x480 with 1 Axes>"
      ]
     },
     "metadata": {},
     "output_type": "display_data"
    }
   ],
   "source": [
    "paternalage = df.PATERNALAGE.value_counts().sort_index()[:-1]\n",
    "\n",
    "plt.subplot(211)\n",
    "plt.bar(paternalage.index, paternalage.values, alpha=0.5)\n",
    "plt.subplot(211)\n",
    "plt.bar(maternalage.index, maternalage.values, alpha=0.5)"
   ]
  },
  {
   "cell_type": "code",
   "execution_count": 184,
   "metadata": {
    "tags": []
   },
   "outputs": [
    {
     "data": {
      "text/plain": [
       "<BarContainer object of 40 artists>"
      ]
     },
     "execution_count": 184,
     "metadata": {},
     "output_type": "execute_result"
    },
    {
     "data": {
      "image/png": "[encoded data removed]",
      "text/plain": [
       "<Figure size 640x480 with 2 Axes>"
      ]
     },
     "metadata": {},
     "output_type": "display_data"
    }
   ],
   "source": [
    "plt.subplot(211)\n",
    "plt.bar(pd.to_numeric(paternalage.index), paternalage.values, alpha=0.5)\n",
    "plt.subplot(212)\n",
    "plt.bar(pd.to_numeric(maternalage.index), maternalage.values, alpha=0.5)"
   ]
  },
  {
   "cell_type": "code",
   "execution_count": 185,
   "metadata": {
    "tags": []
   },
   "outputs": [
    {
     "data": {
      "text/plain": [
       "<matplotlib.legend.Legend at 0x29a2cab90>"
      ]
     },
     "execution_count": 185,
     "metadata": {},
     "output_type": "execute_result"
    },
    {
     "data": {
      "image/png": "[encoded data removed]",
      "text/plain": [
       "<Figure size 1000x500 with 1 Axes>"
      ]
     },
     "metadata": {},
     "output_type": "display_data"
    }
   ],
   "source": [
    "# If we want, we can fuss with width=, x=, and alpha= parameters to make a \n",
    "# nicer graph: \n",
    "plt.figure(figsize=(10,5))\n",
    "plt.bar(pd.to_numeric(paternalage.index)+0.4, paternalage.values, width=0.4, alpha=0.5, label=\"paternal age (where stated)\")\n",
    "plt.bar(pd.to_numeric(maternalage.index), maternalage.values, width=0.4, alpha=0.5, label=\"maternal age\")\n",
    "plt.xlim(10,60)\n",
    "plt.legend()"
   ]
  },
  {
   "cell_type": "code",
   "execution_count": 186,
   "metadata": {
    "tags": []
   },
   "outputs": [],
   "source": [
    "df[\"MATERNALAGE\"]=pd.to_numeric(df.MATERNALAGE)"
   ]
  },
  {
   "cell_type": "code",
   "execution_count": 187,
   "metadata": {
    "tags": []
   },
   "outputs": [],
   "source": [
    "# Since I have a list of individual rows.. and I want something like a histogram.. I look\n",
    "# into the pandas doucmentation for methods that aggregate dataframes:\n",
    "# https://pandas.pydata.org/pandas-docs/stable/user_guide/groupby.html\n",
    "#\n",
    "gb = df.groupby([\"MATERNALAGE\", \"STATE\"])"
   ]
  },
  {
   "cell_type": "code",
   "execution_count": 188,
   "metadata": {
    "tags": []
   },
   "outputs": [
    {
     "data": {
      "text/plain": [
       "MATERNALAGE  STATE\n",
       "10           5        10.0\n",
       "             9        10.0\n",
       "             10       10.0\n",
       "             15       10.0\n",
       "             18       10.0\n",
       "                      ... \n",
       "49           24       49.0\n",
       "             33       49.0\n",
       "             39       49.0\n",
       "             44       49.0\n",
       "             50       49.0\n",
       "Name: MATERNALAGE, Length: 1854, dtype: float64"
      ]
     },
     "execution_count": 188,
     "metadata": {},
     "output_type": "execute_result"
    }
   ],
   "source": [
    "gb.MATERNALAGE.median()"
   ]
  },
  {
   "cell_type": "code",
   "execution_count": 189,
   "metadata": {
    "tags": []
   },
   "outputs": [],
   "source": [
    "gb = df.groupby([\"STATE\", \"MATERNALAGE\"])"
   ]
  },
  {
   "cell_type": "code",
   "execution_count": 190,
   "metadata": {
    "tags": []
   },
   "outputs": [
    {
     "data": {
      "text/plain": [
       "STATE  MATERNALAGE\n",
       "1      12                8\n",
       "       13               61\n",
       "       14              221\n",
       "       15              613\n",
       "       16             1319\n",
       "                      ... \n",
       "51     43                4\n",
       "       44                4\n",
       "       45                2\n",
       "       46                2\n",
       "       47                1\n",
       "Name: MATERNALAGE, Length: 1854, dtype: int64"
      ]
     },
     "execution_count": 190,
     "metadata": {},
     "output_type": "execute_result"
    }
   ],
   "source": [
    "gb.MATERNALAGE.count()"
   ]
  },
  {
   "cell_type": "code",
   "execution_count": null,
   "metadata": {
    "tags": []
   },
   "outputs": [],
   "source": [
    "gb.STATE.count()"
   ]
  },
  {
   "cell_type": "code",
   "execution_count": 191,
   "metadata": {
    "tags": []
   },
   "outputs": [
    {
     "data": {
      "text/plain": [
       "STATE\n",
       "1     25.0\n",
       "2     26.0\n",
       "3     26.0\n",
       "4     24.0\n",
       "5     27.0\n",
       "6     27.0\n",
       "7     28.0\n",
       "8     26.0\n",
       "9     28.0\n",
       "10    26.0\n",
       "11    25.0\n",
       "12    27.0\n",
       "13    26.0\n",
       "14    26.0\n",
       "15    25.0\n",
       "16    26.0\n",
       "17    26.0\n",
       "18    25.0\n",
       "19    25.0\n",
       "20    26.0\n",
       "21    26.0\n",
       "22    28.0\n",
       "23    26.0\n",
       "24    27.0\n",
       "25    24.0\n",
       "26    26.0\n",
       "27    26.0\n",
       "28    26.0\n",
       "29    26.0\n",
       "30    27.0\n",
       "31    28.0\n",
       "32    25.0\n",
       "33    27.0\n",
       "34    25.0\n",
       "35    26.0\n",
       "36    26.0\n",
       "37    25.0\n",
       "38    26.0\n",
       "39    27.0\n",
       "40    27.0\n",
       "41    25.0\n",
       "42    26.0\n",
       "43    25.0\n",
       "44    25.0\n",
       "45    26.0\n",
       "46    27.0\n",
       "47    26.0\n",
       "48    26.0\n",
       "49    24.0\n",
       "50    27.0\n",
       "51    26.0\n",
       "Name: MATERNALAGE, dtype: float64"
      ]
     },
     "execution_count": 191,
     "metadata": {},
     "output_type": "execute_result"
    }
   ],
   "source": [
    "df.groupby(\"STATE\")[\"MATERNALAGE\"].median()"
   ]
  },
  {
   "cell_type": "code",
   "execution_count": 192,
   "metadata": {
    "tags": []
   },
   "outputs": [
    {
     "data": {
      "text/plain": [
       "STATE\n",
       "1     25.035715\n",
       "2     26.700855\n",
       "3     25.816571\n",
       "4     24.568353\n",
       "5     26.734259\n",
       "6     26.775627\n",
       "7     27.470406\n",
       "8     26.206497\n",
       "9     27.550279\n",
       "10    25.974735\n",
       "11    25.310784\n",
       "12    26.900546\n",
       "13    26.059821\n",
       "14    26.433457\n",
       "15    25.555411\n",
       "16    26.364016\n",
       "17    26.001783\n",
       "18    25.012187\n",
       "19    25.221079\n",
       "20    26.038196\n",
       "21    26.512037\n",
       "22    27.607194\n",
       "23    26.152437\n",
       "24    27.145806\n",
       "25    24.478180\n",
       "26    25.915768\n",
       "27    26.550777\n",
       "28    26.589467\n",
       "29    25.947413\n",
       "30    26.957955\n",
       "31    27.360161\n",
       "32    25.622012\n",
       "33    27.249488\n",
       "34    25.313432\n",
       "35    26.614282\n",
       "36    25.944082\n",
       "37    25.166828\n",
       "38    26.500327\n",
       "39    26.636322\n",
       "40    26.805296\n",
       "41    25.136955\n",
       "42    26.236115\n",
       "43    25.105536\n",
       "44    25.628031\n",
       "45    26.471840\n",
       "46    26.947402\n",
       "47    26.362484\n",
       "48    26.657054\n",
       "49    24.964651\n",
       "50    26.609306\n",
       "51    25.970745\n",
       "Name: MATERNALAGE, dtype: float64"
      ]
     },
     "execution_count": 192,
     "metadata": {},
     "output_type": "execute_result"
    }
   ],
   "source": [
    "df.groupby(\"STATE\")[\"MATERNALAGE\"].mean()"
   ]
  },
  {
   "cell_type": "code",
   "execution_count": null,
   "metadata": {},
   "outputs": [],
   "source": [
    "#If only we could decode the states, we would see which states have on average older mothers."
   ]
  },
  {
   "cell_type": "markdown",
   "metadata": {},
   "source": [
    "* Fail early and often\n",
    "* Invest in faster feedback\n",
    "** Hack at code with data subset\n",
    "* Specify what you want before you do it\n",
    "* Get it right first, make it fast later\n",
    "* Usually better to use p"
   ]
  },
  {
   "cell_type": "code",
   "execution_count": null,
   "metadata": {},
   "outputs": [],
   "source": [
    "# Cleaning up the numbers which are symbols is a little messier.  It is left as an exercise for the student.\n",
    "\n"
   ]
  },
  {
   "cell_type": "code",
   "execution_count": 193,
   "metadata": {
    "tags": []
   },
   "outputs": [
    {
     "data": {
      "text/plain": [
       "{1: 'AL',\n",
       " 2: 'AK',\n",
       " 3: 'AZ',\n",
       " 4: 'AR',\n",
       " 5: 'CA',\n",
       " 6: 'CO',\n",
       " 7: 'CT',\n",
       " 8: 'DE',\n",
       " 9: 'DC',\n",
       " 10: 'FL',\n",
       " 11: 'GA',\n",
       " 12: 'HI',\n",
       " 13: 'ID',\n",
       " 14: 'IL',\n",
       " 15: 'IN',\n",
       " 16: 'IA',\n",
       " 17: 'KS',\n",
       " 18: 'MD',\n",
       " 19: 'ME',\n",
       " 20: 'LA',\n",
       " 21: 'KY',\n",
       " 22: 'MA',\n",
       " 23: 'MI',\n",
       " 24: 'MN',\n",
       " 25: 'MS',\n",
       " 26: 'MO',\n",
       " 27: 'MT',\n",
       " 28: 'NE',\n",
       " 29: 'NV',\n",
       " 30: 'NH',\n",
       " 31: 'NJ',\n",
       " 32: 'NM',\n",
       " 33: 'NY',\n",
       " 34: 'NC',\n",
       " 35: 'ND',\n",
       " 36: 'OH',\n",
       " 37: 'OK',\n",
       " 38: 'OR',\n",
       " 39: 'PA',\n",
       " 40: 'RI',\n",
       " 41: 'SC',\n",
       " 42: 'SD',\n",
       " 43: 'TN',\n",
       " 44: 'TX',\n",
       " 45: 'UT',\n",
       " 46: 'VT',\n",
       " 47: 'VA',\n",
       " 48: 'WA',\n",
       " 49: 'WV',\n",
       " 50: 'WI',\n",
       " 51: 'WY'}"
      ]
     },
     "execution_count": 193,
     "metadata": {},
     "output_type": "execute_result"
    }
   ],
   "source": [
    "h = {}\n",
    "for line in open(\"../data/STATE2829decoder.csv\"):\n",
    "    fields = line.strip().split()\n",
    "    h[int(fields[0])] = fields[1]\n",
    "h"
   ]
  },
  {
   "cell_type": "code",
   "execution_count": null,
   "metadata": {
    "tags": []
   },
   "outputs": [],
   "source": [
    "h"
   ]
  },
  {
   "cell_type": "code",
   "execution_count": null,
   "metadata": {
    "tags": []
   },
   "outputs": [],
   "source": [
    "df"
   ]
  },
  {
   "cell_type": "code",
   "execution_count": 194,
   "metadata": {
    "tags": []
   },
   "outputs": [
    {
     "data": {
      "text/html": [
       "<div>\n",
       "<style scoped>\n",
       "    .dataframe tbody tr th:only-of-type {\n",
       "        vertical-align: middle;\n",
       "    }\n",
       "\n",
       "    .dataframe tbody tr th {\n",
       "        vertical-align: top;\n",
       "    }\n",
       "\n",
       "    .dataframe thead th {\n",
       "        text-align: right;\n",
       "    }\n",
       "</style>\n",
       "<table border=\"1\" class=\"dataframe\">\n",
       "  <thead>\n",
       "    <tr style=\"text-align: right;\">\n",
       "      <th></th>\n",
       "      <th>MONTHOFBIRTH</th>\n",
       "      <th>DAYOFMONTH</th>\n",
       "      <th>BIRTHODRDER</th>\n",
       "      <th>MATERNALAGE</th>\n",
       "      <th>STATE</th>\n",
       "      <th>PATERNALAGE</th>\n",
       "      <th>STATEA</th>\n",
       "    </tr>\n",
       "  </thead>\n",
       "  <tbody>\n",
       "    <tr>\n",
       "      <th>0</th>\n",
       "      <td>1</td>\n",
       "      <td>8</td>\n",
       "      <td>2</td>\n",
       "      <td>23</td>\n",
       "      <td>1</td>\n",
       "      <td>22</td>\n",
       "      <td>AL</td>\n",
       "    </tr>\n",
       "    <tr>\n",
       "      <th>1</th>\n",
       "      <td>1</td>\n",
       "      <td>1</td>\n",
       "      <td>1</td>\n",
       "      <td>16</td>\n",
       "      <td>1</td>\n",
       "      <td>99</td>\n",
       "      <td>AL</td>\n",
       "    </tr>\n",
       "    <tr>\n",
       "      <th>2</th>\n",
       "      <td>1</td>\n",
       "      <td>7</td>\n",
       "      <td>3</td>\n",
       "      <td>24</td>\n",
       "      <td>1</td>\n",
       "      <td>26</td>\n",
       "      <td>AL</td>\n",
       "    </tr>\n",
       "    <tr>\n",
       "      <th>3</th>\n",
       "      <td>1</td>\n",
       "      <td>6</td>\n",
       "      <td>1</td>\n",
       "      <td>24</td>\n",
       "      <td>1</td>\n",
       "      <td>99</td>\n",
       "      <td>AL</td>\n",
       "    </tr>\n",
       "    <tr>\n",
       "      <th>4</th>\n",
       "      <td>1</td>\n",
       "      <td>1</td>\n",
       "      <td>4</td>\n",
       "      <td>26</td>\n",
       "      <td>1</td>\n",
       "      <td>99</td>\n",
       "      <td>AL</td>\n",
       "    </tr>\n",
       "    <tr>\n",
       "      <th>...</th>\n",
       "      <td>...</td>\n",
       "      <td>...</td>\n",
       "      <td>...</td>\n",
       "      <td>...</td>\n",
       "      <td>...</td>\n",
       "      <td>...</td>\n",
       "      <td>...</td>\n",
       "    </tr>\n",
       "    <tr>\n",
       "      <th>3913788</th>\n",
       "      <td>6</td>\n",
       "      <td>28</td>\n",
       "      <td>2</td>\n",
       "      <td>19</td>\n",
       "      <td>51</td>\n",
       "      <td>20</td>\n",
       "      <td>WY</td>\n",
       "    </tr>\n",
       "    <tr>\n",
       "      <th>3913789</th>\n",
       "      <td>7</td>\n",
       "      <td>11</td>\n",
       "      <td>1</td>\n",
       "      <td>20</td>\n",
       "      <td>51</td>\n",
       "      <td>99</td>\n",
       "      <td>WY</td>\n",
       "    </tr>\n",
       "    <tr>\n",
       "      <th>3913790</th>\n",
       "      <td>12</td>\n",
       "      <td>18</td>\n",
       "      <td>4</td>\n",
       "      <td>24</td>\n",
       "      <td>51</td>\n",
       "      <td>99</td>\n",
       "      <td>WY</td>\n",
       "    </tr>\n",
       "    <tr>\n",
       "      <th>3913791</th>\n",
       "      <td>12</td>\n",
       "      <td>20</td>\n",
       "      <td>6</td>\n",
       "      <td>29</td>\n",
       "      <td>51</td>\n",
       "      <td>30</td>\n",
       "      <td>WY</td>\n",
       "    </tr>\n",
       "    <tr>\n",
       "      <th>3913792</th>\n",
       "      <td>8</td>\n",
       "      <td>23</td>\n",
       "      <td>2</td>\n",
       "      <td>27</td>\n",
       "      <td>51</td>\n",
       "      <td>26</td>\n",
       "      <td>WY</td>\n",
       "    </tr>\n",
       "  </tbody>\n",
       "</table>\n",
       "<p>3913793 rows × 7 columns</p>\n",
       "</div>"
      ],
      "text/plain": [
       "         MONTHOFBIRTH  DAYOFMONTH  BIRTHODRDER  MATERNALAGE  STATE  \\\n",
       "0                   1           8            2           23      1   \n",
       "1                   1           1            1           16      1   \n",
       "2                   1           7            3           24      1   \n",
       "3                   1           6            1           24      1   \n",
       "4                   1           1            4           26      1   \n",
       "...               ...         ...          ...          ...    ...   \n",
       "3913788             6          28            2           19     51   \n",
       "3913789             7          11            1           20     51   \n",
       "3913790            12          18            4           24     51   \n",
       "3913791            12          20            6           29     51   \n",
       "3913792             8          23            2           27     51   \n",
       "\n",
       "         PATERNALAGE STATEA  \n",
       "0                 22     AL  \n",
       "1                 99     AL  \n",
       "2                 26     AL  \n",
       "3                 99     AL  \n",
       "4                 99     AL  \n",
       "...              ...    ...  \n",
       "3913788           20     WY  \n",
       "3913789           99     WY  \n",
       "3913790           99     WY  \n",
       "3913791           30     WY  \n",
       "3913792           26     WY  \n",
       "\n",
       "[3913793 rows x 7 columns]"
      ]
     },
     "execution_count": 194,
     "metadata": {},
     "output_type": "execute_result"
    }
   ],
   "source": [
    "df[\"STATEA\"] = df.STATE.apply(lambda x: h[x])\n",
    "df"
   ]
  },
  {
   "cell_type": "code",
   "execution_count": null,
   "metadata": {
    "tags": []
   },
   "outputs": [],
   "source": [
    "df.groupby(by = [\"STATEA\"]).MATERNALAGE.median()"
   ]
  },
  {
   "cell_type": "code",
   "execution_count": 195,
   "metadata": {
    "tags": []
   },
   "outputs": [
    {
     "data": {
      "text/plain": [
       "STATEA\n",
       "MS    24.0\n",
       "AR    24.0\n",
       "WV    24.0\n",
       "ME    25.0\n",
       "MD    25.0\n",
       "TX    25.0\n",
       "TN    25.0\n",
       "NC    25.0\n",
       "SC    25.0\n",
       "GA    25.0\n",
       "OK    25.0\n",
       "AL    25.0\n",
       "IN    25.0\n",
       "NM    25.0\n",
       "WA    26.0\n",
       "ND    26.0\n",
       "NE    26.0\n",
       "OH    26.0\n",
       "MT    26.0\n",
       "SD    26.0\n",
       "UT    26.0\n",
       "VA    26.0\n",
       "NV    26.0\n",
       "OR    26.0\n",
       "AK    26.0\n",
       "WY    26.0\n",
       "MI    26.0\n",
       "LA    26.0\n",
       "KY    26.0\n",
       "AZ    26.0\n",
       "KS    26.0\n",
       "IL    26.0\n",
       "ID    26.0\n",
       "IA    26.0\n",
       "MO    26.0\n",
       "DE    26.0\n",
       "FL    26.0\n",
       "WI    27.0\n",
       "VT    27.0\n",
       "CA    27.0\n",
       "CO    27.0\n",
       "MN    27.0\n",
       "PA    27.0\n",
       "NY    27.0\n",
       "NH    27.0\n",
       "RI    27.0\n",
       "HI    27.0\n",
       "DC    28.0\n",
       "CT    28.0\n",
       "NJ    28.0\n",
       "MA    28.0\n",
       "Name: MATERNALAGE, dtype: float64"
      ]
     },
     "execution_count": 195,
     "metadata": {},
     "output_type": "execute_result"
    }
   ],
   "source": [
    "df.groupby(by = [\"STATEA\"]).MATERNALAGE.median().sort_values()"
   ]
  },
  {
   "cell_type": "code",
   "execution_count": null,
   "metadata": {
    "tags": []
   },
   "outputs": [],
   "source": [
    "medianages = df.groupby(by = [\"STATEA\"]).MATERNALAGE.median().sort_values()\n",
    "meanages = df.groupby(by = [\"STATEA\"]).MATERNALAGE.mean().sort_values()\n",
    "\n",
    "plt.bar(medianages.index, medianages.values)\n",
    "plt.bar(meanages.index, meanages.values, alpha=0.4)"
   ]
  },
  {
   "cell_type": "code",
   "execution_count": null,
   "metadata": {
    "tags": []
   },
   "outputs": [],
   "source": [
    "df[[\"STATEA\", \"MATERNALAGE\"]].groupby(by = [\"STATEA\"]).boxplot()"
   ]
  },
  {
   "cell_type": "code",
   "execution_count": null,
   "metadata": {
    "tags": []
   },
   "outputs": [],
   "source": [
    "import seaborn as sns"
   ]
  },
  {
   "cell_type": "code",
   "execution_count": 196,
   "metadata": {
    "tags": []
   },
   "outputs": [
    {
     "name": "stderr",
     "output_type": "stream",
     "text": [
      "/Users/wltrimbl/anaconda3/lib/python3.11/site-packages/seaborn/axisgrid.py:118: UserWarning: The figure layout has changed to tight\n",
      "  self._figure.tight_layout(*args, **kwargs)\n"
     ]
    },
    {
     "data": {
      "text/plain": [
       "<seaborn.axisgrid.FacetGrid at 0x29a4592d0>"
      ]
     },
     "execution_count": 196,
     "metadata": {},
     "output_type": "execute_result"
    },
    {
     "data": {
      "image/png": "[encoded data removed]",
      "text/plain": [
       "<Figure size 500x500 with 1 Axes>"
      ]
     },
     "metadata": {},
     "output_type": "display_data"
    }
   ],
   "source": [
    "sns.catplot(data = df, kind=\"box\", y=\"MATERNALAGE\", x=\"STATEA\")"
   ]
  },
  {
   "cell_type": "code",
   "execution_count": 197,
   "metadata": {
    "tags": []
   },
   "outputs": [
    {
     "name": "stderr",
     "output_type": "stream",
     "text": [
      "/Users/wltrimbl/anaconda3/lib/python3.11/site-packages/seaborn/axisgrid.py:118: UserWarning: The figure layout has changed to tight\n",
      "  self._figure.tight_layout(*args, **kwargs)\n"
     ]
    },
    {
     "data": {
      "text/plain": [
       "(array([ 0,  1,  2,  3,  4,  5,  6,  7,  8,  9, 10, 11, 12, 13, 14, 15, 16,\n",
       "        17, 18, 19, 20, 21, 22, 23, 24, 25, 26, 27, 28, 29, 30, 31, 32, 33,\n",
       "        34, 35, 36, 37, 38, 39, 40, 41, 42, 43, 44, 45, 46, 47, 48, 49, 50]),\n",
       " [Text(0, 0, 'MS'),\n",
       "  Text(1, 0, 'AR'),\n",
       "  Text(2, 0, 'WV'),\n",
       "  Text(3, 0, 'ME'),\n",
       "  Text(4, 0, 'MD'),\n",
       "  Text(5, 0, 'TX'),\n",
       "  Text(6, 0, 'TN'),\n",
       "  Text(7, 0, 'NC'),\n",
       "  Text(8, 0, 'SC'),\n",
       "  Text(9, 0, 'GA'),\n",
       "  Text(10, 0, 'OK'),\n",
       "  Text(11, 0, 'AL'),\n",
       "  Text(12, 0, 'IN'),\n",
       "  Text(13, 0, 'NM'),\n",
       "  Text(14, 0, 'WA'),\n",
       "  Text(15, 0, 'ND'),\n",
       "  Text(16, 0, 'NE'),\n",
       "  Text(17, 0, 'OH'),\n",
       "  Text(18, 0, 'MT'),\n",
       "  Text(19, 0, 'SD'),\n",
       "  Text(20, 0, 'UT'),\n",
       "  Text(21, 0, 'VA'),\n",
       "  Text(22, 0, 'NV'),\n",
       "  Text(23, 0, 'OR'),\n",
       "  Text(24, 0, 'AK'),\n",
       "  Text(25, 0, 'WY'),\n",
       "  Text(26, 0, 'MI'),\n",
       "  Text(27, 0, 'LA'),\n",
       "  Text(28, 0, 'KY'),\n",
       "  Text(29, 0, 'AZ'),\n",
       "  Text(30, 0, 'KS'),\n",
       "  Text(31, 0, 'IL'),\n",
       "  Text(32, 0, 'ID'),\n",
       "  Text(33, 0, 'IA'),\n",
       "  Text(34, 0, 'MO'),\n",
       "  Text(35, 0, 'DE'),\n",
       "  Text(36, 0, 'FL'),\n",
       "  Text(37, 0, 'WI'),\n",
       "  Text(38, 0, 'VT'),\n",
       "  Text(39, 0, 'CA'),\n",
       "  Text(40, 0, 'CO'),\n",
       "  Text(41, 0, 'MN'),\n",
       "  Text(42, 0, 'PA'),\n",
       "  Text(43, 0, 'NY'),\n",
       "  Text(44, 0, 'NH'),\n",
       "  Text(45, 0, 'RI'),\n",
       "  Text(46, 0, 'HI'),\n",
       "  Text(47, 0, 'DC'),\n",
       "  Text(48, 0, 'CT'),\n",
       "  Text(49, 0, 'NJ'),\n",
       "  Text(50, 0, 'MA')])"
      ]
     },
     "execution_count": 197,
     "metadata": {},
     "output_type": "execute_result"
    },
    {
     "data": {
      "text/plain": [
       "<Figure size 800x400 with 0 Axes>"
      ]
     },
     "metadata": {},
     "output_type": "display_data"
    },
    {
     "data": {
      "image/png": "[encoded data removed]",
      "text/plain": [
       "<Figure size 500x500 with 1 Axes>"
      ]
     },
     "metadata": {},
     "output_type": "display_data"
    }
   ],
   "source": [
    "plt.figure(figsize=(8,4))\n",
    "sns.catplot(data = df, kind=\"box\", y=\"MATERNALAGE\", x=\"STATEA\", \n",
    "            order = df.groupby(by = [\"STATEA\"]).MATERNALAGE.median().sort_values().index)\n",
    "plt.xticks(rotation=90, fontsize=8)"
   ]
  },
  {
   "cell_type": "code",
   "execution_count": 199,
   "metadata": {
    "tags": []
   },
   "outputs": [
    {
     "data": {
      "text/plain": [
       "(10.0, 50.0)"
      ]
     },
     "execution_count": 199,
     "metadata": {},
     "output_type": "execute_result"
    },
    {
     "data": {
      "image/png": "[encoded data removed]",
      "text/plain": [
       "<Figure size 640x480 with 1 Axes>"
      ]
     },
     "metadata": {},
     "output_type": "display_data"
    }
   ],
   "source": [
    "plt.hist2d(pd.to_numeric(df[\"MATERNALAGE\"]), pd.to_numeric(df[\"PATERNALAGE\"]), bins=(bins1, bins2))\n",
    "plt.xlabel(\"Maternal age\"); plt.ylabel(\"Paternal age\")\n",
    "plt.ylim(10,50)\n",
    "plt.xlim(10,50)"
   ]
  },
  {
   "cell_type": "code",
   "execution_count": null,
   "metadata": {},
   "outputs": [],
   "source": []
  }
 ],
 "metadata": {
  "kernelspec": {
   "display_name": "Python 3 (ipykernel)",
   "language": "python",
   "name": "python3"
  },
  "language_info": {
   "codemirror_mode": {
    "name": "ipython",
    "version": 3
   },
   "file_extension": ".py",
   "mimetype": "text/x-python",
   "name": "python",
   "nbconvert_exporter": "python",
   "pygments_lexer": "ipython3",
   "version": "3.11.5"
  }
 },
 "nbformat": 4,
 "nbformat_minor": 4
}
