{
 "cells": [
  {
   "cell_type": "code",
   "execution_count": null,
   "metadata": {},
   "outputs": [],
   "source": [
    "import numpy as np\n",
    "import pandas as pd\n",
    "import matplotlib.pyplot as plt"
   ]
  },
  {
   "cell_type": "code",
   "execution_count": null,
   "metadata": {},
   "outputs": [],
   "source": [
    "# This notebook plays with colormaps and a 30-cm-resolution \n",
    "# LIDAR scan of 57th street to 60th street, Cottage grove to \n",
    "# University, commissioned by Cook County in 2017.\n",
    "# https://www.arcgis.com/apps/webappviewer/index.html\n",
    "# This tile has already been rasterized and rendered as png."
   ]
  },
  {
   "cell_type": "code",
   "execution_count": null,
   "metadata": {},
   "outputs": [],
   "source": [
    "import imageio\n",
    "im = imageio.imread('../data/LAS_18258650.las.png')"
   ]
  },
  {
   "cell_type": "code",
   "execution_count": null,
   "metadata": {},
   "outputs": [],
   "source": [
    "plt.figure(figsize=(9,9))\n",
    "plt.imshow(im)"
   ]
  },
  {
   "cell_type": "code",
   "execution_count": null,
   "metadata": {},
   "outputs": [],
   "source": [
    "# https://matplotlib.org/stable/tutorials/colors/colormaps.html"
   ]
  },
  {
   "cell_type": "code",
   "execution_count": null,
   "metadata": {},
   "outputs": [],
   "source": [
    "plt.plot(im);"
   ]
  },
  {
   "cell_type": "code",
   "execution_count": null,
   "metadata": {},
   "outputs": [],
   "source": [
    "plt.plot(im[::50,:]);"
   ]
  },
  {
   "cell_type": "code",
   "execution_count": null,
   "metadata": {},
   "outputs": [],
   "source": [
    "plt.plot(im[::200,:])"
   ]
  },
  {
   "cell_type": "code",
   "execution_count": null,
   "metadata": {},
   "outputs": [],
   "source": [
    "plt.plot(im[:,::50])"
   ]
  },
  {
   "cell_type": "code",
   "execution_count": null,
   "metadata": {},
   "outputs": [],
   "source": [
    "# To get a histogram of all the pixel values I need to flatten \n",
    "# the image\n",
    "im.shape\n",
    "plt.hist(im.reshape((2501*2501,)), bins=100)"
   ]
  },
  {
   "cell_type": "code",
   "execution_count": null,
   "metadata": {},
   "outputs": [],
   "source": [
    "plt.figure(figsize=(12,12))\n",
    "plt.subplot(131)\n",
    "plt.imshow(im + 128 - 15 , cmap=\"coolwarm\")\n",
    "\n",
    "plt.subplot(132)\n",
    "plt.imshow(im , cmap=\"coolwarm\")\n",
    "\n",
    "plt.subplot(133)\n",
    "plt.imshow(im+20 , cmap=\"coolwarm\")\n"
   ]
  },
  {
   "cell_type": "code",
   "execution_count": null,
   "metadata": {},
   "outputs": [],
   "source": [
    "im.dtype"
   ]
  },
  {
   "cell_type": "code",
   "execution_count": null,
   "metadata": {},
   "outputs": [],
   "source": [
    "plt.imshow(im , cmap=\"coolwarm\")"
   ]
  },
  {
   "cell_type": "code",
   "execution_count": null,
   "metadata": {},
   "outputs": [],
   "source": [
    "plt.imshow(np.minimum(im,128)+128-15 , cmap=\"coolwarm\")\n",
    "plt.colorbar()"
   ]
  },
  {
   "cell_type": "code",
   "execution_count": null,
   "metadata": {},
   "outputs": [],
   "source": [
    "plt.imshow(np.minimum(im,128) , cmap=\"coolwarm\")"
   ]
  },
  {
   "cell_type": "code",
   "execution_count": null,
   "metadata": {},
   "outputs": [],
   "source": [
    "plt.imshow(np.minimum(im,128) , vmin=0, vmax= 50, cmap=\"coolwarm\")\n",
    "plt.colorbar()"
   ]
  },
  {
   "cell_type": "code",
   "execution_count": null,
   "metadata": {},
   "outputs": [],
   "source": [
    "plt.imshow(np.minimum(im,128) , vmin=10, vmax= 100, cmap=\"coolwarm\")\n",
    "plt.colorbar()"
   ]
  },
  {
   "cell_type": "code",
   "execution_count": null,
   "metadata": {},
   "outputs": [],
   "source": [
    "plt.imshow(np.log(np.minimum(im,128)) , \n",
    "           vmin=10, vmax= 100, cmap=\"coolwarm\")\n",
    "plt.colorbar()"
   ]
  },
  {
   "cell_type": "code",
   "execution_count": null,
   "metadata": {},
   "outputs": [],
   "source": [
    "plt.imshow(np.log((np.minimum(im,128)).astype(\"float\")) , cmap=\"coolwarm\")\n",
    "plt.colorbar()"
   ]
  },
  {
   "cell_type": "code",
   "execution_count": null,
   "metadata": {},
   "outputs": [],
   "source": [
    "plt.imshow(np.log((np.minimum(im,128)).astype(\"float\")) , vmin=2.5, vmax=4.5, cmap=\"coolwarm\")\n",
    "plt.colorbar()"
   ]
  },
  {
   "cell_type": "code",
   "execution_count": null,
   "metadata": {},
   "outputs": [],
   "source": [
    "plt.imshow(np.log((np.minimum(im,128)).astype(\"float\")) , vmin=2, vmax=4.5, cmap=\"coolwarm\")\n",
    "plt.colorbar()"
   ]
  },
  {
   "cell_type": "code",
   "execution_count": null,
   "metadata": {},
   "outputs": [],
   "source": [
    "im2 = (im > 20)* im  + (im <=20) * (im-20)*4 + 20 "
   ]
  },
  {
   "cell_type": "code",
   "execution_count": null,
   "metadata": {},
   "outputs": [],
   "source": [
    "plt.figure(figsize=(10,10))\n",
    "plt.imshow(np.minimum(im2,128) , vmin=0, vmax= 100, cmap=\"coolwarm\")\n",
    "plt.colorbar()"
   ]
  },
  {
   "cell_type": "code",
   "execution_count": null,
   "metadata": {},
   "outputs": [],
   "source": [
    "plt.imshow(im.astype(\"float\") + 128 , cmap=\"jet\")\n",
    "plt.colorbar()"
   ]
  },
  {
   "cell_type": "code",
   "execution_count": null,
   "metadata": {},
   "outputs": [],
   "source": [
    "plt.imshow(im.astype(\"float\") + 128 , cmap=\"turbo\")\n",
    "plt.colorbar()"
   ]
  },
  {
   "cell_type": "code",
   "execution_count": null,
   "metadata": {},
   "outputs": [],
   "source": []
  },
  {
   "cell_type": "code",
   "execution_count": null,
   "metadata": {},
   "outputs": [],
   "source": [
    "plt.imshow((im.astype(\"float\") + 128) , cmap=\"turbo\")"
   ]
  },
  {
   "cell_type": "code",
   "execution_count": null,
   "metadata": {},
   "outputs": [],
   "source": [
    "type(im[0][0])"
   ]
  },
  {
   "cell_type": "code",
   "execution_count": null,
   "metadata": {},
   "outputs": [],
   "source": [
    "plt.imshow(np.log((np.minimum(im,128)).astype(\"float\")) , vmin=1.5, vmax=4.5, cmap=\"coolwarm\")\n"
   ]
  },
  {
   "cell_type": "code",
   "execution_count": null,
   "metadata": {},
   "outputs": [],
   "source": [
    "cmaplist =  [ 'viridis', 'plasma', 'inferno', 'magma', 'cividis']"
   ]
  },
  {
   "cell_type": "code",
   "execution_count": null,
   "metadata": {},
   "outputs": [],
   "source": [
    "for i,cmap  in enumerate(cmaplist):\n",
    "    plt.subplot(len(cmaplist), 1, i+1)\n",
    "    plt.imshow(im, cmap=cmap)\n",
    "    plt.title(cmap)"
   ]
  },
  {
   "cell_type": "code",
   "execution_count": null,
   "metadata": {},
   "outputs": [],
   "source": [
    "for i,cmap  in enumerate(cmaplist):\n",
    "    plt.subplot(len(cmaplist), 1, i+1)\n",
    "    plt.imshow(im, cmap=cmap)\n",
    "    plt.title(cmap)"
   ]
  },
  {
   "cell_type": "code",
   "execution_count": null,
   "metadata": {},
   "outputs": [],
   "source": [
    "plt.figure(figsize=(15,6))\n",
    "for i,cmap  in enumerate(cmaplist):\n",
    "    plt.subplot(len(cmaplist), 1, i+1)\n",
    "    plt.imshow(im, cmap=cmap)\n",
    "    plt.title(cmap)"
   ]
  },
  {
   "cell_type": "code",
   "execution_count": null,
   "metadata": {},
   "outputs": [],
   "source": [
    "plt.figure(figsize=(15,6))\n",
    "for i,cmap  in enumerate(cmaplist):\n",
    "    plt.subplot(1,len(cmaplist),i+1)\n",
    "    plt.imshow(im, cmap=cmap)\n",
    "    plt.title(cmap)"
   ]
  },
  {
   "cell_type": "code",
   "execution_count": null,
   "metadata": {},
   "outputs": [],
   "source": [
    "#plt.figure(figsize=(15,6))\n",
    "for i,cmap  in enumerate(cmaplist):\n",
    "#    plt.subplot(1,len(cmaplist),i+1)\n",
    "    plt.imshow(im, cmap=cmap)\n",
    "    plt.title(cmap)\n",
    "    plt.savefig(\"LAS_18258650-{}.png\".format(cmap))"
   ]
  },
  {
   "cell_type": "code",
   "execution_count": null,
   "metadata": {},
   "outputs": [],
   "source": [
    "#plt.figure(figsize=(15,6))\n",
    "for i,cmap  in enumerate(cmaplist):\n",
    "#    plt.subplot(1,len(cmaplist),i+1)\n",
    "    plt.imshow(im, cmap=cmap)\n",
    "    plt.title(cmap)\n",
    "    plt.savefig(\"LAS_18258650-{}.png\".format(cmap), dpi=300)"
   ]
  },
  {
   "cell_type": "code",
   "execution_count": null,
   "metadata": {},
   "outputs": [],
   "source": [
    "#plt.figure(figsize=(15,6))\n",
    "for i,cmap  in enumerate(cmaplist):\n",
    "#    plt.subplot(1,len(cmaplist),i+1)\n",
    "    plt.imshow(im, cmap=cmap)\n",
    "    print(cmap)\n",
    "    plt.title(cmap)\n",
    "    plt.savefig(\"LAS_18258650-{}.png\".format(cmap), dpi=600)"
   ]
  },
  {
   "cell_type": "code",
   "execution_count": null,
   "metadata": {},
   "outputs": [],
   "source": []
  },
  {
   "cell_type": "code",
   "execution_count": null,
   "metadata": {},
   "outputs": [],
   "source": [
    "help(plt.imshow)"
   ]
  },
  {
   "cell_type": "code",
   "execution_count": null,
   "metadata": {},
   "outputs": [],
   "source": [
    "#plt.figure(figsize=(15,6))\n",
    "for i,cmap  in enumerate(cmaplist):\n",
    "#    plt.subplot(1,len(cmaplist),i+1)\n",
    "    plt.imshow(im, cmap=cmap, origin=\"lower\")\n",
    "    plt.title(cmap)\n",
    "    plt.savefig(\"LAS_18258650-{}.png\".format(cmap), dpi=600)"
   ]
  },
  {
   "cell_type": "code",
   "execution_count": null,
   "metadata": {},
   "outputs": [],
   "source": [
    "# stare at it for a minute, is it actually flipped?\n",
    "plt.figure(figsize=(15,6))\n",
    "for i,cmap  in enumerate(cmaplist):\n",
    "    plt.subplot(1,len(cmaplist),i+1)\n",
    "    plt.imshow(im.T, cmap=cmap, origin=\"lower\")\n",
    "    plt.title(cmap)\n",
    "#    plt.savefig(\"LAS_18258650-{}.png\".format(cmap), dpi=600)"
   ]
  },
  {
   "cell_type": "code",
   "execution_count": null,
   "metadata": {},
   "outputs": [],
   "source": [
    "cmaps2 = [ 'binary', 'gist_yarg', 'gist_gray', 'gray', 'bone', 'pink',   # Sequential but permitting luminance nonmonotonicity\n",
    "            'spring', 'summer', 'autumn', 'winter', 'cool', 'Wistia',\n",
    "            'hot', 'afmhot', 'gist_heat', 'copper', \n",
    "         'PiYG', 'PRGn', 'BrBG', 'PuOr', 'RdGy', 'RdBu',  # Diverging\n",
    "            'RdYlBu', 'RdYlGn', 'Spectral', 'coolwarm', 'bwr', 'seismic',\n",
    "         'Pastel1', 'Pastel2', 'Paired', 'Accent'  # Categorical\n",
    "         ]\n",
    "#plt.figure(figsize=(15,6))\n",
    "for i,cmap  in enumerate(cmaps2):\n",
    "#    plt.subplot(1,len(cmaplist),i+1)\n",
    "    plt.imshow(im.T, cmap=cmap, origin=\"lower\")\n",
    "    plt.title(cmap)\n",
    "    print(cmap)\n",
    "    plt.savefig(\"LAS_18258650-{}.png\".format(cmap), dpi=600)"
   ]
  },
  {
   "cell_type": "code",
   "execution_count": null,
   "metadata": {},
   "outputs": [],
   "source": [
    "fig, ax = plt.subplots()\n",
    "plt.imshow(im.T, cmap=\"turbo\", origin=\"lower\")"
   ]
  },
  {
   "cell_type": "code",
   "execution_count": null,
   "metadata": {},
   "outputs": [],
   "source": [
    "fig, ax = plt.subplots()\n",
    "from matplotlib import ticker\n",
    "plt.imshow(im.T, cmap=\"turbo\", origin=\"lower\")\n",
    "from matplotlib import ticker; ax.yaxis.set_major_formatter(ticker.StrMethodFormatter(\"{x:,.0f}\"))"
   ]
  },
  {
   "cell_type": "code",
   "execution_count": null,
   "metadata": {},
   "outputs": [],
   "source": []
  },
  {
   "cell_type": "code",
   "execution_count": null,
   "metadata": {},
   "outputs": [],
   "source": []
  }
 ],
 "metadata": {
  "kernelspec": {
   "display_name": "Python 3 (ipykernel)",
   "language": "python",
   "name": "python3"
  },
  "language_info": {
   "codemirror_mode": {
    "name": "ipython",
    "version": 3
   },
   "file_extension": ".py",
   "mimetype": "text/x-python",
   "name": "python",
   "nbconvert_exporter": "python",
   "pygments_lexer": "ipython3",
   "version": "3.11.5"
  }
 },
 "nbformat": 4,
 "nbformat_minor": 4
}
