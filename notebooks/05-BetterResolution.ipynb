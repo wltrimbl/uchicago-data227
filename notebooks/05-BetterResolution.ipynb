{
 "cells": [
  {
   "cell_type": "markdown",
   "metadata": {},
   "source": [
    "Warning: sometimes our graphs look bad because the resolution of the \n",
    "graph is poor.  This has a technical fix.  \n",
    "Here are some pointers to getting graphics out of MATPLOTLIB that look good when imported into other programs."
   ]
  },
  {
   "cell_type": "code",
   "execution_count": 7,
   "metadata": {},
   "outputs": [],
   "source": [
    "import pandas as pd\n",
    "import matplotlib.pyplot as plt\n",
    "import numpy as np\n",
    "# imports data from Nat1988.txt which is about 810 Mb\n",
    "# and KEY1988.txt which is an ad-hoc table of columns and labels\n",
    "# https://ftp.cdc.gov/pub/Health_Statistics/NCHS/Datasets/DVS/natality/Nat1988.zip \n"
   ]
  },
  {
   "cell_type": "code",
   "execution_count": 8,
   "metadata": {},
   "outputs": [],
   "source": [
    "def parse_natality(natalitydata, datadictionary):\n",
    "    '''Take in pandas dataframe natalitydata and list-of-lists datadictionary\n",
    "    (for example [[43, 44, \"MATERNALAGE\"]] ) and return a pandas dataframe (same \n",
    "    number of rows) with labeled columns  '''\n",
    "    df = pd.DataFrame()\n",
    "    for start, stop, column_name in datadictionary:\n",
    "        # Get the first column (start)\n",
    "        df[column_name] = natalitydata[0].str.get(start-1)\n",
    "        # Get the remaining columns\n",
    "        for i in range(1, stop-start + 1):\n",
    "            df[column_name]=  df[column_name].str.cat(natalitydata[0].str.get(start-1+i))\n",
    "    return df\n",
    "    for start, stop, column_name in datadictionary:\n",
    "        pd[column_name] = pd.to_numeric(pd[column_name])"
   ]
  },
  {
   "cell_type": "code",
   "execution_count": 9,
   "metadata": {},
   "outputs": [
    {
     "data": {
      "text/plain": [
       "[[12, 12, 'RESIDENTSTATUS'],\n",
       " [13, 14, 'STATEOFRESIDENCE'],\n",
       " [21, 21, 'POPULATIONSIZECITY'],\n",
       " [35, 35, 'SEX'],\n",
       " [36, 36, 'ATTENDANTTYPE'],\n",
       " [37, 37, 'RACEOFFATHER'],\n",
       " [38, 38, 'RACEOFMOTHER'],\n",
       " [39, 39, 'RACEOFCHILD'],\n",
       " [40, 40, 'RACEOFCHILDRECODE3'],\n",
       " [41, 42, 'AGEOFMOTHER'],\n",
       " [60, 60, 'BIRTHORDERRECODE9'],\n",
       " [69, 70, 'AGEOFFATHER'],\n",
       " [77, 78, 'BIRTHWEIGHTRECODE12'],\n",
       " [80, 80, 'PLACEOFDELIVERY'],\n",
       " [81, 81, 'PLURALITY'],\n",
       " [84, 85, 'MONTH'],\n",
       " [86, 87, 'DAY'],\n",
       " [93, 94, 'DETAILGESTATIONAGE'],\n",
       " [98, 99, 'MOTHERSEDUCATION'],\n",
       " [103, 104, 'FATHERSEDUCATION'],\n",
       " [107, 107, 'DETAILMARITALSTATUS'],\n",
       " [181, 182, 'ONEMINUTEAPGAR'],\n",
       " [184, 185, 'FIVEMINUTEAPGAR'],\n",
       " [187, 188, 'HISPANICMOTHER'],\n",
       " [189, 190, 'HISPANICFATHER']]"
      ]
     },
     "execution_count": 9,
     "metadata": {},
     "output_type": "execute_result"
    }
   ],
   "source": [
    "# Load in a file of three columns into a list of lists, the first two elements of which are integers.\n",
    "# This is our table of column positions and column names\n",
    "key1988 = []\n",
    "for line in open(\"~/visualization-curriculum/KEY1988.txt\"):\n",
    "    fields = line.strip().split()\n",
    "    key1988.append([int(fields[0]), int(fields[1]), fields[2]])\n",
    "key1988\n"
   ]
  },
  {
   "cell_type": "code",
   "execution_count": 10,
   "metadata": {},
   "outputs": [],
   "source": [
    "# Read the large (215 x 3.9million cells) data file into a pandas frame \n",
    "n1988 = pd.read_csv(\"~/Downloads/birth/NATL1988.txt\", header=None)"
   ]
  },
  {
   "cell_type": "code",
   "execution_count": 11,
   "metadata": {},
   "outputs": [
    {
     "data": {
      "text/html": [
       "<div>\n",
       "<style scoped>\n",
       "    .dataframe tbody tr th:only-of-type {\n",
       "        vertical-align: middle;\n",
       "    }\n",
       "\n",
       "    .dataframe tbody tr th {\n",
       "        vertical-align: top;\n",
       "    }\n",
       "\n",
       "    .dataframe thead th {\n",
       "        text-align: right;\n",
       "    }\n",
       "</style>\n",
       "<table border=\"1\" class=\"dataframe\">\n",
       "  <thead>\n",
       "    <tr style=\"text-align: right;\">\n",
       "      <th></th>\n",
       "      <th>RESIDENTSTATUS</th>\n",
       "      <th>STATEOFRESIDENCE</th>\n",
       "      <th>POPULATIONSIZECITY</th>\n",
       "      <th>SEX</th>\n",
       "      <th>ATTENDANTTYPE</th>\n",
       "      <th>RACEOFFATHER</th>\n",
       "      <th>RACEOFMOTHER</th>\n",
       "      <th>RACEOFCHILD</th>\n",
       "      <th>RACEOFCHILDRECODE3</th>\n",
       "      <th>AGEOFMOTHER</th>\n",
       "      <th>...</th>\n",
       "      <th>MONTH</th>\n",
       "      <th>DAY</th>\n",
       "      <th>DETAILGESTATIONAGE</th>\n",
       "      <th>MOTHERSEDUCATION</th>\n",
       "      <th>FATHERSEDUCATION</th>\n",
       "      <th>DETAILMARITALSTATUS</th>\n",
       "      <th>ONEMINUTEAPGAR</th>\n",
       "      <th>FIVEMINUTEAPGAR</th>\n",
       "      <th>HISPANICMOTHER</th>\n",
       "      <th>HISPANICFATHER</th>\n",
       "    </tr>\n",
       "  </thead>\n",
       "  <tbody>\n",
       "    <tr>\n",
       "      <th>0</th>\n",
       "      <td>1</td>\n",
       "      <td>01</td>\n",
       "      <td>9</td>\n",
       "      <td>2</td>\n",
       "      <td>1</td>\n",
       "      <td>1</td>\n",
       "      <td>1</td>\n",
       "      <td>1</td>\n",
       "      <td>1</td>\n",
       "      <td>23</td>\n",
       "      <td>...</td>\n",
       "      <td>01</td>\n",
       "      <td>08</td>\n",
       "      <td>42</td>\n",
       "      <td>12</td>\n",
       "      <td>11</td>\n",
       "      <td>1</td>\n",
       "      <td>09</td>\n",
       "      <td>10</td>\n",
       "      <td>00</td>\n",
       "      <td>00</td>\n",
       "    </tr>\n",
       "    <tr>\n",
       "      <th>1</th>\n",
       "      <td>1</td>\n",
       "      <td>01</td>\n",
       "      <td>9</td>\n",
       "      <td>2</td>\n",
       "      <td>1</td>\n",
       "      <td>9</td>\n",
       "      <td>2</td>\n",
       "      <td>2</td>\n",
       "      <td>3</td>\n",
       "      <td>16</td>\n",
       "      <td>...</td>\n",
       "      <td>01</td>\n",
       "      <td>01</td>\n",
       "      <td>39</td>\n",
       "      <td>10</td>\n",
       "      <td>99</td>\n",
       "      <td>2</td>\n",
       "      <td>08</td>\n",
       "      <td>09</td>\n",
       "      <td>00</td>\n",
       "      <td>99</td>\n",
       "    </tr>\n",
       "    <tr>\n",
       "      <th>2</th>\n",
       "      <td>1</td>\n",
       "      <td>01</td>\n",
       "      <td>9</td>\n",
       "      <td>2</td>\n",
       "      <td>1</td>\n",
       "      <td>2</td>\n",
       "      <td>2</td>\n",
       "      <td>2</td>\n",
       "      <td>3</td>\n",
       "      <td>24</td>\n",
       "      <td>...</td>\n",
       "      <td>01</td>\n",
       "      <td>07</td>\n",
       "      <td>39</td>\n",
       "      <td>12</td>\n",
       "      <td>10</td>\n",
       "      <td>1</td>\n",
       "      <td>07</td>\n",
       "      <td>08</td>\n",
       "      <td>00</td>\n",
       "      <td>00</td>\n",
       "    </tr>\n",
       "    <tr>\n",
       "      <th>3</th>\n",
       "      <td>1</td>\n",
       "      <td>01</td>\n",
       "      <td>9</td>\n",
       "      <td>1</td>\n",
       "      <td>1</td>\n",
       "      <td>9</td>\n",
       "      <td>2</td>\n",
       "      <td>2</td>\n",
       "      <td>3</td>\n",
       "      <td>24</td>\n",
       "      <td>...</td>\n",
       "      <td>01</td>\n",
       "      <td>06</td>\n",
       "      <td>42</td>\n",
       "      <td>11</td>\n",
       "      <td>99</td>\n",
       "      <td>2</td>\n",
       "      <td>09</td>\n",
       "      <td>09</td>\n",
       "      <td>00</td>\n",
       "      <td>99</td>\n",
       "    </tr>\n",
       "    <tr>\n",
       "      <th>4</th>\n",
       "      <td>1</td>\n",
       "      <td>01</td>\n",
       "      <td>9</td>\n",
       "      <td>2</td>\n",
       "      <td>1</td>\n",
       "      <td>9</td>\n",
       "      <td>2</td>\n",
       "      <td>2</td>\n",
       "      <td>3</td>\n",
       "      <td>26</td>\n",
       "      <td>...</td>\n",
       "      <td>01</td>\n",
       "      <td>01</td>\n",
       "      <td>35</td>\n",
       "      <td>12</td>\n",
       "      <td>99</td>\n",
       "      <td>2</td>\n",
       "      <td>08</td>\n",
       "      <td>09</td>\n",
       "      <td>00</td>\n",
       "      <td>99</td>\n",
       "    </tr>\n",
       "  </tbody>\n",
       "</table>\n",
       "<p>5 rows × 25 columns</p>\n",
       "</div>"
      ],
      "text/plain": [
       "  RESIDENTSTATUS STATEOFRESIDENCE POPULATIONSIZECITY SEX ATTENDANTTYPE  \\\n",
       "0              1               01                  9   2             1   \n",
       "1              1               01                  9   2             1   \n",
       "2              1               01                  9   2             1   \n",
       "3              1               01                  9   1             1   \n",
       "4              1               01                  9   2             1   \n",
       "\n",
       "  RACEOFFATHER RACEOFMOTHER RACEOFCHILD RACEOFCHILDRECODE3 AGEOFMOTHER  ...  \\\n",
       "0            1            1           1                  1          23  ...   \n",
       "1            9            2           2                  3          16  ...   \n",
       "2            2            2           2                  3          24  ...   \n",
       "3            9            2           2                  3          24  ...   \n",
       "4            9            2           2                  3          26  ...   \n",
       "\n",
       "  MONTH DAY DETAILGESTATIONAGE MOTHERSEDUCATION FATHERSEDUCATION  \\\n",
       "0    01  08                 42               12               11   \n",
       "1    01  01                 39               10               99   \n",
       "2    01  07                 39               12               10   \n",
       "3    01  06                 42               11               99   \n",
       "4    01  01                 35               12               99   \n",
       "\n",
       "  DETAILMARITALSTATUS ONEMINUTEAPGAR FIVEMINUTEAPGAR HISPANICMOTHER  \\\n",
       "0                   1             09              10             00   \n",
       "1                   2             08              09             00   \n",
       "2                   1             07              08             00   \n",
       "3                   2             09              09             00   \n",
       "4                   2             08              09             00   \n",
       "\n",
       "  HISPANICFATHER  \n",
       "0             00  \n",
       "1             99  \n",
       "2             00  \n",
       "3             99  \n",
       "4             99  \n",
       "\n",
       "[5 rows x 25 columns]"
      ]
     },
     "execution_count": 11,
     "metadata": {},
     "output_type": "execute_result"
    }
   ],
   "source": [
    "df = parse_natality(n1988, key1988)\n",
    "df.head()"
   ]
  },
  {
   "cell_type": "code",
   "execution_count": 12,
   "metadata": {},
   "outputs": [],
   "source": [
    "# looks like I need to groupby both ONEMINUTEAPGAR and FIVEMINUTEAPGAR\n",
    "apgarapgarhist = df.groupby([\"ONEMINUTEAPGAR\", \"FIVEMINUTEAPGAR\"]).FIVEMINUTEAPGAR.count()\n"
   ]
  },
  {
   "cell_type": "code",
   "execution_count": 13,
   "metadata": {},
   "outputs": [],
   "source": [
    "apgarapgar= np.reshape(np.array(apgarapgarhist), (12,12))\n",
    "# chop off unknown apgar scores\n",
    "apgarapgar = apgarapgar[0:11,0:11]"
   ]
  },
  {
   "cell_type": "code",
   "execution_count": 14,
   "metadata": {},
   "outputs": [
    {
     "data": {
      "text/plain": [
       "array([[   1355,     404,     207,     162,     147,     104,      73,\n",
       "             75,      89,     148,      46],\n",
       "       [    741,    4699,    1109,    1324,    1624,    1915,    2298,\n",
       "           2134,    2005,    1640,      80],\n",
       "       [    183,     719,    1253,     747,    1339,    2089,    3011,\n",
       "           3251,    3719,    3095,     140],\n",
       "       [     47,     219,     276,     530,     792,    1978,    3656,\n",
       "           5263,    6370,    5942,     249],\n",
       "       [     13,      59,     104,     127,     444,    1215,    4209,\n",
       "           7624,   11097,   11519,     400],\n",
       "       [     15,      43,      80,     100,     120,     684,    3264,\n",
       "          10986,   19157,   22156,     932],\n",
       "       [     17,      34,      54,      78,     126,     214,    1595,\n",
       "          11475,   38955,   47903,    2157],\n",
       "       [     47,      39,      47,      63,      95,     215,     455,\n",
       "           6028,   82434,  186829,    7623],\n",
       "       [    151,      74,      69,      71,     153,     231,     410,\n",
       "           1666,   67448, 1054665,   54415],\n",
       "       [    173,      99,      30,      25,      61,     130,     228,\n",
       "            607,    2284,  818949,  402622],\n",
       "       [      6,       5,       3,       2,       2,       3,       5,\n",
       "              7,      35,     327,   31998]])"
      ]
     },
     "execution_count": 14,
     "metadata": {},
     "output_type": "execute_result"
    }
   ],
   "source": [
    "apgarapgar  # now it's just a numpy arary, so I don't have pandas \n",
    "# conveniences like .head()"
   ]
  },
  {
   "cell_type": "code",
   "execution_count": 15,
   "metadata": {},
   "outputs": [
    {
     "name": "stderr",
     "output_type": "stream",
     "text": [
      "\n",
      "KeyboardInterrupt\n",
      "\n"
     ]
    }
   ],
   "source": [
    "df.groupby([\"ONEMINUTEAPGAR\"]).count().bar()"
   ]
  },
  {
   "cell_type": "code",
   "execution_count": 17,
   "metadata": {},
   "outputs": [
    {
     "data": {
      "text/plain": [
       "<matplotlib.colorbar.Colorbar at 0x7f82713b88b0>"
      ]
     },
     "execution_count": 17,
     "metadata": {},
     "output_type": "execute_result"
    },
    {
     "data": {
      "image/png": "[encoded data removed]",
      "text/plain": [
       "<Figure size 432x288 with 2 Axes>"
      ]
     },
     "metadata": {
      "needs_background": "light"
     },
     "output_type": "display_data"
    }
   ],
   "source": [
    "\n",
    "plt.imshow((apgarapgar/apgarapgar.sum())  )\n",
    "plt.ylabel(\"One minute Apgar score\"), plt.xlabel(\"Five minute Apgar score\"); plt.colorbar()\n"
   ]
  },
  {
   "cell_type": "code",
   "execution_count": 18,
   "metadata": {},
   "outputs": [
    {
     "data": {
      "text/plain": [
       "<matplotlib.colorbar.Colorbar at 0x7f8271948eb0>"
      ]
     },
     "execution_count": 18,
     "metadata": {},
     "output_type": "execute_result"
    },
    {
     "data": {
      "image/png": "[encoded data removed]",
      "text/plain": [
       "<Figure size 432x288 with 2 Axes>"
      ]
     },
     "metadata": {
      "needs_background": "light"
     },
     "output_type": "display_data"
    }
   ],
   "source": [
    "plt.imshow(np.log(apgarapgar/apgarapgar.sum())  )\n",
    "plt.ylabel(\"One minute Apgar score\"), plt.xlabel(\"Five minute Apgar score\"); plt.colorbar()\n"
   ]
  },
  {
   "cell_type": "code",
   "execution_count": 16,
   "metadata": {},
   "outputs": [
    {
     "data": {
      "text/plain": [
       "<matplotlib.colorbar.Colorbar at 0x7f8271d1b220>"
      ]
     },
     "execution_count": 16,
     "metadata": {},
     "output_type": "execute_result"
    },
    {
     "data": {
      "image/png": "[encoded data removed]",
      "text/plain": [
       "<Figure size 432x288 with 2 Axes>"
      ]
     },
     "metadata": {
      "needs_background": "light"
     },
     "output_type": "display_data"
    }
   ],
   "source": [
    "# Exaggerated-color scale version\n",
    "#  https://matplotlib.org/stable/api/_as_gen/matplotlib.pyplot.savefig.html\n",
    "#  plt.savefig() claims to support PNG, EPS, PDF, and SVG, and does support JPG\n",
    "#  It stands to reason they have different optional arguments (resolution, quality, metadata)\n",
    "from matplotlib.colors import LogNorm\n",
    "\n",
    "plt.imshow((apgarapgar/apgarapgar.sum()), norm=LogNorm())\n",
    "plt.ylabel(\"One minute Apgar score\"), plt.xlabel(\"Five minute Apgar score\"); plt.colorbar()\n"
   ]
  },
  {
   "cell_type": "code",
   "execution_count": 19,
   "metadata": {},
   "outputs": [
    {
     "data": {
      "text/plain": [
       "<matplotlib.colorbar.Colorbar at 0x7f82715d4ee0>"
      ]
     },
     "execution_count": 19,
     "metadata": {},
     "output_type": "execute_result"
    },
    {
     "data": {
      "image/png": "[encoded data removed]",
      "text/plain": [
       "<Figure size 432x288 with 2 Axes>"
      ]
     },
     "metadata": {
      "needs_background": "light"
     },
     "output_type": "display_data"
    }
   ],
   "source": [
    "# first, bigger axis labels\n",
    "plt.imshow((apgarapgar/apgarapgar.sum()), norm=LogNorm())\n",
    "plt.ylabel(\"One minute Apgar score\", fontsize=14)\n",
    "plt.xlabel(\"Five minute Apgar score\", fontsize=14) \n",
    "plt.colorbar()"
   ]
  },
  {
   "cell_type": "code",
   "execution_count": 20,
   "metadata": {},
   "outputs": [
    {
     "data": {
      "text/plain": [
       "<matplotlib.colorbar.Colorbar at 0x7f827209a940>"
      ]
     },
     "execution_count": 20,
     "metadata": {},
     "output_type": "execute_result"
    },
    {
     "data": {
      "image/png": "[encoded data removed]",
      "text/plain": [
       "<Figure size 432x288 with 2 Axes>"
      ]
     },
     "metadata": {
      "needs_background": "light"
     },
     "output_type": "display_data"
    }
   ],
   "source": [
    "# Next, bigger axis tick marks\n",
    "# first, bigger axis labels\n",
    "plt.imshow((apgarapgar/apgarapgar.sum()), norm=LogNorm())\n",
    "plt.ylabel(\"One minute Apgar score\", fontsize=14)\n",
    "plt.xlabel(\"Five minute Apgar score\", fontsize=14) \n",
    "plt.xticks(fontsize=13); plt.yticks(fontsize=13)\n",
    "plt.colorbar()\n"
   ]
  },
  {
   "cell_type": "code",
   "execution_count": 22,
   "metadata": {},
   "outputs": [
    {
     "data": {
      "image/png": "[encoded data removed]",
      "text/plain": [
       "<Figure size 432x288 with 2 Axes>"
      ]
     },
     "metadata": {
      "needs_background": "light"
     },
     "output_type": "display_data"
    }
   ],
   "source": [
    "# Next, bigger color bar tick labels\n",
    "plt.imshow((apgarapgar/apgarapgar.sum()), norm=LogNorm())\n",
    "plt.ylabel(\"One minute Apgar score\", fontsize=14)\n",
    "plt.xlabel(\"Five minute Apgar score\", fontsize=14) \n",
    "plt.xticks(fontsize=13); plt.yticks(fontsize=13)\n",
    "cb = plt.colorbar()\n",
    "cb.ax.tick_params(labelsize=13) "
   ]
  },
  {
   "cell_type": "code",
   "execution_count": 23,
   "metadata": {},
   "outputs": [
    {
     "data": {
      "image/png": "[encoded data removed]",
      "text/plain": [
       "<Figure size 432x288 with 2 Axes>"
      ]
     },
     "metadata": {
      "needs_background": "light"
     },
     "output_type": "display_data"
    }
   ],
   "source": [
    "plt.imshow((apgarapgar/apgarapgar.sum()), norm=LogNorm())\n",
    "plt.ylabel(\"One minute Apgar score\", fontsize=14)\n",
    "plt.xlabel(\"Five minute Apgar score\", fontsize=14) \n",
    "plt.xticks(fontsize=13); plt.yticks(fontsize=13)\n",
    "cb = plt.colorbar()\n",
    "cb.ax.tick_params(labelsize=13) \n",
    "plt.savefig(\"APGAR.png\")"
   ]
  },
  {
   "cell_type": "code",
   "execution_count": 25,
   "metadata": {},
   "outputs": [
    {
     "name": "stdout",
     "output_type": "stream",
     "text": [
      "ExifTool Version Number         : 12.30\n",
      "File Name                       : APGAR.png\n",
      "Directory                       : .\n",
      "File Size                       : 11 KiB\n",
      "File Modification Date/Time     : 2022:10:11 13:40:24-05:00\n",
      "File Access Date/Time           : 2022:10:11 13:41:12-05:00\n",
      "File Inode Change Date/Time     : 2022:10:11 13:41:07-05:00\n",
      "File Permissions                : -rw-r--r--\n",
      "File Type                       : PNG\n",
      "File Type Extension             : png\n",
      "MIME Type                       : image/png\n",
      "Image Width                     : 432\n",
      "Image Height                    : 288\n",
      "Bit Depth                       : 8\n",
      "Color Type                      : RGB with Alpha\n",
      "Compression                     : Deflate/Inflate\n",
      "Filter                          : Adaptive\n",
      "Interlace                       : Noninterlaced\n",
      "Software                        : Matplotlib version3.5.1, https://matplotlib.org/\n",
      "Pixels Per Unit X               : 2835\n",
      "Pixels Per Unit Y               : 2835\n",
      "Pixel Units                     : meters\n",
      "Image Size                      : 432x288\n",
      "Megapixels                      : 0.124\n"
     ]
    }
   ],
   "source": [
    "# savefig results in a below-presentation-standard graphic:\n",
    "!exiftool APGAR.png\n",
    "#  432 x 288 pixels!! No wonder it looks crummy.  "
   ]
  },
  {
   "cell_type": "code",
   "execution_count": 26,
   "metadata": {},
   "outputs": [
    {
     "data": {
      "image/png": "[encoded data removed]",
      "text/plain": [
       "<Figure size 432x288 with 2 Axes>"
      ]
     },
     "metadata": {
      "needs_background": "light"
     },
     "output_type": "display_data"
    }
   ],
   "source": [
    "# Let us marginalize over output formats...\n",
    "plt.imshow((apgarapgar/apgarapgar.sum()), norm=LogNorm())\n",
    "plt.ylabel(\"One minute Apgar score\", fontsize=14)\n",
    "plt.xlabel(\"Five minute Apgar score\", fontsize=14) \n",
    "plt.xticks(fontsize=13); plt.yticks(fontsize=13)\n",
    "cb = plt.colorbar()\n",
    "cb.ax.tick_params(labelsize=13) \n",
    "plt.savefig(\"APGAR.jpg\")\n",
    "plt.savefig(\"APGAR.pdf\")\n",
    "plt.savefig(\"APGAR.svg\")\n",
    "plt.savefig(\"APGAR.png\")\n",
    "plt.savefig(\"APGAR.eps\")"
   ]
  },
  {
   "cell_type": "code",
   "execution_count": null,
   "metadata": {},
   "outputs": [],
   "source": [
    "!ls -lh APGAR.???\n",
    "# So some are bigger than others.  \n",
    "# Here JPG and PNG are bitmap formats,\n",
    "# EPS and PDF are container formats that *can* contain \n",
    "# vector graphics if they are created properly, and \n",
    "# SVG is a vector format that isn't widely supported.\n",
    "\n",
    "# Why create so many files?  To check which ones I can use\n",
    "# downstream."
   ]
  },
  {
   "cell_type": "code",
   "execution_count": null,
   "metadata": {},
   "outputs": [],
   "source": [
    "# For my presentation software, I can import EPS and SVG.\n",
    "# If I was completely stuck with the bitmap formats, \n",
    "# I could improve the quality by increasing the resolution:"
   ]
  },
  {
   "cell_type": "code",
   "execution_count": 27,
   "metadata": {},
   "outputs": [
    {
     "data": {
      "image/png": "[encoded data removed]",
      "text/plain": [
       "<Figure size 432x288 with 2 Axes>"
      ]
     },
     "metadata": {
      "needs_background": "light"
     },
     "output_type": "display_data"
    }
   ],
   "source": [
    "plt.imshow((apgarapgar/apgarapgar.sum()), norm=LogNorm())\n",
    "plt.ylabel(\"One minute Apgar score\", fontsize=14)\n",
    "plt.xlabel(\"Five minute Apgar score\", fontsize=14) \n",
    "plt.xticks(fontsize=13); plt.yticks(fontsize=13)\n",
    "cb = plt.colorbar()\n",
    "cb.ax.tick_params(labelsize=13) \n",
    "plt.savefig(\"APGAR300.png\", dpi=300)\n"
   ]
  },
  {
   "cell_type": "code",
   "execution_count": null,
   "metadata": {},
   "outputs": [],
   "source": [
    "!exiftool APGAR300.png # and now it's 1800x1200 and 62kB\n",
    "# It looks good enough for anywhere I am going to put it,\n",
    "# but it is not infinitely zoomable like EPS or SVG."
   ]
  },
  {
   "cell_type": "code",
   "execution_count": 28,
   "metadata": {},
   "outputs": [
    {
     "data": {
      "image/png": "[encoded data removed]",
      "text/plain": [
       "<Figure size 432x288 with 2 Axes>"
      ]
     },
     "metadata": {
      "needs_background": "light"
     },
     "output_type": "display_data"
    }
   ],
   "source": [
    "plt.imshow((apgarapgar/apgarapgar.sum()), norm=LogNorm())\n",
    "plt.ylabel(\"One minute Apgar score\", fontsize=14)\n",
    "plt.xlabel(\"Five minute Apgar score\", fontsize=14) \n",
    "plt.xticks(fontsize=13); plt.yticks(fontsize=13)\n",
    "cb = plt.colorbar()\n",
    "cb.ax.tick_params(labelsize=13) \n",
    "plt.savefig(\"APGAR300.pdf\", bbox_inches=0)\n"
   ]
  },
  {
   "cell_type": "code",
   "execution_count": null,
   "metadata": {},
   "outputs": [],
   "source": []
  }
 ],
 "metadata": {
  "kernelspec": {
   "display_name": "Python 3 (ipykernel)",
   "language": "python",
   "name": "python3"
  },
  "language_info": {
   "codemirror_mode": {
    "name": "ipython",
    "version": 3
   },
   "file_extension": ".py",
   "mimetype": "text/x-python",
   "name": "python",
   "nbconvert_exporter": "python",
   "pygments_lexer": "ipython3",
   "version": "3.9.12"
  }
 },
 "nbformat": 4,
 "nbformat_minor": 4
}
