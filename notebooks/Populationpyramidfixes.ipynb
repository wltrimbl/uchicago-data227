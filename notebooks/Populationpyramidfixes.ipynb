{
 "cells": [
  {
   "cell_type": "code",
   "execution_count": 1,
   "metadata": {},
   "outputs": [],
   "source": [
    "import numpy as np \n",
    "import matplotlib.pyplot as plt\n",
    "x = np.arange(0,1000000,10000)"
   ]
  },
  {
   "cell_type": "code",
   "execution_count": 2,
   "metadata": {},
   "outputs": [],
   "source": [
    "import pandas as pd\n",
    "d = pd.read_csv(\"~/Downloads/census1900-2000.csv\")"
   ]
  },
  {
   "cell_type": "code",
   "execution_count": 3,
   "metadata": {},
   "outputs": [
    {
     "data": {
      "text/plain": [
       "Sex       int64\n",
       "Year      int64\n",
       "Age       int64\n",
       "People    int64\n",
       "dtype: object"
      ]
     },
     "execution_count": 3,
     "metadata": {},
     "output_type": "execute_result"
    }
   ],
   "source": [
    "d.dtypes\n"
   ]
  },
  {
   "cell_type": "code",
   "execution_count": 4,
   "metadata": {},
   "outputs": [
    {
     "data": {
      "text/html": [
       "<div>\n",
       "<style scoped>\n",
       "    .dataframe tbody tr th:only-of-type {\n",
       "        vertical-align: middle;\n",
       "    }\n",
       "\n",
       "    .dataframe tbody tr th {\n",
       "        vertical-align: top;\n",
       "    }\n",
       "\n",
       "    .dataframe thead th {\n",
       "        text-align: right;\n",
       "    }\n",
       "</style>\n",
       "<table border=\"1\" class=\"dataframe\">\n",
       "  <thead>\n",
       "    <tr style=\"text-align: right;\">\n",
       "      <th></th>\n",
       "      <th>Sex</th>\n",
       "      <th>Year</th>\n",
       "      <th>Age</th>\n",
       "      <th>People</th>\n",
       "    </tr>\n",
       "  </thead>\n",
       "  <tbody>\n",
       "    <tr>\n",
       "      <th>0</th>\n",
       "      <td>1</td>\n",
       "      <td>1900</td>\n",
       "      <td>0</td>\n",
       "      <td>4619544</td>\n",
       "    </tr>\n",
       "    <tr>\n",
       "      <th>1</th>\n",
       "      <td>1</td>\n",
       "      <td>2000</td>\n",
       "      <td>0</td>\n",
       "      <td>9735380</td>\n",
       "    </tr>\n",
       "    <tr>\n",
       "      <th>2</th>\n",
       "      <td>1</td>\n",
       "      <td>1900</td>\n",
       "      <td>5</td>\n",
       "      <td>4465783</td>\n",
       "    </tr>\n",
       "    <tr>\n",
       "      <th>3</th>\n",
       "      <td>1</td>\n",
       "      <td>2000</td>\n",
       "      <td>5</td>\n",
       "      <td>10552146</td>\n",
       "    </tr>\n",
       "    <tr>\n",
       "      <th>4</th>\n",
       "      <td>1</td>\n",
       "      <td>1900</td>\n",
       "      <td>10</td>\n",
       "      <td>4057669</td>\n",
       "    </tr>\n",
       "    <tr>\n",
       "      <th>...</th>\n",
       "      <td>...</td>\n",
       "      <td>...</td>\n",
       "      <td>...</td>\n",
       "      <td>...</td>\n",
       "    </tr>\n",
       "    <tr>\n",
       "      <th>71</th>\n",
       "      <td>2</td>\n",
       "      <td>2000</td>\n",
       "      <td>80</td>\n",
       "      <td>3221898</td>\n",
       "    </tr>\n",
       "    <tr>\n",
       "      <th>72</th>\n",
       "      <td>2</td>\n",
       "      <td>1900</td>\n",
       "      <td>85</td>\n",
       "      <td>48614</td>\n",
       "    </tr>\n",
       "    <tr>\n",
       "      <th>73</th>\n",
       "      <td>2</td>\n",
       "      <td>2000</td>\n",
       "      <td>85</td>\n",
       "      <td>1981156</td>\n",
       "    </tr>\n",
       "    <tr>\n",
       "      <th>74</th>\n",
       "      <td>2</td>\n",
       "      <td>1900</td>\n",
       "      <td>90</td>\n",
       "      <td>20093</td>\n",
       "    </tr>\n",
       "    <tr>\n",
       "      <th>75</th>\n",
       "      <td>2</td>\n",
       "      <td>2000</td>\n",
       "      <td>90</td>\n",
       "      <td>1064581</td>\n",
       "    </tr>\n",
       "  </tbody>\n",
       "</table>\n",
       "<p>76 rows × 4 columns</p>\n",
       "</div>"
      ],
      "text/plain": [
       "    Sex  Year  Age    People\n",
       "0     1  1900    0   4619544\n",
       "1     1  2000    0   9735380\n",
       "2     1  1900    5   4465783\n",
       "3     1  2000    5  10552146\n",
       "4     1  1900   10   4057669\n",
       "..  ...   ...  ...       ...\n",
       "71    2  2000   80   3221898\n",
       "72    2  1900   85     48614\n",
       "73    2  2000   85   1981156\n",
       "74    2  1900   90     20093\n",
       "75    2  2000   90   1064581\n",
       "\n",
       "[76 rows x 4 columns]"
      ]
     },
     "execution_count": 4,
     "metadata": {},
     "output_type": "execute_result"
    }
   ],
   "source": [
    "d"
   ]
  },
  {
   "cell_type": "code",
   "execution_count": 6,
   "metadata": {},
   "outputs": [],
   "source": [
    "c1900 = d[d[\"Year\"] == 1900]\n",
    "c1900f = c1900[c1900[\"Sex\" ] == 2]\n",
    "c1900m = c1900[c1900[\"Sex\" ] == 1]\n",
    "\n",
    "c2000 = d[d[\"Year\"] == 2000]\n",
    "c2000f = c2000[c2000[\"Sex\" ] == 2]\n",
    "c2000m = c2000[c2000[\"Sex\" ] == 1]\n"
   ]
  },
  {
   "cell_type": "code",
   "execution_count": 9,
   "metadata": {},
   "outputs": [
    {
     "name": "stdout",
     "output_type": "stream",
     "text": [
      "Sex              38\n",
      "Year          38000\n",
      "Age             855\n",
      "People    143557276\n",
      "dtype: int64\n",
      "Sex              19\n",
      "Year          38000\n",
      "Age             855\n",
      "People    137863441\n",
      "dtype: int64\n",
      "Sex             38\n",
      "Year         36100\n",
      "Age            855\n",
      "People    37347586\n",
      "dtype: int64\n",
      "Sex             19\n",
      "Year         36100\n",
      "Age            855\n",
      "People    38915235\n",
      "dtype: int64\n"
     ]
    }
   ],
   "source": [
    "print(c2000f.sum())\n",
    "print(c2000m.sum())\n",
    "print(c1900f.sum())\n",
    "print(c1900m.sum())"
   ]
  },
  {
   "cell_type": "code",
   "execution_count": 10,
   "metadata": {},
   "outputs": [
    {
     "data": {
      "text/plain": [
       "<BarContainer object of 19 artists>"
      ]
     },
     "execution_count": 10,
     "metadata": {},
     "output_type": "execute_result"
    },
    {
     "data": {
      "image/png": "[encoded data removed]",
      "text/plain": [
       "<Figure size 432x288 with 1 Axes>"
      ]
     },
     "metadata": {
      "needs_background": "light"
     },
     "output_type": "display_data"
    }
   ],
   "source": [
    "plt.bar(c2000m[\"Age\"], c2000m[\"People\"])\n"
   ]
  },
  {
   "cell_type": "code",
   "execution_count": 11,
   "metadata": {},
   "outputs": [
    {
     "data": {
      "image/png": "[encoded data removed]",
      "text/plain": [
       "<Figure size 432x288 with 1 Axes>"
      ]
     },
     "metadata": {
      "needs_background": "light"
     },
     "output_type": "display_data"
    }
   ],
   "source": [
    "fig, ax = plt.subplots()\n",
    "plt.bar(c2000m[\"Age\"], c2000m[\"People\"], width=3)\n",
    "ax.ticklabel_format(useMathText=True)"
   ]
  },
  {
   "cell_type": "code",
   "execution_count": null,
   "metadata": {},
   "outputs": [],
   "source": [
    "c1900m"
   ]
  },
  {
   "cell_type": "code",
   "execution_count": 12,
   "metadata": {},
   "outputs": [
    {
     "data": {
      "image/png": "[encoded data removed]",
      "text/plain": [
       "<Figure size 432x288 with 1 Axes>"
      ]
     },
     "metadata": {
      "needs_background": "light"
     },
     "output_type": "display_data"
    }
   ],
   "source": [
    "fig, ax = plt.subplots()\n",
    "plt.bar(c2000m[\"Age\"], c2000m[\"People\"]/1000000, width=3)\n",
    "plt.ylabel(\"Millions\")\n",
    "ax.ticklabel_format(useMathText=True)\n"
   ]
  },
  {
   "cell_type": "code",
   "execution_count": null,
   "metadata": {},
   "outputs": [],
   "source": [
    "fig, ax = plt.subplots()\n",
    "plt.bar(c2000m[\"Age\"], c2000m[\"People\"]/1000000, width=3, label=np.arange(0,19))\n",
    "plt.ylabel(\"Millions\")\n",
    "ax.ticklabel_format(useMathText=True)\n"
   ]
  },
  {
   "cell_type": "code",
   "execution_count": 13,
   "metadata": {},
   "outputs": [
    {
     "data": {
      "text/plain": [
       "1      0\n",
       "3      5\n",
       "5     10\n",
       "7     15\n",
       "9     20\n",
       "11    25\n",
       "13    30\n",
       "15    35\n",
       "17    40\n",
       "19    45\n",
       "21    50\n",
       "23    55\n",
       "25    60\n",
       "27    65\n",
       "29    70\n",
       "31    75\n",
       "33    80\n",
       "35    85\n",
       "37    90\n",
       "Name: Age, dtype: int64"
      ]
     },
     "execution_count": 13,
     "metadata": {},
     "output_type": "execute_result"
    }
   ],
   "source": [
    "c2000m[\"Age\"]"
   ]
  },
  {
   "cell_type": "code",
   "execution_count": null,
   "metadata": {},
   "outputs": [],
   "source": [
    "cohortlabels = [\"{:d}\".format(i) for i in range(0,5) ]"
   ]
  },
  {
   "cell_type": "code",
   "execution_count": 18,
   "metadata": {},
   "outputs": [
    {
     "data": {
      "text/plain": [
       "['0-4',\n",
       " '5-9',\n",
       " '10-14',\n",
       " '15-19',\n",
       " '20-24',\n",
       " '25-29',\n",
       " '30-34',\n",
       " '35-39',\n",
       " '40-44',\n",
       " '45-49',\n",
       " '50-54',\n",
       " '55-59',\n",
       " '60-64',\n",
       " '65-69',\n",
       " '70-74',\n",
       " '75-79',\n",
       " '80-84',\n",
       " '85-89',\n",
       " '90-94']"
      ]
     },
     "execution_count": 18,
     "metadata": {},
     "output_type": "execute_result"
    }
   ],
   "source": [
    "cohortlabels = []\n",
    "for i in range(0,19):\n",
    "    cohortlabels.append(\"{:d}-{:d}\".format(i*5, i*5+4))\n",
    "cohortlabels"
   ]
  },
  {
   "cell_type": "code",
   "execution_count": 19,
   "metadata": {},
   "outputs": [
    {
     "data": {
      "text/plain": [
       "19"
      ]
     },
     "execution_count": 19,
     "metadata": {},
     "output_type": "execute_result"
    }
   ],
   "source": [
    "len(cohortlabels)"
   ]
  },
  {
   "cell_type": "code",
   "execution_count": null,
   "metadata": {},
   "outputs": [],
   "source": []
  },
  {
   "cell_type": "code",
   "execution_count": null,
   "metadata": {},
   "outputs": [],
   "source": [
    "cohortlabels = [\"{:d}-{:d}\".format(i*5, i*5+4) for i in range(0,19) ]"
   ]
  },
  {
   "cell_type": "code",
   "execution_count": null,
   "metadata": {},
   "outputs": [],
   "source": [
    "cohortlabels\n"
   ]
  },
  {
   "cell_type": "code",
   "execution_count": 21,
   "metadata": {},
   "outputs": [
    {
     "data": {
      "text/plain": [
       "['0-4',\n",
       " '5-9',\n",
       " '10-14',\n",
       " '15-19',\n",
       " '20-24',\n",
       " '25-29',\n",
       " '30-34',\n",
       " '35-39',\n",
       " '40-44',\n",
       " '45-49',\n",
       " '50-54',\n",
       " '55-59',\n",
       " '60-64',\n",
       " '65-69',\n",
       " '70-74',\n",
       " '75-79',\n",
       " '80-84',\n",
       " '85-89',\n",
       " '90+']"
      ]
     },
     "execution_count": 21,
     "metadata": {},
     "output_type": "execute_result"
    }
   ],
   "source": [
    "cohortlabels=cohortlabels[0:19]\n",
    "cohortlabels[-1]=\"90+\"\n",
    "cohortlabels"
   ]
  },
  {
   "cell_type": "code",
   "execution_count": 22,
   "metadata": {},
   "outputs": [
    {
     "data": {
      "text/plain": [
       "Text(0, 0.5, 'Millions')"
      ]
     },
     "execution_count": 22,
     "metadata": {},
     "output_type": "execute_result"
    },
    {
     "data": {
      "image/png": "[encoded data removed]",
      "text/plain": [
       "<Figure size 432x288 with 1 Axes>"
      ]
     },
     "metadata": {
      "needs_background": "light"
     },
     "output_type": "display_data"
    }
   ],
   "source": [
    "fig, ax = plt.subplots()\n",
    "plt.bar(cohortlabels, c2000m[\"People\"]/1000000, width=0.8, label=np.arange(0,19))\n",
    "plt.ylabel(\"Millions\")\n"
   ]
  },
  {
   "cell_type": "code",
   "execution_count": null,
   "metadata": {},
   "outputs": [],
   "source": [
    "cohortlabels"
   ]
  },
  {
   "cell_type": "code",
   "execution_count": null,
   "metadata": {},
   "outputs": [],
   "source": [
    "len(cohortlabels)"
   ]
  },
  {
   "cell_type": "code",
   "execution_count": 23,
   "metadata": {},
   "outputs": [],
   "source": [
    "cohortlabelsodd=list(cohortlabels)\n",
    "for i in range(1,19,2):\n",
    "    cohortlabelsodd[i]=\"\"\n"
   ]
  },
  {
   "cell_type": "code",
   "execution_count": 24,
   "metadata": {},
   "outputs": [
    {
     "data": {
      "text/plain": [
       "['0-4',\n",
       " '',\n",
       " '10-14',\n",
       " '',\n",
       " '20-24',\n",
       " '',\n",
       " '30-34',\n",
       " '',\n",
       " '40-44',\n",
       " '',\n",
       " '50-54',\n",
       " '',\n",
       " '60-64',\n",
       " '',\n",
       " '70-74',\n",
       " '',\n",
       " '80-84',\n",
       " '',\n",
       " '90+']"
      ]
     },
     "execution_count": 24,
     "metadata": {},
     "output_type": "execute_result"
    }
   ],
   "source": [
    "cohortlabelsodd"
   ]
  },
  {
   "cell_type": "code",
   "execution_count": 25,
   "metadata": {},
   "outputs": [
    {
     "data": {
      "text/plain": [
       "Text(0, 0.5, 'Millions')"
      ]
     },
     "execution_count": 25,
     "metadata": {},
     "output_type": "execute_result"
    },
    {
     "data": {
      "image/png": "[encoded data removed]",
      "text/plain": [
       "<Figure size 432x288 with 1 Axes>"
      ]
     },
     "metadata": {
      "needs_background": "light"
     },
     "output_type": "display_data"
    }
   ],
   "source": [
    "fig, ax = plt.subplots()\n",
    "plt.bar(x=cohortlabelsodd, height=c2000m[\"People\"]/1000000, width=0.8)\n",
    "plt.ylabel(\"Millions\")"
   ]
  },
  {
   "cell_type": "code",
   "execution_count": 26,
   "metadata": {},
   "outputs": [
    {
     "data": {
      "text/plain": [
       "Text(0, 0.5, 'Millions')"
      ]
     },
     "execution_count": 26,
     "metadata": {},
     "output_type": "execute_result"
    },
    {
     "data": {
      "image/png": "[encoded data removed]",
      "text/plain": [
       "<Figure size 432x288 with 1 Axes>"
      ]
     },
     "metadata": {
      "needs_background": "light"
     },
     "output_type": "display_data"
    }
   ],
   "source": [
    "fig, ax = plt.subplots()\n",
    "plt.bar(x=np.arange(0,19), height=c2000m[\"People\"]/1000000, width=0.8, tick_label=cohortlabelsodd)\n",
    "plt.ylabel(\"Millions\")\n"
   ]
  },
  {
   "cell_type": "code",
   "execution_count": 30,
   "metadata": {},
   "outputs": [
    {
     "data": {
      "text/plain": [
       "Text(0, 0.5, 'Millions')"
      ]
     },
     "execution_count": 30,
     "metadata": {},
     "output_type": "execute_result"
    },
    {
     "data": {
      "image/png": "[encoded data removed]",
      "text/plain": [
       "<Figure size 432x288 with 1 Axes>"
      ]
     },
     "metadata": {
      "needs_background": "light"
     },
     "output_type": "display_data"
    }
   ],
   "source": [
    "fig, ax = plt.subplots()\n",
    "plt.bar(x=np.arange(0,19), height=c2000m[\"People\"]/1000000, width=0.8, tick_label=cohortlabelsodd)\n",
    "# according to https://www.delftstack.com/howto/matplotlib/how-to-set-the-figure-title-and-axes-labels-font-size-in-matplotlib/ \n",
    "# I can pass fontsize as a parameter to plt.ylabel:\n",
    "plt.ylabel(\"Millions\", fontsize=20)\n"
   ]
  },
  {
   "cell_type": "code",
   "execution_count": 33,
   "metadata": {},
   "outputs": [],
   "source": [
    "# That puts the y label in a BIG FONT but now all the axis labels look disproportionately small.\n",
    "# plt.xticks(fontsize=12) and plt.yticks(fontsize=12)"
   ]
  },
  {
   "cell_type": "code",
   "execution_count": 42,
   "metadata": {},
   "outputs": [
    {
     "data": {
      "text/plain": [
       "1"
      ]
     },
     "execution_count": 42,
     "metadata": {},
     "output_type": "execute_result"
    },
    {
     "data": {
      "image/png": "[encoded data removed]",
      "text/plain": [
       "<Figure size 432x288 with 1 Axes>"
      ]
     },
     "metadata": {
      "needs_background": "light"
     },
     "output_type": "display_data"
    }
   ],
   "source": [
    "fig, ax = plt.subplots()\n",
    "plt.bar(x=np.arange(0,19), height=c2000m[\"People\"]/1000000, width=0.8, tick_label=cohortlabelsodd)\n",
    "# according to https://www.delftstack.com/howto/matplotlib/how-to-set-the-figure-title-and-axes-labels-font-size-in-matplotlib/ \n",
    "# I can pass fontsize as a parameter to plt.ylabel:\n",
    "plt.ylabel(\"Millions\", fontsize=20)\n",
    "plt.xticks(fontsize=12)\n",
    "plt.yticks(fontsize=12)\n",
    "1"
   ]
  },
  {
   "cell_type": "code",
   "execution_count": 43,
   "metadata": {},
   "outputs": [],
   "source": [
    "# The only way I'm going to win this one is by making the plot larger.\n",
    "# At any font sizes larger than the default 10 the labels run into each other unacceptably."
   ]
  },
  {
   "cell_type": "code",
   "execution_count": 57,
   "metadata": {},
   "outputs": [
    {
     "data": {
      "text/plain": [
       "1"
      ]
     },
     "execution_count": 57,
     "metadata": {},
     "output_type": "execute_result"
    },
    {
     "data": {
      "image/png": "[encoded data removed]",
      "text/plain": [
       "<Figure size 720x360 with 1 Axes>"
      ]
     },
     "metadata": {
      "needs_background": "light"
     },
     "output_type": "display_data"
    }
   ],
   "source": [
    "fig, ax = plt.subplots(figsize = (10,5))\n",
    "\n",
    "\n",
    "plt.bar(x=np.arange(0,19), height=c2000m[\"People\"]/1000000, width=0.8, tick_label=cohortlabelsodd)\n",
    "# according to https://www.delftstack.com/howto/matplotlib/how-to-set-the-figure-title-and-axes-labels-font-size-in-matplotlib/ \n",
    "# I can pass fontsize as a parameter to plt.ylabel:\n",
    "plt.title(\"2000 U.S. census, males\", fontsize=20)\n",
    "\n",
    "plt.ylabel(\"Millions\", fontsize=20)\n",
    "plt.xlabel(\"Age in 2000\", fontsize=20)\n",
    "\n",
    "plt.xticks(fontsize=12)\n",
    "plt.yticks(fontsize=12)\n",
    "1"
   ]
  },
  {
   "cell_type": "code",
   "execution_count": null,
   "metadata": {},
   "outputs": [],
   "source": [
    "# and the visualization is finally free of correctible, serious implementation flaws."
   ]
  },
  {
   "cell_type": "code",
   "execution_count": 31,
   "metadata": {},
   "outputs": [
    {
     "data": {
      "text/plain": [
       "281420717"
      ]
     },
     "execution_count": 31,
     "metadata": {},
     "output_type": "execute_result"
    }
   ],
   "source": [
    "# how much did population grow?\n",
    "c2000f[\"People\"].sum()+c2000m[\"People\"].sum()"
   ]
  },
  {
   "cell_type": "code",
   "execution_count": 32,
   "metadata": {},
   "outputs": [
    {
     "data": {
      "text/plain": [
       "76262821"
      ]
     },
     "execution_count": 32,
     "metadata": {},
     "output_type": "execute_result"
    }
   ],
   "source": [
    "# how many in 1900?\n",
    "c1900f[\"People\"].sum()+c1900m[\"People\"].sum()"
   ]
  },
  {
   "cell_type": "code",
   "execution_count": 45,
   "metadata": {},
   "outputs": [
    {
     "data": {
      "text/plain": [
       "\u001b[0;31mSignature:\u001b[0m\n",
       "\u001b[0mplt\u001b[0m\u001b[0;34m.\u001b[0m\u001b[0msubplots\u001b[0m\u001b[0;34m(\u001b[0m\u001b[0;34m\u001b[0m\n",
       "\u001b[0;34m\u001b[0m    \u001b[0mnrows\u001b[0m\u001b[0;34m=\u001b[0m\u001b[0;36m1\u001b[0m\u001b[0;34m,\u001b[0m\u001b[0;34m\u001b[0m\n",
       "\u001b[0;34m\u001b[0m    \u001b[0mncols\u001b[0m\u001b[0;34m=\u001b[0m\u001b[0;36m1\u001b[0m\u001b[0;34m,\u001b[0m\u001b[0;34m\u001b[0m\n",
       "\u001b[0;34m\u001b[0m    \u001b[0;34m*\u001b[0m\u001b[0;34m,\u001b[0m\u001b[0;34m\u001b[0m\n",
       "\u001b[0;34m\u001b[0m    \u001b[0msharex\u001b[0m\u001b[0;34m=\u001b[0m\u001b[0;32mFalse\u001b[0m\u001b[0;34m,\u001b[0m\u001b[0;34m\u001b[0m\n",
       "\u001b[0;34m\u001b[0m    \u001b[0msharey\u001b[0m\u001b[0;34m=\u001b[0m\u001b[0;32mFalse\u001b[0m\u001b[0;34m,\u001b[0m\u001b[0;34m\u001b[0m\n",
       "\u001b[0;34m\u001b[0m    \u001b[0msqueeze\u001b[0m\u001b[0;34m=\u001b[0m\u001b[0;32mTrue\u001b[0m\u001b[0;34m,\u001b[0m\u001b[0;34m\u001b[0m\n",
       "\u001b[0;34m\u001b[0m    \u001b[0msubplot_kw\u001b[0m\u001b[0;34m=\u001b[0m\u001b[0;32mNone\u001b[0m\u001b[0;34m,\u001b[0m\u001b[0;34m\u001b[0m\n",
       "\u001b[0;34m\u001b[0m    \u001b[0mgridspec_kw\u001b[0m\u001b[0;34m=\u001b[0m\u001b[0;32mNone\u001b[0m\u001b[0;34m,\u001b[0m\u001b[0;34m\u001b[0m\n",
       "\u001b[0;34m\u001b[0m    \u001b[0;34m**\u001b[0m\u001b[0mfig_kw\u001b[0m\u001b[0;34m,\u001b[0m\u001b[0;34m\u001b[0m\n",
       "\u001b[0;34m\u001b[0m\u001b[0;34m)\u001b[0m\u001b[0;34m\u001b[0m\u001b[0;34m\u001b[0m\u001b[0m\n",
       "\u001b[0;31mDocstring:\u001b[0m\n",
       "Create a figure and a set of subplots.\n",
       "\n",
       "This utility wrapper makes it convenient to create common layouts of\n",
       "subplots, including the enclosing figure object, in a single call.\n",
       "\n",
       "Parameters\n",
       "----------\n",
       "nrows, ncols : int, default: 1\n",
       "    Number of rows/columns of the subplot grid.\n",
       "\n",
       "sharex, sharey : bool or {'none', 'all', 'row', 'col'}, default: False\n",
       "    Controls sharing of properties among x (*sharex*) or y (*sharey*)\n",
       "    axes:\n",
       "\n",
       "    - True or 'all': x- or y-axis will be shared among all subplots.\n",
       "    - False or 'none': each subplot x- or y-axis will be independent.\n",
       "    - 'row': each subplot row will share an x- or y-axis.\n",
       "    - 'col': each subplot column will share an x- or y-axis.\n",
       "\n",
       "    When subplots have a shared x-axis along a column, only the x tick\n",
       "    labels of the bottom subplot are created. Similarly, when subplots\n",
       "    have a shared y-axis along a row, only the y tick labels of the first\n",
       "    column subplot are created. To later turn other subplots' ticklabels\n",
       "    on, use `~matplotlib.axes.Axes.tick_params`.\n",
       "\n",
       "squeeze : bool, default: True\n",
       "    - If True, extra dimensions are squeezed out from the returned\n",
       "      array of `~matplotlib.axes.Axes`:\n",
       "\n",
       "      - if only one subplot is constructed (nrows=ncols=1), the\n",
       "        resulting single Axes object is returned as a scalar.\n",
       "      - for Nx1 or 1xM subplots, the returned object is a 1D numpy\n",
       "        object array of Axes objects.\n",
       "      - for NxM, subplots with N>1 and M>1 are returned as a 2D array.\n",
       "\n",
       "    - If False, no squeezing at all is done: the returned Axes object is\n",
       "      always a 2D array containing Axes instances, even if it ends up\n",
       "      being 1x1.\n",
       "\n",
       "subplot_kw : dict, optional\n",
       "    Dict with keywords passed to the\n",
       "    `~matplotlib.figure.Figure.add_subplot` call used to create each\n",
       "    subplot.\n",
       "\n",
       "gridspec_kw : dict, optional\n",
       "    Dict with keywords passed to the `~matplotlib.gridspec.GridSpec`\n",
       "    constructor used to create the grid the subplots are placed on.\n",
       "\n",
       "**fig_kw\n",
       "    All additional keyword arguments are passed to the\n",
       "    `.pyplot.figure` call.\n",
       "\n",
       "Returns\n",
       "-------\n",
       "fig : `~.figure.Figure`\n",
       "\n",
       "ax : `.axes.Axes` or array of Axes\n",
       "    *ax* can be either a single `~matplotlib.axes.Axes` object or an\n",
       "    array of Axes objects if more than one subplot was created.  The\n",
       "    dimensions of the resulting array can be controlled with the squeeze\n",
       "    keyword, see above.\n",
       "\n",
       "    Typical idioms for handling the return value are::\n",
       "\n",
       "        # using the variable ax for single a Axes\n",
       "        fig, ax = plt.subplots()\n",
       "\n",
       "        # using the variable axs for multiple Axes\n",
       "        fig, axs = plt.subplots(2, 2)\n",
       "\n",
       "        # using tuple unpacking for multiple Axes\n",
       "        fig, (ax1, ax2) = plt.subplot(1, 2)\n",
       "        fig, ((ax1, ax2), (ax3, ax4)) = plt.subplot(2, 2)\n",
       "\n",
       "    The names ``ax`` and pluralized ``axs`` are preferred over ``axes``\n",
       "    because for the latter it's not clear if it refers to a single\n",
       "    `~.axes.Axes` instance or a collection of these.\n",
       "\n",
       "See Also\n",
       "--------\n",
       ".pyplot.figure\n",
       ".pyplot.subplot\n",
       ".pyplot.axes\n",
       ".Figure.subplots\n",
       ".Figure.add_subplot\n",
       "\n",
       "Examples\n",
       "--------\n",
       "::\n",
       "\n",
       "    # First create some toy data:\n",
       "    x = np.linspace(0, 2*np.pi, 400)\n",
       "    y = np.sin(x**2)\n",
       "\n",
       "    # Create just a figure and only one subplot\n",
       "    fig, ax = plt.subplots()\n",
       "    ax.plot(x, y)\n",
       "    ax.set_title('Simple plot')\n",
       "\n",
       "    # Create two subplots and unpack the output array immediately\n",
       "    f, (ax1, ax2) = plt.subplots(1, 2, sharey=True)\n",
       "    ax1.plot(x, y)\n",
       "    ax1.set_title('Sharing Y axis')\n",
       "    ax2.scatter(x, y)\n",
       "\n",
       "    # Create four polar axes and access them through the returned array\n",
       "    fig, axs = plt.subplots(2, 2, subplot_kw=dict(polar=True))\n",
       "    axs[0, 0].plot(x, y)\n",
       "    axs[1, 1].scatter(x, y)\n",
       "\n",
       "    # Share a X axis with each column of subplots\n",
       "    plt.subplots(2, 2, sharex='col')\n",
       "\n",
       "    # Share a Y axis with each row of subplots\n",
       "    plt.subplots(2, 2, sharey='row')\n",
       "\n",
       "    # Share both X and Y axes with all subplots\n",
       "    plt.subplots(2, 2, sharex='all', sharey='all')\n",
       "\n",
       "    # Note that this is the same as\n",
       "    plt.subplots(2, 2, sharex=True, sharey=True)\n",
       "\n",
       "    # Create figure number 10 with a single subplot\n",
       "    # and clears it if it already exists.\n",
       "    fig, ax = plt.subplots(num=10, clear=True)\n",
       "\u001b[0;31mFile:\u001b[0m      /Applications/anaconda3/lib/python3.8/site-packages/matplotlib/pyplot.py\n",
       "\u001b[0;31mType:\u001b[0m      function\n"
      ]
     },
     "metadata": {},
     "output_type": "display_data"
    }
   ],
   "source": []
  },
  {
   "cell_type": "code",
   "execution_count": null,
   "metadata": {},
   "outputs": [],
   "source": []
  }
 ],
 "metadata": {
  "kernelspec": {
   "display_name": "Python 3",
   "language": "python",
   "name": "python3"
  },
  "language_info": {
   "codemirror_mode": {
    "name": "ipython",
    "version": 3
   },
   "file_extension": ".py",
   "mimetype": "text/x-python",
   "name": "python",
   "nbconvert_exporter": "python",
   "pygments_lexer": "ipython3",
   "version": "3.8.5"
  }
 },
 "nbformat": 4,
 "nbformat_minor": 4
}
