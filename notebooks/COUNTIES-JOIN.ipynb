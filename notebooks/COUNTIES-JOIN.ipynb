{
 "cells": [
  {
   "cell_type": "code",
   "execution_count": null,
   "metadata": {},
   "outputs": [],
   "source": [
    "# I want to fact-check the February 2021 visualization from the Heritage foundation, \n",
    "# on their website with almost no commentary,\n",
    "# https://datavisualizations.heritage.org/public-health/one-percent-of-us-counties-account-for-bulk-of-covid-19-deaths/\n",
    "# \"Through January 31, there have been 433,401 deaths in the U.S. from COVID-19, but a significant \n",
    "#  proportion of those have occurred in just a handful of counties. In fact, the 30 counties with \n",
    "#  the most deaths represent 1 percent of all counties, 21 percent of the total U.S. population, \n",
    "#  and 28 percent of all U.S. deaths.\""
   ]
  },
  {
   "cell_type": "code",
   "execution_count": null,
   "metadata": {},
   "outputs": [],
   "source": [
    "# The CDC has an API to serve county-level cases and deaths data:\n",
    "# https://data.cdc.gov/NCHS/Provisional-COVID-19-Deaths-by-County-and-Race-and/k8wy-p9cg\n",
    "\n",
    "# Initial tests suggest, though, that the data does not reach back to January 2021.\n",
    "# Update 202"
   ]
  },
  {
   "cell_type": "code",
   "execution_count": null,
   "metadata": {},
   "outputs": [],
   "source": [
    "# There is a huge, updated database on the NY Times github page:\n",
    "# https://github.com/nytimes/covid-19-data \n",
    "\n",
    "# That contains a 75-Mb file us-counties.csv."
   ]
  },
  {
   "cell_type": "code",
   "execution_count": null,
   "metadata": {},
   "outputs": [],
   "source": [
    "import pandas as pd\n",
    "import numpy as np\n",
    "import matplotlib.pyplot as plt\n",
    "counties = pd.read_csv(\"../data/us-counties.csv\")"
   ]
  },
  {
   "cell_type": "code",
   "execution_count": null,
   "metadata": {},
   "outputs": [],
   "source": [
    "counties.head()"
   ]
  },
  {
   "cell_type": "code",
   "execution_count": null,
   "metadata": {},
   "outputs": [],
   "source": [
    "counties.sample(5)"
   ]
  },
  {
   "cell_type": "code",
   "execution_count": null,
   "metadata": {},
   "outputs": [],
   "source": [
    "# Let us grab just the slice of deaths representing Cook Co:\n",
    "cookco = counties.loc[np.where( counties.fips == 17031)]"
   ]
  },
  {
   "cell_type": "code",
   "execution_count": null,
   "metadata": {},
   "outputs": [],
   "source": [
    "len(cookco)"
   ]
  },
  {
   "cell_type": "code",
   "execution_count": null,
   "metadata": {},
   "outputs": [],
   "source": [
    "# 600 data points.. less than two years.. check.\n",
    "plt.plot(cookco.date, cookco.deaths)"
   ]
  },
  {
   "cell_type": "code",
   "execution_count": null,
   "metadata": {},
   "outputs": [],
   "source": [
    "# That took a long time and seems like it was plotting nominal time data.   \n",
    "# Search engine, \"pandas to date format,\" please?\n",
    "# https://pandas.pydata.org/docs/reference/api/pandas.to_datetime.html\n",
    "# Thanks."
   ]
  },
  {
   "cell_type": "code",
   "execution_count": null,
   "metadata": {},
   "outputs": [],
   "source": [
    "d = pd.to_datetime(counties[\"date\"])\n"
   ]
  },
  {
   "cell_type": "code",
   "execution_count": null,
   "metadata": {},
   "outputs": [],
   "source": [
    "d\n"
   ]
  },
  {
   "cell_type": "code",
   "execution_count": null,
   "metadata": {},
   "outputs": [],
   "source": [
    "counties[\"date\"] = d\n",
    "# Note, I'm overwriting the data by reformatting it here."
   ]
  },
  {
   "cell_type": "code",
   "execution_count": null,
   "metadata": {},
   "outputs": [],
   "source": [
    "cookco = counties.loc[np.where( counties.fips == 17031)]"
   ]
  },
  {
   "cell_type": "code",
   "execution_count": null,
   "metadata": {},
   "outputs": [],
   "source": [
    "plt.plot(cookco.date, cookco.deaths)"
   ]
  },
  {
   "cell_type": "code",
   "execution_count": null,
   "metadata": {},
   "outputs": [],
   "source": [
    "# Now everyone stare at this for a minute.  What is this the graph of ?"
   ]
  },
  {
   "cell_type": "code",
   "execution_count": null,
   "metadata": {},
   "outputs": [],
   "source": [
    "#  A:  This is the cumulative sum of a bimodal distribution;\n",
    "# There were two waves of high death rate separated by \n",
    "# periods of quiet. "
   ]
  },
  {
   "cell_type": "code",
   "execution_count": null,
   "metadata": {},
   "outputs": [],
   "source": [
    "# Let us plot per-day deaths:"
   ]
  },
  {
   "cell_type": "code",
   "execution_count": null,
   "metadata": {},
   "outputs": [],
   "source": [
    "plt.plot(cookco.date[1:], np.diff(cookco.deaths))"
   ]
  },
  {
   "cell_type": "code",
   "execution_count": null,
   "metadata": {},
   "outputs": [],
   "source": [
    "# It's a little noisy.  Differences between points 7 \n",
    "# days apart will automatically average over 7-day intervals:"
   ]
  },
  {
   "cell_type": "code",
   "execution_count": null,
   "metadata": {},
   "outputs": [],
   "source": [
    "smooth = cookco[\"deaths\"] - cookco[\"deaths\"].shift(7)"
   ]
  },
  {
   "cell_type": "code",
   "execution_count": null,
   "metadata": {},
   "outputs": [],
   "source": [
    "cookco.deaths.head()"
   ]
  },
  {
   "cell_type": "code",
   "execution_count": null,
   "metadata": {},
   "outputs": [],
   "source": [
    "cookco.deaths.shift(7).head(15)"
   ]
  },
  {
   "cell_type": "code",
   "execution_count": null,
   "metadata": {},
   "outputs": [],
   "source": []
  },
  {
   "cell_type": "code",
   "execution_count": null,
   "metadata": {},
   "outputs": [],
   "source": [
    "plt.plot(cookco.date, smooth)"
   ]
  },
  {
   "cell_type": "code",
   "execution_count": null,
   "metadata": {
    "tags": []
   },
   "outputs": [],
   "source": [
    "# This is overplotting.  (Is overplotting bad?)"
   ]
  },
  {
   "cell_type": "code",
   "execution_count": null,
   "metadata": {},
   "outputs": [],
   "source": [
    "plt.plot(cookco.date[::7], smooth[::7])"
   ]
  },
  {
   "cell_type": "code",
   "execution_count": null,
   "metadata": {},
   "outputs": [],
   "source": [
    "# Note a few things.\n",
    "# 1. The scale changed, we're plotting weekly deaths now.\n",
    "# 2. There are 7 data points per week, and each data point represents\n",
    "# the preceding 7 days reporting--so the area under the graph is 7x \n",
    "# the true death rate.  This isn't exactly deceptive, but I don't want\n",
    "# to fool myself either."
   ]
  },
  {
   "cell_type": "code",
   "execution_count": null,
   "metadata": {},
   "outputs": [],
   "source": [
    "# There is an initial wave of deaths in spring 2020, and a \n",
    "# second wave of roughly equal intensity November-March 2021."
   ]
  },
  {
   "cell_type": "code",
   "execution_count": null,
   "metadata": {},
   "outputs": [],
   "source": [
    "cookco.deaths"
   ]
  },
  {
   "cell_type": "code",
   "execution_count": null,
   "metadata": {},
   "outputs": [],
   "source": [
    "len(counties)"
   ]
  },
  {
   "cell_type": "code",
   "execution_count": null,
   "metadata": {},
   "outputs": [],
   "source": [
    "# And there were 650 days, so about this many countes\n",
    "len(counties)/650"
   ]
  },
  {
   "cell_type": "code",
   "execution_count": null,
   "metadata": {},
   "outputs": [],
   "source": [
    "# Take subset of the data at one point in time for comparison to Heritage\n",
    "febdata = counties.loc[np.where(counties.date ==\"2021-01-31\")]"
   ]
  },
  {
   "cell_type": "code",
   "execution_count": null,
   "metadata": {},
   "outputs": [],
   "source": [
    "len(febdata)"
   ]
  },
  {
   "cell_type": "code",
   "execution_count": null,
   "metadata": {},
   "outputs": [],
   "source": [
    "# If I encounter a TypeError at this stage, it is becuase I can't compare an ISO8601 \n",
    "# date string to an np.datetime64-typed object."
   ]
  },
  {
   "cell_type": "code",
   "execution_count": null,
   "metadata": {},
   "outputs": [],
   "source": [
    "febdata = counties.loc[np.where(counties.date ==np.datetime64(\"2021-01-31\"))]"
   ]
  },
  {
   "cell_type": "code",
   "execution_count": null,
   "metadata": {},
   "outputs": [],
   "source": [
    "len(febdata)"
   ]
  },
  {
   "cell_type": "code",
   "execution_count": null,
   "metadata": {},
   "outputs": [],
   "source": [
    "febdata.head()"
   ]
  },
  {
   "cell_type": "code",
   "execution_count": null,
   "metadata": {},
   "outputs": [],
   "source": [
    "febdata.deaths.sum()"
   ]
  },
  {
   "cell_type": "code",
   "execution_count": null,
   "metadata": {},
   "outputs": [],
   "source": [
    "# This is more than 433,401 deaths quoted on the Heratige site, but \n",
    "# we are clearly in the right ballpark here; the 8000 deaths might be \n",
    "# differences in the territorial scope of their query or the data may\n",
    "# have been revised upward by 1.7%.  Onward!"
   ]
  },
  {
   "cell_type": "code",
   "execution_count": null,
   "metadata": {},
   "outputs": [],
   "source": [
    "plt.hist(febdata.deaths, bins=100)"
   ]
  },
  {
   "cell_type": "code",
   "execution_count": null,
   "metadata": {},
   "outputs": [],
   "source": [
    "# Ack.  That's not very expressive, is it?\n",
    "# In vanilla matplotlib, you have to draw your own bins if you want a nice log-histogram.\n",
    "\n",
    "# https://stackoverflow.com/questions/47850202/plotting-a-histogram-on-a-log-scale-with-matplotlib\n",
    "    \n",
    "plt.hist(np.log(febdata.deaths) / np.log(10), bins=100)"
   ]
  },
  {
   "cell_type": "code",
   "execution_count": null,
   "metadata": {},
   "outputs": [],
   "source": [
    "# This is a \"can't take logarithm of zero\" error.\n",
    "# I can fix (for now) by adding one one-hundredth\n",
    "# and remembering that counties with .01 deaths \n",
    "# reported zero or NaN deaths in the database.\n",
    "plt.hist(np.log(febdata.deaths + .01) / np.log(10), bins=100)\n"
   ]
  },
  {
   "cell_type": "code",
   "execution_count": null,
   "metadata": {},
   "outputs": [],
   "source": [
    "# So I have to make my own logarithmicly spaced histogram bins.\n",
    "bins = np.exp(np.arange(-1,4,.05))"
   ]
  },
  {
   "cell_type": "code",
   "execution_count": null,
   "metadata": {},
   "outputs": [],
   "source": [
    "plt.hist(febdata.deaths , bins=bins )\n",
    "plt.xscale(\"log\")"
   ]
  },
  {
   "cell_type": "code",
   "execution_count": null,
   "metadata": {},
   "outputs": [],
   "source": [
    "# What happened to my monomodal distribution?\n",
    "# Domain is wrong.. only 10^(-0.5) to 10^2"
   ]
  },
  {
   "cell_type": "code",
   "execution_count": null,
   "metadata": {},
   "outputs": [],
   "source": [
    "# Try coarser bins?\n",
    "bins = np.exp(np.arange(-1,4,.1))\n",
    "plt.hist(febdata.deaths , bins=bins )\n",
    "plt.xscale(\"log\")"
   ]
  },
  {
   "cell_type": "code",
   "execution_count": null,
   "metadata": {},
   "outputs": [],
   "source": [
    "# That's still not right.  Am I using arange wrong?"
   ]
  },
  {
   "cell_type": "code",
   "execution_count": null,
   "metadata": {},
   "outputs": [],
   "source": [
    "bins"
   ]
  },
  {
   "cell_type": "code",
   "execution_count": null,
   "metadata": {},
   "outputs": [],
   "source": [
    "# That's not the right range.  I wanted 10^(-1) to 10^4.\n",
    "# I wanted to use logs base 10, but forgot that the \n",
    "# inverse of log base 10 is not np.exp, it's np.power(10,x)"
   ]
  },
  {
   "cell_type": "code",
   "execution_count": null,
   "metadata": {},
   "outputs": [],
   "source": [
    "bins = np.power(10, np.arange(-1,4,.1) )\n",
    "plt.hist(febdata.deaths , bins=bins )\n",
    "plt.xscale(\"log\")\n",
    "plt.xlabel(\"per-county deaths\")"
   ]
  },
  {
   "cell_type": "code",
   "execution_count": null,
   "metadata": {},
   "outputs": [],
   "source": [
    "# And it looks like now we're silently ignoring \n",
    "# the counties with no deaths becuase they're offscale:"
   ]
  },
  {
   "cell_type": "code",
   "execution_count": null,
   "metadata": {},
   "outputs": [],
   "source": [
    "bins = np.power(10, np.arange(-1,4,.1) )\n",
    "plt.hist(febdata.deaths+.1 , bins=bins )\n",
    "plt.xscale(\"log\")\n",
    "plt.xlabel(\"per-county deaths\")"
   ]
  },
  {
   "cell_type": "code",
   "execution_count": null,
   "metadata": {},
   "outputs": [],
   "source": [
    "# This log-histogram really robs me of any sense of what the \n",
    "# distribution is actually like.\n",
    "# Can we plot deaths by county's death rank?\n",
    "deathsbycounty = febdata.sort_values(\"deaths\")"
   ]
  },
  {
   "cell_type": "code",
   "execution_count": null,
   "metadata": {},
   "outputs": [],
   "source": [
    "plt.plot(np.arange(len(deathsbycounty)), deathsbycounty.deaths)\n",
    "plt.xlabel(\"County death rank\")\n",
    "plt.ylabel(\"Per-county cumulative COVID deaths, Feb 2021\")"
   ]
  },
  {
   "cell_type": "code",
   "execution_count": null,
   "metadata": {},
   "outputs": [],
   "source": [
    "# Rrr.  This still does not make me think I understand.  \n",
    "# This is not a very expressive graph--one county has 27000 \n",
    "# deaths, there are 3100 counties; I can tell little else,\n",
    "# least of all the total body count.\n"
   ]
  },
  {
   "cell_type": "code",
   "execution_count": null,
   "metadata": {},
   "outputs": [],
   "source": [
    "# Wait a sec, one county with 27,000 deaths, does that make sense?\n",
    "# The largest county on Heratige's page was LA County with only 17,000."
   ]
  },
  {
   "cell_type": "code",
   "execution_count": null,
   "metadata": {},
   "outputs": [],
   "source": [
    "counties.sort_values(\"deaths\")"
   ]
  },
  {
   "cell_type": "code",
   "execution_count": null,
   "metadata": {},
   "outputs": [],
   "source": [
    "# These NaN values for deaths are getting in my way, I'm going to reset them\n",
    "# to zero now.\n",
    "counties[np.isnan(counties.deaths)] =0"
   ]
  },
  {
   "cell_type": "code",
   "execution_count": null,
   "metadata": {},
   "outputs": [],
   "source": [
    "# And I better update the data frames representing convenient subsets too\n",
    "febdata = counties.loc[np.where(counties.date ==np.datetime64(\"2021-01-31\"))]\n",
    "cookco = counties.loc[np.where( counties.fips == 17031)]\n",
    "deathsbycounty = febdata.sort_values(\"deaths\")"
   ]
  },
  {
   "cell_type": "code",
   "execution_count": null,
   "metadata": {},
   "outputs": [],
   "source": [
    "counties.sort_values(\"deaths\")"
   ]
  },
  {
   "cell_type": "code",
   "execution_count": null,
   "metadata": {},
   "outputs": [],
   "source": [
    "# Now I can see the deathmost counties.  NYC has its own codepoint.\n",
    "# Check.. is NYC counted twice ?"
   ]
  },
  {
   "cell_type": "code",
   "execution_count": null,
   "metadata": {},
   "outputs": [],
   "source": [
    "\"Queens\" in counties.county.values"
   ]
  },
  {
   "cell_type": "code",
   "execution_count": null,
   "metadata": {},
   "outputs": [],
   "source": [
    "\"Kings\" in counties.county.values"
   ]
  },
  {
   "cell_type": "code",
   "execution_count": null,
   "metadata": {},
   "outputs": [],
   "source": [
    "counties.loc[np.where(counties.county == \"Kings\")]"
   ]
  },
  {
   "cell_type": "code",
   "execution_count": null,
   "metadata": {},
   "outputs": [],
   "source": [
    "counties.loc[np.where(counties.county == \"Kings\")][\"state\"].value_counts()"
   ]
  },
  {
   "cell_type": "code",
   "execution_count": null,
   "metadata": {},
   "outputs": [],
   "source": [
    "# Now I am convinced that we are not double-counting NYC.\n",
    "# Our data source does not give us borough-level detail tho."
   ]
  },
  {
   "cell_type": "code",
   "execution_count": null,
   "metadata": {},
   "outputs": [],
   "source": [
    "# The legend says \"cumulative\"\n",
    "# meaning cumulative by time.  Let's try cumulative by county. "
   ]
  },
  {
   "cell_type": "code",
   "execution_count": null,
   "metadata": {},
   "outputs": [],
   "source": [
    "plt.plot(np.arange(len(deathsbycounty)), np.cumsum(deathsbycounty.deaths))\n",
    "plt.xlabel(\"County death rank\")\n",
    "plt.ylabel(\"Per-county cumulative COVID deaths, Feb 2021\")"
   ]
  },
  {
   "cell_type": "code",
   "execution_count": null,
   "metadata": {},
   "outputs": [],
   "source": [
    "plt.plot(np.arange(len(deathsbycounty)), np.cumsum(deathsbycounty.deaths.sort_values(ascending=False)))\n",
    "plt.xlabel(\"County death rank\")\n",
    "plt.ylabel(\"Per-county cumulative COVID deaths, Feb 2021\")"
   ]
  },
  {
   "cell_type": "code",
   "execution_count": null,
   "metadata": {},
   "outputs": [],
   "source": [
    "# Let us plot these side-by-side\n",
    "plt.figure(figsize=(14,6))\n",
    "plt.subplot(121)\n",
    "plt.plot(np.arange(len(deathsbycounty)), np.cumsum(deathsbycounty.deaths.sort_values(ascending=True)))\n",
    "plt.xlabel(\"County size rank\")\n",
    "plt.ylabel(\"Per-county cumulative COVID deaths, Feb 2021\")\n",
    "plt.subplot(122)\n",
    "plt.plot(np.arange(len(deathsbycounty)), np.cumsum(deathsbycounty.deaths.sort_values(ascending=False)))\n",
    "plt.xlabel(\"County size rank\")\n",
    "plt.ylabel(\"Per-county cumulative COVID deaths, Feb 2021\")"
   ]
  },
  {
   "cell_type": "code",
   "execution_count": null,
   "metadata": {},
   "outputs": [],
   "source": [
    "# This is getting closer.  Clearly more than half of deaths are in a \n",
    "# small fracton of the counties; on linear scales, these graphs\n",
    "# are the same, but counting from largest to smallest vs. smallest\n",
    "# to largest matters if you want to transform either axis by,\n",
    "# for instance, logarithmic scaling."
   ]
  },
  {
   "cell_type": "code",
   "execution_count": null,
   "metadata": {},
   "outputs": [],
   "source": [
    "# top 30 counties, fraction of deaths?\n",
    "deathsbycounty.head()"
   ]
  },
  {
   "cell_type": "code",
   "execution_count": null,
   "metadata": {},
   "outputs": [],
   "source": [
    "deathsbycounty[-30:]"
   ]
  },
  {
   "cell_type": "code",
   "execution_count": null,
   "metadata": {},
   "outputs": [],
   "source": [
    "np.sum(deathsbycounty.deaths[-30:]) / np.sum(deathsbycounty.deaths)"
   ]
  },
  {
   "cell_type": "code",
   "execution_count": null,
   "metadata": {},
   "outputs": [],
   "source": [
    "np.sum(deathsbycounty.deaths[-30:])"
   ]
  },
  {
   "cell_type": "code",
   "execution_count": null,
   "metadata": {},
   "outputs": [],
   "source": [
    "counties.sort_values(\"deaths\")[-10:]"
   ]
  },
  {
   "cell_type": "code",
   "execution_count": null,
   "metadata": {},
   "outputs": [],
   "source": [
    "deathsbycounty[-10:]"
   ]
  },
  {
   "cell_type": "code",
   "execution_count": null,
   "metadata": {},
   "outputs": [],
   "source": [
    "# Now we need to go fetch population by county \n",
    "# This table purports to assemble 2020 census data in a usable table\n",
    "# https://github.com/nytimes/covid-19-data/issues/180\n",
    "population = pd.read_json(\"https://raw.githubusercontent.com/Zoooook/CoronavirusTimelapse/master/static/population.json\")"
   ]
  },
  {
   "cell_type": "code",
   "execution_count": null,
   "metadata": {},
   "outputs": [],
   "source": [
    "population.head()"
   ]
  },
  {
   "cell_type": "code",
   "execution_count": null,
   "metadata": {},
   "outputs": [],
   "source": [
    "population.sample(5)"
   ]
  },
  {
   "cell_type": "code",
   "execution_count": null,
   "metadata": {},
   "outputs": [],
   "source": [
    "population.population.sum()"
   ]
  },
  {
   "cell_type": "code",
   "execution_count": null,
   "metadata": {},
   "outputs": [],
   "source": [
    "# 326 million.. this is more recent than the 2010 census then."
   ]
  },
  {
   "cell_type": "code",
   "execution_count": null,
   "metadata": {},
   "outputs": [],
   "source": []
  },
  {
   "cell_type": "code",
   "execution_count": null,
   "metadata": {},
   "outputs": [],
   "source": [
    "countiesbypop = population.population.sort_values(ascending=False)"
   ]
  },
  {
   "cell_type": "code",
   "execution_count": null,
   "metadata": {},
   "outputs": [],
   "source": [
    "plt.plot(np.arange(len(countiesbypop)), countiesbypop)"
   ]
  },
  {
   "cell_type": "code",
   "execution_count": null,
   "metadata": {},
   "outputs": [],
   "source": [
    "plt.plot(np.arange(len(countiesbypop)), np.cumsum(countiesbypop))\n",
    "plt.xlabel(\"County population rank\")\n",
    "plt.ylabel(\"Cumulative population\")"
   ]
  },
  {
   "cell_type": "code",
   "execution_count": null,
   "metadata": {},
   "outputs": [],
   "source": [
    "deathsbycountyrev = febdata.deaths.sort_values(ascending=False)"
   ]
  },
  {
   "cell_type": "code",
   "execution_count": null,
   "metadata": {},
   "outputs": [],
   "source": [
    "plt.plot(np.arange(len(countiesbypop)), np.cumsum(countiesbypop))\n",
    "plt.plot(np.arange(len(deathsbycountyrev)), np.cumsum(deathsbycountyrev))"
   ]
  },
  {
   "cell_type": "code",
   "execution_count": null,
   "metadata": {},
   "outputs": [],
   "source": [
    "# -1 point for not being expressive.  326 million and 400k don't\n",
    "# fit on the same graph.  Log transform?"
   ]
  },
  {
   "cell_type": "code",
   "execution_count": null,
   "metadata": {},
   "outputs": [],
   "source": [
    "plt.plot(np.arange(len(countiesbypop)), np.cumsum(countiesbypop))\n",
    "plt.plot(np.arange(len(deathsbycountyrev)), np.cumsum(deathsbycountyrev))\n",
    "plt.yscale(\"log\")"
   ]
  },
  {
   "cell_type": "code",
   "execution_count": null,
   "metadata": {},
   "outputs": [],
   "source": [
    "# I am being intellecutally dishonest here, watch out. \n",
    "# Because I've not joined the two tables on the fips county id yet,\n",
    "# I am presenting two sorted series of counties \n",
    "# that have been sorted by different columns\n",
    "# as if they are the same.  One is sorted by population;\n",
    "# one is sorted by deaths.  But each row has its own identity, \n",
    "# and there is a one-to-one relationship betwen population and\n",
    "# deaths that I have NOT yet shown."
   ]
  },
  {
   "cell_type": "code",
   "execution_count": null,
   "metadata": {},
   "outputs": [],
   "source": [
    "population.head(1)"
   ]
  },
  {
   "cell_type": "code",
   "execution_count": null,
   "metadata": {},
   "outputs": [],
   "source": [
    "febdata.head(1)"
   ]
  },
  {
   "cell_type": "code",
   "execution_count": null,
   "metadata": {},
   "outputs": [],
   "source": [
    "# I have to note that the deaths data encodes fips as a \n",
    "# floating point number, while the population data enocdes \n",
    "# it as an integer.  This is probably enough to prevent me\n",
    "# from joining it.  \n"
   ]
  },
  {
   "cell_type": "code",
   "execution_count": null,
   "metadata": {},
   "outputs": [],
   "source": [
    "febdata.fips.dtype"
   ]
  },
  {
   "cell_type": "code",
   "execution_count": null,
   "metadata": {},
   "outputs": [],
   "source": [
    "# can I recast it as an integer?\n",
    "febdata.fips.astype(\"int64\")"
   ]
  },
  {
   "cell_type": "code",
   "execution_count": null,
   "metadata": {},
   "outputs": [],
   "source": [
    "# There are some bad values in there."
   ]
  },
  {
   "cell_type": "code",
   "execution_count": null,
   "metadata": {},
   "outputs": [],
   "source": [
    "# Can I ignore errors?\n",
    "fips= febdata.fips.astype(\"int64\", errors=\"ignore\")"
   ]
  },
  {
   "cell_type": "code",
   "execution_count": null,
   "metadata": {},
   "outputs": [],
   "source": [
    "fips.head()"
   ]
  },
  {
   "cell_type": "code",
   "execution_count": null,
   "metadata": {},
   "outputs": [],
   "source": [
    "fips.dtype"
   ]
  },
  {
   "cell_type": "code",
   "execution_count": null,
   "metadata": {},
   "outputs": [],
   "source": [
    "# No.  If I ignore errors the result isn't in an integer data type. \n",
    "fips= febdata.fips.astype(np.int64, errors=\"ignore\")\n",
    "fips.dtype"
   ]
  },
  {
   "cell_type": "code",
   "execution_count": null,
   "metadata": {},
   "outputs": [],
   "source": []
  },
  {
   "cell_type": "code",
   "execution_count": null,
   "metadata": {},
   "outputs": [],
   "source": [
    "# How many bad values are there?"
   ]
  },
  {
   "cell_type": "code",
   "execution_count": null,
   "metadata": {},
   "outputs": [],
   "source": [
    "np.isinf(fips).sum()"
   ]
  },
  {
   "cell_type": "code",
   "execution_count": null,
   "metadata": {},
   "outputs": [],
   "source": [
    "np.isnan(fips).sum()"
   ]
  },
  {
   "cell_type": "code",
   "execution_count": null,
   "metadata": {},
   "outputs": [],
   "source": [
    "# Let's look at them:\n",
    "counties.loc[np.isnan(counties.fips)]"
   ]
  },
  {
   "cell_type": "code",
   "execution_count": null,
   "metadata": {},
   "outputs": [],
   "source": [
    "# Ugh oh.  These are deaths I probably want to count, despite\n",
    "# the fact that I won't be able to join them with population.  \n",
    "# Only 29 bad fips fields in febdata:"
   ]
  },
  {
   "cell_type": "code",
   "execution_count": null,
   "metadata": {},
   "outputs": [],
   "source": [
    "febdata.loc[np.isnan(febdata.fips)]"
   ]
  },
  {
   "cell_type": "code",
   "execution_count": null,
   "metadata": {},
   "outputs": [],
   "source": [
    "febdata.loc[np.isnan(febdata.fips)].deaths.sum()"
   ]
  },
  {
   "cell_type": "code",
   "execution_count": null,
   "metadata": {},
   "outputs": [],
   "source": [
    "# Amounting to 31,000 deaths."
   ]
  },
  {
   "cell_type": "code",
   "execution_count": null,
   "metadata": {},
   "outputs": [],
   "source": [
    "27138.0+1829.0"
   ]
  },
  {
   "cell_type": "code",
   "execution_count": null,
   "metadata": {},
   "outputs": [],
   "source": [
    "febdata.fips.value_counts()"
   ]
  },
  {
   "cell_type": "code",
   "execution_count": null,
   "metadata": {},
   "outputs": [],
   "source": [
    "# 31,000 deaths, almost all of which are from NYC and Puerto Rico.\n",
    "# I'm willing to treat them as special cases."
   ]
  },
  {
   "cell_type": "code",
   "execution_count": null,
   "metadata": {},
   "outputs": [],
   "source": [
    "# Some trial-and-error suggests that I must fix NaN's first,\n",
    "# then change the type to int.\n",
    "febdata.loc[np.isnan(febdata.fips),\"fips\"] = 999999\n",
    "fips = febdata.fips.astype(np.int64)\n",
    "fips.dtype"
   ]
  },
  {
   "cell_type": "code",
   "execution_count": null,
   "metadata": {},
   "outputs": [],
   "source": [
    "fips.head()"
   ]
  },
  {
   "cell_type": "code",
   "execution_count": null,
   "metadata": {},
   "outputs": [],
   "source": [
    "np.isnan(febdata.fips).sum()"
   ]
  },
  {
   "cell_type": "code",
   "execution_count": null,
   "metadata": {},
   "outputs": [],
   "source": [
    "febdata[\"fips\"] = febdata.fips.astype(np.int64)"
   ]
  },
  {
   "cell_type": "code",
   "execution_count": null,
   "metadata": {},
   "outputs": [],
   "source": [
    "np.isnan(counties.fips).sum()"
   ]
  },
  {
   "cell_type": "code",
   "execution_count": null,
   "metadata": {},
   "outputs": [],
   "source": [
    "counties.head(1)"
   ]
  },
  {
   "cell_type": "code",
   "execution_count": null,
   "metadata": {},
   "outputs": [],
   "source": [
    "# That seemed to work for febdata, apply to counties\n",
    "counties.loc[np.isnan(counties.fips),\"fips\"] = 999999"
   ]
  },
  {
   "cell_type": "code",
   "execution_count": null,
   "metadata": {},
   "outputs": [],
   "source": [
    "np.isnan(counties.fips).sum()"
   ]
  },
  {
   "cell_type": "code",
   "execution_count": null,
   "metadata": {},
   "outputs": [],
   "source": [
    "counties[\"fips\"] = counties.fips.astype(np.int64)\n",
    "counties.fips.dtype"
   ]
  },
  {
   "cell_type": "code",
   "execution_count": null,
   "metadata": {},
   "outputs": [],
   "source": [
    "febdata.loc[np.isnan(febdata.fips)]"
   ]
  },
  {
   "cell_type": "code",
   "execution_count": null,
   "metadata": {},
   "outputs": [],
   "source": [
    "population.loc[population.region == \"Puerto Rico\"]"
   ]
  },
  {
   "cell_type": "code",
   "execution_count": null,
   "metadata": {},
   "outputs": [],
   "source": [
    "population.loc[population.subregion == \"New York City\"]"
   ]
  },
  {
   "cell_type": "code",
   "execution_count": null,
   "metadata": {},
   "outputs": [],
   "source": [
    "febdata[febdata.county == \"New York City\"]"
   ]
  },
  {
   "cell_type": "code",
   "execution_count": null,
   "metadata": {},
   "outputs": [],
   "source": [
    "febdata.loc[febdata.county == \"New York City\",\"fips\"] = 36998"
   ]
  },
  {
   "cell_type": "code",
   "execution_count": null,
   "metadata": {},
   "outputs": [],
   "source": [
    "# and I should change this for PR and counties too\n",
    "febdata.loc[febdata.state == \"Puerto Rico\",\"fips\"] = 72999\n",
    "counties.loc[counties.county == \"New York City\",\"fips\"] = 36998\n",
    "counties.loc[counties.state == \"Puerto Rico\",\"fips\"] = 72999\n"
   ]
  },
  {
   "cell_type": "code",
   "execution_count": null,
   "metadata": {},
   "outputs": [],
   "source": [
    "febdata.head(1)"
   ]
  },
  {
   "cell_type": "code",
   "execution_count": null,
   "metadata": {},
   "outputs": [],
   "source": [
    "febdata.fips.dtype"
   ]
  },
  {
   "cell_type": "code",
   "execution_count": null,
   "metadata": {},
   "outputs": [],
   "source": [
    "population.head(1)"
   ]
  },
  {
   "cell_type": "code",
   "execution_count": null,
   "metadata": {},
   "outputs": [],
   "source": [
    "# duplicate the field with a different name for convenience\n",
    "population[\"fips\"]= population.us_county_fips"
   ]
  },
  {
   "cell_type": "code",
   "execution_count": null,
   "metadata": {},
   "outputs": [],
   "source": [
    "deathswithpop= counties.join(population, \"fips\")"
   ]
  },
  {
   "cell_type": "code",
   "execution_count": null,
   "metadata": {},
   "outputs": [],
   "source": [
    "# No suffix specified.. ok, here's a suffix\n",
    "deathswithpop= counties.join(population, \"fips\", rsuffix=\"_pop\")"
   ]
  },
  {
   "cell_type": "code",
   "execution_count": null,
   "metadata": {},
   "outputs": [],
   "source": [
    "deathswithpop.head(2)"
   ]
  },
  {
   "cell_type": "code",
   "execution_count": null,
   "metadata": {},
   "outputs": [],
   "source": [
    "# Well maybe it never joins Snohomish county for some reason...\n",
    "deathswithpop.loc[::1000]"
   ]
  },
  {
   "cell_type": "code",
   "execution_count": null,
   "metadata": {},
   "outputs": [],
   "source": [
    "#  Most of these are not joined\n",
    "plt.plot(deathswithpop.deaths, deathswithpop.population)"
   ]
  },
  {
   "cell_type": "code",
   "execution_count": null,
   "metadata": {},
   "outputs": [],
   "source": [
    "# Turn off the lines...\n",
    "plt.plot(deathswithpop.population, deathswithpop.deaths,'.')"
   ]
  },
  {
   "cell_type": "code",
   "execution_count": null,
   "metadata": {},
   "outputs": [],
   "source": [
    "# loglog plot..\n",
    "plt.plot(deathswithpop.population, deathswithpop.deaths,'.')\n",
    "plt.xscale(\"log\"); plt.yscale(\"log\")"
   ]
  },
  {
   "cell_type": "code",
   "execution_count": null,
   "metadata": {},
   "outputs": [],
   "source": [
    "# This does not look right. County population should not have\n",
    "# many values for well-separated points in the middle of the domain.\n",
    "# Unless I'm plotting all the time points on top of each other.  D'oh.\n",
    "\n",
    "febdata = deathswithpop.loc[np.where(deathswithpop.date ==np.datetime64(\"2021-01-31\"))]"
   ]
  },
  {
   "cell_type": "code",
   "execution_count": null,
   "metadata": {},
   "outputs": [],
   "source": [
    "# Check that numbers add up!\n",
    "febdata.population.sum()"
   ]
  },
  {
   "cell_type": "code",
   "execution_count": null,
   "metadata": {},
   "outputs": [],
   "source": [
    "febdata.deaths.sum()"
   ]
  },
  {
   "cell_type": "code",
   "execution_count": null,
   "metadata": {},
   "outputs": [],
   "source": [
    "# All the deaths, but almost none of the population.  7M / 326M "
   ]
  },
  {
   "cell_type": "code",
   "execution_count": null,
   "metadata": {},
   "outputs": [],
   "source": []
  },
  {
   "cell_type": "code",
   "execution_count": null,
   "metadata": {},
   "outputs": [],
   "source": [
    "# Let's spot-check Wyandotte County, KS.  Why did it not join?\n",
    "population.loc[np.where(population.subregion==\"Wyandotte\")]"
   ]
  },
  {
   "cell_type": "code",
   "execution_count": null,
   "metadata": {},
   "outputs": [],
   "source": [
    "counties.loc[ np.where(counties.county == \"Wyandotte\")]"
   ]
  },
  {
   "cell_type": "code",
   "execution_count": null,
   "metadata": {},
   "outputs": [],
   "source": [
    "deathswithpop= counties.join(population, \"fips\", rsuffix=\"_pop\")\n",
    "deathswithpop[::10000]"
   ]
  },
  {
   "cell_type": "code",
   "execution_count": null,
   "metadata": {},
   "outputs": [],
   "source": [
    "# Not joined\n",
    "deathswithpop.deaths.sum()"
   ]
  },
  {
   "cell_type": "code",
   "execution_count": null,
   "metadata": {},
   "outputs": [],
   "source": [
    "deathswithpop.head()"
   ]
  },
  {
   "cell_type": "code",
   "execution_count": null,
   "metadata": {},
   "outputs": [],
   "source": [
    "feb = deathswithpop.loc[np.where(deathswithpop.date ==np.datetime64(\"2021-01-31\"))]\n"
   ]
  },
  {
   "cell_type": "code",
   "execution_count": null,
   "metadata": {},
   "outputs": [],
   "source": [
    "len(feb)"
   ]
  },
  {
   "cell_type": "code",
   "execution_count": null,
   "metadata": {},
   "outputs": [],
   "source": [
    "feb.population.sum()"
   ]
  },
  {
   "cell_type": "code",
   "execution_count": null,
   "metadata": {},
   "outputs": [],
   "source": [
    "len(feb[feb.population>0])"
   ]
  },
  {
   "cell_type": "code",
   "execution_count": null,
   "metadata": {},
   "outputs": [],
   "source": [
    "# A little bit of a puzzle why only 94 counties out of 3169 joined.\n",
    "# Search engine...\n",
    "# https://stackoverflow.com/questions/10114399/pandas-simple-join-not-working\n",
    "# Use pd.DataFrame.merge; pd.join pays too much attention to indexes, and we often\n",
    "# want to join on data columns that aren't suitable indexes.\n",
    "\n",
    "deathswithpop= counties.merge(population, on=\"fips\")\n",
    "feb = deathswithpop.loc[np.where(deathswithpop.date ==np.datetime64(\"2021-01-31\"))]\n"
   ]
  },
  {
   "cell_type": "code",
   "execution_count": null,
   "metadata": {},
   "outputs": [],
   "source": [
    "feb.population.sum()"
   ]
  },
  {
   "cell_type": "code",
   "execution_count": null,
   "metadata": {},
   "outputs": [],
   "source": [
    "feb.deaths.sum()"
   ]
  },
  {
   "cell_type": "code",
   "execution_count": null,
   "metadata": {},
   "outputs": [],
   "source": [
    "# So we lost a million population and two thousand deaths, but most rows merged!"
   ]
  },
  {
   "cell_type": "code",
   "execution_count": null,
   "metadata": {},
   "outputs": [],
   "source": [
    "len(feb.loc[feb.population>0])"
   ]
  },
  {
   "cell_type": "code",
   "execution_count": null,
   "metadata": {},
   "outputs": [],
   "source": [
    "feb.head()"
   ]
  },
  {
   "cell_type": "code",
   "execution_count": null,
   "metadata": {},
   "outputs": [],
   "source": [
    "feb[::100]"
   ]
  },
  {
   "cell_type": "code",
   "execution_count": null,
   "metadata": {},
   "outputs": [],
   "source": [
    "# I am now satisfied that my table is joined."
   ]
  },
  {
   "cell_type": "code",
   "execution_count": null,
   "metadata": {},
   "outputs": [],
   "source": [
    "feb[\"percapitadeaths\"] = feb.deaths / feb.population"
   ]
  },
  {
   "cell_type": "code",
   "execution_count": null,
   "metadata": {},
   "outputs": [],
   "source": [
    "plt.scatter(feb.population, feb.deaths)\n",
    "plt.xlabel(\"County Population\")\n",
    "plt.ylabel(\"County Deaths\")"
   ]
  },
  {
   "cell_type": "code",
   "execution_count": null,
   "metadata": {},
   "outputs": [],
   "source": [
    "plt.loglog(feb.population, feb.deaths,'.')\n",
    "plt.xlabel(\"County Population\")\n",
    "plt.ylabel(\"County Deaths\")"
   ]
  },
  {
   "cell_type": "code",
   "execution_count": null,
   "metadata": {},
   "outputs": [],
   "source": [
    "# What do you see in this graph?\n"
   ]
  },
  {
   "cell_type": "code",
   "execution_count": null,
   "metadata": {},
   "outputs": [],
   "source": [
    "# Just for kicks... histogram of per capita death rate?\n",
    "plt.hist (feb.percapitadeaths, bins=100)\n",
    "plt.xlabel(\"Per capita death rate\")"
   ]
  },
  {
   "cell_type": "code",
   "execution_count": null,
   "metadata": {},
   "outputs": [],
   "source": [
    "# This looks believable, but this is not the graph on which \n",
    "# we will find the truth. \n",
    "# WE ARE COUNTING THE WRONG THINGS, as usual.\n",
    "# Imagine the headline \"50% of counties report death rates above\n",
    "feb.percapitadeaths.median()\n",
    "# .00134  ( one death per 742 population).  This generalizes how?\n",
    "# The counties do not all have the same weights."
   ]
  },
  {
   "cell_type": "code",
   "execution_count": null,
   "metadata": {},
   "outputs": [],
   "source": [
    "# To get at the Heritige Foundation's implicit question -- how can we show\n",
    "# the difference between death toll in large and small (population, before-the-fact)\n",
    "# counties, I suggest plotting cumulative population (small to large) against \n",
    "# cumulative deaths."
   ]
  },
  {
   "cell_type": "code",
   "execution_count": null,
   "metadata": {},
   "outputs": [],
   "source": [
    "plt.plot(feb.population.cumsum())"
   ]
  },
  {
   "cell_type": "code",
   "execution_count": null,
   "metadata": {},
   "outputs": [],
   "source": [
    "# Och, forgot to sort by population.\n",
    "plt.plot( feb.population.sort_values(ascending=True).cumsum())"
   ]
  },
  {
   "cell_type": "code",
   "execution_count": null,
   "metadata": {},
   "outputs": [],
   "source": [
    "# Uh, what?   \n",
    "feb.population.sort_values()"
   ]
  },
  {
   "cell_type": "code",
   "execution_count": null,
   "metadata": {},
   "outputs": [],
   "source": [
    "# plt.plot wants to plot using the index.  ok.  I can plot against rank with np.arange(len(feb.population)"
   ]
  },
  {
   "cell_type": "code",
   "execution_count": null,
   "metadata": {},
   "outputs": [],
   "source": [
    "# This gives me cumulative population from smallest to biggest... \n",
    "plt.subplot(121);\n",
    "plt.plot(np.arange(len(feb.population)), feb.population.sort_values(ascending=True).cumsum())\n",
    "# And biggest to smallest... \n",
    "\n",
    "plt.subplot(122)\n",
    "plt.plot(np.arange(len(feb.population)), feb.population.sort_values(ascending=False).cumsum())"
   ]
  },
  {
   "cell_type": "code",
   "execution_count": null,
   "metadata": {},
   "outputs": [],
   "source": [
    "# Consider (as the Heratige people did) this as a data transformation: \n",
    "# this exaggerates small counties by changing the x-axis."
   ]
  },
  {
   "cell_type": "code",
   "execution_count": null,
   "metadata": {},
   "outputs": [],
   "source": [
    "# but I'm using sort_values on feb.population (a series); I need the whole dataframe for \n",
    "# the next step. \n",
    "plt.subplot(121);\n",
    "plt.plot(np.arange(len(feb.population)), feb.sort_values(\"population\", ascending=True).population.cumsum())\n",
    "plt.subplot(122)\n",
    "plt.plot(np.arange(len(feb.population)), feb.sort_values(\"population\", ascending=False).population.cumsum())"
   ]
  },
  {
   "cell_type": "code",
   "execution_count": null,
   "metadata": {},
   "outputs": [],
   "source": [
    "# This gives me the same thing, but also gives me access to deaths in the same order.\n",
    "# but I'm using sort_values on feb.population (a series); I need the whole dataframe for \n",
    "# the next step. \n",
    "plt.subplot(121);\n",
    "plt.plot(np.arange(len(feb.population)), feb.sort_values(\"population\", ascending=True).population.cumsum())\n",
    "plt.plot(np.arange(len(feb.population)), feb.sort_values(\"population\", ascending=True).deaths.cumsum())\n",
    "plt.subplot(122)\n",
    "plt.plot(np.arange(len(feb.population)), feb.sort_values(\"population\", ascending=False).population.cumsum())\n",
    "plt.plot(np.arange(len(feb.population)), feb.sort_values(\"population\", ascending=False).deaths.cumsum())\n"
   ]
  },
  {
   "cell_type": "code",
   "execution_count": null,
   "metadata": {},
   "outputs": [],
   "source": [
    "# Make it logarithmic just to make sure we have what we expect\n",
    "plt.subplot(121);\n",
    "plt.plot(np.arange(len(feb.population)), feb.sort_values(\"population\", ascending=True).population.cumsum())\n",
    "plt.plot(np.arange(len(feb.population)), feb.sort_values(\"population\", ascending=True).deaths.cumsum())\n",
    "plt.ylabel(\"Cumulative population\")\n",
    "plt.xlabel(\"County population rank (small to large)\")\n",
    "plt.yscale(\"log\")\n",
    "plt.subplot(122)\n",
    "plt.plot(np.arange(len(feb.population)), feb.sort_values(\"population\", ascending=False).population.cumsum())\n",
    "plt.plot(np.arange(len(feb.population)), feb.sort_values(\"population\", ascending=False).deaths.cumsum())\n",
    "plt.yscale(\"log\")\n",
    "#plt.ylabel(\"Cumulative population\")\n",
    "plt.xlabel(\"County population rank (large to small)\")\n"
   ]
  },
  {
   "cell_type": "code",
   "execution_count": null,
   "metadata": {},
   "outputs": [],
   "source": [
    "# And now for the finish, plot cumulative population vs. cumulative deaths.\n",
    "# Before we plot it, we expect it will go from 0,0 to 326M, 411k.\n",
    "plt.figure(figsize=(16,8))\n",
    "plt.subplot(121);\n",
    "plt.plot( feb.sort_values(\"population\", ascending=True).population.cumsum(), feb.sort_values(\"population\", ascending=True).deaths.cumsum())\n",
    "plt.xlabel(\"cumulative of population, smallest to largest counties (326M)\")\n",
    "plt.ylabel(\"cumulative of COVID deaths n = 411k\")\n",
    "\n",
    "plt.subplot(122)\n",
    "plt.plot( feb.sort_values(\"population\", ascending=False).population.cumsum(), feb.sort_values(\"population\", ascending=False).deaths.cumsum())\n",
    "plt.xlabel(\"cumulative of population, largest to smallest counties (326M)\")\n",
    "plt.ylabel(\"cumulative COVID deaths (Feb 2021) n = 411k\")\n"
   ]
  },
  {
   "cell_type": "code",
   "execution_count": null,
   "metadata": {},
   "outputs": [],
   "source": [
    "# ?!?!?!"
   ]
  },
  {
   "cell_type": "code",
   "execution_count": null,
   "metadata": {},
   "outputs": [],
   "source": [
    "# I'm using calculus to make my data smoother.\n",
    "# Yeah, there's a tiny kink on the left hand corner, but we kind of already knew that\n",
    "# King County, WA, and NYC were the hardest hit by the disease in Q1 2020.  "
   ]
  },
  {
   "cell_type": "code",
   "execution_count": null,
   "metadata": {},
   "outputs": [],
   "source": [
    "# add line at constant-fraction-population-deaths\n",
    "\n",
    "plt.figure(figsize=(16,8))\n",
    "plt.subplot(121);\n",
    "plt.plot( feb.sort_values(\"population\", ascending=True).population.cumsum() / feb.population.sum(), feb.sort_values(\"population\", ascending=True).deaths.cumsum()/feb.deaths.sum())\n",
    "plt.xlabel(\"fraction of population, smallest to largest counties (326M)\")\n",
    "plt.ylabel(\"fraction of COVID deaths n = 411k\")\n",
    "\n",
    "plt.plot([0,1],[0,1])\n",
    "plt.subplot(122)\n",
    "plt.plot( feb.sort_values(\"population\", ascending=False).population.cumsum() / feb.population.sum(), feb.sort_values(\"population\", ascending=False).deaths.cumsum()/feb.deaths.sum())\n",
    "plt.xlabel(\"fraction of population, largest to smallest counties (326M)\")\n",
    "plt.ylabel(\"fraction of COVID deaths n=411k\")\n",
    "\n",
    "plt.plot([0,1],[0,1])"
   ]
  },
  {
   "cell_type": "code",
   "execution_count": null,
   "metadata": {},
   "outputs": [],
   "source": [
    "# This is an honest visualization, but \n",
    "# I was not expecting to see this.  \n",
    "\n",
    "# All right, I was shocked that the effect size seems so small."
   ]
  },
  {
   "cell_type": "code",
   "execution_count": null,
   "metadata": {},
   "outputs": [],
   "source": [
    "# The effect is real, but seems smaller than we were led to believe.  (Hard to judge from graph)\n",
    "# Note these two graphs have the same shape, just flipped up and down and left and right.\n",
    "# On the right-hand graph, we see that large counties are in fact harder hit, \n",
    "# and that the third of the population in the smallest counties had lower-than-overall\n",
    "# death rates.   \n",
    "\n",
    "# Hmm.  How to make this deceptive?  \n",
    "\n",
    "# A:  Sort by after-the-fact deaths by county (something you should never do)\n"
   ]
  },
  {
   "cell_type": "code",
   "execution_count": null,
   "metadata": {},
   "outputs": [],
   "source": [
    "plt.figure(figsize=(16,8))\n",
    "plt.subplot(121);\n",
    "plt.plot( feb.sort_values(\"deaths\", ascending=True).population.cumsum() / feb.population.sum(), feb.sort_values(\"deaths\", ascending=True).deaths.cumsum()/feb.deaths.sum())\n",
    "plt.xlabel(\"fraction of population, fewest to most death counties (326M)\")\n",
    "plt.ylabel(\"fraction of COVID deaths n = 411k\")\n",
    "\n",
    "plt.plot([0,1],[0,1])\n",
    "plt.subplot(122)\n",
    "plt.plot( feb.sort_values(\"deaths\", ascending=False).population.cumsum() / feb.population.sum(), feb.sort_values(\"deaths\", ascending=False).deaths.cumsum()/feb.deaths.sum())\n",
    "plt.xlabel(\"fraction of population, most deaths to least deaths counties (326M)\")\n",
    "plt.ylabel(\"fraction of COVID deaths n=411k\")\n",
    "\n",
    "plt.plot([0,1],[0,1])"
   ]
  },
  {
   "cell_type": "code",
   "execution_count": null,
   "metadata": {},
   "outputs": [],
   "source": [
    "# This is not as dramatic as I was expecting. \n",
    "# Let's see if it matches.\n",
    "#  65 counties most deaths - 31.9% US population 40.3% of deaths\n",
    "\n",
    "heritage = pd.DataFrame( {\n",
    "\"fracdeaths\": feb.sort_values(\"deaths\", ascending=False).deaths.cumsum() / feb.deaths.sum(),\n",
    "\"fracpopulation\": feb.sort_values(\"deaths\", ascending=False).population.cumsum() / feb.population.sum()\n",
    "})"
   ]
  },
  {
   "cell_type": "code",
   "execution_count": null,
   "metadata": {},
   "outputs": [],
   "source": [
    "heritage.index = np.arange(len(heritage))"
   ]
  },
  {
   "cell_type": "code",
   "execution_count": null,
   "metadata": {},
   "outputs": [],
   "source": [
    "heritage"
   ]
  },
  {
   "cell_type": "code",
   "execution_count": null,
   "metadata": {},
   "outputs": [],
   "source": [
    "heritage.loc[64]"
   ]
  },
  {
   "cell_type": "code",
   "execution_count": null,
   "metadata": {},
   "outputs": [],
   "source": [
    "heritage.loc[60]"
   ]
  },
  {
   "cell_type": "code",
   "execution_count": null,
   "metadata": {},
   "outputs": [],
   "source": [
    "#  65 counties most deaths - 31.9% US population 40.3% of deaths\n",
    "# This is a size of error that might be caused by consolidating \n",
    "# NYC's five boroughs.. \n",
    "\n",
    "# The difference at 40.3% of deaths is 0.5% of US population, \n",
    "# which is a difference of a county (or borough) of 1.6M population.\n",
    "# This isn't far enough off to make me sound the alarm.  \n",
    "\n",
    "# The deception was in sorting by the outcome of a random process."
   ]
  },
  {
   "cell_type": "code",
   "execution_count": null,
   "metadata": {},
   "outputs": [],
   "source": []
  },
  {
   "cell_type": "code",
   "execution_count": null,
   "metadata": {},
   "outputs": [],
   "source": [
    "# Maybe I can plot the difference betwen fraction population and fraction of deaths?\n",
    "plt.figure(figsize=(16,8))\n",
    "plt.subplot(121);\n",
    "plt.plot( feb.sort_values(\"deaths\", ascending=True).population.cumsum() / feb.population.sum(),    feb.sort_values(\"deaths\", ascending=True).deaths.cumsum()/feb.deaths.sum()- feb.sort_values(\"deaths\", ascending=True).population.cumsum() / feb.population.sum())\n",
    "plt.xlabel(\"fraction of population, least deaths to most death counties (326M)\")\n",
    "plt.ylabel(\"difference fraction of covid deaths to fraction of population \")\n",
    "\n",
    "plt.plot([0,1],[0,0])\n",
    "plt.subplot(122)\n",
    "plt.plot( feb.sort_values(\"population\", ascending=False).population.cumsum() / feb.population.sum(), feb.sort_values(\"population\", ascending=False).deaths.cumsum()/feb.deaths.sum()- feb.sort_values(\"population\", ascending=False).population.cumsum()/feb.population.sum( ))\n",
    "plt.xlabel(\"fraction of population, most populous to least populous counties (326M)\")\n",
    "plt.ylabel(\"difference fraction of covid deaths to fraction of population\")\n",
    "plt.plot([0,1],[0,0])\n",
    "\n"
   ]
  },
  {
   "cell_type": "code",
   "execution_count": null,
   "metadata": {},
   "outputs": [],
   "source": [
    "# And this relationship on the left was treated with a slider that\n",
    "# ran from 0 to 5% of population, and with another slider for the n\n",
    "# most-death counties that ran from 52% to 89%. "
   ]
  },
  {
   "cell_type": "code",
   "execution_count": null,
   "metadata": {},
   "outputs": [],
   "source": [
    "# Let us consider that histogram of per-county deaths..\n",
    "# It was weighted such that each county got one vote. \n",
    "bins = np.power(10, np.arange(-1,4,.1) )\n",
    "plt.hist(febdata.deaths , bins=bins )\n",
    "plt.xscale(\"log\")\n",
    "plt.xlabel(\"per-county deaths\")\n",
    "plt.ylabel(\"Number of counties\")"
   ]
  },
  {
   "cell_type": "code",
   "execution_count": null,
   "metadata": {},
   "outputs": [],
   "source": [
    "# We can add weights to the histogram to count people\n",
    "bins = np.power(10, np.arange(-1,4,.1) )\n",
    "plt.hist(feb.deaths+.1 , bins=bins, weights=feb.population )\n",
    "plt.xscale(\"log\")\n",
    "\n",
    "plt.xlabel(\"per-county deaths\")\n",
    "plt.ylabel(\"population in affected counties\")"
   ]
  },
  {
   "cell_type": "code",
   "execution_count": null,
   "metadata": {},
   "outputs": [],
   "source": [
    "# And plot them at the same time\n",
    "plt.figure(figsize=(8,8))\n",
    "plt.subplot(211)\n",
    "bins = np.power(10, np.arange(-1,4,.1) )\n",
    "plt.hist(feb.deaths+.1 , bins=bins, alpha=0.5 )\n",
    "plt.xscale(\"log\")\n",
    "plt.xlabel(\"per-county deaths\")\n",
    "plt.ylabel(\"number of counties\")\n",
    "plt.subplot(212)\n",
    "plt.hist(feb.deaths+.1 , bins=bins, weights=feb.population, alpha=0.5 )\n",
    "plt.xscale(\"log\")\n",
    "plt.xlabel(\"per-county deaths\")\n",
    "plt.ylabel(\"affected population\")\n",
    "\n"
   ]
  },
  {
   "cell_type": "code",
   "execution_count": null,
   "metadata": {
    "tags": []
   },
   "outputs": [],
   "source": []
  },
  {
   "cell_type": "code",
   "execution_count": null,
   "metadata": {},
   "outputs": [],
   "source": [
    "# These don't look as similar as one might want them to be.\n",
    "# The median county has 30 deaths but the median citizen \n",
    "# lives in a county with 300 deaths.  \n",
    "\n",
    "# Counting by county is bad."
   ]
  },
  {
   "cell_type": "code",
   "execution_count": null,
   "metadata": {},
   "outputs": [],
   "source": [
    "#rates?\n",
    "plt.figure(figsize=(8,12))\n",
    "plt.subplot(211)\n",
    "plt.hist(feb.percapitadeaths , alpha=0.5, bins=100 )\n",
    "plt.xlabel(\"per-capita COVID deaths (by county)\")\n",
    "plt.subplot(212)\n",
    "plt.hist(feb.percapitadeaths , weights=feb.population, alpha=0.5 , bins=100)\n",
    "plt.xlabel(\"per capita COVID deaths (by population)\")"
   ]
  },
  {
   "cell_type": "code",
   "execution_count": null,
   "metadata": {},
   "outputs": [],
   "source": [
    "# The effect here is not as strong, or is harder to see, but \n",
    "# this is the graph whose mean tells you how bad it is on average.\n",
    "\n",
    "# For kicks, let's calculate the center of mass of these two histograms..\n",
    "print (\"Average crude death rate, weighted by county   \", feb.percapitadeaths.mean())\n",
    "print (\"Average crude death rate, weigted by population\", (feb.percapitadeaths * feb.population).sum() / feb.population.sum())"
   ]
  },
  {
   "cell_type": "code",
   "execution_count": null,
   "metadata": {},
   "outputs": [],
   "source": [
    "# Couldn't have seen that difference just looking at ragged histograms"
   ]
  },
  {
   "cell_type": "code",
   "execution_count": null,
   "metadata": {},
   "outputs": [],
   "source": [
    "# I feel inspired to make variable-width bar charts from this death data. "
   ]
  },
  {
   "cell_type": "code",
   "execution_count": null,
   "metadata": {},
   "outputs": [],
   "source": [
    "# First, let me define some dummy data, and make sure I can plot this like a set\n",
    "# of boxes piled up in a mail room.\n",
    "d = pd.DataFrame ( {\n",
    "\"x\": [ 1,1,1,2,1,2,1,2,1,2],\n",
    "\"y\": [ 1,1,1,2,1,2,4,3,4,3]\n",
    "})"
   ]
  },
  {
   "cell_type": "code",
   "execution_count": null,
   "metadata": {},
   "outputs": [],
   "source": [
    "plt.bar(d.x.cumsum(),d.y, width=d.x)"
   ]
  },
  {
   "cell_type": "code",
   "execution_count": null,
   "metadata": {},
   "outputs": [],
   "source": [
    "# This does not look right; there are gaps between the boxes.  And the first box starts at 0.5, not at 0.\n",
    "d.x.cumsum()"
   ]
  },
  {
   "cell_type": "code",
   "execution_count": null,
   "metadata": {},
   "outputs": [],
   "source": [
    "# I want my x's to start at zero.."
   ]
  },
  {
   "cell_type": "code",
   "execution_count": null,
   "metadata": {},
   "outputs": [],
   "source": [
    "# create a dataframe for the x offsets\n",
    "xoff  = pd.DataFrame({\"x\":[0], \"y\":[0]}).append([d]).x.cumsum()[:-1]\n",
    "xoff"
   ]
  },
  {
   "cell_type": "code",
   "execution_count": null,
   "metadata": {},
   "outputs": [],
   "source": [
    "plt.bar(xoff, d.y, width=d.x)"
   ]
  },
  {
   "cell_type": "code",
   "execution_count": null,
   "metadata": {},
   "outputs": [],
   "source": [
    "# This is still not right; the middle of the boxes is being aligned with the cumulative sum just below each box.\n",
    "# The fix for this is plt.bar align=\"edge\""
   ]
  },
  {
   "cell_type": "code",
   "execution_count": null,
   "metadata": {},
   "outputs": [],
   "source": [
    "plt.bar(xoff, d.y, width=d.x, align=\"edge\")"
   ]
  },
  {
   "cell_type": "code",
   "execution_count": null,
   "metadata": {},
   "outputs": [],
   "source": [
    "# so this is my recipe for packing boxes into the moving van:\n",
    "# prepend data with 0\n",
    "# take cumulative sum and chop off final value\n",
    "# set width = values and align = \"edge\"\n"
   ]
  },
  {
   "cell_type": "code",
   "execution_count": null,
   "metadata": {},
   "outputs": [],
   "source": [
    "# There was a way to prepend the data with 0 with .shift()... it throws away the last data point.\n",
    "d"
   ]
  },
  {
   "cell_type": "code",
   "execution_count": null,
   "metadata": {},
   "outputs": [],
   "source": [
    "d.shift(1)"
   ]
  },
  {
   "cell_type": "code",
   "execution_count": null,
   "metadata": {},
   "outputs": [],
   "source": [
    "d.shift(1,fill_value=0)"
   ]
  },
  {
   "cell_type": "code",
   "execution_count": null,
   "metadata": {},
   "outputs": [],
   "source": [
    "# Well that seems to do it."
   ]
  },
  {
   "cell_type": "code",
   "execution_count": null,
   "metadata": {},
   "outputs": [],
   "source": [
    "cumpopoffset = feb.sort_values(\"population\").population.shift(1, fill_value=0).cumsum()\n",
    "plt.bar(cumpopoffset/1E6, feb.sort_values(\"population\").percapitadeaths, width=feb.sort_values(\"population\").population/1E6, align=\"edge\")\n",
    "plt.ylabel(\"per capita death rate\")\n",
    "plt.xlabel(\"US population affected (millions)\")"
   ]
  },
  {
   "cell_type": "code",
   "execution_count": null,
   "metadata": {},
   "outputs": [],
   "source": [
    "cumdeathoffset = feb.sort_values(\"deaths\").population.shift(1, fill_value=0).cumsum()\n",
    "plt.bar(cumdeathoffset/1E6, feb.sort_values(\"deaths\").percapitadeaths, width=feb.sort_values(\"deaths\").population/1E6, align=\"edge\")\n",
    "plt.ylabel(\"per capita death rate\")\n",
    "plt.xlabel(\"US population affected (millions)\")"
   ]
  },
  {
   "cell_type": "code",
   "execution_count": null,
   "metadata": {},
   "outputs": [],
   "source": [
    "cumpcoffset = feb.sort_values(\"percapitadeaths\").population.shift(1, fill_value=0).cumsum()\n",
    "plt.bar(cumpcoffset/1E6, feb.sort_values(\"percapitadeaths\").percapitadeaths, width=feb.sort_values(\"percapitadeaths\").population/1E6, align=\"edge\")\n",
    "plt.ylabel(\"per capita death rate\")\n",
    "plt.xlabel(\"US population affected (millions)\")"
   ]
  },
  {
   "cell_type": "code",
   "execution_count": null,
   "metadata": {},
   "outputs": [],
   "source": [
    "# And I show you this lovely S-shape as a warning, that when you see it, you \n",
    "# might remember that it represents random data that has been sorted, and that it\n",
    "# represents lies."
   ]
  },
  {
   "cell_type": "code",
   "execution_count": null,
   "metadata": {},
   "outputs": [],
   "source": [
    "feb.head()"
   ]
  },
  {
   "cell_type": "code",
   "execution_count": null,
   "metadata": {},
   "outputs": [],
   "source": [
    "(feb.deaths == 0 ).sum()"
   ]
  },
  {
   "cell_type": "code",
   "execution_count": null,
   "metadata": {},
   "outputs": [],
   "source": [
    "(feb.deaths == 1 ).sum()"
   ]
  }
 ],
 "metadata": {
  "kernelspec": {
   "display_name": "Python 3 (ipykernel)",
   "language": "python",
   "name": "python3"
  },
  "language_info": {
   "codemirror_mode": {
    "name": "ipython",
    "version": 3
   },
   "file_extension": ".py",
   "mimetype": "text/x-python",
   "name": "python",
   "nbconvert_exporter": "python",
   "pygments_lexer": "ipython3",
   "version": "3.11.5"
  }
 },
 "nbformat": 4,
 "nbformat_minor": 4
}
