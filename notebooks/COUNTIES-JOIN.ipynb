{
 "cells": [
  {
   "cell_type": "code",
   "execution_count": null,
   "metadata": {},
   "outputs": [],
   "source": [
    "# I want to fact-check the February 2021 visualization from the Heritage foundation, \n",
    "# on their website with almost no commentary,\n",
    "# https://datavisualizations.heritage.org/public-health/one-percent-of-us-counties-account-for-bulk-of-covid-19-deaths/\n",
    "# \"Through January 31, there have been 433,401 deaths in the U.S. from COVID-19, but a significant \n",
    "#  proportion of those have occurred in just a handful of counties. In fact, the 30 counties with \n",
    "#  the most deaths represent 1 percent of all counties, 21 percent of the total U.S. population, \n",
    "#  and 28 percent of all U.S. deaths.\""
   ]
  },
  {
   "cell_type": "code",
   "execution_count": null,
   "metadata": {},
   "outputs": [],
   "source": [
    "# The CDC has an API to serve county-level cases and deaths data:\n",
    "# https://data.cdc.gov/NCHS/Provisional-COVID-19-Deaths-by-County-and-Race-and/k8wy-p9cg\n",
    "\n",
    "# Initial tests suggest, though, that the data does not reach back to January 2021."
   ]
  },
  {
   "cell_type": "code",
   "execution_count": null,
   "metadata": {},
   "outputs": [],
   "source": [
    "# There is a huge, updated database on the NY Times github page:\n",
    "# https://github.com/nytimes/covid-19-data \n",
    "\n",
    "# That contains a 75-Mb file us-counties.csv."
   ]
  },
  {
   "cell_type": "code",
   "execution_count": 1,
   "metadata": {},
   "outputs": [],
   "source": [
    "import pandas as pd\n",
    "import numpy as np\n",
    "import matplotlib.pyplot as plt\n",
    "counties = pd.read_csv(\"us-counties.csv\")"
   ]
  },
  {
   "cell_type": "code",
   "execution_count": 2,
   "metadata": {},
   "outputs": [
    {
     "data": {
      "text/html": [
       "<div>\n",
       "<style scoped>\n",
       "    .dataframe tbody tr th:only-of-type {\n",
       "        vertical-align: middle;\n",
       "    }\n",
       "\n",
       "    .dataframe tbody tr th {\n",
       "        vertical-align: top;\n",
       "    }\n",
       "\n",
       "    .dataframe thead th {\n",
       "        text-align: right;\n",
       "    }\n",
       "</style>\n",
       "<table border=\"1\" class=\"dataframe\">\n",
       "  <thead>\n",
       "    <tr style=\"text-align: right;\">\n",
       "      <th></th>\n",
       "      <th>date</th>\n",
       "      <th>county</th>\n",
       "      <th>state</th>\n",
       "      <th>fips</th>\n",
       "      <th>cases</th>\n",
       "      <th>deaths</th>\n",
       "    </tr>\n",
       "  </thead>\n",
       "  <tbody>\n",
       "    <tr>\n",
       "      <th>0</th>\n",
       "      <td>2020-01-21</td>\n",
       "      <td>Snohomish</td>\n",
       "      <td>Washington</td>\n",
       "      <td>53061.0</td>\n",
       "      <td>1</td>\n",
       "      <td>0.0</td>\n",
       "    </tr>\n",
       "    <tr>\n",
       "      <th>1</th>\n",
       "      <td>2020-01-22</td>\n",
       "      <td>Snohomish</td>\n",
       "      <td>Washington</td>\n",
       "      <td>53061.0</td>\n",
       "      <td>1</td>\n",
       "      <td>0.0</td>\n",
       "    </tr>\n",
       "    <tr>\n",
       "      <th>2</th>\n",
       "      <td>2020-01-23</td>\n",
       "      <td>Snohomish</td>\n",
       "      <td>Washington</td>\n",
       "      <td>53061.0</td>\n",
       "      <td>1</td>\n",
       "      <td>0.0</td>\n",
       "    </tr>\n",
       "    <tr>\n",
       "      <th>3</th>\n",
       "      <td>2020-01-24</td>\n",
       "      <td>Cook</td>\n",
       "      <td>Illinois</td>\n",
       "      <td>17031.0</td>\n",
       "      <td>1</td>\n",
       "      <td>0.0</td>\n",
       "    </tr>\n",
       "    <tr>\n",
       "      <th>4</th>\n",
       "      <td>2020-01-24</td>\n",
       "      <td>Snohomish</td>\n",
       "      <td>Washington</td>\n",
       "      <td>53061.0</td>\n",
       "      <td>1</td>\n",
       "      <td>0.0</td>\n",
       "    </tr>\n",
       "  </tbody>\n",
       "</table>\n",
       "</div>"
      ],
      "text/plain": [
       "         date     county       state     fips  cases  deaths\n",
       "0  2020-01-21  Snohomish  Washington  53061.0      1     0.0\n",
       "1  2020-01-22  Snohomish  Washington  53061.0      1     0.0\n",
       "2  2020-01-23  Snohomish  Washington  53061.0      1     0.0\n",
       "3  2020-01-24       Cook    Illinois  17031.0      1     0.0\n",
       "4  2020-01-24  Snohomish  Washington  53061.0      1     0.0"
      ]
     },
     "execution_count": 2,
     "metadata": {},
     "output_type": "execute_result"
    }
   ],
   "source": [
    "counties.head()"
   ]
  },
  {
   "cell_type": "code",
   "execution_count": 4,
   "metadata": {},
   "outputs": [
    {
     "data": {
      "text/html": [
       "<div>\n",
       "<style scoped>\n",
       "    .dataframe tbody tr th:only-of-type {\n",
       "        vertical-align: middle;\n",
       "    }\n",
       "\n",
       "    .dataframe tbody tr th {\n",
       "        vertical-align: top;\n",
       "    }\n",
       "\n",
       "    .dataframe thead th {\n",
       "        text-align: right;\n",
       "    }\n",
       "</style>\n",
       "<table border=\"1\" class=\"dataframe\">\n",
       "  <thead>\n",
       "    <tr style=\"text-align: right;\">\n",
       "      <th></th>\n",
       "      <th>date</th>\n",
       "      <th>county</th>\n",
       "      <th>state</th>\n",
       "      <th>fips</th>\n",
       "      <th>cases</th>\n",
       "      <th>deaths</th>\n",
       "    </tr>\n",
       "  </thead>\n",
       "  <tbody>\n",
       "    <tr>\n",
       "      <th>1334021</th>\n",
       "      <td>2021-05-19</td>\n",
       "      <td>Livingston</td>\n",
       "      <td>Michigan</td>\n",
       "      <td>26093.0</td>\n",
       "      <td>16542</td>\n",
       "      <td>182.0</td>\n",
       "    </tr>\n",
       "    <tr>\n",
       "      <th>662971</th>\n",
       "      <td>2020-10-24</td>\n",
       "      <td>Portage</td>\n",
       "      <td>Ohio</td>\n",
       "      <td>39133.0</td>\n",
       "      <td>1687</td>\n",
       "      <td>68.0</td>\n",
       "    </tr>\n",
       "    <tr>\n",
       "      <th>1261995</th>\n",
       "      <td>2021-04-27</td>\n",
       "      <td>Stark</td>\n",
       "      <td>Illinois</td>\n",
       "      <td>17175.0</td>\n",
       "      <td>619</td>\n",
       "      <td>23.0</td>\n",
       "    </tr>\n",
       "    <tr>\n",
       "      <th>742329</th>\n",
       "      <td>2020-11-18</td>\n",
       "      <td>Washington</td>\n",
       "      <td>Florida</td>\n",
       "      <td>12133.0</td>\n",
       "      <td>1417</td>\n",
       "      <td>24.0</td>\n",
       "    </tr>\n",
       "    <tr>\n",
       "      <th>747966</th>\n",
       "      <td>2020-11-19</td>\n",
       "      <td>Maverick</td>\n",
       "      <td>Texas</td>\n",
       "      <td>48323.0</td>\n",
       "      <td>4690</td>\n",
       "      <td>169.0</td>\n",
       "    </tr>\n",
       "  </tbody>\n",
       "</table>\n",
       "</div>"
      ],
      "text/plain": [
       "               date      county     state     fips  cases  deaths\n",
       "1334021  2021-05-19  Livingston  Michigan  26093.0  16542   182.0\n",
       "662971   2020-10-24     Portage      Ohio  39133.0   1687    68.0\n",
       "1261995  2021-04-27       Stark  Illinois  17175.0    619    23.0\n",
       "742329   2020-11-18  Washington   Florida  12133.0   1417    24.0\n",
       "747966   2020-11-19    Maverick     Texas  48323.0   4690   169.0"
      ]
     },
     "execution_count": 4,
     "metadata": {},
     "output_type": "execute_result"
    }
   ],
   "source": [
    "counties.sample(5)"
   ]
  },
  {
   "cell_type": "code",
   "execution_count": 3,
   "metadata": {},
   "outputs": [],
   "source": [
    "# Let us grab just the slice of deaths representing Cook Co:\n",
    "cookco = counties.loc[np.where( counties.fips == 17031)]"
   ]
  },
  {
   "cell_type": "code",
   "execution_count": 4,
   "metadata": {},
   "outputs": [
    {
     "data": {
      "text/plain": [
       "648"
      ]
     },
     "execution_count": 4,
     "metadata": {},
     "output_type": "execute_result"
    }
   ],
   "source": [
    "len(cookco)"
   ]
  },
  {
   "cell_type": "code",
   "execution_count": 5,
   "metadata": {},
   "outputs": [
    {
     "data": {
      "text/plain": [
       "[<matplotlib.lines.Line2D at 0x7fb1488c8f10>]"
      ]
     },
     "execution_count": 5,
     "metadata": {},
     "output_type": "execute_result"
    },
    {
     "data": {
      "image/png": "[encoded data removed]",
      "text/plain": [
       "<Figure size 432x288 with 1 Axes>"
      ]
     },
     "metadata": {
      "needs_background": "light"
     },
     "output_type": "display_data"
    }
   ],
   "source": [
    "# 600 data points.. less than two years.. check.\n",
    "plt.plot(cookco.date, cookco.deaths)"
   ]
  },
  {
   "cell_type": "code",
   "execution_count": null,
   "metadata": {},
   "outputs": [],
   "source": [
    "# That took a long time and seems like it was plotting nominal time data.   \n",
    "# Search engine, \"pandas to date format,\" please?\n",
    "# https://pandas.pydata.org/docs/reference/api/pandas.to_datetime.html\n",
    "# Thanks."
   ]
  },
  {
   "cell_type": "code",
   "execution_count": 6,
   "metadata": {},
   "outputs": [],
   "source": [
    "d = pd.to_datetime(counties[\"date\"])\n"
   ]
  },
  {
   "cell_type": "code",
   "execution_count": null,
   "metadata": {},
   "outputs": [],
   "source": [
    "d\n"
   ]
  },
  {
   "cell_type": "code",
   "execution_count": 7,
   "metadata": {},
   "outputs": [],
   "source": [
    "counties[\"date\"] = d\n",
    "# Note, I'm overwriting the data by reformatting it here."
   ]
  },
  {
   "cell_type": "code",
   "execution_count": 8,
   "metadata": {},
   "outputs": [],
   "source": [
    "cookco = counties.loc[np.where( counties.fips == 17031)]"
   ]
  },
  {
   "cell_type": "code",
   "execution_count": 9,
   "metadata": {},
   "outputs": [
    {
     "data": {
      "text/plain": [
       "[<matplotlib.lines.Line2D at 0x7fb1490814c0>]"
      ]
     },
     "execution_count": 9,
     "metadata": {},
     "output_type": "execute_result"
    },
    {
     "data": {
      "image/png": "[encoded data removed]",
      "text/plain": [
       "<Figure size 432x288 with 1 Axes>"
      ]
     },
     "metadata": {
      "needs_background": "light"
     },
     "output_type": "display_data"
    }
   ],
   "source": [
    "plt.plot(cookco.date, cookco.deaths)"
   ]
  },
  {
   "cell_type": "code",
   "execution_count": null,
   "metadata": {},
   "outputs": [],
   "source": [
    "# Now everyone stare at this for a minute.  What is this the graph of ?"
   ]
  },
  {
   "cell_type": "code",
   "execution_count": null,
   "metadata": {},
   "outputs": [],
   "source": [
    "#  A:  This is the cumulative sum of a bimodal distribution;\n",
    "# There were two waves of high death rate separated by \n",
    "# periods of quiet. "
   ]
  },
  {
   "cell_type": "code",
   "execution_count": null,
   "metadata": {},
   "outputs": [],
   "source": [
    "# Let us plot per-day deaths:"
   ]
  },
  {
   "cell_type": "code",
   "execution_count": 10,
   "metadata": {},
   "outputs": [
    {
     "data": {
      "text/plain": [
       "[<matplotlib.lines.Line2D at 0x7fb149179a60>]"
      ]
     },
     "execution_count": 10,
     "metadata": {},
     "output_type": "execute_result"
    },
    {
     "data": {
      "image/png": "[encoded data removed]",
      "text/plain": [
       "<Figure size 432x288 with 1 Axes>"
      ]
     },
     "metadata": {
      "needs_background": "light"
     },
     "output_type": "display_data"
    }
   ],
   "source": [
    "plt.plot(cookco.date[1:], np.diff(cookco.deaths))"
   ]
  },
  {
   "cell_type": "code",
   "execution_count": null,
   "metadata": {},
   "outputs": [],
   "source": [
    "# It's a little noisy.  Differences between points 7 \n",
    "# days apart will automatically average over 7-day intervals:"
   ]
  },
  {
   "cell_type": "code",
   "execution_count": 11,
   "metadata": {},
   "outputs": [],
   "source": [
    "smooth = cookco[\"deaths\"] - cookco[\"deaths\"].shift(7)"
   ]
  },
  {
   "cell_type": "code",
   "execution_count": 12,
   "metadata": {},
   "outputs": [
    {
     "data": {
      "text/plain": [
       "3     0.0\n",
       "6     0.0\n",
       "11    0.0\n",
       "16    0.0\n",
       "21    0.0\n",
       "Name: deaths, dtype: float64"
      ]
     },
     "execution_count": 12,
     "metadata": {},
     "output_type": "execute_result"
    }
   ],
   "source": [
    "cookco.deaths.head()"
   ]
  },
  {
   "cell_type": "code",
   "execution_count": 14,
   "metadata": {},
   "outputs": [
    {
     "data": {
      "text/plain": [
       "3     NaN\n",
       "6     NaN\n",
       "11    NaN\n",
       "16    NaN\n",
       "21    NaN\n",
       "26    NaN\n",
       "31    NaN\n",
       "37    0.0\n",
       "43    0.0\n",
       "51    0.0\n",
       "59    0.0\n",
       "67    0.0\n",
       "75    0.0\n",
       "84    0.0\n",
       "93    0.0\n",
       "Name: deaths, dtype: float64"
      ]
     },
     "execution_count": 14,
     "metadata": {},
     "output_type": "execute_result"
    }
   ],
   "source": [
    "cookco.deaths.shift(7).head(15)"
   ]
  },
  {
   "cell_type": "code",
   "execution_count": null,
   "metadata": {},
   "outputs": [],
   "source": []
  },
  {
   "cell_type": "code",
   "execution_count": 15,
   "metadata": {},
   "outputs": [
    {
     "data": {
      "text/plain": [
       "[<matplotlib.lines.Line2D at 0x7fb14cf43730>]"
      ]
     },
     "execution_count": 15,
     "metadata": {},
     "output_type": "execute_result"
    },
    {
     "data": {
      "image/png": "[encoded data removed]",
      "text/plain": [
       "<Figure size 432x288 with 1 Axes>"
      ]
     },
     "metadata": {
      "needs_background": "light"
     },
     "output_type": "display_data"
    }
   ],
   "source": [
    "plt.plot(cookco.date, smooth)"
   ]
  },
  {
   "cell_type": "code",
   "execution_count": 16,
   "metadata": {},
   "outputs": [
    {
     "data": {
      "text/plain": [
       "[<matplotlib.lines.Line2D at 0x7fb14d064ee0>]"
      ]
     },
     "execution_count": 16,
     "metadata": {},
     "output_type": "execute_result"
    },
    {
     "data": {
      "image/png": "[encoded data removed]",
      "text/plain": [
       "<Figure size 432x288 with 1 Axes>"
      ]
     },
     "metadata": {
      "needs_background": "light"
     },
     "output_type": "display_data"
    }
   ],
   "source": [
    "plt.plot(cookco.date[::7], smooth[::7])"
   ]
  },
  {
   "cell_type": "code",
   "execution_count": null,
   "metadata": {},
   "outputs": [],
   "source": [
    "# Note a few things.\n",
    "# 1. The scale changed, we're plotting weekly deaths now.\n",
    "# 2. There are 7 data points per week, and each data point represents\n",
    "# the preceding 7 days reporting--so the area under the graph is 7x \n",
    "# the true death rate.  This isn't exactly deceptive, but I don't want\n",
    "# to fool myself either."
   ]
  },
  {
   "cell_type": "code",
   "execution_count": null,
   "metadata": {},
   "outputs": [],
   "source": [
    "# There is an initial wave of deaths in spring 2020, and a \n",
    "# second wave of roughly equal intensity November-March 2021."
   ]
  },
  {
   "cell_type": "code",
   "execution_count": 17,
   "metadata": {},
   "outputs": [
    {
     "data": {
      "text/plain": [
       "3              0.0\n",
       "6              0.0\n",
       "11             0.0\n",
       "16             0.0\n",
       "21             0.0\n",
       "            ...   \n",
       "1859470    11823.0\n",
       "1862719    11826.0\n",
       "1865968    11826.0\n",
       "1869217    11826.0\n",
       "1872466    11844.0\n",
       "Name: deaths, Length: 648, dtype: float64"
      ]
     },
     "execution_count": 17,
     "metadata": {},
     "output_type": "execute_result"
    }
   ],
   "source": [
    "cookco.deaths"
   ]
  },
  {
   "cell_type": "code",
   "execution_count": null,
   "metadata": {},
   "outputs": [],
   "source": [
    "len(counties)"
   ]
  },
  {
   "cell_type": "code",
   "execution_count": null,
   "metadata": {},
   "outputs": [],
   "source": [
    "# And there were 650 days, so about this many countes\n",
    "len(counties)/650"
   ]
  },
  {
   "cell_type": "code",
   "execution_count": null,
   "metadata": {},
   "outputs": [],
   "source": [
    "# Take subset of the data at one point in time for comparison to Heritage\n",
    "febdata = counties.loc[np.where(counties.date ==\"2021-01-31\")]"
   ]
  },
  {
   "cell_type": "code",
   "execution_count": null,
   "metadata": {},
   "outputs": [],
   "source": [
    "len(febdata)"
   ]
  },
  {
   "cell_type": "code",
   "execution_count": null,
   "metadata": {},
   "outputs": [],
   "source": [
    "# If I encounter a TypeError at this stage, it is becuase I can't compare an ISO8601 \n",
    "# date string to an np.datetime64-typed object."
   ]
  },
  {
   "cell_type": "code",
   "execution_count": 18,
   "metadata": {},
   "outputs": [],
   "source": [
    "febdata = counties.loc[np.where(counties.date ==np.datetime64(\"2021-01-31\"))]"
   ]
  },
  {
   "cell_type": "code",
   "execution_count": 19,
   "metadata": {},
   "outputs": [
    {
     "data": {
      "text/plain": [
       "3247"
      ]
     },
     "execution_count": 19,
     "metadata": {},
     "output_type": "execute_result"
    }
   ],
   "source": [
    "len(febdata)"
   ]
  },
  {
   "cell_type": "code",
   "execution_count": 20,
   "metadata": {},
   "outputs": [
    {
     "data": {
      "text/html": [
       "<div>\n",
       "<style scoped>\n",
       "    .dataframe tbody tr th:only-of-type {\n",
       "        vertical-align: middle;\n",
       "    }\n",
       "\n",
       "    .dataframe tbody tr th {\n",
       "        vertical-align: top;\n",
       "    }\n",
       "\n",
       "    .dataframe thead th {\n",
       "        text-align: right;\n",
       "    }\n",
       "</style>\n",
       "<table border=\"1\" class=\"dataframe\">\n",
       "  <thead>\n",
       "    <tr style=\"text-align: right;\">\n",
       "      <th></th>\n",
       "      <th>date</th>\n",
       "      <th>county</th>\n",
       "      <th>state</th>\n",
       "      <th>fips</th>\n",
       "      <th>cases</th>\n",
       "      <th>deaths</th>\n",
       "    </tr>\n",
       "  </thead>\n",
       "  <tbody>\n",
       "    <tr>\n",
       "      <th>982097</th>\n",
       "      <td>2021-01-31</td>\n",
       "      <td>Autauga</td>\n",
       "      <td>Alabama</td>\n",
       "      <td>1001.0</td>\n",
       "      <td>5669</td>\n",
       "      <td>69.0</td>\n",
       "    </tr>\n",
       "    <tr>\n",
       "      <th>982098</th>\n",
       "      <td>2021-01-31</td>\n",
       "      <td>Baldwin</td>\n",
       "      <td>Alabama</td>\n",
       "      <td>1003.0</td>\n",
       "      <td>18126</td>\n",
       "      <td>224.0</td>\n",
       "    </tr>\n",
       "    <tr>\n",
       "      <th>982099</th>\n",
       "      <td>2021-01-31</td>\n",
       "      <td>Barbour</td>\n",
       "      <td>Alabama</td>\n",
       "      <td>1005.0</td>\n",
       "      <td>1951</td>\n",
       "      <td>40.0</td>\n",
       "    </tr>\n",
       "    <tr>\n",
       "      <th>982100</th>\n",
       "      <td>2021-01-31</td>\n",
       "      <td>Bibb</td>\n",
       "      <td>Alabama</td>\n",
       "      <td>1007.0</td>\n",
       "      <td>2307</td>\n",
       "      <td>52.0</td>\n",
       "    </tr>\n",
       "    <tr>\n",
       "      <th>982101</th>\n",
       "      <td>2021-01-31</td>\n",
       "      <td>Blount</td>\n",
       "      <td>Alabama</td>\n",
       "      <td>1009.0</td>\n",
       "      <td>5713</td>\n",
       "      <td>100.0</td>\n",
       "    </tr>\n",
       "  </tbody>\n",
       "</table>\n",
       "</div>"
      ],
      "text/plain": [
       "             date   county    state    fips  cases  deaths\n",
       "982097 2021-01-31  Autauga  Alabama  1001.0   5669    69.0\n",
       "982098 2021-01-31  Baldwin  Alabama  1003.0  18126   224.0\n",
       "982099 2021-01-31  Barbour  Alabama  1005.0   1951    40.0\n",
       "982100 2021-01-31     Bibb  Alabama  1007.0   2307    52.0\n",
       "982101 2021-01-31   Blount  Alabama  1009.0   5713   100.0"
      ]
     },
     "execution_count": 20,
     "metadata": {},
     "output_type": "execute_result"
    }
   ],
   "source": [
    "febdata.head()"
   ]
  },
  {
   "cell_type": "code",
   "execution_count": 21,
   "metadata": {},
   "outputs": [
    {
     "data": {
      "text/plain": [
       "441299.0"
      ]
     },
     "execution_count": 21,
     "metadata": {},
     "output_type": "execute_result"
    }
   ],
   "source": [
    "febdata.deaths.sum()"
   ]
  },
  {
   "cell_type": "code",
   "execution_count": null,
   "metadata": {},
   "outputs": [],
   "source": [
    "# This is more than 433,401 deaths quoted on the Heratige site, but \n",
    "# we are clearly in the right ballpark here; the 8000 deaths might be \n",
    "# differences in the territorial scope of their query or the data may\n",
    "# have been revised upward by 1.7%.  Onward!"
   ]
  },
  {
   "cell_type": "code",
   "execution_count": 22,
   "metadata": {},
   "outputs": [
    {
     "data": {
      "text/plain": [
       "(array([2.879e+03, 1.410e+02, 6.300e+01, 1.700e+01, 1.900e+01, 1.000e+01,\n",
       "        1.100e+01, 9.000e+00, 2.000e+00, 4.000e+00, 3.000e+00, 3.000e+00,\n",
       "        1.000e+00, 0.000e+00, 1.000e+00, 1.000e+00, 0.000e+00, 1.000e+00,\n",
       "        0.000e+00, 0.000e+00, 0.000e+00, 0.000e+00, 0.000e+00, 0.000e+00,\n",
       "        0.000e+00, 0.000e+00, 0.000e+00, 1.000e+00, 0.000e+00, 0.000e+00,\n",
       "        0.000e+00, 0.000e+00, 0.000e+00, 0.000e+00, 1.000e+00, 0.000e+00,\n",
       "        0.000e+00, 0.000e+00, 0.000e+00, 0.000e+00, 0.000e+00, 0.000e+00,\n",
       "        0.000e+00, 0.000e+00, 0.000e+00, 0.000e+00, 0.000e+00, 0.000e+00,\n",
       "        0.000e+00, 0.000e+00, 0.000e+00, 0.000e+00, 0.000e+00, 0.000e+00,\n",
       "        0.000e+00, 0.000e+00, 0.000e+00, 0.000e+00, 0.000e+00, 0.000e+00,\n",
       "        0.000e+00, 1.000e+00, 0.000e+00, 0.000e+00, 0.000e+00, 0.000e+00,\n",
       "        0.000e+00, 0.000e+00, 0.000e+00, 0.000e+00, 0.000e+00, 0.000e+00,\n",
       "        0.000e+00, 0.000e+00, 0.000e+00, 0.000e+00, 0.000e+00, 0.000e+00,\n",
       "        0.000e+00, 0.000e+00, 0.000e+00, 0.000e+00, 0.000e+00, 0.000e+00,\n",
       "        0.000e+00, 0.000e+00, 0.000e+00, 0.000e+00, 0.000e+00, 0.000e+00,\n",
       "        0.000e+00, 0.000e+00, 0.000e+00, 0.000e+00, 0.000e+00, 0.000e+00,\n",
       "        0.000e+00, 0.000e+00, 0.000e+00, 1.000e+00]),\n",
       " array([    0.  ,   271.38,   542.76,   814.14,  1085.52,  1356.9 ,\n",
       "         1628.28,  1899.66,  2171.04,  2442.42,  2713.8 ,  2985.18,\n",
       "         3256.56,  3527.94,  3799.32,  4070.7 ,  4342.08,  4613.46,\n",
       "         4884.84,  5156.22,  5427.6 ,  5698.98,  5970.36,  6241.74,\n",
       "         6513.12,  6784.5 ,  7055.88,  7327.26,  7598.64,  7870.02,\n",
       "         8141.4 ,  8412.78,  8684.16,  8955.54,  9226.92,  9498.3 ,\n",
       "         9769.68, 10041.06, 10312.44, 10583.82, 10855.2 , 11126.58,\n",
       "        11397.96, 11669.34, 11940.72, 12212.1 , 12483.48, 12754.86,\n",
       "        13026.24, 13297.62, 13569.  , 13840.38, 14111.76, 14383.14,\n",
       "        14654.52, 14925.9 , 15197.28, 15468.66, 15740.04, 16011.42,\n",
       "        16282.8 , 16554.18, 16825.56, 17096.94, 17368.32, 17639.7 ,\n",
       "        17911.08, 18182.46, 18453.84, 18725.22, 18996.6 , 19267.98,\n",
       "        19539.36, 19810.74, 20082.12, 20353.5 , 20624.88, 20896.26,\n",
       "        21167.64, 21439.02, 21710.4 , 21981.78, 22253.16, 22524.54,\n",
       "        22795.92, 23067.3 , 23338.68, 23610.06, 23881.44, 24152.82,\n",
       "        24424.2 , 24695.58, 24966.96, 25238.34, 25509.72, 25781.1 ,\n",
       "        26052.48, 26323.86, 26595.24, 26866.62, 27138.  ]),\n",
       " <BarContainer object of 100 artists>)"
      ]
     },
     "execution_count": 22,
     "metadata": {},
     "output_type": "execute_result"
    },
    {
     "data": {
      "image/png": "[encoded data removed]",
      "text/plain": [
       "<Figure size 432x288 with 1 Axes>"
      ]
     },
     "metadata": {
      "needs_background": "light"
     },
     "output_type": "display_data"
    }
   ],
   "source": [
    "plt.hist(febdata.deaths, bins=100)"
   ]
  },
  {
   "cell_type": "code",
   "execution_count": null,
   "metadata": {},
   "outputs": [],
   "source": [
    "# Ack.  That's not very expressive, is it?\n",
    "# In vanilla matplotlib, you have to draw your own bins if you want a nice log-histogram.\n",
    "\n",
    "# https://stackoverflow.com/questions/47850202/plotting-a-histogram-on-a-log-scale-with-matplotlib\n",
    "    \n",
    "plt.hist(np.log(febdata.deaths) / np.log(10), bins=100)"
   ]
  },
  {
   "cell_type": "code",
   "execution_count": null,
   "metadata": {},
   "outputs": [],
   "source": [
    "# This is a \"can't take logarithm of zero\" error.\n",
    "# I can fix (for now) by adding one one-hundredth\n",
    "# and remembering that counties with .01 deaths \n",
    "# reported zero or NaN deaths in the database.\n",
    "plt.hist(np.log(febdata.deaths + .01) / np.log(10), bins=100)\n"
   ]
  },
  {
   "cell_type": "code",
   "execution_count": 23,
   "metadata": {},
   "outputs": [],
   "source": [
    "# So I have to make my own logarithmicly spaced histogram bins.\n",
    "bins = np.exp(np.arange(-1,4,.05))"
   ]
  },
  {
   "cell_type": "code",
   "execution_count": 24,
   "metadata": {},
   "outputs": [
    {
     "data": {
      "image/png": "[encoded data removed]",
      "text/plain": [
       "<Figure size 432x288 with 1 Axes>"
      ]
     },
     "metadata": {
      "needs_background": "light"
     },
     "output_type": "display_data"
    }
   ],
   "source": [
    "plt.hist(febdata.deaths , bins=bins )\n",
    "plt.xscale(\"log\")"
   ]
  },
  {
   "cell_type": "code",
   "execution_count": null,
   "metadata": {},
   "outputs": [],
   "source": [
    "# What happened to my monomodal distribution?\n",
    "# Domain is wrong.. only 10^(-0.5) to 10^2"
   ]
  },
  {
   "cell_type": "code",
   "execution_count": 26,
   "metadata": {},
   "outputs": [
    {
     "data": {
      "image/png": "[encoded data removed]",
      "text/plain": [
       "<Figure size 432x288 with 1 Axes>"
      ]
     },
     "metadata": {
      "needs_background": "light"
     },
     "output_type": "display_data"
    }
   ],
   "source": [
    "# Try coarser bins?\n",
    "bins = np.exp(np.arange(-1,4,.1))\n",
    "plt.hist(febdata.deaths , bins=bins )\n",
    "plt.xscale(\"log\")"
   ]
  },
  {
   "cell_type": "code",
   "execution_count": null,
   "metadata": {},
   "outputs": [],
   "source": [
    "# That's still not right.  Am I using arange wrong?"
   ]
  },
  {
   "cell_type": "code",
   "execution_count": null,
   "metadata": {},
   "outputs": [],
   "source": [
    "bins"
   ]
  },
  {
   "cell_type": "code",
   "execution_count": null,
   "metadata": {},
   "outputs": [],
   "source": [
    "# That's not the right range.  I wanted 10^(-1) to 10^4.\n",
    "# I wanted to use logs base 10, but forgot that the \n",
    "# inverse of log base 10 is not np.exp, it's np.power(10,x)"
   ]
  },
  {
   "cell_type": "code",
   "execution_count": 27,
   "metadata": {},
   "outputs": [
    {
     "data": {
      "text/plain": [
       "Text(0.5, 0, 'per-county deaths')"
      ]
     },
     "execution_count": 27,
     "metadata": {},
     "output_type": "execute_result"
    },
    {
     "data": {
      "image/png": "[encoded data removed]",
      "text/plain": [
       "<Figure size 432x288 with 1 Axes>"
      ]
     },
     "metadata": {
      "needs_background": "light"
     },
     "output_type": "display_data"
    }
   ],
   "source": [
    "bins = np.power(10, np.arange(-1,4,.1) )\n",
    "plt.hist(febdata.deaths , bins=bins )\n",
    "plt.xscale(\"log\")\n",
    "plt.xlabel(\"per-county deaths\")"
   ]
  },
  {
   "cell_type": "code",
   "execution_count": null,
   "metadata": {},
   "outputs": [],
   "source": [
    "# And it looks like now we're silently ignoring \n",
    "# the counties with no deaths becuase they're offscale:"
   ]
  },
  {
   "cell_type": "code",
   "execution_count": 28,
   "metadata": {},
   "outputs": [
    {
     "data": {
      "text/plain": [
       "Text(0.5, 0, 'per-county deaths')"
      ]
     },
     "execution_count": 28,
     "metadata": {},
     "output_type": "execute_result"
    },
    {
     "data": {
      "image/png": "[encoded data removed]",
      "text/plain": [
       "<Figure size 432x288 with 1 Axes>"
      ]
     },
     "metadata": {
      "needs_background": "light"
     },
     "output_type": "display_data"
    }
   ],
   "source": [
    "bins = np.power(10, np.arange(-1,4,.1) )\n",
    "plt.hist(febdata.deaths+.1 , bins=bins )\n",
    "plt.xscale(\"log\")\n",
    "plt.xlabel(\"per-county deaths\")"
   ]
  },
  {
   "cell_type": "code",
   "execution_count": null,
   "metadata": {},
   "outputs": [],
   "source": [
    "# This log-histogram really robs me of any sense of what the \n",
    "# distribution is actually like.\n",
    "# Can we plot deaths by county's death rank?\n",
    "deathsbycounty = febdata.sort_values(\"deaths\")"
   ]
  },
  {
   "cell_type": "code",
   "execution_count": null,
   "metadata": {},
   "outputs": [],
   "source": [
    "plt.plot(np.arange(len(deathsbycounty)), deathsbycounty.deaths)\n",
    "plt.xlabel(\"County death rank\")\n",
    "plt.ylabel(\"Per-county cumulative COVID deaths, Feb 2021\")"
   ]
  },
  {
   "cell_type": "code",
   "execution_count": null,
   "metadata": {},
   "outputs": [],
   "source": [
    "# Rrr.  This still does not make me think I understand.  \n",
    "# This is not a very expressive graph--one county has 27000 \n",
    "# deaths, there are 3100 counties; I can tell little else,\n",
    "# least of all the total body count.\n"
   ]
  },
  {
   "cell_type": "code",
   "execution_count": null,
   "metadata": {},
   "outputs": [],
   "source": [
    "# Wait a sec, one county with 27,000 deaths, does that make sense?\n",
    "# The largest county on Heratige's page was LA County with only 17,000."
   ]
  },
  {
   "cell_type": "code",
   "execution_count": 29,
   "metadata": {},
   "outputs": [
    {
     "data": {
      "text/html": [
       "<div>\n",
       "<style scoped>\n",
       "    .dataframe tbody tr th:only-of-type {\n",
       "        vertical-align: middle;\n",
       "    }\n",
       "\n",
       "    .dataframe tbody tr th {\n",
       "        vertical-align: top;\n",
       "    }\n",
       "\n",
       "    .dataframe thead th {\n",
       "        text-align: right;\n",
       "    }\n",
       "</style>\n",
       "<table border=\"1\" class=\"dataframe\">\n",
       "  <thead>\n",
       "    <tr style=\"text-align: right;\">\n",
       "      <th></th>\n",
       "      <th>date</th>\n",
       "      <th>county</th>\n",
       "      <th>state</th>\n",
       "      <th>fips</th>\n",
       "      <th>cases</th>\n",
       "      <th>deaths</th>\n",
       "    </tr>\n",
       "  </thead>\n",
       "  <tbody>\n",
       "    <tr>\n",
       "      <th>0</th>\n",
       "      <td>2020-01-21</td>\n",
       "      <td>Snohomish</td>\n",
       "      <td>Washington</td>\n",
       "      <td>53061.0</td>\n",
       "      <td>1</td>\n",
       "      <td>0.0</td>\n",
       "    </tr>\n",
       "    <tr>\n",
       "      <th>291986</th>\n",
       "      <td>2020-07-01</td>\n",
       "      <td>Curry</td>\n",
       "      <td>New Mexico</td>\n",
       "      <td>35009.0</td>\n",
       "      <td>165</td>\n",
       "      <td>0.0</td>\n",
       "    </tr>\n",
       "    <tr>\n",
       "      <th>1423254</th>\n",
       "      <td>2021-06-15</td>\n",
       "      <td>Daggett</td>\n",
       "      <td>Utah</td>\n",
       "      <td>49009.0</td>\n",
       "      <td>56</td>\n",
       "      <td>0.0</td>\n",
       "    </tr>\n",
       "    <tr>\n",
       "      <th>291979</th>\n",
       "      <td>2020-07-01</td>\n",
       "      <td>Unknown</td>\n",
       "      <td>New Jersey</td>\n",
       "      <td>NaN</td>\n",
       "      <td>643</td>\n",
       "      <td>0.0</td>\n",
       "    </tr>\n",
       "    <tr>\n",
       "      <th>1423266</th>\n",
       "      <td>2021-06-15</td>\n",
       "      <td>Rich</td>\n",
       "      <td>Utah</td>\n",
       "      <td>49033.0</td>\n",
       "      <td>159</td>\n",
       "      <td>0.0</td>\n",
       "    </tr>\n",
       "    <tr>\n",
       "      <th>...</th>\n",
       "      <td>...</td>\n",
       "      <td>...</td>\n",
       "      <td>...</td>\n",
       "      <td>...</td>\n",
       "      <td>...</td>\n",
       "      <td>...</td>\n",
       "    </tr>\n",
       "    <tr>\n",
       "      <th>1874255</th>\n",
       "      <td>2021-11-01</td>\n",
       "      <td>Vega Baja</td>\n",
       "      <td>Puerto Rico</td>\n",
       "      <td>72145.0</td>\n",
       "      <td>4451</td>\n",
       "      <td>NaN</td>\n",
       "    </tr>\n",
       "    <tr>\n",
       "      <th>1874256</th>\n",
       "      <td>2021-11-01</td>\n",
       "      <td>Vieques</td>\n",
       "      <td>Puerto Rico</td>\n",
       "      <td>72147.0</td>\n",
       "      <td>272</td>\n",
       "      <td>NaN</td>\n",
       "    </tr>\n",
       "    <tr>\n",
       "      <th>1874257</th>\n",
       "      <td>2021-11-01</td>\n",
       "      <td>Villalba</td>\n",
       "      <td>Puerto Rico</td>\n",
       "      <td>72149.0</td>\n",
       "      <td>1018</td>\n",
       "      <td>NaN</td>\n",
       "    </tr>\n",
       "    <tr>\n",
       "      <th>1874258</th>\n",
       "      <td>2021-11-01</td>\n",
       "      <td>Yabucoa</td>\n",
       "      <td>Puerto Rico</td>\n",
       "      <td>72151.0</td>\n",
       "      <td>1633</td>\n",
       "      <td>NaN</td>\n",
       "    </tr>\n",
       "    <tr>\n",
       "      <th>1874259</th>\n",
       "      <td>2021-11-01</td>\n",
       "      <td>Yauco</td>\n",
       "      <td>Puerto Rico</td>\n",
       "      <td>72153.0</td>\n",
       "      <td>1458</td>\n",
       "      <td>NaN</td>\n",
       "    </tr>\n",
       "  </tbody>\n",
       "</table>\n",
       "<p>1875098 rows × 6 columns</p>\n",
       "</div>"
      ],
      "text/plain": [
       "              date     county        state     fips  cases  deaths\n",
       "0       2020-01-21  Snohomish   Washington  53061.0      1     0.0\n",
       "291986  2020-07-01      Curry   New Mexico  35009.0    165     0.0\n",
       "1423254 2021-06-15    Daggett         Utah  49009.0     56     0.0\n",
       "291979  2020-07-01    Unknown   New Jersey      NaN    643     0.0\n",
       "1423266 2021-06-15       Rich         Utah  49033.0    159     0.0\n",
       "...            ...        ...          ...      ...    ...     ...\n",
       "1874255 2021-11-01  Vega Baja  Puerto Rico  72145.0   4451     NaN\n",
       "1874256 2021-11-01    Vieques  Puerto Rico  72147.0    272     NaN\n",
       "1874257 2021-11-01   Villalba  Puerto Rico  72149.0   1018     NaN\n",
       "1874258 2021-11-01    Yabucoa  Puerto Rico  72151.0   1633     NaN\n",
       "1874259 2021-11-01      Yauco  Puerto Rico  72153.0   1458     NaN\n",
       "\n",
       "[1875098 rows x 6 columns]"
      ]
     },
     "execution_count": 29,
     "metadata": {},
     "output_type": "execute_result"
    }
   ],
   "source": [
    "counties.sort_values(\"deaths\")"
   ]
  },
  {
   "cell_type": "code",
   "execution_count": 31,
   "metadata": {},
   "outputs": [],
   "source": [
    "# These NaN values for deaths are getting in my way, I'm going to reset them\n",
    "# to zero now.\n",
    "counties[np.isnan(counties.deaths)] =0"
   ]
  },
  {
   "cell_type": "code",
   "execution_count": 32,
   "metadata": {},
   "outputs": [],
   "source": [
    "# And I better update the data frames representing convenient subsets too\n",
    "febdata = counties.loc[np.where(counties.date ==np.datetime64(\"2021-01-31\"))]\n",
    "cookco = counties.loc[np.where( counties.fips == 17031)]\n",
    "deathsbycounty = febdata.sort_values(\"deaths\")"
   ]
  },
  {
   "cell_type": "code",
   "execution_count": 33,
   "metadata": {},
   "outputs": [
    {
     "data": {
      "text/html": [
       "<div>\n",
       "<style scoped>\n",
       "    .dataframe tbody tr th:only-of-type {\n",
       "        vertical-align: middle;\n",
       "    }\n",
       "\n",
       "    .dataframe tbody tr th {\n",
       "        vertical-align: top;\n",
       "    }\n",
       "\n",
       "    .dataframe thead th {\n",
       "        text-align: right;\n",
       "    }\n",
       "</style>\n",
       "<table border=\"1\" class=\"dataframe\">\n",
       "  <thead>\n",
       "    <tr style=\"text-align: right;\">\n",
       "      <th></th>\n",
       "      <th>date</th>\n",
       "      <th>county</th>\n",
       "      <th>state</th>\n",
       "      <th>fips</th>\n",
       "      <th>cases</th>\n",
       "      <th>deaths</th>\n",
       "    </tr>\n",
       "  </thead>\n",
       "  <tbody>\n",
       "    <tr>\n",
       "      <th>0</th>\n",
       "      <td>2020-01-21 00:00:00</td>\n",
       "      <td>Snohomish</td>\n",
       "      <td>Washington</td>\n",
       "      <td>53061.0</td>\n",
       "      <td>1</td>\n",
       "      <td>0.0</td>\n",
       "    </tr>\n",
       "    <tr>\n",
       "      <th>258730</th>\n",
       "      <td>2020-06-20 00:00:00</td>\n",
       "      <td>Upshur</td>\n",
       "      <td>West Virginia</td>\n",
       "      <td>54097.0</td>\n",
       "      <td>11</td>\n",
       "      <td>0.0</td>\n",
       "    </tr>\n",
       "    <tr>\n",
       "      <th>258729</th>\n",
       "      <td>2020-06-20 00:00:00</td>\n",
       "      <td>Tyler</td>\n",
       "      <td>West Virginia</td>\n",
       "      <td>54095.0</td>\n",
       "      <td>3</td>\n",
       "      <td>0.0</td>\n",
       "    </tr>\n",
       "    <tr>\n",
       "      <th>258728</th>\n",
       "      <td>2020-06-20 00:00:00</td>\n",
       "      <td>Tucker</td>\n",
       "      <td>West Virginia</td>\n",
       "      <td>54093.0</td>\n",
       "      <td>5</td>\n",
       "      <td>0.0</td>\n",
       "    </tr>\n",
       "    <tr>\n",
       "      <th>258727</th>\n",
       "      <td>2020-06-20 00:00:00</td>\n",
       "      <td>Taylor</td>\n",
       "      <td>West Virginia</td>\n",
       "      <td>54091.0</td>\n",
       "      <td>13</td>\n",
       "      <td>0.0</td>\n",
       "    </tr>\n",
       "    <tr>\n",
       "      <th>...</th>\n",
       "      <td>...</td>\n",
       "      <td>...</td>\n",
       "      <td>...</td>\n",
       "      <td>...</td>\n",
       "      <td>...</td>\n",
       "      <td>...</td>\n",
       "    </tr>\n",
       "    <tr>\n",
       "      <th>1857480</th>\n",
       "      <td>2021-10-27 00:00:00</td>\n",
       "      <td>New York City</td>\n",
       "      <td>New York</td>\n",
       "      <td>NaN</td>\n",
       "      <td>1117924</td>\n",
       "      <td>34544.0</td>\n",
       "    </tr>\n",
       "    <tr>\n",
       "      <th>1863978</th>\n",
       "      <td>2021-10-29 00:00:00</td>\n",
       "      <td>New York City</td>\n",
       "      <td>New York</td>\n",
       "      <td>NaN</td>\n",
       "      <td>1119470</td>\n",
       "      <td>34557.0</td>\n",
       "    </tr>\n",
       "    <tr>\n",
       "      <th>1870476</th>\n",
       "      <td>2021-10-31 00:00:00</td>\n",
       "      <td>New York City</td>\n",
       "      <td>New York</td>\n",
       "      <td>NaN</td>\n",
       "      <td>1119470</td>\n",
       "      <td>34557.0</td>\n",
       "    </tr>\n",
       "    <tr>\n",
       "      <th>1867227</th>\n",
       "      <td>2021-10-30 00:00:00</td>\n",
       "      <td>New York City</td>\n",
       "      <td>New York</td>\n",
       "      <td>NaN</td>\n",
       "      <td>1119470</td>\n",
       "      <td>34557.0</td>\n",
       "    </tr>\n",
       "    <tr>\n",
       "      <th>1873725</th>\n",
       "      <td>2021-11-01 00:00:00</td>\n",
       "      <td>New York City</td>\n",
       "      <td>New York</td>\n",
       "      <td>NaN</td>\n",
       "      <td>1122970</td>\n",
       "      <td>34580.0</td>\n",
       "    </tr>\n",
       "  </tbody>\n",
       "</table>\n",
       "<p>1875098 rows × 6 columns</p>\n",
       "</div>"
      ],
      "text/plain": [
       "                        date         county          state     fips    cases  \\\n",
       "0        2020-01-21 00:00:00      Snohomish     Washington  53061.0        1   \n",
       "258730   2020-06-20 00:00:00         Upshur  West Virginia  54097.0       11   \n",
       "258729   2020-06-20 00:00:00          Tyler  West Virginia  54095.0        3   \n",
       "258728   2020-06-20 00:00:00         Tucker  West Virginia  54093.0        5   \n",
       "258727   2020-06-20 00:00:00         Taylor  West Virginia  54091.0       13   \n",
       "...                      ...            ...            ...      ...      ...   \n",
       "1857480  2021-10-27 00:00:00  New York City       New York      NaN  1117924   \n",
       "1863978  2021-10-29 00:00:00  New York City       New York      NaN  1119470   \n",
       "1870476  2021-10-31 00:00:00  New York City       New York      NaN  1119470   \n",
       "1867227  2021-10-30 00:00:00  New York City       New York      NaN  1119470   \n",
       "1873725  2021-11-01 00:00:00  New York City       New York      NaN  1122970   \n",
       "\n",
       "          deaths  \n",
       "0            0.0  \n",
       "258730       0.0  \n",
       "258729       0.0  \n",
       "258728       0.0  \n",
       "258727       0.0  \n",
       "...          ...  \n",
       "1857480  34544.0  \n",
       "1863978  34557.0  \n",
       "1870476  34557.0  \n",
       "1867227  34557.0  \n",
       "1873725  34580.0  \n",
       "\n",
       "[1875098 rows x 6 columns]"
      ]
     },
     "execution_count": 33,
     "metadata": {},
     "output_type": "execute_result"
    }
   ],
   "source": [
    "counties.sort_values(\"deaths\")"
   ]
  },
  {
   "cell_type": "code",
   "execution_count": null,
   "metadata": {},
   "outputs": [],
   "source": [
    "# Now I can see the deathmost counties.  NYC has its own codepoint.\n",
    "# Check.. is NYC counted twice ?"
   ]
  },
  {
   "cell_type": "code",
   "execution_count": 34,
   "metadata": {},
   "outputs": [
    {
     "data": {
      "text/plain": [
       "False"
      ]
     },
     "execution_count": 34,
     "metadata": {},
     "output_type": "execute_result"
    }
   ],
   "source": [
    "\"Queens\" in counties.county.values"
   ]
  },
  {
   "cell_type": "code",
   "execution_count": 35,
   "metadata": {},
   "outputs": [
    {
     "data": {
      "text/plain": [
       "True"
      ]
     },
     "execution_count": 35,
     "metadata": {},
     "output_type": "execute_result"
    }
   ],
   "source": [
    "\"Kings\" in counties.county.values"
   ]
  },
  {
   "cell_type": "code",
   "execution_count": 36,
   "metadata": {},
   "outputs": [
    {
     "data": {
      "text/html": [
       "<div>\n",
       "<style scoped>\n",
       "    .dataframe tbody tr th:only-of-type {\n",
       "        vertical-align: middle;\n",
       "    }\n",
       "\n",
       "    .dataframe tbody tr th {\n",
       "        vertical-align: top;\n",
       "    }\n",
       "\n",
       "    .dataframe thead th {\n",
       "        text-align: right;\n",
       "    }\n",
       "</style>\n",
       "<table border=\"1\" class=\"dataframe\">\n",
       "  <thead>\n",
       "    <tr style=\"text-align: right;\">\n",
       "      <th></th>\n",
       "      <th>date</th>\n",
       "      <th>county</th>\n",
       "      <th>state</th>\n",
       "      <th>fips</th>\n",
       "      <th>cases</th>\n",
       "      <th>deaths</th>\n",
       "    </tr>\n",
       "  </thead>\n",
       "  <tbody>\n",
       "    <tr>\n",
       "      <th>14154</th>\n",
       "      <td>2020-03-27 00:00:00</td>\n",
       "      <td>Kings</td>\n",
       "      <td>California</td>\n",
       "      <td>6031.0</td>\n",
       "      <td>1</td>\n",
       "      <td>0.0</td>\n",
       "    </tr>\n",
       "    <tr>\n",
       "      <th>15936</th>\n",
       "      <td>2020-03-28 00:00:00</td>\n",
       "      <td>Kings</td>\n",
       "      <td>California</td>\n",
       "      <td>6031.0</td>\n",
       "      <td>1</td>\n",
       "      <td>0.0</td>\n",
       "    </tr>\n",
       "    <tr>\n",
       "      <th>17825</th>\n",
       "      <td>2020-03-29 00:00:00</td>\n",
       "      <td>Kings</td>\n",
       "      <td>California</td>\n",
       "      <td>6031.0</td>\n",
       "      <td>2</td>\n",
       "      <td>0.0</td>\n",
       "    </tr>\n",
       "    <tr>\n",
       "      <th>19802</th>\n",
       "      <td>2020-03-30 00:00:00</td>\n",
       "      <td>Kings</td>\n",
       "      <td>California</td>\n",
       "      <td>6031.0</td>\n",
       "      <td>3</td>\n",
       "      <td>0.0</td>\n",
       "    </tr>\n",
       "    <tr>\n",
       "      <th>21876</th>\n",
       "      <td>2020-03-31 00:00:00</td>\n",
       "      <td>Kings</td>\n",
       "      <td>California</td>\n",
       "      <td>6031.0</td>\n",
       "      <td>4</td>\n",
       "      <td>0.0</td>\n",
       "    </tr>\n",
       "    <tr>\n",
       "      <th>...</th>\n",
       "      <td>...</td>\n",
       "      <td>...</td>\n",
       "      <td>...</td>\n",
       "      <td>...</td>\n",
       "      <td>...</td>\n",
       "      <td>...</td>\n",
       "    </tr>\n",
       "    <tr>\n",
       "      <th>1859055</th>\n",
       "      <td>2021-10-28 00:00:00</td>\n",
       "      <td>Kings</td>\n",
       "      <td>California</td>\n",
       "      <td>6031.0</td>\n",
       "      <td>33485</td>\n",
       "      <td>336.0</td>\n",
       "    </tr>\n",
       "    <tr>\n",
       "      <th>1862304</th>\n",
       "      <td>2021-10-29 00:00:00</td>\n",
       "      <td>Kings</td>\n",
       "      <td>California</td>\n",
       "      <td>6031.0</td>\n",
       "      <td>33626</td>\n",
       "      <td>337.0</td>\n",
       "    </tr>\n",
       "    <tr>\n",
       "      <th>1865553</th>\n",
       "      <td>2021-10-30 00:00:00</td>\n",
       "      <td>Kings</td>\n",
       "      <td>California</td>\n",
       "      <td>6031.0</td>\n",
       "      <td>33626</td>\n",
       "      <td>337.0</td>\n",
       "    </tr>\n",
       "    <tr>\n",
       "      <th>1868802</th>\n",
       "      <td>2021-10-31 00:00:00</td>\n",
       "      <td>Kings</td>\n",
       "      <td>California</td>\n",
       "      <td>6031.0</td>\n",
       "      <td>33626</td>\n",
       "      <td>337.0</td>\n",
       "    </tr>\n",
       "    <tr>\n",
       "      <th>1872051</th>\n",
       "      <td>2021-11-01 00:00:00</td>\n",
       "      <td>Kings</td>\n",
       "      <td>California</td>\n",
       "      <td>6031.0</td>\n",
       "      <td>33862</td>\n",
       "      <td>338.0</td>\n",
       "    </tr>\n",
       "  </tbody>\n",
       "</table>\n",
       "<p>585 rows × 6 columns</p>\n",
       "</div>"
      ],
      "text/plain": [
       "                        date county       state    fips  cases  deaths\n",
       "14154    2020-03-27 00:00:00  Kings  California  6031.0      1     0.0\n",
       "15936    2020-03-28 00:00:00  Kings  California  6031.0      1     0.0\n",
       "17825    2020-03-29 00:00:00  Kings  California  6031.0      2     0.0\n",
       "19802    2020-03-30 00:00:00  Kings  California  6031.0      3     0.0\n",
       "21876    2020-03-31 00:00:00  Kings  California  6031.0      4     0.0\n",
       "...                      ...    ...         ...     ...    ...     ...\n",
       "1859055  2021-10-28 00:00:00  Kings  California  6031.0  33485   336.0\n",
       "1862304  2021-10-29 00:00:00  Kings  California  6031.0  33626   337.0\n",
       "1865553  2021-10-30 00:00:00  Kings  California  6031.0  33626   337.0\n",
       "1868802  2021-10-31 00:00:00  Kings  California  6031.0  33626   337.0\n",
       "1872051  2021-11-01 00:00:00  Kings  California  6031.0  33862   338.0\n",
       "\n",
       "[585 rows x 6 columns]"
      ]
     },
     "execution_count": 36,
     "metadata": {},
     "output_type": "execute_result"
    }
   ],
   "source": [
    "counties.loc[np.where(counties.county == \"Kings\")]"
   ]
  },
  {
   "cell_type": "code",
   "execution_count": 37,
   "metadata": {},
   "outputs": [
    {
     "data": {
      "text/plain": [
       "California    585\n",
       "Name: state, dtype: int64"
      ]
     },
     "execution_count": 37,
     "metadata": {},
     "output_type": "execute_result"
    }
   ],
   "source": [
    "counties.loc[np.where(counties.county == \"Kings\")][\"state\"].value_counts()"
   ]
  },
  {
   "cell_type": "code",
   "execution_count": null,
   "metadata": {},
   "outputs": [],
   "source": [
    "# Now I am convinced that we are not double-counting NYC.\n",
    "# Our data source does not give us borough-level detail tho."
   ]
  },
  {
   "cell_type": "code",
   "execution_count": null,
   "metadata": {},
   "outputs": [],
   "source": [
    "# The legend says \"cumulative\"\n",
    "# meaning cumulative by time.  Let's try cumulative by county. "
   ]
  },
  {
   "cell_type": "code",
   "execution_count": 38,
   "metadata": {},
   "outputs": [
    {
     "data": {
      "text/plain": [
       "Text(0, 0.5, 'Per-county cumulative COVID deaths, Feb 2021')"
      ]
     },
     "execution_count": 38,
     "metadata": {},
     "output_type": "execute_result"
    },
    {
     "data": {
      "image/png": "[encoded data removed]",
      "text/plain": [
       "<Figure size 432x288 with 1 Axes>"
      ]
     },
     "metadata": {
      "needs_background": "light"
     },
     "output_type": "display_data"
    }
   ],
   "source": [
    "plt.plot(np.arange(len(deathsbycounty)), np.cumsum(deathsbycounty.deaths))\n",
    "plt.xlabel(\"County death rank\")\n",
    "plt.ylabel(\"Per-county cumulative COVID deaths, Feb 2021\")"
   ]
  },
  {
   "cell_type": "code",
   "execution_count": 39,
   "metadata": {},
   "outputs": [
    {
     "data": {
      "text/plain": [
       "Text(0, 0.5, 'Per-county cumulative COVID deaths, Feb 2021')"
      ]
     },
     "execution_count": 39,
     "metadata": {},
     "output_type": "execute_result"
    },
    {
     "data": {
      "image/png": "[encoded data removed]",
      "text/plain": [
       "<Figure size 432x288 with 1 Axes>"
      ]
     },
     "metadata": {
      "needs_background": "light"
     },
     "output_type": "display_data"
    }
   ],
   "source": [
    "plt.plot(np.arange(len(deathsbycounty)), np.cumsum(deathsbycounty.deaths.sort_values(ascending=False)))\n",
    "plt.xlabel(\"County death rank\")\n",
    "plt.ylabel(\"Per-county cumulative COVID deaths, Feb 2021\")"
   ]
  },
  {
   "cell_type": "code",
   "execution_count": 40,
   "metadata": {},
   "outputs": [
    {
     "data": {
      "text/plain": [
       "Text(0, 0.5, 'Per-county cumulative COVID deaths, Feb 2021')"
      ]
     },
     "execution_count": 40,
     "metadata": {},
     "output_type": "execute_result"
    },
    {
     "data": {
      "image/png": "[encoded data removed]",
      "text/plain": [
       "<Figure size 1008x432 with 2 Axes>"
      ]
     },
     "metadata": {
      "needs_background": "light"
     },
     "output_type": "display_data"
    }
   ],
   "source": [
    "# Let us plot these side-by-side\n",
    "plt.figure(figsize=(14,6))\n",
    "plt.subplot(121)\n",
    "plt.plot(np.arange(len(deathsbycounty)), np.cumsum(deathsbycounty.deaths.sort_values(ascending=True)))\n",
    "plt.xlabel(\"County size rank\")\n",
    "plt.ylabel(\"Per-county cumulative COVID deaths, Feb 2021\")\n",
    "plt.subplot(122)\n",
    "plt.plot(np.arange(len(deathsbycounty)), np.cumsum(deathsbycounty.deaths.sort_values(ascending=False)))\n",
    "plt.xlabel(\"County size rank\")\n",
    "plt.ylabel(\"Per-county cumulative COVID deaths, Feb 2021\")"
   ]
  },
  {
   "cell_type": "code",
   "execution_count": null,
   "metadata": {},
   "outputs": [],
   "source": [
    "# This is getting closer.  Clearly more than half of deaths are in a \n",
    "# small fracton of the counties; on linear scales, these graphs\n",
    "# are the same, but counting from largest to smallest vs. smallest\n",
    "# to largest matters if you want to transform either axis by,\n",
    "# for instance, logarithmic scaling."
   ]
  },
  {
   "cell_type": "code",
   "execution_count": 41,
   "metadata": {},
   "outputs": [
    {
     "data": {
      "text/html": [
       "<div>\n",
       "<style scoped>\n",
       "    .dataframe tbody tr th:only-of-type {\n",
       "        vertical-align: middle;\n",
       "    }\n",
       "\n",
       "    .dataframe tbody tr th {\n",
       "        vertical-align: top;\n",
       "    }\n",
       "\n",
       "    .dataframe thead th {\n",
       "        text-align: right;\n",
       "    }\n",
       "</style>\n",
       "<table border=\"1\" class=\"dataframe\">\n",
       "  <thead>\n",
       "    <tr style=\"text-align: right;\">\n",
       "      <th></th>\n",
       "      <th>date</th>\n",
       "      <th>county</th>\n",
       "      <th>state</th>\n",
       "      <th>fips</th>\n",
       "      <th>cases</th>\n",
       "      <th>deaths</th>\n",
       "    </tr>\n",
       "  </thead>\n",
       "  <tbody>\n",
       "    <tr>\n",
       "      <th>982482</th>\n",
       "      <td>2021-01-31 00:00:00</td>\n",
       "      <td>Unknown</td>\n",
       "      <td>Florida</td>\n",
       "      <td>NaN</td>\n",
       "      <td>3334</td>\n",
       "      <td>0.0</td>\n",
       "    </tr>\n",
       "    <tr>\n",
       "      <th>982328</th>\n",
       "      <td>2021-01-31 00:00:00</td>\n",
       "      <td>Sierra</td>\n",
       "      <td>California</td>\n",
       "      <td>6091.0</td>\n",
       "      <td>43</td>\n",
       "      <td>0.0</td>\n",
       "    </tr>\n",
       "    <tr>\n",
       "      <th>983196</th>\n",
       "      <td>2021-01-31 00:00:00</td>\n",
       "      <td>Powell</td>\n",
       "      <td>Kentucky</td>\n",
       "      <td>21197.0</td>\n",
       "      <td>884</td>\n",
       "      <td>0.0</td>\n",
       "    </tr>\n",
       "    <tr>\n",
       "      <th>984318</th>\n",
       "      <td>2021-01-31 00:00:00</td>\n",
       "      <td>Unknown</td>\n",
       "      <td>Oklahoma</td>\n",
       "      <td>NaN</td>\n",
       "      <td>134</td>\n",
       "      <td>0.0</td>\n",
       "    </tr>\n",
       "    <tr>\n",
       "      <th>984351</th>\n",
       "      <td>2021-01-31 00:00:00</td>\n",
       "      <td>Sherman</td>\n",
       "      <td>Oregon</td>\n",
       "      <td>41055.0</td>\n",
       "      <td>49</td>\n",
       "      <td>0.0</td>\n",
       "    </tr>\n",
       "  </tbody>\n",
       "</table>\n",
       "</div>"
      ],
      "text/plain": [
       "                       date   county       state     fips  cases  deaths\n",
       "982482  2021-01-31 00:00:00  Unknown     Florida      NaN   3334     0.0\n",
       "982328  2021-01-31 00:00:00   Sierra  California   6091.0     43     0.0\n",
       "983196  2021-01-31 00:00:00   Powell    Kentucky  21197.0    884     0.0\n",
       "984318  2021-01-31 00:00:00  Unknown    Oklahoma      NaN    134     0.0\n",
       "984351  2021-01-31 00:00:00  Sherman      Oregon  41055.0     49     0.0"
      ]
     },
     "execution_count": 41,
     "metadata": {},
     "output_type": "execute_result"
    }
   ],
   "source": [
    "# top 30 counties, fraction of deaths?\n",
    "deathsbycounty.head()"
   ]
  },
  {
   "cell_type": "code",
   "execution_count": 42,
   "metadata": {},
   "outputs": [
    {
     "data": {
      "text/html": [
       "<div>\n",
       "<style scoped>\n",
       "    .dataframe tbody tr th:only-of-type {\n",
       "        vertical-align: middle;\n",
       "    }\n",
       "\n",
       "    .dataframe tbody tr th {\n",
       "        vertical-align: top;\n",
       "    }\n",
       "\n",
       "    .dataframe thead th {\n",
       "        text-align: right;\n",
       "    }\n",
       "</style>\n",
       "<table border=\"1\" class=\"dataframe\">\n",
       "  <thead>\n",
       "    <tr style=\"text-align: right;\">\n",
       "      <th></th>\n",
       "      <th>date</th>\n",
       "      <th>county</th>\n",
       "      <th>state</th>\n",
       "      <th>fips</th>\n",
       "      <th>cases</th>\n",
       "      <th>deaths</th>\n",
       "    </tr>\n",
       "  </thead>\n",
       "  <tbody>\n",
       "    <tr>\n",
       "      <th>983402</th>\n",
       "      <td>2021-01-31 00:00:00</td>\n",
       "      <td>Oakland</td>\n",
       "      <td>Michigan</td>\n",
       "      <td>26125.0</td>\n",
       "      <td>70447</td>\n",
       "      <td>1898.0</td>\n",
       "    </tr>\n",
       "    <tr>\n",
       "      <th>983999</th>\n",
       "      <td>2021-01-31 00:00:00</td>\n",
       "      <td>Westchester</td>\n",
       "      <td>New York</td>\n",
       "      <td>36119.0</td>\n",
       "      <td>94213</td>\n",
       "      <td>1906.0</td>\n",
       "    </tr>\n",
       "    <tr>\n",
       "      <th>983899</th>\n",
       "      <td>2021-01-31 00:00:00</td>\n",
       "      <td>Middlesex</td>\n",
       "      <td>New Jersey</td>\n",
       "      <td>34023.0</td>\n",
       "      <td>63956</td>\n",
       "      <td>1923.0</td>\n",
       "    </tr>\n",
       "    <tr>\n",
       "      <th>982405</th>\n",
       "      <td>2021-01-31 00:00:00</td>\n",
       "      <td>Fairfield</td>\n",
       "      <td>Connecticut</td>\n",
       "      <td>9001.0</td>\n",
       "      <td>72026</td>\n",
       "      <td>1932.0</td>\n",
       "    </tr>\n",
       "    <tr>\n",
       "      <th>983329</th>\n",
       "      <td>2021-01-31 00:00:00</td>\n",
       "      <td>Essex</td>\n",
       "      <td>Massachusetts</td>\n",
       "      <td>25009.0</td>\n",
       "      <td>77363</td>\n",
       "      <td>1969.0</td>\n",
       "    </tr>\n",
       "    <tr>\n",
       "      <th>982424</th>\n",
       "      <td>2021-01-31 00:00:00</td>\n",
       "      <td>Broward</td>\n",
       "      <td>Florida</td>\n",
       "      <td>12011.0</td>\n",
       "      <td>172864</td>\n",
       "      <td>2092.0</td>\n",
       "    </tr>\n",
       "    <tr>\n",
       "      <th>982406</th>\n",
       "      <td>2021-01-31 00:00:00</td>\n",
       "      <td>Hartford</td>\n",
       "      <td>Connecticut</td>\n",
       "      <td>9003.0</td>\n",
       "      <td>63211</td>\n",
       "      <td>2107.0</td>\n",
       "    </tr>\n",
       "    <tr>\n",
       "      <th>984789</th>\n",
       "      <td>2021-01-31 00:00:00</td>\n",
       "      <td>El Paso</td>\n",
       "      <td>Texas</td>\n",
       "      <td>48141.0</td>\n",
       "      <td>113637</td>\n",
       "      <td>2116.0</td>\n",
       "    </tr>\n",
       "    <tr>\n",
       "      <th>984939</th>\n",
       "      <td>2021-01-31 00:00:00</td>\n",
       "      <td>Tarrant</td>\n",
       "      <td>Texas</td>\n",
       "      <td>48439.0</td>\n",
       "      <td>216910</td>\n",
       "      <td>2160.0</td>\n",
       "    </tr>\n",
       "    <tr>\n",
       "      <th>982468</th>\n",
       "      <td>2021-01-31 00:00:00</td>\n",
       "      <td>Palm Beach</td>\n",
       "      <td>Florida</td>\n",
       "      <td>12099.0</td>\n",
       "      <td>107240</td>\n",
       "      <td>2166.0</td>\n",
       "    </tr>\n",
       "    <tr>\n",
       "      <th>984734</th>\n",
       "      <td>2021-01-31 00:00:00</td>\n",
       "      <td>Bexar</td>\n",
       "      <td>Texas</td>\n",
       "      <td>48029.0</td>\n",
       "      <td>173166</td>\n",
       "      <td>2348.0</td>\n",
       "    </tr>\n",
       "    <tr>\n",
       "      <th>984827</th>\n",
       "      <td>2021-01-31 00:00:00</td>\n",
       "      <td>Hidalgo</td>\n",
       "      <td>Texas</td>\n",
       "      <td>48215.0</td>\n",
       "      <td>62621</td>\n",
       "      <td>2427.0</td>\n",
       "    </tr>\n",
       "    <tr>\n",
       "      <th>983889</th>\n",
       "      <td>2021-01-31 00:00:00</td>\n",
       "      <td>Bergen</td>\n",
       "      <td>New Jersey</td>\n",
       "      <td>34003.0</td>\n",
       "      <td>67253</td>\n",
       "      <td>2474.0</td>\n",
       "    </tr>\n",
       "    <tr>\n",
       "      <th>983894</th>\n",
       "      <td>2021-01-31 00:00:00</td>\n",
       "      <td>Essex</td>\n",
       "      <td>New Jersey</td>\n",
       "      <td>34013.0</td>\n",
       "      <td>65161</td>\n",
       "      <td>2539.0</td>\n",
       "    </tr>\n",
       "    <tr>\n",
       "      <th>982319</th>\n",
       "      <td>2021-01-31 00:00:00</td>\n",
       "      <td>San Diego</td>\n",
       "      <td>California</td>\n",
       "      <td>6073.0</td>\n",
       "      <td>238105</td>\n",
       "      <td>2619.0</td>\n",
       "    </tr>\n",
       "    <tr>\n",
       "      <th>983971</th>\n",
       "      <td>2021-01-31 00:00:00</td>\n",
       "      <td>Nassau</td>\n",
       "      <td>New York</td>\n",
       "      <td>36059.0</td>\n",
       "      <td>128735</td>\n",
       "      <td>2677.0</td>\n",
       "    </tr>\n",
       "    <tr>\n",
       "      <th>983991</th>\n",
       "      <td>2021-01-31 00:00:00</td>\n",
       "      <td>Suffolk</td>\n",
       "      <td>New York</td>\n",
       "      <td>36103.0</td>\n",
       "      <td>143498</td>\n",
       "      <td>2794.0</td>\n",
       "    </tr>\n",
       "    <tr>\n",
       "      <th>984776</th>\n",
       "      <td>2021-01-31 00:00:00</td>\n",
       "      <td>Dallas</td>\n",
       "      <td>Texas</td>\n",
       "      <td>48113.0</td>\n",
       "      <td>258517</td>\n",
       "      <td>2819.0</td>\n",
       "    </tr>\n",
       "    <tr>\n",
       "      <th>984410</th>\n",
       "      <td>2021-01-31 00:00:00</td>\n",
       "      <td>Philadelphia</td>\n",
       "      <td>Pennsylvania</td>\n",
       "      <td>42101.0</td>\n",
       "      <td>109231</td>\n",
       "      <td>2908.0</td>\n",
       "    </tr>\n",
       "    <tr>\n",
       "      <th>982312</th>\n",
       "      <td>2021-01-31 00:00:00</td>\n",
       "      <td>Orange</td>\n",
       "      <td>California</td>\n",
       "      <td>6059.0</td>\n",
       "      <td>245978</td>\n",
       "      <td>3062.0</td>\n",
       "    </tr>\n",
       "    <tr>\n",
       "      <th>982315</th>\n",
       "      <td>2021-01-31 00:00:00</td>\n",
       "      <td>Riverside</td>\n",
       "      <td>California</td>\n",
       "      <td>6065.0</td>\n",
       "      <td>271910</td>\n",
       "      <td>3091.0</td>\n",
       "    </tr>\n",
       "    <tr>\n",
       "      <th>983333</th>\n",
       "      <td>2021-01-31 00:00:00</td>\n",
       "      <td>Middlesex</td>\n",
       "      <td>Massachusetts</td>\n",
       "      <td>25017.0</td>\n",
       "      <td>101919</td>\n",
       "      <td>3126.0</td>\n",
       "    </tr>\n",
       "    <tr>\n",
       "      <th>983862</th>\n",
       "      <td>2021-01-31 00:00:00</td>\n",
       "      <td>Clark</td>\n",
       "      <td>Nevada</td>\n",
       "      <td>32003.0</td>\n",
       "      <td>214108</td>\n",
       "      <td>3276.0</td>\n",
       "    </tr>\n",
       "    <tr>\n",
       "      <th>983422</th>\n",
       "      <td>2021-01-31 00:00:00</td>\n",
       "      <td>Wayne</td>\n",
       "      <td>Michigan</td>\n",
       "      <td>26163.0</td>\n",
       "      <td>96712</td>\n",
       "      <td>3984.0</td>\n",
       "    </tr>\n",
       "    <tr>\n",
       "      <th>984820</th>\n",
       "      <td>2021-01-31 00:00:00</td>\n",
       "      <td>Harris</td>\n",
       "      <td>Texas</td>\n",
       "      <td>48201.0</td>\n",
       "      <td>317654</td>\n",
       "      <td>4257.0</td>\n",
       "    </tr>\n",
       "    <tr>\n",
       "      <th>982461</th>\n",
       "      <td>2021-01-31 00:00:00</td>\n",
       "      <td>Miami-Dade</td>\n",
       "      <td>Florida</td>\n",
       "      <td>12086.0</td>\n",
       "      <td>372119</td>\n",
       "      <td>4874.0</td>\n",
       "    </tr>\n",
       "    <tr>\n",
       "      <th>982199</th>\n",
       "      <td>2021-01-31 00:00:00</td>\n",
       "      <td>Maricopa</td>\n",
       "      <td>Arizona</td>\n",
       "      <td>4013.0</td>\n",
       "      <td>472760</td>\n",
       "      <td>7462.0</td>\n",
       "    </tr>\n",
       "    <tr>\n",
       "      <th>982712</th>\n",
       "      <td>2021-01-31 00:00:00</td>\n",
       "      <td>Cook</td>\n",
       "      <td>Illinois</td>\n",
       "      <td>17031.0</td>\n",
       "      <td>453634</td>\n",
       "      <td>9374.0</td>\n",
       "    </tr>\n",
       "    <tr>\n",
       "      <th>982301</th>\n",
       "      <td>2021-01-31 00:00:00</td>\n",
       "      <td>Los Angeles</td>\n",
       "      <td>California</td>\n",
       "      <td>6037.0</td>\n",
       "      <td>1117346</td>\n",
       "      <td>16770.0</td>\n",
       "    </tr>\n",
       "    <tr>\n",
       "      <th>983972</th>\n",
       "      <td>2021-01-31 00:00:00</td>\n",
       "      <td>New York City</td>\n",
       "      <td>New York</td>\n",
       "      <td>NaN</td>\n",
       "      <td>608862</td>\n",
       "      <td>27138.0</td>\n",
       "    </tr>\n",
       "  </tbody>\n",
       "</table>\n",
       "</div>"
      ],
      "text/plain": [
       "                       date         county          state     fips    cases  \\\n",
       "983402  2021-01-31 00:00:00        Oakland       Michigan  26125.0    70447   \n",
       "983999  2021-01-31 00:00:00    Westchester       New York  36119.0    94213   \n",
       "983899  2021-01-31 00:00:00      Middlesex     New Jersey  34023.0    63956   \n",
       "982405  2021-01-31 00:00:00      Fairfield    Connecticut   9001.0    72026   \n",
       "983329  2021-01-31 00:00:00          Essex  Massachusetts  25009.0    77363   \n",
       "982424  2021-01-31 00:00:00        Broward        Florida  12011.0   172864   \n",
       "982406  2021-01-31 00:00:00       Hartford    Connecticut   9003.0    63211   \n",
       "984789  2021-01-31 00:00:00        El Paso          Texas  48141.0   113637   \n",
       "984939  2021-01-31 00:00:00        Tarrant          Texas  48439.0   216910   \n",
       "982468  2021-01-31 00:00:00     Palm Beach        Florida  12099.0   107240   \n",
       "984734  2021-01-31 00:00:00          Bexar          Texas  48029.0   173166   \n",
       "984827  2021-01-31 00:00:00        Hidalgo          Texas  48215.0    62621   \n",
       "983889  2021-01-31 00:00:00         Bergen     New Jersey  34003.0    67253   \n",
       "983894  2021-01-31 00:00:00          Essex     New Jersey  34013.0    65161   \n",
       "982319  2021-01-31 00:00:00      San Diego     California   6073.0   238105   \n",
       "983971  2021-01-31 00:00:00         Nassau       New York  36059.0   128735   \n",
       "983991  2021-01-31 00:00:00        Suffolk       New York  36103.0   143498   \n",
       "984776  2021-01-31 00:00:00         Dallas          Texas  48113.0   258517   \n",
       "984410  2021-01-31 00:00:00   Philadelphia   Pennsylvania  42101.0   109231   \n",
       "982312  2021-01-31 00:00:00         Orange     California   6059.0   245978   \n",
       "982315  2021-01-31 00:00:00      Riverside     California   6065.0   271910   \n",
       "983333  2021-01-31 00:00:00      Middlesex  Massachusetts  25017.0   101919   \n",
       "983862  2021-01-31 00:00:00          Clark         Nevada  32003.0   214108   \n",
       "983422  2021-01-31 00:00:00          Wayne       Michigan  26163.0    96712   \n",
       "984820  2021-01-31 00:00:00         Harris          Texas  48201.0   317654   \n",
       "982461  2021-01-31 00:00:00     Miami-Dade        Florida  12086.0   372119   \n",
       "982199  2021-01-31 00:00:00       Maricopa        Arizona   4013.0   472760   \n",
       "982712  2021-01-31 00:00:00           Cook       Illinois  17031.0   453634   \n",
       "982301  2021-01-31 00:00:00    Los Angeles     California   6037.0  1117346   \n",
       "983972  2021-01-31 00:00:00  New York City       New York      NaN   608862   \n",
       "\n",
       "         deaths  \n",
       "983402   1898.0  \n",
       "983999   1906.0  \n",
       "983899   1923.0  \n",
       "982405   1932.0  \n",
       "983329   1969.0  \n",
       "982424   2092.0  \n",
       "982406   2107.0  \n",
       "984789   2116.0  \n",
       "984939   2160.0  \n",
       "982468   2166.0  \n",
       "984734   2348.0  \n",
       "984827   2427.0  \n",
       "983889   2474.0  \n",
       "983894   2539.0  \n",
       "982319   2619.0  \n",
       "983971   2677.0  \n",
       "983991   2794.0  \n",
       "984776   2819.0  \n",
       "984410   2908.0  \n",
       "982312   3062.0  \n",
       "982315   3091.0  \n",
       "983333   3126.0  \n",
       "983862   3276.0  \n",
       "983422   3984.0  \n",
       "984820   4257.0  \n",
       "982461   4874.0  \n",
       "982199   7462.0  \n",
       "982712   9374.0  \n",
       "982301  16770.0  \n",
       "983972  27138.0  "
      ]
     },
     "execution_count": 42,
     "metadata": {},
     "output_type": "execute_result"
    }
   ],
   "source": [
    "deathsbycounty[-30:]"
   ]
  },
  {
   "cell_type": "code",
   "execution_count": null,
   "metadata": {},
   "outputs": [],
   "source": [
    "np.sum(deathsbycounty.deaths[-30:]) / np.sum(deathsbycounty.deaths)"
   ]
  },
  {
   "cell_type": "code",
   "execution_count": null,
   "metadata": {},
   "outputs": [],
   "source": [
    "np.sum(deathsbycounty.deaths[-30:])"
   ]
  },
  {
   "cell_type": "code",
   "execution_count": 43,
   "metadata": {},
   "outputs": [
    {
     "data": {
      "text/html": [
       "<div>\n",
       "<style scoped>\n",
       "    .dataframe tbody tr th:only-of-type {\n",
       "        vertical-align: middle;\n",
       "    }\n",
       "\n",
       "    .dataframe tbody tr th {\n",
       "        vertical-align: top;\n",
       "    }\n",
       "\n",
       "    .dataframe thead th {\n",
       "        text-align: right;\n",
       "    }\n",
       "</style>\n",
       "<table border=\"1\" class=\"dataframe\">\n",
       "  <thead>\n",
       "    <tr style=\"text-align: right;\">\n",
       "      <th></th>\n",
       "      <th>date</th>\n",
       "      <th>county</th>\n",
       "      <th>state</th>\n",
       "      <th>fips</th>\n",
       "      <th>cases</th>\n",
       "      <th>deaths</th>\n",
       "    </tr>\n",
       "  </thead>\n",
       "  <tbody>\n",
       "    <tr>\n",
       "      <th>1844482</th>\n",
       "      <td>2021-10-23 00:00:00</td>\n",
       "      <td>New York City</td>\n",
       "      <td>New York</td>\n",
       "      <td>NaN</td>\n",
       "      <td>1113762</td>\n",
       "      <td>34502.0</td>\n",
       "    </tr>\n",
       "    <tr>\n",
       "      <th>1841232</th>\n",
       "      <td>2021-10-22 00:00:00</td>\n",
       "      <td>New York City</td>\n",
       "      <td>New York</td>\n",
       "      <td>NaN</td>\n",
       "      <td>1113762</td>\n",
       "      <td>34502.0</td>\n",
       "    </tr>\n",
       "    <tr>\n",
       "      <th>1850982</th>\n",
       "      <td>2021-10-25 00:00:00</td>\n",
       "      <td>New York City</td>\n",
       "      <td>New York</td>\n",
       "      <td>NaN</td>\n",
       "      <td>1116428</td>\n",
       "      <td>34531.0</td>\n",
       "    </tr>\n",
       "    <tr>\n",
       "      <th>1854231</th>\n",
       "      <td>2021-10-26 00:00:00</td>\n",
       "      <td>New York City</td>\n",
       "      <td>New York</td>\n",
       "      <td>NaN</td>\n",
       "      <td>1117283</td>\n",
       "      <td>34533.0</td>\n",
       "    </tr>\n",
       "    <tr>\n",
       "      <th>1860729</th>\n",
       "      <td>2021-10-28 00:00:00</td>\n",
       "      <td>New York City</td>\n",
       "      <td>New York</td>\n",
       "      <td>NaN</td>\n",
       "      <td>1117924</td>\n",
       "      <td>34544.0</td>\n",
       "    </tr>\n",
       "    <tr>\n",
       "      <th>1857480</th>\n",
       "      <td>2021-10-27 00:00:00</td>\n",
       "      <td>New York City</td>\n",
       "      <td>New York</td>\n",
       "      <td>NaN</td>\n",
       "      <td>1117924</td>\n",
       "      <td>34544.0</td>\n",
       "    </tr>\n",
       "    <tr>\n",
       "      <th>1863978</th>\n",
       "      <td>2021-10-29 00:00:00</td>\n",
       "      <td>New York City</td>\n",
       "      <td>New York</td>\n",
       "      <td>NaN</td>\n",
       "      <td>1119470</td>\n",
       "      <td>34557.0</td>\n",
       "    </tr>\n",
       "    <tr>\n",
       "      <th>1870476</th>\n",
       "      <td>2021-10-31 00:00:00</td>\n",
       "      <td>New York City</td>\n",
       "      <td>New York</td>\n",
       "      <td>NaN</td>\n",
       "      <td>1119470</td>\n",
       "      <td>34557.0</td>\n",
       "    </tr>\n",
       "    <tr>\n",
       "      <th>1867227</th>\n",
       "      <td>2021-10-30 00:00:00</td>\n",
       "      <td>New York City</td>\n",
       "      <td>New York</td>\n",
       "      <td>NaN</td>\n",
       "      <td>1119470</td>\n",
       "      <td>34557.0</td>\n",
       "    </tr>\n",
       "    <tr>\n",
       "      <th>1873725</th>\n",
       "      <td>2021-11-01 00:00:00</td>\n",
       "      <td>New York City</td>\n",
       "      <td>New York</td>\n",
       "      <td>NaN</td>\n",
       "      <td>1122970</td>\n",
       "      <td>34580.0</td>\n",
       "    </tr>\n",
       "  </tbody>\n",
       "</table>\n",
       "</div>"
      ],
      "text/plain": [
       "                        date         county     state  fips    cases   deaths\n",
       "1844482  2021-10-23 00:00:00  New York City  New York   NaN  1113762  34502.0\n",
       "1841232  2021-10-22 00:00:00  New York City  New York   NaN  1113762  34502.0\n",
       "1850982  2021-10-25 00:00:00  New York City  New York   NaN  1116428  34531.0\n",
       "1854231  2021-10-26 00:00:00  New York City  New York   NaN  1117283  34533.0\n",
       "1860729  2021-10-28 00:00:00  New York City  New York   NaN  1117924  34544.0\n",
       "1857480  2021-10-27 00:00:00  New York City  New York   NaN  1117924  34544.0\n",
       "1863978  2021-10-29 00:00:00  New York City  New York   NaN  1119470  34557.0\n",
       "1870476  2021-10-31 00:00:00  New York City  New York   NaN  1119470  34557.0\n",
       "1867227  2021-10-30 00:00:00  New York City  New York   NaN  1119470  34557.0\n",
       "1873725  2021-11-01 00:00:00  New York City  New York   NaN  1122970  34580.0"
      ]
     },
     "execution_count": 43,
     "metadata": {},
     "output_type": "execute_result"
    }
   ],
   "source": [
    "counties.sort_values(\"deaths\")[-10:]"
   ]
  },
  {
   "cell_type": "code",
   "execution_count": 44,
   "metadata": {},
   "outputs": [
    {
     "data": {
      "text/html": [
       "<div>\n",
       "<style scoped>\n",
       "    .dataframe tbody tr th:only-of-type {\n",
       "        vertical-align: middle;\n",
       "    }\n",
       "\n",
       "    .dataframe tbody tr th {\n",
       "        vertical-align: top;\n",
       "    }\n",
       "\n",
       "    .dataframe thead th {\n",
       "        text-align: right;\n",
       "    }\n",
       "</style>\n",
       "<table border=\"1\" class=\"dataframe\">\n",
       "  <thead>\n",
       "    <tr style=\"text-align: right;\">\n",
       "      <th></th>\n",
       "      <th>date</th>\n",
       "      <th>county</th>\n",
       "      <th>state</th>\n",
       "      <th>fips</th>\n",
       "      <th>cases</th>\n",
       "      <th>deaths</th>\n",
       "    </tr>\n",
       "  </thead>\n",
       "  <tbody>\n",
       "    <tr>\n",
       "      <th>982315</th>\n",
       "      <td>2021-01-31 00:00:00</td>\n",
       "      <td>Riverside</td>\n",
       "      <td>California</td>\n",
       "      <td>6065.0</td>\n",
       "      <td>271910</td>\n",
       "      <td>3091.0</td>\n",
       "    </tr>\n",
       "    <tr>\n",
       "      <th>983333</th>\n",
       "      <td>2021-01-31 00:00:00</td>\n",
       "      <td>Middlesex</td>\n",
       "      <td>Massachusetts</td>\n",
       "      <td>25017.0</td>\n",
       "      <td>101919</td>\n",
       "      <td>3126.0</td>\n",
       "    </tr>\n",
       "    <tr>\n",
       "      <th>983862</th>\n",
       "      <td>2021-01-31 00:00:00</td>\n",
       "      <td>Clark</td>\n",
       "      <td>Nevada</td>\n",
       "      <td>32003.0</td>\n",
       "      <td>214108</td>\n",
       "      <td>3276.0</td>\n",
       "    </tr>\n",
       "    <tr>\n",
       "      <th>983422</th>\n",
       "      <td>2021-01-31 00:00:00</td>\n",
       "      <td>Wayne</td>\n",
       "      <td>Michigan</td>\n",
       "      <td>26163.0</td>\n",
       "      <td>96712</td>\n",
       "      <td>3984.0</td>\n",
       "    </tr>\n",
       "    <tr>\n",
       "      <th>984820</th>\n",
       "      <td>2021-01-31 00:00:00</td>\n",
       "      <td>Harris</td>\n",
       "      <td>Texas</td>\n",
       "      <td>48201.0</td>\n",
       "      <td>317654</td>\n",
       "      <td>4257.0</td>\n",
       "    </tr>\n",
       "    <tr>\n",
       "      <th>982461</th>\n",
       "      <td>2021-01-31 00:00:00</td>\n",
       "      <td>Miami-Dade</td>\n",
       "      <td>Florida</td>\n",
       "      <td>12086.0</td>\n",
       "      <td>372119</td>\n",
       "      <td>4874.0</td>\n",
       "    </tr>\n",
       "    <tr>\n",
       "      <th>982199</th>\n",
       "      <td>2021-01-31 00:00:00</td>\n",
       "      <td>Maricopa</td>\n",
       "      <td>Arizona</td>\n",
       "      <td>4013.0</td>\n",
       "      <td>472760</td>\n",
       "      <td>7462.0</td>\n",
       "    </tr>\n",
       "    <tr>\n",
       "      <th>982712</th>\n",
       "      <td>2021-01-31 00:00:00</td>\n",
       "      <td>Cook</td>\n",
       "      <td>Illinois</td>\n",
       "      <td>17031.0</td>\n",
       "      <td>453634</td>\n",
       "      <td>9374.0</td>\n",
       "    </tr>\n",
       "    <tr>\n",
       "      <th>982301</th>\n",
       "      <td>2021-01-31 00:00:00</td>\n",
       "      <td>Los Angeles</td>\n",
       "      <td>California</td>\n",
       "      <td>6037.0</td>\n",
       "      <td>1117346</td>\n",
       "      <td>16770.0</td>\n",
       "    </tr>\n",
       "    <tr>\n",
       "      <th>983972</th>\n",
       "      <td>2021-01-31 00:00:00</td>\n",
       "      <td>New York City</td>\n",
       "      <td>New York</td>\n",
       "      <td>NaN</td>\n",
       "      <td>608862</td>\n",
       "      <td>27138.0</td>\n",
       "    </tr>\n",
       "  </tbody>\n",
       "</table>\n",
       "</div>"
      ],
      "text/plain": [
       "                       date         county          state     fips    cases  \\\n",
       "982315  2021-01-31 00:00:00      Riverside     California   6065.0   271910   \n",
       "983333  2021-01-31 00:00:00      Middlesex  Massachusetts  25017.0   101919   \n",
       "983862  2021-01-31 00:00:00          Clark         Nevada  32003.0   214108   \n",
       "983422  2021-01-31 00:00:00          Wayne       Michigan  26163.0    96712   \n",
       "984820  2021-01-31 00:00:00         Harris          Texas  48201.0   317654   \n",
       "982461  2021-01-31 00:00:00     Miami-Dade        Florida  12086.0   372119   \n",
       "982199  2021-01-31 00:00:00       Maricopa        Arizona   4013.0   472760   \n",
       "982712  2021-01-31 00:00:00           Cook       Illinois  17031.0   453634   \n",
       "982301  2021-01-31 00:00:00    Los Angeles     California   6037.0  1117346   \n",
       "983972  2021-01-31 00:00:00  New York City       New York      NaN   608862   \n",
       "\n",
       "         deaths  \n",
       "982315   3091.0  \n",
       "983333   3126.0  \n",
       "983862   3276.0  \n",
       "983422   3984.0  \n",
       "984820   4257.0  \n",
       "982461   4874.0  \n",
       "982199   7462.0  \n",
       "982712   9374.0  \n",
       "982301  16770.0  \n",
       "983972  27138.0  "
      ]
     },
     "execution_count": 44,
     "metadata": {},
     "output_type": "execute_result"
    }
   ],
   "source": [
    "deathsbycounty[-10:]"
   ]
  },
  {
   "cell_type": "code",
   "execution_count": 5,
   "metadata": {},
   "outputs": [],
   "source": [
    "# Now we need to go fetch population by county \n",
    "# This table purports to assemble 2020 census data in a usable table\n",
    "# https://github.com/nytimes/covid-19-data/issues/180\n",
    "population = pd.read_json(\"https://raw.githubusercontent.com/Zoooook/CoronavirusTimelapse/master/static/population.json\")"
   ]
  },
  {
   "cell_type": "code",
   "execution_count": 6,
   "metadata": {},
   "outputs": [
    {
     "data": {
      "text/html": [
       "<div>\n",
       "<style scoped>\n",
       "    .dataframe tbody tr th:only-of-type {\n",
       "        vertical-align: middle;\n",
       "    }\n",
       "\n",
       "    .dataframe tbody tr th {\n",
       "        vertical-align: top;\n",
       "    }\n",
       "\n",
       "    .dataframe thead th {\n",
       "        text-align: right;\n",
       "    }\n",
       "</style>\n",
       "<table border=\"1\" class=\"dataframe\">\n",
       "  <thead>\n",
       "    <tr style=\"text-align: right;\">\n",
       "      <th></th>\n",
       "      <th>us_state_fips</th>\n",
       "      <th>us_county_fips</th>\n",
       "      <th>population</th>\n",
       "      <th>region</th>\n",
       "      <th>subregion</th>\n",
       "      <th>nyt_population</th>\n",
       "    </tr>\n",
       "  </thead>\n",
       "  <tbody>\n",
       "    <tr>\n",
       "      <th>0</th>\n",
       "      <td>78</td>\n",
       "      <td>78999</td>\n",
       "      <td>104680</td>\n",
       "      <td>Virgin Islands</td>\n",
       "      <td>Unknown</td>\n",
       "      <td>NaN</td>\n",
       "    </tr>\n",
       "    <tr>\n",
       "      <th>1</th>\n",
       "      <td>72</td>\n",
       "      <td>72999</td>\n",
       "      <td>3386941</td>\n",
       "      <td>Puerto Rico</td>\n",
       "      <td>Unknown</td>\n",
       "      <td>NaN</td>\n",
       "    </tr>\n",
       "    <tr>\n",
       "      <th>2</th>\n",
       "      <td>66</td>\n",
       "      <td>66999</td>\n",
       "      <td>165768</td>\n",
       "      <td>Guam</td>\n",
       "      <td>Unknown</td>\n",
       "      <td>NaN</td>\n",
       "    </tr>\n",
       "    <tr>\n",
       "      <th>3</th>\n",
       "      <td>69</td>\n",
       "      <td>69999</td>\n",
       "      <td>56882</td>\n",
       "      <td>Northern Mariana Islands</td>\n",
       "      <td>Unknown</td>\n",
       "      <td>NaN</td>\n",
       "    </tr>\n",
       "    <tr>\n",
       "      <th>4</th>\n",
       "      <td>1</td>\n",
       "      <td>1001</td>\n",
       "      <td>55200</td>\n",
       "      <td>Alabama</td>\n",
       "      <td>Autauga</td>\n",
       "      <td>NaN</td>\n",
       "    </tr>\n",
       "  </tbody>\n",
       "</table>\n",
       "</div>"
      ],
      "text/plain": [
       "   us_state_fips  us_county_fips  population                    region  \\\n",
       "0             78           78999      104680            Virgin Islands   \n",
       "1             72           72999     3386941               Puerto Rico   \n",
       "2             66           66999      165768                      Guam   \n",
       "3             69           69999       56882  Northern Mariana Islands   \n",
       "4              1            1001       55200                   Alabama   \n",
       "\n",
       "  subregion  nyt_population  \n",
       "0   Unknown             NaN  \n",
       "1   Unknown             NaN  \n",
       "2   Unknown             NaN  \n",
       "3   Unknown             NaN  \n",
       "4   Autauga             NaN  "
      ]
     },
     "execution_count": 6,
     "metadata": {},
     "output_type": "execute_result"
    }
   ],
   "source": [
    "population.head()"
   ]
  },
  {
   "cell_type": "code",
   "execution_count": 7,
   "metadata": {},
   "outputs": [
    {
     "data": {
      "text/html": [
       "<div>\n",
       "<style scoped>\n",
       "    .dataframe tbody tr th:only-of-type {\n",
       "        vertical-align: middle;\n",
       "    }\n",
       "\n",
       "    .dataframe tbody tr th {\n",
       "        vertical-align: top;\n",
       "    }\n",
       "\n",
       "    .dataframe thead th {\n",
       "        text-align: right;\n",
       "    }\n",
       "</style>\n",
       "<table border=\"1\" class=\"dataframe\">\n",
       "  <thead>\n",
       "    <tr style=\"text-align: right;\">\n",
       "      <th></th>\n",
       "      <th>us_state_fips</th>\n",
       "      <th>us_county_fips</th>\n",
       "      <th>population</th>\n",
       "      <th>region</th>\n",
       "      <th>subregion</th>\n",
       "      <th>nyt_population</th>\n",
       "    </tr>\n",
       "  </thead>\n",
       "  <tbody>\n",
       "    <tr>\n",
       "      <th>1940</th>\n",
       "      <td>37</td>\n",
       "      <td>37099</td>\n",
       "      <td>42256</td>\n",
       "      <td>North Carolina</td>\n",
       "      <td>Jackson</td>\n",
       "      <td>NaN</td>\n",
       "    </tr>\n",
       "    <tr>\n",
       "      <th>699</th>\n",
       "      <td>17</td>\n",
       "      <td>17201</td>\n",
       "      <td>286174</td>\n",
       "      <td>Illinois</td>\n",
       "      <td>Winnebago</td>\n",
       "      <td>NaN</td>\n",
       "    </tr>\n",
       "    <tr>\n",
       "      <th>1029</th>\n",
       "      <td>21</td>\n",
       "      <td>21065</td>\n",
       "      <td>14313</td>\n",
       "      <td>Kentucky</td>\n",
       "      <td>Estill</td>\n",
       "      <td>NaN</td>\n",
       "    </tr>\n",
       "    <tr>\n",
       "      <th>902</th>\n",
       "      <td>20</td>\n",
       "      <td>20021</td>\n",
       "      <td>20331</td>\n",
       "      <td>Kansas</td>\n",
       "      <td>Cherokee</td>\n",
       "      <td>NaN</td>\n",
       "    </tr>\n",
       "    <tr>\n",
       "      <th>483</th>\n",
       "      <td>13</td>\n",
       "      <td>13187</td>\n",
       "      <td>31951</td>\n",
       "      <td>Georgia</td>\n",
       "      <td>Lumpkin</td>\n",
       "      <td>NaN</td>\n",
       "    </tr>\n",
       "  </tbody>\n",
       "</table>\n",
       "</div>"
      ],
      "text/plain": [
       "      us_state_fips  us_county_fips  population          region  subregion  \\\n",
       "1940             37           37099       42256  North Carolina    Jackson   \n",
       "699              17           17201      286174        Illinois  Winnebago   \n",
       "1029             21           21065       14313        Kentucky     Estill   \n",
       "902              20           20021       20331          Kansas   Cherokee   \n",
       "483              13           13187       31951         Georgia    Lumpkin   \n",
       "\n",
       "      nyt_population  \n",
       "1940             NaN  \n",
       "699              NaN  \n",
       "1029             NaN  \n",
       "902              NaN  \n",
       "483              NaN  "
      ]
     },
     "execution_count": 7,
     "metadata": {},
     "output_type": "execute_result"
    }
   ],
   "source": [
    "population.sample(5)"
   ]
  },
  {
   "cell_type": "code",
   "execution_count": 47,
   "metadata": {},
   "outputs": [
    {
     "data": {
      "text/plain": [
       "326617301"
      ]
     },
     "execution_count": 47,
     "metadata": {},
     "output_type": "execute_result"
    }
   ],
   "source": [
    "population.population.sum()"
   ]
  },
  {
   "cell_type": "code",
   "execution_count": null,
   "metadata": {},
   "outputs": [],
   "source": [
    "# 326 million.. this is more recent than the 2010 census then."
   ]
  },
  {
   "cell_type": "code",
   "execution_count": null,
   "metadata": {},
   "outputs": [],
   "source": []
  },
  {
   "cell_type": "code",
   "execution_count": 48,
   "metadata": {},
   "outputs": [],
   "source": [
    "countiesbypop = population.population.sort_values(ascending=False)"
   ]
  },
  {
   "cell_type": "code",
   "execution_count": 49,
   "metadata": {},
   "outputs": [
    {
     "data": {
      "text/plain": [
       "[<matplotlib.lines.Line2D at 0x7fb13cd24bb0>]"
      ]
     },
     "execution_count": 49,
     "metadata": {},
     "output_type": "execute_result"
    },
    {
     "data": {
      "image/png": "[encoded data removed]",
      "text/plain": [
       "<Figure size 432x288 with 1 Axes>"
      ]
     },
     "metadata": {
      "needs_background": "light"
     },
     "output_type": "display_data"
    }
   ],
   "source": [
    "plt.plot(np.arange(len(countiesbypop)), countiesbypop)"
   ]
  },
  {
   "cell_type": "code",
   "execution_count": 50,
   "metadata": {},
   "outputs": [
    {
     "data": {
      "text/plain": [
       "Text(0, 0.5, 'Cumulative population')"
      ]
     },
     "execution_count": 50,
     "metadata": {},
     "output_type": "execute_result"
    },
    {
     "data": {
      "image/png": "[encoded data removed]",
      "text/plain": [
       "<Figure size 432x288 with 1 Axes>"
      ]
     },
     "metadata": {
      "needs_background": "light"
     },
     "output_type": "display_data"
    }
   ],
   "source": [
    "plt.plot(np.arange(len(countiesbypop)), np.cumsum(countiesbypop))\n",
    "plt.xlabel(\"County population rank\")\n",
    "plt.ylabel(\"Cumulative population\")"
   ]
  },
  {
   "cell_type": "code",
   "execution_count": 51,
   "metadata": {},
   "outputs": [],
   "source": [
    "deathsbycountyrev = febdata.deaths.sort_values(ascending=False)"
   ]
  },
  {
   "cell_type": "code",
   "execution_count": 52,
   "metadata": {},
   "outputs": [
    {
     "data": {
      "text/plain": [
       "[<matplotlib.lines.Line2D at 0x7fb12a387640>]"
      ]
     },
     "execution_count": 52,
     "metadata": {},
     "output_type": "execute_result"
    },
    {
     "data": {
      "image/png": "[encoded data removed]",
      "text/plain": [
       "<Figure size 432x288 with 1 Axes>"
      ]
     },
     "metadata": {
      "needs_background": "light"
     },
     "output_type": "display_data"
    }
   ],
   "source": [
    "plt.plot(np.arange(len(countiesbypop)), np.cumsum(countiesbypop))\n",
    "plt.plot(np.arange(len(deathsbycountyrev)), np.cumsum(deathsbycountyrev))"
   ]
  },
  {
   "cell_type": "code",
   "execution_count": null,
   "metadata": {},
   "outputs": [],
   "source": [
    "# -1 point for not being expressive.  326 million and 400k don't\n",
    "# fit on the same graph.  Log transform?"
   ]
  },
  {
   "cell_type": "code",
   "execution_count": 53,
   "metadata": {},
   "outputs": [
    {
     "data": {
      "image/png": "[encoded data removed]",
      "text/plain": [
       "<Figure size 432x288 with 1 Axes>"
      ]
     },
     "metadata": {
      "needs_background": "light"
     },
     "output_type": "display_data"
    }
   ],
   "source": [
    "plt.plot(np.arange(len(countiesbypop)), np.cumsum(countiesbypop))\n",
    "plt.plot(np.arange(len(deathsbycountyrev)), np.cumsum(deathsbycountyrev))\n",
    "plt.yscale(\"log\")"
   ]
  },
  {
   "cell_type": "code",
   "execution_count": null,
   "metadata": {},
   "outputs": [],
   "source": [
    "# I am being intellecutally dishonest here, watch out. \n",
    "# Because I've not joined the two tables on the fips county id yet,\n",
    "# I am presenting two sorted series of counties \n",
    "# that have been sorted by different columns\n",
    "# as if they are the same.  One is sorted by population;\n",
    "# one is sorted by deaths.  But each row has its own identity, \n",
    "# and there is a one-to-one relationship betwen population and\n",
    "# deaths that I have NOT yet shown."
   ]
  },
  {
   "cell_type": "code",
   "execution_count": 54,
   "metadata": {},
   "outputs": [
    {
     "data": {
      "text/html": [
       "<div>\n",
       "<style scoped>\n",
       "    .dataframe tbody tr th:only-of-type {\n",
       "        vertical-align: middle;\n",
       "    }\n",
       "\n",
       "    .dataframe tbody tr th {\n",
       "        vertical-align: top;\n",
       "    }\n",
       "\n",
       "    .dataframe thead th {\n",
       "        text-align: right;\n",
       "    }\n",
       "</style>\n",
       "<table border=\"1\" class=\"dataframe\">\n",
       "  <thead>\n",
       "    <tr style=\"text-align: right;\">\n",
       "      <th></th>\n",
       "      <th>us_state_fips</th>\n",
       "      <th>us_county_fips</th>\n",
       "      <th>population</th>\n",
       "      <th>region</th>\n",
       "      <th>subregion</th>\n",
       "      <th>nyt_population</th>\n",
       "    </tr>\n",
       "  </thead>\n",
       "  <tbody>\n",
       "    <tr>\n",
       "      <th>0</th>\n",
       "      <td>78</td>\n",
       "      <td>78999</td>\n",
       "      <td>104680</td>\n",
       "      <td>Virgin Islands</td>\n",
       "      <td>Unknown</td>\n",
       "      <td>NaN</td>\n",
       "    </tr>\n",
       "  </tbody>\n",
       "</table>\n",
       "</div>"
      ],
      "text/plain": [
       "   us_state_fips  us_county_fips  population          region subregion  \\\n",
       "0             78           78999      104680  Virgin Islands   Unknown   \n",
       "\n",
       "   nyt_population  \n",
       "0             NaN  "
      ]
     },
     "execution_count": 54,
     "metadata": {},
     "output_type": "execute_result"
    }
   ],
   "source": [
    "population.head(1)"
   ]
  },
  {
   "cell_type": "code",
   "execution_count": 55,
   "metadata": {},
   "outputs": [
    {
     "data": {
      "text/html": [
       "<div>\n",
       "<style scoped>\n",
       "    .dataframe tbody tr th:only-of-type {\n",
       "        vertical-align: middle;\n",
       "    }\n",
       "\n",
       "    .dataframe tbody tr th {\n",
       "        vertical-align: top;\n",
       "    }\n",
       "\n",
       "    .dataframe thead th {\n",
       "        text-align: right;\n",
       "    }\n",
       "</style>\n",
       "<table border=\"1\" class=\"dataframe\">\n",
       "  <thead>\n",
       "    <tr style=\"text-align: right;\">\n",
       "      <th></th>\n",
       "      <th>date</th>\n",
       "      <th>county</th>\n",
       "      <th>state</th>\n",
       "      <th>fips</th>\n",
       "      <th>cases</th>\n",
       "      <th>deaths</th>\n",
       "    </tr>\n",
       "  </thead>\n",
       "  <tbody>\n",
       "    <tr>\n",
       "      <th>982097</th>\n",
       "      <td>2021-01-31 00:00:00</td>\n",
       "      <td>Autauga</td>\n",
       "      <td>Alabama</td>\n",
       "      <td>1001.0</td>\n",
       "      <td>5669</td>\n",
       "      <td>69.0</td>\n",
       "    </tr>\n",
       "  </tbody>\n",
       "</table>\n",
       "</div>"
      ],
      "text/plain": [
       "                       date   county    state    fips  cases  deaths\n",
       "982097  2021-01-31 00:00:00  Autauga  Alabama  1001.0   5669    69.0"
      ]
     },
     "execution_count": 55,
     "metadata": {},
     "output_type": "execute_result"
    }
   ],
   "source": [
    "febdata.head(1)"
   ]
  },
  {
   "cell_type": "code",
   "execution_count": null,
   "metadata": {},
   "outputs": [],
   "source": [
    "# I have to note that the deaths data encodes fips as a \n",
    "# floating point number, while the population data enocdes \n",
    "# it as an integer.  This is probably enough to prevent me\n",
    "# from joining it.  \n"
   ]
  },
  {
   "cell_type": "code",
   "execution_count": 56,
   "metadata": {},
   "outputs": [
    {
     "data": {
      "text/plain": [
       "dtype('float64')"
      ]
     },
     "execution_count": 56,
     "metadata": {},
     "output_type": "execute_result"
    }
   ],
   "source": [
    "febdata.fips.dtype"
   ]
  },
  {
   "cell_type": "code",
   "execution_count": 57,
   "metadata": {},
   "outputs": [
    {
     "ename": "ValueError",
     "evalue": "Cannot convert non-finite values (NA or inf) to integer",
     "output_type": "error",
     "traceback": [
      "\u001b[0;31m---------------------------------------------------------------------------\u001b[0m",
      "\u001b[0;31mValueError\u001b[0m                                Traceback (most recent call last)",
      "\u001b[0;32m<ipython-input-57-070f53818bd4>\u001b[0m in \u001b[0;36m<module>\u001b[0;34m\u001b[0m\n\u001b[1;32m      1\u001b[0m \u001b[0;31m# can I recast it as an integer?\u001b[0m\u001b[0;34m\u001b[0m\u001b[0;34m\u001b[0m\u001b[0;34m\u001b[0m\u001b[0m\n\u001b[0;32m----> 2\u001b[0;31m \u001b[0mfebdata\u001b[0m\u001b[0;34m.\u001b[0m\u001b[0mfips\u001b[0m\u001b[0;34m.\u001b[0m\u001b[0mastype\u001b[0m\u001b[0;34m(\u001b[0m\u001b[0;34m\"int64\"\u001b[0m\u001b[0;34m)\u001b[0m\u001b[0;34m\u001b[0m\u001b[0;34m\u001b[0m\u001b[0m\n\u001b[0m",
      "\u001b[0;32m/Applications/anaconda3/lib/python3.8/site-packages/pandas/core/generic.py\u001b[0m in \u001b[0;36mastype\u001b[0;34m(self, dtype, copy, errors)\u001b[0m\n\u001b[1;32m   5544\u001b[0m         \u001b[0;32melse\u001b[0m\u001b[0;34m:\u001b[0m\u001b[0;34m\u001b[0m\u001b[0;34m\u001b[0m\u001b[0m\n\u001b[1;32m   5545\u001b[0m             \u001b[0;31m# else, only a single dtype is given\u001b[0m\u001b[0;34m\u001b[0m\u001b[0;34m\u001b[0m\u001b[0;34m\u001b[0m\u001b[0m\n\u001b[0;32m-> 5546\u001b[0;31m             \u001b[0mnew_data\u001b[0m \u001b[0;34m=\u001b[0m \u001b[0mself\u001b[0m\u001b[0;34m.\u001b[0m\u001b[0m_mgr\u001b[0m\u001b[0;34m.\u001b[0m\u001b[0mastype\u001b[0m\u001b[0;34m(\u001b[0m\u001b[0mdtype\u001b[0m\u001b[0;34m=\u001b[0m\u001b[0mdtype\u001b[0m\u001b[0;34m,\u001b[0m \u001b[0mcopy\u001b[0m\u001b[0;34m=\u001b[0m\u001b[0mcopy\u001b[0m\u001b[0;34m,\u001b[0m \u001b[0merrors\u001b[0m\u001b[0;34m=\u001b[0m\u001b[0merrors\u001b[0m\u001b[0;34m,\u001b[0m\u001b[0;34m)\u001b[0m\u001b[0;34m\u001b[0m\u001b[0;34m\u001b[0m\u001b[0m\n\u001b[0m\u001b[1;32m   5547\u001b[0m             \u001b[0;32mreturn\u001b[0m \u001b[0mself\u001b[0m\u001b[0;34m.\u001b[0m\u001b[0m_constructor\u001b[0m\u001b[0;34m(\u001b[0m\u001b[0mnew_data\u001b[0m\u001b[0;34m)\u001b[0m\u001b[0;34m.\u001b[0m\u001b[0m__finalize__\u001b[0m\u001b[0;34m(\u001b[0m\u001b[0mself\u001b[0m\u001b[0;34m,\u001b[0m \u001b[0mmethod\u001b[0m\u001b[0;34m=\u001b[0m\u001b[0;34m\"astype\"\u001b[0m\u001b[0;34m)\u001b[0m\u001b[0;34m\u001b[0m\u001b[0;34m\u001b[0m\u001b[0m\n\u001b[1;32m   5548\u001b[0m \u001b[0;34m\u001b[0m\u001b[0m\n",
      "\u001b[0;32m/Applications/anaconda3/lib/python3.8/site-packages/pandas/core/internals/managers.py\u001b[0m in \u001b[0;36mastype\u001b[0;34m(self, dtype, copy, errors)\u001b[0m\n\u001b[1;32m    593\u001b[0m         \u001b[0mself\u001b[0m\u001b[0;34m,\u001b[0m \u001b[0mdtype\u001b[0m\u001b[0;34m,\u001b[0m \u001b[0mcopy\u001b[0m\u001b[0;34m:\u001b[0m \u001b[0mbool\u001b[0m \u001b[0;34m=\u001b[0m \u001b[0;32mFalse\u001b[0m\u001b[0;34m,\u001b[0m \u001b[0merrors\u001b[0m\u001b[0;34m:\u001b[0m \u001b[0mstr\u001b[0m \u001b[0;34m=\u001b[0m \u001b[0;34m\"raise\"\u001b[0m\u001b[0;34m\u001b[0m\u001b[0;34m\u001b[0m\u001b[0m\n\u001b[1;32m    594\u001b[0m     ) -> \"BlockManager\":\n\u001b[0;32m--> 595\u001b[0;31m         \u001b[0;32mreturn\u001b[0m \u001b[0mself\u001b[0m\u001b[0;34m.\u001b[0m\u001b[0mapply\u001b[0m\u001b[0;34m(\u001b[0m\u001b[0;34m\"astype\"\u001b[0m\u001b[0;34m,\u001b[0m \u001b[0mdtype\u001b[0m\u001b[0;34m=\u001b[0m\u001b[0mdtype\u001b[0m\u001b[0;34m,\u001b[0m \u001b[0mcopy\u001b[0m\u001b[0;34m=\u001b[0m\u001b[0mcopy\u001b[0m\u001b[0;34m,\u001b[0m \u001b[0merrors\u001b[0m\u001b[0;34m=\u001b[0m\u001b[0merrors\u001b[0m\u001b[0;34m)\u001b[0m\u001b[0;34m\u001b[0m\u001b[0;34m\u001b[0m\u001b[0m\n\u001b[0m\u001b[1;32m    596\u001b[0m \u001b[0;34m\u001b[0m\u001b[0m\n\u001b[1;32m    597\u001b[0m     def convert(\n",
      "\u001b[0;32m/Applications/anaconda3/lib/python3.8/site-packages/pandas/core/internals/managers.py\u001b[0m in \u001b[0;36mapply\u001b[0;34m(self, f, align_keys, **kwargs)\u001b[0m\n\u001b[1;32m    404\u001b[0m                 \u001b[0mapplied\u001b[0m \u001b[0;34m=\u001b[0m \u001b[0mb\u001b[0m\u001b[0;34m.\u001b[0m\u001b[0mapply\u001b[0m\u001b[0;34m(\u001b[0m\u001b[0mf\u001b[0m\u001b[0;34m,\u001b[0m \u001b[0;34m**\u001b[0m\u001b[0mkwargs\u001b[0m\u001b[0;34m)\u001b[0m\u001b[0;34m\u001b[0m\u001b[0;34m\u001b[0m\u001b[0m\n\u001b[1;32m    405\u001b[0m             \u001b[0;32melse\u001b[0m\u001b[0;34m:\u001b[0m\u001b[0;34m\u001b[0m\u001b[0;34m\u001b[0m\u001b[0m\n\u001b[0;32m--> 406\u001b[0;31m                 \u001b[0mapplied\u001b[0m \u001b[0;34m=\u001b[0m \u001b[0mgetattr\u001b[0m\u001b[0;34m(\u001b[0m\u001b[0mb\u001b[0m\u001b[0;34m,\u001b[0m \u001b[0mf\u001b[0m\u001b[0;34m)\u001b[0m\u001b[0;34m(\u001b[0m\u001b[0;34m**\u001b[0m\u001b[0mkwargs\u001b[0m\u001b[0;34m)\u001b[0m\u001b[0;34m\u001b[0m\u001b[0;34m\u001b[0m\u001b[0m\n\u001b[0m\u001b[1;32m    407\u001b[0m             \u001b[0mresult_blocks\u001b[0m \u001b[0;34m=\u001b[0m \u001b[0m_extend_blocks\u001b[0m\u001b[0;34m(\u001b[0m\u001b[0mapplied\u001b[0m\u001b[0;34m,\u001b[0m \u001b[0mresult_blocks\u001b[0m\u001b[0;34m)\u001b[0m\u001b[0;34m\u001b[0m\u001b[0;34m\u001b[0m\u001b[0m\n\u001b[1;32m    408\u001b[0m \u001b[0;34m\u001b[0m\u001b[0m\n",
      "\u001b[0;32m/Applications/anaconda3/lib/python3.8/site-packages/pandas/core/internals/blocks.py\u001b[0m in \u001b[0;36mastype\u001b[0;34m(self, dtype, copy, errors)\u001b[0m\n\u001b[1;32m    593\u001b[0m             \u001b[0mvals1d\u001b[0m \u001b[0;34m=\u001b[0m \u001b[0mvalues\u001b[0m\u001b[0;34m.\u001b[0m\u001b[0mravel\u001b[0m\u001b[0;34m(\u001b[0m\u001b[0;34m)\u001b[0m\u001b[0;34m\u001b[0m\u001b[0;34m\u001b[0m\u001b[0m\n\u001b[1;32m    594\u001b[0m             \u001b[0;32mtry\u001b[0m\u001b[0;34m:\u001b[0m\u001b[0;34m\u001b[0m\u001b[0;34m\u001b[0m\u001b[0m\n\u001b[0;32m--> 595\u001b[0;31m                 \u001b[0mvalues\u001b[0m \u001b[0;34m=\u001b[0m \u001b[0mastype_nansafe\u001b[0m\u001b[0;34m(\u001b[0m\u001b[0mvals1d\u001b[0m\u001b[0;34m,\u001b[0m \u001b[0mdtype\u001b[0m\u001b[0;34m,\u001b[0m \u001b[0mcopy\u001b[0m\u001b[0;34m=\u001b[0m\u001b[0;32mTrue\u001b[0m\u001b[0;34m)\u001b[0m\u001b[0;34m\u001b[0m\u001b[0;34m\u001b[0m\u001b[0m\n\u001b[0m\u001b[1;32m    596\u001b[0m             \u001b[0;32mexcept\u001b[0m \u001b[0;34m(\u001b[0m\u001b[0mValueError\u001b[0m\u001b[0;34m,\u001b[0m \u001b[0mTypeError\u001b[0m\u001b[0;34m)\u001b[0m\u001b[0;34m:\u001b[0m\u001b[0;34m\u001b[0m\u001b[0;34m\u001b[0m\u001b[0m\n\u001b[1;32m    597\u001b[0m                 \u001b[0;31m# e.g. astype_nansafe can fail on object-dtype of strings\u001b[0m\u001b[0;34m\u001b[0m\u001b[0;34m\u001b[0m\u001b[0;34m\u001b[0m\u001b[0m\n",
      "\u001b[0;32m/Applications/anaconda3/lib/python3.8/site-packages/pandas/core/dtypes/cast.py\u001b[0m in \u001b[0;36mastype_nansafe\u001b[0;34m(arr, dtype, copy, skipna)\u001b[0m\n\u001b[1;32m    964\u001b[0m \u001b[0;34m\u001b[0m\u001b[0m\n\u001b[1;32m    965\u001b[0m         \u001b[0;32mif\u001b[0m \u001b[0;32mnot\u001b[0m \u001b[0mnp\u001b[0m\u001b[0;34m.\u001b[0m\u001b[0misfinite\u001b[0m\u001b[0;34m(\u001b[0m\u001b[0marr\u001b[0m\u001b[0;34m)\u001b[0m\u001b[0;34m.\u001b[0m\u001b[0mall\u001b[0m\u001b[0;34m(\u001b[0m\u001b[0;34m)\u001b[0m\u001b[0;34m:\u001b[0m\u001b[0;34m\u001b[0m\u001b[0;34m\u001b[0m\u001b[0m\n\u001b[0;32m--> 966\u001b[0;31m             \u001b[0;32mraise\u001b[0m \u001b[0mValueError\u001b[0m\u001b[0;34m(\u001b[0m\u001b[0;34m\"Cannot convert non-finite values (NA or inf) to integer\"\u001b[0m\u001b[0;34m)\u001b[0m\u001b[0;34m\u001b[0m\u001b[0;34m\u001b[0m\u001b[0m\n\u001b[0m\u001b[1;32m    967\u001b[0m \u001b[0;34m\u001b[0m\u001b[0m\n\u001b[1;32m    968\u001b[0m     \u001b[0;32melif\u001b[0m \u001b[0mis_object_dtype\u001b[0m\u001b[0;34m(\u001b[0m\u001b[0marr\u001b[0m\u001b[0;34m)\u001b[0m\u001b[0;34m:\u001b[0m\u001b[0;34m\u001b[0m\u001b[0;34m\u001b[0m\u001b[0m\n",
      "\u001b[0;31mValueError\u001b[0m: Cannot convert non-finite values (NA or inf) to integer"
     ]
    }
   ],
   "source": [
    "# can I recast it as an integer?\n",
    "febdata.fips.astype(\"int64\")"
   ]
  },
  {
   "cell_type": "code",
   "execution_count": null,
   "metadata": {},
   "outputs": [],
   "source": [
    "# There are some bad values in there."
   ]
  },
  {
   "cell_type": "code",
   "execution_count": 58,
   "metadata": {},
   "outputs": [],
   "source": [
    "# Can I ignore errors?\n",
    "fips= febdata.fips.astype(\"int64\", errors=\"ignore\")"
   ]
  },
  {
   "cell_type": "code",
   "execution_count": 61,
   "metadata": {},
   "outputs": [
    {
     "data": {
      "text/plain": [
       "982097    1001.0\n",
       "982098    1003.0\n",
       "982099    1005.0\n",
       "982100    1007.0\n",
       "982101    1009.0\n",
       "Name: fips, dtype: float64"
      ]
     },
     "execution_count": 61,
     "metadata": {},
     "output_type": "execute_result"
    }
   ],
   "source": [
    "fips.head()"
   ]
  },
  {
   "cell_type": "code",
   "execution_count": 60,
   "metadata": {},
   "outputs": [
    {
     "data": {
      "text/plain": [
       "dtype('float64')"
      ]
     },
     "execution_count": 60,
     "metadata": {},
     "output_type": "execute_result"
    }
   ],
   "source": [
    "fips.dtype"
   ]
  },
  {
   "cell_type": "code",
   "execution_count": null,
   "metadata": {},
   "outputs": [],
   "source": [
    "# No.  If I ignore errors the result isn't in an integer data type. \n",
    "fips= febdata.fips.astype(np.int64, errors=\"ignore\")\n",
    "fips.dtype"
   ]
  },
  {
   "cell_type": "code",
   "execution_count": null,
   "metadata": {},
   "outputs": [],
   "source": []
  },
  {
   "cell_type": "code",
   "execution_count": null,
   "metadata": {},
   "outputs": [],
   "source": [
    "# How many bad values are there?"
   ]
  },
  {
   "cell_type": "code",
   "execution_count": 62,
   "metadata": {},
   "outputs": [
    {
     "data": {
      "text/plain": [
       "0"
      ]
     },
     "execution_count": 62,
     "metadata": {},
     "output_type": "execute_result"
    }
   ],
   "source": [
    "np.isinf(fips).sum()"
   ]
  },
  {
   "cell_type": "code",
   "execution_count": 63,
   "metadata": {},
   "outputs": [
    {
     "data": {
      "text/plain": [
       "29"
      ]
     },
     "execution_count": 63,
     "metadata": {},
     "output_type": "execute_result"
    }
   ],
   "source": [
    "np.isnan(fips).sum()"
   ]
  },
  {
   "cell_type": "code",
   "execution_count": 64,
   "metadata": {},
   "outputs": [
    {
     "data": {
      "text/html": [
       "<div>\n",
       "<style scoped>\n",
       "    .dataframe tbody tr th:only-of-type {\n",
       "        vertical-align: middle;\n",
       "    }\n",
       "\n",
       "    .dataframe tbody tr th {\n",
       "        vertical-align: top;\n",
       "    }\n",
       "\n",
       "    .dataframe thead th {\n",
       "        text-align: right;\n",
       "    }\n",
       "</style>\n",
       "<table border=\"1\" class=\"dataframe\">\n",
       "  <thead>\n",
       "    <tr style=\"text-align: right;\">\n",
       "      <th></th>\n",
       "      <th>date</th>\n",
       "      <th>county</th>\n",
       "      <th>state</th>\n",
       "      <th>fips</th>\n",
       "      <th>cases</th>\n",
       "      <th>deaths</th>\n",
       "    </tr>\n",
       "  </thead>\n",
       "  <tbody>\n",
       "    <tr>\n",
       "      <th>416</th>\n",
       "      <td>2020-03-01 00:00:00</td>\n",
       "      <td>New York City</td>\n",
       "      <td>New York</td>\n",
       "      <td>NaN</td>\n",
       "      <td>1</td>\n",
       "      <td>0.0</td>\n",
       "    </tr>\n",
       "    <tr>\n",
       "      <th>418</th>\n",
       "      <td>2020-03-01 00:00:00</td>\n",
       "      <td>Unknown</td>\n",
       "      <td>Rhode Island</td>\n",
       "      <td>NaN</td>\n",
       "      <td>2</td>\n",
       "      <td>0.0</td>\n",
       "    </tr>\n",
       "    <tr>\n",
       "      <th>448</th>\n",
       "      <td>2020-03-02 00:00:00</td>\n",
       "      <td>New York City</td>\n",
       "      <td>New York</td>\n",
       "      <td>NaN</td>\n",
       "      <td>1</td>\n",
       "      <td>0.0</td>\n",
       "    </tr>\n",
       "    <tr>\n",
       "      <th>450</th>\n",
       "      <td>2020-03-02 00:00:00</td>\n",
       "      <td>Unknown</td>\n",
       "      <td>Rhode Island</td>\n",
       "      <td>NaN</td>\n",
       "      <td>2</td>\n",
       "      <td>0.0</td>\n",
       "    </tr>\n",
       "    <tr>\n",
       "      <th>482</th>\n",
       "      <td>2020-03-03 00:00:00</td>\n",
       "      <td>New York City</td>\n",
       "      <td>New York</td>\n",
       "      <td>NaN</td>\n",
       "      <td>2</td>\n",
       "      <td>0.0</td>\n",
       "    </tr>\n",
       "    <tr>\n",
       "      <th>...</th>\n",
       "      <td>...</td>\n",
       "      <td>...</td>\n",
       "      <td>...</td>\n",
       "      <td>...</td>\n",
       "      <td>...</td>\n",
       "      <td>...</td>\n",
       "    </tr>\n",
       "    <tr>\n",
       "      <th>1874252</th>\n",
       "      <td>2021-11-01 00:00:00</td>\n",
       "      <td>Unknown</td>\n",
       "      <td>Puerto Rico</td>\n",
       "      <td>NaN</td>\n",
       "      <td>5390</td>\n",
       "      <td>3234.0</td>\n",
       "    </tr>\n",
       "    <tr>\n",
       "      <th>1874264</th>\n",
       "      <td>2021-11-01 00:00:00</td>\n",
       "      <td>Unknown</td>\n",
       "      <td>Rhode Island</td>\n",
       "      <td>NaN</td>\n",
       "      <td>13311</td>\n",
       "      <td>14.0</td>\n",
       "    </tr>\n",
       "    <tr>\n",
       "      <th>1874465</th>\n",
       "      <td>2021-11-01 00:00:00</td>\n",
       "      <td>Unknown</td>\n",
       "      <td>Tennessee</td>\n",
       "      <td>NaN</td>\n",
       "      <td>7884</td>\n",
       "      <td>120.0</td>\n",
       "    </tr>\n",
       "    <tr>\n",
       "      <th>1874752</th>\n",
       "      <td>2021-11-01 00:00:00</td>\n",
       "      <td>Unknown</td>\n",
       "      <td>Utah</td>\n",
       "      <td>NaN</td>\n",
       "      <td>2478</td>\n",
       "      <td>47.0</td>\n",
       "    </tr>\n",
       "    <tr>\n",
       "      <th>1874769</th>\n",
       "      <td>2021-11-01 00:00:00</td>\n",
       "      <td>Unknown</td>\n",
       "      <td>Vermont</td>\n",
       "      <td>NaN</td>\n",
       "      <td>26</td>\n",
       "      <td>0.0</td>\n",
       "    </tr>\n",
       "  </tbody>\n",
       "</table>\n",
       "<p>17137 rows × 6 columns</p>\n",
       "</div>"
      ],
      "text/plain": [
       "                        date         county         state  fips  cases  deaths\n",
       "416      2020-03-01 00:00:00  New York City      New York   NaN      1     0.0\n",
       "418      2020-03-01 00:00:00        Unknown  Rhode Island   NaN      2     0.0\n",
       "448      2020-03-02 00:00:00  New York City      New York   NaN      1     0.0\n",
       "450      2020-03-02 00:00:00        Unknown  Rhode Island   NaN      2     0.0\n",
       "482      2020-03-03 00:00:00  New York City      New York   NaN      2     0.0\n",
       "...                      ...            ...           ...   ...    ...     ...\n",
       "1874252  2021-11-01 00:00:00        Unknown   Puerto Rico   NaN   5390  3234.0\n",
       "1874264  2021-11-01 00:00:00        Unknown  Rhode Island   NaN  13311    14.0\n",
       "1874465  2021-11-01 00:00:00        Unknown     Tennessee   NaN   7884   120.0\n",
       "1874752  2021-11-01 00:00:00        Unknown          Utah   NaN   2478    47.0\n",
       "1874769  2021-11-01 00:00:00        Unknown       Vermont   NaN     26     0.0\n",
       "\n",
       "[17137 rows x 6 columns]"
      ]
     },
     "execution_count": 64,
     "metadata": {},
     "output_type": "execute_result"
    }
   ],
   "source": [
    "# Let's look at them:\n",
    "counties.loc[np.isnan(counties.fips)]"
   ]
  },
  {
   "cell_type": "code",
   "execution_count": null,
   "metadata": {},
   "outputs": [],
   "source": [
    "# Ugh oh.  These are deaths I probably want to count, despite\n",
    "# the fact that I won't be able to join them with population.  \n",
    "# Only 29 bad fips fields in febdata:"
   ]
  },
  {
   "cell_type": "code",
   "execution_count": 65,
   "metadata": {},
   "outputs": [
    {
     "data": {
      "text/html": [
       "<div>\n",
       "<style scoped>\n",
       "    .dataframe tbody tr th:only-of-type {\n",
       "        vertical-align: middle;\n",
       "    }\n",
       "\n",
       "    .dataframe tbody tr th {\n",
       "        vertical-align: top;\n",
       "    }\n",
       "\n",
       "    .dataframe thead th {\n",
       "        text-align: right;\n",
       "    }\n",
       "</style>\n",
       "<table border=\"1\" class=\"dataframe\">\n",
       "  <thead>\n",
       "    <tr style=\"text-align: right;\">\n",
       "      <th></th>\n",
       "      <th>date</th>\n",
       "      <th>county</th>\n",
       "      <th>state</th>\n",
       "      <th>fips</th>\n",
       "      <th>cases</th>\n",
       "      <th>deaths</th>\n",
       "    </tr>\n",
       "  </thead>\n",
       "  <tbody>\n",
       "    <tr>\n",
       "      <th>982187</th>\n",
       "      <td>2021-01-31 00:00:00</td>\n",
       "      <td>Unknown</td>\n",
       "      <td>Alaska</td>\n",
       "      <td>NaN</td>\n",
       "      <td>236</td>\n",
       "      <td>0.0</td>\n",
       "    </tr>\n",
       "    <tr>\n",
       "      <th>982277</th>\n",
       "      <td>2021-01-31 00:00:00</td>\n",
       "      <td>Unknown</td>\n",
       "      <td>Arkansas</td>\n",
       "      <td>NaN</td>\n",
       "      <td>2907</td>\n",
       "      <td>0.0</td>\n",
       "    </tr>\n",
       "    <tr>\n",
       "      <th>982412</th>\n",
       "      <td>2021-01-31 00:00:00</td>\n",
       "      <td>Unknown</td>\n",
       "      <td>Connecticut</td>\n",
       "      <td>NaN</td>\n",
       "      <td>822</td>\n",
       "      <td>7.0</td>\n",
       "    </tr>\n",
       "    <tr>\n",
       "      <th>982417</th>\n",
       "      <td>2021-01-31 00:00:00</td>\n",
       "      <td>Unknown</td>\n",
       "      <td>Delaware</td>\n",
       "      <td>NaN</td>\n",
       "      <td>182</td>\n",
       "      <td>0.0</td>\n",
       "    </tr>\n",
       "    <tr>\n",
       "      <th>982482</th>\n",
       "      <td>2021-01-31 00:00:00</td>\n",
       "      <td>Unknown</td>\n",
       "      <td>Florida</td>\n",
       "      <td>NaN</td>\n",
       "      <td>3334</td>\n",
       "      <td>0.0</td>\n",
       "    </tr>\n",
       "    <tr>\n",
       "      <th>982631</th>\n",
       "      <td>2021-01-31 00:00:00</td>\n",
       "      <td>Unknown</td>\n",
       "      <td>Georgia</td>\n",
       "      <td>NaN</td>\n",
       "      <td>4222</td>\n",
       "      <td>10.0</td>\n",
       "    </tr>\n",
       "    <tr>\n",
       "      <th>982647</th>\n",
       "      <td>2021-01-31 00:00:00</td>\n",
       "      <td>Unknown</td>\n",
       "      <td>Guam</td>\n",
       "      <td>NaN</td>\n",
       "      <td>8556</td>\n",
       "      <td>130.0</td>\n",
       "    </tr>\n",
       "    <tr>\n",
       "      <th>982788</th>\n",
       "      <td>2021-01-31 00:00:00</td>\n",
       "      <td>Unknown</td>\n",
       "      <td>Illinois</td>\n",
       "      <td>NaN</td>\n",
       "      <td>0</td>\n",
       "      <td>106.0</td>\n",
       "    </tr>\n",
       "    <tr>\n",
       "      <th>982980</th>\n",
       "      <td>2021-01-31 00:00:00</td>\n",
       "      <td>Unknown</td>\n",
       "      <td>Iowa</td>\n",
       "      <td>NaN</td>\n",
       "      <td>1065</td>\n",
       "      <td>0.0</td>\n",
       "    </tr>\n",
       "    <tr>\n",
       "      <th>983090</th>\n",
       "      <td>2021-01-31 00:00:00</td>\n",
       "      <td>Unknown</td>\n",
       "      <td>Kansas</td>\n",
       "      <td>NaN</td>\n",
       "      <td>0</td>\n",
       "      <td>725.0</td>\n",
       "    </tr>\n",
       "    <tr>\n",
       "      <th>983274</th>\n",
       "      <td>2021-01-31 00:00:00</td>\n",
       "      <td>Unknown</td>\n",
       "      <td>Louisiana</td>\n",
       "      <td>NaN</td>\n",
       "      <td>423</td>\n",
       "      <td>0.0</td>\n",
       "    </tr>\n",
       "    <tr>\n",
       "      <th>983296</th>\n",
       "      <td>2021-01-31 00:00:00</td>\n",
       "      <td>Unknown</td>\n",
       "      <td>Maine</td>\n",
       "      <td>NaN</td>\n",
       "      <td>2</td>\n",
       "      <td>0.0</td>\n",
       "    </tr>\n",
       "    <tr>\n",
       "      <th>983321</th>\n",
       "      <td>2021-01-31 00:00:00</td>\n",
       "      <td>Unknown</td>\n",
       "      <td>Maryland</td>\n",
       "      <td>NaN</td>\n",
       "      <td>0</td>\n",
       "      <td>43.0</td>\n",
       "    </tr>\n",
       "    <tr>\n",
       "      <th>983338</th>\n",
       "      <td>2021-01-31 00:00:00</td>\n",
       "      <td>Unknown</td>\n",
       "      <td>Massachusetts</td>\n",
       "      <td>NaN</td>\n",
       "      <td>27356</td>\n",
       "      <td>8.0</td>\n",
       "    </tr>\n",
       "    <tr>\n",
       "      <th>983419</th>\n",
       "      <td>2021-01-31 00:00:00</td>\n",
       "      <td>Unknown</td>\n",
       "      <td>Michigan</td>\n",
       "      <td>NaN</td>\n",
       "      <td>0</td>\n",
       "      <td>23.0</td>\n",
       "    </tr>\n",
       "    <tr>\n",
       "      <th>983502</th>\n",
       "      <td>2021-01-31 00:00:00</td>\n",
       "      <td>Unknown</td>\n",
       "      <td>Minnesota</td>\n",
       "      <td>NaN</td>\n",
       "      <td>479</td>\n",
       "      <td>68.0</td>\n",
       "    </tr>\n",
       "    <tr>\n",
       "      <th>983645</th>\n",
       "      <td>2021-01-31 00:00:00</td>\n",
       "      <td>Joplin</td>\n",
       "      <td>Missouri</td>\n",
       "      <td>NaN</td>\n",
       "      <td>4575</td>\n",
       "      <td>94.0</td>\n",
       "    </tr>\n",
       "    <tr>\n",
       "      <th>983646</th>\n",
       "      <td>2021-01-31 00:00:00</td>\n",
       "      <td>Kansas City</td>\n",
       "      <td>Missouri</td>\n",
       "      <td>NaN</td>\n",
       "      <td>35622</td>\n",
       "      <td>440.0</td>\n",
       "    </tr>\n",
       "    <tr>\n",
       "      <th>983887</th>\n",
       "      <td>2021-01-31 00:00:00</td>\n",
       "      <td>Unknown</td>\n",
       "      <td>New Hampshire</td>\n",
       "      <td>NaN</td>\n",
       "      <td>1022</td>\n",
       "      <td>4.0</td>\n",
       "    </tr>\n",
       "    <tr>\n",
       "      <th>983908</th>\n",
       "      <td>2021-01-31 00:00:00</td>\n",
       "      <td>Unknown</td>\n",
       "      <td>New Jersey</td>\n",
       "      <td>NaN</td>\n",
       "      <td>1201</td>\n",
       "      <td>0.0</td>\n",
       "    </tr>\n",
       "    <tr>\n",
       "      <th>983942</th>\n",
       "      <td>2021-01-31 00:00:00</td>\n",
       "      <td>Unknown</td>\n",
       "      <td>New Mexico</td>\n",
       "      <td>NaN</td>\n",
       "      <td>3</td>\n",
       "      <td>0.0</td>\n",
       "    </tr>\n",
       "    <tr>\n",
       "      <th>983972</th>\n",
       "      <td>2021-01-31 00:00:00</td>\n",
       "      <td>New York City</td>\n",
       "      <td>New York</td>\n",
       "      <td>NaN</td>\n",
       "      <td>608862</td>\n",
       "      <td>27138.0</td>\n",
       "    </tr>\n",
       "    <tr>\n",
       "      <th>984151</th>\n",
       "      <td>2021-01-31 00:00:00</td>\n",
       "      <td>Unknown</td>\n",
       "      <td>North Dakota</td>\n",
       "      <td>NaN</td>\n",
       "      <td>26</td>\n",
       "      <td>25.0</td>\n",
       "    </tr>\n",
       "    <tr>\n",
       "      <th>984318</th>\n",
       "      <td>2021-01-31 00:00:00</td>\n",
       "      <td>Unknown</td>\n",
       "      <td>Oklahoma</td>\n",
       "      <td>NaN</td>\n",
       "      <td>134</td>\n",
       "      <td>0.0</td>\n",
       "    </tr>\n",
       "    <tr>\n",
       "      <th>984498</th>\n",
       "      <td>2021-01-31 00:00:00</td>\n",
       "      <td>Unknown</td>\n",
       "      <td>Puerto Rico</td>\n",
       "      <td>NaN</td>\n",
       "      <td>4297</td>\n",
       "      <td>1829.0</td>\n",
       "    </tr>\n",
       "    <tr>\n",
       "      <th>984510</th>\n",
       "      <td>2021-01-31 00:00:00</td>\n",
       "      <td>Unknown</td>\n",
       "      <td>Rhode Island</td>\n",
       "      <td>NaN</td>\n",
       "      <td>12392</td>\n",
       "      <td>73.0</td>\n",
       "    </tr>\n",
       "    <tr>\n",
       "      <th>984711</th>\n",
       "      <td>2021-01-31 00:00:00</td>\n",
       "      <td>Unknown</td>\n",
       "      <td>Tennessee</td>\n",
       "      <td>NaN</td>\n",
       "      <td>13454</td>\n",
       "      <td>152.0</td>\n",
       "    </tr>\n",
       "    <tr>\n",
       "      <th>984998</th>\n",
       "      <td>2021-01-31 00:00:00</td>\n",
       "      <td>Unknown</td>\n",
       "      <td>Utah</td>\n",
       "      <td>NaN</td>\n",
       "      <td>1468</td>\n",
       "      <td>3.0</td>\n",
       "    </tr>\n",
       "    <tr>\n",
       "      <th>985015</th>\n",
       "      <td>2021-01-31 00:00:00</td>\n",
       "      <td>Unknown</td>\n",
       "      <td>Vermont</td>\n",
       "      <td>NaN</td>\n",
       "      <td>12</td>\n",
       "      <td>0.0</td>\n",
       "    </tr>\n",
       "  </tbody>\n",
       "</table>\n",
       "</div>"
      ],
      "text/plain": [
       "                       date         county          state  fips   cases  \\\n",
       "982187  2021-01-31 00:00:00        Unknown         Alaska   NaN     236   \n",
       "982277  2021-01-31 00:00:00        Unknown       Arkansas   NaN    2907   \n",
       "982412  2021-01-31 00:00:00        Unknown    Connecticut   NaN     822   \n",
       "982417  2021-01-31 00:00:00        Unknown       Delaware   NaN     182   \n",
       "982482  2021-01-31 00:00:00        Unknown        Florida   NaN    3334   \n",
       "982631  2021-01-31 00:00:00        Unknown        Georgia   NaN    4222   \n",
       "982647  2021-01-31 00:00:00        Unknown           Guam   NaN    8556   \n",
       "982788  2021-01-31 00:00:00        Unknown       Illinois   NaN       0   \n",
       "982980  2021-01-31 00:00:00        Unknown           Iowa   NaN    1065   \n",
       "983090  2021-01-31 00:00:00        Unknown         Kansas   NaN       0   \n",
       "983274  2021-01-31 00:00:00        Unknown      Louisiana   NaN     423   \n",
       "983296  2021-01-31 00:00:00        Unknown          Maine   NaN       2   \n",
       "983321  2021-01-31 00:00:00        Unknown       Maryland   NaN       0   \n",
       "983338  2021-01-31 00:00:00        Unknown  Massachusetts   NaN   27356   \n",
       "983419  2021-01-31 00:00:00        Unknown       Michigan   NaN       0   \n",
       "983502  2021-01-31 00:00:00        Unknown      Minnesota   NaN     479   \n",
       "983645  2021-01-31 00:00:00         Joplin       Missouri   NaN    4575   \n",
       "983646  2021-01-31 00:00:00    Kansas City       Missouri   NaN   35622   \n",
       "983887  2021-01-31 00:00:00        Unknown  New Hampshire   NaN    1022   \n",
       "983908  2021-01-31 00:00:00        Unknown     New Jersey   NaN    1201   \n",
       "983942  2021-01-31 00:00:00        Unknown     New Mexico   NaN       3   \n",
       "983972  2021-01-31 00:00:00  New York City       New York   NaN  608862   \n",
       "984151  2021-01-31 00:00:00        Unknown   North Dakota   NaN      26   \n",
       "984318  2021-01-31 00:00:00        Unknown       Oklahoma   NaN     134   \n",
       "984498  2021-01-31 00:00:00        Unknown    Puerto Rico   NaN    4297   \n",
       "984510  2021-01-31 00:00:00        Unknown   Rhode Island   NaN   12392   \n",
       "984711  2021-01-31 00:00:00        Unknown      Tennessee   NaN   13454   \n",
       "984998  2021-01-31 00:00:00        Unknown           Utah   NaN    1468   \n",
       "985015  2021-01-31 00:00:00        Unknown        Vermont   NaN      12   \n",
       "\n",
       "         deaths  \n",
       "982187      0.0  \n",
       "982277      0.0  \n",
       "982412      7.0  \n",
       "982417      0.0  \n",
       "982482      0.0  \n",
       "982631     10.0  \n",
       "982647    130.0  \n",
       "982788    106.0  \n",
       "982980      0.0  \n",
       "983090    725.0  \n",
       "983274      0.0  \n",
       "983296      0.0  \n",
       "983321     43.0  \n",
       "983338      8.0  \n",
       "983419     23.0  \n",
       "983502     68.0  \n",
       "983645     94.0  \n",
       "983646    440.0  \n",
       "983887      4.0  \n",
       "983908      0.0  \n",
       "983942      0.0  \n",
       "983972  27138.0  \n",
       "984151     25.0  \n",
       "984318      0.0  \n",
       "984498   1829.0  \n",
       "984510     73.0  \n",
       "984711    152.0  \n",
       "984998      3.0  \n",
       "985015      0.0  "
      ]
     },
     "execution_count": 65,
     "metadata": {},
     "output_type": "execute_result"
    }
   ],
   "source": [
    "febdata.loc[np.isnan(febdata.fips)]"
   ]
  },
  {
   "cell_type": "code",
   "execution_count": 66,
   "metadata": {},
   "outputs": [
    {
     "data": {
      "text/plain": [
       "30878.0"
      ]
     },
     "execution_count": 66,
     "metadata": {},
     "output_type": "execute_result"
    }
   ],
   "source": [
    "febdata.loc[np.isnan(febdata.fips)].deaths.sum()"
   ]
  },
  {
   "cell_type": "code",
   "execution_count": null,
   "metadata": {},
   "outputs": [],
   "source": [
    "# Amounting to 31,000 deaths."
   ]
  },
  {
   "cell_type": "code",
   "execution_count": null,
   "metadata": {},
   "outputs": [],
   "source": [
    "27138.0+1829.0"
   ]
  },
  {
   "cell_type": "code",
   "execution_count": 67,
   "metadata": {},
   "outputs": [
    {
     "data": {
      "text/plain": [
       "51770.0    1\n",
       "21127.0    1\n",
       "13137.0    1\n",
       "5037.0     1\n",
       "40021.0    1\n",
       "          ..\n",
       "28065.0    1\n",
       "55101.0    1\n",
       "51079.0    1\n",
       "38061.0    1\n",
       "2016.0     1\n",
       "Name: fips, Length: 3140, dtype: int64"
      ]
     },
     "execution_count": 67,
     "metadata": {},
     "output_type": "execute_result"
    }
   ],
   "source": [
    "febdata.fips.value_counts()"
   ]
  },
  {
   "cell_type": "code",
   "execution_count": null,
   "metadata": {},
   "outputs": [],
   "source": [
    "# 31,000 deaths, almost all of which are from NYC and Puerto Rico.\n",
    "# I'm willing to treat them as special cases."
   ]
  },
  {
   "cell_type": "code",
   "execution_count": 68,
   "metadata": {},
   "outputs": [
    {
     "data": {
      "text/plain": [
       "dtype('int64')"
      ]
     },
     "execution_count": 68,
     "metadata": {},
     "output_type": "execute_result"
    }
   ],
   "source": [
    "# Some trial-and-error suggests that I must fix NaN's first,\n",
    "# then change the type to int.\n",
    "febdata.loc[np.isnan(febdata.fips),\"fips\"] = 999999\n",
    "fips = febdata.fips.astype(np.int64)\n",
    "fips.dtype"
   ]
  },
  {
   "cell_type": "code",
   "execution_count": 69,
   "metadata": {},
   "outputs": [
    {
     "data": {
      "text/plain": [
       "982097    1001\n",
       "982098    1003\n",
       "982099    1005\n",
       "982100    1007\n",
       "982101    1009\n",
       "Name: fips, dtype: int64"
      ]
     },
     "execution_count": 69,
     "metadata": {},
     "output_type": "execute_result"
    }
   ],
   "source": [
    "fips.head()"
   ]
  },
  {
   "cell_type": "code",
   "execution_count": 70,
   "metadata": {},
   "outputs": [
    {
     "data": {
      "text/plain": [
       "0"
      ]
     },
     "execution_count": 70,
     "metadata": {},
     "output_type": "execute_result"
    }
   ],
   "source": [
    "np.isnan(febdata.fips).sum()"
   ]
  },
  {
   "cell_type": "code",
   "execution_count": 71,
   "metadata": {},
   "outputs": [],
   "source": [
    "febdata[\"fips\"] = febdata.fips.astype(np.int64)"
   ]
  },
  {
   "cell_type": "code",
   "execution_count": 72,
   "metadata": {},
   "outputs": [
    {
     "data": {
      "text/plain": [
       "17137"
      ]
     },
     "execution_count": 72,
     "metadata": {},
     "output_type": "execute_result"
    }
   ],
   "source": [
    "np.isnan(counties.fips).sum()"
   ]
  },
  {
   "cell_type": "code",
   "execution_count": null,
   "metadata": {},
   "outputs": [],
   "source": [
    "counties.head(1)"
   ]
  },
  {
   "cell_type": "code",
   "execution_count": 73,
   "metadata": {},
   "outputs": [],
   "source": [
    "# That seemed to work for febdata, apply to counties\n",
    "counties.loc[np.isnan(counties.fips),\"fips\"] = 999999"
   ]
  },
  {
   "cell_type": "code",
   "execution_count": 75,
   "metadata": {},
   "outputs": [
    {
     "data": {
      "text/plain": [
       "0"
      ]
     },
     "execution_count": 75,
     "metadata": {},
     "output_type": "execute_result"
    }
   ],
   "source": [
    "np.isnan(counties.fips).sum()"
   ]
  },
  {
   "cell_type": "code",
   "execution_count": 76,
   "metadata": {},
   "outputs": [
    {
     "data": {
      "text/plain": [
       "dtype('int64')"
      ]
     },
     "execution_count": 76,
     "metadata": {},
     "output_type": "execute_result"
    }
   ],
   "source": [
    "counties[\"fips\"] = counties.fips.astype(np.int64)\n",
    "counties.fips.dtype"
   ]
  },
  {
   "cell_type": "code",
   "execution_count": 77,
   "metadata": {},
   "outputs": [
    {
     "data": {
      "text/html": [
       "<div>\n",
       "<style scoped>\n",
       "    .dataframe tbody tr th:only-of-type {\n",
       "        vertical-align: middle;\n",
       "    }\n",
       "\n",
       "    .dataframe tbody tr th {\n",
       "        vertical-align: top;\n",
       "    }\n",
       "\n",
       "    .dataframe thead th {\n",
       "        text-align: right;\n",
       "    }\n",
       "</style>\n",
       "<table border=\"1\" class=\"dataframe\">\n",
       "  <thead>\n",
       "    <tr style=\"text-align: right;\">\n",
       "      <th></th>\n",
       "      <th>date</th>\n",
       "      <th>county</th>\n",
       "      <th>state</th>\n",
       "      <th>fips</th>\n",
       "      <th>cases</th>\n",
       "      <th>deaths</th>\n",
       "    </tr>\n",
       "  </thead>\n",
       "  <tbody>\n",
       "  </tbody>\n",
       "</table>\n",
       "</div>"
      ],
      "text/plain": [
       "Empty DataFrame\n",
       "Columns: [date, county, state, fips, cases, deaths]\n",
       "Index: []"
      ]
     },
     "execution_count": 77,
     "metadata": {},
     "output_type": "execute_result"
    }
   ],
   "source": [
    "febdata.loc[np.isnan(febdata.fips)]"
   ]
  },
  {
   "cell_type": "code",
   "execution_count": 78,
   "metadata": {},
   "outputs": [
    {
     "data": {
      "text/html": [
       "<div>\n",
       "<style scoped>\n",
       "    .dataframe tbody tr th:only-of-type {\n",
       "        vertical-align: middle;\n",
       "    }\n",
       "\n",
       "    .dataframe tbody tr th {\n",
       "        vertical-align: top;\n",
       "    }\n",
       "\n",
       "    .dataframe thead th {\n",
       "        text-align: right;\n",
       "    }\n",
       "</style>\n",
       "<table border=\"1\" class=\"dataframe\">\n",
       "  <thead>\n",
       "    <tr style=\"text-align: right;\">\n",
       "      <th></th>\n",
       "      <th>us_state_fips</th>\n",
       "      <th>us_county_fips</th>\n",
       "      <th>population</th>\n",
       "      <th>region</th>\n",
       "      <th>subregion</th>\n",
       "      <th>nyt_population</th>\n",
       "    </tr>\n",
       "  </thead>\n",
       "  <tbody>\n",
       "    <tr>\n",
       "      <th>1</th>\n",
       "      <td>72</td>\n",
       "      <td>72999</td>\n",
       "      <td>3386941</td>\n",
       "      <td>Puerto Rico</td>\n",
       "      <td>Unknown</td>\n",
       "      <td>NaN</td>\n",
       "    </tr>\n",
       "  </tbody>\n",
       "</table>\n",
       "</div>"
      ],
      "text/plain": [
       "   us_state_fips  us_county_fips  population       region subregion  \\\n",
       "1             72           72999     3386941  Puerto Rico   Unknown   \n",
       "\n",
       "   nyt_population  \n",
       "1             NaN  "
      ]
     },
     "execution_count": 78,
     "metadata": {},
     "output_type": "execute_result"
    }
   ],
   "source": [
    "population.loc[population.region == \"Puerto Rico\"]"
   ]
  },
  {
   "cell_type": "code",
   "execution_count": 79,
   "metadata": {},
   "outputs": [
    {
     "data": {
      "text/html": [
       "<div>\n",
       "<style scoped>\n",
       "    .dataframe tbody tr th:only-of-type {\n",
       "        vertical-align: middle;\n",
       "    }\n",
       "\n",
       "    .dataframe tbody tr th {\n",
       "        vertical-align: top;\n",
       "    }\n",
       "\n",
       "    .dataframe thead th {\n",
       "        text-align: right;\n",
       "    }\n",
       "</style>\n",
       "<table border=\"1\" class=\"dataframe\">\n",
       "  <thead>\n",
       "    <tr style=\"text-align: right;\">\n",
       "      <th></th>\n",
       "      <th>us_state_fips</th>\n",
       "      <th>us_county_fips</th>\n",
       "      <th>population</th>\n",
       "      <th>region</th>\n",
       "      <th>subregion</th>\n",
       "      <th>nyt_population</th>\n",
       "    </tr>\n",
       "  </thead>\n",
       "  <tbody>\n",
       "    <tr>\n",
       "      <th>1890</th>\n",
       "      <td>36</td>\n",
       "      <td>36998</td>\n",
       "      <td>8443713</td>\n",
       "      <td>New York</td>\n",
       "      <td>New York City</td>\n",
       "      <td>NaN</td>\n",
       "    </tr>\n",
       "  </tbody>\n",
       "</table>\n",
       "</div>"
      ],
      "text/plain": [
       "      us_state_fips  us_county_fips  population    region      subregion  \\\n",
       "1890             36           36998     8443713  New York  New York City   \n",
       "\n",
       "      nyt_population  \n",
       "1890             NaN  "
      ]
     },
     "execution_count": 79,
     "metadata": {},
     "output_type": "execute_result"
    }
   ],
   "source": [
    "population.loc[population.subregion == \"New York City\"]"
   ]
  },
  {
   "cell_type": "code",
   "execution_count": null,
   "metadata": {},
   "outputs": [],
   "source": [
    "febdata[febdata.county == \"New York City\"]"
   ]
  },
  {
   "cell_type": "code",
   "execution_count": 80,
   "metadata": {},
   "outputs": [],
   "source": [
    "febdata.loc[febdata.county == \"New York City\",\"fips\"] = 36998"
   ]
  },
  {
   "cell_type": "code",
   "execution_count": 81,
   "metadata": {},
   "outputs": [],
   "source": [
    "# and I should change this for PR and counties too\n",
    "febdata.loc[febdata.state == \"Puerto Rico\",\"fips\"] = 72999\n",
    "counties.loc[counties.county == \"New York City\",\"fips\"] = 36998\n",
    "counties.loc[counties.state == \"Puerto Rico\",\"fips\"] = 72999\n"
   ]
  },
  {
   "cell_type": "code",
   "execution_count": 82,
   "metadata": {},
   "outputs": [
    {
     "data": {
      "text/html": [
       "<div>\n",
       "<style scoped>\n",
       "    .dataframe tbody tr th:only-of-type {\n",
       "        vertical-align: middle;\n",
       "    }\n",
       "\n",
       "    .dataframe tbody tr th {\n",
       "        vertical-align: top;\n",
       "    }\n",
       "\n",
       "    .dataframe thead th {\n",
       "        text-align: right;\n",
       "    }\n",
       "</style>\n",
       "<table border=\"1\" class=\"dataframe\">\n",
       "  <thead>\n",
       "    <tr style=\"text-align: right;\">\n",
       "      <th></th>\n",
       "      <th>date</th>\n",
       "      <th>county</th>\n",
       "      <th>state</th>\n",
       "      <th>fips</th>\n",
       "      <th>cases</th>\n",
       "      <th>deaths</th>\n",
       "    </tr>\n",
       "  </thead>\n",
       "  <tbody>\n",
       "    <tr>\n",
       "      <th>982097</th>\n",
       "      <td>2021-01-31 00:00:00</td>\n",
       "      <td>Autauga</td>\n",
       "      <td>Alabama</td>\n",
       "      <td>1001</td>\n",
       "      <td>5669</td>\n",
       "      <td>69.0</td>\n",
       "    </tr>\n",
       "  </tbody>\n",
       "</table>\n",
       "</div>"
      ],
      "text/plain": [
       "                       date   county    state  fips  cases  deaths\n",
       "982097  2021-01-31 00:00:00  Autauga  Alabama  1001   5669    69.0"
      ]
     },
     "execution_count": 82,
     "metadata": {},
     "output_type": "execute_result"
    }
   ],
   "source": [
    "febdata.head(1)"
   ]
  },
  {
   "cell_type": "code",
   "execution_count": 83,
   "metadata": {},
   "outputs": [
    {
     "data": {
      "text/plain": [
       "dtype('int64')"
      ]
     },
     "execution_count": 83,
     "metadata": {},
     "output_type": "execute_result"
    }
   ],
   "source": [
    "febdata.fips.dtype"
   ]
  },
  {
   "cell_type": "code",
   "execution_count": 84,
   "metadata": {},
   "outputs": [
    {
     "data": {
      "text/html": [
       "<div>\n",
       "<style scoped>\n",
       "    .dataframe tbody tr th:only-of-type {\n",
       "        vertical-align: middle;\n",
       "    }\n",
       "\n",
       "    .dataframe tbody tr th {\n",
       "        vertical-align: top;\n",
       "    }\n",
       "\n",
       "    .dataframe thead th {\n",
       "        text-align: right;\n",
       "    }\n",
       "</style>\n",
       "<table border=\"1\" class=\"dataframe\">\n",
       "  <thead>\n",
       "    <tr style=\"text-align: right;\">\n",
       "      <th></th>\n",
       "      <th>us_state_fips</th>\n",
       "      <th>us_county_fips</th>\n",
       "      <th>population</th>\n",
       "      <th>region</th>\n",
       "      <th>subregion</th>\n",
       "      <th>nyt_population</th>\n",
       "    </tr>\n",
       "  </thead>\n",
       "  <tbody>\n",
       "    <tr>\n",
       "      <th>0</th>\n",
       "      <td>78</td>\n",
       "      <td>78999</td>\n",
       "      <td>104680</td>\n",
       "      <td>Virgin Islands</td>\n",
       "      <td>Unknown</td>\n",
       "      <td>NaN</td>\n",
       "    </tr>\n",
       "  </tbody>\n",
       "</table>\n",
       "</div>"
      ],
      "text/plain": [
       "   us_state_fips  us_county_fips  population          region subregion  \\\n",
       "0             78           78999      104680  Virgin Islands   Unknown   \n",
       "\n",
       "   nyt_population  \n",
       "0             NaN  "
      ]
     },
     "execution_count": 84,
     "metadata": {},
     "output_type": "execute_result"
    }
   ],
   "source": [
    "population.head(1)"
   ]
  },
  {
   "cell_type": "code",
   "execution_count": 85,
   "metadata": {},
   "outputs": [],
   "source": [
    "# duplicate the field with a different name for convenience\n",
    "population[\"fips\"]= population.us_county_fips"
   ]
  },
  {
   "cell_type": "code",
   "execution_count": 86,
   "metadata": {},
   "outputs": [
    {
     "ename": "ValueError",
     "evalue": "columns overlap but no suffix specified: Index(['fips'], dtype='object')",
     "output_type": "error",
     "traceback": [
      "\u001b[0;31m---------------------------------------------------------------------------\u001b[0m",
      "\u001b[0;31mValueError\u001b[0m                                Traceback (most recent call last)",
      "\u001b[0;32m<ipython-input-86-63379836dac7>\u001b[0m in \u001b[0;36m<module>\u001b[0;34m\u001b[0m\n\u001b[0;32m----> 1\u001b[0;31m \u001b[0mdeathswithpop\u001b[0m\u001b[0;34m=\u001b[0m \u001b[0mcounties\u001b[0m\u001b[0;34m.\u001b[0m\u001b[0mjoin\u001b[0m\u001b[0;34m(\u001b[0m\u001b[0mpopulation\u001b[0m\u001b[0;34m,\u001b[0m \u001b[0;34m\"fips\"\u001b[0m\u001b[0;34m)\u001b[0m\u001b[0;34m\u001b[0m\u001b[0;34m\u001b[0m\u001b[0m\n\u001b[0m",
      "\u001b[0;32m/Applications/anaconda3/lib/python3.8/site-packages/pandas/core/frame.py\u001b[0m in \u001b[0;36mjoin\u001b[0;34m(self, other, on, how, lsuffix, rsuffix, sort)\u001b[0m\n\u001b[1;32m   7868\u001b[0m         \u001b[0;36m5\u001b[0m  \u001b[0mK5\u001b[0m  \u001b[0mA5\u001b[0m  \u001b[0mNaN\u001b[0m\u001b[0;34m\u001b[0m\u001b[0;34m\u001b[0m\u001b[0m\n\u001b[1;32m   7869\u001b[0m         \"\"\"\n\u001b[0;32m-> 7870\u001b[0;31m         return self._join_compat(\n\u001b[0m\u001b[1;32m   7871\u001b[0m             \u001b[0mother\u001b[0m\u001b[0;34m,\u001b[0m \u001b[0mon\u001b[0m\u001b[0;34m=\u001b[0m\u001b[0mon\u001b[0m\u001b[0;34m,\u001b[0m \u001b[0mhow\u001b[0m\u001b[0;34m=\u001b[0m\u001b[0mhow\u001b[0m\u001b[0;34m,\u001b[0m \u001b[0mlsuffix\u001b[0m\u001b[0;34m=\u001b[0m\u001b[0mlsuffix\u001b[0m\u001b[0;34m,\u001b[0m \u001b[0mrsuffix\u001b[0m\u001b[0;34m=\u001b[0m\u001b[0mrsuffix\u001b[0m\u001b[0;34m,\u001b[0m \u001b[0msort\u001b[0m\u001b[0;34m=\u001b[0m\u001b[0msort\u001b[0m\u001b[0;34m\u001b[0m\u001b[0;34m\u001b[0m\u001b[0m\n\u001b[1;32m   7872\u001b[0m         )\n",
      "\u001b[0;32m/Applications/anaconda3/lib/python3.8/site-packages/pandas/core/frame.py\u001b[0m in \u001b[0;36m_join_compat\u001b[0;34m(self, other, on, how, lsuffix, rsuffix, sort)\u001b[0m\n\u001b[1;32m   7884\u001b[0m \u001b[0;34m\u001b[0m\u001b[0m\n\u001b[1;32m   7885\u001b[0m         \u001b[0;32mif\u001b[0m \u001b[0misinstance\u001b[0m\u001b[0;34m(\u001b[0m\u001b[0mother\u001b[0m\u001b[0;34m,\u001b[0m \u001b[0mDataFrame\u001b[0m\u001b[0;34m)\u001b[0m\u001b[0;34m:\u001b[0m\u001b[0;34m\u001b[0m\u001b[0;34m\u001b[0m\u001b[0m\n\u001b[0;32m-> 7886\u001b[0;31m             return merge(\n\u001b[0m\u001b[1;32m   7887\u001b[0m                 \u001b[0mself\u001b[0m\u001b[0;34m,\u001b[0m\u001b[0;34m\u001b[0m\u001b[0;34m\u001b[0m\u001b[0m\n\u001b[1;32m   7888\u001b[0m                 \u001b[0mother\u001b[0m\u001b[0;34m,\u001b[0m\u001b[0;34m\u001b[0m\u001b[0;34m\u001b[0m\u001b[0m\n",
      "\u001b[0;32m/Applications/anaconda3/lib/python3.8/site-packages/pandas/core/reshape/merge.py\u001b[0m in \u001b[0;36mmerge\u001b[0;34m(left, right, how, on, left_on, right_on, left_index, right_index, sort, suffixes, copy, indicator, validate)\u001b[0m\n\u001b[1;32m     87\u001b[0m         \u001b[0mvalidate\u001b[0m\u001b[0;34m=\u001b[0m\u001b[0mvalidate\u001b[0m\u001b[0;34m,\u001b[0m\u001b[0;34m\u001b[0m\u001b[0;34m\u001b[0m\u001b[0m\n\u001b[1;32m     88\u001b[0m     )\n\u001b[0;32m---> 89\u001b[0;31m     \u001b[0;32mreturn\u001b[0m \u001b[0mop\u001b[0m\u001b[0;34m.\u001b[0m\u001b[0mget_result\u001b[0m\u001b[0;34m(\u001b[0m\u001b[0;34m)\u001b[0m\u001b[0;34m\u001b[0m\u001b[0;34m\u001b[0m\u001b[0m\n\u001b[0m\u001b[1;32m     90\u001b[0m \u001b[0;34m\u001b[0m\u001b[0m\n\u001b[1;32m     91\u001b[0m \u001b[0;34m\u001b[0m\u001b[0m\n",
      "\u001b[0;32m/Applications/anaconda3/lib/python3.8/site-packages/pandas/core/reshape/merge.py\u001b[0m in \u001b[0;36mget_result\u001b[0;34m(self)\u001b[0m\n\u001b[1;32m    668\u001b[0m         \u001b[0mjoin_index\u001b[0m\u001b[0;34m,\u001b[0m \u001b[0mleft_indexer\u001b[0m\u001b[0;34m,\u001b[0m \u001b[0mright_indexer\u001b[0m \u001b[0;34m=\u001b[0m \u001b[0mself\u001b[0m\u001b[0;34m.\u001b[0m\u001b[0m_get_join_info\u001b[0m\u001b[0;34m(\u001b[0m\u001b[0;34m)\u001b[0m\u001b[0;34m\u001b[0m\u001b[0;34m\u001b[0m\u001b[0m\n\u001b[1;32m    669\u001b[0m \u001b[0;34m\u001b[0m\u001b[0m\n\u001b[0;32m--> 670\u001b[0;31m         llabels, rlabels = _items_overlap_with_suffix(\n\u001b[0m\u001b[1;32m    671\u001b[0m             \u001b[0mself\u001b[0m\u001b[0;34m.\u001b[0m\u001b[0mleft\u001b[0m\u001b[0;34m.\u001b[0m\u001b[0m_info_axis\u001b[0m\u001b[0;34m,\u001b[0m \u001b[0mself\u001b[0m\u001b[0;34m.\u001b[0m\u001b[0mright\u001b[0m\u001b[0;34m.\u001b[0m\u001b[0m_info_axis\u001b[0m\u001b[0;34m,\u001b[0m \u001b[0mself\u001b[0m\u001b[0;34m.\u001b[0m\u001b[0msuffixes\u001b[0m\u001b[0;34m\u001b[0m\u001b[0;34m\u001b[0m\u001b[0m\n\u001b[1;32m    672\u001b[0m         )\n",
      "\u001b[0;32m/Applications/anaconda3/lib/python3.8/site-packages/pandas/core/reshape/merge.py\u001b[0m in \u001b[0;36m_items_overlap_with_suffix\u001b[0;34m(left, right, suffixes)\u001b[0m\n\u001b[1;32m   2089\u001b[0m \u001b[0;34m\u001b[0m\u001b[0m\n\u001b[1;32m   2090\u001b[0m     \u001b[0;32mif\u001b[0m \u001b[0;32mnot\u001b[0m \u001b[0mlsuffix\u001b[0m \u001b[0;32mand\u001b[0m \u001b[0;32mnot\u001b[0m \u001b[0mrsuffix\u001b[0m\u001b[0;34m:\u001b[0m\u001b[0;34m\u001b[0m\u001b[0;34m\u001b[0m\u001b[0m\n\u001b[0;32m-> 2091\u001b[0;31m         \u001b[0;32mraise\u001b[0m \u001b[0mValueError\u001b[0m\u001b[0;34m(\u001b[0m\u001b[0;34mf\"columns overlap but no suffix specified: {to_rename}\"\u001b[0m\u001b[0;34m)\u001b[0m\u001b[0;34m\u001b[0m\u001b[0;34m\u001b[0m\u001b[0m\n\u001b[0m\u001b[1;32m   2092\u001b[0m \u001b[0;34m\u001b[0m\u001b[0m\n\u001b[1;32m   2093\u001b[0m     \u001b[0;32mdef\u001b[0m \u001b[0mrenamer\u001b[0m\u001b[0;34m(\u001b[0m\u001b[0mx\u001b[0m\u001b[0;34m,\u001b[0m \u001b[0msuffix\u001b[0m\u001b[0;34m)\u001b[0m\u001b[0;34m:\u001b[0m\u001b[0;34m\u001b[0m\u001b[0;34m\u001b[0m\u001b[0m\n",
      "\u001b[0;31mValueError\u001b[0m: columns overlap but no suffix specified: Index(['fips'], dtype='object')"
     ]
    }
   ],
   "source": [
    "deathswithpop= counties.join(population, \"fips\")"
   ]
  },
  {
   "cell_type": "code",
   "execution_count": 87,
   "metadata": {},
   "outputs": [],
   "source": [
    "# No suffix specified.. ok, here's a suffix\n",
    "deathswithpop= counties.join(population, \"fips\", rsuffix=\"_pop\")"
   ]
  },
  {
   "cell_type": "code",
   "execution_count": 88,
   "metadata": {},
   "outputs": [
    {
     "data": {
      "text/html": [
       "<div>\n",
       "<style scoped>\n",
       "    .dataframe tbody tr th:only-of-type {\n",
       "        vertical-align: middle;\n",
       "    }\n",
       "\n",
       "    .dataframe tbody tr th {\n",
       "        vertical-align: top;\n",
       "    }\n",
       "\n",
       "    .dataframe thead th {\n",
       "        text-align: right;\n",
       "    }\n",
       "</style>\n",
       "<table border=\"1\" class=\"dataframe\">\n",
       "  <thead>\n",
       "    <tr style=\"text-align: right;\">\n",
       "      <th></th>\n",
       "      <th>date</th>\n",
       "      <th>county</th>\n",
       "      <th>state</th>\n",
       "      <th>fips</th>\n",
       "      <th>cases</th>\n",
       "      <th>deaths</th>\n",
       "      <th>us_state_fips</th>\n",
       "      <th>us_county_fips</th>\n",
       "      <th>population</th>\n",
       "      <th>region</th>\n",
       "      <th>subregion</th>\n",
       "      <th>nyt_population</th>\n",
       "      <th>fips_pop</th>\n",
       "    </tr>\n",
       "  </thead>\n",
       "  <tbody>\n",
       "    <tr>\n",
       "      <th>0</th>\n",
       "      <td>2020-01-21 00:00:00</td>\n",
       "      <td>Snohomish</td>\n",
       "      <td>Washington</td>\n",
       "      <td>53061</td>\n",
       "      <td>1</td>\n",
       "      <td>0.0</td>\n",
       "      <td>NaN</td>\n",
       "      <td>NaN</td>\n",
       "      <td>NaN</td>\n",
       "      <td>NaN</td>\n",
       "      <td>NaN</td>\n",
       "      <td>NaN</td>\n",
       "      <td>NaN</td>\n",
       "    </tr>\n",
       "    <tr>\n",
       "      <th>1</th>\n",
       "      <td>2020-01-22 00:00:00</td>\n",
       "      <td>Snohomish</td>\n",
       "      <td>Washington</td>\n",
       "      <td>53061</td>\n",
       "      <td>1</td>\n",
       "      <td>0.0</td>\n",
       "      <td>NaN</td>\n",
       "      <td>NaN</td>\n",
       "      <td>NaN</td>\n",
       "      <td>NaN</td>\n",
       "      <td>NaN</td>\n",
       "      <td>NaN</td>\n",
       "      <td>NaN</td>\n",
       "    </tr>\n",
       "  </tbody>\n",
       "</table>\n",
       "</div>"
      ],
      "text/plain": [
       "                  date     county       state   fips  cases  deaths  \\\n",
       "0  2020-01-21 00:00:00  Snohomish  Washington  53061      1     0.0   \n",
       "1  2020-01-22 00:00:00  Snohomish  Washington  53061      1     0.0   \n",
       "\n",
       "   us_state_fips  us_county_fips  population region subregion  nyt_population  \\\n",
       "0            NaN             NaN         NaN    NaN       NaN             NaN   \n",
       "1            NaN             NaN         NaN    NaN       NaN             NaN   \n",
       "\n",
       "   fips_pop  \n",
       "0       NaN  \n",
       "1       NaN  "
      ]
     },
     "execution_count": 88,
     "metadata": {},
     "output_type": "execute_result"
    }
   ],
   "source": [
    "deathswithpop.head(2)"
   ]
  },
  {
   "cell_type": "code",
   "execution_count": 89,
   "metadata": {},
   "outputs": [
    {
     "data": {
      "text/html": [
       "<div>\n",
       "<style scoped>\n",
       "    .dataframe tbody tr th:only-of-type {\n",
       "        vertical-align: middle;\n",
       "    }\n",
       "\n",
       "    .dataframe tbody tr th {\n",
       "        vertical-align: top;\n",
       "    }\n",
       "\n",
       "    .dataframe thead th {\n",
       "        text-align: right;\n",
       "    }\n",
       "</style>\n",
       "<table border=\"1\" class=\"dataframe\">\n",
       "  <thead>\n",
       "    <tr style=\"text-align: right;\">\n",
       "      <th></th>\n",
       "      <th>date</th>\n",
       "      <th>county</th>\n",
       "      <th>state</th>\n",
       "      <th>fips</th>\n",
       "      <th>cases</th>\n",
       "      <th>deaths</th>\n",
       "      <th>us_state_fips</th>\n",
       "      <th>us_county_fips</th>\n",
       "      <th>population</th>\n",
       "      <th>region</th>\n",
       "      <th>subregion</th>\n",
       "      <th>nyt_population</th>\n",
       "      <th>fips_pop</th>\n",
       "    </tr>\n",
       "  </thead>\n",
       "  <tbody>\n",
       "    <tr>\n",
       "      <th>0</th>\n",
       "      <td>2020-01-21 00:00:00</td>\n",
       "      <td>Snohomish</td>\n",
       "      <td>Washington</td>\n",
       "      <td>53061</td>\n",
       "      <td>1</td>\n",
       "      <td>0.0</td>\n",
       "      <td>NaN</td>\n",
       "      <td>NaN</td>\n",
       "      <td>NaN</td>\n",
       "      <td>NaN</td>\n",
       "      <td>NaN</td>\n",
       "      <td>NaN</td>\n",
       "      <td>NaN</td>\n",
       "    </tr>\n",
       "    <tr>\n",
       "      <th>1000</th>\n",
       "      <td>2020-03-10 00:00:00</td>\n",
       "      <td>Fresno</td>\n",
       "      <td>California</td>\n",
       "      <td>6019</td>\n",
       "      <td>1</td>\n",
       "      <td>0.0</td>\n",
       "      <td>NaN</td>\n",
       "      <td>NaN</td>\n",
       "      <td>NaN</td>\n",
       "      <td>NaN</td>\n",
       "      <td>NaN</td>\n",
       "      <td>NaN</td>\n",
       "      <td>NaN</td>\n",
       "    </tr>\n",
       "    <tr>\n",
       "      <th>2000</th>\n",
       "      <td>2020-03-14 00:00:00</td>\n",
       "      <td>Clay</td>\n",
       "      <td>Florida</td>\n",
       "      <td>12019</td>\n",
       "      <td>1</td>\n",
       "      <td>0.0</td>\n",
       "      <td>NaN</td>\n",
       "      <td>NaN</td>\n",
       "      <td>NaN</td>\n",
       "      <td>NaN</td>\n",
       "      <td>NaN</td>\n",
       "      <td>NaN</td>\n",
       "      <td>NaN</td>\n",
       "    </tr>\n",
       "    <tr>\n",
       "      <th>3000</th>\n",
       "      <td>2020-03-16 00:00:00</td>\n",
       "      <td>Grafton</td>\n",
       "      <td>New Hampshire</td>\n",
       "      <td>33009</td>\n",
       "      <td>5</td>\n",
       "      <td>0.0</td>\n",
       "      <td>NaN</td>\n",
       "      <td>NaN</td>\n",
       "      <td>NaN</td>\n",
       "      <td>NaN</td>\n",
       "      <td>NaN</td>\n",
       "      <td>NaN</td>\n",
       "      <td>NaN</td>\n",
       "    </tr>\n",
       "    <tr>\n",
       "      <th>4000</th>\n",
       "      <td>2020-03-18 00:00:00</td>\n",
       "      <td>St. John the Baptist</td>\n",
       "      <td>Louisiana</td>\n",
       "      <td>22095</td>\n",
       "      <td>2</td>\n",
       "      <td>0.0</td>\n",
       "      <td>NaN</td>\n",
       "      <td>NaN</td>\n",
       "      <td>NaN</td>\n",
       "      <td>NaN</td>\n",
       "      <td>NaN</td>\n",
       "      <td>NaN</td>\n",
       "      <td>NaN</td>\n",
       "    </tr>\n",
       "    <tr>\n",
       "      <th>...</th>\n",
       "      <td>...</td>\n",
       "      <td>...</td>\n",
       "      <td>...</td>\n",
       "      <td>...</td>\n",
       "      <td>...</td>\n",
       "      <td>...</td>\n",
       "      <td>...</td>\n",
       "      <td>...</td>\n",
       "      <td>...</td>\n",
       "      <td>...</td>\n",
       "      <td>...</td>\n",
       "      <td>...</td>\n",
       "      <td>...</td>\n",
       "    </tr>\n",
       "    <tr>\n",
       "      <th>1871000</th>\n",
       "      <td>0</td>\n",
       "      <td>0</td>\n",
       "      <td>0</td>\n",
       "      <td>0</td>\n",
       "      <td>0</td>\n",
       "      <td>0.0</td>\n",
       "      <td>78.0</td>\n",
       "      <td>78999.0</td>\n",
       "      <td>104680.0</td>\n",
       "      <td>Virgin Islands</td>\n",
       "      <td>Unknown</td>\n",
       "      <td>NaN</td>\n",
       "      <td>78999.0</td>\n",
       "    </tr>\n",
       "    <tr>\n",
       "      <th>1872000</th>\n",
       "      <td>2021-11-01 00:00:00</td>\n",
       "      <td>Little River</td>\n",
       "      <td>Arkansas</td>\n",
       "      <td>5081</td>\n",
       "      <td>2059</td>\n",
       "      <td>74.0</td>\n",
       "      <td>NaN</td>\n",
       "      <td>NaN</td>\n",
       "      <td>NaN</td>\n",
       "      <td>NaN</td>\n",
       "      <td>NaN</td>\n",
       "      <td>NaN</td>\n",
       "      <td>NaN</td>\n",
       "    </tr>\n",
       "    <tr>\n",
       "      <th>1873000</th>\n",
       "      <td>2021-11-01 00:00:00</td>\n",
       "      <td>Lafourche</td>\n",
       "      <td>Louisiana</td>\n",
       "      <td>22057</td>\n",
       "      <td>17927</td>\n",
       "      <td>312.0</td>\n",
       "      <td>NaN</td>\n",
       "      <td>NaN</td>\n",
       "      <td>NaN</td>\n",
       "      <td>NaN</td>\n",
       "      <td>NaN</td>\n",
       "      <td>NaN</td>\n",
       "      <td>NaN</td>\n",
       "    </tr>\n",
       "    <tr>\n",
       "      <th>1874000</th>\n",
       "      <td>2021-11-01 00:00:00</td>\n",
       "      <td>Adair</td>\n",
       "      <td>Oklahoma</td>\n",
       "      <td>40001</td>\n",
       "      <td>4878</td>\n",
       "      <td>61.0</td>\n",
       "      <td>NaN</td>\n",
       "      <td>NaN</td>\n",
       "      <td>NaN</td>\n",
       "      <td>NaN</td>\n",
       "      <td>NaN</td>\n",
       "      <td>NaN</td>\n",
       "      <td>NaN</td>\n",
       "    </tr>\n",
       "    <tr>\n",
       "      <th>1875000</th>\n",
       "      <td>2021-11-01 00:00:00</td>\n",
       "      <td>Wirt</td>\n",
       "      <td>West Virginia</td>\n",
       "      <td>54105</td>\n",
       "      <td>850</td>\n",
       "      <td>13.0</td>\n",
       "      <td>NaN</td>\n",
       "      <td>NaN</td>\n",
       "      <td>NaN</td>\n",
       "      <td>NaN</td>\n",
       "      <td>NaN</td>\n",
       "      <td>NaN</td>\n",
       "      <td>NaN</td>\n",
       "    </tr>\n",
       "  </tbody>\n",
       "</table>\n",
       "<p>1876 rows × 13 columns</p>\n",
       "</div>"
      ],
      "text/plain": [
       "                        date                county          state   fips  \\\n",
       "0        2020-01-21 00:00:00             Snohomish     Washington  53061   \n",
       "1000     2020-03-10 00:00:00                Fresno     California   6019   \n",
       "2000     2020-03-14 00:00:00                  Clay        Florida  12019   \n",
       "3000     2020-03-16 00:00:00               Grafton  New Hampshire  33009   \n",
       "4000     2020-03-18 00:00:00  St. John the Baptist      Louisiana  22095   \n",
       "...                      ...                   ...            ...    ...   \n",
       "1871000                    0                     0              0      0   \n",
       "1872000  2021-11-01 00:00:00          Little River       Arkansas   5081   \n",
       "1873000  2021-11-01 00:00:00             Lafourche      Louisiana  22057   \n",
       "1874000  2021-11-01 00:00:00                 Adair       Oklahoma  40001   \n",
       "1875000  2021-11-01 00:00:00                  Wirt  West Virginia  54105   \n",
       "\n",
       "         cases  deaths  us_state_fips  us_county_fips  population  \\\n",
       "0            1     0.0            NaN             NaN         NaN   \n",
       "1000         1     0.0            NaN             NaN         NaN   \n",
       "2000         1     0.0            NaN             NaN         NaN   \n",
       "3000         5     0.0            NaN             NaN         NaN   \n",
       "4000         2     0.0            NaN             NaN         NaN   \n",
       "...        ...     ...            ...             ...         ...   \n",
       "1871000      0     0.0           78.0         78999.0    104680.0   \n",
       "1872000   2059    74.0            NaN             NaN         NaN   \n",
       "1873000  17927   312.0            NaN             NaN         NaN   \n",
       "1874000   4878    61.0            NaN             NaN         NaN   \n",
       "1875000    850    13.0            NaN             NaN         NaN   \n",
       "\n",
       "                 region subregion  nyt_population  fips_pop  \n",
       "0                   NaN       NaN             NaN       NaN  \n",
       "1000                NaN       NaN             NaN       NaN  \n",
       "2000                NaN       NaN             NaN       NaN  \n",
       "3000                NaN       NaN             NaN       NaN  \n",
       "4000                NaN       NaN             NaN       NaN  \n",
       "...                 ...       ...             ...       ...  \n",
       "1871000  Virgin Islands   Unknown             NaN   78999.0  \n",
       "1872000             NaN       NaN             NaN       NaN  \n",
       "1873000             NaN       NaN             NaN       NaN  \n",
       "1874000             NaN       NaN             NaN       NaN  \n",
       "1875000             NaN       NaN             NaN       NaN  \n",
       "\n",
       "[1876 rows x 13 columns]"
      ]
     },
     "execution_count": 89,
     "metadata": {},
     "output_type": "execute_result"
    }
   ],
   "source": [
    "# Well maybe it never joins Snohomish county for some reason...\n",
    "deathswithpop.loc[::1000]"
   ]
  },
  {
   "cell_type": "code",
   "execution_count": 90,
   "metadata": {},
   "outputs": [
    {
     "data": {
      "text/plain": [
       "[<matplotlib.lines.Line2D at 0x7fb115dd79d0>]"
      ]
     },
     "execution_count": 90,
     "metadata": {},
     "output_type": "execute_result"
    },
    {
     "data": {
      "image/png": "[encoded data removed]",
      "text/plain": [
       "<Figure size 432x288 with 1 Axes>"
      ]
     },
     "metadata": {
      "needs_background": "light"
     },
     "output_type": "display_data"
    }
   ],
   "source": [
    "#  Most of these are not joined\n",
    "plt.plot(deathswithpop.deaths, deathswithpop.population)"
   ]
  },
  {
   "cell_type": "code",
   "execution_count": 91,
   "metadata": {},
   "outputs": [
    {
     "data": {
      "text/plain": [
       "[<matplotlib.lines.Line2D at 0x7fb1073f45b0>]"
      ]
     },
     "execution_count": 91,
     "metadata": {},
     "output_type": "execute_result"
    },
    {
     "data": {
      "image/png": "[encoded data removed]",
      "text/plain": [
       "<Figure size 432x288 with 1 Axes>"
      ]
     },
     "metadata": {
      "needs_background": "light"
     },
     "output_type": "display_data"
    }
   ],
   "source": [
    "# Turn off the lines...\n",
    "plt.plot(deathswithpop.population, deathswithpop.deaths,'.')"
   ]
  },
  {
   "cell_type": "code",
   "execution_count": 92,
   "metadata": {},
   "outputs": [
    {
     "data": {
      "image/png": "[encoded data removed]",
      "text/plain": [
       "<Figure size 432x288 with 1 Axes>"
      ]
     },
     "metadata": {
      "needs_background": "light"
     },
     "output_type": "display_data"
    }
   ],
   "source": [
    "# loglog plot..\n",
    "plt.plot(deathswithpop.population, deathswithpop.deaths,'.')\n",
    "plt.xscale(\"log\"); plt.yscale(\"log\")"
   ]
  },
  {
   "cell_type": "code",
   "execution_count": 93,
   "metadata": {},
   "outputs": [],
   "source": [
    "# This does not look right. County population should not have\n",
    "# many values for well-separated points in the middle of the domain.\n",
    "# Unless I'm plotting all the time points on top of each other.  D'oh.\n",
    "\n",
    "febdata = deathswithpop.loc[np.where(deathswithpop.date ==np.datetime64(\"2021-01-31\"))]"
   ]
  },
  {
   "cell_type": "code",
   "execution_count": 94,
   "metadata": {},
   "outputs": [
    {
     "data": {
      "text/plain": [
       "6707680.0"
      ]
     },
     "execution_count": 94,
     "metadata": {},
     "output_type": "execute_result"
    }
   ],
   "source": [
    "# Check that numbers add up!\n",
    "febdata.population.sum()"
   ]
  },
  {
   "cell_type": "code",
   "execution_count": 95,
   "metadata": {},
   "outputs": [
    {
     "data": {
      "text/plain": [
       "441299.0"
      ]
     },
     "execution_count": 95,
     "metadata": {},
     "output_type": "execute_result"
    }
   ],
   "source": [
    "febdata.deaths.sum()"
   ]
  },
  {
   "cell_type": "code",
   "execution_count": null,
   "metadata": {},
   "outputs": [],
   "source": [
    "# All the deaths, but almost none of the population.  7M / 326M "
   ]
  },
  {
   "cell_type": "code",
   "execution_count": null,
   "metadata": {},
   "outputs": [],
   "source": []
  },
  {
   "cell_type": "code",
   "execution_count": 96,
   "metadata": {},
   "outputs": [
    {
     "data": {
      "text/html": [
       "<div>\n",
       "<style scoped>\n",
       "    .dataframe tbody tr th:only-of-type {\n",
       "        vertical-align: middle;\n",
       "    }\n",
       "\n",
       "    .dataframe tbody tr th {\n",
       "        vertical-align: top;\n",
       "    }\n",
       "\n",
       "    .dataframe thead th {\n",
       "        text-align: right;\n",
       "    }\n",
       "</style>\n",
       "<table border=\"1\" class=\"dataframe\">\n",
       "  <thead>\n",
       "    <tr style=\"text-align: right;\">\n",
       "      <th></th>\n",
       "      <th>us_state_fips</th>\n",
       "      <th>us_county_fips</th>\n",
       "      <th>population</th>\n",
       "      <th>region</th>\n",
       "      <th>subregion</th>\n",
       "      <th>nyt_population</th>\n",
       "      <th>fips</th>\n",
       "    </tr>\n",
       "  </thead>\n",
       "  <tbody>\n",
       "    <tr>\n",
       "      <th>996</th>\n",
       "      <td>20</td>\n",
       "      <td>20209</td>\n",
       "      <td>164345</td>\n",
       "      <td>Kansas</td>\n",
       "      <td>Wyandotte</td>\n",
       "      <td>NaN</td>\n",
       "      <td>20209</td>\n",
       "    </tr>\n",
       "  </tbody>\n",
       "</table>\n",
       "</div>"
      ],
      "text/plain": [
       "     us_state_fips  us_county_fips  population  region  subregion  \\\n",
       "996             20           20209      164345  Kansas  Wyandotte   \n",
       "\n",
       "     nyt_population   fips  \n",
       "996             NaN  20209  "
      ]
     },
     "execution_count": 96,
     "metadata": {},
     "output_type": "execute_result"
    }
   ],
   "source": [
    "# Let's spot-check Wyandotte County, KS.  Why did it not join?\n",
    "population.loc[np.where(population.subregion==\"Wyandotte\")]"
   ]
  },
  {
   "cell_type": "code",
   "execution_count": 97,
   "metadata": {},
   "outputs": [
    {
     "data": {
      "text/html": [
       "<div>\n",
       "<style scoped>\n",
       "    .dataframe tbody tr th:only-of-type {\n",
       "        vertical-align: middle;\n",
       "    }\n",
       "\n",
       "    .dataframe tbody tr th {\n",
       "        vertical-align: top;\n",
       "    }\n",
       "\n",
       "    .dataframe thead th {\n",
       "        text-align: right;\n",
       "    }\n",
       "</style>\n",
       "<table border=\"1\" class=\"dataframe\">\n",
       "  <thead>\n",
       "    <tr style=\"text-align: right;\">\n",
       "      <th></th>\n",
       "      <th>date</th>\n",
       "      <th>county</th>\n",
       "      <th>state</th>\n",
       "      <th>fips</th>\n",
       "      <th>cases</th>\n",
       "      <th>deaths</th>\n",
       "    </tr>\n",
       "  </thead>\n",
       "  <tbody>\n",
       "    <tr>\n",
       "      <th>1458</th>\n",
       "      <td>2020-03-12 00:00:00</td>\n",
       "      <td>Wyandotte</td>\n",
       "      <td>Kansas</td>\n",
       "      <td>20209</td>\n",
       "      <td>1</td>\n",
       "      <td>1.0</td>\n",
       "    </tr>\n",
       "    <tr>\n",
       "      <th>1731</th>\n",
       "      <td>2020-03-13 00:00:00</td>\n",
       "      <td>Wyandotte</td>\n",
       "      <td>Kansas</td>\n",
       "      <td>20209</td>\n",
       "      <td>1</td>\n",
       "      <td>1.0</td>\n",
       "    </tr>\n",
       "    <tr>\n",
       "      <th>2066</th>\n",
       "      <td>2020-03-14 00:00:00</td>\n",
       "      <td>Wyandotte</td>\n",
       "      <td>Kansas</td>\n",
       "      <td>20209</td>\n",
       "      <td>1</td>\n",
       "      <td>1.0</td>\n",
       "    </tr>\n",
       "    <tr>\n",
       "      <th>2462</th>\n",
       "      <td>2020-03-15 00:00:00</td>\n",
       "      <td>Wyandotte</td>\n",
       "      <td>Kansas</td>\n",
       "      <td>20209</td>\n",
       "      <td>1</td>\n",
       "      <td>1.0</td>\n",
       "    </tr>\n",
       "    <tr>\n",
       "      <th>2907</th>\n",
       "      <td>2020-03-16 00:00:00</td>\n",
       "      <td>Wyandotte</td>\n",
       "      <td>Kansas</td>\n",
       "      <td>20209</td>\n",
       "      <td>1</td>\n",
       "      <td>1.0</td>\n",
       "    </tr>\n",
       "    <tr>\n",
       "      <th>...</th>\n",
       "      <td>...</td>\n",
       "      <td>...</td>\n",
       "      <td>...</td>\n",
       "      <td>...</td>\n",
       "      <td>...</td>\n",
       "      <td>...</td>\n",
       "    </tr>\n",
       "    <tr>\n",
       "      <th>1859854</th>\n",
       "      <td>2021-10-28 00:00:00</td>\n",
       "      <td>Wyandotte</td>\n",
       "      <td>Kansas</td>\n",
       "      <td>20209</td>\n",
       "      <td>27989</td>\n",
       "      <td>376.0</td>\n",
       "    </tr>\n",
       "    <tr>\n",
       "      <th>1863103</th>\n",
       "      <td>2021-10-29 00:00:00</td>\n",
       "      <td>Wyandotte</td>\n",
       "      <td>Kansas</td>\n",
       "      <td>20209</td>\n",
       "      <td>28034</td>\n",
       "      <td>376.0</td>\n",
       "    </tr>\n",
       "    <tr>\n",
       "      <th>1866352</th>\n",
       "      <td>2021-10-30 00:00:00</td>\n",
       "      <td>Wyandotte</td>\n",
       "      <td>Kansas</td>\n",
       "      <td>20209</td>\n",
       "      <td>28034</td>\n",
       "      <td>376.0</td>\n",
       "    </tr>\n",
       "    <tr>\n",
       "      <th>1869601</th>\n",
       "      <td>2021-10-31 00:00:00</td>\n",
       "      <td>Wyandotte</td>\n",
       "      <td>Kansas</td>\n",
       "      <td>20209</td>\n",
       "      <td>28034</td>\n",
       "      <td>376.0</td>\n",
       "    </tr>\n",
       "    <tr>\n",
       "      <th>1872850</th>\n",
       "      <td>2021-11-01 00:00:00</td>\n",
       "      <td>Wyandotte</td>\n",
       "      <td>Kansas</td>\n",
       "      <td>20209</td>\n",
       "      <td>28083</td>\n",
       "      <td>378.0</td>\n",
       "    </tr>\n",
       "  </tbody>\n",
       "</table>\n",
       "<p>600 rows × 6 columns</p>\n",
       "</div>"
      ],
      "text/plain": [
       "                        date     county   state   fips  cases  deaths\n",
       "1458     2020-03-12 00:00:00  Wyandotte  Kansas  20209      1     1.0\n",
       "1731     2020-03-13 00:00:00  Wyandotte  Kansas  20209      1     1.0\n",
       "2066     2020-03-14 00:00:00  Wyandotte  Kansas  20209      1     1.0\n",
       "2462     2020-03-15 00:00:00  Wyandotte  Kansas  20209      1     1.0\n",
       "2907     2020-03-16 00:00:00  Wyandotte  Kansas  20209      1     1.0\n",
       "...                      ...        ...     ...    ...    ...     ...\n",
       "1859854  2021-10-28 00:00:00  Wyandotte  Kansas  20209  27989   376.0\n",
       "1863103  2021-10-29 00:00:00  Wyandotte  Kansas  20209  28034   376.0\n",
       "1866352  2021-10-30 00:00:00  Wyandotte  Kansas  20209  28034   376.0\n",
       "1869601  2021-10-31 00:00:00  Wyandotte  Kansas  20209  28034   376.0\n",
       "1872850  2021-11-01 00:00:00  Wyandotte  Kansas  20209  28083   378.0\n",
       "\n",
       "[600 rows x 6 columns]"
      ]
     },
     "execution_count": 97,
     "metadata": {},
     "output_type": "execute_result"
    }
   ],
   "source": [
    "counties.loc[ np.where(counties.county == \"Wyandotte\")]"
   ]
  },
  {
   "cell_type": "code",
   "execution_count": 98,
   "metadata": {},
   "outputs": [
    {
     "data": {
      "text/html": [
       "<div>\n",
       "<style scoped>\n",
       "    .dataframe tbody tr th:only-of-type {\n",
       "        vertical-align: middle;\n",
       "    }\n",
       "\n",
       "    .dataframe tbody tr th {\n",
       "        vertical-align: top;\n",
       "    }\n",
       "\n",
       "    .dataframe thead th {\n",
       "        text-align: right;\n",
       "    }\n",
       "</style>\n",
       "<table border=\"1\" class=\"dataframe\">\n",
       "  <thead>\n",
       "    <tr style=\"text-align: right;\">\n",
       "      <th></th>\n",
       "      <th>date</th>\n",
       "      <th>county</th>\n",
       "      <th>state</th>\n",
       "      <th>fips</th>\n",
       "      <th>cases</th>\n",
       "      <th>deaths</th>\n",
       "      <th>us_state_fips</th>\n",
       "      <th>us_county_fips</th>\n",
       "      <th>population</th>\n",
       "      <th>region</th>\n",
       "      <th>subregion</th>\n",
       "      <th>nyt_population</th>\n",
       "      <th>fips_pop</th>\n",
       "    </tr>\n",
       "  </thead>\n",
       "  <tbody>\n",
       "    <tr>\n",
       "      <th>0</th>\n",
       "      <td>2020-01-21 00:00:00</td>\n",
       "      <td>Snohomish</td>\n",
       "      <td>Washington</td>\n",
       "      <td>53061</td>\n",
       "      <td>1</td>\n",
       "      <td>0.0</td>\n",
       "      <td>NaN</td>\n",
       "      <td>NaN</td>\n",
       "      <td>NaN</td>\n",
       "      <td>NaN</td>\n",
       "      <td>NaN</td>\n",
       "      <td>NaN</td>\n",
       "      <td>NaN</td>\n",
       "    </tr>\n",
       "    <tr>\n",
       "      <th>10000</th>\n",
       "      <td>2020-03-24 00:00:00</td>\n",
       "      <td>St. James</td>\n",
       "      <td>Louisiana</td>\n",
       "      <td>22093</td>\n",
       "      <td>9</td>\n",
       "      <td>1.0</td>\n",
       "      <td>NaN</td>\n",
       "      <td>NaN</td>\n",
       "      <td>NaN</td>\n",
       "      <td>NaN</td>\n",
       "      <td>NaN</td>\n",
       "      <td>NaN</td>\n",
       "      <td>NaN</td>\n",
       "    </tr>\n",
       "    <tr>\n",
       "      <th>20000</th>\n",
       "      <td>2020-03-30 00:00:00</td>\n",
       "      <td>Fayette</td>\n",
       "      <td>Georgia</td>\n",
       "      <td>13113</td>\n",
       "      <td>42</td>\n",
       "      <td>3.0</td>\n",
       "      <td>NaN</td>\n",
       "      <td>NaN</td>\n",
       "      <td>NaN</td>\n",
       "      <td>NaN</td>\n",
       "      <td>NaN</td>\n",
       "      <td>NaN</td>\n",
       "      <td>NaN</td>\n",
       "    </tr>\n",
       "    <tr>\n",
       "      <th>30000</th>\n",
       "      <td>2020-04-03 00:00:00</td>\n",
       "      <td>Union</td>\n",
       "      <td>Ohio</td>\n",
       "      <td>39159</td>\n",
       "      <td>5</td>\n",
       "      <td>0.0</td>\n",
       "      <td>NaN</td>\n",
       "      <td>NaN</td>\n",
       "      <td>NaN</td>\n",
       "      <td>NaN</td>\n",
       "      <td>NaN</td>\n",
       "      <td>NaN</td>\n",
       "      <td>NaN</td>\n",
       "    </tr>\n",
       "    <tr>\n",
       "      <th>40000</th>\n",
       "      <td>2020-04-07 00:00:00</td>\n",
       "      <td>Darlington</td>\n",
       "      <td>South Carolina</td>\n",
       "      <td>45031</td>\n",
       "      <td>29</td>\n",
       "      <td>0.0</td>\n",
       "      <td>NaN</td>\n",
       "      <td>NaN</td>\n",
       "      <td>NaN</td>\n",
       "      <td>NaN</td>\n",
       "      <td>NaN</td>\n",
       "      <td>NaN</td>\n",
       "      <td>NaN</td>\n",
       "    </tr>\n",
       "    <tr>\n",
       "      <th>...</th>\n",
       "      <td>...</td>\n",
       "      <td>...</td>\n",
       "      <td>...</td>\n",
       "      <td>...</td>\n",
       "      <td>...</td>\n",
       "      <td>...</td>\n",
       "      <td>...</td>\n",
       "      <td>...</td>\n",
       "      <td>...</td>\n",
       "      <td>...</td>\n",
       "      <td>...</td>\n",
       "      <td>...</td>\n",
       "      <td>...</td>\n",
       "    </tr>\n",
       "    <tr>\n",
       "      <th>1830000</th>\n",
       "      <td>2021-10-19 00:00:00</td>\n",
       "      <td>Appling</td>\n",
       "      <td>Georgia</td>\n",
       "      <td>13001</td>\n",
       "      <td>3466</td>\n",
       "      <td>102.0</td>\n",
       "      <td>NaN</td>\n",
       "      <td>NaN</td>\n",
       "      <td>NaN</td>\n",
       "      <td>NaN</td>\n",
       "      <td>NaN</td>\n",
       "      <td>NaN</td>\n",
       "      <td>NaN</td>\n",
       "    </tr>\n",
       "    <tr>\n",
       "      <th>1840000</th>\n",
       "      <td>2021-10-22 00:00:00</td>\n",
       "      <td>Jo Daviess</td>\n",
       "      <td>Illinois</td>\n",
       "      <td>17085</td>\n",
       "      <td>2166</td>\n",
       "      <td>32.0</td>\n",
       "      <td>NaN</td>\n",
       "      <td>NaN</td>\n",
       "      <td>NaN</td>\n",
       "      <td>NaN</td>\n",
       "      <td>NaN</td>\n",
       "      <td>NaN</td>\n",
       "      <td>NaN</td>\n",
       "    </tr>\n",
       "    <tr>\n",
       "      <th>1850000</th>\n",
       "      <td>2021-10-25 00:00:00</td>\n",
       "      <td>Woodbury</td>\n",
       "      <td>Iowa</td>\n",
       "      <td>19193</td>\n",
       "      <td>19215</td>\n",
       "      <td>244.0</td>\n",
       "      <td>NaN</td>\n",
       "      <td>NaN</td>\n",
       "      <td>NaN</td>\n",
       "      <td>NaN</td>\n",
       "      <td>NaN</td>\n",
       "      <td>NaN</td>\n",
       "      <td>NaN</td>\n",
       "    </tr>\n",
       "    <tr>\n",
       "      <th>1860000</th>\n",
       "      <td>2021-10-28 00:00:00</td>\n",
       "      <td>Jefferson</td>\n",
       "      <td>Louisiana</td>\n",
       "      <td>22051</td>\n",
       "      <td>69492</td>\n",
       "      <td>1162.0</td>\n",
       "      <td>NaN</td>\n",
       "      <td>NaN</td>\n",
       "      <td>NaN</td>\n",
       "      <td>NaN</td>\n",
       "      <td>NaN</td>\n",
       "      <td>NaN</td>\n",
       "      <td>NaN</td>\n",
       "    </tr>\n",
       "    <tr>\n",
       "      <th>1870000</th>\n",
       "      <td>2021-10-31 00:00:00</td>\n",
       "      <td>Stearns</td>\n",
       "      <td>Minnesota</td>\n",
       "      <td>27145</td>\n",
       "      <td>29213</td>\n",
       "      <td>259.0</td>\n",
       "      <td>NaN</td>\n",
       "      <td>NaN</td>\n",
       "      <td>NaN</td>\n",
       "      <td>NaN</td>\n",
       "      <td>NaN</td>\n",
       "      <td>NaN</td>\n",
       "      <td>NaN</td>\n",
       "    </tr>\n",
       "  </tbody>\n",
       "</table>\n",
       "<p>188 rows × 13 columns</p>\n",
       "</div>"
      ],
      "text/plain": [
       "                        date      county           state   fips  cases  \\\n",
       "0        2020-01-21 00:00:00   Snohomish      Washington  53061      1   \n",
       "10000    2020-03-24 00:00:00   St. James       Louisiana  22093      9   \n",
       "20000    2020-03-30 00:00:00     Fayette         Georgia  13113     42   \n",
       "30000    2020-04-03 00:00:00       Union            Ohio  39159      5   \n",
       "40000    2020-04-07 00:00:00  Darlington  South Carolina  45031     29   \n",
       "...                      ...         ...             ...    ...    ...   \n",
       "1830000  2021-10-19 00:00:00     Appling         Georgia  13001   3466   \n",
       "1840000  2021-10-22 00:00:00  Jo Daviess        Illinois  17085   2166   \n",
       "1850000  2021-10-25 00:00:00    Woodbury            Iowa  19193  19215   \n",
       "1860000  2021-10-28 00:00:00   Jefferson       Louisiana  22051  69492   \n",
       "1870000  2021-10-31 00:00:00     Stearns       Minnesota  27145  29213   \n",
       "\n",
       "         deaths  us_state_fips  us_county_fips  population region subregion  \\\n",
       "0           0.0            NaN             NaN         NaN    NaN       NaN   \n",
       "10000       1.0            NaN             NaN         NaN    NaN       NaN   \n",
       "20000       3.0            NaN             NaN         NaN    NaN       NaN   \n",
       "30000       0.0            NaN             NaN         NaN    NaN       NaN   \n",
       "40000       0.0            NaN             NaN         NaN    NaN       NaN   \n",
       "...         ...            ...             ...         ...    ...       ...   \n",
       "1830000   102.0            NaN             NaN         NaN    NaN       NaN   \n",
       "1840000    32.0            NaN             NaN         NaN    NaN       NaN   \n",
       "1850000   244.0            NaN             NaN         NaN    NaN       NaN   \n",
       "1860000  1162.0            NaN             NaN         NaN    NaN       NaN   \n",
       "1870000   259.0            NaN             NaN         NaN    NaN       NaN   \n",
       "\n",
       "         nyt_population  fips_pop  \n",
       "0                   NaN       NaN  \n",
       "10000               NaN       NaN  \n",
       "20000               NaN       NaN  \n",
       "30000               NaN       NaN  \n",
       "40000               NaN       NaN  \n",
       "...                 ...       ...  \n",
       "1830000             NaN       NaN  \n",
       "1840000             NaN       NaN  \n",
       "1850000             NaN       NaN  \n",
       "1860000             NaN       NaN  \n",
       "1870000             NaN       NaN  \n",
       "\n",
       "[188 rows x 13 columns]"
      ]
     },
     "execution_count": 98,
     "metadata": {},
     "output_type": "execute_result"
    }
   ],
   "source": [
    "deathswithpop= counties.join(population, \"fips\", rsuffix=\"_pop\")\n",
    "deathswithpop[::10000]"
   ]
  },
  {
   "cell_type": "code",
   "execution_count": 99,
   "metadata": {},
   "outputs": [
    {
     "data": {
      "text/plain": [
       "223298627.0"
      ]
     },
     "execution_count": 99,
     "metadata": {},
     "output_type": "execute_result"
    }
   ],
   "source": [
    "# Not joined\n",
    "deathswithpop.deaths.sum()"
   ]
  },
  {
   "cell_type": "code",
   "execution_count": 100,
   "metadata": {},
   "outputs": [
    {
     "data": {
      "text/html": [
       "<div>\n",
       "<style scoped>\n",
       "    .dataframe tbody tr th:only-of-type {\n",
       "        vertical-align: middle;\n",
       "    }\n",
       "\n",
       "    .dataframe tbody tr th {\n",
       "        vertical-align: top;\n",
       "    }\n",
       "\n",
       "    .dataframe thead th {\n",
       "        text-align: right;\n",
       "    }\n",
       "</style>\n",
       "<table border=\"1\" class=\"dataframe\">\n",
       "  <thead>\n",
       "    <tr style=\"text-align: right;\">\n",
       "      <th></th>\n",
       "      <th>date</th>\n",
       "      <th>county</th>\n",
       "      <th>state</th>\n",
       "      <th>fips</th>\n",
       "      <th>cases</th>\n",
       "      <th>deaths</th>\n",
       "      <th>us_state_fips</th>\n",
       "      <th>us_county_fips</th>\n",
       "      <th>population</th>\n",
       "      <th>region</th>\n",
       "      <th>subregion</th>\n",
       "      <th>nyt_population</th>\n",
       "      <th>fips_pop</th>\n",
       "    </tr>\n",
       "  </thead>\n",
       "  <tbody>\n",
       "    <tr>\n",
       "      <th>0</th>\n",
       "      <td>2020-01-21 00:00:00</td>\n",
       "      <td>Snohomish</td>\n",
       "      <td>Washington</td>\n",
       "      <td>53061</td>\n",
       "      <td>1</td>\n",
       "      <td>0.0</td>\n",
       "      <td>NaN</td>\n",
       "      <td>NaN</td>\n",
       "      <td>NaN</td>\n",
       "      <td>NaN</td>\n",
       "      <td>NaN</td>\n",
       "      <td>NaN</td>\n",
       "      <td>NaN</td>\n",
       "    </tr>\n",
       "    <tr>\n",
       "      <th>1</th>\n",
       "      <td>2020-01-22 00:00:00</td>\n",
       "      <td>Snohomish</td>\n",
       "      <td>Washington</td>\n",
       "      <td>53061</td>\n",
       "      <td>1</td>\n",
       "      <td>0.0</td>\n",
       "      <td>NaN</td>\n",
       "      <td>NaN</td>\n",
       "      <td>NaN</td>\n",
       "      <td>NaN</td>\n",
       "      <td>NaN</td>\n",
       "      <td>NaN</td>\n",
       "      <td>NaN</td>\n",
       "    </tr>\n",
       "    <tr>\n",
       "      <th>2</th>\n",
       "      <td>2020-01-23 00:00:00</td>\n",
       "      <td>Snohomish</td>\n",
       "      <td>Washington</td>\n",
       "      <td>53061</td>\n",
       "      <td>1</td>\n",
       "      <td>0.0</td>\n",
       "      <td>NaN</td>\n",
       "      <td>NaN</td>\n",
       "      <td>NaN</td>\n",
       "      <td>NaN</td>\n",
       "      <td>NaN</td>\n",
       "      <td>NaN</td>\n",
       "      <td>NaN</td>\n",
       "    </tr>\n",
       "    <tr>\n",
       "      <th>3</th>\n",
       "      <td>2020-01-24 00:00:00</td>\n",
       "      <td>Cook</td>\n",
       "      <td>Illinois</td>\n",
       "      <td>17031</td>\n",
       "      <td>1</td>\n",
       "      <td>0.0</td>\n",
       "      <td>NaN</td>\n",
       "      <td>NaN</td>\n",
       "      <td>NaN</td>\n",
       "      <td>NaN</td>\n",
       "      <td>NaN</td>\n",
       "      <td>NaN</td>\n",
       "      <td>NaN</td>\n",
       "    </tr>\n",
       "    <tr>\n",
       "      <th>4</th>\n",
       "      <td>2020-01-24 00:00:00</td>\n",
       "      <td>Snohomish</td>\n",
       "      <td>Washington</td>\n",
       "      <td>53061</td>\n",
       "      <td>1</td>\n",
       "      <td>0.0</td>\n",
       "      <td>NaN</td>\n",
       "      <td>NaN</td>\n",
       "      <td>NaN</td>\n",
       "      <td>NaN</td>\n",
       "      <td>NaN</td>\n",
       "      <td>NaN</td>\n",
       "      <td>NaN</td>\n",
       "    </tr>\n",
       "  </tbody>\n",
       "</table>\n",
       "</div>"
      ],
      "text/plain": [
       "                  date     county       state   fips  cases  deaths  \\\n",
       "0  2020-01-21 00:00:00  Snohomish  Washington  53061      1     0.0   \n",
       "1  2020-01-22 00:00:00  Snohomish  Washington  53061      1     0.0   \n",
       "2  2020-01-23 00:00:00  Snohomish  Washington  53061      1     0.0   \n",
       "3  2020-01-24 00:00:00       Cook    Illinois  17031      1     0.0   \n",
       "4  2020-01-24 00:00:00  Snohomish  Washington  53061      1     0.0   \n",
       "\n",
       "   us_state_fips  us_county_fips  population region subregion  nyt_population  \\\n",
       "0            NaN             NaN         NaN    NaN       NaN             NaN   \n",
       "1            NaN             NaN         NaN    NaN       NaN             NaN   \n",
       "2            NaN             NaN         NaN    NaN       NaN             NaN   \n",
       "3            NaN             NaN         NaN    NaN       NaN             NaN   \n",
       "4            NaN             NaN         NaN    NaN       NaN             NaN   \n",
       "\n",
       "   fips_pop  \n",
       "0       NaN  \n",
       "1       NaN  \n",
       "2       NaN  \n",
       "3       NaN  \n",
       "4       NaN  "
      ]
     },
     "execution_count": 100,
     "metadata": {},
     "output_type": "execute_result"
    }
   ],
   "source": [
    "deathswithpop.head()"
   ]
  },
  {
   "cell_type": "code",
   "execution_count": null,
   "metadata": {},
   "outputs": [],
   "source": [
    "feb = deathswithpop.loc[np.where(deathswithpop.date ==np.datetime64(\"2021-01-31\"))]\n"
   ]
  },
  {
   "cell_type": "code",
   "execution_count": null,
   "metadata": {},
   "outputs": [],
   "source": [
    "len(feb)"
   ]
  },
  {
   "cell_type": "code",
   "execution_count": null,
   "metadata": {},
   "outputs": [],
   "source": [
    "feb.population.sum()"
   ]
  },
  {
   "cell_type": "code",
   "execution_count": null,
   "metadata": {},
   "outputs": [],
   "source": [
    "len(feb[feb.population>0])"
   ]
  },
  {
   "cell_type": "code",
   "execution_count": 101,
   "metadata": {},
   "outputs": [],
   "source": [
    "# A little bit of a puzzle why only 94 counties out of 3169 joined.\n",
    "# Search engine...\n",
    "# https://stackoverflow.com/questions/10114399/pandas-simple-join-not-working\n",
    "# Use pd.DataFrame.merge; pd.join pays too much attention to indexes, and we often\n",
    "# want to join on data columns that aren't suitable indexes.\n",
    "\n",
    "deathswithpop= counties.merge(population, on=\"fips\")\n",
    "feb = deathswithpop.loc[np.where(deathswithpop.date ==np.datetime64(\"2021-01-31\"))]\n"
   ]
  },
  {
   "cell_type": "code",
   "execution_count": 102,
   "metadata": {},
   "outputs": [
    {
     "data": {
      "text/plain": [
       "325437513"
      ]
     },
     "execution_count": 102,
     "metadata": {},
     "output_type": "execute_result"
    }
   ],
   "source": [
    "feb.population.sum()"
   ]
  },
  {
   "cell_type": "code",
   "execution_count": 103,
   "metadata": {},
   "outputs": [
    {
     "data": {
      "text/plain": [
       "439361.0"
      ]
     },
     "execution_count": 103,
     "metadata": {},
     "output_type": "execute_result"
    }
   ],
   "source": [
    "feb.deaths.sum()"
   ]
  },
  {
   "cell_type": "code",
   "execution_count": null,
   "metadata": {},
   "outputs": [],
   "source": [
    "# So we lost a million population and two thousand deaths, but most rows merged!"
   ]
  },
  {
   "cell_type": "code",
   "execution_count": 104,
   "metadata": {},
   "outputs": [
    {
     "data": {
      "text/plain": [
       "3135"
      ]
     },
     "execution_count": 104,
     "metadata": {},
     "output_type": "execute_result"
    }
   ],
   "source": [
    "len(feb.loc[feb.population>0])"
   ]
  },
  {
   "cell_type": "code",
   "execution_count": 105,
   "metadata": {},
   "outputs": [
    {
     "data": {
      "text/html": [
       "<div>\n",
       "<style scoped>\n",
       "    .dataframe tbody tr th:only-of-type {\n",
       "        vertical-align: middle;\n",
       "    }\n",
       "\n",
       "    .dataframe tbody tr th {\n",
       "        vertical-align: top;\n",
       "    }\n",
       "\n",
       "    .dataframe thead th {\n",
       "        text-align: right;\n",
       "    }\n",
       "</style>\n",
       "<table border=\"1\" class=\"dataframe\">\n",
       "  <thead>\n",
       "    <tr style=\"text-align: right;\">\n",
       "      <th></th>\n",
       "      <th>date</th>\n",
       "      <th>county</th>\n",
       "      <th>state</th>\n",
       "      <th>fips</th>\n",
       "      <th>cases</th>\n",
       "      <th>deaths</th>\n",
       "      <th>us_state_fips</th>\n",
       "      <th>us_county_fips</th>\n",
       "      <th>population</th>\n",
       "      <th>region</th>\n",
       "      <th>subregion</th>\n",
       "      <th>nyt_population</th>\n",
       "    </tr>\n",
       "  </thead>\n",
       "  <tbody>\n",
       "    <tr>\n",
       "      <th>376</th>\n",
       "      <td>2021-01-31 00:00:00</td>\n",
       "      <td>Snohomish</td>\n",
       "      <td>Washington</td>\n",
       "      <td>53061</td>\n",
       "      <td>28373</td>\n",
       "      <td>488.0</td>\n",
       "      <td>53</td>\n",
       "      <td>53061</td>\n",
       "      <td>786620</td>\n",
       "      <td>Washington</td>\n",
       "      <td>Snohomish</td>\n",
       "      <td>NaN</td>\n",
       "    </tr>\n",
       "    <tr>\n",
       "      <th>1024</th>\n",
       "      <td>2021-01-31 00:00:00</td>\n",
       "      <td>Cook</td>\n",
       "      <td>Illinois</td>\n",
       "      <td>17031</td>\n",
       "      <td>453634</td>\n",
       "      <td>9374.0</td>\n",
       "      <td>17</td>\n",
       "      <td>17031</td>\n",
       "      <td>5223719</td>\n",
       "      <td>Illinois</td>\n",
       "      <td>Cook</td>\n",
       "      <td>NaN</td>\n",
       "    </tr>\n",
       "    <tr>\n",
       "      <th>1671</th>\n",
       "      <td>2021-01-31 00:00:00</td>\n",
       "      <td>Orange</td>\n",
       "      <td>California</td>\n",
       "      <td>6059</td>\n",
       "      <td>245978</td>\n",
       "      <td>3062.0</td>\n",
       "      <td>6</td>\n",
       "      <td>6059</td>\n",
       "      <td>3164182</td>\n",
       "      <td>California</td>\n",
       "      <td>Orange</td>\n",
       "      <td>NaN</td>\n",
       "    </tr>\n",
       "    <tr>\n",
       "      <th>2317</th>\n",
       "      <td>2021-01-31 00:00:00</td>\n",
       "      <td>Maricopa</td>\n",
       "      <td>Arizona</td>\n",
       "      <td>4013</td>\n",
       "      <td>472760</td>\n",
       "      <td>7462.0</td>\n",
       "      <td>4</td>\n",
       "      <td>4013</td>\n",
       "      <td>4253913</td>\n",
       "      <td>Arizona</td>\n",
       "      <td>Maricopa</td>\n",
       "      <td>NaN</td>\n",
       "    </tr>\n",
       "    <tr>\n",
       "      <th>2963</th>\n",
       "      <td>2021-01-31 00:00:00</td>\n",
       "      <td>Los Angeles</td>\n",
       "      <td>California</td>\n",
       "      <td>6037</td>\n",
       "      <td>1117346</td>\n",
       "      <td>16770.0</td>\n",
       "      <td>6</td>\n",
       "      <td>6037</td>\n",
       "      <td>10098052</td>\n",
       "      <td>California</td>\n",
       "      <td>Los Angeles</td>\n",
       "      <td>NaN</td>\n",
       "    </tr>\n",
       "  </tbody>\n",
       "</table>\n",
       "</div>"
      ],
      "text/plain": [
       "                     date       county       state   fips    cases   deaths  \\\n",
       "376   2021-01-31 00:00:00    Snohomish  Washington  53061    28373    488.0   \n",
       "1024  2021-01-31 00:00:00         Cook    Illinois  17031   453634   9374.0   \n",
       "1671  2021-01-31 00:00:00       Orange  California   6059   245978   3062.0   \n",
       "2317  2021-01-31 00:00:00     Maricopa     Arizona   4013   472760   7462.0   \n",
       "2963  2021-01-31 00:00:00  Los Angeles  California   6037  1117346  16770.0   \n",
       "\n",
       "      us_state_fips  us_county_fips  population      region    subregion  \\\n",
       "376              53           53061      786620  Washington    Snohomish   \n",
       "1024             17           17031     5223719    Illinois         Cook   \n",
       "1671              6            6059     3164182  California       Orange   \n",
       "2317              4            4013     4253913     Arizona     Maricopa   \n",
       "2963              6            6037    10098052  California  Los Angeles   \n",
       "\n",
       "      nyt_population  \n",
       "376              NaN  \n",
       "1024             NaN  \n",
       "1671             NaN  \n",
       "2317             NaN  \n",
       "2963             NaN  "
      ]
     },
     "execution_count": 105,
     "metadata": {},
     "output_type": "execute_result"
    }
   ],
   "source": [
    "feb.head()"
   ]
  },
  {
   "cell_type": "code",
   "execution_count": 106,
   "metadata": {},
   "outputs": [
    {
     "data": {
      "text/html": [
       "<div>\n",
       "<style scoped>\n",
       "    .dataframe tbody tr th:only-of-type {\n",
       "        vertical-align: middle;\n",
       "    }\n",
       "\n",
       "    .dataframe tbody tr th {\n",
       "        vertical-align: top;\n",
       "    }\n",
       "\n",
       "    .dataframe thead th {\n",
       "        text-align: right;\n",
       "    }\n",
       "</style>\n",
       "<table border=\"1\" class=\"dataframe\">\n",
       "  <thead>\n",
       "    <tr style=\"text-align: right;\">\n",
       "      <th></th>\n",
       "      <th>date</th>\n",
       "      <th>county</th>\n",
       "      <th>state</th>\n",
       "      <th>fips</th>\n",
       "      <th>cases</th>\n",
       "      <th>deaths</th>\n",
       "      <th>us_state_fips</th>\n",
       "      <th>us_county_fips</th>\n",
       "      <th>population</th>\n",
       "      <th>region</th>\n",
       "      <th>subregion</th>\n",
       "      <th>nyt_population</th>\n",
       "    </tr>\n",
       "  </thead>\n",
       "  <tbody>\n",
       "    <tr>\n",
       "      <th>376</th>\n",
       "      <td>2021-01-31 00:00:00</td>\n",
       "      <td>Snohomish</td>\n",
       "      <td>Washington</td>\n",
       "      <td>53061</td>\n",
       "      <td>28373</td>\n",
       "      <td>488.0</td>\n",
       "      <td>53</td>\n",
       "      <td>53061</td>\n",
       "      <td>786620</td>\n",
       "      <td>Washington</td>\n",
       "      <td>Snohomish</td>\n",
       "      <td>NaN</td>\n",
       "    </tr>\n",
       "    <tr>\n",
       "      <th>61472</th>\n",
       "      <td>2021-01-31 00:00:00</td>\n",
       "      <td>Harford</td>\n",
       "      <td>Maryland</td>\n",
       "      <td>24025</td>\n",
       "      <td>11372</td>\n",
       "      <td>207.0</td>\n",
       "      <td>24</td>\n",
       "      <td>24025</td>\n",
       "      <td>251025</td>\n",
       "      <td>Maryland</td>\n",
       "      <td>Harford</td>\n",
       "      <td>NaN</td>\n",
       "    </tr>\n",
       "    <tr>\n",
       "      <th>121676</th>\n",
       "      <td>2021-01-31 00:00:00</td>\n",
       "      <td>Fond du Lac</td>\n",
       "      <td>Wisconsin</td>\n",
       "      <td>55039</td>\n",
       "      <td>12484</td>\n",
       "      <td>93.0</td>\n",
       "      <td>55</td>\n",
       "      <td>55039</td>\n",
       "      <td>102315</td>\n",
       "      <td>Wisconsin</td>\n",
       "      <td>Fond du Lac</td>\n",
       "      <td>NaN</td>\n",
       "    </tr>\n",
       "    <tr>\n",
       "      <th>181630</th>\n",
       "      <td>2021-01-31 00:00:00</td>\n",
       "      <td>Jefferson</td>\n",
       "      <td>Tennessee</td>\n",
       "      <td>47089</td>\n",
       "      <td>5129</td>\n",
       "      <td>84.0</td>\n",
       "      <td>47</td>\n",
       "      <td>47089</td>\n",
       "      <td>53247</td>\n",
       "      <td>Tennessee</td>\n",
       "      <td>Jefferson</td>\n",
       "      <td>NaN</td>\n",
       "    </tr>\n",
       "    <tr>\n",
       "      <th>241413</th>\n",
       "      <td>2021-01-31 00:00:00</td>\n",
       "      <td>Waseca</td>\n",
       "      <td>Minnesota</td>\n",
       "      <td>27161</td>\n",
       "      <td>1968</td>\n",
       "      <td>16.0</td>\n",
       "      <td>27</td>\n",
       "      <td>27161</td>\n",
       "      <td>18809</td>\n",
       "      <td>Minnesota</td>\n",
       "      <td>Waseca</td>\n",
       "      <td>NaN</td>\n",
       "    </tr>\n",
       "    <tr>\n",
       "      <th>301006</th>\n",
       "      <td>2021-01-31 00:00:00</td>\n",
       "      <td>Jackson</td>\n",
       "      <td>Mississippi</td>\n",
       "      <td>28059</td>\n",
       "      <td>11471</td>\n",
       "      <td>196.0</td>\n",
       "      <td>28</td>\n",
       "      <td>28059</td>\n",
       "      <td>142014</td>\n",
       "      <td>Mississippi</td>\n",
       "      <td>Jackson</td>\n",
       "      <td>NaN</td>\n",
       "    </tr>\n",
       "    <tr>\n",
       "      <th>360445</th>\n",
       "      <td>2021-01-31 00:00:00</td>\n",
       "      <td>Moore</td>\n",
       "      <td>North Carolina</td>\n",
       "      <td>37125</td>\n",
       "      <td>7052</td>\n",
       "      <td>130.0</td>\n",
       "      <td>37</td>\n",
       "      <td>37125</td>\n",
       "      <td>95629</td>\n",
       "      <td>North Carolina</td>\n",
       "      <td>Moore</td>\n",
       "      <td>NaN</td>\n",
       "    </tr>\n",
       "    <tr>\n",
       "      <th>419777</th>\n",
       "      <td>2021-01-31 00:00:00</td>\n",
       "      <td>Livingston</td>\n",
       "      <td>Michigan</td>\n",
       "      <td>26093</td>\n",
       "      <td>9645</td>\n",
       "      <td>113.0</td>\n",
       "      <td>26</td>\n",
       "      <td>26093</td>\n",
       "      <td>188482</td>\n",
       "      <td>Michigan</td>\n",
       "      <td>Livingston</td>\n",
       "      <td>NaN</td>\n",
       "    </tr>\n",
       "    <tr>\n",
       "      <th>479032</th>\n",
       "      <td>2021-01-31 00:00:00</td>\n",
       "      <td>Riley</td>\n",
       "      <td>Kansas</td>\n",
       "      <td>20161</td>\n",
       "      <td>5934</td>\n",
       "      <td>30.0</td>\n",
       "      <td>20</td>\n",
       "      <td>20161</td>\n",
       "      <td>75296</td>\n",
       "      <td>Kansas</td>\n",
       "      <td>Riley</td>\n",
       "      <td>NaN</td>\n",
       "    </tr>\n",
       "    <tr>\n",
       "      <th>538232</th>\n",
       "      <td>2021-01-31 00:00:00</td>\n",
       "      <td>Campbell</td>\n",
       "      <td>Wyoming</td>\n",
       "      <td>56005</td>\n",
       "      <td>4624</td>\n",
       "      <td>53.0</td>\n",
       "      <td>56</td>\n",
       "      <td>56005</td>\n",
       "      <td>47708</td>\n",
       "      <td>Wyoming</td>\n",
       "      <td>Campbell</td>\n",
       "      <td>NaN</td>\n",
       "    </tr>\n",
       "    <tr>\n",
       "      <th>597333</th>\n",
       "      <td>2021-01-31 00:00:00</td>\n",
       "      <td>Roane</td>\n",
       "      <td>Tennessee</td>\n",
       "      <td>47145</td>\n",
       "      <td>5471</td>\n",
       "      <td>91.0</td>\n",
       "      <td>47</td>\n",
       "      <td>47145</td>\n",
       "      <td>52897</td>\n",
       "      <td>Tennessee</td>\n",
       "      <td>Roane</td>\n",
       "      <td>NaN</td>\n",
       "    </tr>\n",
       "    <tr>\n",
       "      <th>656351</th>\n",
       "      <td>2021-01-31 00:00:00</td>\n",
       "      <td>Mercer</td>\n",
       "      <td>Pennsylvania</td>\n",
       "      <td>42085</td>\n",
       "      <td>7498</td>\n",
       "      <td>223.0</td>\n",
       "      <td>42</td>\n",
       "      <td>42085</td>\n",
       "      <td>112630</td>\n",
       "      <td>Pennsylvania</td>\n",
       "      <td>Mercer</td>\n",
       "      <td>NaN</td>\n",
       "    </tr>\n",
       "    <tr>\n",
       "      <th>715270</th>\n",
       "      <td>2021-01-31 00:00:00</td>\n",
       "      <td>Danville city</td>\n",
       "      <td>Virginia</td>\n",
       "      <td>51590</td>\n",
       "      <td>3655</td>\n",
       "      <td>66.0</td>\n",
       "      <td>51</td>\n",
       "      <td>51590</td>\n",
       "      <td>41512</td>\n",
       "      <td>Virginia</td>\n",
       "      <td>Danville city</td>\n",
       "      <td>NaN</td>\n",
       "    </tr>\n",
       "    <tr>\n",
       "      <th>774074</th>\n",
       "      <td>2021-01-31 00:00:00</td>\n",
       "      <td>Carbon</td>\n",
       "      <td>Pennsylvania</td>\n",
       "      <td>42025</td>\n",
       "      <td>4387</td>\n",
       "      <td>124.0</td>\n",
       "      <td>42</td>\n",
       "      <td>42025</td>\n",
       "      <td>63931</td>\n",
       "      <td>Pennsylvania</td>\n",
       "      <td>Carbon</td>\n",
       "      <td>NaN</td>\n",
       "    </tr>\n",
       "    <tr>\n",
       "      <th>832804</th>\n",
       "      <td>2021-01-31 00:00:00</td>\n",
       "      <td>Platte</td>\n",
       "      <td>Missouri</td>\n",
       "      <td>29165</td>\n",
       "      <td>2927</td>\n",
       "      <td>36.0</td>\n",
       "      <td>29</td>\n",
       "      <td>29165</td>\n",
       "      <td>23581</td>\n",
       "      <td>Missouri</td>\n",
       "      <td>Platte</td>\n",
       "      <td>NaN</td>\n",
       "    </tr>\n",
       "    <tr>\n",
       "      <th>891504</th>\n",
       "      <td>2021-01-31 00:00:00</td>\n",
       "      <td>Marion</td>\n",
       "      <td>West Virginia</td>\n",
       "      <td>54049</td>\n",
       "      <td>3364</td>\n",
       "      <td>25.0</td>\n",
       "      <td>54</td>\n",
       "      <td>54049</td>\n",
       "      <td>56497</td>\n",
       "      <td>West Virginia</td>\n",
       "      <td>Marion</td>\n",
       "      <td>NaN</td>\n",
       "    </tr>\n",
       "    <tr>\n",
       "      <th>950111</th>\n",
       "      <td>2021-01-31 00:00:00</td>\n",
       "      <td>Benton</td>\n",
       "      <td>Tennessee</td>\n",
       "      <td>47005</td>\n",
       "      <td>1373</td>\n",
       "      <td>35.0</td>\n",
       "      <td>47</td>\n",
       "      <td>47005</td>\n",
       "      <td>16112</td>\n",
       "      <td>Tennessee</td>\n",
       "      <td>Benton</td>\n",
       "      <td>NaN</td>\n",
       "    </tr>\n",
       "    <tr>\n",
       "      <th>1008645</th>\n",
       "      <td>2021-01-31 00:00:00</td>\n",
       "      <td>Buchanan</td>\n",
       "      <td>Missouri</td>\n",
       "      <td>29021</td>\n",
       "      <td>9687</td>\n",
       "      <td>154.0</td>\n",
       "      <td>29</td>\n",
       "      <td>29021</td>\n",
       "      <td>89076</td>\n",
       "      <td>Missouri</td>\n",
       "      <td>Buchanan</td>\n",
       "      <td>NaN</td>\n",
       "    </tr>\n",
       "    <tr>\n",
       "      <th>1067099</th>\n",
       "      <td>2021-01-31 00:00:00</td>\n",
       "      <td>Covington</td>\n",
       "      <td>Mississippi</td>\n",
       "      <td>28031</td>\n",
       "      <td>2312</td>\n",
       "      <td>73.0</td>\n",
       "      <td>28</td>\n",
       "      <td>28031</td>\n",
       "      <td>19091</td>\n",
       "      <td>Mississippi</td>\n",
       "      <td>Covington</td>\n",
       "      <td>NaN</td>\n",
       "    </tr>\n",
       "    <tr>\n",
       "      <th>1125457</th>\n",
       "      <td>2021-01-31 00:00:00</td>\n",
       "      <td>Deer Lodge</td>\n",
       "      <td>Montana</td>\n",
       "      <td>30023</td>\n",
       "      <td>977</td>\n",
       "      <td>10.0</td>\n",
       "      <td>30</td>\n",
       "      <td>30023</td>\n",
       "      <td>9100</td>\n",
       "      <td>Montana</td>\n",
       "      <td>Deer Lodge</td>\n",
       "      <td>NaN</td>\n",
       "    </tr>\n",
       "    <tr>\n",
       "      <th>1183702</th>\n",
       "      <td>2021-01-31 00:00:00</td>\n",
       "      <td>Crawford</td>\n",
       "      <td>Missouri</td>\n",
       "      <td>29055</td>\n",
       "      <td>1990</td>\n",
       "      <td>24.0</td>\n",
       "      <td>29</td>\n",
       "      <td>29055</td>\n",
       "      <td>24280</td>\n",
       "      <td>Missouri</td>\n",
       "      <td>Crawford</td>\n",
       "      <td>NaN</td>\n",
       "    </tr>\n",
       "    <tr>\n",
       "      <th>1241847</th>\n",
       "      <td>2021-01-31 00:00:00</td>\n",
       "      <td>Martin</td>\n",
       "      <td>North Carolina</td>\n",
       "      <td>37117</td>\n",
       "      <td>1869</td>\n",
       "      <td>29.0</td>\n",
       "      <td>37</td>\n",
       "      <td>37117</td>\n",
       "      <td>23054</td>\n",
       "      <td>North Carolina</td>\n",
       "      <td>Martin</td>\n",
       "      <td>NaN</td>\n",
       "    </tr>\n",
       "    <tr>\n",
       "      <th>1299859</th>\n",
       "      <td>2021-01-31 00:00:00</td>\n",
       "      <td>Mercer</td>\n",
       "      <td>Illinois</td>\n",
       "      <td>17131</td>\n",
       "      <td>1209</td>\n",
       "      <td>31.0</td>\n",
       "      <td>17</td>\n",
       "      <td>17131</td>\n",
       "      <td>15693</td>\n",
       "      <td>Illinois</td>\n",
       "      <td>Mercer</td>\n",
       "      <td>NaN</td>\n",
       "    </tr>\n",
       "    <tr>\n",
       "      <th>1357722</th>\n",
       "      <td>2021-01-31 00:00:00</td>\n",
       "      <td>Grant</td>\n",
       "      <td>Oklahoma</td>\n",
       "      <td>40053</td>\n",
       "      <td>497</td>\n",
       "      <td>5.0</td>\n",
       "      <td>40</td>\n",
       "      <td>40053</td>\n",
       "      <td>4418</td>\n",
       "      <td>Oklahoma</td>\n",
       "      <td>Grant</td>\n",
       "      <td>NaN</td>\n",
       "    </tr>\n",
       "    <tr>\n",
       "      <th>1415420</th>\n",
       "      <td>2021-01-31 00:00:00</td>\n",
       "      <td>Seward</td>\n",
       "      <td>Nebraska</td>\n",
       "      <td>31159</td>\n",
       "      <td>1775</td>\n",
       "      <td>25.0</td>\n",
       "      <td>31</td>\n",
       "      <td>31159</td>\n",
       "      <td>17127</td>\n",
       "      <td>Nebraska</td>\n",
       "      <td>Seward</td>\n",
       "      <td>NaN</td>\n",
       "    </tr>\n",
       "    <tr>\n",
       "      <th>1472883</th>\n",
       "      <td>2021-01-31 00:00:00</td>\n",
       "      <td>Buchanan</td>\n",
       "      <td>Virginia</td>\n",
       "      <td>51027</td>\n",
       "      <td>1162</td>\n",
       "      <td>32.0</td>\n",
       "      <td>51</td>\n",
       "      <td>51027</td>\n",
       "      <td>22138</td>\n",
       "      <td>Virginia</td>\n",
       "      <td>Buchanan</td>\n",
       "      <td>NaN</td>\n",
       "    </tr>\n",
       "    <tr>\n",
       "      <th>1530097</th>\n",
       "      <td>2021-01-31 00:00:00</td>\n",
       "      <td>Montgomery</td>\n",
       "      <td>Georgia</td>\n",
       "      <td>13209</td>\n",
       "      <td>809</td>\n",
       "      <td>19.0</td>\n",
       "      <td>13</td>\n",
       "      <td>13209</td>\n",
       "      <td>9036</td>\n",
       "      <td>Georgia</td>\n",
       "      <td>Montgomery</td>\n",
       "      <td>NaN</td>\n",
       "    </tr>\n",
       "    <tr>\n",
       "      <th>1586896</th>\n",
       "      <td>2021-01-31 00:00:00</td>\n",
       "      <td>Roberts</td>\n",
       "      <td>Texas</td>\n",
       "      <td>48393</td>\n",
       "      <td>53</td>\n",
       "      <td>1.0</td>\n",
       "      <td>48</td>\n",
       "      <td>48393</td>\n",
       "      <td>885</td>\n",
       "      <td>Texas</td>\n",
       "      <td>Roberts</td>\n",
       "      <td>NaN</td>\n",
       "    </tr>\n",
       "    <tr>\n",
       "      <th>1642873</th>\n",
       "      <td>2021-01-31 00:00:00</td>\n",
       "      <td>Pocahontas</td>\n",
       "      <td>West Virginia</td>\n",
       "      <td>54075</td>\n",
       "      <td>556</td>\n",
       "      <td>9.0</td>\n",
       "      <td>54</td>\n",
       "      <td>54075</td>\n",
       "      <td>8531</td>\n",
       "      <td>West Virginia</td>\n",
       "      <td>Pocahontas</td>\n",
       "      <td>NaN</td>\n",
       "    </tr>\n",
       "    <tr>\n",
       "      <th>1697499</th>\n",
       "      <td>2021-01-31 00:00:00</td>\n",
       "      <td>Putnam</td>\n",
       "      <td>Illinois</td>\n",
       "      <td>17155</td>\n",
       "      <td>375</td>\n",
       "      <td>3.0</td>\n",
       "      <td>17</td>\n",
       "      <td>17155</td>\n",
       "      <td>5746</td>\n",
       "      <td>Illinois</td>\n",
       "      <td>Putnam</td>\n",
       "      <td>NaN</td>\n",
       "    </tr>\n",
       "    <tr>\n",
       "      <th>1749705</th>\n",
       "      <td>2021-01-31 00:00:00</td>\n",
       "      <td>Allen</td>\n",
       "      <td>Kansas</td>\n",
       "      <td>20001</td>\n",
       "      <td>967</td>\n",
       "      <td>1.0</td>\n",
       "      <td>20</td>\n",
       "      <td>20001</td>\n",
       "      <td>12630</td>\n",
       "      <td>Kansas</td>\n",
       "      <td>Allen</td>\n",
       "      <td>NaN</td>\n",
       "    </tr>\n",
       "    <tr>\n",
       "      <th>1798295</th>\n",
       "      <td>2021-01-31 00:00:00</td>\n",
       "      <td>Daniels</td>\n",
       "      <td>Montana</td>\n",
       "      <td>30019</td>\n",
       "      <td>189</td>\n",
       "      <td>6.0</td>\n",
       "      <td>30</td>\n",
       "      <td>30019</td>\n",
       "      <td>1753</td>\n",
       "      <td>Montana</td>\n",
       "      <td>Daniels</td>\n",
       "      <td>NaN</td>\n",
       "    </tr>\n",
       "  </tbody>\n",
       "</table>\n",
       "</div>"
      ],
      "text/plain": [
       "                        date         county           state   fips  cases  \\\n",
       "376      2021-01-31 00:00:00      Snohomish      Washington  53061  28373   \n",
       "61472    2021-01-31 00:00:00        Harford        Maryland  24025  11372   \n",
       "121676   2021-01-31 00:00:00    Fond du Lac       Wisconsin  55039  12484   \n",
       "181630   2021-01-31 00:00:00      Jefferson       Tennessee  47089   5129   \n",
       "241413   2021-01-31 00:00:00         Waseca       Minnesota  27161   1968   \n",
       "301006   2021-01-31 00:00:00        Jackson     Mississippi  28059  11471   \n",
       "360445   2021-01-31 00:00:00          Moore  North Carolina  37125   7052   \n",
       "419777   2021-01-31 00:00:00     Livingston        Michigan  26093   9645   \n",
       "479032   2021-01-31 00:00:00          Riley          Kansas  20161   5934   \n",
       "538232   2021-01-31 00:00:00       Campbell         Wyoming  56005   4624   \n",
       "597333   2021-01-31 00:00:00          Roane       Tennessee  47145   5471   \n",
       "656351   2021-01-31 00:00:00         Mercer    Pennsylvania  42085   7498   \n",
       "715270   2021-01-31 00:00:00  Danville city        Virginia  51590   3655   \n",
       "774074   2021-01-31 00:00:00         Carbon    Pennsylvania  42025   4387   \n",
       "832804   2021-01-31 00:00:00         Platte        Missouri  29165   2927   \n",
       "891504   2021-01-31 00:00:00         Marion   West Virginia  54049   3364   \n",
       "950111   2021-01-31 00:00:00         Benton       Tennessee  47005   1373   \n",
       "1008645  2021-01-31 00:00:00       Buchanan        Missouri  29021   9687   \n",
       "1067099  2021-01-31 00:00:00      Covington     Mississippi  28031   2312   \n",
       "1125457  2021-01-31 00:00:00     Deer Lodge         Montana  30023    977   \n",
       "1183702  2021-01-31 00:00:00       Crawford        Missouri  29055   1990   \n",
       "1241847  2021-01-31 00:00:00         Martin  North Carolina  37117   1869   \n",
       "1299859  2021-01-31 00:00:00         Mercer        Illinois  17131   1209   \n",
       "1357722  2021-01-31 00:00:00          Grant        Oklahoma  40053    497   \n",
       "1415420  2021-01-31 00:00:00         Seward        Nebraska  31159   1775   \n",
       "1472883  2021-01-31 00:00:00       Buchanan        Virginia  51027   1162   \n",
       "1530097  2021-01-31 00:00:00     Montgomery         Georgia  13209    809   \n",
       "1586896  2021-01-31 00:00:00        Roberts           Texas  48393     53   \n",
       "1642873  2021-01-31 00:00:00     Pocahontas   West Virginia  54075    556   \n",
       "1697499  2021-01-31 00:00:00         Putnam        Illinois  17155    375   \n",
       "1749705  2021-01-31 00:00:00          Allen          Kansas  20001    967   \n",
       "1798295  2021-01-31 00:00:00        Daniels         Montana  30019    189   \n",
       "\n",
       "         deaths  us_state_fips  us_county_fips  population          region  \\\n",
       "376       488.0             53           53061      786620      Washington   \n",
       "61472     207.0             24           24025      251025        Maryland   \n",
       "121676     93.0             55           55039      102315       Wisconsin   \n",
       "181630     84.0             47           47089       53247       Tennessee   \n",
       "241413     16.0             27           27161       18809       Minnesota   \n",
       "301006    196.0             28           28059      142014     Mississippi   \n",
       "360445    130.0             37           37125       95629  North Carolina   \n",
       "419777    113.0             26           26093      188482        Michigan   \n",
       "479032     30.0             20           20161       75296          Kansas   \n",
       "538232     53.0             56           56005       47708         Wyoming   \n",
       "597333     91.0             47           47145       52897       Tennessee   \n",
       "656351    223.0             42           42085      112630    Pennsylvania   \n",
       "715270     66.0             51           51590       41512        Virginia   \n",
       "774074    124.0             42           42025       63931    Pennsylvania   \n",
       "832804     36.0             29           29165       23581        Missouri   \n",
       "891504     25.0             54           54049       56497   West Virginia   \n",
       "950111     35.0             47           47005       16112       Tennessee   \n",
       "1008645   154.0             29           29021       89076        Missouri   \n",
       "1067099    73.0             28           28031       19091     Mississippi   \n",
       "1125457    10.0             30           30023        9100         Montana   \n",
       "1183702    24.0             29           29055       24280        Missouri   \n",
       "1241847    29.0             37           37117       23054  North Carolina   \n",
       "1299859    31.0             17           17131       15693        Illinois   \n",
       "1357722     5.0             40           40053        4418        Oklahoma   \n",
       "1415420    25.0             31           31159       17127        Nebraska   \n",
       "1472883    32.0             51           51027       22138        Virginia   \n",
       "1530097    19.0             13           13209        9036         Georgia   \n",
       "1586896     1.0             48           48393         885           Texas   \n",
       "1642873     9.0             54           54075        8531   West Virginia   \n",
       "1697499     3.0             17           17155        5746        Illinois   \n",
       "1749705     1.0             20           20001       12630          Kansas   \n",
       "1798295     6.0             30           30019        1753         Montana   \n",
       "\n",
       "             subregion  nyt_population  \n",
       "376          Snohomish             NaN  \n",
       "61472          Harford             NaN  \n",
       "121676     Fond du Lac             NaN  \n",
       "181630       Jefferson             NaN  \n",
       "241413          Waseca             NaN  \n",
       "301006         Jackson             NaN  \n",
       "360445           Moore             NaN  \n",
       "419777      Livingston             NaN  \n",
       "479032           Riley             NaN  \n",
       "538232        Campbell             NaN  \n",
       "597333           Roane             NaN  \n",
       "656351          Mercer             NaN  \n",
       "715270   Danville city             NaN  \n",
       "774074          Carbon             NaN  \n",
       "832804          Platte             NaN  \n",
       "891504          Marion             NaN  \n",
       "950111          Benton             NaN  \n",
       "1008645       Buchanan             NaN  \n",
       "1067099      Covington             NaN  \n",
       "1125457     Deer Lodge             NaN  \n",
       "1183702       Crawford             NaN  \n",
       "1241847         Martin             NaN  \n",
       "1299859         Mercer             NaN  \n",
       "1357722          Grant             NaN  \n",
       "1415420         Seward             NaN  \n",
       "1472883       Buchanan             NaN  \n",
       "1530097     Montgomery             NaN  \n",
       "1586896        Roberts             NaN  \n",
       "1642873     Pocahontas             NaN  \n",
       "1697499         Putnam             NaN  \n",
       "1749705          Allen             NaN  \n",
       "1798295        Daniels             NaN  "
      ]
     },
     "execution_count": 106,
     "metadata": {},
     "output_type": "execute_result"
    }
   ],
   "source": [
    "feb[::100]"
   ]
  },
  {
   "cell_type": "code",
   "execution_count": null,
   "metadata": {},
   "outputs": [],
   "source": [
    "# I am now satisfied that my table is joined."
   ]
  },
  {
   "cell_type": "code",
   "execution_count": 107,
   "metadata": {},
   "outputs": [],
   "source": [
    "feb[\"percapitadeaths\"] = feb.deaths / feb.population"
   ]
  },
  {
   "cell_type": "code",
   "execution_count": 108,
   "metadata": {},
   "outputs": [
    {
     "data": {
      "text/plain": [
       "Text(0, 0.5, 'County Deaths')"
      ]
     },
     "execution_count": 108,
     "metadata": {},
     "output_type": "execute_result"
    },
    {
     "data": {
      "image/png": "[encoded data removed]",
      "text/plain": [
       "<Figure size 432x288 with 1 Axes>"
      ]
     },
     "metadata": {
      "needs_background": "light"
     },
     "output_type": "display_data"
    }
   ],
   "source": [
    "plt.scatter(feb.population, feb.deaths)\n",
    "plt.xlabel(\"County Population\")\n",
    "plt.ylabel(\"County Deaths\")"
   ]
  },
  {
   "cell_type": "code",
   "execution_count": 109,
   "metadata": {},
   "outputs": [
    {
     "data": {
      "text/plain": [
       "Text(0, 0.5, 'County Deaths')"
      ]
     },
     "execution_count": 109,
     "metadata": {},
     "output_type": "execute_result"
    },
    {
     "data": {
      "image/png": "[encoded data removed]",
      "text/plain": [
       "<Figure size 432x288 with 1 Axes>"
      ]
     },
     "metadata": {
      "needs_background": "light"
     },
     "output_type": "display_data"
    }
   ],
   "source": [
    "plt.loglog(feb.population, feb.deaths,'.')\n",
    "plt.xlabel(\"County Population\")\n",
    "plt.ylabel(\"County Deaths\")"
   ]
  },
  {
   "cell_type": "code",
   "execution_count": null,
   "metadata": {},
   "outputs": [],
   "source": [
    "# What do you see in this graph?\n"
   ]
  },
  {
   "cell_type": "code",
   "execution_count": 110,
   "metadata": {},
   "outputs": [
    {
     "data": {
      "text/plain": [
       "Text(0.5, 0, 'Per capita death rate')"
      ]
     },
     "execution_count": 110,
     "metadata": {},
     "output_type": "execute_result"
    },
    {
     "data": {
      "image/png": "[encoded data removed]",
      "text/plain": [
       "<Figure size 432x288 with 1 Axes>"
      ]
     },
     "metadata": {
      "needs_background": "light"
     },
     "output_type": "display_data"
    }
   ],
   "source": [
    "# Just for kicks... histogram of per capita death rate?\n",
    "plt.hist (feb.percapitadeaths, bins=100)\n",
    "plt.xlabel(\"Per capita death rate\")"
   ]
  },
  {
   "cell_type": "code",
   "execution_count": 111,
   "metadata": {},
   "outputs": [
    {
     "data": {
      "text/plain": [
       "0.0013469309216855877"
      ]
     },
     "execution_count": 111,
     "metadata": {},
     "output_type": "execute_result"
    }
   ],
   "source": [
    "# This looks believable, but this is not the graph on which \n",
    "# we will find the truth. \n",
    "# WE ARE COUNTING THE WRONG THINGS, as usual.\n",
    "# Imagine the headline \"50% of counties report death rates above\n",
    "feb.percapitadeaths.median()\n",
    "# .00134  ( one death per 742 population).  This generalizes how?\n",
    "# The counties do not all have the same weights."
   ]
  },
  {
   "cell_type": "code",
   "execution_count": null,
   "metadata": {},
   "outputs": [],
   "source": [
    "# To get at the Heritige Foundation's implicit question -- how can we show\n",
    "# the difference between death toll in large and small (population, before-the-fact)\n",
    "# counties, I suggest plotting cumulative population (small to large) against \n",
    "# cumulative deaths."
   ]
  },
  {
   "cell_type": "code",
   "execution_count": 112,
   "metadata": {},
   "outputs": [
    {
     "data": {
      "text/plain": [
       "[<matplotlib.lines.Line2D at 0x7fb0c5f6b8e0>]"
      ]
     },
     "execution_count": 112,
     "metadata": {},
     "output_type": "execute_result"
    },
    {
     "data": {
      "image/png": "[encoded data removed]",
      "text/plain": [
       "<Figure size 432x288 with 1 Axes>"
      ]
     },
     "metadata": {
      "needs_background": "light"
     },
     "output_type": "display_data"
    }
   ],
   "source": [
    "plt.plot(feb.population.cumsum())"
   ]
  },
  {
   "cell_type": "code",
   "execution_count": 113,
   "metadata": {},
   "outputs": [
    {
     "data": {
      "text/plain": [
       "[<matplotlib.lines.Line2D at 0x7fb0c60d12b0>]"
      ]
     },
     "execution_count": 113,
     "metadata": {},
     "output_type": "execute_result"
    },
    {
     "data": {
      "image/png": "[encoded data removed]",
      "text/plain": [
       "<Figure size 432x288 with 1 Axes>"
      ]
     },
     "metadata": {
      "needs_background": "light"
     },
     "output_type": "display_data"
    }
   ],
   "source": [
    "# Och, forgot to sort by population.\n",
    "plt.plot( feb.population.sort_values(ascending=True).cumsum())"
   ]
  },
  {
   "cell_type": "code",
   "execution_count": 114,
   "metadata": {},
   "outputs": [
    {
     "data": {
      "text/plain": [
       "1812671          75\n",
       "1812344         102\n",
       "1811258         228\n",
       "1802425         418\n",
       "1810486         432\n",
       "             ...   \n",
       "2317        4253913\n",
       "29389       4602523\n",
       "1024        5223719\n",
       "16009       8443713\n",
       "2963       10098052\n",
       "Name: population, Length: 3135, dtype: int64"
      ]
     },
     "execution_count": 114,
     "metadata": {},
     "output_type": "execute_result"
    }
   ],
   "source": [
    "# Uh, what?   \n",
    "feb.population.sort_values()"
   ]
  },
  {
   "cell_type": "code",
   "execution_count": null,
   "metadata": {},
   "outputs": [],
   "source": [
    "# plt.plot wants to plot using the index.  ok.  I can plot against rank with np.arange(len(feb.population)"
   ]
  },
  {
   "cell_type": "code",
   "execution_count": 115,
   "metadata": {},
   "outputs": [
    {
     "data": {
      "text/plain": [
       "[<matplotlib.lines.Line2D at 0x7fb0c631dbb0>]"
      ]
     },
     "execution_count": 115,
     "metadata": {},
     "output_type": "execute_result"
    },
    {
     "data": {
      "image/png": "[encoded data removed]",
      "text/plain": [
       "<Figure size 432x288 with 2 Axes>"
      ]
     },
     "metadata": {
      "needs_background": "light"
     },
     "output_type": "display_data"
    }
   ],
   "source": [
    "# This gives me cumulative population from smallest to biggest... \n",
    "plt.subplot(121);\n",
    "plt.plot(np.arange(len(feb.population)), feb.population.sort_values(ascending=True).cumsum())\n",
    "# And biggest to smallest... \n",
    "\n",
    "plt.subplot(122)\n",
    "plt.plot(np.arange(len(feb.population)), feb.population.sort_values(ascending=False).cumsum())"
   ]
  },
  {
   "cell_type": "code",
   "execution_count": null,
   "metadata": {},
   "outputs": [],
   "source": [
    "# Consider (as the Heratige people did) this as a data transformation: \n",
    "# this exaggerates small counties by changing the x-axis."
   ]
  },
  {
   "cell_type": "code",
   "execution_count": 116,
   "metadata": {},
   "outputs": [
    {
     "data": {
      "text/plain": [
       "[<matplotlib.lines.Line2D at 0x7fb0c63b26a0>]"
      ]
     },
     "execution_count": 116,
     "metadata": {},
     "output_type": "execute_result"
    },
    {
     "data": {
      "image/png": "[encoded data removed]",
      "text/plain": [
       "<Figure size 432x288 with 2 Axes>"
      ]
     },
     "metadata": {
      "needs_background": "light"
     },
     "output_type": "display_data"
    }
   ],
   "source": [
    "# but I'm using sort_values on feb.population (a series); I need the whole dataframe for \n",
    "# the next step. \n",
    "plt.subplot(121);\n",
    "plt.plot(np.arange(len(feb.population)), feb.sort_values(\"population\", ascending=True).population.cumsum())\n",
    "plt.subplot(122)\n",
    "plt.plot(np.arange(len(feb.population)), feb.sort_values(\"population\", ascending=False).population.cumsum())"
   ]
  },
  {
   "cell_type": "code",
   "execution_count": 117,
   "metadata": {},
   "outputs": [
    {
     "data": {
      "text/plain": [
       "[<matplotlib.lines.Line2D at 0x7fb0c66d90a0>]"
      ]
     },
     "execution_count": 117,
     "metadata": {},
     "output_type": "execute_result"
    },
    {
     "data": {
      "image/png": "[encoded data removed]",
      "text/plain": [
       "<Figure size 432x288 with 2 Axes>"
      ]
     },
     "metadata": {
      "needs_background": "light"
     },
     "output_type": "display_data"
    }
   ],
   "source": [
    "# This gives me the same thing, but also gives me access to deaths in the same order.\n",
    "# but I'm using sort_values on feb.population (a series); I need the whole dataframe for \n",
    "# the next step. \n",
    "plt.subplot(121);\n",
    "plt.plot(np.arange(len(feb.population)), feb.sort_values(\"population\", ascending=True).population.cumsum())\n",
    "plt.plot(np.arange(len(feb.population)), feb.sort_values(\"population\", ascending=True).deaths.cumsum())\n",
    "plt.subplot(122)\n",
    "plt.plot(np.arange(len(feb.population)), feb.sort_values(\"population\", ascending=False).population.cumsum())\n",
    "plt.plot(np.arange(len(feb.population)), feb.sort_values(\"population\", ascending=False).deaths.cumsum())\n"
   ]
  },
  {
   "cell_type": "code",
   "execution_count": 118,
   "metadata": {},
   "outputs": [
    {
     "data": {
      "text/plain": [
       "Text(0.5, 0, 'County population rank (large to small)')"
      ]
     },
     "execution_count": 118,
     "metadata": {},
     "output_type": "execute_result"
    },
    {
     "data": {
      "image/png": "[encoded data removed]",
      "text/plain": [
       "<Figure size 432x288 with 2 Axes>"
      ]
     },
     "metadata": {
      "needs_background": "light"
     },
     "output_type": "display_data"
    }
   ],
   "source": [
    "# Make it logarithmic just to make sure we have what we expect\n",
    "plt.subplot(121);\n",
    "plt.plot(np.arange(len(feb.population)), feb.sort_values(\"population\", ascending=True).population.cumsum())\n",
    "plt.plot(np.arange(len(feb.population)), feb.sort_values(\"population\", ascending=True).deaths.cumsum())\n",
    "plt.ylabel(\"Cumulative population\")\n",
    "plt.xlabel(\"County population rank (small to large)\")\n",
    "plt.yscale(\"log\")\n",
    "plt.subplot(122)\n",
    "plt.plot(np.arange(len(feb.population)), feb.sort_values(\"population\", ascending=False).population.cumsum())\n",
    "plt.plot(np.arange(len(feb.population)), feb.sort_values(\"population\", ascending=False).deaths.cumsum())\n",
    "plt.yscale(\"log\")\n",
    "#plt.ylabel(\"Cumulative population\")\n",
    "plt.xlabel(\"County population rank (large to small)\")\n"
   ]
  },
  {
   "cell_type": "code",
   "execution_count": 119,
   "metadata": {},
   "outputs": [
    {
     "data": {
      "text/plain": [
       "Text(0, 0.5, 'cumulative COVID deaths (Feb 2021) n = 411k')"
      ]
     },
     "execution_count": 119,
     "metadata": {},
     "output_type": "execute_result"
    },
    {
     "data": {
      "image/png": "[encoded data removed]",
      "text/plain": [
       "<Figure size 1152x576 with 2 Axes>"
      ]
     },
     "metadata": {
      "needs_background": "light"
     },
     "output_type": "display_data"
    }
   ],
   "source": [
    "# And now for the finish, plot cumulative population vs. cumulative deaths.\n",
    "# Before we plot it, we expect it will go from 0,0 to 326M, 411k.\n",
    "# Make it logarithmic just to make sure we have what we expect\n",
    "plt.figure(figsize=(16,8))\n",
    "plt.subplot(121);\n",
    "plt.plot( feb.sort_values(\"population\", ascending=True).population.cumsum(), feb.sort_values(\"population\", ascending=True).deaths.cumsum())\n",
    "plt.xlabel(\"cumulative of population, smallest to largest counties (326M)\")\n",
    "plt.ylabel(\"cumulative of COVID deaths n = 411k\")\n",
    "\n",
    "plt.subplot(122)\n",
    "plt.plot( feb.sort_values(\"population\", ascending=False).population.cumsum(), feb.sort_values(\"population\", ascending=False).deaths.cumsum())\n",
    "plt.xlabel(\"cumulative of population, largest to smallest counties (326M)\")\n",
    "plt.ylabel(\"cumulative COVID deaths (Feb 2021) n = 411k\")\n"
   ]
  },
  {
   "cell_type": "code",
   "execution_count": null,
   "metadata": {},
   "outputs": [],
   "source": [
    "# ?!?!?!"
   ]
  },
  {
   "cell_type": "code",
   "execution_count": 120,
   "metadata": {},
   "outputs": [
    {
     "data": {
      "text/plain": [
       "[<matplotlib.lines.Line2D at 0x7fb0c7be09a0>]"
      ]
     },
     "execution_count": 120,
     "metadata": {},
     "output_type": "execute_result"
    },
    {
     "data": {
      "image/png": "[encoded data removed]",
      "text/plain": [
       "<Figure size 1152x576 with 2 Axes>"
      ]
     },
     "metadata": {
      "needs_background": "light"
     },
     "output_type": "display_data"
    }
   ],
   "source": [
    "# add line at constant-fraction-population-deaths\n",
    "\n",
    "plt.figure(figsize=(16,8))\n",
    "plt.subplot(121);\n",
    "plt.plot( feb.sort_values(\"population\", ascending=True).population.cumsum() / feb.population.sum(), feb.sort_values(\"population\", ascending=True).deaths.cumsum()/feb.deaths.sum())\n",
    "plt.xlabel(\"fraction of population, smallest to largest counties (326M)\")\n",
    "plt.ylabel(\"fraction of COVID deaths n = 411k\")\n",
    "\n",
    "plt.plot([0,1],[0,1])\n",
    "plt.subplot(122)\n",
    "plt.plot( feb.sort_values(\"population\", ascending=False).population.cumsum() / feb.population.sum(), feb.sort_values(\"population\", ascending=False).deaths.cumsum()/feb.deaths.sum())\n",
    "plt.xlabel(\"fraction of population, largest to smallest counties (326M)\")\n",
    "plt.ylabel(\"fraction of COVID deaths n=411k\")\n",
    "\n",
    "plt.plot([0,1],[0,1])"
   ]
  },
  {
   "cell_type": "code",
   "execution_count": null,
   "metadata": {},
   "outputs": [],
   "source": [
    "# This is an honest visualization, but \n",
    "# I was not expecting to see this.  \n",
    "\n",
    "# All right, I was shocked that the effect size seems so small."
   ]
  },
  {
   "cell_type": "code",
   "execution_count": null,
   "metadata": {},
   "outputs": [],
   "source": [
    "# The effect is real, but seems smaller than we were led to believe.  (Hard to judge from graph)\n",
    "# Note these two graphs have the same shape, just flipped up and down and left and right.\n",
    "# On the right-hand graph, we see that large counties are in fact harder hit, \n",
    "# and that the third of the population in the smallest counties had lower-than-overall\n",
    "# death rates.   \n",
    "\n",
    "# Hmm.  How to make this deceptive?  \n",
    "\n",
    "# A:  Sort by after-the-fact deaths by county (something you should probably never do)\n"
   ]
  },
  {
   "cell_type": "code",
   "execution_count": 121,
   "metadata": {},
   "outputs": [
    {
     "data": {
      "text/plain": [
       "[<matplotlib.lines.Line2D at 0x7fb0c7edf5b0>]"
      ]
     },
     "execution_count": 121,
     "metadata": {},
     "output_type": "execute_result"
    },
    {
     "data": {
      "image/png": "[encoded data removed]",
      "text/plain": [
       "<Figure size 1152x576 with 2 Axes>"
      ]
     },
     "metadata": {
      "needs_background": "light"
     },
     "output_type": "display_data"
    }
   ],
   "source": [
    "plt.figure(figsize=(16,8))\n",
    "plt.subplot(121);\n",
    "plt.plot( feb.sort_values(\"deaths\", ascending=True).population.cumsum() / feb.population.sum(), feb.sort_values(\"deaths\", ascending=True).deaths.cumsum()/feb.deaths.sum())\n",
    "plt.xlabel(\"fraction of population, fewest to most death counties (326M)\")\n",
    "plt.ylabel(\"fraction of COVID deaths n = 411k\")\n",
    "\n",
    "plt.plot([0,1],[0,1])\n",
    "plt.subplot(122)\n",
    "plt.plot( feb.sort_values(\"deaths\", ascending=False).population.cumsum() / feb.population.sum(), feb.sort_values(\"deaths\", ascending=False).deaths.cumsum()/feb.deaths.sum())\n",
    "plt.xlabel(\"fraction of population, most deaths to least deaths counties (326M)\")\n",
    "plt.ylabel(\"fraction of COVID deaths n=411k\")\n",
    "\n",
    "plt.plot([0,1],[0,1])"
   ]
  },
  {
   "cell_type": "code",
   "execution_count": 122,
   "metadata": {},
   "outputs": [],
   "source": [
    "# This is not as dramatic as I was expecting. \n",
    "# Let's see if it matches.\n",
    "#  65 counties most deaths - 31.9% US population 40.3% of deaths\n",
    "\n",
    "heritage = pd.DataFrame( {\n",
    "\"fracdeaths\": feb.sort_values(\"deaths\", ascending=False).deaths.cumsum() / feb.deaths.sum(),\n",
    "\"fracpopulation\": feb.sort_values(\"deaths\", ascending=False).population.cumsum() / feb.population.sum()\n",
    "})"
   ]
  },
  {
   "cell_type": "code",
   "execution_count": null,
   "metadata": {},
   "outputs": [],
   "source": [
    "heritage.index = np.arange(len(heritage))"
   ]
  },
  {
   "cell_type": "code",
   "execution_count": null,
   "metadata": {},
   "outputs": [],
   "source": [
    "heritage"
   ]
  },
  {
   "cell_type": "code",
   "execution_count": null,
   "metadata": {},
   "outputs": [],
   "source": [
    "heritage.loc[64]"
   ]
  },
  {
   "cell_type": "code",
   "execution_count": null,
   "metadata": {},
   "outputs": [],
   "source": [
    "heritage.loc[60]"
   ]
  },
  {
   "cell_type": "code",
   "execution_count": null,
   "metadata": {},
   "outputs": [],
   "source": [
    "#  65 counties most deaths - 31.9% US population 40.3% of deaths\n",
    "# This is a size of error that might be caused by consolidating \n",
    "# NYC's five boroughs.. \n",
    "\n",
    "# The difference at 40.3% of deaths is 0.5% of US population, \n",
    "# which is a difference of a county (or borough) of 1.6M population.\n",
    "# This isn't far enough off to make me sound the alarm.  \n",
    "\n",
    "# The deception was in sorting by the outcome of a random process."
   ]
  },
  {
   "cell_type": "code",
   "execution_count": null,
   "metadata": {},
   "outputs": [],
   "source": []
  },
  {
   "cell_type": "code",
   "execution_count": 123,
   "metadata": {},
   "outputs": [
    {
     "data": {
      "text/plain": [
       "[<matplotlib.lines.Line2D at 0x7fb0c81d1880>]"
      ]
     },
     "execution_count": 123,
     "metadata": {},
     "output_type": "execute_result"
    },
    {
     "data": {
      "image/png": "[encoded data removed]",
      "text/plain": [
       "<Figure size 1152x576 with 2 Axes>"
      ]
     },
     "metadata": {
      "needs_background": "light"
     },
     "output_type": "display_data"
    }
   ],
   "source": [
    "# Maybe I can plot the difference betwen fraction population and fraction of deaths?\n",
    "plt.figure(figsize=(16,8))\n",
    "plt.subplot(121);\n",
    "plt.plot( feb.sort_values(\"deaths\", ascending=True).population.cumsum() / feb.population.sum(),    feb.sort_values(\"deaths\", ascending=True).deaths.cumsum()/feb.deaths.sum()- feb.sort_values(\"deaths\", ascending=True).population.cumsum() / feb.population.sum())\n",
    "plt.xlabel(\"fraction of population, least deaths to most death counties (326M)\")\n",
    "plt.ylabel(\"difference fraction of covid deaths to fraction of population \")\n",
    "\n",
    "plt.plot([0,1],[0,0])\n",
    "plt.subplot(122)\n",
    "plt.plot( feb.sort_values(\"population\", ascending=False).population.cumsum() / feb.population.sum(), feb.sort_values(\"population\", ascending=False).deaths.cumsum()/feb.deaths.sum()- feb.sort_values(\"population\", ascending=False).population.cumsum()/feb.population.sum( ))\n",
    "plt.xlabel(\"fraction of population, most populous to least populous counties (326M)\")\n",
    "plt.ylabel(\"difference fraction of covid deaths to fraction of population\")\n",
    "plt.plot([0,1],[0,0])\n",
    "\n"
   ]
  },
  {
   "cell_type": "code",
   "execution_count": null,
   "metadata": {},
   "outputs": [],
   "source": [
    "# And this relationship on the left was treated with a slider that\n",
    "# ran from 0 to 5% of population, and with another slider for the n\n",
    "# most-death counties that ran from 52% to 89%. "
   ]
  },
  {
   "cell_type": "code",
   "execution_count": 124,
   "metadata": {},
   "outputs": [
    {
     "data": {
      "text/plain": [
       "Text(0, 0.5, 'Number of counties')"
      ]
     },
     "execution_count": 124,
     "metadata": {},
     "output_type": "execute_result"
    },
    {
     "data": {
      "image/png": "[encoded data removed]",
      "text/plain": [
       "<Figure size 432x288 with 1 Axes>"
      ]
     },
     "metadata": {
      "needs_background": "light"
     },
     "output_type": "display_data"
    }
   ],
   "source": [
    "# Let us consider that histogram of per-county deaths..\n",
    "# It was weighted such that each county got one vote. \n",
    "bins = np.power(10, np.arange(-1,4,.1) )\n",
    "plt.hist(febdata.deaths , bins=bins )\n",
    "plt.xscale(\"log\")\n",
    "plt.xlabel(\"per-county deaths\")\n",
    "plt.ylabel(\"Number of counties\")"
   ]
  },
  {
   "cell_type": "code",
   "execution_count": 125,
   "metadata": {},
   "outputs": [
    {
     "data": {
      "text/plain": [
       "Text(0, 0.5, 'population in affected counties')"
      ]
     },
     "execution_count": 125,
     "metadata": {},
     "output_type": "execute_result"
    },
    {
     "data": {
      "image/png": "[encoded data removed]",
      "text/plain": [
       "<Figure size 432x288 with 1 Axes>"
      ]
     },
     "metadata": {
      "needs_background": "light"
     },
     "output_type": "display_data"
    }
   ],
   "source": [
    "# We can add weights to the histogram to count people\n",
    "bins = np.power(10, np.arange(-1,4,.1) )\n",
    "plt.hist(feb.deaths+.1 , bins=bins, weights=feb.population )\n",
    "plt.xscale(\"log\")\n",
    "\n",
    "plt.xlabel(\"per-county deaths\")\n",
    "plt.ylabel(\"population in affected counties\")"
   ]
  },
  {
   "cell_type": "code",
   "execution_count": 126,
   "metadata": {},
   "outputs": [
    {
     "data": {
      "text/plain": [
       "Text(0, 0.5, 'affected population')"
      ]
     },
     "execution_count": 126,
     "metadata": {},
     "output_type": "execute_result"
    },
    {
     "data": {
      "image/png": "[encoded data removed]",
      "text/plain": [
       "<Figure size 576x864 with 2 Axes>"
      ]
     },
     "metadata": {
      "needs_background": "light"
     },
     "output_type": "display_data"
    }
   ],
   "source": [
    "# And plot them at the same time\n",
    "plt.figure(figsize=(8,12))\n",
    "plt.subplot(211)\n",
    "bins = np.power(10, np.arange(-1,4,.1) )\n",
    "plt.hist(feb.deaths+.1 , bins=bins, alpha=0.5 )\n",
    "plt.xscale(\"log\")\n",
    "plt.xlabel(\"per-county deaths\")\n",
    "plt.ylabel(\"number of counties\")\n",
    "plt.subplot(212)\n",
    "plt.hist(feb.deaths+.1 , bins=bins, weights=feb.population, alpha=0.5 )\n",
    "plt.xscale(\"log\")\n",
    "plt.xlabel(\"per-county deaths\")\n",
    "plt.ylabel(\"affected population\")\n",
    "\n"
   ]
  },
  {
   "cell_type": "code",
   "execution_count": null,
   "metadata": {},
   "outputs": [],
   "source": [
    "# These don't look as similar as one might want them to be.\n",
    "# The median county has 30 deaths but the median citizen \n",
    "# lives in a county with 300 deaths.  \n",
    "\n",
    "# Counting by county is bad."
   ]
  },
  {
   "cell_type": "code",
   "execution_count": 127,
   "metadata": {},
   "outputs": [
    {
     "data": {
      "text/plain": [
       "Text(0.5, 0, 'per capita COVID deaths (by population)')"
      ]
     },
     "execution_count": 127,
     "metadata": {},
     "output_type": "execute_result"
    },
    {
     "data": {
      "image/png": "[encoded data removed]",
      "text/plain": [
       "<Figure size 576x864 with 2 Axes>"
      ]
     },
     "metadata": {
      "needs_background": "light"
     },
     "output_type": "display_data"
    }
   ],
   "source": [
    "#rates?\n",
    "plt.figure(figsize=(8,12))\n",
    "plt.subplot(211)\n",
    "plt.hist(feb.percapitadeaths , alpha=0.5, bins=100 )\n",
    "plt.xlabel(\"per-capita COVID deaths (by county)\")\n",
    "plt.subplot(212)\n",
    "plt.hist(feb.percapitadeaths , weights=feb.population, alpha=0.5 , bins=100)\n",
    "plt.xlabel(\"per capita COVID deaths (by population)\")"
   ]
  },
  {
   "cell_type": "code",
   "execution_count": 129,
   "metadata": {},
   "outputs": [
    {
     "name": "stdout",
     "output_type": "stream",
     "text": [
      "Average crude death rate, weighted by county    0.0015072623295247214\n",
      "Average crude death rate, weigted by population 0.001350062554097751\n"
     ]
    }
   ],
   "source": [
    "# The effect here is not as strong, or is harder to see, but \n",
    "# this is the graph whose mean tells you how bad it is on average.\n",
    "\n",
    "# For kicks, let's calculate the center of mass of these two histograms..\n",
    "print (\"Average crude death rate, weighted by county   \", feb.percapitadeaths.mean())\n",
    "print (\"Average crude death rate, weigted by population\", (feb.percapitadeaths * feb.population).sum() / feb.population.sum())"
   ]
  },
  {
   "cell_type": "code",
   "execution_count": null,
   "metadata": {},
   "outputs": [],
   "source": [
    "# Couldn't have seen that difference just looking at ragged histograms"
   ]
  },
  {
   "cell_type": "code",
   "execution_count": null,
   "metadata": {},
   "outputs": [],
   "source": [
    "# I feel inspired to make variable-width bar charts from this death data. "
   ]
  },
  {
   "cell_type": "code",
   "execution_count": 130,
   "metadata": {},
   "outputs": [],
   "source": [
    "# First, let me define some dummy data, and make sure I can plot this like a set\n",
    "# of boxes piled up in a mail room.\n",
    "d = pd.DataFrame ( {\n",
    "\"x\": [ 1,1,1,2,1,2,1,2,1,2],\n",
    "\"y\": [ 1,1,1,2,1,2,4,3,4,3]\n",
    "})"
   ]
  },
  {
   "cell_type": "code",
   "execution_count": 131,
   "metadata": {},
   "outputs": [
    {
     "data": {
      "text/plain": [
       "<BarContainer object of 10 artists>"
      ]
     },
     "execution_count": 131,
     "metadata": {},
     "output_type": "execute_result"
    },
    {
     "data": {
      "image/png": "[encoded data removed]",
      "text/plain": [
       "<Figure size 432x288 with 1 Axes>"
      ]
     },
     "metadata": {
      "needs_background": "light"
     },
     "output_type": "display_data"
    }
   ],
   "source": [
    "plt.bar(d.x.cumsum(),d.y, width=d.x)"
   ]
  },
  {
   "cell_type": "code",
   "execution_count": 132,
   "metadata": {},
   "outputs": [
    {
     "data": {
      "text/plain": [
       "0     1\n",
       "1     2\n",
       "2     3\n",
       "3     5\n",
       "4     6\n",
       "5     8\n",
       "6     9\n",
       "7    11\n",
       "8    12\n",
       "9    14\n",
       "Name: x, dtype: int64"
      ]
     },
     "execution_count": 132,
     "metadata": {},
     "output_type": "execute_result"
    }
   ],
   "source": [
    "# This does not look right; there are gaps between the boxes.  And the first box starts at 0.5, not at 0.\n",
    "d.x.cumsum()"
   ]
  },
  {
   "cell_type": "code",
   "execution_count": null,
   "metadata": {},
   "outputs": [],
   "source": [
    "# I want my x's to start at zero.."
   ]
  },
  {
   "cell_type": "code",
   "execution_count": 135,
   "metadata": {},
   "outputs": [
    {
     "data": {
      "text/plain": [
       "0     0\n",
       "0     1\n",
       "1     2\n",
       "2     3\n",
       "3     5\n",
       "4     6\n",
       "5     8\n",
       "6     9\n",
       "7    11\n",
       "8    12\n",
       "Name: x, dtype: int64"
      ]
     },
     "execution_count": 135,
     "metadata": {},
     "output_type": "execute_result"
    }
   ],
   "source": [
    "# create a dataframe for the x offsets\n",
    "xoff  = pd.DataFrame({\"x\":[0], \"y\":[0]}).append([d]).x.cumsum()[:-1]\n",
    "xoff"
   ]
  },
  {
   "cell_type": "code",
   "execution_count": 136,
   "metadata": {},
   "outputs": [
    {
     "data": {
      "text/plain": [
       "<BarContainer object of 10 artists>"
      ]
     },
     "execution_count": 136,
     "metadata": {},
     "output_type": "execute_result"
    },
    {
     "data": {
      "image/png": "[encoded data removed]",
      "text/plain": [
       "<Figure size 432x288 with 1 Axes>"
      ]
     },
     "metadata": {
      "needs_background": "light"
     },
     "output_type": "display_data"
    }
   ],
   "source": [
    "plt.bar(xoff, d.y, width=d.x)"
   ]
  },
  {
   "cell_type": "code",
   "execution_count": null,
   "metadata": {},
   "outputs": [],
   "source": [
    "# This is still not right; the middle of the boxes is being aligned with the cumulative sum just below each box.\n",
    "# The fix for this is plt.bar align=\"edge\""
   ]
  },
  {
   "cell_type": "code",
   "execution_count": 137,
   "metadata": {},
   "outputs": [
    {
     "data": {
      "text/plain": [
       "<BarContainer object of 10 artists>"
      ]
     },
     "execution_count": 137,
     "metadata": {},
     "output_type": "execute_result"
    },
    {
     "data": {
      "image/png": "[encoded data removed]",
      "text/plain": [
       "<Figure size 432x288 with 1 Axes>"
      ]
     },
     "metadata": {
      "needs_background": "light"
     },
     "output_type": "display_data"
    }
   ],
   "source": [
    "plt.bar(xoff, d.y, width=d.x, align=\"edge\")"
   ]
  },
  {
   "cell_type": "code",
   "execution_count": null,
   "metadata": {},
   "outputs": [],
   "source": [
    "# so this is my recipe for packing boxes into the moving van:\n",
    "# prepend data with 0\n",
    "# take cumulative sum and chop off final value\n",
    "# set width = values and align = \"edge\"\n"
   ]
  },
  {
   "cell_type": "code",
   "execution_count": 139,
   "metadata": {},
   "outputs": [
    {
     "data": {
      "text/html": [
       "<div>\n",
       "<style scoped>\n",
       "    .dataframe tbody tr th:only-of-type {\n",
       "        vertical-align: middle;\n",
       "    }\n",
       "\n",
       "    .dataframe tbody tr th {\n",
       "        vertical-align: top;\n",
       "    }\n",
       "\n",
       "    .dataframe thead th {\n",
       "        text-align: right;\n",
       "    }\n",
       "</style>\n",
       "<table border=\"1\" class=\"dataframe\">\n",
       "  <thead>\n",
       "    <tr style=\"text-align: right;\">\n",
       "      <th></th>\n",
       "      <th>x</th>\n",
       "      <th>y</th>\n",
       "    </tr>\n",
       "  </thead>\n",
       "  <tbody>\n",
       "    <tr>\n",
       "      <th>0</th>\n",
       "      <td>1</td>\n",
       "      <td>1</td>\n",
       "    </tr>\n",
       "    <tr>\n",
       "      <th>1</th>\n",
       "      <td>1</td>\n",
       "      <td>1</td>\n",
       "    </tr>\n",
       "    <tr>\n",
       "      <th>2</th>\n",
       "      <td>1</td>\n",
       "      <td>1</td>\n",
       "    </tr>\n",
       "    <tr>\n",
       "      <th>3</th>\n",
       "      <td>2</td>\n",
       "      <td>2</td>\n",
       "    </tr>\n",
       "    <tr>\n",
       "      <th>4</th>\n",
       "      <td>1</td>\n",
       "      <td>1</td>\n",
       "    </tr>\n",
       "    <tr>\n",
       "      <th>5</th>\n",
       "      <td>2</td>\n",
       "      <td>2</td>\n",
       "    </tr>\n",
       "    <tr>\n",
       "      <th>6</th>\n",
       "      <td>1</td>\n",
       "      <td>4</td>\n",
       "    </tr>\n",
       "    <tr>\n",
       "      <th>7</th>\n",
       "      <td>2</td>\n",
       "      <td>3</td>\n",
       "    </tr>\n",
       "    <tr>\n",
       "      <th>8</th>\n",
       "      <td>1</td>\n",
       "      <td>4</td>\n",
       "    </tr>\n",
       "    <tr>\n",
       "      <th>9</th>\n",
       "      <td>2</td>\n",
       "      <td>3</td>\n",
       "    </tr>\n",
       "  </tbody>\n",
       "</table>\n",
       "</div>"
      ],
      "text/plain": [
       "   x  y\n",
       "0  1  1\n",
       "1  1  1\n",
       "2  1  1\n",
       "3  2  2\n",
       "4  1  1\n",
       "5  2  2\n",
       "6  1  4\n",
       "7  2  3\n",
       "8  1  4\n",
       "9  2  3"
      ]
     },
     "execution_count": 139,
     "metadata": {},
     "output_type": "execute_result"
    }
   ],
   "source": [
    "# There was a way to prepend the data with 0 with .shift()... it throws away the last data point.\n",
    "d"
   ]
  },
  {
   "cell_type": "code",
   "execution_count": 138,
   "metadata": {},
   "outputs": [
    {
     "data": {
      "text/html": [
       "<div>\n",
       "<style scoped>\n",
       "    .dataframe tbody tr th:only-of-type {\n",
       "        vertical-align: middle;\n",
       "    }\n",
       "\n",
       "    .dataframe tbody tr th {\n",
       "        vertical-align: top;\n",
       "    }\n",
       "\n",
       "    .dataframe thead th {\n",
       "        text-align: right;\n",
       "    }\n",
       "</style>\n",
       "<table border=\"1\" class=\"dataframe\">\n",
       "  <thead>\n",
       "    <tr style=\"text-align: right;\">\n",
       "      <th></th>\n",
       "      <th>x</th>\n",
       "      <th>y</th>\n",
       "    </tr>\n",
       "  </thead>\n",
       "  <tbody>\n",
       "    <tr>\n",
       "      <th>0</th>\n",
       "      <td>NaN</td>\n",
       "      <td>NaN</td>\n",
       "    </tr>\n",
       "    <tr>\n",
       "      <th>1</th>\n",
       "      <td>1.0</td>\n",
       "      <td>1.0</td>\n",
       "    </tr>\n",
       "    <tr>\n",
       "      <th>2</th>\n",
       "      <td>1.0</td>\n",
       "      <td>1.0</td>\n",
       "    </tr>\n",
       "    <tr>\n",
       "      <th>3</th>\n",
       "      <td>1.0</td>\n",
       "      <td>1.0</td>\n",
       "    </tr>\n",
       "    <tr>\n",
       "      <th>4</th>\n",
       "      <td>2.0</td>\n",
       "      <td>2.0</td>\n",
       "    </tr>\n",
       "    <tr>\n",
       "      <th>5</th>\n",
       "      <td>1.0</td>\n",
       "      <td>1.0</td>\n",
       "    </tr>\n",
       "    <tr>\n",
       "      <th>6</th>\n",
       "      <td>2.0</td>\n",
       "      <td>2.0</td>\n",
       "    </tr>\n",
       "    <tr>\n",
       "      <th>7</th>\n",
       "      <td>1.0</td>\n",
       "      <td>4.0</td>\n",
       "    </tr>\n",
       "    <tr>\n",
       "      <th>8</th>\n",
       "      <td>2.0</td>\n",
       "      <td>3.0</td>\n",
       "    </tr>\n",
       "    <tr>\n",
       "      <th>9</th>\n",
       "      <td>1.0</td>\n",
       "      <td>4.0</td>\n",
       "    </tr>\n",
       "  </tbody>\n",
       "</table>\n",
       "</div>"
      ],
      "text/plain": [
       "     x    y\n",
       "0  NaN  NaN\n",
       "1  1.0  1.0\n",
       "2  1.0  1.0\n",
       "3  1.0  1.0\n",
       "4  2.0  2.0\n",
       "5  1.0  1.0\n",
       "6  2.0  2.0\n",
       "7  1.0  4.0\n",
       "8  2.0  3.0\n",
       "9  1.0  4.0"
      ]
     },
     "execution_count": 138,
     "metadata": {},
     "output_type": "execute_result"
    }
   ],
   "source": [
    "d.shift(1)"
   ]
  },
  {
   "cell_type": "code",
   "execution_count": 140,
   "metadata": {},
   "outputs": [
    {
     "data": {
      "text/html": [
       "<div>\n",
       "<style scoped>\n",
       "    .dataframe tbody tr th:only-of-type {\n",
       "        vertical-align: middle;\n",
       "    }\n",
       "\n",
       "    .dataframe tbody tr th {\n",
       "        vertical-align: top;\n",
       "    }\n",
       "\n",
       "    .dataframe thead th {\n",
       "        text-align: right;\n",
       "    }\n",
       "</style>\n",
       "<table border=\"1\" class=\"dataframe\">\n",
       "  <thead>\n",
       "    <tr style=\"text-align: right;\">\n",
       "      <th></th>\n",
       "      <th>x</th>\n",
       "      <th>y</th>\n",
       "    </tr>\n",
       "  </thead>\n",
       "  <tbody>\n",
       "    <tr>\n",
       "      <th>0</th>\n",
       "      <td>0</td>\n",
       "      <td>0</td>\n",
       "    </tr>\n",
       "    <tr>\n",
       "      <th>1</th>\n",
       "      <td>1</td>\n",
       "      <td>1</td>\n",
       "    </tr>\n",
       "    <tr>\n",
       "      <th>2</th>\n",
       "      <td>1</td>\n",
       "      <td>1</td>\n",
       "    </tr>\n",
       "    <tr>\n",
       "      <th>3</th>\n",
       "      <td>1</td>\n",
       "      <td>1</td>\n",
       "    </tr>\n",
       "    <tr>\n",
       "      <th>4</th>\n",
       "      <td>2</td>\n",
       "      <td>2</td>\n",
       "    </tr>\n",
       "    <tr>\n",
       "      <th>5</th>\n",
       "      <td>1</td>\n",
       "      <td>1</td>\n",
       "    </tr>\n",
       "    <tr>\n",
       "      <th>6</th>\n",
       "      <td>2</td>\n",
       "      <td>2</td>\n",
       "    </tr>\n",
       "    <tr>\n",
       "      <th>7</th>\n",
       "      <td>1</td>\n",
       "      <td>4</td>\n",
       "    </tr>\n",
       "    <tr>\n",
       "      <th>8</th>\n",
       "      <td>2</td>\n",
       "      <td>3</td>\n",
       "    </tr>\n",
       "    <tr>\n",
       "      <th>9</th>\n",
       "      <td>1</td>\n",
       "      <td>4</td>\n",
       "    </tr>\n",
       "  </tbody>\n",
       "</table>\n",
       "</div>"
      ],
      "text/plain": [
       "   x  y\n",
       "0  0  0\n",
       "1  1  1\n",
       "2  1  1\n",
       "3  1  1\n",
       "4  2  2\n",
       "5  1  1\n",
       "6  2  2\n",
       "7  1  4\n",
       "8  2  3\n",
       "9  1  4"
      ]
     },
     "execution_count": 140,
     "metadata": {},
     "output_type": "execute_result"
    }
   ],
   "source": [
    "d.shift(1,fill_value=0)"
   ]
  },
  {
   "cell_type": "code",
   "execution_count": null,
   "metadata": {},
   "outputs": [],
   "source": [
    "# Well that seems to do it."
   ]
  },
  {
   "cell_type": "code",
   "execution_count": 141,
   "metadata": {},
   "outputs": [
    {
     "data": {
      "text/plain": [
       "Text(0.5, 0, 'US population affected (millions)')"
      ]
     },
     "execution_count": 141,
     "metadata": {},
     "output_type": "execute_result"
    },
    {
     "data": {
      "image/png": "[encoded data removed]",
      "text/plain": [
       "<Figure size 432x288 with 1 Axes>"
      ]
     },
     "metadata": {
      "needs_background": "light"
     },
     "output_type": "display_data"
    }
   ],
   "source": [
    "cumpopoffset = feb.sort_values(\"population\").population.shift(1, fill_value=0).cumsum()\n",
    "plt.bar(cumpopoffset/1E6, feb.sort_values(\"population\").percapitadeaths, width=feb.sort_values(\"population\").population/1E6, align=\"edge\")\n",
    "plt.ylabel(\"per capita death rate\")\n",
    "plt.xlabel(\"US population affected (millions)\")"
   ]
  },
  {
   "cell_type": "code",
   "execution_count": 142,
   "metadata": {},
   "outputs": [
    {
     "data": {
      "text/plain": [
       "Text(0.5, 0, 'US population affected (millions)')"
      ]
     },
     "execution_count": 142,
     "metadata": {},
     "output_type": "execute_result"
    },
    {
     "data": {
      "image/png": "[encoded data removed]",
      "text/plain": [
       "<Figure size 432x288 with 1 Axes>"
      ]
     },
     "metadata": {
      "needs_background": "light"
     },
     "output_type": "display_data"
    }
   ],
   "source": [
    "cumdeathoffset = feb.sort_values(\"deaths\").population.shift(1, fill_value=0).cumsum()\n",
    "plt.bar(cumdeathoffset/1E6, feb.sort_values(\"deaths\").percapitadeaths, width=feb.sort_values(\"deaths\").population/1E6, align=\"edge\")\n",
    "plt.ylabel(\"per capita death rate\")\n",
    "plt.xlabel(\"US population affected (millions)\")"
   ]
  },
  {
   "cell_type": "code",
   "execution_count": 143,
   "metadata": {},
   "outputs": [
    {
     "data": {
      "text/plain": [
       "Text(0.5, 0, 'US population affected (millions)')"
      ]
     },
     "execution_count": 143,
     "metadata": {},
     "output_type": "execute_result"
    },
    {
     "data": {
      "image/png": "[encoded data removed]",
      "text/plain": [
       "<Figure size 432x288 with 1 Axes>"
      ]
     },
     "metadata": {
      "needs_background": "light"
     },
     "output_type": "display_data"
    }
   ],
   "source": [
    "cumpcoffset = feb.sort_values(\"percapitadeaths\").population.shift(1, fill_value=0).cumsum()\n",
    "plt.bar(cumpcoffset/1E6, feb.sort_values(\"percapitadeaths\").percapitadeaths, width=feb.sort_values(\"percapitadeaths\").population/1E6, align=\"edge\")\n",
    "plt.ylabel(\"per capita death rate\")\n",
    "plt.xlabel(\"US population affected (millions)\")"
   ]
  },
  {
   "cell_type": "code",
   "execution_count": null,
   "metadata": {},
   "outputs": [],
   "source": [
    "# And I show you this lovely S-shape as a warning, that when you see it, you \n",
    "# might remember that it represents random data that has been sorted, and that it\n",
    "# represents lies."
   ]
  },
  {
   "cell_type": "code",
   "execution_count": null,
   "metadata": {},
   "outputs": [],
   "source": [
    "feb.head()"
   ]
  },
  {
   "cell_type": "code",
   "execution_count": null,
   "metadata": {},
   "outputs": [],
   "source": [
    "(feb.deaths == 0 ).sum()"
   ]
  },
  {
   "cell_type": "code",
   "execution_count": null,
   "metadata": {},
   "outputs": [],
   "source": [
    "(feb.deaths == 1 ).sum()"
   ]
  }
 ],
 "metadata": {
  "kernelspec": {
   "display_name": "Python 3",
   "language": "python",
   "name": "python3"
  },
  "language_info": {
   "codemirror_mode": {
    "name": "ipython",
    "version": 3
   },
   "file_extension": ".py",
   "mimetype": "text/x-python",
   "name": "python",
   "nbconvert_exporter": "python",
   "pygments_lexer": "ipython3",
   "version": "3.8.2"
  }
 },
 "nbformat": 4,
 "nbformat_minor": 4
}
