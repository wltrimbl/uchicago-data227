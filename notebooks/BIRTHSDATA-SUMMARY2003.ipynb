{
 "cells": [
  {
   "cell_type": "code",
   "execution_count": 1,
   "metadata": {
    "tags": []
   },
   "outputs": [],
   "source": [
    "import pandas as pd\n",
    "import matplotlib.pyplot as plt\n",
    "import numpy as np"
   ]
  },
  {
   "cell_type": "code",
   "execution_count": 2,
   "metadata": {
    "tags": []
   },
   "outputs": [],
   "source": [
    "def parse_natality(natalitydata, datadictionary):\n",
    "    '''Take in pandas dataframe natalitydata and list-of-lists datadictionary\n",
    "    (for example [[43, 44, \"MATERNALAGE\"]] ) and return a pandas dataframe (same \n",
    "    number of rows) with labeled columns  '''\n",
    "    df = pd.DataFrame()\n",
    "    for start, stop, column_name in datadictionary:\n",
    "        # Get the first column (start)\n",
    "        df[column_name] = natalitydata[0].str.get(start-1)\n",
    "        # Get the remaining columns\n",
    "        for i in range(1, stop-start + 1):\n",
    "            df[column_name]=  df[column_name].str.cat(natalitydata[0].str.get(start-1+i))\n",
    "    for start, stop, column_name in datadictionary:\n",
    "        try:\n",
    "            df[column_name] = pd.to_numeric(df[column_name])\n",
    "        except ValueError:\n",
    "            pass\n",
    "    return df"
   ]
  },
  {
   "cell_type": "code",
   "execution_count": 3,
   "metadata": {
    "tags": []
   },
   "outputs": [],
   "source": [
    "# https://www.cdc.gov/nchs/data_access/vitalstatsonline.htm \n",
    "# This notebook uses Nat2003us.dat, the 2003 data file for the US,\n",
    "# https://ftp.cdc.gov/pub/Health_Statistics/NCHS/Datasets/DVS/natality/\n",
    "\n",
    "# Read just the first thousand lines of the 4M line dataset into a pandas frame \n",
    "n2003s = pd.read_csv(\"~/Downloads/birth/Nat03us.dat\", header=None, nrows=1000)"
   ]
  },
  {
   "cell_type": "code",
   "execution_count": 4,
   "metadata": {
    "tags": []
   },
   "outputs": [
    {
     "data": {
      "text/plain": [
       "[[138, 138, 'RESIDENTSTATUS'],\n",
       " [30, 31, 'STATEOFRESIDENCE'],\n",
       " [133, 133, 'POPULATIONSIZECITY'],\n",
       " [436, 436, 'SEX'],\n",
       " [408, 408, 'ATTENDANTTYPE'],\n",
       " [42, 42, 'PLACE'],\n",
       " [395, 395, 'METHOD'],\n",
       " [290, 290, 'TOBACCOUSE'],\n",
       " [141, 142, 'RACEOFMOTHER'],\n",
       " [77, 78, 'MATERNALAGE'],\n",
       " [176, 177, 'PATERNALAGE'],\n",
       " [463, 466, 'WEIGHTGRAMS'],\n",
       " [29, 29, 'DAYOFWEEK'],\n",
       " [19, 20, 'BIRTH'],\n",
       " [155, 155, 'MEDUC'],\n",
       " [153, 153, 'MARRIED'],\n",
       " [141, 142, 'MRACE']]"
      ]
     },
     "execution_count": 4,
     "metadata": {},
     "output_type": "execute_result"
    }
   ],
   "source": [
    "# Load in a file of three columns into a list of lists, the first two elements of which are integers.\n",
    "# This is our table of column positions and column names\n",
    "key2003 = []\n",
    "for line in open(\"KEY2003.txt\"):\n",
    "    fields = line.strip().split()\n",
    "    key2003.append([int(fields[0]), int(fields[1]), fields[2]])\n",
    "key2003\n"
   ]
  },
  {
   "cell_type": "code",
   "execution_count": null,
   "metadata": {},
   "outputs": [],
   "source": []
  },
  {
   "cell_type": "code",
   "execution_count": 5,
   "metadata": {
    "tags": []
   },
   "outputs": [
    {
     "data": {
      "text/plain": [
       "3093"
      ]
     },
     "execution_count": 5,
     "metadata": {},
     "output_type": "execute_result"
    }
   ],
   "source": [
    "df = parse_natality(n2003s, key2003)\n",
    "df.WEIGHTGRAMS[0]"
   ]
  },
  {
   "cell_type": "code",
   "execution_count": null,
   "metadata": {},
   "outputs": [],
   "source": []
  },
  {
   "cell_type": "code",
   "execution_count": 6,
   "metadata": {},
   "outputs": [
    {
     "data": {
      "text/plain": [
       "(array([  9.,  31., 391., 530.,  38.,   0.,   0.,   0.,   0.,   1.]),\n",
       " array([ 510. , 1458.9, 2407.8, 3356.7, 4305.6, 5254.5, 6203.4, 7152.3,\n",
       "        8101.2, 9050.1, 9999. ]),\n",
       " <BarContainer object of 10 artists>)"
      ]
     },
     "execution_count": 6,
     "metadata": {},
     "output_type": "execute_result"
    },
    {
     "data": {
      "image/png": "[encoded data removed]",
      "text/plain": [
       "<Figure size 432x288 with 1 Axes>"
      ]
     },
     "metadata": {
      "needs_background": "light"
     },
     "output_type": "display_data"
    }
   ],
   "source": [
    "plt.hist((df.WEIGHTGRAMS))"
   ]
  },
  {
   "cell_type": "code",
   "execution_count": 7,
   "metadata": {
    "tags": []
   },
   "outputs": [
    {
     "data": {
      "text/plain": [
       "1    775\n",
       "2    219\n",
       "9      5\n",
       "8      1\n",
       "Name: METHOD, dtype: int64"
      ]
     },
     "execution_count": 7,
     "metadata": {},
     "output_type": "execute_result"
    }
   ],
   "source": [
    "df[\"METHOD\"].value_counts()"
   ]
  },
  {
   "cell_type": "code",
   "execution_count": 8,
   "metadata": {
    "tags": []
   },
   "outputs": [
    {
     "data": {
      "text/plain": [
       "99    1000\n",
       "Name: MATERNALAGE, dtype: int64"
      ]
     },
     "execution_count": 8,
     "metadata": {},
     "output_type": "execute_result"
    }
   ],
   "source": [
    "df[\"MATERNALAGE\"].value_counts()"
   ]
  },
  {
   "cell_type": "code",
   "execution_count": 9,
   "metadata": {},
   "outputs": [
    {
     "data": {
      "text/plain": [
       "(4096092, 1)"
      ]
     },
     "execution_count": 9,
     "metadata": {},
     "output_type": "execute_result"
    }
   ],
   "source": [
    "n2003 = pd.read_csv(\"~/Downloads/birth/Nat03us.dat\", header=None)\n",
    "n2003.shape"
   ]
  },
  {
   "cell_type": "code",
   "execution_count": 10,
   "metadata": {
    "tags": []
   },
   "outputs": [],
   "source": [
    "bigdf = parse_natality(n2003, key2003)"
   ]
  },
  {
   "cell_type": "code",
   "execution_count": 11,
   "metadata": {
    "tags": []
   },
   "outputs": [
    {
     "data": {
      "text/plain": [
       "(4096092, 17)"
      ]
     },
     "execution_count": 11,
     "metadata": {},
     "output_type": "execute_result"
    }
   ],
   "source": [
    "bigdf.shape"
   ]
  },
  {
   "cell_type": "code",
   "execution_count": 12,
   "metadata": {
    "tags": []
   },
   "outputs": [
    {
     "data": {
      "text/plain": [
       "<AxesSubplot:>"
      ]
     },
     "execution_count": 12,
     "metadata": {},
     "output_type": "execute_result"
    },
    {
     "data": {
      "image/png": "[encoded data removed]",
      "text/plain": [
       "<Figure size 432x288 with 1 Axes>"
      ]
     },
     "metadata": {
      "needs_background": "light"
     },
     "output_type": "display_data"
    }
   ],
   "source": [
    "bigdf.WEIGHTGRAMS.hist()"
   ]
  },
  {
   "cell_type": "code",
   "execution_count": 13,
   "metadata": {
    "tags": []
   },
   "outputs": [
    {
     "data": {
      "text/plain": [
       "[<matplotlib.lines.Line2D at 0x7fefd4523370>]"
      ]
     },
     "execution_count": 13,
     "metadata": {},
     "output_type": "execute_result"
    },
    {
     "data": {
      "image/png": "[encoded data removed]",
      "text/plain": [
       "<Figure size 432x288 with 1 Axes>"
      ]
     },
     "metadata": {
      "needs_background": "light"
     },
     "output_type": "display_data"
    }
   ],
   "source": [
    "plt.plot(np.sort(bigdf.WEIGHTGRAMS))\n"
   ]
  },
  {
   "cell_type": "code",
   "execution_count": 14,
   "metadata": {
    "tags": []
   },
   "outputs": [
    {
     "data": {
      "text/plain": [
       "9011"
      ]
     },
     "execution_count": 14,
     "metadata": {},
     "output_type": "execute_result"
    }
   ],
   "source": [
    "(bigdf.WEIGHTGRAMS > 5000).sum()"
   ]
  },
  {
   "cell_type": "code",
   "execution_count": 15,
   "metadata": {
    "tags": []
   },
   "outputs": [
    {
     "data": {
      "text/plain": [
       "(array([4.735e+03, 5.210e+02, 1.060e+02, 1.700e+01, 1.200e+01, 4.000e+00,\n",
       "        3.000e+00, 0.000e+00, 0.000e+00, 3.613e+03]),\n",
       " array([5002. , 5501.7, 6001.4, 6501.1, 7000.8, 7500.5, 8000.2, 8499.9,\n",
       "        8999.6, 9499.3, 9999. ]),\n",
       " <BarContainer object of 10 artists>)"
      ]
     },
     "execution_count": 15,
     "metadata": {},
     "output_type": "execute_result"
    },
    {
     "data": {
      "image/png": "[encoded data removed]",
      "text/plain": [
       "<Figure size 432x288 with 1 Axes>"
      ]
     },
     "metadata": {
      "needs_background": "light"
     },
     "output_type": "display_data"
    }
   ],
   "source": [
    "plt.hist(bigdf.iloc[np.where(bigdf.WEIGHTGRAMS > 5000)].WEIGHTGRAMS)"
   ]
  },
  {
   "cell_type": "code",
   "execution_count": 16,
   "metadata": {
    "tags": []
   },
   "outputs": [
    {
     "name": "stdout",
     "output_type": "stream",
     "text": [
      "(4096092, 17)\n"
     ]
    },
    {
     "name": "stderr",
     "output_type": "stream",
     "text": [
      "/var/folders/mx/y31t86kn4_xbvbmf4k8f7xd00000gp/T/ipykernel_25535/2757604990.py:4: SettingWithCopyWarning: \n",
      "A value is trying to be set on a copy of a slice from a DataFrame\n",
      "\n",
      "See the caveats in the documentation: https://pandas.pydata.org/pandas-docs/stable/user_guide/indexing.html#returning-a-view-versus-a-copy\n",
      "  bigdf.WEIGHTGRAMS.loc[bigdf.WEIGHTGRAMS == 9999] = np.nan\n"
     ]
    },
    {
     "name": "stdout",
     "output_type": "stream",
     "text": [
      "(4092479, 17)\n"
     ]
    }
   ],
   "source": [
    "# Oh, that's not mis-coded weight in pounds, that's the missing-data indicator.\n",
    "# Great.  Let's drop those rows.\n",
    "print(bigdf.shape)\n",
    "bigdf.WEIGHTGRAMS.loc[bigdf.WEIGHTGRAMS == 9999] = np.nan\n",
    "bigdf.dropna(subset=\"WEIGHTGRAMS\", inplace=True)\n",
    "print(bigdf.shape)\n"
   ]
  },
  {
   "cell_type": "code",
   "execution_count": 17,
   "metadata": {},
   "outputs": [
    {
     "data": {
      "text/plain": [
       "(4092479, 17)"
      ]
     },
     "execution_count": 17,
     "metadata": {},
     "output_type": "execute_result"
    }
   ],
   "source": [
    "bigdf.shape"
   ]
  },
  {
   "cell_type": "code",
   "execution_count": 69,
   "metadata": {
    "tags": []
   },
   "outputs": [
    {
     "data": {
      "text/plain": [
       "Text(0.5, 0, 'Birth weight (grams)')"
      ]
     },
     "execution_count": 69,
     "metadata": {},
     "output_type": "execute_result"
    },
    {
     "data": {
      "image/png": "[encoded data removed]",
      "text/plain": [
       "<Figure size 432x288 with 1 Axes>"
      ]
     },
     "metadata": {
      "needs_background": "light"
     },
     "output_type": "display_data"
    }
   ],
   "source": [
    "plt.hist(bigdf.iloc[np.where(bigdf.WEIGHTGRAMS > 5000)].WEIGHTGRAMS)\n",
    "plt.xlabel(\"Birth weight (grams)\")\n"
   ]
  },
  {
   "cell_type": "code",
   "execution_count": 19,
   "metadata": {
    "tags": []
   },
   "outputs": [
    {
     "data": {
      "text/plain": [
       "SEX  DAYOFWEEK  METHOD\n",
       "F    1          1         154874\n",
       "                2          35889\n",
       "                8            336\n",
       "                9            522\n",
       "     2          1         211720\n",
       "                2          85345\n",
       "                8            434\n",
       "                9           1442\n",
       "     3          1         235146\n",
       "                2          92995\n",
       "                8            499\n",
       "                9           1707\n",
       "     4          1         233006\n",
       "                2          90610\n",
       "                8            465\n",
       "                9           1614\n",
       "     5          1         227927\n",
       "                2          88279\n",
       "                8            446\n",
       "                9           1541\n",
       "     6          1         221338\n",
       "                2          91582\n",
       "                8            416\n",
       "                9           1618\n",
       "     7          1         173599\n",
       "                2          43312\n",
       "                8            369\n",
       "                9            676\n",
       "M    1          1         158718\n",
       "                2          42202\n",
       "                8            343\n",
       "                9            677\n",
       "     2          1         215380\n",
       "                2          93868\n",
       "                8            467\n",
       "                9           1893\n",
       "     3          1         240042\n",
       "                2         103654\n",
       "                8            525\n",
       "                9           1957\n",
       "     4          1         239034\n",
       "                2         100884\n",
       "                8            503\n",
       "                9           1981\n",
       "     5          1         232688\n",
       "                2          97879\n",
       "                8            473\n",
       "                9           1905\n",
       "     6          1         225960\n",
       "                2         101512\n",
       "                8            465\n",
       "                9           1976\n",
       "     7          1         177847\n",
       "                2          50647\n",
       "                8            388\n",
       "                9            904\n",
       "Name: MATERNALAGE, dtype: int64"
      ]
     },
     "execution_count": 19,
     "metadata": {},
     "output_type": "execute_result"
    }
   ],
   "source": [
    "bigdf.groupby([\"SEX\", \"DAYOFWEEK\", \"METHOD\"]).MATERNALAGE.count()"
   ]
  },
  {
   "cell_type": "markdown",
   "metadata": {},
   "source": [
    "I should look into this \"METHOD\" data dictionary...\n",
    "\n",
    "    1  No Caesarian (Vaginal delivery)\n",
    "    2  Caesarian delivery\n",
    "    8  Not on certificate\n",
    "    9  Unknown (but somehow different from 8)"
   ]
  },
  {
   "cell_type": "code",
   "execution_count": 20,
   "metadata": {
    "tags": []
   },
   "outputs": [
    {
     "data": {
      "text/html": [
       "<div>\n",
       "<style scoped>\n",
       "    .dataframe tbody tr th:only-of-type {\n",
       "        vertical-align: middle;\n",
       "    }\n",
       "\n",
       "    .dataframe tbody tr th {\n",
       "        vertical-align: top;\n",
       "    }\n",
       "\n",
       "    .dataframe thead th {\n",
       "        text-align: right;\n",
       "    }\n",
       "</style>\n",
       "<table border=\"1\" class=\"dataframe\">\n",
       "  <thead>\n",
       "    <tr style=\"text-align: right;\">\n",
       "      <th>METHOD</th>\n",
       "      <th>1</th>\n",
       "      <th>2</th>\n",
       "      <th>8</th>\n",
       "      <th>9</th>\n",
       "    </tr>\n",
       "    <tr>\n",
       "      <th>DAYOFWEEK</th>\n",
       "      <th></th>\n",
       "      <th></th>\n",
       "      <th></th>\n",
       "      <th></th>\n",
       "    </tr>\n",
       "  </thead>\n",
       "  <tbody>\n",
       "    <tr>\n",
       "      <th>1</th>\n",
       "      <td>313592</td>\n",
       "      <td>78091</td>\n",
       "      <td>679</td>\n",
       "      <td>1199</td>\n",
       "    </tr>\n",
       "    <tr>\n",
       "      <th>2</th>\n",
       "      <td>427100</td>\n",
       "      <td>179213</td>\n",
       "      <td>901</td>\n",
       "      <td>3335</td>\n",
       "    </tr>\n",
       "    <tr>\n",
       "      <th>3</th>\n",
       "      <td>475188</td>\n",
       "      <td>196649</td>\n",
       "      <td>1024</td>\n",
       "      <td>3664</td>\n",
       "    </tr>\n",
       "    <tr>\n",
       "      <th>4</th>\n",
       "      <td>472040</td>\n",
       "      <td>191494</td>\n",
       "      <td>968</td>\n",
       "      <td>3595</td>\n",
       "    </tr>\n",
       "    <tr>\n",
       "      <th>5</th>\n",
       "      <td>460615</td>\n",
       "      <td>186158</td>\n",
       "      <td>919</td>\n",
       "      <td>3446</td>\n",
       "    </tr>\n",
       "    <tr>\n",
       "      <th>6</th>\n",
       "      <td>447298</td>\n",
       "      <td>193094</td>\n",
       "      <td>881</td>\n",
       "      <td>3594</td>\n",
       "    </tr>\n",
       "    <tr>\n",
       "      <th>7</th>\n",
       "      <td>351446</td>\n",
       "      <td>93959</td>\n",
       "      <td>757</td>\n",
       "      <td>1580</td>\n",
       "    </tr>\n",
       "  </tbody>\n",
       "</table>\n",
       "</div>"
      ],
      "text/plain": [
       "METHOD          1       2     8     9\n",
       "DAYOFWEEK                            \n",
       "1          313592   78091   679  1199\n",
       "2          427100  179213   901  3335\n",
       "3          475188  196649  1024  3664\n",
       "4          472040  191494   968  3595\n",
       "5          460615  186158   919  3446\n",
       "6          447298  193094   881  3594\n",
       "7          351446   93959   757  1580"
      ]
     },
     "execution_count": 20,
     "metadata": {},
     "output_type": "execute_result"
    }
   ],
   "source": [
    "dow_method = bigdf.groupby([\"DAYOFWEEK\", \"METHOD\"]).MATERNALAGE.count()\n",
    "dow_method.unstack()"
   ]
  },
  {
   "cell_type": "code",
   "execution_count": 21,
   "metadata": {
    "tags": []
   },
   "outputs": [
    {
     "data": {
      "text/plain": [
       "SEX  METHOD\n",
       "F    1         1457610\n",
       "     2          528012\n",
       "     8            2965\n",
       "     9            9120\n",
       "M    1         1489669\n",
       "     2          590646\n",
       "     8            3164\n",
       "     9           11293\n",
       "Name: MATERNALAGE, dtype: int64"
      ]
     },
     "execution_count": 21,
     "metadata": {},
     "output_type": "execute_result"
    }
   ],
   "source": [
    "sex_method = bigdf.groupby([\"SEX\", \"METHOD\"]).MATERNALAGE.count()\n",
    "sex_method"
   ]
  },
  {
   "cell_type": "code",
   "execution_count": 22,
   "metadata": {
    "tags": []
   },
   "outputs": [
    {
     "data": {
      "text/plain": [
       "SEX\n",
       "F    1997707\n",
       "M    2094772\n",
       "Name: MATERNALAGE, dtype: int64"
      ]
     },
     "execution_count": 22,
     "metadata": {},
     "output_type": "execute_result"
    }
   ],
   "source": [
    "sex_method.groupby(\"SEX\").sum()"
   ]
  },
  {
   "cell_type": "code",
   "execution_count": 23,
   "metadata": {
    "tags": []
   },
   "outputs": [
    {
     "data": {
      "text/plain": [
       "(0.26430903030324265, 0.2819619509903703, 0.27334483573403795)"
      ]
     },
     "execution_count": 23,
     "metadata": {},
     "output_type": "execute_result"
    }
   ],
   "source": [
    "F_caesar = 528012 / 1997707\n",
    "M_caesar = 590646 / 2094772\n",
    "T_caesar = (590646 + 528012) / (1997707+ 2094772)\n",
    "F_caesar, M_caesar, T_caesar\n"
   ]
  },
  {
   "cell_type": "markdown",
   "metadata": {
    "jupyter": {
     "outputs_hidden": true
    }
   },
   "source": [
    "Completely reasonable question:  Is this difference meaningful?\n",
    "\n",
    "    Null hypothesis: assume rate, check observed against sampling dist w/assumption\n",
    "    Bootstrap: draw repeated samples of the same size\n",
    "    Bayesian inference: assign probability distribution to the paramter of interest.\n",
    "   \n",
    "No reason we can't demonstrate with all three, though bootstrapping with samples of size 4M is not going to be fun."
   ]
  },
  {
   "cell_type": "code",
   "execution_count": 24,
   "metadata": {
    "tags": []
   },
   "outputs": [],
   "source": [
    "from scipy.stats import binom\n",
    "nulldistM = binom.rvs( n = 2094772, p = T_caesar, size=10000)"
   ]
  },
  {
   "cell_type": "code",
   "execution_count": 70,
   "metadata": {
    "tags": []
   },
   "outputs": [
    {
     "data": {
      "text/plain": [
       "Text(0, 0.5, 'Number of simulations')"
      ]
     },
     "execution_count": 70,
     "metadata": {},
     "output_type": "execute_result"
    },
    {
     "data": {
      "image/png": "[encoded data removed]",
      "text/plain": [
       "<Figure size 432x288 with 1 Axes>"
      ]
     },
     "metadata": {
      "needs_background": "light"
     },
     "output_type": "display_data"
    }
   ],
   "source": [
    "plt.hist(nulldistM/1000, bins=100)\n",
    "plt.scatter(  590646/1000,0, color=\"red\")\n",
    "plt.xlabel(\"Number of Caesarian births (thousands) (out of 2.09M)\") \n",
    "plt.ylabel(\"Number of simulations\")"
   ]
  },
  {
   "cell_type": "code",
   "execution_count": 26,
   "metadata": {
    "tags": []
   },
   "outputs": [
    {
     "data": {
      "text/plain": [
       "1.0"
      ]
     },
     "execution_count": 26,
     "metadata": {},
     "output_type": "execute_result"
    }
   ],
   "source": [
    "# the scipy.stats.binom object has methods for CDF and 1-CDF: \n",
    "prob_lessthan = binom.cdf( n = 2094772, p = T_caesar, k=590646)\n",
    "prob_lessthan"
   ]
  },
  {
   "cell_type": "code",
   "execution_count": 27,
   "metadata": {
    "tags": []
   },
   "outputs": [
    {
     "data": {
      "text/plain": [
       "1.541845058425729e-171"
      ]
     },
     "execution_count": 27,
     "metadata": {},
     "output_type": "execute_result"
    }
   ],
   "source": [
    "# Well that doesn't help much.   SF = 1-CDF but is calculated differently\n",
    "prob_moreextreme = binom.sf( n = 2094772, p = T_caesar, k=590646)\n",
    "prob_moreextreme"
   ]
  },
  {
   "cell_type": "code",
   "execution_count": 28,
   "metadata": {},
   "outputs": [],
   "source": [
    "# Take that, strawman null hypothesis. "
   ]
  },
  {
   "cell_type": "code",
   "execution_count": 29,
   "metadata": {
    "tags": []
   },
   "outputs": [
    {
     "data": {
      "text/plain": [
       "0.01765292068712765"
      ]
     },
     "execution_count": 29,
     "metadata": {},
     "output_type": "execute_result"
    }
   ],
   "source": [
    "       \n",
    "0.2819619509903703 - 0.26430903030324265 "
   ]
  },
  {
   "cell_type": "code",
   "execution_count": 30,
   "metadata": {},
   "outputs": [],
   "source": [
    "# So boys have a higher rate of Caesarian deliveries than girls, \n",
    "# by 0.281962- 0.264309 or 1.8%. "
   ]
  },
  {
   "cell_type": "code",
   "execution_count": 31,
   "metadata": {
    "tags": []
   },
   "outputs": [
    {
     "data": {
      "text/html": [
       "<div>\n",
       "<style scoped>\n",
       "    .dataframe tbody tr th:only-of-type {\n",
       "        vertical-align: middle;\n",
       "    }\n",
       "\n",
       "    .dataframe tbody tr th {\n",
       "        vertical-align: top;\n",
       "    }\n",
       "\n",
       "    .dataframe thead th {\n",
       "        text-align: right;\n",
       "    }\n",
       "</style>\n",
       "<table border=\"1\" class=\"dataframe\">\n",
       "  <thead>\n",
       "    <tr style=\"text-align: right;\">\n",
       "      <th></th>\n",
       "      <th>METHOD</th>\n",
       "      <th>1</th>\n",
       "      <th>2</th>\n",
       "      <th>8</th>\n",
       "      <th>9</th>\n",
       "    </tr>\n",
       "    <tr>\n",
       "      <th>STATEOFRESIDENCE</th>\n",
       "      <th>SEX</th>\n",
       "      <th></th>\n",
       "      <th></th>\n",
       "      <th></th>\n",
       "      <th></th>\n",
       "    </tr>\n",
       "  </thead>\n",
       "  <tbody>\n",
       "    <tr>\n",
       "      <th rowspan=\"2\" valign=\"top\">AK</th>\n",
       "      <th>F</th>\n",
       "      <td>3816.0</td>\n",
       "      <td>1000.0</td>\n",
       "      <td>1.0</td>\n",
       "      <td>9.0</td>\n",
       "    </tr>\n",
       "    <tr>\n",
       "      <th>M</th>\n",
       "      <td>4010.0</td>\n",
       "      <td>1116.0</td>\n",
       "      <td>3.0</td>\n",
       "      <td>12.0</td>\n",
       "    </tr>\n",
       "    <tr>\n",
       "      <th rowspan=\"2\" valign=\"top\">AL</th>\n",
       "      <th>F</th>\n",
       "      <td>20309.0</td>\n",
       "      <td>8046.0</td>\n",
       "      <td>NaN</td>\n",
       "      <td>164.0</td>\n",
       "    </tr>\n",
       "    <tr>\n",
       "      <th>M</th>\n",
       "      <td>20484.0</td>\n",
       "      <td>9173.0</td>\n",
       "      <td>NaN</td>\n",
       "      <td>196.0</td>\n",
       "    </tr>\n",
       "    <tr>\n",
       "      <th>AR</th>\n",
       "      <th>F</th>\n",
       "      <td>12855.0</td>\n",
       "      <td>5125.0</td>\n",
       "      <td>2.0</td>\n",
       "      <td>48.0</td>\n",
       "    </tr>\n",
       "    <tr>\n",
       "      <th>...</th>\n",
       "      <th>...</th>\n",
       "      <td>...</td>\n",
       "      <td>...</td>\n",
       "      <td>...</td>\n",
       "      <td>...</td>\n",
       "    </tr>\n",
       "    <tr>\n",
       "      <th>WI</th>\n",
       "      <th>M</th>\n",
       "      <td>27222.0</td>\n",
       "      <td>7876.0</td>\n",
       "      <td>5.0</td>\n",
       "      <td>2.0</td>\n",
       "    </tr>\n",
       "    <tr>\n",
       "      <th rowspan=\"2\" valign=\"top\">WV</th>\n",
       "      <th>F</th>\n",
       "      <td>7171.0</td>\n",
       "      <td>3167.0</td>\n",
       "      <td>2.0</td>\n",
       "      <td>34.0</td>\n",
       "    </tr>\n",
       "    <tr>\n",
       "      <th>M</th>\n",
       "      <td>7471.0</td>\n",
       "      <td>3571.0</td>\n",
       "      <td>1.0</td>\n",
       "      <td>43.0</td>\n",
       "    </tr>\n",
       "    <tr>\n",
       "      <th rowspan=\"2\" valign=\"top\">WY</th>\n",
       "      <th>F</th>\n",
       "      <td>2250.0</td>\n",
       "      <td>705.0</td>\n",
       "      <td>1.0</td>\n",
       "      <td>4.0</td>\n",
       "    </tr>\n",
       "    <tr>\n",
       "      <th>M</th>\n",
       "      <td>2530.0</td>\n",
       "      <td>706.0</td>\n",
       "      <td>NaN</td>\n",
       "      <td>6.0</td>\n",
       "    </tr>\n",
       "  </tbody>\n",
       "</table>\n",
       "<p>102 rows × 4 columns</p>\n",
       "</div>"
      ],
      "text/plain": [
       "METHOD                      1       2    8      9\n",
       "STATEOFRESIDENCE SEX                             \n",
       "AK               F     3816.0  1000.0  1.0    9.0\n",
       "                 M     4010.0  1116.0  3.0   12.0\n",
       "AL               F    20309.0  8046.0  NaN  164.0\n",
       "                 M    20484.0  9173.0  NaN  196.0\n",
       "AR               F    12855.0  5125.0  2.0   48.0\n",
       "...                       ...     ...  ...    ...\n",
       "WI               M    27222.0  7876.0  5.0    2.0\n",
       "WV               F     7171.0  3167.0  2.0   34.0\n",
       "                 M     7471.0  3571.0  1.0   43.0\n",
       "WY               F     2250.0   705.0  1.0    4.0\n",
       "                 M     2530.0   706.0  NaN    6.0\n",
       "\n",
       "[102 rows x 4 columns]"
      ]
     },
     "execution_count": 31,
     "metadata": {},
     "output_type": "execute_result"
    }
   ],
   "source": [
    "state_sex_method = bigdf.groupby([\"STATEOFRESIDENCE\", \"SEX\", \"METHOD\"]).MATERNALAGE.count().unstack()\n",
    "state_sex_method"
   ]
  },
  {
   "cell_type": "code",
   "execution_count": 32,
   "metadata": {
    "tags": []
   },
   "outputs": [],
   "source": [
    "state_den = bigdf.groupby(\"STATEOFRESIDENCE\").MATERNALAGE.count()"
   ]
  },
  {
   "cell_type": "code",
   "execution_count": 33,
   "metadata": {},
   "outputs": [
    {
     "data": {
      "text/html": [
       "<div>\n",
       "<style scoped>\n",
       "    .dataframe tbody tr th:only-of-type {\n",
       "        vertical-align: middle;\n",
       "    }\n",
       "\n",
       "    .dataframe tbody tr th {\n",
       "        vertical-align: top;\n",
       "    }\n",
       "\n",
       "    .dataframe thead th {\n",
       "        text-align: right;\n",
       "    }\n",
       "</style>\n",
       "<table border=\"1\" class=\"dataframe\">\n",
       "  <thead>\n",
       "    <tr style=\"text-align: right;\">\n",
       "      <th></th>\n",
       "      <th>METHOD</th>\n",
       "      <th>1</th>\n",
       "      <th>2</th>\n",
       "      <th>8</th>\n",
       "      <th>9</th>\n",
       "      <th>TOT</th>\n",
       "      <th>Caesarratio</th>\n",
       "    </tr>\n",
       "    <tr>\n",
       "      <th>STATEOFRESIDENCE</th>\n",
       "      <th>SEX</th>\n",
       "      <th></th>\n",
       "      <th></th>\n",
       "      <th></th>\n",
       "      <th></th>\n",
       "      <th></th>\n",
       "      <th></th>\n",
       "    </tr>\n",
       "  </thead>\n",
       "  <tbody>\n",
       "    <tr>\n",
       "      <th rowspan=\"2\" valign=\"top\">AK</th>\n",
       "      <th>F</th>\n",
       "      <td>3816.0</td>\n",
       "      <td>1000.0</td>\n",
       "      <td>1.0</td>\n",
       "      <td>9.0</td>\n",
       "      <td>4826.0</td>\n",
       "      <td>0.207211</td>\n",
       "    </tr>\n",
       "    <tr>\n",
       "      <th>M</th>\n",
       "      <td>4010.0</td>\n",
       "      <td>1116.0</td>\n",
       "      <td>3.0</td>\n",
       "      <td>12.0</td>\n",
       "      <td>5141.0</td>\n",
       "      <td>0.217078</td>\n",
       "    </tr>\n",
       "    <tr>\n",
       "      <th rowspan=\"2\" valign=\"top\">AL</th>\n",
       "      <th>F</th>\n",
       "      <td>20309.0</td>\n",
       "      <td>8046.0</td>\n",
       "      <td>NaN</td>\n",
       "      <td>164.0</td>\n",
       "      <td>28519.0</td>\n",
       "      <td>0.282128</td>\n",
       "    </tr>\n",
       "    <tr>\n",
       "      <th>M</th>\n",
       "      <td>20484.0</td>\n",
       "      <td>9173.0</td>\n",
       "      <td>NaN</td>\n",
       "      <td>196.0</td>\n",
       "      <td>29853.0</td>\n",
       "      <td>0.307272</td>\n",
       "    </tr>\n",
       "    <tr>\n",
       "      <th>AR</th>\n",
       "      <th>F</th>\n",
       "      <td>12855.0</td>\n",
       "      <td>5125.0</td>\n",
       "      <td>2.0</td>\n",
       "      <td>48.0</td>\n",
       "      <td>18030.0</td>\n",
       "      <td>0.284248</td>\n",
       "    </tr>\n",
       "    <tr>\n",
       "      <th>...</th>\n",
       "      <th>...</th>\n",
       "      <td>...</td>\n",
       "      <td>...</td>\n",
       "      <td>...</td>\n",
       "      <td>...</td>\n",
       "      <td>...</td>\n",
       "      <td>...</td>\n",
       "    </tr>\n",
       "    <tr>\n",
       "      <th>WI</th>\n",
       "      <th>M</th>\n",
       "      <td>27222.0</td>\n",
       "      <td>7876.0</td>\n",
       "      <td>5.0</td>\n",
       "      <td>2.0</td>\n",
       "      <td>35105.0</td>\n",
       "      <td>0.224356</td>\n",
       "    </tr>\n",
       "    <tr>\n",
       "      <th rowspan=\"2\" valign=\"top\">WV</th>\n",
       "      <th>F</th>\n",
       "      <td>7171.0</td>\n",
       "      <td>3167.0</td>\n",
       "      <td>2.0</td>\n",
       "      <td>34.0</td>\n",
       "      <td>10374.0</td>\n",
       "      <td>0.305282</td>\n",
       "    </tr>\n",
       "    <tr>\n",
       "      <th>M</th>\n",
       "      <td>7471.0</td>\n",
       "      <td>3571.0</td>\n",
       "      <td>1.0</td>\n",
       "      <td>43.0</td>\n",
       "      <td>11086.0</td>\n",
       "      <td>0.322118</td>\n",
       "    </tr>\n",
       "    <tr>\n",
       "      <th rowspan=\"2\" valign=\"top\">WY</th>\n",
       "      <th>F</th>\n",
       "      <td>2250.0</td>\n",
       "      <td>705.0</td>\n",
       "      <td>1.0</td>\n",
       "      <td>4.0</td>\n",
       "      <td>2960.0</td>\n",
       "      <td>0.238176</td>\n",
       "    </tr>\n",
       "    <tr>\n",
       "      <th>M</th>\n",
       "      <td>2530.0</td>\n",
       "      <td>706.0</td>\n",
       "      <td>NaN</td>\n",
       "      <td>6.0</td>\n",
       "      <td>3242.0</td>\n",
       "      <td>0.217767</td>\n",
       "    </tr>\n",
       "  </tbody>\n",
       "</table>\n",
       "<p>102 rows × 6 columns</p>\n",
       "</div>"
      ],
      "text/plain": [
       "METHOD                      1       2    8      9      TOT  Caesarratio\n",
       "STATEOFRESIDENCE SEX                                                   \n",
       "AK               F     3816.0  1000.0  1.0    9.0   4826.0     0.207211\n",
       "                 M     4010.0  1116.0  3.0   12.0   5141.0     0.217078\n",
       "AL               F    20309.0  8046.0  NaN  164.0  28519.0     0.282128\n",
       "                 M    20484.0  9173.0  NaN  196.0  29853.0     0.307272\n",
       "AR               F    12855.0  5125.0  2.0   48.0  18030.0     0.284248\n",
       "...                       ...     ...  ...    ...      ...          ...\n",
       "WI               M    27222.0  7876.0  5.0    2.0  35105.0     0.224356\n",
       "WV               F     7171.0  3167.0  2.0   34.0  10374.0     0.305282\n",
       "                 M     7471.0  3571.0  1.0   43.0  11086.0     0.322118\n",
       "WY               F     2250.0   705.0  1.0    4.0   2960.0     0.238176\n",
       "                 M     2530.0   706.0  NaN    6.0   3242.0     0.217767\n",
       "\n",
       "[102 rows x 6 columns]"
      ]
     },
     "execution_count": 33,
     "metadata": {},
     "output_type": "execute_result"
    }
   ],
   "source": [
    "state_sex_method[\"TOT\"]= state_sex_method[[1,2,8,9]].sum(axis=1)\n",
    "state_sex_method[\"Caesarratio\"] = state_sex_method[2] / state_sex_method[\"TOT\"]\n",
    "state_sex_method"
   ]
  },
  {
   "cell_type": "code",
   "execution_count": null,
   "metadata": {},
   "outputs": [],
   "source": []
  },
  {
   "cell_type": "code",
   "execution_count": null,
   "metadata": {},
   "outputs": [],
   "source": []
  },
  {
   "cell_type": "code",
   "execution_count": 34,
   "metadata": {},
   "outputs": [
    {
     "data": {
      "text/html": [
       "<div>\n",
       "<style scoped>\n",
       "    .dataframe tbody tr th:only-of-type {\n",
       "        vertical-align: middle;\n",
       "    }\n",
       "\n",
       "    .dataframe tbody tr th {\n",
       "        vertical-align: top;\n",
       "    }\n",
       "\n",
       "    .dataframe thead th {\n",
       "        text-align: right;\n",
       "    }\n",
       "</style>\n",
       "<table border=\"1\" class=\"dataframe\">\n",
       "  <thead>\n",
       "    <tr style=\"text-align: right;\">\n",
       "      <th></th>\n",
       "      <th>METHOD</th>\n",
       "      <th>1</th>\n",
       "      <th>2</th>\n",
       "      <th>8</th>\n",
       "      <th>9</th>\n",
       "      <th>TOT</th>\n",
       "      <th>Caesarratio</th>\n",
       "    </tr>\n",
       "    <tr>\n",
       "      <th>STATEOFRESIDENCE</th>\n",
       "      <th>SEX</th>\n",
       "      <th></th>\n",
       "      <th></th>\n",
       "      <th></th>\n",
       "      <th></th>\n",
       "      <th></th>\n",
       "      <th></th>\n",
       "    </tr>\n",
       "  </thead>\n",
       "  <tbody>\n",
       "    <tr>\n",
       "      <th>AK</th>\n",
       "      <th>M</th>\n",
       "      <td>4010.0</td>\n",
       "      <td>1116.0</td>\n",
       "      <td>3.0</td>\n",
       "      <td>12.0</td>\n",
       "      <td>5141.0</td>\n",
       "      <td>0.217078</td>\n",
       "    </tr>\n",
       "    <tr>\n",
       "      <th>AL</th>\n",
       "      <th>M</th>\n",
       "      <td>20484.0</td>\n",
       "      <td>9173.0</td>\n",
       "      <td>NaN</td>\n",
       "      <td>196.0</td>\n",
       "      <td>29853.0</td>\n",
       "      <td>0.307272</td>\n",
       "    </tr>\n",
       "    <tr>\n",
       "      <th>AR</th>\n",
       "      <th>M</th>\n",
       "      <td>13193.0</td>\n",
       "      <td>5810.0</td>\n",
       "      <td>NaN</td>\n",
       "      <td>85.0</td>\n",
       "      <td>19088.0</td>\n",
       "      <td>0.304380</td>\n",
       "    </tr>\n",
       "    <tr>\n",
       "      <th>AZ</th>\n",
       "      <th>M</th>\n",
       "      <td>35361.0</td>\n",
       "      <td>10499.0</td>\n",
       "      <td>302.0</td>\n",
       "      <td>251.0</td>\n",
       "      <td>46413.0</td>\n",
       "      <td>0.226208</td>\n",
       "    </tr>\n",
       "    <tr>\n",
       "      <th>CA</th>\n",
       "      <th>M</th>\n",
       "      <td>197307.0</td>\n",
       "      <td>79742.0</td>\n",
       "      <td>348.0</td>\n",
       "      <td>NaN</td>\n",
       "      <td>277397.0</td>\n",
       "      <td>0.287465</td>\n",
       "    </tr>\n",
       "  </tbody>\n",
       "</table>\n",
       "</div>"
      ],
      "text/plain": [
       "METHOD                       1        2      8      9       TOT  Caesarratio\n",
       "STATEOFRESIDENCE SEX                                                        \n",
       "AK               M      4010.0   1116.0    3.0   12.0    5141.0     0.217078\n",
       "AL               M     20484.0   9173.0    NaN  196.0   29853.0     0.307272\n",
       "AR               M     13193.0   5810.0    NaN   85.0   19088.0     0.304380\n",
       "AZ               M     35361.0  10499.0  302.0  251.0   46413.0     0.226208\n",
       "CA               M    197307.0  79742.0  348.0    NaN  277397.0     0.287465"
      ]
     },
     "execution_count": 34,
     "metadata": {},
     "output_type": "execute_result"
    }
   ],
   "source": [
    "\n",
    "Mrows = state_sex_method.loc[pd.IndexSlice[:, 'M'], :]\n",
    "Frows = state_sex_method.loc[pd.IndexSlice[:, 'F'], :]\n",
    "Mrows.head()\n"
   ]
  },
  {
   "cell_type": "code",
   "execution_count": 35,
   "metadata": {},
   "outputs": [
    {
     "data": {
      "text/plain": [
       "<matplotlib.legend.Legend at 0x7fef57dafbb0>"
      ]
     },
     "execution_count": 35,
     "metadata": {},
     "output_type": "execute_result"
    },
    {
     "data": {
      "image/png": "[encoded data removed]",
      "text/plain": [
       "<Figure size 432x288 with 1 Axes>"
      ]
     },
     "metadata": {
      "needs_background": "light"
     },
     "output_type": "display_data"
    }
   ],
   "source": [
    "plt.scatter(Mrows.TOT, Mrows.Caesarratio, label=\"M\")\n",
    "plt.scatter(Frows.TOT, Frows.Caesarratio, label=\"F\")\n",
    "plt.xlabel(\"Number of births per state per sex\")\n",
    "plt.ylabel(\"Caesarian delivery, fraction of births\")\n",
    "plt.legend()"
   ]
  },
  {
   "cell_type": "code",
   "execution_count": 36,
   "metadata": {},
   "outputs": [],
   "source": [
    "# The variance for a binomial distribution is np(1-p), and for np(1-p) > 30 \n",
    "# the binomial distirbution is very close to the normal distribution.  So \n",
    "# let's take the normal approximation to the binomial and calculate \n",
    "# sampling errors on the counts.  Then divide by total, get sampling errors \n",
    "# on the per-state per-sex point estimates of Caesarian rate.\n",
    "\n",
    "# Disaggregating reduces our sensitivity to small effects ,and this was an\n",
    "# effect less than 2% (on a 20% background).\n",
    "\n",
    "# We should not be able to see an effect at all when sqrt ( ( p (1-p) ) / n ) = .02\n"
   ]
  },
  {
   "cell_type": "markdown",
   "metadata": {},
   "source": [
    "$$ \\sqrt { {p (1-p) \\over n} } = .02 $$\n",
    "$$n = {.18 * .72 \\over (.02)^2} $$ \n",
    "n=324 "
   ]
  },
  {
   "cell_type": "code",
   "execution_count": 37,
   "metadata": {},
   "outputs": [
    {
     "data": {
      "text/plain": [
       "323.99999999999994"
      ]
     },
     "execution_count": 37,
     "metadata": {},
     "output_type": "execute_result"
    }
   ],
   "source": [
    ".18*.72 / .02/.02"
   ]
  },
  {
   "cell_type": "code",
   "execution_count": 38,
   "metadata": {
    "tags": []
   },
   "outputs": [],
   "source": [
    "state_sex_method[\"Stddevbinom\"] = np.sqrt(state_sex_method.Caesarratio * (1-state_sex_method.Caesarratio) * state_sex_method.TOT)\n",
    "state_sex_method[\"Stddevratio\"] = state_sex_method[\"Stddevbinom\"]/ state_sex_method.TOT"
   ]
  },
  {
   "cell_type": "code",
   "execution_count": 39,
   "metadata": {},
   "outputs": [
    {
     "data": {
      "text/html": [
       "<div>\n",
       "<style scoped>\n",
       "    .dataframe tbody tr th:only-of-type {\n",
       "        vertical-align: middle;\n",
       "    }\n",
       "\n",
       "    .dataframe tbody tr th {\n",
       "        vertical-align: top;\n",
       "    }\n",
       "\n",
       "    .dataframe thead th {\n",
       "        text-align: right;\n",
       "    }\n",
       "</style>\n",
       "<table border=\"1\" class=\"dataframe\">\n",
       "  <thead>\n",
       "    <tr style=\"text-align: right;\">\n",
       "      <th></th>\n",
       "      <th>METHOD</th>\n",
       "      <th>1</th>\n",
       "      <th>2</th>\n",
       "      <th>8</th>\n",
       "      <th>9</th>\n",
       "      <th>TOT</th>\n",
       "      <th>Caesarratio</th>\n",
       "      <th>Stddevbinom</th>\n",
       "      <th>Stddevratio</th>\n",
       "    </tr>\n",
       "    <tr>\n",
       "      <th>STATEOFRESIDENCE</th>\n",
       "      <th>SEX</th>\n",
       "      <th></th>\n",
       "      <th></th>\n",
       "      <th></th>\n",
       "      <th></th>\n",
       "      <th></th>\n",
       "      <th></th>\n",
       "      <th></th>\n",
       "      <th></th>\n",
       "    </tr>\n",
       "  </thead>\n",
       "  <tbody>\n",
       "    <tr>\n",
       "      <th rowspan=\"2\" valign=\"top\">AK</th>\n",
       "      <th>F</th>\n",
       "      <td>3816.0</td>\n",
       "      <td>1000.0</td>\n",
       "      <td>1.0</td>\n",
       "      <td>9.0</td>\n",
       "      <td>4826.0</td>\n",
       "      <td>0.207211</td>\n",
       "      <td>28.156510</td>\n",
       "      <td>0.005834</td>\n",
       "    </tr>\n",
       "    <tr>\n",
       "      <th>M</th>\n",
       "      <td>4010.0</td>\n",
       "      <td>1116.0</td>\n",
       "      <td>3.0</td>\n",
       "      <td>12.0</td>\n",
       "      <td>5141.0</td>\n",
       "      <td>0.217078</td>\n",
       "      <td>29.559102</td>\n",
       "      <td>0.005750</td>\n",
       "    </tr>\n",
       "    <tr>\n",
       "      <th rowspan=\"2\" valign=\"top\">AL</th>\n",
       "      <th>F</th>\n",
       "      <td>20309.0</td>\n",
       "      <td>8046.0</td>\n",
       "      <td>NaN</td>\n",
       "      <td>164.0</td>\n",
       "      <td>28519.0</td>\n",
       "      <td>0.282128</td>\n",
       "      <td>76.000003</td>\n",
       "      <td>0.002665</td>\n",
       "    </tr>\n",
       "    <tr>\n",
       "      <th>M</th>\n",
       "      <td>20484.0</td>\n",
       "      <td>9173.0</td>\n",
       "      <td>NaN</td>\n",
       "      <td>196.0</td>\n",
       "      <td>29853.0</td>\n",
       "      <td>0.307272</td>\n",
       "      <td>79.714435</td>\n",
       "      <td>0.002670</td>\n",
       "    </tr>\n",
       "    <tr>\n",
       "      <th>AR</th>\n",
       "      <th>F</th>\n",
       "      <td>12855.0</td>\n",
       "      <td>5125.0</td>\n",
       "      <td>2.0</td>\n",
       "      <td>48.0</td>\n",
       "      <td>18030.0</td>\n",
       "      <td>0.284248</td>\n",
       "      <td>60.565886</td>\n",
       "      <td>0.003359</td>\n",
       "    </tr>\n",
       "    <tr>\n",
       "      <th>...</th>\n",
       "      <th>...</th>\n",
       "      <td>...</td>\n",
       "      <td>...</td>\n",
       "      <td>...</td>\n",
       "      <td>...</td>\n",
       "      <td>...</td>\n",
       "      <td>...</td>\n",
       "      <td>...</td>\n",
       "      <td>...</td>\n",
       "    </tr>\n",
       "    <tr>\n",
       "      <th>WI</th>\n",
       "      <th>M</th>\n",
       "      <td>27222.0</td>\n",
       "      <td>7876.0</td>\n",
       "      <td>5.0</td>\n",
       "      <td>2.0</td>\n",
       "      <td>35105.0</td>\n",
       "      <td>0.224356</td>\n",
       "      <td>78.159939</td>\n",
       "      <td>0.002226</td>\n",
       "    </tr>\n",
       "    <tr>\n",
       "      <th rowspan=\"2\" valign=\"top\">WV</th>\n",
       "      <th>F</th>\n",
       "      <td>7171.0</td>\n",
       "      <td>3167.0</td>\n",
       "      <td>2.0</td>\n",
       "      <td>34.0</td>\n",
       "      <td>10374.0</td>\n",
       "      <td>0.305282</td>\n",
       "      <td>46.905975</td>\n",
       "      <td>0.004521</td>\n",
       "    </tr>\n",
       "    <tr>\n",
       "      <th>M</th>\n",
       "      <td>7471.0</td>\n",
       "      <td>3571.0</td>\n",
       "      <td>1.0</td>\n",
       "      <td>43.0</td>\n",
       "      <td>11086.0</td>\n",
       "      <td>0.322118</td>\n",
       "      <td>49.200779</td>\n",
       "      <td>0.004438</td>\n",
       "    </tr>\n",
       "    <tr>\n",
       "      <th rowspan=\"2\" valign=\"top\">WY</th>\n",
       "      <th>F</th>\n",
       "      <td>2250.0</td>\n",
       "      <td>705.0</td>\n",
       "      <td>1.0</td>\n",
       "      <td>4.0</td>\n",
       "      <td>2960.0</td>\n",
       "      <td>0.238176</td>\n",
       "      <td>23.175119</td>\n",
       "      <td>0.007829</td>\n",
       "    </tr>\n",
       "    <tr>\n",
       "      <th>M</th>\n",
       "      <td>2530.0</td>\n",
       "      <td>706.0</td>\n",
       "      <td>NaN</td>\n",
       "      <td>6.0</td>\n",
       "      <td>3242.0</td>\n",
       "      <td>0.217767</td>\n",
       "      <td>23.500141</td>\n",
       "      <td>0.007249</td>\n",
       "    </tr>\n",
       "  </tbody>\n",
       "</table>\n",
       "<p>102 rows × 8 columns</p>\n",
       "</div>"
      ],
      "text/plain": [
       "METHOD                      1       2    8      9      TOT  Caesarratio  \\\n",
       "STATEOFRESIDENCE SEX                                                      \n",
       "AK               F     3816.0  1000.0  1.0    9.0   4826.0     0.207211   \n",
       "                 M     4010.0  1116.0  3.0   12.0   5141.0     0.217078   \n",
       "AL               F    20309.0  8046.0  NaN  164.0  28519.0     0.282128   \n",
       "                 M    20484.0  9173.0  NaN  196.0  29853.0     0.307272   \n",
       "AR               F    12855.0  5125.0  2.0   48.0  18030.0     0.284248   \n",
       "...                       ...     ...  ...    ...      ...          ...   \n",
       "WI               M    27222.0  7876.0  5.0    2.0  35105.0     0.224356   \n",
       "WV               F     7171.0  3167.0  2.0   34.0  10374.0     0.305282   \n",
       "                 M     7471.0  3571.0  1.0   43.0  11086.0     0.322118   \n",
       "WY               F     2250.0   705.0  1.0    4.0   2960.0     0.238176   \n",
       "                 M     2530.0   706.0  NaN    6.0   3242.0     0.217767   \n",
       "\n",
       "METHOD                Stddevbinom  Stddevratio  \n",
       "STATEOFRESIDENCE SEX                            \n",
       "AK               F      28.156510     0.005834  \n",
       "                 M      29.559102     0.005750  \n",
       "AL               F      76.000003     0.002665  \n",
       "                 M      79.714435     0.002670  \n",
       "AR               F      60.565886     0.003359  \n",
       "...                           ...          ...  \n",
       "WI               M      78.159939     0.002226  \n",
       "WV               F      46.905975     0.004521  \n",
       "                 M      49.200779     0.004438  \n",
       "WY               F      23.175119     0.007829  \n",
       "                 M      23.500141     0.007249  \n",
       "\n",
       "[102 rows x 8 columns]"
      ]
     },
     "execution_count": 39,
     "metadata": {},
     "output_type": "execute_result"
    }
   ],
   "source": [
    "state_sex_method"
   ]
  },
  {
   "cell_type": "markdown",
   "metadata": {},
   "source": []
  },
  {
   "cell_type": "code",
   "execution_count": 40,
   "metadata": {
    "tags": []
   },
   "outputs": [
    {
     "data": {
      "text/plain": [
       "Text(0, 0.5, \"Caesarian rate'\")"
      ]
     },
     "execution_count": 40,
     "metadata": {},
     "output_type": "execute_result"
    },
    {
     "data": {
      "image/png": "[encoded data removed]",
      "text/plain": [
       "<Figure size 432x288 with 1 Axes>"
      ]
     },
     "metadata": {
      "needs_background": "light"
     },
     "output_type": "display_data"
    }
   ],
   "source": [
    "\n",
    "# This disaggregates the newly-calculated standard error of the ratio column\n",
    "Mrows = state_sex_method.loc[pd.IndexSlice[:, 'M'], :]\n",
    "Frows = state_sex_method.loc[pd.IndexSlice[:, 'F'], :]\n",
    "Mrows.head()\n",
    "\n",
    "\n",
    "plt.errorbar(Mrows.TOT, Mrows.Caesarratio, yerr=Mrows.Stddevratio, fmt=\"o\")\n",
    "plt.errorbar(Frows.TOT, Frows.Caesarratio, yerr=Frows.Stddevratio, fmt=\"o\")\n",
    "plt.xlabel(\"Number of births per sex per state\")\n",
    "plt.ylabel(\"Caesarian rate'\")"
   ]
  },
  {
   "cell_type": "code",
   "execution_count": 41,
   "metadata": {},
   "outputs": [
    {
     "data": {
      "text/html": [
       "<div>\n",
       "<style scoped>\n",
       "    .dataframe tbody tr th:only-of-type {\n",
       "        vertical-align: middle;\n",
       "    }\n",
       "\n",
       "    .dataframe tbody tr th {\n",
       "        vertical-align: top;\n",
       "    }\n",
       "\n",
       "    .dataframe thead tr th {\n",
       "        text-align: left;\n",
       "    }\n",
       "\n",
       "    .dataframe thead tr:last-of-type th {\n",
       "        text-align: right;\n",
       "    }\n",
       "</style>\n",
       "<table border=\"1\" class=\"dataframe\">\n",
       "  <thead>\n",
       "    <tr>\n",
       "      <th>METHOD</th>\n",
       "      <th colspan=\"2\" halign=\"left\">Caesarratio</th>\n",
       "      <th colspan=\"2\" halign=\"left\">Stddevratio</th>\n",
       "      <th colspan=\"2\" halign=\"left\">TOT</th>\n",
       "      <th>TOTAL</th>\n",
       "      <th>RATIODIFF</th>\n",
       "    </tr>\n",
       "    <tr>\n",
       "      <th>SEX</th>\n",
       "      <th>F</th>\n",
       "      <th>M</th>\n",
       "      <th>F</th>\n",
       "      <th>M</th>\n",
       "      <th>F</th>\n",
       "      <th>M</th>\n",
       "      <th></th>\n",
       "      <th></th>\n",
       "    </tr>\n",
       "    <tr>\n",
       "      <th>STATEOFRESIDENCE</th>\n",
       "      <th></th>\n",
       "      <th></th>\n",
       "      <th></th>\n",
       "      <th></th>\n",
       "      <th></th>\n",
       "      <th></th>\n",
       "      <th></th>\n",
       "      <th></th>\n",
       "    </tr>\n",
       "  </thead>\n",
       "  <tbody>\n",
       "    <tr>\n",
       "      <th>AK</th>\n",
       "      <td>0.207211</td>\n",
       "      <td>0.217078</td>\n",
       "      <td>0.005834</td>\n",
       "      <td>0.005750</td>\n",
       "      <td>4826.0</td>\n",
       "      <td>5141.0</td>\n",
       "      <td>9967.0</td>\n",
       "      <td>0.009867</td>\n",
       "    </tr>\n",
       "    <tr>\n",
       "      <th>AL</th>\n",
       "      <td>0.282128</td>\n",
       "      <td>0.307272</td>\n",
       "      <td>0.002665</td>\n",
       "      <td>0.002670</td>\n",
       "      <td>28519.0</td>\n",
       "      <td>29853.0</td>\n",
       "      <td>58372.0</td>\n",
       "      <td>0.025145</td>\n",
       "    </tr>\n",
       "    <tr>\n",
       "      <th>AR</th>\n",
       "      <td>0.284248</td>\n",
       "      <td>0.304380</td>\n",
       "      <td>0.003359</td>\n",
       "      <td>0.003331</td>\n",
       "      <td>18030.0</td>\n",
       "      <td>19088.0</td>\n",
       "      <td>37118.0</td>\n",
       "      <td>0.020131</td>\n",
       "    </tr>\n",
       "    <tr>\n",
       "      <th>AZ</th>\n",
       "      <td>0.213358</td>\n",
       "      <td>0.226208</td>\n",
       "      <td>0.001940</td>\n",
       "      <td>0.001942</td>\n",
       "      <td>44573.0</td>\n",
       "      <td>46413.0</td>\n",
       "      <td>90986.0</td>\n",
       "      <td>0.012850</td>\n",
       "    </tr>\n",
       "    <tr>\n",
       "      <th>CA</th>\n",
       "      <td>0.269124</td>\n",
       "      <td>0.287465</td>\n",
       "      <td>0.000863</td>\n",
       "      <td>0.000859</td>\n",
       "      <td>264358.0</td>\n",
       "      <td>277397.0</td>\n",
       "      <td>541755.0</td>\n",
       "      <td>0.018342</td>\n",
       "    </tr>\n",
       "    <tr>\n",
       "      <th>CO</th>\n",
       "      <td>0.215299</td>\n",
       "      <td>0.230325</td>\n",
       "      <td>0.002234</td>\n",
       "      <td>0.002230</td>\n",
       "      <td>33846.0</td>\n",
       "      <td>35641.0</td>\n",
       "      <td>69487.0</td>\n",
       "      <td>0.015026</td>\n",
       "    </tr>\n",
       "    <tr>\n",
       "      <th>CT</th>\n",
       "      <td>0.263607</td>\n",
       "      <td>0.278428</td>\n",
       "      <td>0.003026</td>\n",
       "      <td>0.003002</td>\n",
       "      <td>21202.0</td>\n",
       "      <td>22293.0</td>\n",
       "      <td>43495.0</td>\n",
       "      <td>0.014821</td>\n",
       "    </tr>\n",
       "    <tr>\n",
       "      <th>DC</th>\n",
       "      <td>0.289920</td>\n",
       "      <td>0.308390</td>\n",
       "      <td>0.005372</td>\n",
       "      <td>0.005334</td>\n",
       "      <td>7133.0</td>\n",
       "      <td>7497.0</td>\n",
       "      <td>14630.0</td>\n",
       "      <td>0.018470</td>\n",
       "    </tr>\n",
       "    <tr>\n",
       "      <th>DE</th>\n",
       "      <td>0.280201</td>\n",
       "      <td>0.294022</td>\n",
       "      <td>0.005817</td>\n",
       "      <td>0.005807</td>\n",
       "      <td>5960.0</td>\n",
       "      <td>6156.0</td>\n",
       "      <td>12116.0</td>\n",
       "      <td>0.013821</td>\n",
       "    </tr>\n",
       "    <tr>\n",
       "      <th>FL</th>\n",
       "      <td>0.294724</td>\n",
       "      <td>0.315357</td>\n",
       "      <td>0.001419</td>\n",
       "      <td>0.001407</td>\n",
       "      <td>103239.0</td>\n",
       "      <td>108994.0</td>\n",
       "      <td>212233.0</td>\n",
       "      <td>0.020633</td>\n",
       "    </tr>\n",
       "    <tr>\n",
       "      <th>GA</th>\n",
       "      <td>0.262620</td>\n",
       "      <td>0.278580</td>\n",
       "      <td>0.001697</td>\n",
       "      <td>0.001695</td>\n",
       "      <td>67234.0</td>\n",
       "      <td>69980.0</td>\n",
       "      <td>137214.0</td>\n",
       "      <td>0.015959</td>\n",
       "    </tr>\n",
       "    <tr>\n",
       "      <th>HI</th>\n",
       "      <td>0.214542</td>\n",
       "      <td>0.221273</td>\n",
       "      <td>0.004417</td>\n",
       "      <td>0.004262</td>\n",
       "      <td>8637.0</td>\n",
       "      <td>9486.0</td>\n",
       "      <td>18123.0</td>\n",
       "      <td>0.006731</td>\n",
       "    </tr>\n",
       "    <tr>\n",
       "      <th>IA</th>\n",
       "      <td>0.243609</td>\n",
       "      <td>0.255994</td>\n",
       "      <td>0.003133</td>\n",
       "      <td>0.003117</td>\n",
       "      <td>18776.0</td>\n",
       "      <td>19602.0</td>\n",
       "      <td>38378.0</td>\n",
       "      <td>0.012385</td>\n",
       "    </tr>\n",
       "    <tr>\n",
       "      <th>ID</th>\n",
       "      <td>0.195782</td>\n",
       "      <td>0.217068</td>\n",
       "      <td>0.003894</td>\n",
       "      <td>0.003951</td>\n",
       "      <td>10384.0</td>\n",
       "      <td>10886.0</td>\n",
       "      <td>21270.0</td>\n",
       "      <td>0.021286</td>\n",
       "    </tr>\n",
       "    <tr>\n",
       "      <th>IL</th>\n",
       "      <td>0.243838</td>\n",
       "      <td>0.263361</td>\n",
       "      <td>0.001454</td>\n",
       "      <td>0.001454</td>\n",
       "      <td>87226.0</td>\n",
       "      <td>91760.0</td>\n",
       "      <td>178986.0</td>\n",
       "      <td>0.019523</td>\n",
       "    </tr>\n",
       "    <tr>\n",
       "      <th>IN</th>\n",
       "      <td>0.248401</td>\n",
       "      <td>0.258732</td>\n",
       "      <td>0.002103</td>\n",
       "      <td>0.002075</td>\n",
       "      <td>42214.0</td>\n",
       "      <td>44548.0</td>\n",
       "      <td>86762.0</td>\n",
       "      <td>0.010331</td>\n",
       "    </tr>\n",
       "    <tr>\n",
       "      <th>KS</th>\n",
       "      <td>0.255369</td>\n",
       "      <td>0.276095</td>\n",
       "      <td>0.003103</td>\n",
       "      <td>0.003117</td>\n",
       "      <td>19744.0</td>\n",
       "      <td>20569.0</td>\n",
       "      <td>40313.0</td>\n",
       "      <td>0.020726</td>\n",
       "    </tr>\n",
       "    <tr>\n",
       "      <th>KY</th>\n",
       "      <td>0.284681</td>\n",
       "      <td>0.304723</td>\n",
       "      <td>0.002792</td>\n",
       "      <td>0.002791</td>\n",
       "      <td>26131.0</td>\n",
       "      <td>27205.0</td>\n",
       "      <td>53336.0</td>\n",
       "      <td>0.020042</td>\n",
       "    </tr>\n",
       "    <tr>\n",
       "      <th>LA</th>\n",
       "      <td>0.307384</td>\n",
       "      <td>0.327938</td>\n",
       "      <td>0.002583</td>\n",
       "      <td>0.002570</td>\n",
       "      <td>31908.0</td>\n",
       "      <td>33363.0</td>\n",
       "      <td>65271.0</td>\n",
       "      <td>0.020554</td>\n",
       "    </tr>\n",
       "    <tr>\n",
       "      <th>MA</th>\n",
       "      <td>0.278653</td>\n",
       "      <td>0.306856</td>\n",
       "      <td>0.002253</td>\n",
       "      <td>0.002261</td>\n",
       "      <td>39612.0</td>\n",
       "      <td>41596.0</td>\n",
       "      <td>81208.0</td>\n",
       "      <td>0.028203</td>\n",
       "    </tr>\n",
       "    <tr>\n",
       "      <th>MD</th>\n",
       "      <td>0.266727</td>\n",
       "      <td>0.293548</td>\n",
       "      <td>0.002387</td>\n",
       "      <td>0.002386</td>\n",
       "      <td>34316.0</td>\n",
       "      <td>36437.0</td>\n",
       "      <td>70753.0</td>\n",
       "      <td>0.026821</td>\n",
       "    </tr>\n",
       "    <tr>\n",
       "      <th>ME</th>\n",
       "      <td>0.248750</td>\n",
       "      <td>0.277329</td>\n",
       "      <td>0.005321</td>\n",
       "      <td>0.005331</td>\n",
       "      <td>6601.0</td>\n",
       "      <td>7053.0</td>\n",
       "      <td>13654.0</td>\n",
       "      <td>0.028579</td>\n",
       "    </tr>\n",
       "    <tr>\n",
       "      <th>MI</th>\n",
       "      <td>0.254516</td>\n",
       "      <td>0.270355</td>\n",
       "      <td>0.001732</td>\n",
       "      <td>0.001721</td>\n",
       "      <td>63226.0</td>\n",
       "      <td>66568.0</td>\n",
       "      <td>129794.0</td>\n",
       "      <td>0.015840</td>\n",
       "    </tr>\n",
       "    <tr>\n",
       "      <th>MN</th>\n",
       "      <td>0.223390</td>\n",
       "      <td>0.237875</td>\n",
       "      <td>0.002256</td>\n",
       "      <td>0.002248</td>\n",
       "      <td>34075.0</td>\n",
       "      <td>35876.0</td>\n",
       "      <td>69951.0</td>\n",
       "      <td>0.014485</td>\n",
       "    </tr>\n",
       "    <tr>\n",
       "      <th>MO</th>\n",
       "      <td>0.264141</td>\n",
       "      <td>0.282426</td>\n",
       "      <td>0.002263</td>\n",
       "      <td>0.002254</td>\n",
       "      <td>37938.0</td>\n",
       "      <td>39883.0</td>\n",
       "      <td>77821.0</td>\n",
       "      <td>0.018285</td>\n",
       "    </tr>\n",
       "    <tr>\n",
       "      <th>MS</th>\n",
       "      <td>0.315547</td>\n",
       "      <td>0.323602</td>\n",
       "      <td>0.003273</td>\n",
       "      <td>0.003221</td>\n",
       "      <td>20165.0</td>\n",
       "      <td>21100.0</td>\n",
       "      <td>41265.0</td>\n",
       "      <td>0.008055</td>\n",
       "    </tr>\n",
       "    <tr>\n",
       "      <th>MT</th>\n",
       "      <td>0.234358</td>\n",
       "      <td>0.239725</td>\n",
       "      <td>0.005664</td>\n",
       "      <td>0.005598</td>\n",
       "      <td>5594.0</td>\n",
       "      <td>5815.0</td>\n",
       "      <td>11409.0</td>\n",
       "      <td>0.005367</td>\n",
       "    </tr>\n",
       "    <tr>\n",
       "      <th>NC</th>\n",
       "      <td>0.264347</td>\n",
       "      <td>0.280392</td>\n",
       "      <td>0.001834</td>\n",
       "      <td>0.001816</td>\n",
       "      <td>57799.0</td>\n",
       "      <td>61150.0</td>\n",
       "      <td>118949.0</td>\n",
       "      <td>0.016045</td>\n",
       "    </tr>\n",
       "    <tr>\n",
       "      <th>ND</th>\n",
       "      <td>0.228181</td>\n",
       "      <td>0.240935</td>\n",
       "      <td>0.006184</td>\n",
       "      <td>0.006321</td>\n",
       "      <td>4606.0</td>\n",
       "      <td>4578.0</td>\n",
       "      <td>9184.0</td>\n",
       "      <td>0.012754</td>\n",
       "    </tr>\n",
       "    <tr>\n",
       "      <th>NE</th>\n",
       "      <td>0.268939</td>\n",
       "      <td>0.286842</td>\n",
       "      <td>0.003943</td>\n",
       "      <td>0.003903</td>\n",
       "      <td>12646.0</td>\n",
       "      <td>13429.0</td>\n",
       "      <td>26075.0</td>\n",
       "      <td>0.017903</td>\n",
       "    </tr>\n",
       "    <tr>\n",
       "      <th>NH</th>\n",
       "      <td>0.237246</td>\n",
       "      <td>0.264530</td>\n",
       "      <td>0.005143</td>\n",
       "      <td>0.005264</td>\n",
       "      <td>6841.0</td>\n",
       "      <td>7020.0</td>\n",
       "      <td>13861.0</td>\n",
       "      <td>0.027284</td>\n",
       "    </tr>\n",
       "    <tr>\n",
       "      <th>NJ</th>\n",
       "      <td>0.315148</td>\n",
       "      <td>0.338806</td>\n",
       "      <td>0.001971</td>\n",
       "      <td>0.001961</td>\n",
       "      <td>55577.0</td>\n",
       "      <td>58234.0</td>\n",
       "      <td>113811.0</td>\n",
       "      <td>0.023657</td>\n",
       "    </tr>\n",
       "    <tr>\n",
       "      <th>NM</th>\n",
       "      <td>0.189119</td>\n",
       "      <td>0.206464</td>\n",
       "      <td>0.003378</td>\n",
       "      <td>0.003446</td>\n",
       "      <td>13436.0</td>\n",
       "      <td>13799.0</td>\n",
       "      <td>27235.0</td>\n",
       "      <td>0.017345</td>\n",
       "    </tr>\n",
       "    <tr>\n",
       "      <th>NV</th>\n",
       "      <td>0.261731</td>\n",
       "      <td>0.283168</td>\n",
       "      <td>0.003454</td>\n",
       "      <td>0.003456</td>\n",
       "      <td>16196.0</td>\n",
       "      <td>16997.0</td>\n",
       "      <td>33193.0</td>\n",
       "      <td>0.021436</td>\n",
       "    </tr>\n",
       "    <tr>\n",
       "      <th>NY</th>\n",
       "      <td>0.273825</td>\n",
       "      <td>0.292645</td>\n",
       "      <td>0.001265</td>\n",
       "      <td>0.001259</td>\n",
       "      <td>124185.0</td>\n",
       "      <td>130530.0</td>\n",
       "      <td>254715.0</td>\n",
       "      <td>0.018820</td>\n",
       "    </tr>\n",
       "    <tr>\n",
       "      <th>OH</th>\n",
       "      <td>0.242151</td>\n",
       "      <td>0.254791</td>\n",
       "      <td>0.001585</td>\n",
       "      <td>0.001572</td>\n",
       "      <td>73033.0</td>\n",
       "      <td>76859.0</td>\n",
       "      <td>149892.0</td>\n",
       "      <td>0.012640</td>\n",
       "    </tr>\n",
       "    <tr>\n",
       "      <th>OK</th>\n",
       "      <td>0.275293</td>\n",
       "      <td>0.302420</td>\n",
       "      <td>0.002871</td>\n",
       "      <td>0.002870</td>\n",
       "      <td>24196.0</td>\n",
       "      <td>25620.0</td>\n",
       "      <td>49816.0</td>\n",
       "      <td>0.027127</td>\n",
       "    </tr>\n",
       "    <tr>\n",
       "      <th>OR</th>\n",
       "      <td>0.242461</td>\n",
       "      <td>0.257557</td>\n",
       "      <td>0.002833</td>\n",
       "      <td>0.002826</td>\n",
       "      <td>22882.0</td>\n",
       "      <td>23952.0</td>\n",
       "      <td>46834.0</td>\n",
       "      <td>0.015095</td>\n",
       "    </tr>\n",
       "    <tr>\n",
       "      <th>PA</th>\n",
       "      <td>0.251343</td>\n",
       "      <td>0.269492</td>\n",
       "      <td>0.001627</td>\n",
       "      <td>0.001629</td>\n",
       "      <td>71122.0</td>\n",
       "      <td>74221.0</td>\n",
       "      <td>145343.0</td>\n",
       "      <td>0.018150</td>\n",
       "    </tr>\n",
       "    <tr>\n",
       "      <th>RI</th>\n",
       "      <td>0.274203</td>\n",
       "      <td>0.289225</td>\n",
       "      <td>0.005444</td>\n",
       "      <td>0.005388</td>\n",
       "      <td>6714.0</td>\n",
       "      <td>7081.0</td>\n",
       "      <td>13795.0</td>\n",
       "      <td>0.015022</td>\n",
       "    </tr>\n",
       "    <tr>\n",
       "      <th>SC</th>\n",
       "      <td>0.284684</td>\n",
       "      <td>0.306055</td>\n",
       "      <td>0.002787</td>\n",
       "      <td>0.002797</td>\n",
       "      <td>26208.0</td>\n",
       "      <td>27152.0</td>\n",
       "      <td>53360.0</td>\n",
       "      <td>0.021371</td>\n",
       "    </tr>\n",
       "    <tr>\n",
       "      <th>SD</th>\n",
       "      <td>0.254121</td>\n",
       "      <td>0.260524</td>\n",
       "      <td>0.005766</td>\n",
       "      <td>0.005765</td>\n",
       "      <td>5702.0</td>\n",
       "      <td>5796.0</td>\n",
       "      <td>11498.0</td>\n",
       "      <td>0.006403</td>\n",
       "    </tr>\n",
       "    <tr>\n",
       "      <th>TN</th>\n",
       "      <td>0.277687</td>\n",
       "      <td>0.295089</td>\n",
       "      <td>0.002209</td>\n",
       "      <td>0.002202</td>\n",
       "      <td>41093.0</td>\n",
       "      <td>42882.0</td>\n",
       "      <td>83975.0</td>\n",
       "      <td>0.017402</td>\n",
       "    </tr>\n",
       "    <tr>\n",
       "      <th>TX</th>\n",
       "      <td>0.288606</td>\n",
       "      <td>0.304129</td>\n",
       "      <td>0.001047</td>\n",
       "      <td>0.001041</td>\n",
       "      <td>187463.0</td>\n",
       "      <td>195407.0</td>\n",
       "      <td>382870.0</td>\n",
       "      <td>0.015523</td>\n",
       "    </tr>\n",
       "    <tr>\n",
       "      <th>UT</th>\n",
       "      <td>0.185364</td>\n",
       "      <td>0.196981</td>\n",
       "      <td>0.002458</td>\n",
       "      <td>0.002465</td>\n",
       "      <td>24994.0</td>\n",
       "      <td>26033.0</td>\n",
       "      <td>51027.0</td>\n",
       "      <td>0.011616</td>\n",
       "    </tr>\n",
       "    <tr>\n",
       "      <th>VA</th>\n",
       "      <td>0.274202</td>\n",
       "      <td>0.288761</td>\n",
       "      <td>0.002028</td>\n",
       "      <td>0.002017</td>\n",
       "      <td>48406.0</td>\n",
       "      <td>50502.0</td>\n",
       "      <td>98908.0</td>\n",
       "      <td>0.014559</td>\n",
       "    </tr>\n",
       "    <tr>\n",
       "      <th>VT</th>\n",
       "      <td>0.211674</td>\n",
       "      <td>0.245329</td>\n",
       "      <td>0.007482</td>\n",
       "      <td>0.007530</td>\n",
       "      <td>2981.0</td>\n",
       "      <td>3265.0</td>\n",
       "      <td>6246.0</td>\n",
       "      <td>0.033655</td>\n",
       "    </tr>\n",
       "    <tr>\n",
       "      <th>WA</th>\n",
       "      <td>0.243947</td>\n",
       "      <td>0.263807</td>\n",
       "      <td>0.002173</td>\n",
       "      <td>0.002186</td>\n",
       "      <td>39070.0</td>\n",
       "      <td>40632.0</td>\n",
       "      <td>79702.0</td>\n",
       "      <td>0.019860</td>\n",
       "    </tr>\n",
       "    <tr>\n",
       "      <th>WI</th>\n",
       "      <td>0.211014</td>\n",
       "      <td>0.224356</td>\n",
       "      <td>0.002221</td>\n",
       "      <td>0.002226</td>\n",
       "      <td>33756.0</td>\n",
       "      <td>35105.0</td>\n",
       "      <td>68861.0</td>\n",
       "      <td>0.013341</td>\n",
       "    </tr>\n",
       "    <tr>\n",
       "      <th>WV</th>\n",
       "      <td>0.305282</td>\n",
       "      <td>0.322118</td>\n",
       "      <td>0.004521</td>\n",
       "      <td>0.004438</td>\n",
       "      <td>10374.0</td>\n",
       "      <td>11086.0</td>\n",
       "      <td>21460.0</td>\n",
       "      <td>0.016836</td>\n",
       "    </tr>\n",
       "    <tr>\n",
       "      <th>WY</th>\n",
       "      <td>0.238176</td>\n",
       "      <td>0.217767</td>\n",
       "      <td>0.007829</td>\n",
       "      <td>0.007249</td>\n",
       "      <td>2960.0</td>\n",
       "      <td>3242.0</td>\n",
       "      <td>6202.0</td>\n",
       "      <td>-0.020409</td>\n",
       "    </tr>\n",
       "  </tbody>\n",
       "</table>\n",
       "</div>"
      ],
      "text/plain": [
       "METHOD           Caesarratio           Stddevratio                 TOT  \\\n",
       "SEX                        F         M           F         M         F   \n",
       "STATEOFRESIDENCE                                                         \n",
       "AK                  0.207211  0.217078    0.005834  0.005750    4826.0   \n",
       "AL                  0.282128  0.307272    0.002665  0.002670   28519.0   \n",
       "AR                  0.284248  0.304380    0.003359  0.003331   18030.0   \n",
       "AZ                  0.213358  0.226208    0.001940  0.001942   44573.0   \n",
       "CA                  0.269124  0.287465    0.000863  0.000859  264358.0   \n",
       "CO                  0.215299  0.230325    0.002234  0.002230   33846.0   \n",
       "CT                  0.263607  0.278428    0.003026  0.003002   21202.0   \n",
       "DC                  0.289920  0.308390    0.005372  0.005334    7133.0   \n",
       "DE                  0.280201  0.294022    0.005817  0.005807    5960.0   \n",
       "FL                  0.294724  0.315357    0.001419  0.001407  103239.0   \n",
       "GA                  0.262620  0.278580    0.001697  0.001695   67234.0   \n",
       "HI                  0.214542  0.221273    0.004417  0.004262    8637.0   \n",
       "IA                  0.243609  0.255994    0.003133  0.003117   18776.0   \n",
       "ID                  0.195782  0.217068    0.003894  0.003951   10384.0   \n",
       "IL                  0.243838  0.263361    0.001454  0.001454   87226.0   \n",
       "IN                  0.248401  0.258732    0.002103  0.002075   42214.0   \n",
       "KS                  0.255369  0.276095    0.003103  0.003117   19744.0   \n",
       "KY                  0.284681  0.304723    0.002792  0.002791   26131.0   \n",
       "LA                  0.307384  0.327938    0.002583  0.002570   31908.0   \n",
       "MA                  0.278653  0.306856    0.002253  0.002261   39612.0   \n",
       "MD                  0.266727  0.293548    0.002387  0.002386   34316.0   \n",
       "ME                  0.248750  0.277329    0.005321  0.005331    6601.0   \n",
       "MI                  0.254516  0.270355    0.001732  0.001721   63226.0   \n",
       "MN                  0.223390  0.237875    0.002256  0.002248   34075.0   \n",
       "MO                  0.264141  0.282426    0.002263  0.002254   37938.0   \n",
       "MS                  0.315547  0.323602    0.003273  0.003221   20165.0   \n",
       "MT                  0.234358  0.239725    0.005664  0.005598    5594.0   \n",
       "NC                  0.264347  0.280392    0.001834  0.001816   57799.0   \n",
       "ND                  0.228181  0.240935    0.006184  0.006321    4606.0   \n",
       "NE                  0.268939  0.286842    0.003943  0.003903   12646.0   \n",
       "NH                  0.237246  0.264530    0.005143  0.005264    6841.0   \n",
       "NJ                  0.315148  0.338806    0.001971  0.001961   55577.0   \n",
       "NM                  0.189119  0.206464    0.003378  0.003446   13436.0   \n",
       "NV                  0.261731  0.283168    0.003454  0.003456   16196.0   \n",
       "NY                  0.273825  0.292645    0.001265  0.001259  124185.0   \n",
       "OH                  0.242151  0.254791    0.001585  0.001572   73033.0   \n",
       "OK                  0.275293  0.302420    0.002871  0.002870   24196.0   \n",
       "OR                  0.242461  0.257557    0.002833  0.002826   22882.0   \n",
       "PA                  0.251343  0.269492    0.001627  0.001629   71122.0   \n",
       "RI                  0.274203  0.289225    0.005444  0.005388    6714.0   \n",
       "SC                  0.284684  0.306055    0.002787  0.002797   26208.0   \n",
       "SD                  0.254121  0.260524    0.005766  0.005765    5702.0   \n",
       "TN                  0.277687  0.295089    0.002209  0.002202   41093.0   \n",
       "TX                  0.288606  0.304129    0.001047  0.001041  187463.0   \n",
       "UT                  0.185364  0.196981    0.002458  0.002465   24994.0   \n",
       "VA                  0.274202  0.288761    0.002028  0.002017   48406.0   \n",
       "VT                  0.211674  0.245329    0.007482  0.007530    2981.0   \n",
       "WA                  0.243947  0.263807    0.002173  0.002186   39070.0   \n",
       "WI                  0.211014  0.224356    0.002221  0.002226   33756.0   \n",
       "WV                  0.305282  0.322118    0.004521  0.004438   10374.0   \n",
       "WY                  0.238176  0.217767    0.007829  0.007249    2960.0   \n",
       "\n",
       "METHOD                         TOTAL RATIODIFF  \n",
       "SEX                      M                      \n",
       "STATEOFRESIDENCE                                \n",
       "AK                  5141.0    9967.0  0.009867  \n",
       "AL                 29853.0   58372.0  0.025145  \n",
       "AR                 19088.0   37118.0  0.020131  \n",
       "AZ                 46413.0   90986.0  0.012850  \n",
       "CA                277397.0  541755.0  0.018342  \n",
       "CO                 35641.0   69487.0  0.015026  \n",
       "CT                 22293.0   43495.0  0.014821  \n",
       "DC                  7497.0   14630.0  0.018470  \n",
       "DE                  6156.0   12116.0  0.013821  \n",
       "FL                108994.0  212233.0  0.020633  \n",
       "GA                 69980.0  137214.0  0.015959  \n",
       "HI                  9486.0   18123.0  0.006731  \n",
       "IA                 19602.0   38378.0  0.012385  \n",
       "ID                 10886.0   21270.0  0.021286  \n",
       "IL                 91760.0  178986.0  0.019523  \n",
       "IN                 44548.0   86762.0  0.010331  \n",
       "KS                 20569.0   40313.0  0.020726  \n",
       "KY                 27205.0   53336.0  0.020042  \n",
       "LA                 33363.0   65271.0  0.020554  \n",
       "MA                 41596.0   81208.0  0.028203  \n",
       "MD                 36437.0   70753.0  0.026821  \n",
       "ME                  7053.0   13654.0  0.028579  \n",
       "MI                 66568.0  129794.0  0.015840  \n",
       "MN                 35876.0   69951.0  0.014485  \n",
       "MO                 39883.0   77821.0  0.018285  \n",
       "MS                 21100.0   41265.0  0.008055  \n",
       "MT                  5815.0   11409.0  0.005367  \n",
       "NC                 61150.0  118949.0  0.016045  \n",
       "ND                  4578.0    9184.0  0.012754  \n",
       "NE                 13429.0   26075.0  0.017903  \n",
       "NH                  7020.0   13861.0  0.027284  \n",
       "NJ                 58234.0  113811.0  0.023657  \n",
       "NM                 13799.0   27235.0  0.017345  \n",
       "NV                 16997.0   33193.0  0.021436  \n",
       "NY                130530.0  254715.0  0.018820  \n",
       "OH                 76859.0  149892.0  0.012640  \n",
       "OK                 25620.0   49816.0  0.027127  \n",
       "OR                 23952.0   46834.0  0.015095  \n",
       "PA                 74221.0  145343.0  0.018150  \n",
       "RI                  7081.0   13795.0  0.015022  \n",
       "SC                 27152.0   53360.0  0.021371  \n",
       "SD                  5796.0   11498.0  0.006403  \n",
       "TN                 42882.0   83975.0  0.017402  \n",
       "TX                195407.0  382870.0  0.015523  \n",
       "UT                 26033.0   51027.0  0.011616  \n",
       "VA                 50502.0   98908.0  0.014559  \n",
       "VT                  3265.0    6246.0  0.033655  \n",
       "WA                 40632.0   79702.0  0.019860  \n",
       "WI                 35105.0   68861.0  0.013341  \n",
       "WV                 11086.0   21460.0  0.016836  \n",
       "WY                  3242.0    6202.0 -0.020409  "
      ]
     },
     "execution_count": 41,
     "metadata": {},
     "output_type": "execute_result"
    }
   ],
   "source": [
    "# This looks funny.. The dots come in pairs.  I ought to plot the difference \n",
    "\n",
    "flat_state_sex_method = state_sex_method.pivot_table(index=\"STATEOFRESIDENCE\", columns=\"SEX\", values=[\"Caesarratio\", \"TOT\", \"Stddevratio\"])\n",
    "flat_state_sex_method[\"TOTAL\"] =flat_state_sex_method[\"TOT\"][\"M\"]+flat_state_sex_method[\"TOT\"][\"F\"]\n",
    "flat_state_sex_method[\"RATIODIFF\"] =flat_state_sex_method[\"Caesarratio\"][\"M\"]-flat_state_sex_method[\"Caesarratio\"][\"F\"]\n",
    "\n",
    "flat_state_sex_method"
   ]
  },
  {
   "cell_type": "code",
   "execution_count": 42,
   "metadata": {},
   "outputs": [
    {
     "data": {
      "text/plain": [
       "<ErrorbarContainer object of 3 artists>"
      ]
     },
     "execution_count": 42,
     "metadata": {},
     "output_type": "execute_result"
    },
    {
     "data": {
      "image/png": "[encoded data removed]",
      "text/plain": [
       "<Figure size 432x288 with 1 Axes>"
      ]
     },
     "metadata": {
      "needs_background": "light"
     },
     "output_type": "display_data"
    }
   ],
   "source": [
    "plt.errorbar(flat_state_sex_method[\"TOTAL\"], flat_state_sex_method.RATIODIFF, yerr =flat_state_sex_method.Stddevratio[\"M\"] )\n"
   ]
  },
  {
   "cell_type": "code",
   "execution_count": 43,
   "metadata": {},
   "outputs": [
    {
     "data": {
      "text/plain": [
       "Text(0.5, 1.0, 'Difference, male to female cesarian delivery rate')"
      ]
     },
     "execution_count": 43,
     "metadata": {},
     "output_type": "execute_result"
    },
    {
     "data": {
      "image/png": "[encoded data removed]",
      "text/plain": [
       "<Figure size 432x288 with 1 Axes>"
      ]
     },
     "metadata": {
      "needs_background": "light"
     },
     "output_type": "display_data"
    }
   ],
   "source": [
    "# Ah, turn off the connecting lines, please\n",
    "plt.errorbar(flat_state_sex_method[\"TOTAL\"]/1E6, flat_state_sex_method.RATIODIFF, \n",
    "             yerr =1.96* flat_state_sex_method.Stddevratio[\"M\"], fmt=\"o\" )\n",
    "plt.xlabel(\"number of births (millions)\")\n",
    "plt.title(\"Difference, male to female cesarian delivery rate\")\n"
   ]
  },
  {
   "cell_type": "code",
   "execution_count": 44,
   "metadata": {},
   "outputs": [],
   "source": [
    "# Ok, there is a definitive difference between the Caesarian delivery rates for \n",
    "# boys and girls.  This is analogous to the sex ratio statistic.. a small difference\n",
    "# that can be seen in large populations. \n",
    "\n",
    "# In fact, it is so much like the sex ratio statistic that I probably won't use it in class."
   ]
  },
  {
   "cell_type": "markdown",
   "metadata": {},
   "source": [
    "I have another question:  is there a weight difference between boys and girls at birth? "
   ]
  },
  {
   "cell_type": "code",
   "execution_count": 45,
   "metadata": {},
   "outputs": [
    {
     "data": {
      "text/plain": [
       "SEX\n",
       "F    3234.061310\n",
       "M    3345.402588\n",
       "Name: WEIGHTGRAMS, dtype: float64"
      ]
     },
     "execution_count": 45,
     "metadata": {},
     "output_type": "execute_result"
    }
   ],
   "source": [
    "bigdf.groupby([\"SEX\"]).WEIGHTGRAMS.mean()"
   ]
  },
  {
   "cell_type": "code",
   "execution_count": 46,
   "metadata": {},
   "outputs": [
    {
     "data": {
      "text/plain": [
       "SEX\n",
       "F    584.339256\n",
       "M    613.126075\n",
       "Name: WEIGHTGRAMS, dtype: float64"
      ]
     },
     "execution_count": 46,
     "metadata": {},
     "output_type": "execute_result"
    }
   ],
   "source": [
    "bigdf.groupby([\"SEX\"]).WEIGHTGRAMS.std()"
   ]
  },
  {
   "cell_type": "code",
   "execution_count": 47,
   "metadata": {},
   "outputs": [
    {
     "data": {
      "text/plain": [
       "SEX\n",
       "F    1997707\n",
       "M    2094772\n",
       "Name: WEIGHTGRAMS, dtype: int64"
      ]
     },
     "execution_count": 47,
     "metadata": {},
     "output_type": "execute_result"
    }
   ],
   "source": [
    "bigdf.groupby([\"SEX\"]).WEIGHTGRAMS.count()"
   ]
  },
  {
   "cell_type": "code",
   "execution_count": 48,
   "metadata": {},
   "outputs": [
    {
     "data": {
      "text/plain": [
       "4092479"
      ]
     },
     "execution_count": 48,
     "metadata": {},
     "output_type": "execute_result"
    }
   ],
   "source": [
    "1997707+2094772"
   ]
  },
  {
   "cell_type": "code",
   "execution_count": 49,
   "metadata": {},
   "outputs": [],
   "source": [
    "# Let's stare at this for a moment.  \n",
    "# We have a population, the population mean and standard deviation for the \n",
    "# birth weight statistic.\n",
    "# Is there sexual dimorphism here?  "
   ]
  },
  {
   "cell_type": "code",
   "execution_count": 50,
   "metadata": {},
   "outputs": [
    {
     "data": {
      "text/plain": [
       "28.789999999999964"
      ]
     },
     "execution_count": 50,
     "metadata": {},
     "output_type": "execute_result"
    }
   ],
   "source": [
    "# If there is, it's pretty small \n",
    "613.12 - 584.33\n",
    "# 29 grams? "
   ]
  },
  {
   "cell_type": "code",
   "execution_count": 51,
   "metadata": {},
   "outputs": [
    {
     "data": {
      "text/plain": [
       "601.8256864847954"
      ]
     },
     "execution_count": 51,
     "metadata": {},
     "output_type": "execute_result"
    }
   ],
   "source": [
    "# overall standard deviation birth weights \n",
    "bigdf.WEIGHTGRAMS.std()"
   ]
  },
  {
   "cell_type": "code",
   "execution_count": 52,
   "metadata": {},
   "outputs": [],
   "source": [
    "# 29 grams, that's one twentieth of a standard deviation and less than 1% of weight.  "
   ]
  },
  {
   "cell_type": "code",
   "execution_count": 53,
   "metadata": {},
   "outputs": [],
   "source": [
    "# So, would sampling uncertainty do this? "
   ]
  },
  {
   "cell_type": "markdown",
   "metadata": {},
   "source": [
    "Calculate standard error of the mean (population standard deviation is known here):\n",
    "\n",
    "$$ SEM = \\sqrt{ \\sigma \\over N } = \\sqrt{ (601.8g)^2 \\over 4.09\\times 10^6}  $$"
   ]
  },
  {
   "cell_type": "code",
   "execution_count": 54,
   "metadata": {},
   "outputs": [
    {
     "data": {
      "text/plain": [
       "0.2975709485780707"
      ]
     },
     "execution_count": 54,
     "metadata": {},
     "output_type": "execute_result"
    }
   ],
   "source": [
    "601.8 / np.sqrt(4.09E6)"
   ]
  },
  {
   "cell_type": "markdown",
   "metadata": {},
   "source": [
    "Yikes.  With a population census of 4 million births, I could expect to see a difference \n",
    "in means of six tenths of a gram, 1/1000 of a standard deviation, between groups. \n",
    "\n",
    "How large does my sample need to be before a difference of 29 grams on a 601 gram standard deviation will become evident?  \n",
    "\n",
    "\n",
    "$$ d  = 1.96 \\sqrt{ \\sigma \\over N } $$\n",
    "$$ N = (601.8g)^{2} ({1.96 \\over 29g})^2  $$"
   ]
  },
  {
   "cell_type": "code",
   "execution_count": 55,
   "metadata": {},
   "outputs": [
    {
     "data": {
      "text/plain": [
       "1654.3237845231863"
      ]
     },
     "execution_count": 55,
     "metadata": {},
     "output_type": "execute_result"
    }
   ],
   "source": [
    "601.8**2 * 1.96**2 / 29**2"
   ]
  },
  {
   "cell_type": "code",
   "execution_count": 56,
   "metadata": {},
   "outputs": [],
   "source": [
    "# Well that's more like it.  \n",
    "# If we assume the differences are what we saw in the (one-year) census data,\n",
    "# this is an effect large enough for Northwestern University to see in a year (12,000 births),\n",
    "# but too small for U of C hospitals (1,600 births)\n"
   ]
  },
  {
   "cell_type": "markdown",
   "metadata": {},
   "source": [
    "Statistical significance depends on the relationship between effect size and \n",
    "sample size.  The CDC birth census shows us that if you have 4 million births, \n",
    "you can see even small differences in a statistic between groups.  (Thanks, \n",
    "Central Limit Theorem.)"
   ]
  },
  {
   "cell_type": "code",
   "execution_count": 57,
   "metadata": {},
   "outputs": [
    {
     "data": {
      "text/plain": [
       "TOBACCOUSE\n",
       "      225045\n",
       "1     354977\n",
       "2    2957136\n",
       "9     555321\n",
       "Name: WEIGHTGRAMS, dtype: int64"
      ]
     },
     "execution_count": 57,
     "metadata": {},
     "output_type": "execute_result"
    }
   ],
   "source": [
    "bigdf.groupby([\"TOBACCOUSE\"]).WEIGHTGRAMS.count()"
   ]
  },
  {
   "cell_type": "code",
   "execution_count": 58,
   "metadata": {},
   "outputs": [
    {
     "data": {
      "text/plain": [
       "0.10717538924547562"
      ]
     },
     "execution_count": 58,
     "metadata": {},
     "output_type": "execute_result"
    }
   ],
   "source": [
    " 354977/(2957136+ 354977)   # smoker / nonsmoker "
   ]
  },
  {
   "cell_type": "code",
   "execution_count": 59,
   "metadata": {},
   "outputs": [
    {
     "data": {
      "text/plain": [
       "TOBACCOUSE\n",
       "     3333.717408\n",
       "1    3105.684571\n",
       "2    3302.983319\n",
       "9    3328.721012\n",
       "Name: WEIGHTGRAMS, dtype: float64"
      ]
     },
     "execution_count": 59,
     "metadata": {},
     "output_type": "execute_result"
    }
   ],
   "source": [
    "bigdf.groupby([\"TOBACCOUSE\"]).WEIGHTGRAMS.mean()"
   ]
  },
  {
   "cell_type": "code",
   "execution_count": 60,
   "metadata": {},
   "outputs": [
    {
     "data": {
      "text/plain": [
       "197.30000000000018"
      ]
     },
     "execution_count": 60,
     "metadata": {},
     "output_type": "execute_result"
    }
   ],
   "source": [
    "# 1 = TOBACCO yes\n",
    "# 2 = TOBACCO no\n",
    "3302.98- 3105.68\n",
    "# 200-gram difference in means!\n",
    "# How large a sample... "
   ]
  },
  {
   "cell_type": "code",
   "execution_count": 61,
   "metadata": {},
   "outputs": [
    {
     "data": {
      "text/plain": [
       "35.740641148767345"
      ]
     },
     "execution_count": 61,
     "metadata": {},
     "output_type": "execute_result"
    }
   ],
   "source": [
    "601.8**2 * 1.96**2 /197.3**2"
   ]
  },
  {
   "cell_type": "code",
   "execution_count": 62,
   "metadata": {},
   "outputs": [],
   "source": [
    "# This is a huge effect, one third of a standard deviation.\n",
    "# An effect so large I will probably see it in a sample of 36 smokers! "
   ]
  },
  {
   "cell_type": "code",
   "execution_count": 63,
   "metadata": {},
   "outputs": [
    {
     "data": {
      "text/plain": [
       "<AxesSubplot:xlabel='SEX'>"
      ]
     },
     "execution_count": 63,
     "metadata": {},
     "output_type": "execute_result"
    },
    {
     "data": {
      "image/png": "[encoded data removed]",
      "text/plain": [
       "<Figure size 432x288 with 1 Axes>"
      ]
     },
     "metadata": {
      "needs_background": "light"
     },
     "output_type": "display_data"
    }
   ],
   "source": [
    "# If I want a stacked bar in one step:\n",
    "# https://stackoverflow.com/questions/34917727/stacked-bar-plot-by-grouped-data-with-pandas\n",
    "# df.groupby(['feature1', 'feature2']).size().unstack().plot(kind='bar', stacked=True)\n",
    "df.groupby([\"SEX\", \"DAYOFWEEK\"]).MATERNALAGE.count().unstack().plot(kind='bar', stacked=True)"
   ]
  },
  {
   "cell_type": "code",
   "execution_count": 67,
   "metadata": {},
   "outputs": [
    {
     "data": {
      "text/plain": [
       "<AxesSubplot:xlabel='DAYOFWEEK'>"
      ]
     },
     "execution_count": 67,
     "metadata": {},
     "output_type": "execute_result"
    },
    {
     "data": {
      "image/png": "[encoded data removed]",
      "text/plain": [
       "<Figure size 432x288 with 1 Axes>"
      ]
     },
     "metadata": {
      "needs_background": "light"
     },
     "output_type": "display_data"
    }
   ],
   "source": [
    "# Well that's not useful.\n",
    "\n",
    "bigdf.groupby([ \"DAYOFWEEK\",\"SEX\"]).MATERNALAGE.count().unstack().plot(kind='bar', stacked=True)"
   ]
  },
  {
   "cell_type": "code",
   "execution_count": 68,
   "metadata": {},
   "outputs": [
    {
     "data": {
      "text/plain": [
       "<AxesSubplot:xlabel='DAYOFWEEK'>"
      ]
     },
     "execution_count": 68,
     "metadata": {},
     "output_type": "execute_result"
    },
    {
     "data": {
      "image/png": "[encoded data removed]",
      "text/plain": [
       "<Figure size 432x288 with 1 Axes>"
      ]
     },
     "metadata": {
      "needs_background": "light"
     },
     "output_type": "display_data"
    }
   ],
   "source": [
    "bigdf.groupby([ \"DAYOFWEEK\",\"METHOD\"]).MATERNALAGE.count().unstack().plot(kind='bar', stacked=True)"
   ]
  },
  {
   "cell_type": "code",
   "execution_count": null,
   "metadata": {},
   "outputs": [],
   "source": [
    "# I suspect there is a (detectable) sex-by-day-of-the-week effect, but\n",
    "# have not chased it down yet.\n"
   ]
  }
 ],
 "metadata": {
  "kernelspec": {
   "display_name": "Python 3 (ipykernel)",
   "language": "python",
   "name": "python3"
  },
  "language_info": {
   "codemirror_mode": {
    "name": "ipython",
    "version": 3
   },
   "file_extension": ".py",
   "mimetype": "text/x-python",
   "name": "python",
   "nbconvert_exporter": "python",
   "pygments_lexer": "ipython3",
   "version": "3.9.12"
  }
 },
 "nbformat": 4,
 "nbformat_minor": 4
}
