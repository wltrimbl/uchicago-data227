{
 "cells": [
  {
   "cell_type": "markdown",
   "metadata": {},
   "source": [
    "![Control panel at Three Mile Island generating station](controlroomTMI.jpg \"The Control Panel\")"
   ]
  },
  {
   "cell_type": "markdown",
   "metadata": {},
   "source": [
    "## Basic plotting: bar charts and histograms with altair, matplotlib, and plotnine"
   ]
  },
  {
   "cell_type": "markdown",
   "metadata": {},
   "source": [
    "ipython has \"magic\" commands, %pwd, %cd, which are intended to make life easier for humans, like showing our directory and letting us change directory."
   ]
  },
  {
   "cell_type": "code",
   "execution_count": null,
   "metadata": {},
   "outputs": [],
   "source": [
    "# Let us first handle the preliminary imports\n",
    "import pandas as pd\n",
    "import altair as alt\n",
    "import plotnine as p9"
   ]
  },
  {
   "cell_type": "markdown",
   "metadata": {},
   "source": [
    "Note: you can import all of the functions\n",
    "defined in a module with \n",
    "    from pandas import *\n",
    "This means less typing (good for interactive programming)\n",
    "but also obscures which code comes from which library."
   ]
  },
  {
   "cell_type": "code",
   "execution_count": null,
   "metadata": {},
   "outputs": [],
   "source": [
    "rainfall = pd.read_csv(\"../data/cities.csv\",delimiter=\"\\t\")"
   ]
  },
  {
   "cell_type": "code",
   "execution_count": null,
   "metadata": {},
   "outputs": [],
   "source": [
    "head(rainfall)"
   ]
  },
  {
   "cell_type": "markdown",
   "metadata": {},
   "source": [
    "Sorry about that, `.head()` is a method that belongs to pandas data frames, not a function in the global namespace. I have to call `df.head()`"
   ]
  },
  {
   "cell_type": "code",
   "execution_count": null,
   "metadata": {},
   "outputs": [],
   "source": [
    "rainfall.head()"
   ]
  },
  {
   "cell_type": "code",
   "execution_count": null,
   "metadata": {},
   "outputs": [],
   "source": [
    "rainfall.shape"
   ]
  },
  {
   "cell_type": "code",
   "execution_count": null,
   "metadata": {},
   "outputs": [],
   "source": [
    "# Let's just quick check what data types this has:\n",
    "print(rainfall[\"Days\"].dtype)\n",
    "print(rainfall[\"City, State\"].dtype)\n",
    "print(rainfall[\"Inches\"].dtype)\n",
    "print(rainfall[\"Milimeters\"].dtype)"
   ]
  },
  {
   "cell_type": "code",
   "execution_count": null,
   "metadata": {},
   "outputs": [],
   "source": [
    "rainfall.dtypes"
   ]
  },
  {
   "cell_type": "code",
   "execution_count": null,
   "metadata": {},
   "outputs": [],
   "source": [
    "# I can add a new column that is easier to type:\n",
    "rainfall[\"City\"] = rainfall[\"City, State\"]\n",
    "rainfall"
   ]
  },
  {
   "cell_type": "code",
   "execution_count": null,
   "metadata": {},
   "outputs": [],
   "source": [
    "rainfall.City.values"
   ]
  },
  {
   "cell_type": "code",
   "execution_count": null,
   "metadata": {},
   "outputs": [],
   "source": [
    "# basic, altair-defaults bar chart:\n",
    "alt.Chart(rainfall).mark_bar().encode(\n",
    "    alt.X(\"City\"), \n",
    "    alt.Y(\"Milimeters\"))"
   ]
  },
  {
   "cell_type": "code",
   "execution_count": null,
   "metadata": {},
   "outputs": [],
   "source": [
    "# basic, altair-defaults bar chart:\n",
    "alt.Chart(rainfall).mark_bar(\n",
    ").encode(\n",
    "    alt.X(\"City:N\"), \n",
    "    alt.Y(\"Milimeters:Q\"))"
   ]
  },
  {
   "cell_type": "code",
   "execution_count": null,
   "metadata": {},
   "outputs": [],
   "source": [
    "# basic, altair-defaults dot chart:\n",
    "alt.Chart(rainfall).mark_point(\n",
    ").encode(alt.X(\"City:N\"), \n",
    "         alt.Y(\"Milimeters:Q\"))"
   ]
  },
  {
   "cell_type": "code",
   "execution_count": null,
   "metadata": {},
   "outputs": [],
   "source": [
    "# basic, altair-defaults line chart:\n",
    "alt.Chart(rainfall).mark_line(\n",
    ").encode(alt.X(\"City:N\"), \n",
    "         alt.Y(\"Milimeters:Q\"))"
   ]
  },
  {
   "cell_type": "code",
   "execution_count": null,
   "metadata": {},
   "outputs": [],
   "source": [
    "# We can put the city names in y, where they are easier to read:\n",
    "alt.Chart(rainfall).mark_bar().encode(\n",
    "    alt.Y(\"City:N\"), \n",
    "    alt.X(\"Milimeters:Q\"))"
   ]
  },
  {
   "cell_type": "code",
   "execution_count": null,
   "metadata": {},
   "outputs": [],
   "source": [
    "# Can I sort my data?  \n",
    "alt.Chart(rainfall.sort_values(\"Milimeters\")).mark_bar().encode(\n",
    "    alt.Y(\"City:N\"), \n",
    "    alt.X(\"Milimeters:Q\", sort=\"ascending\"))"
   ]
  },
  {
   "cell_type": "code",
   "execution_count": null,
   "metadata": {},
   "outputs": [],
   "source": [
    "# Well, what I want is Y (City) sorted by values in \n",
    "# X (Milimeters)... \n",
    "alt.Chart(rainfall).mark_bar().encode(\n",
    "    alt.Y(\"City:N\", sort=alt.Sort(field=\"Milimeters\")), \n",
    "    alt.X(\"Milimeters:Q\", sort=\"ascending\"))"
   ]
  },
  {
   "cell_type": "code",
   "execution_count": null,
   "metadata": {
    "tags": []
   },
   "outputs": [],
   "source": []
  },
  {
   "cell_type": "code",
   "execution_count": null,
   "metadata": {},
   "outputs": [],
   "source": []
  },
  {
   "cell_type": "markdown",
   "metadata": {},
   "source": [
    "Note, the syntax here (the precise magical incantation to cause the sorting) is *not* at all obvious.  We have to look this up in the altair documentation: \n",
    "https://altair-viz.github.io/user_guide/generated/channels/altair.X.html\n",
    "\n",
    "We can reverse the order by making the \"sort\" argument to alt.Y a more complex alt.Sort object instead of just a field name:"
   ]
  },
  {
   "cell_type": "code",
   "execution_count": null,
   "metadata": {},
   "outputs": [],
   "source": []
  },
  {
   "cell_type": "code",
   "execution_count": null,
   "metadata": {},
   "outputs": [],
   "source": [
    "alt.Chart(rainfall).mark_bar(\n",
    ").encode(\n",
    "    alt.Y(\"City:N\", sort=alt.Sort(field=\"Milimeters\", \n",
    "                                  order=\"descending\")), \n",
    "    alt.X(\"Milimeters:Q\"))"
   ]
  },
  {
   "cell_type": "markdown",
   "metadata": {},
   "source": [
    "Search-engine \"altair font size\"... https://stackoverflow.com/questions/53401693/how-do-you-set-axis-fontsize-in-altair ... postpend this\n",
    "\n",
    "    .configure_axis(\n",
    "    labelFontSize=20,\n",
    "    titleFontSize=20\n",
    "    )\n",
    "    \n",
    "And `Chart` takes a title option... "
   ]
  },
  {
   "cell_type": "code",
   "execution_count": null,
   "metadata": {},
   "outputs": [],
   "source": [
    "alt.Chart(rainfall, title=[\"Some rainfall\", \"in some places\"]).mark_bar(\n",
    ").encode(\n",
    "    alt.Y(\"City:N\", sort=alt.Sort(field=\"Milimeters\", \n",
    "                                  order=\"descending\")), \n",
    "    alt.X(\"Milimeters:Q\"))    .configure_axis(\n",
    "    labelFontSize=20,\n",
    "    titleFontSize=20\n",
    "    )"
   ]
  },
  {
   "cell_type": "markdown",
   "metadata": {},
   "source": [
    "The title font size is now a bit small.. \n",
    "https://stackoverflow.com/questions/54855337/increase-font-size-of-chart-title-in-altair?rq=3\n",
    "\n",
    "    .configure_title(fontSize=24)"
   ]
  },
  {
   "cell_type": "code",
   "execution_count": null,
   "metadata": {},
   "outputs": [],
   "source": [
    "alt.Chart(rainfall, title=[\"Some rainfall\", \"in some places\"]).mark_bar(\n",
    ").encode(\n",
    "    alt.Y(\"City:N\", sort=alt.Sort(field=\"Milimeters\", \n",
    "                                  order=\"descending\")), \n",
    "    alt.X(\"Milimeters:Q\"))    .configure_axis(\n",
    "    labelFontSize=20,\n",
    "    titleFontSize=20\n",
    "    )    .configure_title(fontSize=24)"
   ]
  },
  {
   "cell_type": "code",
   "execution_count": null,
   "metadata": {},
   "outputs": [],
   "source": [
    "# change the font"
   ]
  },
  {
   "cell_type": "markdown",
   "metadata": {},
   "source": [
    "https://stackoverflow.com/questions/73338942/how-to-install-a-new-font-in-altair-and-specifying-it-in-alt-titleparams\n",
    " \n",
    "    title=alt.TitleParams(\n",
    "        text='Example Chart',\n",
    "        fontSize=24,\n",
    "        fontStyle='italic',\n",
    "        font='Times'\n",
    "    )"
   ]
  },
  {
   "cell_type": "code",
   "execution_count": null,
   "metadata": {},
   "outputs": [],
   "source": [
    "alt.Chart(rainfall, title=alt.TitleParams(\n",
    "        text='Some rainfall',\n",
    "        fontSize=24,\n",
    "        font='Times'\n",
    "    )).mark_bar(\n",
    ").encode(\n",
    "    alt.Y(\"City:N\", sort=alt.Sort(field=\"Milimeters\", \n",
    "                                  order=\"descending\")), \n",
    "    alt.X(\"Milimeters:Q\"))    .configure_axis(\n",
    "    labelFontSize=20,\n",
    "    titleFontSize=20\n",
    "    )    .configure_title(fontSize=24)"
   ]
  },
  {
   "cell_type": "code",
   "execution_count": null,
   "metadata": {},
   "outputs": [],
   "source": [
    "#  Aaand we can get serif fonts on the axes if we \n",
    "# add arguments to configure_axis too.\n",
    "alt.Chart(rainfall, title=alt.TitleParams(\n",
    "        text='Some rainfall',\n",
    "        fontSize=24,\n",
    "        font='Times'\n",
    "    )).mark_bar(\n",
    ").encode(\n",
    "    alt.Y(\"City:N\", sort=alt.Sort(field=\"Milimeters\", \n",
    "                                  order=\"descending\")), \n",
    "    alt.X(\"Milimeters:Q\"))    .configure_axis(\n",
    "    labelFontSize=20,\n",
    "    labelFont='Times',\n",
    "    titleFontSize=20,\n",
    "    titleFont='Times'\n",
    "    )    .configure_title(fontSize=24)"
   ]
  },
  {
   "cell_type": "markdown",
   "metadata": {},
   "source": [
    "That was altair.   \n",
    "\n",
    "Now what do we remember about the matplotlib API...\n",
    "we can generate plots three ways:\n",
    "* data.plot()\n",
    "* plt.plot(data)\n",
    "* fig,ax = plt.subplot()  \n",
    "* *  ax.plot(data)"
   ]
  },
  {
   "cell_type": "code",
   "execution_count": null,
   "metadata": {},
   "outputs": [],
   "source": [
    "import matplotlib.pyplot as plt"
   ]
  },
  {
   "cell_type": "code",
   "execution_count": null,
   "metadata": {},
   "outputs": [],
   "source": [
    "fig, ax = plt.subplots()\n",
    "(type(fig), type(ax))"
   ]
  },
  {
   "cell_type": "code",
   "execution_count": null,
   "metadata": {},
   "outputs": [],
   "source": [
    "# Two different ways to set the max and min of x axis:\n",
    "plt.xlim([1920 , 2040])\n",
    "ax.set_xlim([1920 , 2040])"
   ]
  },
  {
   "cell_type": "code",
   "execution_count": null,
   "metadata": {},
   "outputs": [],
   "source": [
    "plt.bar(rainfall[\"City\"], rainfall[\"Milimeters\"])"
   ]
  },
  {
   "cell_type": "code",
   "execution_count": null,
   "metadata": {
    "jupyter": {
     "outputs_hidden": true
    },
    "tags": []
   },
   "outputs": [],
   "source": [
    "# This is not acceptable.  Perhaps the documentation will help?\n",
    "plt.bar?"
   ]
  },
  {
   "cell_type": "code",
   "execution_count": null,
   "metadata": {},
   "outputs": [],
   "source": [
    "# This doesn't help.  But a quick search reveals the solution:\n",
    "plt.bar(rainfall[\"City\"], rainfall[\"Milimeters\"])\n",
    "plt.xticks(rotation=90)\n",
    "1\n",
    "# I was able to use this only because xticks() is exposed in the plt interface."
   ]
  },
  {
   "cell_type": "code",
   "execution_count": null,
   "metadata": {},
   "outputs": [],
   "source": [
    "plt.bar(rainfall[\"City\"], rainfall[\"Milimeters\"])\n",
    "plt.xticks(rotation=90)\n",
    "plt.ylabel(\"Annual rainfall, mm\")\n",
    "plt.title(\"The rain falls on the plains, just less of it\")\n",
    "1"
   ]
  },
  {
   "cell_type": "code",
   "execution_count": null,
   "metadata": {},
   "outputs": [],
   "source": [
    "print(len(rainfall))\n",
    "rainfall.head()"
   ]
  },
  {
   "cell_type": "code",
   "execution_count": null,
   "metadata": {},
   "outputs": [],
   "source": [
    "# matplotlib wants me to sort my data first\n",
    "rainfallsorted =rainfall.sort_values(by = \"Milimeters\")\n",
    "rainfallsorted"
   ]
  },
  {
   "cell_type": "code",
   "execution_count": null,
   "metadata": {},
   "outputs": [],
   "source": [
    "plt.bar(rainfallsorted[\"City\"], rainfallsorted[\"Milimeters\"])\n",
    "plt.xticks(rotation=90)\n",
    "plt.ylabel(\"Annual rainfall, mm\")\n",
    "plt.title(\"The rain falls on the plains, just less of it [MATPLOTLIB]\")\n",
    "1"
   ]
  },
  {
   "cell_type": "code",
   "execution_count": null,
   "metadata": {},
   "outputs": [],
   "source": [
    "# But this is chopping off the labels..\n",
    "# The following incantation causes an automatic\n",
    "# adjustment of the margins in light of the size of the text:\n",
    "from matplotlib import rcParams\n",
    "rcParams.update({'figure.autolayout': True})\n",
    "\n",
    "plt.barh(rainfallsorted[\"City\"], rainfallsorted[\"Milimeters\"])\n",
    "plt.xticks(rotation=90, fontsize=20)\n",
    "plt.ylabel(\"Annual rainfall, mm\", fontsize=20)\n",
    "plt.title(\"The rain falls on the plains,\\n just less of it [MATPLOTLIB]\", fontsize=24)\n",
    "1"
   ]
  },
  {
   "cell_type": "code",
   "execution_count": null,
   "metadata": {},
   "outputs": [],
   "source": [
    "# I can do the same horizontally:\n",
    "# plt.barh(y_axis,x_axis)\n",
    "plt.barh(rainfallsorted[\"City\"], rainfallsorted[\"Milimeters\"])\n",
    "plt.xticks(rotation=90, fontsize=20)\n",
    "plt.ylabel(\"Annual rainfall, mm\", fontsize=20)\n",
    "plt.title(\"The rain falls on the plains\\njust less of it [MATPLOTLIB]\", \n",
    "         fontsize=24)\n",
    "1"
   ]
  },
  {
   "cell_type": "code",
   "execution_count": null,
   "metadata": {},
   "outputs": [],
   "source": [
    "import plotnine as p9"
   ]
  },
  {
   "cell_type": "code",
   "execution_count": null,
   "metadata": {},
   "outputs": [],
   "source": [
    "#  p9.ggplot(data=surveys_complete, mapping=p9.aes(x='factor(year)')) + p9.geom_bar()    \n",
    "\n",
    "p9.ggplot(\n",
    "    data=rainfall, \n",
    "    mapping=p9.aes(x=\"City\", y=\"Milimeters\")\n",
    "     ) + p9.geom_bar(stat=\"identity\")"
   ]
  },
  {
   "cell_type": "markdown",
   "metadata": {},
   "source": [
    "Search engine interlude.  \"plotnine rotate x axis labels\"\n",
    "https://stackoverflow.com/questions/47714540/plotnine-rotating-labels\n",
    "suggests adding \n",
    "\n",
    "   + p9.theme(axis_text_x=element_text(rotation=90, hjust=1))\n",
    "   \n",
    "to the figure:"
   ]
  },
  {
   "cell_type": "code",
   "execution_count": null,
   "metadata": {},
   "outputs": [],
   "source": []
  },
  {
   "cell_type": "code",
   "execution_count": null,
   "metadata": {},
   "outputs": [],
   "source": [
    "p9.ggplot(data=rainfall, mapping=p9.aes(x=\"City\", y=\"Milimeters\")) + p9.geom_bar(stat=\"identity\") + p9.theme_geom"
   ]
  },
  {
   "cell_type": "code",
   "execution_count": null,
   "metadata": {},
   "outputs": [],
   "source": [
    "from plotnine import  element_text\n",
    "p9.ggplot(\n",
    "    data=rainfall, \n",
    "    mapping=p9.aes(x=\"City\", y=\"Milimeters\")\n",
    "     ) + p9.geom_bar(\n",
    "    stat=\"identity\") + p9.theme(\n",
    "    axis_text_x=element_text(rotation=90, hjust=1))"
   ]
  },
  {
   "cell_type": "code",
   "execution_count": null,
   "metadata": {},
   "outputs": [],
   "source": [
    "# swap x and y\n",
    "p9.ggplot(data=rainfall, \n",
    "          mapping=p9.aes(x=\"City\", y=\"Milimeters\")\n",
    "         ) + p9.geom_bar(stat=\"identity\")+  p9.coord_flip()"
   ]
  },
  {
   "cell_type": "code",
   "execution_count": null,
   "metadata": {},
   "outputs": [],
   "source": [
    "p9.ggplot(data=rainfallsorted, \n",
    "          mapping=p9.aes(x=\"City\", y=\"Milimeters\")\n",
    "         ) + p9.geom_bar(stat=\"identity\") + p9.theme(axis_text_x = p9.element_text(angle = 90))"
   ]
  },
  {
   "cell_type": "code",
   "execution_count": null,
   "metadata": {},
   "outputs": [],
   "source": [
    "# The element_text will take \"size\" as an option, so\n",
    "# we can try to boost our font size.\n",
    "\n",
    "# And to generate a title we \"add\" p9.ggtitle()\n"
   ]
  },
  {
   "cell_type": "code",
   "execution_count": null,
   "metadata": {},
   "outputs": [],
   "source": [
    "from plotnine import theme\n",
    "p9.ggplot(data=rainfallsorted, \n",
    "          mapping=p9.aes(x=\"City\", y=\"Milimeters\")) + \\\n",
    "          p9.geom_bar(stat=\"identity\") + \\\n",
    "          p9.theme(axis_text_x = p9.element_text(angle = 90)) + \\\n",
    "          theme(text = element_text(size=20)) + \\\n",
    "          p9.ggtitle(\"The rain that falls [PLOTNINE]\")"
   ]
  },
  {
   "cell_type": "code",
   "execution_count": null,
   "metadata": {},
   "outputs": [],
   "source": [
    "# Seaborn is just a pretty wrapper for matplotlib:"
   ]
  },
  {
   "cell_type": "code",
   "execution_count": null,
   "metadata": {},
   "outputs": [],
   "source": [
    "import seaborn as sns"
   ]
  },
  {
   "cell_type": "code",
   "execution_count": null,
   "metadata": {},
   "outputs": [],
   "source": [
    "ax = sns.barplot(x=\"Milimeters\", y=\"City\", data=rainfall)"
   ]
  },
  {
   "cell_type": "markdown",
   "metadata": {},
   "source": [
    "Oh, my.  Well.  Surely there is a knob somewhere that changes the color scheme?"
   ]
  },
  {
   "cell_type": "code",
   "execution_count": null,
   "metadata": {},
   "outputs": [],
   "source": [
    "sns.set_theme(style=\"whitegrid\")\n",
    "ax = sns.barplot(x=\"Milimeters\", y=\"City\", data=rainfallsorted)"
   ]
  },
  {
   "cell_type": "code",
   "execution_count": null,
   "metadata": {},
   "outputs": [],
   "source": [
    "sns.set_style(\"dark\")\n",
    "ax = sns.barplot(x=\"Milimeters\", y=\"City\", data=rainfallsorted)"
   ]
  },
  {
   "cell_type": "code",
   "execution_count": null,
   "metadata": {},
   "outputs": [],
   "source": [
    "sns.set_style(\"darkgrid\")\n",
    "ax = sns.barplot(x=\"Milimeters\", y=\"City\", data=rainfallsorted)"
   ]
  },
  {
   "cell_type": "markdown",
   "metadata": {},
   "source": [
    "Ok, set_style is not going to get me out of pastel rainbow decorative bar colors."
   ]
  },
  {
   "cell_type": "code",
   "execution_count": null,
   "metadata": {},
   "outputs": [],
   "source": [
    "sns.color_palette(\"rocket\")\n",
    "ax = sns.barplot(x=\"Milimeters\", y=\"City\", data=rainfallsorted)"
   ]
  },
  {
   "cell_type": "code",
   "execution_count": null,
   "metadata": {},
   "outputs": [],
   "source": [
    "# That didn't do it either.\n",
    "ax = sns.barplot(x=\"Milimeters\", \n",
    "                 y=\"City\", \n",
    "                 data=rainfallsorted, \n",
    "                 palette=\"rocket\",\n",
    "              )\n",
    "plt.title(\"I hear the drizzle of the rain\", fontsize=24)"
   ]
  },
  {
   "cell_type": "code",
   "execution_count": null,
   "metadata": {},
   "outputs": [],
   "source": [
    "plt.title(\"Like a memory it falls\", fontsize=24)\n",
    "ax = sns.barplot(x=\"Milimeters\", \n",
    "                 y=\"City\", \n",
    "                 data=rainfallsorted, \n",
    "                 palette=\"Blues\")\n"
   ]
  }
 ],
 "metadata": {
  "kernelspec": {
   "display_name": "Python 3 (ipykernel)",
   "language": "python",
   "name": "python3"
  },
  "language_info": {
   "codemirror_mode": {
    "name": "ipython",
    "version": 3
   },
   "file_extension": ".py",
   "mimetype": "text/x-python",
   "name": "python",
   "nbconvert_exporter": "python",
   "pygments_lexer": "ipython3",
   "version": "3.11.5"
  }
 },
 "nbformat": 4,
 "nbformat_minor": 4
}
