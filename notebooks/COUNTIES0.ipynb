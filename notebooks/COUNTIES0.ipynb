{
 "cells": [
  {
   "cell_type": "code",
   "execution_count": 1,
   "metadata": {},
   "outputs": [],
   "source": [
    "# I want to fact-check the February 2021 visualization from the Heritage foundation, \n",
    "# on their website with almost no commentary,\n",
    "# https://datavisualizations.heritage.org/public-health/one-percent-of-us-counties-account-for-bulk-of-covid-19-deaths/\n",
    "# \"Through January 31, there have been 433,401 deaths in the U.S. from COVID-19, but a significant \n",
    "#  proportion of those have occurred in just a handful of counties. In fact, the 30 counties with \n",
    "#  the most deaths represent 1 percent of all counties, 21 percent of the total U.S. population, \n",
    "#  and 28 percent of all U.S. deaths.\"\n",
    "\n"
   ]
  },
  {
   "cell_type": "code",
   "execution_count": 3,
   "metadata": {},
   "outputs": [],
   "source": [
    "# The CDC has an API to serve county-level cases and deaths data:\n",
    "# https://data.cdc.gov/NCHS/Provisional-COVID-19-Deaths-by-County-and-Race-and/k8wy-p9cg\n",
    "\n",
    "# Initial tests suggest, though, that the data does not reach back to January 2021.\n"
   ]
  },
  {
   "cell_type": "code",
   "execution_count": 4,
   "metadata": {},
   "outputs": [],
   "source": [
    "# There is a huge, updated database on the NY Times github page:\n",
    "# https://github.com/nytimes/covid-19-data \n",
    "# That contains a 75-Mb file us-counties.csv.\n"
   ]
  },
  {
   "cell_type": "code",
   "execution_count": 5,
   "metadata": {},
   "outputs": [],
   "source": [
    "import pandas as pd\n",
    "import numpy as np\n",
    "import matplotlib.pyplot as plt\n",
    "counties = pd.read_csv(\"us-counties.csv\")"
   ]
  },
  {
   "cell_type": "code",
   "execution_count": 6,
   "metadata": {},
   "outputs": [
    {
     "data": {
      "text/html": [
       "<div>\n",
       "<style scoped>\n",
       "    .dataframe tbody tr th:only-of-type {\n",
       "        vertical-align: middle;\n",
       "    }\n",
       "\n",
       "    .dataframe tbody tr th {\n",
       "        vertical-align: top;\n",
       "    }\n",
       "\n",
       "    .dataframe thead th {\n",
       "        text-align: right;\n",
       "    }\n",
       "</style>\n",
       "<table border=\"1\" class=\"dataframe\">\n",
       "  <thead>\n",
       "    <tr style=\"text-align: right;\">\n",
       "      <th></th>\n",
       "      <th>date</th>\n",
       "      <th>county</th>\n",
       "      <th>state</th>\n",
       "      <th>fips</th>\n",
       "      <th>cases</th>\n",
       "      <th>deaths</th>\n",
       "    </tr>\n",
       "  </thead>\n",
       "  <tbody>\n",
       "    <tr>\n",
       "      <th>0</th>\n",
       "      <td>2020-01-21</td>\n",
       "      <td>Snohomish</td>\n",
       "      <td>Washington</td>\n",
       "      <td>53061.0</td>\n",
       "      <td>1</td>\n",
       "      <td>0.0</td>\n",
       "    </tr>\n",
       "    <tr>\n",
       "      <th>1</th>\n",
       "      <td>2020-01-22</td>\n",
       "      <td>Snohomish</td>\n",
       "      <td>Washington</td>\n",
       "      <td>53061.0</td>\n",
       "      <td>1</td>\n",
       "      <td>0.0</td>\n",
       "    </tr>\n",
       "    <tr>\n",
       "      <th>2</th>\n",
       "      <td>2020-01-23</td>\n",
       "      <td>Snohomish</td>\n",
       "      <td>Washington</td>\n",
       "      <td>53061.0</td>\n",
       "      <td>1</td>\n",
       "      <td>0.0</td>\n",
       "    </tr>\n",
       "    <tr>\n",
       "      <th>3</th>\n",
       "      <td>2020-01-24</td>\n",
       "      <td>Cook</td>\n",
       "      <td>Illinois</td>\n",
       "      <td>17031.0</td>\n",
       "      <td>1</td>\n",
       "      <td>0.0</td>\n",
       "    </tr>\n",
       "    <tr>\n",
       "      <th>4</th>\n",
       "      <td>2020-01-24</td>\n",
       "      <td>Snohomish</td>\n",
       "      <td>Washington</td>\n",
       "      <td>53061.0</td>\n",
       "      <td>1</td>\n",
       "      <td>0.0</td>\n",
       "    </tr>\n",
       "  </tbody>\n",
       "</table>\n",
       "</div>"
      ],
      "text/plain": [
       "         date     county       state     fips  cases  deaths\n",
       "0  2020-01-21  Snohomish  Washington  53061.0      1     0.0\n",
       "1  2020-01-22  Snohomish  Washington  53061.0      1     0.0\n",
       "2  2020-01-23  Snohomish  Washington  53061.0      1     0.0\n",
       "3  2020-01-24       Cook    Illinois  17031.0      1     0.0\n",
       "4  2020-01-24  Snohomish  Washington  53061.0      1     0.0"
      ]
     },
     "execution_count": 6,
     "metadata": {},
     "output_type": "execute_result"
    }
   ],
   "source": [
    "counties.head()"
   ]
  },
  {
   "cell_type": "code",
   "execution_count": 7,
   "metadata": {},
   "outputs": [],
   "source": [
    "# Let us grab just the slice of deaths representing Cook Co:\n",
    "cookco = counties.loc[np.where( counties.fips == 17031)]"
   ]
  },
  {
   "cell_type": "code",
   "execution_count": 8,
   "metadata": {},
   "outputs": [
    {
     "data": {
      "text/plain": [
       "648"
      ]
     },
     "execution_count": 8,
     "metadata": {},
     "output_type": "execute_result"
    }
   ],
   "source": [
    "len(cookco)"
   ]
  },
  {
   "cell_type": "code",
   "execution_count": null,
   "metadata": {},
   "outputs": [],
   "source": [
    "# 600 data points.. less than two years.. check.\n",
    "plt.plot(cookco.date, cookco.deaths)"
   ]
  },
  {
   "cell_type": "code",
   "execution_count": null,
   "metadata": {},
   "outputs": [],
   "source": [
    "# That took a long time and seems like it was plotting nominal time data.   \n",
    "# Search engine, \"pandas to date format,\" please?\n",
    "# https://pandas.pydata.org/docs/reference/api/pandas.to_datetime.html\n",
    "# Thanks."
   ]
  },
  {
   "cell_type": "code",
   "execution_count": 9,
   "metadata": {},
   "outputs": [],
   "source": [
    "d = pd.to_datetime(counties[\"date\"])\n"
   ]
  },
  {
   "cell_type": "code",
   "execution_count": 10,
   "metadata": {},
   "outputs": [
    {
     "data": {
      "text/plain": [
       "0         2020-01-21\n",
       "1         2020-01-22\n",
       "2         2020-01-23\n",
       "3         2020-01-24\n",
       "4         2020-01-24\n",
       "             ...    \n",
       "1875093   2021-11-01\n",
       "1875094   2021-11-01\n",
       "1875095   2021-11-01\n",
       "1875096   2021-11-01\n",
       "1875097   2021-11-01\n",
       "Name: date, Length: 1875098, dtype: datetime64[ns]"
      ]
     },
     "execution_count": 10,
     "metadata": {},
     "output_type": "execute_result"
    }
   ],
   "source": [
    "d\n"
   ]
  },
  {
   "cell_type": "code",
   "execution_count": 11,
   "metadata": {},
   "outputs": [],
   "source": [
    "counties[\"date\"] = d"
   ]
  },
  {
   "cell_type": "code",
   "execution_count": 12,
   "metadata": {},
   "outputs": [],
   "source": [
    "cookco = counties.loc[np.where( counties.fips == 17031)]"
   ]
  },
  {
   "cell_type": "code",
   "execution_count": 13,
   "metadata": {},
   "outputs": [
    {
     "data": {
      "text/plain": [
       "[<matplotlib.lines.Line2D at 0x7f84c40a6fd0>]"
      ]
     },
     "execution_count": 13,
     "metadata": {},
     "output_type": "execute_result"
    },
    {
     "data": {
      "image/png": "[encoded data removed]",
      "text/plain": [
       "<Figure size 432x288 with 1 Axes>"
      ]
     },
     "metadata": {
      "needs_background": "light"
     },
     "output_type": "display_data"
    }
   ],
   "source": [
    "plt.plot(cookco.date, cookco.deaths)"
   ]
  },
  {
   "cell_type": "code",
   "execution_count": null,
   "metadata": {},
   "outputs": [],
   "source": [
    "# Now everyone stare at this for a minute.  What is this the graph of ?"
   ]
  },
  {
   "cell_type": "code",
   "execution_count": null,
   "metadata": {},
   "outputs": [],
   "source": [
    "#  A:  This is the cumulative sum of a bimodal distribution;\n",
    "# There were two waves of high death rate separated by \n",
    "# periods of quiet. "
   ]
  },
  {
   "cell_type": "code",
   "execution_count": null,
   "metadata": {},
   "outputs": [],
   "source": [
    "# Let us plot per-day deaths:"
   ]
  },
  {
   "cell_type": "code",
   "execution_count": 14,
   "metadata": {},
   "outputs": [
    {
     "data": {
      "text/plain": [
       "[<matplotlib.lines.Line2D at 0x7f84c7f9bb20>]"
      ]
     },
     "execution_count": 14,
     "metadata": {},
     "output_type": "execute_result"
    },
    {
     "data": {
      "image/png": "[encoded data removed]",
      "text/plain": [
       "<Figure size 432x288 with 1 Axes>"
      ]
     },
     "metadata": {
      "needs_background": "light"
     },
     "output_type": "display_data"
    }
   ],
   "source": [
    "plt.plot(cookco.date[1:], np.diff(cookco.deaths))"
   ]
  },
  {
   "cell_type": "code",
   "execution_count": null,
   "metadata": {},
   "outputs": [],
   "source": [
    "# It's a little noisy.  Differences between points 7 \n",
    "# days apart will automatically average over 7-day intervals:"
   ]
  },
  {
   "cell_type": "code",
   "execution_count": null,
   "metadata": {},
   "outputs": [],
   "source": []
  },
  {
   "cell_type": "code",
   "execution_count": 15,
   "metadata": {},
   "outputs": [],
   "source": [
    "smooth = cookco[\"deaths\"] - cookco[\"deaths\"].shift(7)"
   ]
  },
  {
   "cell_type": "code",
   "execution_count": null,
   "metadata": {},
   "outputs": [],
   "source": []
  },
  {
   "cell_type": "code",
   "execution_count": 16,
   "metadata": {},
   "outputs": [
    {
     "data": {
      "text/plain": [
       "[<matplotlib.lines.Line2D at 0x7f84c8035100>]"
      ]
     },
     "execution_count": 16,
     "metadata": {},
     "output_type": "execute_result"
    },
    {
     "data": {
      "image/png": "[encoded data removed]",
      "text/plain": [
       "<Figure size 432x288 with 1 Axes>"
      ]
     },
     "metadata": {
      "needs_background": "light"
     },
     "output_type": "display_data"
    }
   ],
   "source": [
    "plt.plot(cookco.date, smooth)"
   ]
  },
  {
   "cell_type": "code",
   "execution_count": null,
   "metadata": {},
   "outputs": [],
   "source": [
    "# Note a few things.\n",
    "# 1. The scale changed, we're plotting weekly deaths now.\n",
    "# 2. There are 7 data points per week, and each data point represents\n",
    "# the preceding 7 days reporting--so the area under the graph is 7x \n",
    "# the true death rate.  This isn't exactly deceptive, but I don't want\n",
    "# to fool myself either."
   ]
  },
  {
   "cell_type": "code",
   "execution_count": null,
   "metadata": {},
   "outputs": [],
   "source": [
    "# There is an initial wave of deaths in spring 2020, and a \n",
    "# second wave of roughly equal intensity November-March 2021."
   ]
  },
  {
   "cell_type": "code",
   "execution_count": 17,
   "metadata": {},
   "outputs": [
    {
     "data": {
      "text/plain": [
       "3              0.0\n",
       "6              0.0\n",
       "11             0.0\n",
       "16             0.0\n",
       "21             0.0\n",
       "            ...   \n",
       "1859470    11823.0\n",
       "1862719    11826.0\n",
       "1865968    11826.0\n",
       "1869217    11826.0\n",
       "1872466    11844.0\n",
       "Name: deaths, Length: 648, dtype: float64"
      ]
     },
     "execution_count": 17,
     "metadata": {},
     "output_type": "execute_result"
    }
   ],
   "source": [
    "cookco.deaths"
   ]
  },
  {
   "cell_type": "code",
   "execution_count": 18,
   "metadata": {},
   "outputs": [
    {
     "data": {
      "text/plain": [
       "1875098"
      ]
     },
     "execution_count": 18,
     "metadata": {},
     "output_type": "execute_result"
    }
   ],
   "source": [
    "len(counties)"
   ]
  },
  {
   "cell_type": "code",
   "execution_count": 21,
   "metadata": {},
   "outputs": [
    {
     "data": {
      "text/plain": [
       "2884.766153846154"
      ]
     },
     "execution_count": 21,
     "metadata": {},
     "output_type": "execute_result"
    }
   ],
   "source": [
    "# And there were 650 days, so about this many countes\n",
    "len(counties)/650"
   ]
  },
  {
   "cell_type": "code",
   "execution_count": 22,
   "metadata": {},
   "outputs": [],
   "source": [
    "febdata = counties.loc[np.where(counties.date ==\"2021-01-31\")]"
   ]
  },
  {
   "cell_type": "code",
   "execution_count": 23,
   "metadata": {},
   "outputs": [
    {
     "data": {
      "text/plain": [
       "3247"
      ]
     },
     "execution_count": 23,
     "metadata": {},
     "output_type": "execute_result"
    }
   ],
   "source": [
    "len(febdata)"
   ]
  },
  {
   "cell_type": "code",
   "execution_count": null,
   "metadata": {},
   "outputs": [],
   "source": [
    "# If I encounter a TypeError at this stage, it is becuase I can't compare an ISO8601 \n",
    "# date string to an np.datetime64-typed object."
   ]
  },
  {
   "cell_type": "code",
   "execution_count": 24,
   "metadata": {},
   "outputs": [],
   "source": [
    "febdata = counties.loc[np.where(counties.date ==np.datetime64(\"2021-01-31\"))]"
   ]
  },
  {
   "cell_type": "code",
   "execution_count": 25,
   "metadata": {},
   "outputs": [
    {
     "data": {
      "text/plain": [
       "3247"
      ]
     },
     "execution_count": 25,
     "metadata": {},
     "output_type": "execute_result"
    }
   ],
   "source": [
    "len(febdata)"
   ]
  },
  {
   "cell_type": "code",
   "execution_count": 26,
   "metadata": {},
   "outputs": [
    {
     "data": {
      "text/html": [
       "<div>\n",
       "<style scoped>\n",
       "    .dataframe tbody tr th:only-of-type {\n",
       "        vertical-align: middle;\n",
       "    }\n",
       "\n",
       "    .dataframe tbody tr th {\n",
       "        vertical-align: top;\n",
       "    }\n",
       "\n",
       "    .dataframe thead th {\n",
       "        text-align: right;\n",
       "    }\n",
       "</style>\n",
       "<table border=\"1\" class=\"dataframe\">\n",
       "  <thead>\n",
       "    <tr style=\"text-align: right;\">\n",
       "      <th></th>\n",
       "      <th>date</th>\n",
       "      <th>county</th>\n",
       "      <th>state</th>\n",
       "      <th>fips</th>\n",
       "      <th>cases</th>\n",
       "      <th>deaths</th>\n",
       "    </tr>\n",
       "  </thead>\n",
       "  <tbody>\n",
       "    <tr>\n",
       "      <th>982097</th>\n",
       "      <td>2021-01-31</td>\n",
       "      <td>Autauga</td>\n",
       "      <td>Alabama</td>\n",
       "      <td>1001.0</td>\n",
       "      <td>5669</td>\n",
       "      <td>69.0</td>\n",
       "    </tr>\n",
       "    <tr>\n",
       "      <th>982098</th>\n",
       "      <td>2021-01-31</td>\n",
       "      <td>Baldwin</td>\n",
       "      <td>Alabama</td>\n",
       "      <td>1003.0</td>\n",
       "      <td>18126</td>\n",
       "      <td>224.0</td>\n",
       "    </tr>\n",
       "    <tr>\n",
       "      <th>982099</th>\n",
       "      <td>2021-01-31</td>\n",
       "      <td>Barbour</td>\n",
       "      <td>Alabama</td>\n",
       "      <td>1005.0</td>\n",
       "      <td>1951</td>\n",
       "      <td>40.0</td>\n",
       "    </tr>\n",
       "    <tr>\n",
       "      <th>982100</th>\n",
       "      <td>2021-01-31</td>\n",
       "      <td>Bibb</td>\n",
       "      <td>Alabama</td>\n",
       "      <td>1007.0</td>\n",
       "      <td>2307</td>\n",
       "      <td>52.0</td>\n",
       "    </tr>\n",
       "    <tr>\n",
       "      <th>982101</th>\n",
       "      <td>2021-01-31</td>\n",
       "      <td>Blount</td>\n",
       "      <td>Alabama</td>\n",
       "      <td>1009.0</td>\n",
       "      <td>5713</td>\n",
       "      <td>100.0</td>\n",
       "    </tr>\n",
       "  </tbody>\n",
       "</table>\n",
       "</div>"
      ],
      "text/plain": [
       "             date   county    state    fips  cases  deaths\n",
       "982097 2021-01-31  Autauga  Alabama  1001.0   5669    69.0\n",
       "982098 2021-01-31  Baldwin  Alabama  1003.0  18126   224.0\n",
       "982099 2021-01-31  Barbour  Alabama  1005.0   1951    40.0\n",
       "982100 2021-01-31     Bibb  Alabama  1007.0   2307    52.0\n",
       "982101 2021-01-31   Blount  Alabama  1009.0   5713   100.0"
      ]
     },
     "execution_count": 26,
     "metadata": {},
     "output_type": "execute_result"
    }
   ],
   "source": [
    "febdata.head()"
   ]
  },
  {
   "cell_type": "code",
   "execution_count": null,
   "metadata": {},
   "outputs": [],
   "source": [
    "febdata.deaths.sum()"
   ]
  },
  {
   "cell_type": "code",
   "execution_count": null,
   "metadata": {},
   "outputs": [],
   "source": [
    "# This is more than 433,401 deaths quoted on the Heratige site, but \n",
    "# we are clearly in the right ballpark here; the 8000 deaths might be \n",
    "# differences in the territorial scope of their query or the data may\n",
    "# have been revised upward by 1.7%.  Onward!"
   ]
  },
  {
   "cell_type": "code",
   "execution_count": 27,
   "metadata": {},
   "outputs": [
    {
     "data": {
      "text/plain": [
       "(array([2.879e+03, 1.410e+02, 6.300e+01, 1.700e+01, 1.900e+01, 1.000e+01,\n",
       "        1.100e+01, 9.000e+00, 2.000e+00, 4.000e+00, 3.000e+00, 3.000e+00,\n",
       "        1.000e+00, 0.000e+00, 1.000e+00, 1.000e+00, 0.000e+00, 1.000e+00,\n",
       "        0.000e+00, 0.000e+00, 0.000e+00, 0.000e+00, 0.000e+00, 0.000e+00,\n",
       "        0.000e+00, 0.000e+00, 0.000e+00, 1.000e+00, 0.000e+00, 0.000e+00,\n",
       "        0.000e+00, 0.000e+00, 0.000e+00, 0.000e+00, 1.000e+00, 0.000e+00,\n",
       "        0.000e+00, 0.000e+00, 0.000e+00, 0.000e+00, 0.000e+00, 0.000e+00,\n",
       "        0.000e+00, 0.000e+00, 0.000e+00, 0.000e+00, 0.000e+00, 0.000e+00,\n",
       "        0.000e+00, 0.000e+00, 0.000e+00, 0.000e+00, 0.000e+00, 0.000e+00,\n",
       "        0.000e+00, 0.000e+00, 0.000e+00, 0.000e+00, 0.000e+00, 0.000e+00,\n",
       "        0.000e+00, 1.000e+00, 0.000e+00, 0.000e+00, 0.000e+00, 0.000e+00,\n",
       "        0.000e+00, 0.000e+00, 0.000e+00, 0.000e+00, 0.000e+00, 0.000e+00,\n",
       "        0.000e+00, 0.000e+00, 0.000e+00, 0.000e+00, 0.000e+00, 0.000e+00,\n",
       "        0.000e+00, 0.000e+00, 0.000e+00, 0.000e+00, 0.000e+00, 0.000e+00,\n",
       "        0.000e+00, 0.000e+00, 0.000e+00, 0.000e+00, 0.000e+00, 0.000e+00,\n",
       "        0.000e+00, 0.000e+00, 0.000e+00, 0.000e+00, 0.000e+00, 0.000e+00,\n",
       "        0.000e+00, 0.000e+00, 0.000e+00, 1.000e+00]),\n",
       " array([    0.  ,   271.38,   542.76,   814.14,  1085.52,  1356.9 ,\n",
       "         1628.28,  1899.66,  2171.04,  2442.42,  2713.8 ,  2985.18,\n",
       "         3256.56,  3527.94,  3799.32,  4070.7 ,  4342.08,  4613.46,\n",
       "         4884.84,  5156.22,  5427.6 ,  5698.98,  5970.36,  6241.74,\n",
       "         6513.12,  6784.5 ,  7055.88,  7327.26,  7598.64,  7870.02,\n",
       "         8141.4 ,  8412.78,  8684.16,  8955.54,  9226.92,  9498.3 ,\n",
       "         9769.68, 10041.06, 10312.44, 10583.82, 10855.2 , 11126.58,\n",
       "        11397.96, 11669.34, 11940.72, 12212.1 , 12483.48, 12754.86,\n",
       "        13026.24, 13297.62, 13569.  , 13840.38, 14111.76, 14383.14,\n",
       "        14654.52, 14925.9 , 15197.28, 15468.66, 15740.04, 16011.42,\n",
       "        16282.8 , 16554.18, 16825.56, 17096.94, 17368.32, 17639.7 ,\n",
       "        17911.08, 18182.46, 18453.84, 18725.22, 18996.6 , 19267.98,\n",
       "        19539.36, 19810.74, 20082.12, 20353.5 , 20624.88, 20896.26,\n",
       "        21167.64, 21439.02, 21710.4 , 21981.78, 22253.16, 22524.54,\n",
       "        22795.92, 23067.3 , 23338.68, 23610.06, 23881.44, 24152.82,\n",
       "        24424.2 , 24695.58, 24966.96, 25238.34, 25509.72, 25781.1 ,\n",
       "        26052.48, 26323.86, 26595.24, 26866.62, 27138.  ]),\n",
       " <BarContainer object of 100 artists>)"
      ]
     },
     "execution_count": 27,
     "metadata": {},
     "output_type": "execute_result"
    },
    {
     "data": {
      "image/png": "[encoded data removed]",
      "text/plain": [
       "<Figure size 432x288 with 1 Axes>"
      ]
     },
     "metadata": {
      "needs_background": "light"
     },
     "output_type": "display_data"
    }
   ],
   "source": [
    "plt.hist(febdata.deaths, bins=100)"
   ]
  },
  {
   "cell_type": "code",
   "execution_count": 28,
   "metadata": {},
   "outputs": [
    {
     "name": "stderr",
     "output_type": "stream",
     "text": [
      "/Applications/anaconda3/lib/python3.8/site-packages/pandas/core/series.py:726: RuntimeWarning: divide by zero encountered in log\n",
      "  result = getattr(ufunc, method)(*inputs, **kwargs)\n"
     ]
    },
    {
     "ename": "ValueError",
     "evalue": "supplied range of [-inf, 4.433577838129562] is not finite",
     "output_type": "error",
     "traceback": [
      "\u001b[0;31m---------------------------------------------------------------------------\u001b[0m",
      "\u001b[0;31mValueError\u001b[0m                                Traceback (most recent call last)",
      "\u001b[0;32m<ipython-input-28-83f314ba9394>\u001b[0m in \u001b[0;36m<module>\u001b[0;34m\u001b[0m\n\u001b[1;32m      4\u001b[0m \u001b[0;31m# https://stackoverflow.com/questions/47850202/plotting-a-histogram-on-a-log-scale-with-matplotlib\u001b[0m\u001b[0;34m\u001b[0m\u001b[0;34m\u001b[0m\u001b[0;34m\u001b[0m\u001b[0m\n\u001b[1;32m      5\u001b[0m \u001b[0;34m\u001b[0m\u001b[0m\n\u001b[0;32m----> 6\u001b[0;31m \u001b[0mplt\u001b[0m\u001b[0;34m.\u001b[0m\u001b[0mhist\u001b[0m\u001b[0;34m(\u001b[0m\u001b[0mnp\u001b[0m\u001b[0;34m.\u001b[0m\u001b[0mlog\u001b[0m\u001b[0;34m(\u001b[0m\u001b[0mfebdata\u001b[0m\u001b[0;34m.\u001b[0m\u001b[0mdeaths\u001b[0m\u001b[0;34m)\u001b[0m \u001b[0;34m/\u001b[0m \u001b[0mnp\u001b[0m\u001b[0;34m.\u001b[0m\u001b[0mlog\u001b[0m\u001b[0;34m(\u001b[0m\u001b[0;36m10\u001b[0m\u001b[0;34m)\u001b[0m\u001b[0;34m,\u001b[0m \u001b[0mbins\u001b[0m\u001b[0;34m=\u001b[0m\u001b[0;36m100\u001b[0m\u001b[0;34m)\u001b[0m\u001b[0;34m\u001b[0m\u001b[0;34m\u001b[0m\u001b[0m\n\u001b[0m",
      "\u001b[0;32m/Applications/anaconda3/lib/python3.8/site-packages/matplotlib/pyplot.py\u001b[0m in \u001b[0;36mhist\u001b[0;34m(x, bins, range, density, weights, cumulative, bottom, histtype, align, orientation, rwidth, log, color, label, stacked, data, **kwargs)\u001b[0m\n\u001b[1;32m   2683\u001b[0m         \u001b[0morientation\u001b[0m\u001b[0;34m=\u001b[0m\u001b[0;34m'vertical'\u001b[0m\u001b[0;34m,\u001b[0m \u001b[0mrwidth\u001b[0m\u001b[0;34m=\u001b[0m\u001b[0;32mNone\u001b[0m\u001b[0;34m,\u001b[0m \u001b[0mlog\u001b[0m\u001b[0;34m=\u001b[0m\u001b[0;32mFalse\u001b[0m\u001b[0;34m,\u001b[0m \u001b[0mcolor\u001b[0m\u001b[0;34m=\u001b[0m\u001b[0;32mNone\u001b[0m\u001b[0;34m,\u001b[0m\u001b[0;34m\u001b[0m\u001b[0;34m\u001b[0m\u001b[0m\n\u001b[1;32m   2684\u001b[0m         label=None, stacked=False, *, data=None, **kwargs):\n\u001b[0;32m-> 2685\u001b[0;31m     return gca().hist(\n\u001b[0m\u001b[1;32m   2686\u001b[0m         \u001b[0mx\u001b[0m\u001b[0;34m,\u001b[0m \u001b[0mbins\u001b[0m\u001b[0;34m=\u001b[0m\u001b[0mbins\u001b[0m\u001b[0;34m,\u001b[0m \u001b[0mrange\u001b[0m\u001b[0;34m=\u001b[0m\u001b[0mrange\u001b[0m\u001b[0;34m,\u001b[0m \u001b[0mdensity\u001b[0m\u001b[0;34m=\u001b[0m\u001b[0mdensity\u001b[0m\u001b[0;34m,\u001b[0m \u001b[0mweights\u001b[0m\u001b[0;34m=\u001b[0m\u001b[0mweights\u001b[0m\u001b[0;34m,\u001b[0m\u001b[0;34m\u001b[0m\u001b[0;34m\u001b[0m\u001b[0m\n\u001b[1;32m   2687\u001b[0m         \u001b[0mcumulative\u001b[0m\u001b[0;34m=\u001b[0m\u001b[0mcumulative\u001b[0m\u001b[0;34m,\u001b[0m \u001b[0mbottom\u001b[0m\u001b[0;34m=\u001b[0m\u001b[0mbottom\u001b[0m\u001b[0;34m,\u001b[0m \u001b[0mhisttype\u001b[0m\u001b[0;34m=\u001b[0m\u001b[0mhisttype\u001b[0m\u001b[0;34m,\u001b[0m\u001b[0;34m\u001b[0m\u001b[0;34m\u001b[0m\u001b[0m\n",
      "\u001b[0;32m/Applications/anaconda3/lib/python3.8/site-packages/matplotlib/__init__.py\u001b[0m in \u001b[0;36minner\u001b[0;34m(ax, data, *args, **kwargs)\u001b[0m\n\u001b[1;32m   1436\u001b[0m     \u001b[0;32mdef\u001b[0m \u001b[0minner\u001b[0m\u001b[0;34m(\u001b[0m\u001b[0max\u001b[0m\u001b[0;34m,\u001b[0m \u001b[0;34m*\u001b[0m\u001b[0margs\u001b[0m\u001b[0;34m,\u001b[0m \u001b[0mdata\u001b[0m\u001b[0;34m=\u001b[0m\u001b[0;32mNone\u001b[0m\u001b[0;34m,\u001b[0m \u001b[0;34m**\u001b[0m\u001b[0mkwargs\u001b[0m\u001b[0;34m)\u001b[0m\u001b[0;34m:\u001b[0m\u001b[0;34m\u001b[0m\u001b[0;34m\u001b[0m\u001b[0m\n\u001b[1;32m   1437\u001b[0m         \u001b[0;32mif\u001b[0m \u001b[0mdata\u001b[0m \u001b[0;32mis\u001b[0m \u001b[0;32mNone\u001b[0m\u001b[0;34m:\u001b[0m\u001b[0;34m\u001b[0m\u001b[0;34m\u001b[0m\u001b[0m\n\u001b[0;32m-> 1438\u001b[0;31m             \u001b[0;32mreturn\u001b[0m \u001b[0mfunc\u001b[0m\u001b[0;34m(\u001b[0m\u001b[0max\u001b[0m\u001b[0;34m,\u001b[0m \u001b[0;34m*\u001b[0m\u001b[0mmap\u001b[0m\u001b[0;34m(\u001b[0m\u001b[0msanitize_sequence\u001b[0m\u001b[0;34m,\u001b[0m \u001b[0margs\u001b[0m\u001b[0;34m)\u001b[0m\u001b[0;34m,\u001b[0m \u001b[0;34m**\u001b[0m\u001b[0mkwargs\u001b[0m\u001b[0;34m)\u001b[0m\u001b[0;34m\u001b[0m\u001b[0;34m\u001b[0m\u001b[0m\n\u001b[0m\u001b[1;32m   1439\u001b[0m \u001b[0;34m\u001b[0m\u001b[0m\n\u001b[1;32m   1440\u001b[0m         \u001b[0mbound\u001b[0m \u001b[0;34m=\u001b[0m \u001b[0mnew_sig\u001b[0m\u001b[0;34m.\u001b[0m\u001b[0mbind\u001b[0m\u001b[0;34m(\u001b[0m\u001b[0max\u001b[0m\u001b[0;34m,\u001b[0m \u001b[0;34m*\u001b[0m\u001b[0margs\u001b[0m\u001b[0;34m,\u001b[0m \u001b[0;34m**\u001b[0m\u001b[0mkwargs\u001b[0m\u001b[0;34m)\u001b[0m\u001b[0;34m\u001b[0m\u001b[0;34m\u001b[0m\u001b[0m\n",
      "\u001b[0;32m/Applications/anaconda3/lib/python3.8/site-packages/matplotlib/axes/_axes.py\u001b[0m in \u001b[0;36mhist\u001b[0;34m(self, x, bins, range, density, weights, cumulative, bottom, histtype, align, orientation, rwidth, log, color, label, stacked, **kwargs)\u001b[0m\n\u001b[1;32m   6654\u001b[0m             \u001b[0;31m# this will automatically overwrite bins,\u001b[0m\u001b[0;34m\u001b[0m\u001b[0;34m\u001b[0m\u001b[0;34m\u001b[0m\u001b[0m\n\u001b[1;32m   6655\u001b[0m             \u001b[0;31m# so that each histogram uses the same bins\u001b[0m\u001b[0;34m\u001b[0m\u001b[0;34m\u001b[0m\u001b[0;34m\u001b[0m\u001b[0m\n\u001b[0;32m-> 6656\u001b[0;31m             \u001b[0mm\u001b[0m\u001b[0;34m,\u001b[0m \u001b[0mbins\u001b[0m \u001b[0;34m=\u001b[0m \u001b[0mnp\u001b[0m\u001b[0;34m.\u001b[0m\u001b[0mhistogram\u001b[0m\u001b[0;34m(\u001b[0m\u001b[0mx\u001b[0m\u001b[0;34m[\u001b[0m\u001b[0mi\u001b[0m\u001b[0;34m]\u001b[0m\u001b[0;34m,\u001b[0m \u001b[0mbins\u001b[0m\u001b[0;34m,\u001b[0m \u001b[0mweights\u001b[0m\u001b[0;34m=\u001b[0m\u001b[0mw\u001b[0m\u001b[0;34m[\u001b[0m\u001b[0mi\u001b[0m\u001b[0;34m]\u001b[0m\u001b[0;34m,\u001b[0m \u001b[0;34m**\u001b[0m\u001b[0mhist_kwargs\u001b[0m\u001b[0;34m)\u001b[0m\u001b[0;34m\u001b[0m\u001b[0;34m\u001b[0m\u001b[0m\n\u001b[0m\u001b[1;32m   6657\u001b[0m             \u001b[0mtops\u001b[0m\u001b[0;34m.\u001b[0m\u001b[0mappend\u001b[0m\u001b[0;34m(\u001b[0m\u001b[0mm\u001b[0m\u001b[0;34m)\u001b[0m\u001b[0;34m\u001b[0m\u001b[0;34m\u001b[0m\u001b[0m\n\u001b[1;32m   6658\u001b[0m         \u001b[0mtops\u001b[0m \u001b[0;34m=\u001b[0m \u001b[0mnp\u001b[0m\u001b[0;34m.\u001b[0m\u001b[0marray\u001b[0m\u001b[0;34m(\u001b[0m\u001b[0mtops\u001b[0m\u001b[0;34m,\u001b[0m \u001b[0mfloat\u001b[0m\u001b[0;34m)\u001b[0m  \u001b[0;31m# causes problems later if it's an int\u001b[0m\u001b[0;34m\u001b[0m\u001b[0;34m\u001b[0m\u001b[0m\n",
      "\u001b[0;32m<__array_function__ internals>\u001b[0m in \u001b[0;36mhistogram\u001b[0;34m(*args, **kwargs)\u001b[0m\n",
      "\u001b[0;32m/Applications/anaconda3/lib/python3.8/site-packages/numpy/lib/histograms.py\u001b[0m in \u001b[0;36mhistogram\u001b[0;34m(a, bins, range, normed, weights, density)\u001b[0m\n\u001b[1;32m    790\u001b[0m     \u001b[0ma\u001b[0m\u001b[0;34m,\u001b[0m \u001b[0mweights\u001b[0m \u001b[0;34m=\u001b[0m \u001b[0m_ravel_and_check_weights\u001b[0m\u001b[0;34m(\u001b[0m\u001b[0ma\u001b[0m\u001b[0;34m,\u001b[0m \u001b[0mweights\u001b[0m\u001b[0;34m)\u001b[0m\u001b[0;34m\u001b[0m\u001b[0;34m\u001b[0m\u001b[0m\n\u001b[1;32m    791\u001b[0m \u001b[0;34m\u001b[0m\u001b[0m\n\u001b[0;32m--> 792\u001b[0;31m     \u001b[0mbin_edges\u001b[0m\u001b[0;34m,\u001b[0m \u001b[0muniform_bins\u001b[0m \u001b[0;34m=\u001b[0m \u001b[0m_get_bin_edges\u001b[0m\u001b[0;34m(\u001b[0m\u001b[0ma\u001b[0m\u001b[0;34m,\u001b[0m \u001b[0mbins\u001b[0m\u001b[0;34m,\u001b[0m \u001b[0mrange\u001b[0m\u001b[0;34m,\u001b[0m \u001b[0mweights\u001b[0m\u001b[0;34m)\u001b[0m\u001b[0;34m\u001b[0m\u001b[0;34m\u001b[0m\u001b[0m\n\u001b[0m\u001b[1;32m    793\u001b[0m \u001b[0;34m\u001b[0m\u001b[0m\n\u001b[1;32m    794\u001b[0m     \u001b[0;31m# Histogram is an integer or a float array depending on the weights.\u001b[0m\u001b[0;34m\u001b[0m\u001b[0;34m\u001b[0m\u001b[0;34m\u001b[0m\u001b[0m\n",
      "\u001b[0;32m/Applications/anaconda3/lib/python3.8/site-packages/numpy/lib/histograms.py\u001b[0m in \u001b[0;36m_get_bin_edges\u001b[0;34m(a, bins, range, weights)\u001b[0m\n\u001b[1;32m    424\u001b[0m             \u001b[0;32mraise\u001b[0m \u001b[0mValueError\u001b[0m\u001b[0;34m(\u001b[0m\u001b[0;34m'`bins` must be positive, when an integer'\u001b[0m\u001b[0;34m)\u001b[0m\u001b[0;34m\u001b[0m\u001b[0;34m\u001b[0m\u001b[0m\n\u001b[1;32m    425\u001b[0m \u001b[0;34m\u001b[0m\u001b[0m\n\u001b[0;32m--> 426\u001b[0;31m         \u001b[0mfirst_edge\u001b[0m\u001b[0;34m,\u001b[0m \u001b[0mlast_edge\u001b[0m \u001b[0;34m=\u001b[0m \u001b[0m_get_outer_edges\u001b[0m\u001b[0;34m(\u001b[0m\u001b[0ma\u001b[0m\u001b[0;34m,\u001b[0m \u001b[0mrange\u001b[0m\u001b[0;34m)\u001b[0m\u001b[0;34m\u001b[0m\u001b[0;34m\u001b[0m\u001b[0m\n\u001b[0m\u001b[1;32m    427\u001b[0m \u001b[0;34m\u001b[0m\u001b[0m\n\u001b[1;32m    428\u001b[0m     \u001b[0;32melif\u001b[0m \u001b[0mnp\u001b[0m\u001b[0;34m.\u001b[0m\u001b[0mndim\u001b[0m\u001b[0;34m(\u001b[0m\u001b[0mbins\u001b[0m\u001b[0;34m)\u001b[0m \u001b[0;34m==\u001b[0m \u001b[0;36m1\u001b[0m\u001b[0;34m:\u001b[0m\u001b[0;34m\u001b[0m\u001b[0;34m\u001b[0m\u001b[0m\n",
      "\u001b[0;32m/Applications/anaconda3/lib/python3.8/site-packages/numpy/lib/histograms.py\u001b[0m in \u001b[0;36m_get_outer_edges\u001b[0;34m(a, range)\u001b[0m\n\u001b[1;32m    313\u001b[0m                 'max must be larger than min in range parameter.')\n\u001b[1;32m    314\u001b[0m         \u001b[0;32mif\u001b[0m \u001b[0;32mnot\u001b[0m \u001b[0;34m(\u001b[0m\u001b[0mnp\u001b[0m\u001b[0;34m.\u001b[0m\u001b[0misfinite\u001b[0m\u001b[0;34m(\u001b[0m\u001b[0mfirst_edge\u001b[0m\u001b[0;34m)\u001b[0m \u001b[0;32mand\u001b[0m \u001b[0mnp\u001b[0m\u001b[0;34m.\u001b[0m\u001b[0misfinite\u001b[0m\u001b[0;34m(\u001b[0m\u001b[0mlast_edge\u001b[0m\u001b[0;34m)\u001b[0m\u001b[0;34m)\u001b[0m\u001b[0;34m:\u001b[0m\u001b[0;34m\u001b[0m\u001b[0;34m\u001b[0m\u001b[0m\n\u001b[0;32m--> 315\u001b[0;31m             raise ValueError(\n\u001b[0m\u001b[1;32m    316\u001b[0m                 \"supplied range of [{}, {}] is not finite\".format(first_edge, last_edge))\n\u001b[1;32m    317\u001b[0m     \u001b[0;32melif\u001b[0m \u001b[0ma\u001b[0m\u001b[0;34m.\u001b[0m\u001b[0msize\u001b[0m \u001b[0;34m==\u001b[0m \u001b[0;36m0\u001b[0m\u001b[0;34m:\u001b[0m\u001b[0;34m\u001b[0m\u001b[0;34m\u001b[0m\u001b[0m\n",
      "\u001b[0;31mValueError\u001b[0m: supplied range of [-inf, 4.433577838129562] is not finite"
     ]
    },
    {
     "data": {
      "image/png": "[encoded data removed]",
      "text/plain": [
       "<Figure size 432x288 with 1 Axes>"
      ]
     },
     "metadata": {
      "needs_background": "light"
     },
     "output_type": "display_data"
    }
   ],
   "source": [
    "# Ack.  That's not very expressive, is it?\n",
    "# In vanilla matplotlib, you have to draw your own bins if you want a nice log-histogram.\n",
    "\n",
    "# https://stackoverflow.com/questions/47850202/plotting-a-histogram-on-a-log-scale-with-matplotlib\n",
    "    \n",
    "plt.hist(np.log(febdata.deaths) / np.log(10), bins=100)\n"
   ]
  },
  {
   "cell_type": "code",
   "execution_count": 29,
   "metadata": {},
   "outputs": [
    {
     "data": {
      "text/plain": [
       "(array([ 87.,   0.,   0.,   0.,   0.,   0.,   0.,   0.,   0.,   0.,   0.,\n",
       "          0.,   0.,   0.,   0.,   0.,   0.,   0.,   0.,   0.,   0.,   0.,\n",
       "          0.,   0.,   0.,   0.,   0.,   0.,   0.,   0.,   0.,  57.,   0.,\n",
       "          0.,   0.,  59.,   0.,   0.,  62.,   0.,  68.,  50.,   0.,  51.,\n",
       "         53., 103.,  62.,  98.,  85.,  74., 130., 105., 121., 127., 155.,\n",
       "        167., 130., 126., 122., 134., 137.,  79.,  90.,  72.,  68.,  58.,\n",
       "         59.,  48.,  43.,  40.,  43.,  22.,  22.,  18.,  27.,  24.,  12.,\n",
       "         11.,  10.,  11.,   9.,  10.,  10.,   3.,   6.,   4.,   0.,   2.,\n",
       "          1.,   0.,   0.,   1.,   1.,   0.,   0.,   0.,   1.,   0.,   0.,\n",
       "          1.]),\n",
       " array([-2.        , -1.93566422, -1.87132844, -1.80699266, -1.74265688,\n",
       "        -1.6783211 , -1.61398532, -1.54964954, -1.48531376, -1.42097798,\n",
       "        -1.3566422 , -1.29230642, -1.22797064, -1.16363486, -1.09929908,\n",
       "        -1.0349633 , -0.97062752, -0.90629174, -0.84195596, -0.77762018,\n",
       "        -0.7132844 , -0.64894862, -0.58461284, -0.52027706, -0.45594128,\n",
       "        -0.3916055 , -0.32726972, -0.26293394, -0.19859816, -0.13426238,\n",
       "        -0.0699266 , -0.00559082,  0.05874496,  0.12308074,  0.18741652,\n",
       "         0.2517523 ,  0.31608808,  0.38042386,  0.44475964,  0.50909542,\n",
       "         0.5734312 ,  0.63776698,  0.70210276,  0.76643854,  0.83077432,\n",
       "         0.8951101 ,  0.95944588,  1.02378166,  1.08811744,  1.15245322,\n",
       "         1.216789  ,  1.28112478,  1.34546056,  1.40979634,  1.47413212,\n",
       "         1.5384679 ,  1.60280368,  1.66713946,  1.73147524,  1.79581102,\n",
       "         1.8601468 ,  1.92448258,  1.98881836,  2.05315414,  2.11748992,\n",
       "         2.1818257 ,  2.24616148,  2.31049726,  2.37483304,  2.43916882,\n",
       "         2.5035046 ,  2.56784038,  2.63217616,  2.69651194,  2.76084772,\n",
       "         2.8251835 ,  2.88951928,  2.95385506,  3.01819084,  3.08252662,\n",
       "         3.1468624 ,  3.21119818,  3.27553396,  3.33986974,  3.40420552,\n",
       "         3.4685413 ,  3.53287708,  3.59721286,  3.66154864,  3.72588442,\n",
       "         3.7902202 ,  3.85455598,  3.91889176,  3.98322754,  4.04756332,\n",
       "         4.1118991 ,  4.17623488,  4.24057066,  4.30490644,  4.36924222,\n",
       "         4.433578  ]),\n",
       " <BarContainer object of 100 artists>)"
      ]
     },
     "execution_count": 29,
     "metadata": {},
     "output_type": "execute_result"
    },
    {
     "data": {
      "image/png": "[encoded data removed]",
      "text/plain": [
       "<Figure size 432x288 with 1 Axes>"
      ]
     },
     "metadata": {
      "needs_background": "light"
     },
     "output_type": "display_data"
    }
   ],
   "source": [
    "# This is a \"can't take logarithm of zero\" error.\n",
    "# I can fix (for now) by adding one one-hundredth\n",
    "# and remembering that counties with .01 deaths \n",
    "# reported zero or NaN deaths in the database.\n",
    "plt.hist(np.log(febdata.deaths + .01) / np.log(10), bins=100)\n"
   ]
  },
  {
   "cell_type": "code",
   "execution_count": 31,
   "metadata": {},
   "outputs": [],
   "source": [
    "# So I have to make my own logarithmicly spaced histogram bins.\n",
    "bins = np.exp(np.arange(-1,4,.05))"
   ]
  },
  {
   "cell_type": "code",
   "execution_count": 32,
   "metadata": {},
   "outputs": [
    {
     "data": {
      "image/png": "[encoded data removed]",
      "text/plain": [
       "<Figure size 432x288 with 1 Axes>"
      ]
     },
     "metadata": {
      "needs_background": "light"
     },
     "output_type": "display_data"
    }
   ],
   "source": [
    "plt.hist(febdata.deaths , bins=bins )\n",
    "plt.xscale(\"log\")"
   ]
  },
  {
   "cell_type": "code",
   "execution_count": null,
   "metadata": {},
   "outputs": [],
   "source": [
    "# What happened to my monomodal distribution?\n",
    "# Domain is wrong.. only 10^(-0.5) to 10^2"
   ]
  },
  {
   "cell_type": "code",
   "execution_count": 33,
   "metadata": {},
   "outputs": [
    {
     "data": {
      "image/png": "[encoded data removed]",
      "text/plain": [
       "<Figure size 432x288 with 1 Axes>"
      ]
     },
     "metadata": {
      "needs_background": "light"
     },
     "output_type": "display_data"
    }
   ],
   "source": [
    "# Try coarser bins?\n",
    "bins = np.exp(np.arange(-1,4,.1))\n",
    "plt.hist(febdata.deaths , bins=bins )\n",
    "plt.xscale(\"log\")"
   ]
  },
  {
   "cell_type": "code",
   "execution_count": 34,
   "metadata": {},
   "outputs": [],
   "source": [
    "# That's still not right.  Am I using arange wrong?"
   ]
  },
  {
   "cell_type": "code",
   "execution_count": 35,
   "metadata": {},
   "outputs": [
    {
     "data": {
      "text/plain": [
       "array([ 0.36787944,  0.40656966,  0.44932896,  0.4965853 ,  0.54881164,\n",
       "        0.60653066,  0.67032005,  0.74081822,  0.81873075,  0.90483742,\n",
       "        1.        ,  1.10517092,  1.22140276,  1.34985881,  1.4918247 ,\n",
       "        1.64872127,  1.8221188 ,  2.01375271,  2.22554093,  2.45960311,\n",
       "        2.71828183,  3.00416602,  3.32011692,  3.66929667,  4.05519997,\n",
       "        4.48168907,  4.95303242,  5.47394739,  6.04964746,  6.68589444,\n",
       "        7.3890561 ,  8.16616991,  9.0250135 ,  9.97418245, 11.02317638,\n",
       "       12.18249396, 13.46373804, 14.87973172, 16.44464677, 18.17414537,\n",
       "       20.08553692, 22.19795128, 24.5325302 , 27.11263892, 29.96410005,\n",
       "       33.11545196, 36.59823444, 40.44730436, 44.70118449, 49.40244911])"
      ]
     },
     "execution_count": 35,
     "metadata": {},
     "output_type": "execute_result"
    }
   ],
   "source": [
    "bins"
   ]
  },
  {
   "cell_type": "code",
   "execution_count": 36,
   "metadata": {},
   "outputs": [],
   "source": [
    "# That's not the right range.  I wanted 10^(-1) to 10^4.\n",
    "# I wanted to use logs base 10, but forgot that the \n",
    "# inverse of log base 10 is not np.exp, it's np.power(10,x)"
   ]
  },
  {
   "cell_type": "code",
   "execution_count": 37,
   "metadata": {},
   "outputs": [
    {
     "data": {
      "text/plain": [
       "Text(0.5, 0, 'per-county deaths')"
      ]
     },
     "execution_count": 37,
     "metadata": {},
     "output_type": "execute_result"
    },
    {
     "data": {
      "image/png": "[encoded data removed]",
      "text/plain": [
       "<Figure size 432x288 with 1 Axes>"
      ]
     },
     "metadata": {
      "needs_background": "light"
     },
     "output_type": "display_data"
    }
   ],
   "source": [
    "bins = np.power(10, np.arange(-1,4,.1) )\n",
    "plt.hist(febdata.deaths , bins=bins )\n",
    "plt.xscale(\"log\")\n",
    "plt.xlabel(\"per-county deaths\")"
   ]
  },
  {
   "cell_type": "code",
   "execution_count": null,
   "metadata": {},
   "outputs": [],
   "source": [
    "# And it looks like now we're silently ignoring \n",
    "# the counties with no deaths becuase they're offscale:"
   ]
  },
  {
   "cell_type": "code",
   "execution_count": 38,
   "metadata": {},
   "outputs": [
    {
     "data": {
      "text/plain": [
       "Text(0.5, 0, 'per-county deaths')"
      ]
     },
     "execution_count": 38,
     "metadata": {},
     "output_type": "execute_result"
    },
    {
     "data": {
      "image/png": "[encoded data removed]",
      "text/plain": [
       "<Figure size 432x288 with 1 Axes>"
      ]
     },
     "metadata": {
      "needs_background": "light"
     },
     "output_type": "display_data"
    }
   ],
   "source": [
    "bins = np.power(10, np.arange(-1,4,.1) )\n",
    "plt.hist(febdata.deaths+.1 , bins=bins )\n",
    "plt.xscale(\"log\")\n",
    "plt.xlabel(\"per-county deaths\")"
   ]
  },
  {
   "cell_type": "code",
   "execution_count": 39,
   "metadata": {},
   "outputs": [],
   "source": [
    "# This log-histogram really robs me of any sense of what the \n",
    "# distribution is actually like.\n",
    "# Can we plot deaths by county's death rank?\n",
    "deathsbycounty = febdata.sort_values(\"deaths\")"
   ]
  },
  {
   "cell_type": "code",
   "execution_count": 40,
   "metadata": {},
   "outputs": [
    {
     "data": {
      "text/plain": [
       "Text(0, 0.5, 'Per-county cumulative COVID deaths, Feb 2021')"
      ]
     },
     "execution_count": 40,
     "metadata": {},
     "output_type": "execute_result"
    },
    {
     "data": {
      "image/png": "[encoded data removed]",
      "text/plain": [
       "<Figure size 432x288 with 1 Axes>"
      ]
     },
     "metadata": {
      "needs_background": "light"
     },
     "output_type": "display_data"
    }
   ],
   "source": [
    "plt.plot(np.arange(len(deathsbycounty)), deathsbycounty.deaths)\n",
    "plt.xlabel(\"County death rank\")\n",
    "plt.ylabel(\"Per-county cumulative COVID deaths, Feb 2021\")"
   ]
  },
  {
   "cell_type": "code",
   "execution_count": null,
   "metadata": {},
   "outputs": [],
   "source": [
    "# Rrr.  This still does not make me think I understand.  \n",
    "# This is not a very expressive graph--one county has 27000 \n",
    "# deaths, there are 3100 counties; I can tell little else,\n",
    "# least of all the total body count.\n"
   ]
  },
  {
   "cell_type": "code",
   "execution_count": null,
   "metadata": {},
   "outputs": [],
   "source": [
    "# Wait a sec, one county with 27,000 deaths, does that make sense?\n",
    "# The largest county on Heratige's page was LA County with only 17,000."
   ]
  },
  {
   "cell_type": "code",
   "execution_count": 41,
   "metadata": {},
   "outputs": [
    {
     "data": {
      "text/html": [
       "<div>\n",
       "<style scoped>\n",
       "    .dataframe tbody tr th:only-of-type {\n",
       "        vertical-align: middle;\n",
       "    }\n",
       "\n",
       "    .dataframe tbody tr th {\n",
       "        vertical-align: top;\n",
       "    }\n",
       "\n",
       "    .dataframe thead th {\n",
       "        text-align: right;\n",
       "    }\n",
       "</style>\n",
       "<table border=\"1\" class=\"dataframe\">\n",
       "  <thead>\n",
       "    <tr style=\"text-align: right;\">\n",
       "      <th></th>\n",
       "      <th>date</th>\n",
       "      <th>county</th>\n",
       "      <th>state</th>\n",
       "      <th>fips</th>\n",
       "      <th>cases</th>\n",
       "      <th>deaths</th>\n",
       "    </tr>\n",
       "  </thead>\n",
       "  <tbody>\n",
       "    <tr>\n",
       "      <th>0</th>\n",
       "      <td>2020-01-21</td>\n",
       "      <td>Snohomish</td>\n",
       "      <td>Washington</td>\n",
       "      <td>53061.0</td>\n",
       "      <td>1</td>\n",
       "      <td>0.0</td>\n",
       "    </tr>\n",
       "    <tr>\n",
       "      <th>291986</th>\n",
       "      <td>2020-07-01</td>\n",
       "      <td>Curry</td>\n",
       "      <td>New Mexico</td>\n",
       "      <td>35009.0</td>\n",
       "      <td>165</td>\n",
       "      <td>0.0</td>\n",
       "    </tr>\n",
       "    <tr>\n",
       "      <th>1423254</th>\n",
       "      <td>2021-06-15</td>\n",
       "      <td>Daggett</td>\n",
       "      <td>Utah</td>\n",
       "      <td>49009.0</td>\n",
       "      <td>56</td>\n",
       "      <td>0.0</td>\n",
       "    </tr>\n",
       "    <tr>\n",
       "      <th>291979</th>\n",
       "      <td>2020-07-01</td>\n",
       "      <td>Unknown</td>\n",
       "      <td>New Jersey</td>\n",
       "      <td>NaN</td>\n",
       "      <td>643</td>\n",
       "      <td>0.0</td>\n",
       "    </tr>\n",
       "    <tr>\n",
       "      <th>1423266</th>\n",
       "      <td>2021-06-15</td>\n",
       "      <td>Rich</td>\n",
       "      <td>Utah</td>\n",
       "      <td>49033.0</td>\n",
       "      <td>159</td>\n",
       "      <td>0.0</td>\n",
       "    </tr>\n",
       "    <tr>\n",
       "      <th>...</th>\n",
       "      <td>...</td>\n",
       "      <td>...</td>\n",
       "      <td>...</td>\n",
       "      <td>...</td>\n",
       "      <td>...</td>\n",
       "      <td>...</td>\n",
       "    </tr>\n",
       "    <tr>\n",
       "      <th>1874255</th>\n",
       "      <td>2021-11-01</td>\n",
       "      <td>Vega Baja</td>\n",
       "      <td>Puerto Rico</td>\n",
       "      <td>72145.0</td>\n",
       "      <td>4451</td>\n",
       "      <td>NaN</td>\n",
       "    </tr>\n",
       "    <tr>\n",
       "      <th>1874256</th>\n",
       "      <td>2021-11-01</td>\n",
       "      <td>Vieques</td>\n",
       "      <td>Puerto Rico</td>\n",
       "      <td>72147.0</td>\n",
       "      <td>272</td>\n",
       "      <td>NaN</td>\n",
       "    </tr>\n",
       "    <tr>\n",
       "      <th>1874257</th>\n",
       "      <td>2021-11-01</td>\n",
       "      <td>Villalba</td>\n",
       "      <td>Puerto Rico</td>\n",
       "      <td>72149.0</td>\n",
       "      <td>1018</td>\n",
       "      <td>NaN</td>\n",
       "    </tr>\n",
       "    <tr>\n",
       "      <th>1874258</th>\n",
       "      <td>2021-11-01</td>\n",
       "      <td>Yabucoa</td>\n",
       "      <td>Puerto Rico</td>\n",
       "      <td>72151.0</td>\n",
       "      <td>1633</td>\n",
       "      <td>NaN</td>\n",
       "    </tr>\n",
       "    <tr>\n",
       "      <th>1874259</th>\n",
       "      <td>2021-11-01</td>\n",
       "      <td>Yauco</td>\n",
       "      <td>Puerto Rico</td>\n",
       "      <td>72153.0</td>\n",
       "      <td>1458</td>\n",
       "      <td>NaN</td>\n",
       "    </tr>\n",
       "  </tbody>\n",
       "</table>\n",
       "<p>1875098 rows × 6 columns</p>\n",
       "</div>"
      ],
      "text/plain": [
       "              date     county        state     fips  cases  deaths\n",
       "0       2020-01-21  Snohomish   Washington  53061.0      1     0.0\n",
       "291986  2020-07-01      Curry   New Mexico  35009.0    165     0.0\n",
       "1423254 2021-06-15    Daggett         Utah  49009.0     56     0.0\n",
       "291979  2020-07-01    Unknown   New Jersey      NaN    643     0.0\n",
       "1423266 2021-06-15       Rich         Utah  49033.0    159     0.0\n",
       "...            ...        ...          ...      ...    ...     ...\n",
       "1874255 2021-11-01  Vega Baja  Puerto Rico  72145.0   4451     NaN\n",
       "1874256 2021-11-01    Vieques  Puerto Rico  72147.0    272     NaN\n",
       "1874257 2021-11-01   Villalba  Puerto Rico  72149.0   1018     NaN\n",
       "1874258 2021-11-01    Yabucoa  Puerto Rico  72151.0   1633     NaN\n",
       "1874259 2021-11-01      Yauco  Puerto Rico  72153.0   1458     NaN\n",
       "\n",
       "[1875098 rows x 6 columns]"
      ]
     },
     "execution_count": 41,
     "metadata": {},
     "output_type": "execute_result"
    }
   ],
   "source": [
    "counties.sort_values(\"deaths\")"
   ]
  },
  {
   "cell_type": "code",
   "execution_count": 42,
   "metadata": {},
   "outputs": [],
   "source": [
    "# These NaN values for deaths are getting in my way, I'm going to reset them\n",
    "# to zero now.\n",
    "counties[np.isnan(counties.deaths)] =0"
   ]
  },
  {
   "cell_type": "code",
   "execution_count": 53,
   "metadata": {},
   "outputs": [],
   "source": [
    "# And I better update the data frames representing convenient subsets too\n",
    "febdata = counties.loc[np.where(counties.date ==np.datetime64(\"2021-01-31\"))]\n",
    "cookco = counties.loc[np.where( counties.fips == 17031)]\n",
    "deathsbycounty = febdata.sort_values(\"deaths\")"
   ]
  },
  {
   "cell_type": "code",
   "execution_count": 54,
   "metadata": {},
   "outputs": [
    {
     "data": {
      "text/html": [
       "<div>\n",
       "<style scoped>\n",
       "    .dataframe tbody tr th:only-of-type {\n",
       "        vertical-align: middle;\n",
       "    }\n",
       "\n",
       "    .dataframe tbody tr th {\n",
       "        vertical-align: top;\n",
       "    }\n",
       "\n",
       "    .dataframe thead th {\n",
       "        text-align: right;\n",
       "    }\n",
       "</style>\n",
       "<table border=\"1\" class=\"dataframe\">\n",
       "  <thead>\n",
       "    <tr style=\"text-align: right;\">\n",
       "      <th></th>\n",
       "      <th>date</th>\n",
       "      <th>county</th>\n",
       "      <th>state</th>\n",
       "      <th>fips</th>\n",
       "      <th>cases</th>\n",
       "      <th>deaths</th>\n",
       "    </tr>\n",
       "  </thead>\n",
       "  <tbody>\n",
       "    <tr>\n",
       "      <th>0</th>\n",
       "      <td>2020-01-21 00:00:00</td>\n",
       "      <td>Snohomish</td>\n",
       "      <td>Washington</td>\n",
       "      <td>53061.0</td>\n",
       "      <td>1</td>\n",
       "      <td>0.0</td>\n",
       "    </tr>\n",
       "    <tr>\n",
       "      <th>258730</th>\n",
       "      <td>2020-06-20 00:00:00</td>\n",
       "      <td>Upshur</td>\n",
       "      <td>West Virginia</td>\n",
       "      <td>54097.0</td>\n",
       "      <td>11</td>\n",
       "      <td>0.0</td>\n",
       "    </tr>\n",
       "    <tr>\n",
       "      <th>258729</th>\n",
       "      <td>2020-06-20 00:00:00</td>\n",
       "      <td>Tyler</td>\n",
       "      <td>West Virginia</td>\n",
       "      <td>54095.0</td>\n",
       "      <td>3</td>\n",
       "      <td>0.0</td>\n",
       "    </tr>\n",
       "    <tr>\n",
       "      <th>258728</th>\n",
       "      <td>2020-06-20 00:00:00</td>\n",
       "      <td>Tucker</td>\n",
       "      <td>West Virginia</td>\n",
       "      <td>54093.0</td>\n",
       "      <td>5</td>\n",
       "      <td>0.0</td>\n",
       "    </tr>\n",
       "    <tr>\n",
       "      <th>258727</th>\n",
       "      <td>2020-06-20 00:00:00</td>\n",
       "      <td>Taylor</td>\n",
       "      <td>West Virginia</td>\n",
       "      <td>54091.0</td>\n",
       "      <td>13</td>\n",
       "      <td>0.0</td>\n",
       "    </tr>\n",
       "    <tr>\n",
       "      <th>...</th>\n",
       "      <td>...</td>\n",
       "      <td>...</td>\n",
       "      <td>...</td>\n",
       "      <td>...</td>\n",
       "      <td>...</td>\n",
       "      <td>...</td>\n",
       "    </tr>\n",
       "    <tr>\n",
       "      <th>1857480</th>\n",
       "      <td>2021-10-27 00:00:00</td>\n",
       "      <td>New York City</td>\n",
       "      <td>New York</td>\n",
       "      <td>NaN</td>\n",
       "      <td>1117924</td>\n",
       "      <td>34544.0</td>\n",
       "    </tr>\n",
       "    <tr>\n",
       "      <th>1863978</th>\n",
       "      <td>2021-10-29 00:00:00</td>\n",
       "      <td>New York City</td>\n",
       "      <td>New York</td>\n",
       "      <td>NaN</td>\n",
       "      <td>1119470</td>\n",
       "      <td>34557.0</td>\n",
       "    </tr>\n",
       "    <tr>\n",
       "      <th>1870476</th>\n",
       "      <td>2021-10-31 00:00:00</td>\n",
       "      <td>New York City</td>\n",
       "      <td>New York</td>\n",
       "      <td>NaN</td>\n",
       "      <td>1119470</td>\n",
       "      <td>34557.0</td>\n",
       "    </tr>\n",
       "    <tr>\n",
       "      <th>1867227</th>\n",
       "      <td>2021-10-30 00:00:00</td>\n",
       "      <td>New York City</td>\n",
       "      <td>New York</td>\n",
       "      <td>NaN</td>\n",
       "      <td>1119470</td>\n",
       "      <td>34557.0</td>\n",
       "    </tr>\n",
       "    <tr>\n",
       "      <th>1873725</th>\n",
       "      <td>2021-11-01 00:00:00</td>\n",
       "      <td>New York City</td>\n",
       "      <td>New York</td>\n",
       "      <td>NaN</td>\n",
       "      <td>1122970</td>\n",
       "      <td>34580.0</td>\n",
       "    </tr>\n",
       "  </tbody>\n",
       "</table>\n",
       "<p>1875098 rows × 6 columns</p>\n",
       "</div>"
      ],
      "text/plain": [
       "                        date         county          state     fips    cases  \\\n",
       "0        2020-01-21 00:00:00      Snohomish     Washington  53061.0        1   \n",
       "258730   2020-06-20 00:00:00         Upshur  West Virginia  54097.0       11   \n",
       "258729   2020-06-20 00:00:00          Tyler  West Virginia  54095.0        3   \n",
       "258728   2020-06-20 00:00:00         Tucker  West Virginia  54093.0        5   \n",
       "258727   2020-06-20 00:00:00         Taylor  West Virginia  54091.0       13   \n",
       "...                      ...            ...            ...      ...      ...   \n",
       "1857480  2021-10-27 00:00:00  New York City       New York      NaN  1117924   \n",
       "1863978  2021-10-29 00:00:00  New York City       New York      NaN  1119470   \n",
       "1870476  2021-10-31 00:00:00  New York City       New York      NaN  1119470   \n",
       "1867227  2021-10-30 00:00:00  New York City       New York      NaN  1119470   \n",
       "1873725  2021-11-01 00:00:00  New York City       New York      NaN  1122970   \n",
       "\n",
       "          deaths  \n",
       "0            0.0  \n",
       "258730       0.0  \n",
       "258729       0.0  \n",
       "258728       0.0  \n",
       "258727       0.0  \n",
       "...          ...  \n",
       "1857480  34544.0  \n",
       "1863978  34557.0  \n",
       "1870476  34557.0  \n",
       "1867227  34557.0  \n",
       "1873725  34580.0  \n",
       "\n",
       "[1875098 rows x 6 columns]"
      ]
     },
     "execution_count": 54,
     "metadata": {},
     "output_type": "execute_result"
    }
   ],
   "source": [
    "counties.sort_values(\"deaths\")"
   ]
  },
  {
   "cell_type": "code",
   "execution_count": null,
   "metadata": {},
   "outputs": [],
   "source": [
    "# NYC has its own codepoint."
   ]
  },
  {
   "cell_type": "code",
   "execution_count": 44,
   "metadata": {},
   "outputs": [
    {
     "data": {
      "text/plain": [
       "False"
      ]
     },
     "execution_count": 44,
     "metadata": {},
     "output_type": "execute_result"
    }
   ],
   "source": [
    "\"Queens\" in counties.county.values"
   ]
  },
  {
   "cell_type": "code",
   "execution_count": 45,
   "metadata": {},
   "outputs": [
    {
     "data": {
      "text/plain": [
       "True"
      ]
     },
     "execution_count": 45,
     "metadata": {},
     "output_type": "execute_result"
    }
   ],
   "source": [
    "\"Kings\" in counties.county.values"
   ]
  },
  {
   "cell_type": "code",
   "execution_count": 46,
   "metadata": {},
   "outputs": [
    {
     "data": {
      "text/html": [
       "<div>\n",
       "<style scoped>\n",
       "    .dataframe tbody tr th:only-of-type {\n",
       "        vertical-align: middle;\n",
       "    }\n",
       "\n",
       "    .dataframe tbody tr th {\n",
       "        vertical-align: top;\n",
       "    }\n",
       "\n",
       "    .dataframe thead th {\n",
       "        text-align: right;\n",
       "    }\n",
       "</style>\n",
       "<table border=\"1\" class=\"dataframe\">\n",
       "  <thead>\n",
       "    <tr style=\"text-align: right;\">\n",
       "      <th></th>\n",
       "      <th>date</th>\n",
       "      <th>county</th>\n",
       "      <th>state</th>\n",
       "      <th>fips</th>\n",
       "      <th>cases</th>\n",
       "      <th>deaths</th>\n",
       "    </tr>\n",
       "  </thead>\n",
       "  <tbody>\n",
       "    <tr>\n",
       "      <th>14154</th>\n",
       "      <td>2020-03-27 00:00:00</td>\n",
       "      <td>Kings</td>\n",
       "      <td>California</td>\n",
       "      <td>6031.0</td>\n",
       "      <td>1</td>\n",
       "      <td>0.0</td>\n",
       "    </tr>\n",
       "    <tr>\n",
       "      <th>15936</th>\n",
       "      <td>2020-03-28 00:00:00</td>\n",
       "      <td>Kings</td>\n",
       "      <td>California</td>\n",
       "      <td>6031.0</td>\n",
       "      <td>1</td>\n",
       "      <td>0.0</td>\n",
       "    </tr>\n",
       "    <tr>\n",
       "      <th>17825</th>\n",
       "      <td>2020-03-29 00:00:00</td>\n",
       "      <td>Kings</td>\n",
       "      <td>California</td>\n",
       "      <td>6031.0</td>\n",
       "      <td>2</td>\n",
       "      <td>0.0</td>\n",
       "    </tr>\n",
       "    <tr>\n",
       "      <th>19802</th>\n",
       "      <td>2020-03-30 00:00:00</td>\n",
       "      <td>Kings</td>\n",
       "      <td>California</td>\n",
       "      <td>6031.0</td>\n",
       "      <td>3</td>\n",
       "      <td>0.0</td>\n",
       "    </tr>\n",
       "    <tr>\n",
       "      <th>21876</th>\n",
       "      <td>2020-03-31 00:00:00</td>\n",
       "      <td>Kings</td>\n",
       "      <td>California</td>\n",
       "      <td>6031.0</td>\n",
       "      <td>4</td>\n",
       "      <td>0.0</td>\n",
       "    </tr>\n",
       "    <tr>\n",
       "      <th>...</th>\n",
       "      <td>...</td>\n",
       "      <td>...</td>\n",
       "      <td>...</td>\n",
       "      <td>...</td>\n",
       "      <td>...</td>\n",
       "      <td>...</td>\n",
       "    </tr>\n",
       "    <tr>\n",
       "      <th>1859055</th>\n",
       "      <td>2021-10-28 00:00:00</td>\n",
       "      <td>Kings</td>\n",
       "      <td>California</td>\n",
       "      <td>6031.0</td>\n",
       "      <td>33485</td>\n",
       "      <td>336.0</td>\n",
       "    </tr>\n",
       "    <tr>\n",
       "      <th>1862304</th>\n",
       "      <td>2021-10-29 00:00:00</td>\n",
       "      <td>Kings</td>\n",
       "      <td>California</td>\n",
       "      <td>6031.0</td>\n",
       "      <td>33626</td>\n",
       "      <td>337.0</td>\n",
       "    </tr>\n",
       "    <tr>\n",
       "      <th>1865553</th>\n",
       "      <td>2021-10-30 00:00:00</td>\n",
       "      <td>Kings</td>\n",
       "      <td>California</td>\n",
       "      <td>6031.0</td>\n",
       "      <td>33626</td>\n",
       "      <td>337.0</td>\n",
       "    </tr>\n",
       "    <tr>\n",
       "      <th>1868802</th>\n",
       "      <td>2021-10-31 00:00:00</td>\n",
       "      <td>Kings</td>\n",
       "      <td>California</td>\n",
       "      <td>6031.0</td>\n",
       "      <td>33626</td>\n",
       "      <td>337.0</td>\n",
       "    </tr>\n",
       "    <tr>\n",
       "      <th>1872051</th>\n",
       "      <td>2021-11-01 00:00:00</td>\n",
       "      <td>Kings</td>\n",
       "      <td>California</td>\n",
       "      <td>6031.0</td>\n",
       "      <td>33862</td>\n",
       "      <td>338.0</td>\n",
       "    </tr>\n",
       "  </tbody>\n",
       "</table>\n",
       "<p>585 rows × 6 columns</p>\n",
       "</div>"
      ],
      "text/plain": [
       "                        date county       state    fips  cases  deaths\n",
       "14154    2020-03-27 00:00:00  Kings  California  6031.0      1     0.0\n",
       "15936    2020-03-28 00:00:00  Kings  California  6031.0      1     0.0\n",
       "17825    2020-03-29 00:00:00  Kings  California  6031.0      2     0.0\n",
       "19802    2020-03-30 00:00:00  Kings  California  6031.0      3     0.0\n",
       "21876    2020-03-31 00:00:00  Kings  California  6031.0      4     0.0\n",
       "...                      ...    ...         ...     ...    ...     ...\n",
       "1859055  2021-10-28 00:00:00  Kings  California  6031.0  33485   336.0\n",
       "1862304  2021-10-29 00:00:00  Kings  California  6031.0  33626   337.0\n",
       "1865553  2021-10-30 00:00:00  Kings  California  6031.0  33626   337.0\n",
       "1868802  2021-10-31 00:00:00  Kings  California  6031.0  33626   337.0\n",
       "1872051  2021-11-01 00:00:00  Kings  California  6031.0  33862   338.0\n",
       "\n",
       "[585 rows x 6 columns]"
      ]
     },
     "execution_count": 46,
     "metadata": {},
     "output_type": "execute_result"
    }
   ],
   "source": [
    "counties.loc[np.where(counties.county == \"Kings\")]"
   ]
  },
  {
   "cell_type": "code",
   "execution_count": 47,
   "metadata": {},
   "outputs": [
    {
     "data": {
      "text/plain": [
       "California    585\n",
       "Name: state, dtype: int64"
      ]
     },
     "execution_count": 47,
     "metadata": {},
     "output_type": "execute_result"
    }
   ],
   "source": [
    "counties.loc[np.where(counties.county == \"Kings\")][\"state\"].value_counts()"
   ]
  },
  {
   "cell_type": "code",
   "execution_count": null,
   "metadata": {},
   "outputs": [],
   "source": [
    "# Now I am convinced that we are not double-counting NYC.\n",
    "# Our data source does not give us borough-level detail tho."
   ]
  },
  {
   "cell_type": "code",
   "execution_count": null,
   "metadata": {},
   "outputs": [],
   "source": [
    "# The legend says \"cumulative\"\n",
    "# meaning cumulative by time.  Let's try cumulative by county. "
   ]
  },
  {
   "cell_type": "code",
   "execution_count": 48,
   "metadata": {},
   "outputs": [
    {
     "data": {
      "text/plain": [
       "Text(0, 0.5, 'Per-county cumulative COVID deaths, Feb 2021')"
      ]
     },
     "execution_count": 48,
     "metadata": {},
     "output_type": "execute_result"
    },
    {
     "data": {
      "image/png": "[encoded data removed]",
      "text/plain": [
       "<Figure size 432x288 with 1 Axes>"
      ]
     },
     "metadata": {
      "needs_background": "light"
     },
     "output_type": "display_data"
    }
   ],
   "source": [
    "plt.plot(np.arange(len(deathsbycounty)), np.cumsum(deathsbycounty.deaths))\n",
    "plt.xlabel(\"County death rank\")\n",
    "plt.ylabel(\"Per-county cumulative COVID deaths, Feb 2021\")"
   ]
  },
  {
   "cell_type": "code",
   "execution_count": 49,
   "metadata": {},
   "outputs": [
    {
     "data": {
      "text/plain": [
       "Text(0, 0.5, 'Per-county cumulative COVID deaths, Feb 2021')"
      ]
     },
     "execution_count": 49,
     "metadata": {},
     "output_type": "execute_result"
    },
    {
     "data": {
      "image/png": "[encoded data removed]",
      "text/plain": [
       "<Figure size 432x288 with 1 Axes>"
      ]
     },
     "metadata": {
      "needs_background": "light"
     },
     "output_type": "display_data"
    }
   ],
   "source": [
    "plt.plot(np.arange(len(deathsbycounty)), np.cumsum(deathsbycounty.deaths.sort_values(ascending=False)))\n",
    "plt.xlabel(\"County death rank\")\n",
    "plt.ylabel(\"Per-county cumulative COVID deaths, Feb 2021\")"
   ]
  },
  {
   "cell_type": "code",
   "execution_count": 50,
   "metadata": {},
   "outputs": [
    {
     "data": {
      "text/plain": [
       "Text(0, 0.5, 'Per-county cumulative COVID deaths, Feb 2021')"
      ]
     },
     "execution_count": 50,
     "metadata": {},
     "output_type": "execute_result"
    },
    {
     "data": {
      "image/png": "[encoded data removed]",
      "text/plain": [
       "<Figure size 1008x432 with 2 Axes>"
      ]
     },
     "metadata": {
      "needs_background": "light"
     },
     "output_type": "display_data"
    }
   ],
   "source": [
    "# Let us plot these side-by-side\n",
    "plt.figure(figsize=(14,6))\n",
    "plt.subplot(121)\n",
    "plt.plot(np.arange(len(deathsbycounty)), np.cumsum(deathsbycounty.deaths.sort_values(ascending=True)))\n",
    "plt.xlabel(\"County size rank\")\n",
    "plt.ylabel(\"Per-county cumulative COVID deaths, Feb 2021\")\n",
    "plt.subplot(122)\n",
    "plt.plot(np.arange(len(deathsbycounty)), np.cumsum(deathsbycounty.deaths.sort_values(ascending=False)))\n",
    "plt.xlabel(\"County size rank\")\n",
    "plt.ylabel(\"Per-county cumulative COVID deaths, Feb 2021\")"
   ]
  },
  {
   "cell_type": "code",
   "execution_count": null,
   "metadata": {},
   "outputs": [],
   "source": [
    "# This is getting closer.  Clearly more than half of deaths are in a \n",
    "# small fracton of the counties; on linear scales, these graphs\n",
    "# are the same, but counting from largest to smallest vs. smallest\n",
    "# to largest matters if you want to transform either axis by,\n",
    "# for instance, logarithmic scaling."
   ]
  },
  {
   "cell_type": "code",
   "execution_count": 55,
   "metadata": {},
   "outputs": [
    {
     "data": {
      "text/html": [
       "<div>\n",
       "<style scoped>\n",
       "    .dataframe tbody tr th:only-of-type {\n",
       "        vertical-align: middle;\n",
       "    }\n",
       "\n",
       "    .dataframe tbody tr th {\n",
       "        vertical-align: top;\n",
       "    }\n",
       "\n",
       "    .dataframe thead th {\n",
       "        text-align: right;\n",
       "    }\n",
       "</style>\n",
       "<table border=\"1\" class=\"dataframe\">\n",
       "  <thead>\n",
       "    <tr style=\"text-align: right;\">\n",
       "      <th></th>\n",
       "      <th>date</th>\n",
       "      <th>county</th>\n",
       "      <th>state</th>\n",
       "      <th>fips</th>\n",
       "      <th>cases</th>\n",
       "      <th>deaths</th>\n",
       "    </tr>\n",
       "  </thead>\n",
       "  <tbody>\n",
       "    <tr>\n",
       "      <th>982482</th>\n",
       "      <td>2021-01-31 00:00:00</td>\n",
       "      <td>Unknown</td>\n",
       "      <td>Florida</td>\n",
       "      <td>NaN</td>\n",
       "      <td>3334</td>\n",
       "      <td>0.0</td>\n",
       "    </tr>\n",
       "    <tr>\n",
       "      <th>982328</th>\n",
       "      <td>2021-01-31 00:00:00</td>\n",
       "      <td>Sierra</td>\n",
       "      <td>California</td>\n",
       "      <td>6091.0</td>\n",
       "      <td>43</td>\n",
       "      <td>0.0</td>\n",
       "    </tr>\n",
       "    <tr>\n",
       "      <th>983196</th>\n",
       "      <td>2021-01-31 00:00:00</td>\n",
       "      <td>Powell</td>\n",
       "      <td>Kentucky</td>\n",
       "      <td>21197.0</td>\n",
       "      <td>884</td>\n",
       "      <td>0.0</td>\n",
       "    </tr>\n",
       "    <tr>\n",
       "      <th>984318</th>\n",
       "      <td>2021-01-31 00:00:00</td>\n",
       "      <td>Unknown</td>\n",
       "      <td>Oklahoma</td>\n",
       "      <td>NaN</td>\n",
       "      <td>134</td>\n",
       "      <td>0.0</td>\n",
       "    </tr>\n",
       "    <tr>\n",
       "      <th>984351</th>\n",
       "      <td>2021-01-31 00:00:00</td>\n",
       "      <td>Sherman</td>\n",
       "      <td>Oregon</td>\n",
       "      <td>41055.0</td>\n",
       "      <td>49</td>\n",
       "      <td>0.0</td>\n",
       "    </tr>\n",
       "  </tbody>\n",
       "</table>\n",
       "</div>"
      ],
      "text/plain": [
       "                       date   county       state     fips  cases  deaths\n",
       "982482  2021-01-31 00:00:00  Unknown     Florida      NaN   3334     0.0\n",
       "982328  2021-01-31 00:00:00   Sierra  California   6091.0     43     0.0\n",
       "983196  2021-01-31 00:00:00   Powell    Kentucky  21197.0    884     0.0\n",
       "984318  2021-01-31 00:00:00  Unknown    Oklahoma      NaN    134     0.0\n",
       "984351  2021-01-31 00:00:00  Sherman      Oregon  41055.0     49     0.0"
      ]
     },
     "execution_count": 55,
     "metadata": {},
     "output_type": "execute_result"
    }
   ],
   "source": [
    "# top 30 counties, fraction of deaths?\n",
    "deathsbycounty.head()"
   ]
  },
  {
   "cell_type": "code",
   "execution_count": 56,
   "metadata": {},
   "outputs": [
    {
     "data": {
      "text/html": [
       "<div>\n",
       "<style scoped>\n",
       "    .dataframe tbody tr th:only-of-type {\n",
       "        vertical-align: middle;\n",
       "    }\n",
       "\n",
       "    .dataframe tbody tr th {\n",
       "        vertical-align: top;\n",
       "    }\n",
       "\n",
       "    .dataframe thead th {\n",
       "        text-align: right;\n",
       "    }\n",
       "</style>\n",
       "<table border=\"1\" class=\"dataframe\">\n",
       "  <thead>\n",
       "    <tr style=\"text-align: right;\">\n",
       "      <th></th>\n",
       "      <th>date</th>\n",
       "      <th>county</th>\n",
       "      <th>state</th>\n",
       "      <th>fips</th>\n",
       "      <th>cases</th>\n",
       "      <th>deaths</th>\n",
       "    </tr>\n",
       "  </thead>\n",
       "  <tbody>\n",
       "    <tr>\n",
       "      <th>983402</th>\n",
       "      <td>2021-01-31 00:00:00</td>\n",
       "      <td>Oakland</td>\n",
       "      <td>Michigan</td>\n",
       "      <td>26125.0</td>\n",
       "      <td>70447</td>\n",
       "      <td>1898.0</td>\n",
       "    </tr>\n",
       "    <tr>\n",
       "      <th>983999</th>\n",
       "      <td>2021-01-31 00:00:00</td>\n",
       "      <td>Westchester</td>\n",
       "      <td>New York</td>\n",
       "      <td>36119.0</td>\n",
       "      <td>94213</td>\n",
       "      <td>1906.0</td>\n",
       "    </tr>\n",
       "    <tr>\n",
       "      <th>983899</th>\n",
       "      <td>2021-01-31 00:00:00</td>\n",
       "      <td>Middlesex</td>\n",
       "      <td>New Jersey</td>\n",
       "      <td>34023.0</td>\n",
       "      <td>63956</td>\n",
       "      <td>1923.0</td>\n",
       "    </tr>\n",
       "    <tr>\n",
       "      <th>982405</th>\n",
       "      <td>2021-01-31 00:00:00</td>\n",
       "      <td>Fairfield</td>\n",
       "      <td>Connecticut</td>\n",
       "      <td>9001.0</td>\n",
       "      <td>72026</td>\n",
       "      <td>1932.0</td>\n",
       "    </tr>\n",
       "    <tr>\n",
       "      <th>983329</th>\n",
       "      <td>2021-01-31 00:00:00</td>\n",
       "      <td>Essex</td>\n",
       "      <td>Massachusetts</td>\n",
       "      <td>25009.0</td>\n",
       "      <td>77363</td>\n",
       "      <td>1969.0</td>\n",
       "    </tr>\n",
       "    <tr>\n",
       "      <th>982424</th>\n",
       "      <td>2021-01-31 00:00:00</td>\n",
       "      <td>Broward</td>\n",
       "      <td>Florida</td>\n",
       "      <td>12011.0</td>\n",
       "      <td>172864</td>\n",
       "      <td>2092.0</td>\n",
       "    </tr>\n",
       "    <tr>\n",
       "      <th>982406</th>\n",
       "      <td>2021-01-31 00:00:00</td>\n",
       "      <td>Hartford</td>\n",
       "      <td>Connecticut</td>\n",
       "      <td>9003.0</td>\n",
       "      <td>63211</td>\n",
       "      <td>2107.0</td>\n",
       "    </tr>\n",
       "    <tr>\n",
       "      <th>984789</th>\n",
       "      <td>2021-01-31 00:00:00</td>\n",
       "      <td>El Paso</td>\n",
       "      <td>Texas</td>\n",
       "      <td>48141.0</td>\n",
       "      <td>113637</td>\n",
       "      <td>2116.0</td>\n",
       "    </tr>\n",
       "    <tr>\n",
       "      <th>984939</th>\n",
       "      <td>2021-01-31 00:00:00</td>\n",
       "      <td>Tarrant</td>\n",
       "      <td>Texas</td>\n",
       "      <td>48439.0</td>\n",
       "      <td>216910</td>\n",
       "      <td>2160.0</td>\n",
       "    </tr>\n",
       "    <tr>\n",
       "      <th>982468</th>\n",
       "      <td>2021-01-31 00:00:00</td>\n",
       "      <td>Palm Beach</td>\n",
       "      <td>Florida</td>\n",
       "      <td>12099.0</td>\n",
       "      <td>107240</td>\n",
       "      <td>2166.0</td>\n",
       "    </tr>\n",
       "    <tr>\n",
       "      <th>984734</th>\n",
       "      <td>2021-01-31 00:00:00</td>\n",
       "      <td>Bexar</td>\n",
       "      <td>Texas</td>\n",
       "      <td>48029.0</td>\n",
       "      <td>173166</td>\n",
       "      <td>2348.0</td>\n",
       "    </tr>\n",
       "    <tr>\n",
       "      <th>984827</th>\n",
       "      <td>2021-01-31 00:00:00</td>\n",
       "      <td>Hidalgo</td>\n",
       "      <td>Texas</td>\n",
       "      <td>48215.0</td>\n",
       "      <td>62621</td>\n",
       "      <td>2427.0</td>\n",
       "    </tr>\n",
       "    <tr>\n",
       "      <th>983889</th>\n",
       "      <td>2021-01-31 00:00:00</td>\n",
       "      <td>Bergen</td>\n",
       "      <td>New Jersey</td>\n",
       "      <td>34003.0</td>\n",
       "      <td>67253</td>\n",
       "      <td>2474.0</td>\n",
       "    </tr>\n",
       "    <tr>\n",
       "      <th>983894</th>\n",
       "      <td>2021-01-31 00:00:00</td>\n",
       "      <td>Essex</td>\n",
       "      <td>New Jersey</td>\n",
       "      <td>34013.0</td>\n",
       "      <td>65161</td>\n",
       "      <td>2539.0</td>\n",
       "    </tr>\n",
       "    <tr>\n",
       "      <th>982319</th>\n",
       "      <td>2021-01-31 00:00:00</td>\n",
       "      <td>San Diego</td>\n",
       "      <td>California</td>\n",
       "      <td>6073.0</td>\n",
       "      <td>238105</td>\n",
       "      <td>2619.0</td>\n",
       "    </tr>\n",
       "    <tr>\n",
       "      <th>983971</th>\n",
       "      <td>2021-01-31 00:00:00</td>\n",
       "      <td>Nassau</td>\n",
       "      <td>New York</td>\n",
       "      <td>36059.0</td>\n",
       "      <td>128735</td>\n",
       "      <td>2677.0</td>\n",
       "    </tr>\n",
       "    <tr>\n",
       "      <th>983991</th>\n",
       "      <td>2021-01-31 00:00:00</td>\n",
       "      <td>Suffolk</td>\n",
       "      <td>New York</td>\n",
       "      <td>36103.0</td>\n",
       "      <td>143498</td>\n",
       "      <td>2794.0</td>\n",
       "    </tr>\n",
       "    <tr>\n",
       "      <th>984776</th>\n",
       "      <td>2021-01-31 00:00:00</td>\n",
       "      <td>Dallas</td>\n",
       "      <td>Texas</td>\n",
       "      <td>48113.0</td>\n",
       "      <td>258517</td>\n",
       "      <td>2819.0</td>\n",
       "    </tr>\n",
       "    <tr>\n",
       "      <th>984410</th>\n",
       "      <td>2021-01-31 00:00:00</td>\n",
       "      <td>Philadelphia</td>\n",
       "      <td>Pennsylvania</td>\n",
       "      <td>42101.0</td>\n",
       "      <td>109231</td>\n",
       "      <td>2908.0</td>\n",
       "    </tr>\n",
       "    <tr>\n",
       "      <th>982312</th>\n",
       "      <td>2021-01-31 00:00:00</td>\n",
       "      <td>Orange</td>\n",
       "      <td>California</td>\n",
       "      <td>6059.0</td>\n",
       "      <td>245978</td>\n",
       "      <td>3062.0</td>\n",
       "    </tr>\n",
       "    <tr>\n",
       "      <th>982315</th>\n",
       "      <td>2021-01-31 00:00:00</td>\n",
       "      <td>Riverside</td>\n",
       "      <td>California</td>\n",
       "      <td>6065.0</td>\n",
       "      <td>271910</td>\n",
       "      <td>3091.0</td>\n",
       "    </tr>\n",
       "    <tr>\n",
       "      <th>983333</th>\n",
       "      <td>2021-01-31 00:00:00</td>\n",
       "      <td>Middlesex</td>\n",
       "      <td>Massachusetts</td>\n",
       "      <td>25017.0</td>\n",
       "      <td>101919</td>\n",
       "      <td>3126.0</td>\n",
       "    </tr>\n",
       "    <tr>\n",
       "      <th>983862</th>\n",
       "      <td>2021-01-31 00:00:00</td>\n",
       "      <td>Clark</td>\n",
       "      <td>Nevada</td>\n",
       "      <td>32003.0</td>\n",
       "      <td>214108</td>\n",
       "      <td>3276.0</td>\n",
       "    </tr>\n",
       "    <tr>\n",
       "      <th>983422</th>\n",
       "      <td>2021-01-31 00:00:00</td>\n",
       "      <td>Wayne</td>\n",
       "      <td>Michigan</td>\n",
       "      <td>26163.0</td>\n",
       "      <td>96712</td>\n",
       "      <td>3984.0</td>\n",
       "    </tr>\n",
       "    <tr>\n",
       "      <th>984820</th>\n",
       "      <td>2021-01-31 00:00:00</td>\n",
       "      <td>Harris</td>\n",
       "      <td>Texas</td>\n",
       "      <td>48201.0</td>\n",
       "      <td>317654</td>\n",
       "      <td>4257.0</td>\n",
       "    </tr>\n",
       "    <tr>\n",
       "      <th>982461</th>\n",
       "      <td>2021-01-31 00:00:00</td>\n",
       "      <td>Miami-Dade</td>\n",
       "      <td>Florida</td>\n",
       "      <td>12086.0</td>\n",
       "      <td>372119</td>\n",
       "      <td>4874.0</td>\n",
       "    </tr>\n",
       "    <tr>\n",
       "      <th>982199</th>\n",
       "      <td>2021-01-31 00:00:00</td>\n",
       "      <td>Maricopa</td>\n",
       "      <td>Arizona</td>\n",
       "      <td>4013.0</td>\n",
       "      <td>472760</td>\n",
       "      <td>7462.0</td>\n",
       "    </tr>\n",
       "    <tr>\n",
       "      <th>982712</th>\n",
       "      <td>2021-01-31 00:00:00</td>\n",
       "      <td>Cook</td>\n",
       "      <td>Illinois</td>\n",
       "      <td>17031.0</td>\n",
       "      <td>453634</td>\n",
       "      <td>9374.0</td>\n",
       "    </tr>\n",
       "    <tr>\n",
       "      <th>982301</th>\n",
       "      <td>2021-01-31 00:00:00</td>\n",
       "      <td>Los Angeles</td>\n",
       "      <td>California</td>\n",
       "      <td>6037.0</td>\n",
       "      <td>1117346</td>\n",
       "      <td>16770.0</td>\n",
       "    </tr>\n",
       "    <tr>\n",
       "      <th>983972</th>\n",
       "      <td>2021-01-31 00:00:00</td>\n",
       "      <td>New York City</td>\n",
       "      <td>New York</td>\n",
       "      <td>NaN</td>\n",
       "      <td>608862</td>\n",
       "      <td>27138.0</td>\n",
       "    </tr>\n",
       "  </tbody>\n",
       "</table>\n",
       "</div>"
      ],
      "text/plain": [
       "                       date         county          state     fips    cases  \\\n",
       "983402  2021-01-31 00:00:00        Oakland       Michigan  26125.0    70447   \n",
       "983999  2021-01-31 00:00:00    Westchester       New York  36119.0    94213   \n",
       "983899  2021-01-31 00:00:00      Middlesex     New Jersey  34023.0    63956   \n",
       "982405  2021-01-31 00:00:00      Fairfield    Connecticut   9001.0    72026   \n",
       "983329  2021-01-31 00:00:00          Essex  Massachusetts  25009.0    77363   \n",
       "982424  2021-01-31 00:00:00        Broward        Florida  12011.0   172864   \n",
       "982406  2021-01-31 00:00:00       Hartford    Connecticut   9003.0    63211   \n",
       "984789  2021-01-31 00:00:00        El Paso          Texas  48141.0   113637   \n",
       "984939  2021-01-31 00:00:00        Tarrant          Texas  48439.0   216910   \n",
       "982468  2021-01-31 00:00:00     Palm Beach        Florida  12099.0   107240   \n",
       "984734  2021-01-31 00:00:00          Bexar          Texas  48029.0   173166   \n",
       "984827  2021-01-31 00:00:00        Hidalgo          Texas  48215.0    62621   \n",
       "983889  2021-01-31 00:00:00         Bergen     New Jersey  34003.0    67253   \n",
       "983894  2021-01-31 00:00:00          Essex     New Jersey  34013.0    65161   \n",
       "982319  2021-01-31 00:00:00      San Diego     California   6073.0   238105   \n",
       "983971  2021-01-31 00:00:00         Nassau       New York  36059.0   128735   \n",
       "983991  2021-01-31 00:00:00        Suffolk       New York  36103.0   143498   \n",
       "984776  2021-01-31 00:00:00         Dallas          Texas  48113.0   258517   \n",
       "984410  2021-01-31 00:00:00   Philadelphia   Pennsylvania  42101.0   109231   \n",
       "982312  2021-01-31 00:00:00         Orange     California   6059.0   245978   \n",
       "982315  2021-01-31 00:00:00      Riverside     California   6065.0   271910   \n",
       "983333  2021-01-31 00:00:00      Middlesex  Massachusetts  25017.0   101919   \n",
       "983862  2021-01-31 00:00:00          Clark         Nevada  32003.0   214108   \n",
       "983422  2021-01-31 00:00:00          Wayne       Michigan  26163.0    96712   \n",
       "984820  2021-01-31 00:00:00         Harris          Texas  48201.0   317654   \n",
       "982461  2021-01-31 00:00:00     Miami-Dade        Florida  12086.0   372119   \n",
       "982199  2021-01-31 00:00:00       Maricopa        Arizona   4013.0   472760   \n",
       "982712  2021-01-31 00:00:00           Cook       Illinois  17031.0   453634   \n",
       "982301  2021-01-31 00:00:00    Los Angeles     California   6037.0  1117346   \n",
       "983972  2021-01-31 00:00:00  New York City       New York      NaN   608862   \n",
       "\n",
       "         deaths  \n",
       "983402   1898.0  \n",
       "983999   1906.0  \n",
       "983899   1923.0  \n",
       "982405   1932.0  \n",
       "983329   1969.0  \n",
       "982424   2092.0  \n",
       "982406   2107.0  \n",
       "984789   2116.0  \n",
       "984939   2160.0  \n",
       "982468   2166.0  \n",
       "984734   2348.0  \n",
       "984827   2427.0  \n",
       "983889   2474.0  \n",
       "983894   2539.0  \n",
       "982319   2619.0  \n",
       "983971   2677.0  \n",
       "983991   2794.0  \n",
       "984776   2819.0  \n",
       "984410   2908.0  \n",
       "982312   3062.0  \n",
       "982315   3091.0  \n",
       "983333   3126.0  \n",
       "983862   3276.0  \n",
       "983422   3984.0  \n",
       "984820   4257.0  \n",
       "982461   4874.0  \n",
       "982199   7462.0  \n",
       "982712   9374.0  \n",
       "982301  16770.0  \n",
       "983972  27138.0  "
      ]
     },
     "execution_count": 56,
     "metadata": {},
     "output_type": "execute_result"
    }
   ],
   "source": [
    "deathsbycounty[-30:]"
   ]
  },
  {
   "cell_type": "code",
   "execution_count": null,
   "metadata": {},
   "outputs": [],
   "source": []
  },
  {
   "cell_type": "code",
   "execution_count": null,
   "metadata": {},
   "outputs": [],
   "source": []
  },
  {
   "cell_type": "code",
   "execution_count": null,
   "metadata": {},
   "outputs": [],
   "source": []
  },
  {
   "cell_type": "code",
   "execution_count": 57,
   "metadata": {},
   "outputs": [
    {
     "data": {
      "text/plain": [
       "0.2952374693801708"
      ]
     },
     "execution_count": 57,
     "metadata": {},
     "output_type": "execute_result"
    }
   ],
   "source": [
    "np.sum(deathsbycounty.deaths[-30:]) / np.sum(deathsbycounty.deaths)"
   ]
  },
  {
   "cell_type": "code",
   "execution_count": 58,
   "metadata": {},
   "outputs": [
    {
     "data": {
      "text/plain": [
       "130288.0"
      ]
     },
     "execution_count": 58,
     "metadata": {},
     "output_type": "execute_result"
    }
   ],
   "source": [
    "np.sum(deathsbycounty.deaths[-30:])"
   ]
  },
  {
   "cell_type": "code",
   "execution_count": 59,
   "metadata": {},
   "outputs": [
    {
     "name": "stderr",
     "output_type": "stream",
     "text": [
      "/Applications/anaconda3/lib/python3.8/site-packages/pandas/core/indexing.py:670: SettingWithCopyWarning: \n",
      "A value is trying to be set on a copy of a slice from a DataFrame\n",
      "\n",
      "See the caveats in the documentation: https://pandas.pydata.org/pandas-docs/stable/user_guide/indexing.html#returning-a-view-versus-a-copy\n",
      "  iloc._setitem_with_indexer(indexer, value)\n"
     ]
    }
   ],
   "source": []
  },
  {
   "cell_type": "code",
   "execution_count": 60,
   "metadata": {},
   "outputs": [
    {
     "data": {
      "text/html": [
       "<div>\n",
       "<style scoped>\n",
       "    .dataframe tbody tr th:only-of-type {\n",
       "        vertical-align: middle;\n",
       "    }\n",
       "\n",
       "    .dataframe tbody tr th {\n",
       "        vertical-align: top;\n",
       "    }\n",
       "\n",
       "    .dataframe thead th {\n",
       "        text-align: right;\n",
       "    }\n",
       "</style>\n",
       "<table border=\"1\" class=\"dataframe\">\n",
       "  <thead>\n",
       "    <tr style=\"text-align: right;\">\n",
       "      <th></th>\n",
       "      <th>date</th>\n",
       "      <th>county</th>\n",
       "      <th>state</th>\n",
       "      <th>fips</th>\n",
       "      <th>cases</th>\n",
       "      <th>deaths</th>\n",
       "    </tr>\n",
       "  </thead>\n",
       "  <tbody>\n",
       "    <tr>\n",
       "      <th>1844482</th>\n",
       "      <td>2021-10-23 00:00:00</td>\n",
       "      <td>New York City</td>\n",
       "      <td>New York</td>\n",
       "      <td>NaN</td>\n",
       "      <td>1113762</td>\n",
       "      <td>34502.0</td>\n",
       "    </tr>\n",
       "    <tr>\n",
       "      <th>1841232</th>\n",
       "      <td>2021-10-22 00:00:00</td>\n",
       "      <td>New York City</td>\n",
       "      <td>New York</td>\n",
       "      <td>NaN</td>\n",
       "      <td>1113762</td>\n",
       "      <td>34502.0</td>\n",
       "    </tr>\n",
       "    <tr>\n",
       "      <th>1850982</th>\n",
       "      <td>2021-10-25 00:00:00</td>\n",
       "      <td>New York City</td>\n",
       "      <td>New York</td>\n",
       "      <td>NaN</td>\n",
       "      <td>1116428</td>\n",
       "      <td>34531.0</td>\n",
       "    </tr>\n",
       "    <tr>\n",
       "      <th>1854231</th>\n",
       "      <td>2021-10-26 00:00:00</td>\n",
       "      <td>New York City</td>\n",
       "      <td>New York</td>\n",
       "      <td>NaN</td>\n",
       "      <td>1117283</td>\n",
       "      <td>34533.0</td>\n",
       "    </tr>\n",
       "    <tr>\n",
       "      <th>1860729</th>\n",
       "      <td>2021-10-28 00:00:00</td>\n",
       "      <td>New York City</td>\n",
       "      <td>New York</td>\n",
       "      <td>NaN</td>\n",
       "      <td>1117924</td>\n",
       "      <td>34544.0</td>\n",
       "    </tr>\n",
       "    <tr>\n",
       "      <th>1857480</th>\n",
       "      <td>2021-10-27 00:00:00</td>\n",
       "      <td>New York City</td>\n",
       "      <td>New York</td>\n",
       "      <td>NaN</td>\n",
       "      <td>1117924</td>\n",
       "      <td>34544.0</td>\n",
       "    </tr>\n",
       "    <tr>\n",
       "      <th>1863978</th>\n",
       "      <td>2021-10-29 00:00:00</td>\n",
       "      <td>New York City</td>\n",
       "      <td>New York</td>\n",
       "      <td>NaN</td>\n",
       "      <td>1119470</td>\n",
       "      <td>34557.0</td>\n",
       "    </tr>\n",
       "    <tr>\n",
       "      <th>1870476</th>\n",
       "      <td>2021-10-31 00:00:00</td>\n",
       "      <td>New York City</td>\n",
       "      <td>New York</td>\n",
       "      <td>NaN</td>\n",
       "      <td>1119470</td>\n",
       "      <td>34557.0</td>\n",
       "    </tr>\n",
       "    <tr>\n",
       "      <th>1867227</th>\n",
       "      <td>2021-10-30 00:00:00</td>\n",
       "      <td>New York City</td>\n",
       "      <td>New York</td>\n",
       "      <td>NaN</td>\n",
       "      <td>1119470</td>\n",
       "      <td>34557.0</td>\n",
       "    </tr>\n",
       "    <tr>\n",
       "      <th>1873725</th>\n",
       "      <td>2021-11-01 00:00:00</td>\n",
       "      <td>New York City</td>\n",
       "      <td>New York</td>\n",
       "      <td>NaN</td>\n",
       "      <td>1122970</td>\n",
       "      <td>34580.0</td>\n",
       "    </tr>\n",
       "  </tbody>\n",
       "</table>\n",
       "</div>"
      ],
      "text/plain": [
       "                        date         county     state  fips    cases   deaths\n",
       "1844482  2021-10-23 00:00:00  New York City  New York   NaN  1113762  34502.0\n",
       "1841232  2021-10-22 00:00:00  New York City  New York   NaN  1113762  34502.0\n",
       "1850982  2021-10-25 00:00:00  New York City  New York   NaN  1116428  34531.0\n",
       "1854231  2021-10-26 00:00:00  New York City  New York   NaN  1117283  34533.0\n",
       "1860729  2021-10-28 00:00:00  New York City  New York   NaN  1117924  34544.0\n",
       "1857480  2021-10-27 00:00:00  New York City  New York   NaN  1117924  34544.0\n",
       "1863978  2021-10-29 00:00:00  New York City  New York   NaN  1119470  34557.0\n",
       "1870476  2021-10-31 00:00:00  New York City  New York   NaN  1119470  34557.0\n",
       "1867227  2021-10-30 00:00:00  New York City  New York   NaN  1119470  34557.0\n",
       "1873725  2021-11-01 00:00:00  New York City  New York   NaN  1122970  34580.0"
      ]
     },
     "execution_count": 60,
     "metadata": {},
     "output_type": "execute_result"
    }
   ],
   "source": [
    "counties.sort_values(\"deaths\")[-10:]"
   ]
  },
  {
   "cell_type": "code",
   "execution_count": 61,
   "metadata": {},
   "outputs": [
    {
     "data": {
      "text/html": [
       "<div>\n",
       "<style scoped>\n",
       "    .dataframe tbody tr th:only-of-type {\n",
       "        vertical-align: middle;\n",
       "    }\n",
       "\n",
       "    .dataframe tbody tr th {\n",
       "        vertical-align: top;\n",
       "    }\n",
       "\n",
       "    .dataframe thead th {\n",
       "        text-align: right;\n",
       "    }\n",
       "</style>\n",
       "<table border=\"1\" class=\"dataframe\">\n",
       "  <thead>\n",
       "    <tr style=\"text-align: right;\">\n",
       "      <th></th>\n",
       "      <th>date</th>\n",
       "      <th>county</th>\n",
       "      <th>state</th>\n",
       "      <th>fips</th>\n",
       "      <th>cases</th>\n",
       "      <th>deaths</th>\n",
       "    </tr>\n",
       "  </thead>\n",
       "  <tbody>\n",
       "    <tr>\n",
       "      <th>982315</th>\n",
       "      <td>2021-01-31 00:00:00</td>\n",
       "      <td>Riverside</td>\n",
       "      <td>California</td>\n",
       "      <td>6065.0</td>\n",
       "      <td>271910</td>\n",
       "      <td>3091.0</td>\n",
       "    </tr>\n",
       "    <tr>\n",
       "      <th>983333</th>\n",
       "      <td>2021-01-31 00:00:00</td>\n",
       "      <td>Middlesex</td>\n",
       "      <td>Massachusetts</td>\n",
       "      <td>25017.0</td>\n",
       "      <td>101919</td>\n",
       "      <td>3126.0</td>\n",
       "    </tr>\n",
       "    <tr>\n",
       "      <th>983862</th>\n",
       "      <td>2021-01-31 00:00:00</td>\n",
       "      <td>Clark</td>\n",
       "      <td>Nevada</td>\n",
       "      <td>32003.0</td>\n",
       "      <td>214108</td>\n",
       "      <td>3276.0</td>\n",
       "    </tr>\n",
       "    <tr>\n",
       "      <th>983422</th>\n",
       "      <td>2021-01-31 00:00:00</td>\n",
       "      <td>Wayne</td>\n",
       "      <td>Michigan</td>\n",
       "      <td>26163.0</td>\n",
       "      <td>96712</td>\n",
       "      <td>3984.0</td>\n",
       "    </tr>\n",
       "    <tr>\n",
       "      <th>984820</th>\n",
       "      <td>2021-01-31 00:00:00</td>\n",
       "      <td>Harris</td>\n",
       "      <td>Texas</td>\n",
       "      <td>48201.0</td>\n",
       "      <td>317654</td>\n",
       "      <td>4257.0</td>\n",
       "    </tr>\n",
       "    <tr>\n",
       "      <th>982461</th>\n",
       "      <td>2021-01-31 00:00:00</td>\n",
       "      <td>Miami-Dade</td>\n",
       "      <td>Florida</td>\n",
       "      <td>12086.0</td>\n",
       "      <td>372119</td>\n",
       "      <td>4874.0</td>\n",
       "    </tr>\n",
       "    <tr>\n",
       "      <th>982199</th>\n",
       "      <td>2021-01-31 00:00:00</td>\n",
       "      <td>Maricopa</td>\n",
       "      <td>Arizona</td>\n",
       "      <td>4013.0</td>\n",
       "      <td>472760</td>\n",
       "      <td>7462.0</td>\n",
       "    </tr>\n",
       "    <tr>\n",
       "      <th>982712</th>\n",
       "      <td>2021-01-31 00:00:00</td>\n",
       "      <td>Cook</td>\n",
       "      <td>Illinois</td>\n",
       "      <td>17031.0</td>\n",
       "      <td>453634</td>\n",
       "      <td>9374.0</td>\n",
       "    </tr>\n",
       "    <tr>\n",
       "      <th>982301</th>\n",
       "      <td>2021-01-31 00:00:00</td>\n",
       "      <td>Los Angeles</td>\n",
       "      <td>California</td>\n",
       "      <td>6037.0</td>\n",
       "      <td>1117346</td>\n",
       "      <td>16770.0</td>\n",
       "    </tr>\n",
       "    <tr>\n",
       "      <th>983972</th>\n",
       "      <td>2021-01-31 00:00:00</td>\n",
       "      <td>New York City</td>\n",
       "      <td>New York</td>\n",
       "      <td>NaN</td>\n",
       "      <td>608862</td>\n",
       "      <td>27138.0</td>\n",
       "    </tr>\n",
       "  </tbody>\n",
       "</table>\n",
       "</div>"
      ],
      "text/plain": [
       "                       date         county          state     fips    cases  \\\n",
       "982315  2021-01-31 00:00:00      Riverside     California   6065.0   271910   \n",
       "983333  2021-01-31 00:00:00      Middlesex  Massachusetts  25017.0   101919   \n",
       "983862  2021-01-31 00:00:00          Clark         Nevada  32003.0   214108   \n",
       "983422  2021-01-31 00:00:00          Wayne       Michigan  26163.0    96712   \n",
       "984820  2021-01-31 00:00:00         Harris          Texas  48201.0   317654   \n",
       "982461  2021-01-31 00:00:00     Miami-Dade        Florida  12086.0   372119   \n",
       "982199  2021-01-31 00:00:00       Maricopa        Arizona   4013.0   472760   \n",
       "982712  2021-01-31 00:00:00           Cook       Illinois  17031.0   453634   \n",
       "982301  2021-01-31 00:00:00    Los Angeles     California   6037.0  1117346   \n",
       "983972  2021-01-31 00:00:00  New York City       New York      NaN   608862   \n",
       "\n",
       "         deaths  \n",
       "982315   3091.0  \n",
       "983333   3126.0  \n",
       "983862   3276.0  \n",
       "983422   3984.0  \n",
       "984820   4257.0  \n",
       "982461   4874.0  \n",
       "982199   7462.0  \n",
       "982712   9374.0  \n",
       "982301  16770.0  \n",
       "983972  27138.0  "
      ]
     },
     "execution_count": 61,
     "metadata": {},
     "output_type": "execute_result"
    }
   ],
   "source": [
    "deathsbycounty[-10:]"
   ]
  },
  {
   "cell_type": "code",
   "execution_count": 62,
   "metadata": {},
   "outputs": [],
   "source": [
    "# Now we need to go fetch population by county \n",
    "# This table purports to assemble 2020 census data in a usable table\n",
    "# https://github.com/nytimes/covid-19-data/issues/180\n",
    "population = pd.read_json(\"https://raw.githubusercontent.com/Zoooook/CoronavirusTimelapse/master/static/population.json\")"
   ]
  },
  {
   "cell_type": "code",
   "execution_count": 63,
   "metadata": {},
   "outputs": [
    {
     "data": {
      "text/html": [
       "<div>\n",
       "<style scoped>\n",
       "    .dataframe tbody tr th:only-of-type {\n",
       "        vertical-align: middle;\n",
       "    }\n",
       "\n",
       "    .dataframe tbody tr th {\n",
       "        vertical-align: top;\n",
       "    }\n",
       "\n",
       "    .dataframe thead th {\n",
       "        text-align: right;\n",
       "    }\n",
       "</style>\n",
       "<table border=\"1\" class=\"dataframe\">\n",
       "  <thead>\n",
       "    <tr style=\"text-align: right;\">\n",
       "      <th></th>\n",
       "      <th>us_state_fips</th>\n",
       "      <th>us_county_fips</th>\n",
       "      <th>population</th>\n",
       "      <th>region</th>\n",
       "      <th>subregion</th>\n",
       "      <th>nyt_population</th>\n",
       "    </tr>\n",
       "  </thead>\n",
       "  <tbody>\n",
       "    <tr>\n",
       "      <th>0</th>\n",
       "      <td>78</td>\n",
       "      <td>78999</td>\n",
       "      <td>104680</td>\n",
       "      <td>Virgin Islands</td>\n",
       "      <td>Unknown</td>\n",
       "      <td>NaN</td>\n",
       "    </tr>\n",
       "    <tr>\n",
       "      <th>1</th>\n",
       "      <td>72</td>\n",
       "      <td>72999</td>\n",
       "      <td>3386941</td>\n",
       "      <td>Puerto Rico</td>\n",
       "      <td>Unknown</td>\n",
       "      <td>NaN</td>\n",
       "    </tr>\n",
       "    <tr>\n",
       "      <th>2</th>\n",
       "      <td>66</td>\n",
       "      <td>66999</td>\n",
       "      <td>165768</td>\n",
       "      <td>Guam</td>\n",
       "      <td>Unknown</td>\n",
       "      <td>NaN</td>\n",
       "    </tr>\n",
       "    <tr>\n",
       "      <th>3</th>\n",
       "      <td>69</td>\n",
       "      <td>69999</td>\n",
       "      <td>56882</td>\n",
       "      <td>Northern Mariana Islands</td>\n",
       "      <td>Unknown</td>\n",
       "      <td>NaN</td>\n",
       "    </tr>\n",
       "    <tr>\n",
       "      <th>4</th>\n",
       "      <td>1</td>\n",
       "      <td>1001</td>\n",
       "      <td>55200</td>\n",
       "      <td>Alabama</td>\n",
       "      <td>Autauga</td>\n",
       "      <td>NaN</td>\n",
       "    </tr>\n",
       "  </tbody>\n",
       "</table>\n",
       "</div>"
      ],
      "text/plain": [
       "   us_state_fips  us_county_fips  population                    region  \\\n",
       "0             78           78999      104680            Virgin Islands   \n",
       "1             72           72999     3386941               Puerto Rico   \n",
       "2             66           66999      165768                      Guam   \n",
       "3             69           69999       56882  Northern Mariana Islands   \n",
       "4              1            1001       55200                   Alabama   \n",
       "\n",
       "  subregion  nyt_population  \n",
       "0   Unknown             NaN  \n",
       "1   Unknown             NaN  \n",
       "2   Unknown             NaN  \n",
       "3   Unknown             NaN  \n",
       "4   Autauga             NaN  "
      ]
     },
     "execution_count": 63,
     "metadata": {},
     "output_type": "execute_result"
    }
   ],
   "source": [
    "population.head()"
   ]
  },
  {
   "cell_type": "code",
   "execution_count": 64,
   "metadata": {},
   "outputs": [
    {
     "data": {
      "text/plain": [
       "326617301"
      ]
     },
     "execution_count": 64,
     "metadata": {},
     "output_type": "execute_result"
    }
   ],
   "source": [
    "merg"
   ]
  },
  {
   "cell_type": "code",
   "execution_count": null,
   "metadata": {},
   "outputs": [],
   "source": [
    "# 326 million.. this is more recent than the 2010 census then."
   ]
  },
  {
   "cell_type": "code",
   "execution_count": null,
   "metadata": {},
   "outputs": [],
   "source": []
  },
  {
   "cell_type": "code",
   "execution_count": 65,
   "metadata": {},
   "outputs": [],
   "source": [
    "countiesbypop = population.population.sort_values(ascending=False)"
   ]
  },
  {
   "cell_type": "code",
   "execution_count": 66,
   "metadata": {},
   "outputs": [
    {
     "data": {
      "text/plain": [
       "[<matplotlib.lines.Line2D at 0x7f84b57052e0>]"
      ]
     },
     "execution_count": 66,
     "metadata": {},
     "output_type": "execute_result"
    },
    {
     "data": {
      "image/png": "[encoded data removed]",
      "text/plain": [
       "<Figure size 432x288 with 1 Axes>"
      ]
     },
     "metadata": {
      "needs_background": "light"
     },
     "output_type": "display_data"
    }
   ],
   "source": [
    "plt.plot(np.arange(len(countiesbypop)), countiesbypop)"
   ]
  },
  {
   "cell_type": "code",
   "execution_count": 70,
   "metadata": {},
   "outputs": [
    {
     "data": {
      "text/plain": [
       "Text(0, 0.5, 'Cumulative population')"
      ]
     },
     "execution_count": 70,
     "metadata": {},
     "output_type": "execute_result"
    },
    {
     "data": {
      "image/png": "[encoded data removed]",
      "text/plain": [
       "<Figure size 432x288 with 1 Axes>"
      ]
     },
     "metadata": {
      "needs_background": "light"
     },
     "output_type": "display_data"
    }
   ],
   "source": [
    "plt.plot(np.arange(len(countiesbypop)), np.cumsum(countiesbypop))\n",
    "plt.xlabel(\"County population rank\")\n",
    "plt.ylabel(\"Cumulative population\")"
   ]
  },
  {
   "cell_type": "code",
   "execution_count": 68,
   "metadata": {},
   "outputs": [],
   "source": [
    "deathsbycountyrev = febdata.deaths.sort_values(ascending=False)"
   ]
  },
  {
   "cell_type": "code",
   "execution_count": 69,
   "metadata": {},
   "outputs": [
    {
     "data": {
      "text/plain": [
       "[<matplotlib.lines.Line2D at 0x7f84c990b850>]"
      ]
     },
     "execution_count": 69,
     "metadata": {},
     "output_type": "execute_result"
    },
    {
     "data": {
      "image/png": "[encoded data removed]",
      "text/plain": [
       "<Figure size 432x288 with 1 Axes>"
      ]
     },
     "metadata": {
      "needs_background": "light"
     },
     "output_type": "display_data"
    }
   ],
   "source": [
    "plt.plot(np.arange(len(countiesbypop)), np.cumsum(countiesbypop))\n",
    "plt.plot(np.arange(len(deathsbycountyrev)), np.cumsum(deathsbycountyrev))"
   ]
  },
  {
   "cell_type": "code",
   "execution_count": null,
   "metadata": {},
   "outputs": [],
   "source": [
    "# -1 point for not being expressive.  326 million and 400k don't\n",
    "# fit on the same graph.  Log transform?"
   ]
  },
  {
   "cell_type": "code",
   "execution_count": 71,
   "metadata": {},
   "outputs": [
    {
     "data": {
      "image/png": "[encoded data removed]",
      "text/plain": [
       "<Figure size 432x288 with 1 Axes>"
      ]
     },
     "metadata": {
      "needs_background": "light"
     },
     "output_type": "display_data"
    }
   ],
   "source": [
    "plt.plot(np.arange(len(countiesbypop)), np.cumsum(countiesbypop))\n",
    "plt.plot(np.arange(len(deathsbycountyrev)), np.cumsum(deathsbycountyrev))\n",
    "plt.yscale(\"log\")"
   ]
  },
  {
   "cell_type": "code",
   "execution_count": null,
   "metadata": {},
   "outputs": [],
   "source": [
    "# I am being intellecutally dishonest here, watch out. \n",
    "# Because I've not joined the two tables on the fips county id yet,\n",
    "# I am presenting two sorted series of counties \n",
    "# that have been sorted by different columns\n",
    "# as if they are the same.  One is sorted by population;\n",
    "# one is sorted by deaths.  But each row has its own identity, \n",
    "# and there is a one-to-one relationship betwen population and\n",
    "# deaths that I have NOT yet shown."
   ]
  },
  {
   "cell_type": "code",
   "execution_count": 72,
   "metadata": {},
   "outputs": [
    {
     "data": {
      "text/html": [
       "<div>\n",
       "<style scoped>\n",
       "    .dataframe tbody tr th:only-of-type {\n",
       "        vertical-align: middle;\n",
       "    }\n",
       "\n",
       "    .dataframe tbody tr th {\n",
       "        vertical-align: top;\n",
       "    }\n",
       "\n",
       "    .dataframe thead th {\n",
       "        text-align: right;\n",
       "    }\n",
       "</style>\n",
       "<table border=\"1\" class=\"dataframe\">\n",
       "  <thead>\n",
       "    <tr style=\"text-align: right;\">\n",
       "      <th></th>\n",
       "      <th>us_state_fips</th>\n",
       "      <th>us_county_fips</th>\n",
       "      <th>population</th>\n",
       "      <th>region</th>\n",
       "      <th>subregion</th>\n",
       "      <th>nyt_population</th>\n",
       "    </tr>\n",
       "  </thead>\n",
       "  <tbody>\n",
       "    <tr>\n",
       "      <th>0</th>\n",
       "      <td>78</td>\n",
       "      <td>78999</td>\n",
       "      <td>104680</td>\n",
       "      <td>Virgin Islands</td>\n",
       "      <td>Unknown</td>\n",
       "      <td>NaN</td>\n",
       "    </tr>\n",
       "  </tbody>\n",
       "</table>\n",
       "</div>"
      ],
      "text/plain": [
       "   us_state_fips  us_county_fips  population          region subregion  \\\n",
       "0             78           78999      104680  Virgin Islands   Unknown   \n",
       "\n",
       "   nyt_population  \n",
       "0             NaN  "
      ]
     },
     "execution_count": 72,
     "metadata": {},
     "output_type": "execute_result"
    }
   ],
   "source": [
    "population.head(1)"
   ]
  },
  {
   "cell_type": "code",
   "execution_count": 73,
   "metadata": {},
   "outputs": [
    {
     "data": {
      "text/html": [
       "<div>\n",
       "<style scoped>\n",
       "    .dataframe tbody tr th:only-of-type {\n",
       "        vertical-align: middle;\n",
       "    }\n",
       "\n",
       "    .dataframe tbody tr th {\n",
       "        vertical-align: top;\n",
       "    }\n",
       "\n",
       "    .dataframe thead th {\n",
       "        text-align: right;\n",
       "    }\n",
       "</style>\n",
       "<table border=\"1\" class=\"dataframe\">\n",
       "  <thead>\n",
       "    <tr style=\"text-align: right;\">\n",
       "      <th></th>\n",
       "      <th>date</th>\n",
       "      <th>county</th>\n",
       "      <th>state</th>\n",
       "      <th>fips</th>\n",
       "      <th>cases</th>\n",
       "      <th>deaths</th>\n",
       "    </tr>\n",
       "  </thead>\n",
       "  <tbody>\n",
       "    <tr>\n",
       "      <th>982097</th>\n",
       "      <td>2021-01-31 00:00:00</td>\n",
       "      <td>Autauga</td>\n",
       "      <td>Alabama</td>\n",
       "      <td>1001.0</td>\n",
       "      <td>5669</td>\n",
       "      <td>69.0</td>\n",
       "    </tr>\n",
       "  </tbody>\n",
       "</table>\n",
       "</div>"
      ],
      "text/plain": [
       "                       date   county    state    fips  cases  deaths\n",
       "982097  2021-01-31 00:00:00  Autauga  Alabama  1001.0   5669    69.0"
      ]
     },
     "execution_count": 73,
     "metadata": {},
     "output_type": "execute_result"
    }
   ],
   "source": [
    "febdata.head(1)"
   ]
  },
  {
   "cell_type": "code",
   "execution_count": null,
   "metadata": {},
   "outputs": [],
   "source": [
    "# I have to note that the deaths data encodes fips as a \n",
    "# floating point number, while the population data enocdes \n",
    "# it as an integer.  This is probably enough to prevent me\n",
    "# from joining it.  \n"
   ]
  },
  {
   "cell_type": "code",
   "execution_count": 74,
   "metadata": {},
   "outputs": [
    {
     "data": {
      "text/plain": [
       "dtype('float64')"
      ]
     },
     "execution_count": 74,
     "metadata": {},
     "output_type": "execute_result"
    }
   ],
   "source": [
    "febdata.fips.dtype"
   ]
  },
  {
   "cell_type": "code",
   "execution_count": 75,
   "metadata": {},
   "outputs": [
    {
     "ename": "ValueError",
     "evalue": "Cannot convert non-finite values (NA or inf) to integer",
     "output_type": "error",
     "traceback": [
      "\u001b[0;31m---------------------------------------------------------------------------\u001b[0m",
      "\u001b[0;31mValueError\u001b[0m                                Traceback (most recent call last)",
      "\u001b[0;32m<ipython-input-75-d3b3173bb27c>\u001b[0m in \u001b[0;36m<module>\u001b[0;34m\u001b[0m\n\u001b[0;32m----> 1\u001b[0;31m \u001b[0mfebdata\u001b[0m\u001b[0;34m.\u001b[0m\u001b[0mfips\u001b[0m\u001b[0;34m.\u001b[0m\u001b[0mastype\u001b[0m\u001b[0;34m(\u001b[0m\u001b[0;34m\"int64\"\u001b[0m\u001b[0;34m)\u001b[0m\u001b[0;34m\u001b[0m\u001b[0;34m\u001b[0m\u001b[0m\n\u001b[0m",
      "\u001b[0;32m/Applications/anaconda3/lib/python3.8/site-packages/pandas/core/generic.py\u001b[0m in \u001b[0;36mastype\u001b[0;34m(self, dtype, copy, errors)\u001b[0m\n\u001b[1;32m   5544\u001b[0m         \u001b[0;32melse\u001b[0m\u001b[0;34m:\u001b[0m\u001b[0;34m\u001b[0m\u001b[0;34m\u001b[0m\u001b[0m\n\u001b[1;32m   5545\u001b[0m             \u001b[0;31m# else, only a single dtype is given\u001b[0m\u001b[0;34m\u001b[0m\u001b[0;34m\u001b[0m\u001b[0;34m\u001b[0m\u001b[0m\n\u001b[0;32m-> 5546\u001b[0;31m             \u001b[0mnew_data\u001b[0m \u001b[0;34m=\u001b[0m \u001b[0mself\u001b[0m\u001b[0;34m.\u001b[0m\u001b[0m_mgr\u001b[0m\u001b[0;34m.\u001b[0m\u001b[0mastype\u001b[0m\u001b[0;34m(\u001b[0m\u001b[0mdtype\u001b[0m\u001b[0;34m=\u001b[0m\u001b[0mdtype\u001b[0m\u001b[0;34m,\u001b[0m \u001b[0mcopy\u001b[0m\u001b[0;34m=\u001b[0m\u001b[0mcopy\u001b[0m\u001b[0;34m,\u001b[0m \u001b[0merrors\u001b[0m\u001b[0;34m=\u001b[0m\u001b[0merrors\u001b[0m\u001b[0;34m,\u001b[0m\u001b[0;34m)\u001b[0m\u001b[0;34m\u001b[0m\u001b[0;34m\u001b[0m\u001b[0m\n\u001b[0m\u001b[1;32m   5547\u001b[0m             \u001b[0;32mreturn\u001b[0m \u001b[0mself\u001b[0m\u001b[0;34m.\u001b[0m\u001b[0m_constructor\u001b[0m\u001b[0;34m(\u001b[0m\u001b[0mnew_data\u001b[0m\u001b[0;34m)\u001b[0m\u001b[0;34m.\u001b[0m\u001b[0m__finalize__\u001b[0m\u001b[0;34m(\u001b[0m\u001b[0mself\u001b[0m\u001b[0;34m,\u001b[0m \u001b[0mmethod\u001b[0m\u001b[0;34m=\u001b[0m\u001b[0;34m\"astype\"\u001b[0m\u001b[0;34m)\u001b[0m\u001b[0;34m\u001b[0m\u001b[0;34m\u001b[0m\u001b[0m\n\u001b[1;32m   5548\u001b[0m \u001b[0;34m\u001b[0m\u001b[0m\n",
      "\u001b[0;32m/Applications/anaconda3/lib/python3.8/site-packages/pandas/core/internals/managers.py\u001b[0m in \u001b[0;36mastype\u001b[0;34m(self, dtype, copy, errors)\u001b[0m\n\u001b[1;32m    593\u001b[0m         \u001b[0mself\u001b[0m\u001b[0;34m,\u001b[0m \u001b[0mdtype\u001b[0m\u001b[0;34m,\u001b[0m \u001b[0mcopy\u001b[0m\u001b[0;34m:\u001b[0m \u001b[0mbool\u001b[0m \u001b[0;34m=\u001b[0m \u001b[0;32mFalse\u001b[0m\u001b[0;34m,\u001b[0m \u001b[0merrors\u001b[0m\u001b[0;34m:\u001b[0m \u001b[0mstr\u001b[0m \u001b[0;34m=\u001b[0m \u001b[0;34m\"raise\"\u001b[0m\u001b[0;34m\u001b[0m\u001b[0;34m\u001b[0m\u001b[0m\n\u001b[1;32m    594\u001b[0m     ) -> \"BlockManager\":\n\u001b[0;32m--> 595\u001b[0;31m         \u001b[0;32mreturn\u001b[0m \u001b[0mself\u001b[0m\u001b[0;34m.\u001b[0m\u001b[0mapply\u001b[0m\u001b[0;34m(\u001b[0m\u001b[0;34m\"astype\"\u001b[0m\u001b[0;34m,\u001b[0m \u001b[0mdtype\u001b[0m\u001b[0;34m=\u001b[0m\u001b[0mdtype\u001b[0m\u001b[0;34m,\u001b[0m \u001b[0mcopy\u001b[0m\u001b[0;34m=\u001b[0m\u001b[0mcopy\u001b[0m\u001b[0;34m,\u001b[0m \u001b[0merrors\u001b[0m\u001b[0;34m=\u001b[0m\u001b[0merrors\u001b[0m\u001b[0;34m)\u001b[0m\u001b[0;34m\u001b[0m\u001b[0;34m\u001b[0m\u001b[0m\n\u001b[0m\u001b[1;32m    596\u001b[0m \u001b[0;34m\u001b[0m\u001b[0m\n\u001b[1;32m    597\u001b[0m     def convert(\n",
      "\u001b[0;32m/Applications/anaconda3/lib/python3.8/site-packages/pandas/core/internals/managers.py\u001b[0m in \u001b[0;36mapply\u001b[0;34m(self, f, align_keys, **kwargs)\u001b[0m\n\u001b[1;32m    404\u001b[0m                 \u001b[0mapplied\u001b[0m \u001b[0;34m=\u001b[0m \u001b[0mb\u001b[0m\u001b[0;34m.\u001b[0m\u001b[0mapply\u001b[0m\u001b[0;34m(\u001b[0m\u001b[0mf\u001b[0m\u001b[0;34m,\u001b[0m \u001b[0;34m**\u001b[0m\u001b[0mkwargs\u001b[0m\u001b[0;34m)\u001b[0m\u001b[0;34m\u001b[0m\u001b[0;34m\u001b[0m\u001b[0m\n\u001b[1;32m    405\u001b[0m             \u001b[0;32melse\u001b[0m\u001b[0;34m:\u001b[0m\u001b[0;34m\u001b[0m\u001b[0;34m\u001b[0m\u001b[0m\n\u001b[0;32m--> 406\u001b[0;31m                 \u001b[0mapplied\u001b[0m \u001b[0;34m=\u001b[0m \u001b[0mgetattr\u001b[0m\u001b[0;34m(\u001b[0m\u001b[0mb\u001b[0m\u001b[0;34m,\u001b[0m \u001b[0mf\u001b[0m\u001b[0;34m)\u001b[0m\u001b[0;34m(\u001b[0m\u001b[0;34m**\u001b[0m\u001b[0mkwargs\u001b[0m\u001b[0;34m)\u001b[0m\u001b[0;34m\u001b[0m\u001b[0;34m\u001b[0m\u001b[0m\n\u001b[0m\u001b[1;32m    407\u001b[0m             \u001b[0mresult_blocks\u001b[0m \u001b[0;34m=\u001b[0m \u001b[0m_extend_blocks\u001b[0m\u001b[0;34m(\u001b[0m\u001b[0mapplied\u001b[0m\u001b[0;34m,\u001b[0m \u001b[0mresult_blocks\u001b[0m\u001b[0;34m)\u001b[0m\u001b[0;34m\u001b[0m\u001b[0;34m\u001b[0m\u001b[0m\n\u001b[1;32m    408\u001b[0m \u001b[0;34m\u001b[0m\u001b[0m\n",
      "\u001b[0;32m/Applications/anaconda3/lib/python3.8/site-packages/pandas/core/internals/blocks.py\u001b[0m in \u001b[0;36mastype\u001b[0;34m(self, dtype, copy, errors)\u001b[0m\n\u001b[1;32m    593\u001b[0m             \u001b[0mvals1d\u001b[0m \u001b[0;34m=\u001b[0m \u001b[0mvalues\u001b[0m\u001b[0;34m.\u001b[0m\u001b[0mravel\u001b[0m\u001b[0;34m(\u001b[0m\u001b[0;34m)\u001b[0m\u001b[0;34m\u001b[0m\u001b[0;34m\u001b[0m\u001b[0m\n\u001b[1;32m    594\u001b[0m             \u001b[0;32mtry\u001b[0m\u001b[0;34m:\u001b[0m\u001b[0;34m\u001b[0m\u001b[0;34m\u001b[0m\u001b[0m\n\u001b[0;32m--> 595\u001b[0;31m                 \u001b[0mvalues\u001b[0m \u001b[0;34m=\u001b[0m \u001b[0mastype_nansafe\u001b[0m\u001b[0;34m(\u001b[0m\u001b[0mvals1d\u001b[0m\u001b[0;34m,\u001b[0m \u001b[0mdtype\u001b[0m\u001b[0;34m,\u001b[0m \u001b[0mcopy\u001b[0m\u001b[0;34m=\u001b[0m\u001b[0;32mTrue\u001b[0m\u001b[0;34m)\u001b[0m\u001b[0;34m\u001b[0m\u001b[0;34m\u001b[0m\u001b[0m\n\u001b[0m\u001b[1;32m    596\u001b[0m             \u001b[0;32mexcept\u001b[0m \u001b[0;34m(\u001b[0m\u001b[0mValueError\u001b[0m\u001b[0;34m,\u001b[0m \u001b[0mTypeError\u001b[0m\u001b[0;34m)\u001b[0m\u001b[0;34m:\u001b[0m\u001b[0;34m\u001b[0m\u001b[0;34m\u001b[0m\u001b[0m\n\u001b[1;32m    597\u001b[0m                 \u001b[0;31m# e.g. astype_nansafe can fail on object-dtype of strings\u001b[0m\u001b[0;34m\u001b[0m\u001b[0;34m\u001b[0m\u001b[0;34m\u001b[0m\u001b[0m\n",
      "\u001b[0;32m/Applications/anaconda3/lib/python3.8/site-packages/pandas/core/dtypes/cast.py\u001b[0m in \u001b[0;36mastype_nansafe\u001b[0;34m(arr, dtype, copy, skipna)\u001b[0m\n\u001b[1;32m    964\u001b[0m \u001b[0;34m\u001b[0m\u001b[0m\n\u001b[1;32m    965\u001b[0m         \u001b[0;32mif\u001b[0m \u001b[0;32mnot\u001b[0m \u001b[0mnp\u001b[0m\u001b[0;34m.\u001b[0m\u001b[0misfinite\u001b[0m\u001b[0;34m(\u001b[0m\u001b[0marr\u001b[0m\u001b[0;34m)\u001b[0m\u001b[0;34m.\u001b[0m\u001b[0mall\u001b[0m\u001b[0;34m(\u001b[0m\u001b[0;34m)\u001b[0m\u001b[0;34m:\u001b[0m\u001b[0;34m\u001b[0m\u001b[0;34m\u001b[0m\u001b[0m\n\u001b[0;32m--> 966\u001b[0;31m             \u001b[0;32mraise\u001b[0m \u001b[0mValueError\u001b[0m\u001b[0;34m(\u001b[0m\u001b[0;34m\"Cannot convert non-finite values (NA or inf) to integer\"\u001b[0m\u001b[0;34m)\u001b[0m\u001b[0;34m\u001b[0m\u001b[0;34m\u001b[0m\u001b[0m\n\u001b[0m\u001b[1;32m    967\u001b[0m \u001b[0;34m\u001b[0m\u001b[0m\n\u001b[1;32m    968\u001b[0m     \u001b[0;32melif\u001b[0m \u001b[0mis_object_dtype\u001b[0m\u001b[0;34m(\u001b[0m\u001b[0marr\u001b[0m\u001b[0;34m)\u001b[0m\u001b[0;34m:\u001b[0m\u001b[0;34m\u001b[0m\u001b[0;34m\u001b[0m\u001b[0m\n",
      "\u001b[0;31mValueError\u001b[0m: Cannot convert non-finite values (NA or inf) to integer"
     ]
    }
   ],
   "source": [
    "febdata.fips.astype(\"int64\")"
   ]
  },
  {
   "cell_type": "code",
   "execution_count": null,
   "metadata": {},
   "outputs": [],
   "source": [
    "# There are some bad values in there."
   ]
  },
  {
   "cell_type": "code",
   "execution_count": 76,
   "metadata": {},
   "outputs": [],
   "source": [
    "fips= febdata.fips.astype(\"int64\", errors=\"ignore\")"
   ]
  },
  {
   "cell_type": "code",
   "execution_count": 77,
   "metadata": {},
   "outputs": [
    {
     "data": {
      "text/plain": [
       "dtype('float64')"
      ]
     },
     "execution_count": 77,
     "metadata": {},
     "output_type": "execute_result"
    }
   ],
   "source": [
    "fips.dtype"
   ]
  },
  {
   "cell_type": "code",
   "execution_count": 78,
   "metadata": {},
   "outputs": [
    {
     "data": {
      "text/plain": [
       "dtype('float64')"
      ]
     },
     "execution_count": 78,
     "metadata": {},
     "output_type": "execute_result"
    }
   ],
   "source": [
    "# and this doesn't change the type?\n",
    "fips= febdata.fips.astype(np.int64, errors=\"ignore\")\n",
    "fips.dtype"
   ]
  },
  {
   "cell_type": "code",
   "execution_count": 79,
   "metadata": {},
   "outputs": [],
   "source": [
    "# Neither does this, apparently.  How many bad values are there?"
   ]
  },
  {
   "cell_type": "code",
   "execution_count": 80,
   "metadata": {},
   "outputs": [
    {
     "data": {
      "text/plain": [
       "0"
      ]
     },
     "execution_count": 80,
     "metadata": {},
     "output_type": "execute_result"
    }
   ],
   "source": [
    "np.isinf(fips).sum()"
   ]
  },
  {
   "cell_type": "code",
   "execution_count": 81,
   "metadata": {},
   "outputs": [
    {
     "data": {
      "text/plain": [
       "29"
      ]
     },
     "execution_count": 81,
     "metadata": {},
     "output_type": "execute_result"
    }
   ],
   "source": [
    "np.isnan(fips).sum()"
   ]
  },
  {
   "cell_type": "code",
   "execution_count": 83,
   "metadata": {},
   "outputs": [
    {
     "data": {
      "text/html": [
       "<div>\n",
       "<style scoped>\n",
       "    .dataframe tbody tr th:only-of-type {\n",
       "        vertical-align: middle;\n",
       "    }\n",
       "\n",
       "    .dataframe tbody tr th {\n",
       "        vertical-align: top;\n",
       "    }\n",
       "\n",
       "    .dataframe thead th {\n",
       "        text-align: right;\n",
       "    }\n",
       "</style>\n",
       "<table border=\"1\" class=\"dataframe\">\n",
       "  <thead>\n",
       "    <tr style=\"text-align: right;\">\n",
       "      <th></th>\n",
       "      <th>date</th>\n",
       "      <th>county</th>\n",
       "      <th>state</th>\n",
       "      <th>fips</th>\n",
       "      <th>cases</th>\n",
       "      <th>deaths</th>\n",
       "    </tr>\n",
       "  </thead>\n",
       "  <tbody>\n",
       "    <tr>\n",
       "      <th>416</th>\n",
       "      <td>2020-03-01 00:00:00</td>\n",
       "      <td>New York City</td>\n",
       "      <td>New York</td>\n",
       "      <td>NaN</td>\n",
       "      <td>1</td>\n",
       "      <td>0.0</td>\n",
       "    </tr>\n",
       "    <tr>\n",
       "      <th>418</th>\n",
       "      <td>2020-03-01 00:00:00</td>\n",
       "      <td>Unknown</td>\n",
       "      <td>Rhode Island</td>\n",
       "      <td>NaN</td>\n",
       "      <td>2</td>\n",
       "      <td>0.0</td>\n",
       "    </tr>\n",
       "    <tr>\n",
       "      <th>448</th>\n",
       "      <td>2020-03-02 00:00:00</td>\n",
       "      <td>New York City</td>\n",
       "      <td>New York</td>\n",
       "      <td>NaN</td>\n",
       "      <td>1</td>\n",
       "      <td>0.0</td>\n",
       "    </tr>\n",
       "    <tr>\n",
       "      <th>450</th>\n",
       "      <td>2020-03-02 00:00:00</td>\n",
       "      <td>Unknown</td>\n",
       "      <td>Rhode Island</td>\n",
       "      <td>NaN</td>\n",
       "      <td>2</td>\n",
       "      <td>0.0</td>\n",
       "    </tr>\n",
       "    <tr>\n",
       "      <th>482</th>\n",
       "      <td>2020-03-03 00:00:00</td>\n",
       "      <td>New York City</td>\n",
       "      <td>New York</td>\n",
       "      <td>NaN</td>\n",
       "      <td>2</td>\n",
       "      <td>0.0</td>\n",
       "    </tr>\n",
       "    <tr>\n",
       "      <th>...</th>\n",
       "      <td>...</td>\n",
       "      <td>...</td>\n",
       "      <td>...</td>\n",
       "      <td>...</td>\n",
       "      <td>...</td>\n",
       "      <td>...</td>\n",
       "    </tr>\n",
       "    <tr>\n",
       "      <th>1874252</th>\n",
       "      <td>2021-11-01 00:00:00</td>\n",
       "      <td>Unknown</td>\n",
       "      <td>Puerto Rico</td>\n",
       "      <td>NaN</td>\n",
       "      <td>5390</td>\n",
       "      <td>3234.0</td>\n",
       "    </tr>\n",
       "    <tr>\n",
       "      <th>1874264</th>\n",
       "      <td>2021-11-01 00:00:00</td>\n",
       "      <td>Unknown</td>\n",
       "      <td>Rhode Island</td>\n",
       "      <td>NaN</td>\n",
       "      <td>13311</td>\n",
       "      <td>14.0</td>\n",
       "    </tr>\n",
       "    <tr>\n",
       "      <th>1874465</th>\n",
       "      <td>2021-11-01 00:00:00</td>\n",
       "      <td>Unknown</td>\n",
       "      <td>Tennessee</td>\n",
       "      <td>NaN</td>\n",
       "      <td>7884</td>\n",
       "      <td>120.0</td>\n",
       "    </tr>\n",
       "    <tr>\n",
       "      <th>1874752</th>\n",
       "      <td>2021-11-01 00:00:00</td>\n",
       "      <td>Unknown</td>\n",
       "      <td>Utah</td>\n",
       "      <td>NaN</td>\n",
       "      <td>2478</td>\n",
       "      <td>47.0</td>\n",
       "    </tr>\n",
       "    <tr>\n",
       "      <th>1874769</th>\n",
       "      <td>2021-11-01 00:00:00</td>\n",
       "      <td>Unknown</td>\n",
       "      <td>Vermont</td>\n",
       "      <td>NaN</td>\n",
       "      <td>26</td>\n",
       "      <td>0.0</td>\n",
       "    </tr>\n",
       "  </tbody>\n",
       "</table>\n",
       "<p>17137 rows × 6 columns</p>\n",
       "</div>"
      ],
      "text/plain": [
       "                        date         county         state  fips  cases  deaths\n",
       "416      2020-03-01 00:00:00  New York City      New York   NaN      1     0.0\n",
       "418      2020-03-01 00:00:00        Unknown  Rhode Island   NaN      2     0.0\n",
       "448      2020-03-02 00:00:00  New York City      New York   NaN      1     0.0\n",
       "450      2020-03-02 00:00:00        Unknown  Rhode Island   NaN      2     0.0\n",
       "482      2020-03-03 00:00:00  New York City      New York   NaN      2     0.0\n",
       "...                      ...            ...           ...   ...    ...     ...\n",
       "1874252  2021-11-01 00:00:00        Unknown   Puerto Rico   NaN   5390  3234.0\n",
       "1874264  2021-11-01 00:00:00        Unknown  Rhode Island   NaN  13311    14.0\n",
       "1874465  2021-11-01 00:00:00        Unknown     Tennessee   NaN   7884   120.0\n",
       "1874752  2021-11-01 00:00:00        Unknown          Utah   NaN   2478    47.0\n",
       "1874769  2021-11-01 00:00:00        Unknown       Vermont   NaN     26     0.0\n",
       "\n",
       "[17137 rows x 6 columns]"
      ]
     },
     "execution_count": 83,
     "metadata": {},
     "output_type": "execute_result"
    }
   ],
   "source": [
    "# Let's look at them:\n",
    "counties.loc[np.isnan(counties.fips)]"
   ]
  },
  {
   "cell_type": "code",
   "execution_count": null,
   "metadata": {},
   "outputs": [],
   "source": [
    "# Ugh oh.  These are deaths I probably want to count, despite\n",
    "# the fact that I won't be able to join them with population.  \n",
    "# Only 29 bad fips fields in febdata:"
   ]
  },
  {
   "cell_type": "code",
   "execution_count": 84,
   "metadata": {},
   "outputs": [
    {
     "data": {
      "text/html": [
       "<div>\n",
       "<style scoped>\n",
       "    .dataframe tbody tr th:only-of-type {\n",
       "        vertical-align: middle;\n",
       "    }\n",
       "\n",
       "    .dataframe tbody tr th {\n",
       "        vertical-align: top;\n",
       "    }\n",
       "\n",
       "    .dataframe thead th {\n",
       "        text-align: right;\n",
       "    }\n",
       "</style>\n",
       "<table border=\"1\" class=\"dataframe\">\n",
       "  <thead>\n",
       "    <tr style=\"text-align: right;\">\n",
       "      <th></th>\n",
       "      <th>date</th>\n",
       "      <th>county</th>\n",
       "      <th>state</th>\n",
       "      <th>fips</th>\n",
       "      <th>cases</th>\n",
       "      <th>deaths</th>\n",
       "    </tr>\n",
       "  </thead>\n",
       "  <tbody>\n",
       "    <tr>\n",
       "      <th>982187</th>\n",
       "      <td>2021-01-31 00:00:00</td>\n",
       "      <td>Unknown</td>\n",
       "      <td>Alaska</td>\n",
       "      <td>NaN</td>\n",
       "      <td>236</td>\n",
       "      <td>0.0</td>\n",
       "    </tr>\n",
       "    <tr>\n",
       "      <th>982277</th>\n",
       "      <td>2021-01-31 00:00:00</td>\n",
       "      <td>Unknown</td>\n",
       "      <td>Arkansas</td>\n",
       "      <td>NaN</td>\n",
       "      <td>2907</td>\n",
       "      <td>0.0</td>\n",
       "    </tr>\n",
       "    <tr>\n",
       "      <th>982412</th>\n",
       "      <td>2021-01-31 00:00:00</td>\n",
       "      <td>Unknown</td>\n",
       "      <td>Connecticut</td>\n",
       "      <td>NaN</td>\n",
       "      <td>822</td>\n",
       "      <td>7.0</td>\n",
       "    </tr>\n",
       "    <tr>\n",
       "      <th>982417</th>\n",
       "      <td>2021-01-31 00:00:00</td>\n",
       "      <td>Unknown</td>\n",
       "      <td>Delaware</td>\n",
       "      <td>NaN</td>\n",
       "      <td>182</td>\n",
       "      <td>0.0</td>\n",
       "    </tr>\n",
       "    <tr>\n",
       "      <th>982482</th>\n",
       "      <td>2021-01-31 00:00:00</td>\n",
       "      <td>Unknown</td>\n",
       "      <td>Florida</td>\n",
       "      <td>NaN</td>\n",
       "      <td>3334</td>\n",
       "      <td>0.0</td>\n",
       "    </tr>\n",
       "    <tr>\n",
       "      <th>982631</th>\n",
       "      <td>2021-01-31 00:00:00</td>\n",
       "      <td>Unknown</td>\n",
       "      <td>Georgia</td>\n",
       "      <td>NaN</td>\n",
       "      <td>4222</td>\n",
       "      <td>10.0</td>\n",
       "    </tr>\n",
       "    <tr>\n",
       "      <th>982647</th>\n",
       "      <td>2021-01-31 00:00:00</td>\n",
       "      <td>Unknown</td>\n",
       "      <td>Guam</td>\n",
       "      <td>NaN</td>\n",
       "      <td>8556</td>\n",
       "      <td>130.0</td>\n",
       "    </tr>\n",
       "    <tr>\n",
       "      <th>982788</th>\n",
       "      <td>2021-01-31 00:00:00</td>\n",
       "      <td>Unknown</td>\n",
       "      <td>Illinois</td>\n",
       "      <td>NaN</td>\n",
       "      <td>0</td>\n",
       "      <td>106.0</td>\n",
       "    </tr>\n",
       "    <tr>\n",
       "      <th>982980</th>\n",
       "      <td>2021-01-31 00:00:00</td>\n",
       "      <td>Unknown</td>\n",
       "      <td>Iowa</td>\n",
       "      <td>NaN</td>\n",
       "      <td>1065</td>\n",
       "      <td>0.0</td>\n",
       "    </tr>\n",
       "    <tr>\n",
       "      <th>983090</th>\n",
       "      <td>2021-01-31 00:00:00</td>\n",
       "      <td>Unknown</td>\n",
       "      <td>Kansas</td>\n",
       "      <td>NaN</td>\n",
       "      <td>0</td>\n",
       "      <td>725.0</td>\n",
       "    </tr>\n",
       "    <tr>\n",
       "      <th>983274</th>\n",
       "      <td>2021-01-31 00:00:00</td>\n",
       "      <td>Unknown</td>\n",
       "      <td>Louisiana</td>\n",
       "      <td>NaN</td>\n",
       "      <td>423</td>\n",
       "      <td>0.0</td>\n",
       "    </tr>\n",
       "    <tr>\n",
       "      <th>983296</th>\n",
       "      <td>2021-01-31 00:00:00</td>\n",
       "      <td>Unknown</td>\n",
       "      <td>Maine</td>\n",
       "      <td>NaN</td>\n",
       "      <td>2</td>\n",
       "      <td>0.0</td>\n",
       "    </tr>\n",
       "    <tr>\n",
       "      <th>983321</th>\n",
       "      <td>2021-01-31 00:00:00</td>\n",
       "      <td>Unknown</td>\n",
       "      <td>Maryland</td>\n",
       "      <td>NaN</td>\n",
       "      <td>0</td>\n",
       "      <td>43.0</td>\n",
       "    </tr>\n",
       "    <tr>\n",
       "      <th>983338</th>\n",
       "      <td>2021-01-31 00:00:00</td>\n",
       "      <td>Unknown</td>\n",
       "      <td>Massachusetts</td>\n",
       "      <td>NaN</td>\n",
       "      <td>27356</td>\n",
       "      <td>8.0</td>\n",
       "    </tr>\n",
       "    <tr>\n",
       "      <th>983419</th>\n",
       "      <td>2021-01-31 00:00:00</td>\n",
       "      <td>Unknown</td>\n",
       "      <td>Michigan</td>\n",
       "      <td>NaN</td>\n",
       "      <td>0</td>\n",
       "      <td>23.0</td>\n",
       "    </tr>\n",
       "    <tr>\n",
       "      <th>983502</th>\n",
       "      <td>2021-01-31 00:00:00</td>\n",
       "      <td>Unknown</td>\n",
       "      <td>Minnesota</td>\n",
       "      <td>NaN</td>\n",
       "      <td>479</td>\n",
       "      <td>68.0</td>\n",
       "    </tr>\n",
       "    <tr>\n",
       "      <th>983645</th>\n",
       "      <td>2021-01-31 00:00:00</td>\n",
       "      <td>Joplin</td>\n",
       "      <td>Missouri</td>\n",
       "      <td>NaN</td>\n",
       "      <td>4575</td>\n",
       "      <td>94.0</td>\n",
       "    </tr>\n",
       "    <tr>\n",
       "      <th>983646</th>\n",
       "      <td>2021-01-31 00:00:00</td>\n",
       "      <td>Kansas City</td>\n",
       "      <td>Missouri</td>\n",
       "      <td>NaN</td>\n",
       "      <td>35622</td>\n",
       "      <td>440.0</td>\n",
       "    </tr>\n",
       "    <tr>\n",
       "      <th>983887</th>\n",
       "      <td>2021-01-31 00:00:00</td>\n",
       "      <td>Unknown</td>\n",
       "      <td>New Hampshire</td>\n",
       "      <td>NaN</td>\n",
       "      <td>1022</td>\n",
       "      <td>4.0</td>\n",
       "    </tr>\n",
       "    <tr>\n",
       "      <th>983908</th>\n",
       "      <td>2021-01-31 00:00:00</td>\n",
       "      <td>Unknown</td>\n",
       "      <td>New Jersey</td>\n",
       "      <td>NaN</td>\n",
       "      <td>1201</td>\n",
       "      <td>0.0</td>\n",
       "    </tr>\n",
       "    <tr>\n",
       "      <th>983942</th>\n",
       "      <td>2021-01-31 00:00:00</td>\n",
       "      <td>Unknown</td>\n",
       "      <td>New Mexico</td>\n",
       "      <td>NaN</td>\n",
       "      <td>3</td>\n",
       "      <td>0.0</td>\n",
       "    </tr>\n",
       "    <tr>\n",
       "      <th>983972</th>\n",
       "      <td>2021-01-31 00:00:00</td>\n",
       "      <td>New York City</td>\n",
       "      <td>New York</td>\n",
       "      <td>NaN</td>\n",
       "      <td>608862</td>\n",
       "      <td>27138.0</td>\n",
       "    </tr>\n",
       "    <tr>\n",
       "      <th>984151</th>\n",
       "      <td>2021-01-31 00:00:00</td>\n",
       "      <td>Unknown</td>\n",
       "      <td>North Dakota</td>\n",
       "      <td>NaN</td>\n",
       "      <td>26</td>\n",
       "      <td>25.0</td>\n",
       "    </tr>\n",
       "    <tr>\n",
       "      <th>984318</th>\n",
       "      <td>2021-01-31 00:00:00</td>\n",
       "      <td>Unknown</td>\n",
       "      <td>Oklahoma</td>\n",
       "      <td>NaN</td>\n",
       "      <td>134</td>\n",
       "      <td>0.0</td>\n",
       "    </tr>\n",
       "    <tr>\n",
       "      <th>984498</th>\n",
       "      <td>2021-01-31 00:00:00</td>\n",
       "      <td>Unknown</td>\n",
       "      <td>Puerto Rico</td>\n",
       "      <td>NaN</td>\n",
       "      <td>4297</td>\n",
       "      <td>1829.0</td>\n",
       "    </tr>\n",
       "    <tr>\n",
       "      <th>984510</th>\n",
       "      <td>2021-01-31 00:00:00</td>\n",
       "      <td>Unknown</td>\n",
       "      <td>Rhode Island</td>\n",
       "      <td>NaN</td>\n",
       "      <td>12392</td>\n",
       "      <td>73.0</td>\n",
       "    </tr>\n",
       "    <tr>\n",
       "      <th>984711</th>\n",
       "      <td>2021-01-31 00:00:00</td>\n",
       "      <td>Unknown</td>\n",
       "      <td>Tennessee</td>\n",
       "      <td>NaN</td>\n",
       "      <td>13454</td>\n",
       "      <td>152.0</td>\n",
       "    </tr>\n",
       "    <tr>\n",
       "      <th>984998</th>\n",
       "      <td>2021-01-31 00:00:00</td>\n",
       "      <td>Unknown</td>\n",
       "      <td>Utah</td>\n",
       "      <td>NaN</td>\n",
       "      <td>1468</td>\n",
       "      <td>3.0</td>\n",
       "    </tr>\n",
       "    <tr>\n",
       "      <th>985015</th>\n",
       "      <td>2021-01-31 00:00:00</td>\n",
       "      <td>Unknown</td>\n",
       "      <td>Vermont</td>\n",
       "      <td>NaN</td>\n",
       "      <td>12</td>\n",
       "      <td>0.0</td>\n",
       "    </tr>\n",
       "  </tbody>\n",
       "</table>\n",
       "</div>"
      ],
      "text/plain": [
       "                       date         county          state  fips   cases  \\\n",
       "982187  2021-01-31 00:00:00        Unknown         Alaska   NaN     236   \n",
       "982277  2021-01-31 00:00:00        Unknown       Arkansas   NaN    2907   \n",
       "982412  2021-01-31 00:00:00        Unknown    Connecticut   NaN     822   \n",
       "982417  2021-01-31 00:00:00        Unknown       Delaware   NaN     182   \n",
       "982482  2021-01-31 00:00:00        Unknown        Florida   NaN    3334   \n",
       "982631  2021-01-31 00:00:00        Unknown        Georgia   NaN    4222   \n",
       "982647  2021-01-31 00:00:00        Unknown           Guam   NaN    8556   \n",
       "982788  2021-01-31 00:00:00        Unknown       Illinois   NaN       0   \n",
       "982980  2021-01-31 00:00:00        Unknown           Iowa   NaN    1065   \n",
       "983090  2021-01-31 00:00:00        Unknown         Kansas   NaN       0   \n",
       "983274  2021-01-31 00:00:00        Unknown      Louisiana   NaN     423   \n",
       "983296  2021-01-31 00:00:00        Unknown          Maine   NaN       2   \n",
       "983321  2021-01-31 00:00:00        Unknown       Maryland   NaN       0   \n",
       "983338  2021-01-31 00:00:00        Unknown  Massachusetts   NaN   27356   \n",
       "983419  2021-01-31 00:00:00        Unknown       Michigan   NaN       0   \n",
       "983502  2021-01-31 00:00:00        Unknown      Minnesota   NaN     479   \n",
       "983645  2021-01-31 00:00:00         Joplin       Missouri   NaN    4575   \n",
       "983646  2021-01-31 00:00:00    Kansas City       Missouri   NaN   35622   \n",
       "983887  2021-01-31 00:00:00        Unknown  New Hampshire   NaN    1022   \n",
       "983908  2021-01-31 00:00:00        Unknown     New Jersey   NaN    1201   \n",
       "983942  2021-01-31 00:00:00        Unknown     New Mexico   NaN       3   \n",
       "983972  2021-01-31 00:00:00  New York City       New York   NaN  608862   \n",
       "984151  2021-01-31 00:00:00        Unknown   North Dakota   NaN      26   \n",
       "984318  2021-01-31 00:00:00        Unknown       Oklahoma   NaN     134   \n",
       "984498  2021-01-31 00:00:00        Unknown    Puerto Rico   NaN    4297   \n",
       "984510  2021-01-31 00:00:00        Unknown   Rhode Island   NaN   12392   \n",
       "984711  2021-01-31 00:00:00        Unknown      Tennessee   NaN   13454   \n",
       "984998  2021-01-31 00:00:00        Unknown           Utah   NaN    1468   \n",
       "985015  2021-01-31 00:00:00        Unknown        Vermont   NaN      12   \n",
       "\n",
       "         deaths  \n",
       "982187      0.0  \n",
       "982277      0.0  \n",
       "982412      7.0  \n",
       "982417      0.0  \n",
       "982482      0.0  \n",
       "982631     10.0  \n",
       "982647    130.0  \n",
       "982788    106.0  \n",
       "982980      0.0  \n",
       "983090    725.0  \n",
       "983274      0.0  \n",
       "983296      0.0  \n",
       "983321     43.0  \n",
       "983338      8.0  \n",
       "983419     23.0  \n",
       "983502     68.0  \n",
       "983645     94.0  \n",
       "983646    440.0  \n",
       "983887      4.0  \n",
       "983908      0.0  \n",
       "983942      0.0  \n",
       "983972  27138.0  \n",
       "984151     25.0  \n",
       "984318      0.0  \n",
       "984498   1829.0  \n",
       "984510     73.0  \n",
       "984711    152.0  \n",
       "984998      3.0  \n",
       "985015      0.0  "
      ]
     },
     "execution_count": 84,
     "metadata": {},
     "output_type": "execute_result"
    }
   ],
   "source": [
    "febdata.loc[np.isnan(febdata.fips)]"
   ]
  },
  {
   "cell_type": "code",
   "execution_count": 85,
   "metadata": {},
   "outputs": [
    {
     "data": {
      "text/plain": [
       "30878.0"
      ]
     },
     "execution_count": 85,
     "metadata": {},
     "output_type": "execute_result"
    }
   ],
   "source": [
    "febdata.loc[np.isnan(febdata.fips)].deaths.sum()"
   ]
  },
  {
   "cell_type": "code",
   "execution_count": null,
   "metadata": {},
   "outputs": [],
   "source": [
    "# Amounting to 31,000 deaths."
   ]
  },
  {
   "cell_type": "code",
   "execution_count": null,
   "metadata": {},
   "outputs": [],
   "source": [
    "27138.0+1829.0"
   ]
  },
  {
   "cell_type": "code",
   "execution_count": null,
   "metadata": {},
   "outputs": [],
   "source": [
    "febdata.fips.value_counts()"
   ]
  },
  {
   "cell_type": "code",
   "execution_count": null,
   "metadata": {},
   "outputs": [],
   "source": [
    "# 31,000 deaths, almost all of which are from NYC and Puerto Rico.\n",
    "# I'm willing to treat them as special cases."
   ]
  },
  {
   "cell_type": "code",
   "execution_count": 86,
   "metadata": {},
   "outputs": [
    {
     "data": {
      "text/plain": [
       "dtype('int64')"
      ]
     },
     "execution_count": 86,
     "metadata": {},
     "output_type": "execute_result"
    }
   ],
   "source": [
    "# Some trial-and-error suggests that I must fix NaN's first,\n",
    "# then change the type to int.\n",
    "febdata.loc[np.isnan(febdata.fips),\"fips\"] = 999999\n",
    "fips = febdata.fips.astype(np.int64)\n",
    "fips.dtype"
   ]
  },
  {
   "cell_type": "code",
   "execution_count": 87,
   "metadata": {},
   "outputs": [
    {
     "data": {
      "text/plain": [
       "0"
      ]
     },
     "execution_count": 87,
     "metadata": {},
     "output_type": "execute_result"
    }
   ],
   "source": [
    "np.isnan(febdata.fips).sum()"
   ]
  },
  {
   "cell_type": "code",
   "execution_count": 103,
   "metadata": {},
   "outputs": [],
   "source": [
    "febdata[\"fips\"] = febdata.fips.astype(np.int64)"
   ]
  },
  {
   "cell_type": "code",
   "execution_count": 88,
   "metadata": {},
   "outputs": [
    {
     "data": {
      "text/plain": [
       "17137"
      ]
     },
     "execution_count": 88,
     "metadata": {},
     "output_type": "execute_result"
    }
   ],
   "source": [
    "np.isnan(counties.fips).sum()"
   ]
  },
  {
   "cell_type": "code",
   "execution_count": 90,
   "metadata": {},
   "outputs": [
    {
     "data": {
      "text/html": [
       "<div>\n",
       "<style scoped>\n",
       "    .dataframe tbody tr th:only-of-type {\n",
       "        vertical-align: middle;\n",
       "    }\n",
       "\n",
       "    .dataframe tbody tr th {\n",
       "        vertical-align: top;\n",
       "    }\n",
       "\n",
       "    .dataframe thead th {\n",
       "        text-align: right;\n",
       "    }\n",
       "</style>\n",
       "<table border=\"1\" class=\"dataframe\">\n",
       "  <thead>\n",
       "    <tr style=\"text-align: right;\">\n",
       "      <th></th>\n",
       "      <th>date</th>\n",
       "      <th>county</th>\n",
       "      <th>state</th>\n",
       "      <th>fips</th>\n",
       "      <th>cases</th>\n",
       "      <th>deaths</th>\n",
       "    </tr>\n",
       "  </thead>\n",
       "  <tbody>\n",
       "    <tr>\n",
       "      <th>0</th>\n",
       "      <td>2020-01-21 00:00:00</td>\n",
       "      <td>Snohomish</td>\n",
       "      <td>Washington</td>\n",
       "      <td>53061.0</td>\n",
       "      <td>1</td>\n",
       "      <td>0.0</td>\n",
       "    </tr>\n",
       "  </tbody>\n",
       "</table>\n",
       "</div>"
      ],
      "text/plain": [
       "                  date     county       state     fips  cases  deaths\n",
       "0  2020-01-21 00:00:00  Snohomish  Washington  53061.0      1     0.0"
      ]
     },
     "execution_count": 90,
     "metadata": {},
     "output_type": "execute_result"
    }
   ],
   "source": [
    "counties.head(1)"
   ]
  },
  {
   "cell_type": "code",
   "execution_count": 91,
   "metadata": {},
   "outputs": [],
   "source": [
    "# That seemed to work\n",
    "counties.loc[np.isnan(counties.fips),\"fips\"] = 999999"
   ]
  },
  {
   "cell_type": "code",
   "execution_count": 92,
   "metadata": {},
   "outputs": [
    {
     "data": {
      "text/plain": [
       "0"
      ]
     },
     "execution_count": 92,
     "metadata": {},
     "output_type": "execute_result"
    }
   ],
   "source": [
    "np.isnan(febdata.fips).sum()"
   ]
  },
  {
   "cell_type": "code",
   "execution_count": 93,
   "metadata": {},
   "outputs": [
    {
     "data": {
      "text/plain": [
       "dtype('int64')"
      ]
     },
     "execution_count": 93,
     "metadata": {},
     "output_type": "execute_result"
    }
   ],
   "source": [
    "counties[\"fips\"] = counties.fips.astype(np.int64)\n",
    "counties.fips.dtype"
   ]
  },
  {
   "cell_type": "code",
   "execution_count": 94,
   "metadata": {},
   "outputs": [
    {
     "data": {
      "text/html": [
       "<div>\n",
       "<style scoped>\n",
       "    .dataframe tbody tr th:only-of-type {\n",
       "        vertical-align: middle;\n",
       "    }\n",
       "\n",
       "    .dataframe tbody tr th {\n",
       "        vertical-align: top;\n",
       "    }\n",
       "\n",
       "    .dataframe thead th {\n",
       "        text-align: right;\n",
       "    }\n",
       "</style>\n",
       "<table border=\"1\" class=\"dataframe\">\n",
       "  <thead>\n",
       "    <tr style=\"text-align: right;\">\n",
       "      <th></th>\n",
       "      <th>date</th>\n",
       "      <th>county</th>\n",
       "      <th>state</th>\n",
       "      <th>fips</th>\n",
       "      <th>cases</th>\n",
       "      <th>deaths</th>\n",
       "    </tr>\n",
       "  </thead>\n",
       "  <tbody>\n",
       "  </tbody>\n",
       "</table>\n",
       "</div>"
      ],
      "text/plain": [
       "Empty DataFrame\n",
       "Columns: [date, county, state, fips, cases, deaths]\n",
       "Index: []"
      ]
     },
     "execution_count": 94,
     "metadata": {},
     "output_type": "execute_result"
    }
   ],
   "source": [
    "febdata.loc[np.isnan(febdata.fips)]"
   ]
  },
  {
   "cell_type": "code",
   "execution_count": 95,
   "metadata": {},
   "outputs": [
    {
     "data": {
      "text/html": [
       "<div>\n",
       "<style scoped>\n",
       "    .dataframe tbody tr th:only-of-type {\n",
       "        vertical-align: middle;\n",
       "    }\n",
       "\n",
       "    .dataframe tbody tr th {\n",
       "        vertical-align: top;\n",
       "    }\n",
       "\n",
       "    .dataframe thead th {\n",
       "        text-align: right;\n",
       "    }\n",
       "</style>\n",
       "<table border=\"1\" class=\"dataframe\">\n",
       "  <thead>\n",
       "    <tr style=\"text-align: right;\">\n",
       "      <th></th>\n",
       "      <th>us_state_fips</th>\n",
       "      <th>us_county_fips</th>\n",
       "      <th>population</th>\n",
       "      <th>region</th>\n",
       "      <th>subregion</th>\n",
       "      <th>nyt_population</th>\n",
       "    </tr>\n",
       "  </thead>\n",
       "  <tbody>\n",
       "    <tr>\n",
       "      <th>1</th>\n",
       "      <td>72</td>\n",
       "      <td>72999</td>\n",
       "      <td>3386941</td>\n",
       "      <td>Puerto Rico</td>\n",
       "      <td>Unknown</td>\n",
       "      <td>NaN</td>\n",
       "    </tr>\n",
       "  </tbody>\n",
       "</table>\n",
       "</div>"
      ],
      "text/plain": [
       "   us_state_fips  us_county_fips  population       region subregion  \\\n",
       "1             72           72999     3386941  Puerto Rico   Unknown   \n",
       "\n",
       "   nyt_population  \n",
       "1             NaN  "
      ]
     },
     "execution_count": 95,
     "metadata": {},
     "output_type": "execute_result"
    }
   ],
   "source": [
    "population.loc[population.region == \"Puerto Rico\"]"
   ]
  },
  {
   "cell_type": "code",
   "execution_count": 96,
   "metadata": {},
   "outputs": [
    {
     "data": {
      "text/html": [
       "<div>\n",
       "<style scoped>\n",
       "    .dataframe tbody tr th:only-of-type {\n",
       "        vertical-align: middle;\n",
       "    }\n",
       "\n",
       "    .dataframe tbody tr th {\n",
       "        vertical-align: top;\n",
       "    }\n",
       "\n",
       "    .dataframe thead th {\n",
       "        text-align: right;\n",
       "    }\n",
       "</style>\n",
       "<table border=\"1\" class=\"dataframe\">\n",
       "  <thead>\n",
       "    <tr style=\"text-align: right;\">\n",
       "      <th></th>\n",
       "      <th>us_state_fips</th>\n",
       "      <th>us_county_fips</th>\n",
       "      <th>population</th>\n",
       "      <th>region</th>\n",
       "      <th>subregion</th>\n",
       "      <th>nyt_population</th>\n",
       "    </tr>\n",
       "  </thead>\n",
       "  <tbody>\n",
       "    <tr>\n",
       "      <th>1890</th>\n",
       "      <td>36</td>\n",
       "      <td>36998</td>\n",
       "      <td>8443713</td>\n",
       "      <td>New York</td>\n",
       "      <td>New York City</td>\n",
       "      <td>NaN</td>\n",
       "    </tr>\n",
       "  </tbody>\n",
       "</table>\n",
       "</div>"
      ],
      "text/plain": [
       "      us_state_fips  us_county_fips  population    region      subregion  \\\n",
       "1890             36           36998     8443713  New York  New York City   \n",
       "\n",
       "      nyt_population  \n",
       "1890             NaN  "
      ]
     },
     "execution_count": 96,
     "metadata": {},
     "output_type": "execute_result"
    }
   ],
   "source": [
    "population.loc[population.subregion == \"New York City\"]"
   ]
  },
  {
   "cell_type": "code",
   "execution_count": 97,
   "metadata": {},
   "outputs": [
    {
     "data": {
      "text/html": [
       "<div>\n",
       "<style scoped>\n",
       "    .dataframe tbody tr th:only-of-type {\n",
       "        vertical-align: middle;\n",
       "    }\n",
       "\n",
       "    .dataframe tbody tr th {\n",
       "        vertical-align: top;\n",
       "    }\n",
       "\n",
       "    .dataframe thead th {\n",
       "        text-align: right;\n",
       "    }\n",
       "</style>\n",
       "<table border=\"1\" class=\"dataframe\">\n",
       "  <thead>\n",
       "    <tr style=\"text-align: right;\">\n",
       "      <th></th>\n",
       "      <th>date</th>\n",
       "      <th>county</th>\n",
       "      <th>state</th>\n",
       "      <th>fips</th>\n",
       "      <th>cases</th>\n",
       "      <th>deaths</th>\n",
       "    </tr>\n",
       "  </thead>\n",
       "  <tbody>\n",
       "    <tr>\n",
       "      <th>983972</th>\n",
       "      <td>2021-01-31 00:00:00</td>\n",
       "      <td>New York City</td>\n",
       "      <td>New York</td>\n",
       "      <td>999999.0</td>\n",
       "      <td>608862</td>\n",
       "      <td>27138.0</td>\n",
       "    </tr>\n",
       "  </tbody>\n",
       "</table>\n",
       "</div>"
      ],
      "text/plain": [
       "                       date         county     state      fips   cases  \\\n",
       "983972  2021-01-31 00:00:00  New York City  New York  999999.0  608862   \n",
       "\n",
       "         deaths  \n",
       "983972  27138.0  "
      ]
     },
     "execution_count": 97,
     "metadata": {},
     "output_type": "execute_result"
    }
   ],
   "source": [
    "febdata[febdata.county == \"New York City\"]"
   ]
  },
  {
   "cell_type": "code",
   "execution_count": 104,
   "metadata": {},
   "outputs": [],
   "source": [
    "febdata.loc[febdata.county == \"New York City\",\"fips\"] = 36998"
   ]
  },
  {
   "cell_type": "code",
   "execution_count": 105,
   "metadata": {},
   "outputs": [],
   "source": [
    "# and I should change this for PR and counties too\n",
    "febdata.loc[febdata.state == \"Puerto Rico\",\"fips\"] = 72999\n",
    "counties.loc[counties.county == \"New York City\",\"fips\"] = 36998\n",
    "counties.loc[counties.state == \"Puerto Rico\",\"fips\"] = 72999\n"
   ]
  },
  {
   "cell_type": "code",
   "execution_count": 106,
   "metadata": {},
   "outputs": [
    {
     "data": {
      "text/html": [
       "<div>\n",
       "<style scoped>\n",
       "    .dataframe tbody tr th:only-of-type {\n",
       "        vertical-align: middle;\n",
       "    }\n",
       "\n",
       "    .dataframe tbody tr th {\n",
       "        vertical-align: top;\n",
       "    }\n",
       "\n",
       "    .dataframe thead th {\n",
       "        text-align: right;\n",
       "    }\n",
       "</style>\n",
       "<table border=\"1\" class=\"dataframe\">\n",
       "  <thead>\n",
       "    <tr style=\"text-align: right;\">\n",
       "      <th></th>\n",
       "      <th>date</th>\n",
       "      <th>county</th>\n",
       "      <th>state</th>\n",
       "      <th>fips</th>\n",
       "      <th>cases</th>\n",
       "      <th>deaths</th>\n",
       "    </tr>\n",
       "  </thead>\n",
       "  <tbody>\n",
       "    <tr>\n",
       "      <th>982097</th>\n",
       "      <td>2021-01-31 00:00:00</td>\n",
       "      <td>Autauga</td>\n",
       "      <td>Alabama</td>\n",
       "      <td>1001</td>\n",
       "      <td>5669</td>\n",
       "      <td>69.0</td>\n",
       "    </tr>\n",
       "  </tbody>\n",
       "</table>\n",
       "</div>"
      ],
      "text/plain": [
       "                       date   county    state  fips  cases  deaths\n",
       "982097  2021-01-31 00:00:00  Autauga  Alabama  1001   5669    69.0"
      ]
     },
     "execution_count": 106,
     "metadata": {},
     "output_type": "execute_result"
    }
   ],
   "source": [
    "febdata.head(1)"
   ]
  },
  {
   "cell_type": "code",
   "execution_count": 107,
   "metadata": {},
   "outputs": [
    {
     "data": {
      "text/plain": [
       "dtype('int64')"
      ]
     },
     "execution_count": 107,
     "metadata": {},
     "output_type": "execute_result"
    }
   ],
   "source": [
    "febdata.fips.dtype"
   ]
  },
  {
   "cell_type": "code",
   "execution_count": 108,
   "metadata": {},
   "outputs": [
    {
     "data": {
      "text/html": [
       "<div>\n",
       "<style scoped>\n",
       "    .dataframe tbody tr th:only-of-type {\n",
       "        vertical-align: middle;\n",
       "    }\n",
       "\n",
       "    .dataframe tbody tr th {\n",
       "        vertical-align: top;\n",
       "    }\n",
       "\n",
       "    .dataframe thead th {\n",
       "        text-align: right;\n",
       "    }\n",
       "</style>\n",
       "<table border=\"1\" class=\"dataframe\">\n",
       "  <thead>\n",
       "    <tr style=\"text-align: right;\">\n",
       "      <th></th>\n",
       "      <th>us_state_fips</th>\n",
       "      <th>us_county_fips</th>\n",
       "      <th>population</th>\n",
       "      <th>region</th>\n",
       "      <th>subregion</th>\n",
       "      <th>nyt_population</th>\n",
       "    </tr>\n",
       "  </thead>\n",
       "  <tbody>\n",
       "    <tr>\n",
       "      <th>0</th>\n",
       "      <td>78</td>\n",
       "      <td>78999</td>\n",
       "      <td>104680</td>\n",
       "      <td>Virgin Islands</td>\n",
       "      <td>Unknown</td>\n",
       "      <td>NaN</td>\n",
       "    </tr>\n",
       "  </tbody>\n",
       "</table>\n",
       "</div>"
      ],
      "text/plain": [
       "   us_state_fips  us_county_fips  population          region subregion  \\\n",
       "0             78           78999      104680  Virgin Islands   Unknown   \n",
       "\n",
       "   nyt_population  \n",
       "0             NaN  "
      ]
     },
     "execution_count": 108,
     "metadata": {},
     "output_type": "execute_result"
    }
   ],
   "source": [
    "population.head(1)"
   ]
  },
  {
   "cell_type": "code",
   "execution_count": 109,
   "metadata": {},
   "outputs": [],
   "source": [
    "# duplicate the field with a different name for convenience\n",
    "population[\"fips\"]= population.us_county_fips"
   ]
  },
  {
   "cell_type": "code",
   "execution_count": 139,
   "metadata": {},
   "outputs": [
    {
     "ename": "ValueError",
     "evalue": "columns overlap but no suffix specified: Index(['fips'], dtype='object')",
     "output_type": "error",
     "traceback": [
      "\u001b[0;31m---------------------------------------------------------------------------\u001b[0m",
      "\u001b[0;31mValueError\u001b[0m                                Traceback (most recent call last)",
      "\u001b[0;32m<ipython-input-139-63379836dac7>\u001b[0m in \u001b[0;36m<module>\u001b[0;34m\u001b[0m\n\u001b[0;32m----> 1\u001b[0;31m \u001b[0mdeathswithpop\u001b[0m\u001b[0;34m=\u001b[0m \u001b[0mcounties\u001b[0m\u001b[0;34m.\u001b[0m\u001b[0mjoin\u001b[0m\u001b[0;34m(\u001b[0m\u001b[0mpopulation\u001b[0m\u001b[0;34m,\u001b[0m \u001b[0;34m\"fips\"\u001b[0m\u001b[0;34m)\u001b[0m\u001b[0;34m\u001b[0m\u001b[0;34m\u001b[0m\u001b[0m\n\u001b[0m",
      "\u001b[0;32m/Applications/anaconda3/lib/python3.8/site-packages/pandas/core/frame.py\u001b[0m in \u001b[0;36mjoin\u001b[0;34m(self, other, on, how, lsuffix, rsuffix, sort)\u001b[0m\n\u001b[1;32m   7868\u001b[0m         \u001b[0;36m5\u001b[0m  \u001b[0mK5\u001b[0m  \u001b[0mA5\u001b[0m  \u001b[0mNaN\u001b[0m\u001b[0;34m\u001b[0m\u001b[0;34m\u001b[0m\u001b[0m\n\u001b[1;32m   7869\u001b[0m         \"\"\"\n\u001b[0;32m-> 7870\u001b[0;31m         return self._join_compat(\n\u001b[0m\u001b[1;32m   7871\u001b[0m             \u001b[0mother\u001b[0m\u001b[0;34m,\u001b[0m \u001b[0mon\u001b[0m\u001b[0;34m=\u001b[0m\u001b[0mon\u001b[0m\u001b[0;34m,\u001b[0m \u001b[0mhow\u001b[0m\u001b[0;34m=\u001b[0m\u001b[0mhow\u001b[0m\u001b[0;34m,\u001b[0m \u001b[0mlsuffix\u001b[0m\u001b[0;34m=\u001b[0m\u001b[0mlsuffix\u001b[0m\u001b[0;34m,\u001b[0m \u001b[0mrsuffix\u001b[0m\u001b[0;34m=\u001b[0m\u001b[0mrsuffix\u001b[0m\u001b[0;34m,\u001b[0m \u001b[0msort\u001b[0m\u001b[0;34m=\u001b[0m\u001b[0msort\u001b[0m\u001b[0;34m\u001b[0m\u001b[0;34m\u001b[0m\u001b[0m\n\u001b[1;32m   7872\u001b[0m         )\n",
      "\u001b[0;32m/Applications/anaconda3/lib/python3.8/site-packages/pandas/core/frame.py\u001b[0m in \u001b[0;36m_join_compat\u001b[0;34m(self, other, on, how, lsuffix, rsuffix, sort)\u001b[0m\n\u001b[1;32m   7884\u001b[0m \u001b[0;34m\u001b[0m\u001b[0m\n\u001b[1;32m   7885\u001b[0m         \u001b[0;32mif\u001b[0m \u001b[0misinstance\u001b[0m\u001b[0;34m(\u001b[0m\u001b[0mother\u001b[0m\u001b[0;34m,\u001b[0m \u001b[0mDataFrame\u001b[0m\u001b[0;34m)\u001b[0m\u001b[0;34m:\u001b[0m\u001b[0;34m\u001b[0m\u001b[0;34m\u001b[0m\u001b[0m\n\u001b[0;32m-> 7886\u001b[0;31m             return merge(\n\u001b[0m\u001b[1;32m   7887\u001b[0m                 \u001b[0mself\u001b[0m\u001b[0;34m,\u001b[0m\u001b[0;34m\u001b[0m\u001b[0;34m\u001b[0m\u001b[0m\n\u001b[1;32m   7888\u001b[0m                 \u001b[0mother\u001b[0m\u001b[0;34m,\u001b[0m\u001b[0;34m\u001b[0m\u001b[0;34m\u001b[0m\u001b[0m\n",
      "\u001b[0;32m/Applications/anaconda3/lib/python3.8/site-packages/pandas/core/reshape/merge.py\u001b[0m in \u001b[0;36mmerge\u001b[0;34m(left, right, how, on, left_on, right_on, left_index, right_index, sort, suffixes, copy, indicator, validate)\u001b[0m\n\u001b[1;32m     87\u001b[0m         \u001b[0mvalidate\u001b[0m\u001b[0;34m=\u001b[0m\u001b[0mvalidate\u001b[0m\u001b[0;34m,\u001b[0m\u001b[0;34m\u001b[0m\u001b[0;34m\u001b[0m\u001b[0m\n\u001b[1;32m     88\u001b[0m     )\n\u001b[0;32m---> 89\u001b[0;31m     \u001b[0;32mreturn\u001b[0m \u001b[0mop\u001b[0m\u001b[0;34m.\u001b[0m\u001b[0mget_result\u001b[0m\u001b[0;34m(\u001b[0m\u001b[0;34m)\u001b[0m\u001b[0;34m\u001b[0m\u001b[0;34m\u001b[0m\u001b[0m\n\u001b[0m\u001b[1;32m     90\u001b[0m \u001b[0;34m\u001b[0m\u001b[0m\n\u001b[1;32m     91\u001b[0m \u001b[0;34m\u001b[0m\u001b[0m\n",
      "\u001b[0;32m/Applications/anaconda3/lib/python3.8/site-packages/pandas/core/reshape/merge.py\u001b[0m in \u001b[0;36mget_result\u001b[0;34m(self)\u001b[0m\n\u001b[1;32m    668\u001b[0m         \u001b[0mjoin_index\u001b[0m\u001b[0;34m,\u001b[0m \u001b[0mleft_indexer\u001b[0m\u001b[0;34m,\u001b[0m \u001b[0mright_indexer\u001b[0m \u001b[0;34m=\u001b[0m \u001b[0mself\u001b[0m\u001b[0;34m.\u001b[0m\u001b[0m_get_join_info\u001b[0m\u001b[0;34m(\u001b[0m\u001b[0;34m)\u001b[0m\u001b[0;34m\u001b[0m\u001b[0;34m\u001b[0m\u001b[0m\n\u001b[1;32m    669\u001b[0m \u001b[0;34m\u001b[0m\u001b[0m\n\u001b[0;32m--> 670\u001b[0;31m         llabels, rlabels = _items_overlap_with_suffix(\n\u001b[0m\u001b[1;32m    671\u001b[0m             \u001b[0mself\u001b[0m\u001b[0;34m.\u001b[0m\u001b[0mleft\u001b[0m\u001b[0;34m.\u001b[0m\u001b[0m_info_axis\u001b[0m\u001b[0;34m,\u001b[0m \u001b[0mself\u001b[0m\u001b[0;34m.\u001b[0m\u001b[0mright\u001b[0m\u001b[0;34m.\u001b[0m\u001b[0m_info_axis\u001b[0m\u001b[0;34m,\u001b[0m \u001b[0mself\u001b[0m\u001b[0;34m.\u001b[0m\u001b[0msuffixes\u001b[0m\u001b[0;34m\u001b[0m\u001b[0;34m\u001b[0m\u001b[0m\n\u001b[1;32m    672\u001b[0m         )\n",
      "\u001b[0;32m/Applications/anaconda3/lib/python3.8/site-packages/pandas/core/reshape/merge.py\u001b[0m in \u001b[0;36m_items_overlap_with_suffix\u001b[0;34m(left, right, suffixes)\u001b[0m\n\u001b[1;32m   2089\u001b[0m \u001b[0;34m\u001b[0m\u001b[0m\n\u001b[1;32m   2090\u001b[0m     \u001b[0;32mif\u001b[0m \u001b[0;32mnot\u001b[0m \u001b[0mlsuffix\u001b[0m \u001b[0;32mand\u001b[0m \u001b[0;32mnot\u001b[0m \u001b[0mrsuffix\u001b[0m\u001b[0;34m:\u001b[0m\u001b[0;34m\u001b[0m\u001b[0;34m\u001b[0m\u001b[0m\n\u001b[0;32m-> 2091\u001b[0;31m         \u001b[0;32mraise\u001b[0m \u001b[0mValueError\u001b[0m\u001b[0;34m(\u001b[0m\u001b[0;34mf\"columns overlap but no suffix specified: {to_rename}\"\u001b[0m\u001b[0;34m)\u001b[0m\u001b[0;34m\u001b[0m\u001b[0;34m\u001b[0m\u001b[0m\n\u001b[0m\u001b[1;32m   2092\u001b[0m \u001b[0;34m\u001b[0m\u001b[0m\n\u001b[1;32m   2093\u001b[0m     \u001b[0;32mdef\u001b[0m \u001b[0mrenamer\u001b[0m\u001b[0;34m(\u001b[0m\u001b[0mx\u001b[0m\u001b[0;34m,\u001b[0m \u001b[0msuffix\u001b[0m\u001b[0;34m)\u001b[0m\u001b[0;34m:\u001b[0m\u001b[0;34m\u001b[0m\u001b[0;34m\u001b[0m\u001b[0m\n",
      "\u001b[0;31mValueError\u001b[0m: columns overlap but no suffix specified: Index(['fips'], dtype='object')"
     ]
    }
   ],
   "source": [
    "deathswithpop= counties.join(population, \"fips\")"
   ]
  },
  {
   "cell_type": "code",
   "execution_count": 140,
   "metadata": {},
   "outputs": [],
   "source": [
    "deathswithpop= counties.join(population, \"fips\", rsuffix=\"_pop\")"
   ]
  },
  {
   "cell_type": "code",
   "execution_count": 141,
   "metadata": {},
   "outputs": [
    {
     "data": {
      "text/html": [
       "<div>\n",
       "<style scoped>\n",
       "    .dataframe tbody tr th:only-of-type {\n",
       "        vertical-align: middle;\n",
       "    }\n",
       "\n",
       "    .dataframe tbody tr th {\n",
       "        vertical-align: top;\n",
       "    }\n",
       "\n",
       "    .dataframe thead th {\n",
       "        text-align: right;\n",
       "    }\n",
       "</style>\n",
       "<table border=\"1\" class=\"dataframe\">\n",
       "  <thead>\n",
       "    <tr style=\"text-align: right;\">\n",
       "      <th></th>\n",
       "      <th>date</th>\n",
       "      <th>county</th>\n",
       "      <th>state</th>\n",
       "      <th>fips</th>\n",
       "      <th>cases</th>\n",
       "      <th>deaths</th>\n",
       "      <th>us_state_fips</th>\n",
       "      <th>us_county_fips</th>\n",
       "      <th>population</th>\n",
       "      <th>region</th>\n",
       "      <th>subregion</th>\n",
       "      <th>nyt_population</th>\n",
       "      <th>fips_pop</th>\n",
       "    </tr>\n",
       "  </thead>\n",
       "  <tbody>\n",
       "    <tr>\n",
       "      <th>0</th>\n",
       "      <td>2020-01-21 00:00:00</td>\n",
       "      <td>Snohomish</td>\n",
       "      <td>Washington</td>\n",
       "      <td>53061</td>\n",
       "      <td>1</td>\n",
       "      <td>0.0</td>\n",
       "      <td>NaN</td>\n",
       "      <td>NaN</td>\n",
       "      <td>NaN</td>\n",
       "      <td>NaN</td>\n",
       "      <td>NaN</td>\n",
       "      <td>NaN</td>\n",
       "      <td>NaN</td>\n",
       "    </tr>\n",
       "    <tr>\n",
       "      <th>1</th>\n",
       "      <td>2020-01-22 00:00:00</td>\n",
       "      <td>Snohomish</td>\n",
       "      <td>Washington</td>\n",
       "      <td>53061</td>\n",
       "      <td>1</td>\n",
       "      <td>0.0</td>\n",
       "      <td>NaN</td>\n",
       "      <td>NaN</td>\n",
       "      <td>NaN</td>\n",
       "      <td>NaN</td>\n",
       "      <td>NaN</td>\n",
       "      <td>NaN</td>\n",
       "      <td>NaN</td>\n",
       "    </tr>\n",
       "  </tbody>\n",
       "</table>\n",
       "</div>"
      ],
      "text/plain": [
       "                  date     county       state   fips  cases  deaths  \\\n",
       "0  2020-01-21 00:00:00  Snohomish  Washington  53061      1     0.0   \n",
       "1  2020-01-22 00:00:00  Snohomish  Washington  53061      1     0.0   \n",
       "\n",
       "   us_state_fips  us_county_fips  population region subregion  nyt_population  \\\n",
       "0            NaN             NaN         NaN    NaN       NaN             NaN   \n",
       "1            NaN             NaN         NaN    NaN       NaN             NaN   \n",
       "\n",
       "   fips_pop  \n",
       "0       NaN  \n",
       "1       NaN  "
      ]
     },
     "execution_count": 141,
     "metadata": {},
     "output_type": "execute_result"
    }
   ],
   "source": [
    "deathswithpop.head(2)"
   ]
  },
  {
   "cell_type": "code",
   "execution_count": 113,
   "metadata": {},
   "outputs": [
    {
     "data": {
      "text/plain": [
       "[<matplotlib.lines.Line2D at 0x7f84967a9220>]"
      ]
     },
     "execution_count": 113,
     "metadata": {},
     "output_type": "execute_result"
    },
    {
     "data": {
      "image/png": "[encoded data removed]",
      "text/plain": [
       "<Figure size 432x288 with 1 Axes>"
      ]
     },
     "metadata": {
      "needs_background": "light"
     },
     "output_type": "display_data"
    }
   ],
   "source": [
    "plt.plot(deathswithpop.deaths, deathswithpop.population)"
   ]
  },
  {
   "cell_type": "code",
   "execution_count": 114,
   "metadata": {},
   "outputs": [
    {
     "data": {
      "text/plain": [
       "[<matplotlib.lines.Line2D at 0x7f84967dfc70>]"
      ]
     },
     "execution_count": 114,
     "metadata": {},
     "output_type": "execute_result"
    },
    {
     "data": {
      "image/png": "[encoded data removed]",
      "text/plain": [
       "<Figure size 432x288 with 1 Axes>"
      ]
     },
     "metadata": {
      "needs_background": "light"
     },
     "output_type": "display_data"
    }
   ],
   "source": [
    "plt.plot(deathswithpop.population, deathswithpop.deaths,'.')"
   ]
  },
  {
   "cell_type": "code",
   "execution_count": 115,
   "metadata": {},
   "outputs": [
    {
     "data": {
      "image/png": "[encoded data removed]",
      "text/plain": [
       "<Figure size 432x288 with 1 Axes>"
      ]
     },
     "metadata": {
      "needs_background": "light"
     },
     "output_type": "display_data"
    }
   ],
   "source": [
    "plt.plot(deathswithpop.population, deathswithpop.deaths,'.')\n",
    "plt.xscale(\"log\"); plt.yscale(\"log\")"
   ]
  },
  {
   "cell_type": "code",
   "execution_count": 117,
   "metadata": {},
   "outputs": [],
   "source": [
    "# This does not look right. County population should not have\n",
    "# many values for well-separated points in the middle of the domain.\n",
    "# Unless I'm plotting all the time points on top of each other.  D'oh.\n",
    "febdata = deathswithpop.loc[np.where(deathswithpop.date ==np.datetime64(\"2021-01-31\"))]\n"
   ]
  },
  {
   "cell_type": "code",
   "execution_count": 118,
   "metadata": {},
   "outputs": [
    {
     "data": {
      "text/plain": [
       "6707680.0"
      ]
     },
     "execution_count": 118,
     "metadata": {},
     "output_type": "execute_result"
    }
   ],
   "source": [
    "# Check that numbers add up!\n",
    "febdata.population.sum()"
   ]
  },
  {
   "cell_type": "code",
   "execution_count": 119,
   "metadata": {},
   "outputs": [
    {
     "data": {
      "text/plain": [
       "441299.0"
      ]
     },
     "execution_count": 119,
     "metadata": {},
     "output_type": "execute_result"
    }
   ],
   "source": [
    "febdata.deaths.sum()"
   ]
  },
  {
   "cell_type": "code",
   "execution_count": null,
   "metadata": {},
   "outputs": [],
   "source": [
    "# While I have all the deaths, I do not have remotely close to all the population.  \n",
    "# Something is still wrong with my join."
   ]
  },
  {
   "cell_type": "code",
   "execution_count": 120,
   "metadata": {},
   "outputs": [
    {
     "data": {
      "text/html": [
       "<div>\n",
       "<style scoped>\n",
       "    .dataframe tbody tr th:only-of-type {\n",
       "        vertical-align: middle;\n",
       "    }\n",
       "\n",
       "    .dataframe tbody tr th {\n",
       "        vertical-align: top;\n",
       "    }\n",
       "\n",
       "    .dataframe thead th {\n",
       "        text-align: right;\n",
       "    }\n",
       "</style>\n",
       "<table border=\"1\" class=\"dataframe\">\n",
       "  <thead>\n",
       "    <tr style=\"text-align: right;\">\n",
       "      <th></th>\n",
       "      <th>date</th>\n",
       "      <th>county</th>\n",
       "      <th>state</th>\n",
       "      <th>fips</th>\n",
       "      <th>cases</th>\n",
       "      <th>deaths</th>\n",
       "      <th>us_state_fips</th>\n",
       "      <th>us_county_fips</th>\n",
       "      <th>population</th>\n",
       "      <th>region</th>\n",
       "      <th>subregion</th>\n",
       "      <th>nyt_population</th>\n",
       "      <th>fips_pop</th>\n",
       "    </tr>\n",
       "  </thead>\n",
       "  <tbody>\n",
       "    <tr>\n",
       "      <th>982097</th>\n",
       "      <td>2021-01-31 00:00:00</td>\n",
       "      <td>Autauga</td>\n",
       "      <td>Alabama</td>\n",
       "      <td>1001</td>\n",
       "      <td>5669</td>\n",
       "      <td>69.0</td>\n",
       "      <td>21.0</td>\n",
       "      <td>21009.0</td>\n",
       "      <td>43680.0</td>\n",
       "      <td>Kentucky</td>\n",
       "      <td>Barren</td>\n",
       "      <td>NaN</td>\n",
       "      <td>21009.0</td>\n",
       "    </tr>\n",
       "    <tr>\n",
       "      <th>983097</th>\n",
       "      <td>2021-01-31 00:00:00</td>\n",
       "      <td>Wyandotte</td>\n",
       "      <td>Kansas</td>\n",
       "      <td>20209</td>\n",
       "      <td>18124</td>\n",
       "      <td>222.0</td>\n",
       "      <td>NaN</td>\n",
       "      <td>NaN</td>\n",
       "      <td>NaN</td>\n",
       "      <td>NaN</td>\n",
       "      <td>NaN</td>\n",
       "      <td>NaN</td>\n",
       "      <td>NaN</td>\n",
       "    </tr>\n",
       "    <tr>\n",
       "      <th>984097</th>\n",
       "      <td>2021-01-31 00:00:00</td>\n",
       "      <td>Wayne</td>\n",
       "      <td>North Carolina</td>\n",
       "      <td>37191</td>\n",
       "      <td>9281</td>\n",
       "      <td>185.0</td>\n",
       "      <td>NaN</td>\n",
       "      <td>NaN</td>\n",
       "      <td>NaN</td>\n",
       "      <td>NaN</td>\n",
       "      <td>NaN</td>\n",
       "      <td>NaN</td>\n",
       "      <td>NaN</td>\n",
       "    </tr>\n",
       "    <tr>\n",
       "      <th>985175</th>\n",
       "      <td>2021-01-31 00:00:00</td>\n",
       "      <td>Lewis</td>\n",
       "      <td>Washington</td>\n",
       "      <td>53041</td>\n",
       "      <td>3320</td>\n",
       "      <td>37.0</td>\n",
       "      <td>NaN</td>\n",
       "      <td>NaN</td>\n",
       "      <td>NaN</td>\n",
       "      <td>NaN</td>\n",
       "      <td>NaN</td>\n",
       "      <td>NaN</td>\n",
       "      <td>NaN</td>\n",
       "    </tr>\n",
       "  </tbody>\n",
       "</table>\n",
       "</div>"
      ],
      "text/plain": [
       "                       date     county           state   fips  cases  deaths  \\\n",
       "982097  2021-01-31 00:00:00    Autauga         Alabama   1001   5669    69.0   \n",
       "983097  2021-01-31 00:00:00  Wyandotte          Kansas  20209  18124   222.0   \n",
       "984097  2021-01-31 00:00:00      Wayne  North Carolina  37191   9281   185.0   \n",
       "985175  2021-01-31 00:00:00      Lewis      Washington  53041   3320    37.0   \n",
       "\n",
       "        us_state_fips  us_county_fips  population    region subregion  \\\n",
       "982097           21.0         21009.0     43680.0  Kentucky    Barren   \n",
       "983097            NaN             NaN         NaN       NaN       NaN   \n",
       "984097            NaN             NaN         NaN       NaN       NaN   \n",
       "985175            NaN             NaN         NaN       NaN       NaN   \n",
       "\n",
       "        nyt_population  fips_pop  \n",
       "982097             NaN   21009.0  \n",
       "983097             NaN       NaN  \n",
       "984097             NaN       NaN  \n",
       "985175             NaN       NaN  "
      ]
     },
     "execution_count": 120,
     "metadata": {},
     "output_type": "execute_result"
    }
   ],
   "source": [
    "# Look at every thousandth row:\n",
    "febdata[::1000]"
   ]
  },
  {
   "cell_type": "code",
   "execution_count": 127,
   "metadata": {},
   "outputs": [
    {
     "data": {
      "text/html": [
       "<div>\n",
       "<style scoped>\n",
       "    .dataframe tbody tr th:only-of-type {\n",
       "        vertical-align: middle;\n",
       "    }\n",
       "\n",
       "    .dataframe tbody tr th {\n",
       "        vertical-align: top;\n",
       "    }\n",
       "\n",
       "    .dataframe thead th {\n",
       "        text-align: right;\n",
       "    }\n",
       "</style>\n",
       "<table border=\"1\" class=\"dataframe\">\n",
       "  <thead>\n",
       "    <tr style=\"text-align: right;\">\n",
       "      <th></th>\n",
       "      <th>us_state_fips</th>\n",
       "      <th>us_county_fips</th>\n",
       "      <th>population</th>\n",
       "      <th>region</th>\n",
       "      <th>subregion</th>\n",
       "      <th>nyt_population</th>\n",
       "      <th>fips</th>\n",
       "    </tr>\n",
       "  </thead>\n",
       "  <tbody>\n",
       "    <tr>\n",
       "      <th>996</th>\n",
       "      <td>20</td>\n",
       "      <td>20209</td>\n",
       "      <td>164345</td>\n",
       "      <td>Kansas</td>\n",
       "      <td>Wyandotte</td>\n",
       "      <td>NaN</td>\n",
       "      <td>20209</td>\n",
       "    </tr>\n",
       "  </tbody>\n",
       "</table>\n",
       "</div>"
      ],
      "text/plain": [
       "     us_state_fips  us_county_fips  population  region  subregion  \\\n",
       "996             20           20209      164345  Kansas  Wyandotte   \n",
       "\n",
       "     nyt_population   fips  \n",
       "996             NaN  20209  "
      ]
     },
     "execution_count": 127,
     "metadata": {},
     "output_type": "execute_result"
    }
   ],
   "source": [
    "# Let's spot-check Wyandotte County, KS \n",
    "population.loc[np.where(population.subregion==\"Wyandotte\")]"
   ]
  },
  {
   "cell_type": "code",
   "execution_count": 124,
   "metadata": {},
   "outputs": [
    {
     "data": {
      "text/html": [
       "<div>\n",
       "<style scoped>\n",
       "    .dataframe tbody tr th:only-of-type {\n",
       "        vertical-align: middle;\n",
       "    }\n",
       "\n",
       "    .dataframe tbody tr th {\n",
       "        vertical-align: top;\n",
       "    }\n",
       "\n",
       "    .dataframe thead th {\n",
       "        text-align: right;\n",
       "    }\n",
       "</style>\n",
       "<table border=\"1\" class=\"dataframe\">\n",
       "  <thead>\n",
       "    <tr style=\"text-align: right;\">\n",
       "      <th></th>\n",
       "      <th>us_state_fips</th>\n",
       "      <th>us_county_fips</th>\n",
       "      <th>population</th>\n",
       "      <th>region</th>\n",
       "      <th>subregion</th>\n",
       "      <th>nyt_population</th>\n",
       "      <th>fips</th>\n",
       "    </tr>\n",
       "  </thead>\n",
       "  <tbody>\n",
       "    <tr>\n",
       "      <th>0</th>\n",
       "      <td>78</td>\n",
       "      <td>78999</td>\n",
       "      <td>104680</td>\n",
       "      <td>Virgin Islands</td>\n",
       "      <td>Unknown</td>\n",
       "      <td>NaN</td>\n",
       "      <td>78999</td>\n",
       "    </tr>\n",
       "    <tr>\n",
       "      <th>1</th>\n",
       "      <td>72</td>\n",
       "      <td>72999</td>\n",
       "      <td>3386941</td>\n",
       "      <td>Puerto Rico</td>\n",
       "      <td>Unknown</td>\n",
       "      <td>NaN</td>\n",
       "      <td>72999</td>\n",
       "    </tr>\n",
       "    <tr>\n",
       "      <th>2</th>\n",
       "      <td>66</td>\n",
       "      <td>66999</td>\n",
       "      <td>165768</td>\n",
       "      <td>Guam</td>\n",
       "      <td>Unknown</td>\n",
       "      <td>NaN</td>\n",
       "      <td>66999</td>\n",
       "    </tr>\n",
       "    <tr>\n",
       "      <th>3</th>\n",
       "      <td>69</td>\n",
       "      <td>69999</td>\n",
       "      <td>56882</td>\n",
       "      <td>Northern Mariana Islands</td>\n",
       "      <td>Unknown</td>\n",
       "      <td>NaN</td>\n",
       "      <td>69999</td>\n",
       "    </tr>\n",
       "    <tr>\n",
       "      <th>4</th>\n",
       "      <td>1</td>\n",
       "      <td>1001</td>\n",
       "      <td>55200</td>\n",
       "      <td>Alabama</td>\n",
       "      <td>Autauga</td>\n",
       "      <td>NaN</td>\n",
       "      <td>1001</td>\n",
       "    </tr>\n",
       "    <tr>\n",
       "      <th>...</th>\n",
       "      <td>...</td>\n",
       "      <td>...</td>\n",
       "      <td>...</td>\n",
       "      <td>...</td>\n",
       "      <td>...</td>\n",
       "      <td>...</td>\n",
       "      <td>...</td>\n",
       "    </tr>\n",
       "    <tr>\n",
       "      <th>3138</th>\n",
       "      <td>56</td>\n",
       "      <td>56037</td>\n",
       "      <td>44117</td>\n",
       "      <td>Wyoming</td>\n",
       "      <td>Sweetwater</td>\n",
       "      <td>NaN</td>\n",
       "      <td>56037</td>\n",
       "    </tr>\n",
       "    <tr>\n",
       "      <th>3139</th>\n",
       "      <td>56</td>\n",
       "      <td>56039</td>\n",
       "      <td>23059</td>\n",
       "      <td>Wyoming</td>\n",
       "      <td>Teton</td>\n",
       "      <td>NaN</td>\n",
       "      <td>56039</td>\n",
       "    </tr>\n",
       "    <tr>\n",
       "      <th>3140</th>\n",
       "      <td>56</td>\n",
       "      <td>56041</td>\n",
       "      <td>20609</td>\n",
       "      <td>Wyoming</td>\n",
       "      <td>Uinta</td>\n",
       "      <td>NaN</td>\n",
       "      <td>56041</td>\n",
       "    </tr>\n",
       "    <tr>\n",
       "      <th>3141</th>\n",
       "      <td>56</td>\n",
       "      <td>56043</td>\n",
       "      <td>8129</td>\n",
       "      <td>Wyoming</td>\n",
       "      <td>Washakie</td>\n",
       "      <td>NaN</td>\n",
       "      <td>56043</td>\n",
       "    </tr>\n",
       "    <tr>\n",
       "      <th>3142</th>\n",
       "      <td>56</td>\n",
       "      <td>56045</td>\n",
       "      <td>7100</td>\n",
       "      <td>Wyoming</td>\n",
       "      <td>Weston</td>\n",
       "      <td>NaN</td>\n",
       "      <td>56045</td>\n",
       "    </tr>\n",
       "  </tbody>\n",
       "</table>\n",
       "<p>3143 rows × 7 columns</p>\n",
       "</div>"
      ],
      "text/plain": [
       "      us_state_fips  us_county_fips  population                    region  \\\n",
       "0                78           78999      104680            Virgin Islands   \n",
       "1                72           72999     3386941               Puerto Rico   \n",
       "2                66           66999      165768                      Guam   \n",
       "3                69           69999       56882  Northern Mariana Islands   \n",
       "4                 1            1001       55200                   Alabama   \n",
       "...             ...             ...         ...                       ...   \n",
       "3138             56           56037       44117                   Wyoming   \n",
       "3139             56           56039       23059                   Wyoming   \n",
       "3140             56           56041       20609                   Wyoming   \n",
       "3141             56           56043        8129                   Wyoming   \n",
       "3142             56           56045        7100                   Wyoming   \n",
       "\n",
       "       subregion  nyt_population   fips  \n",
       "0        Unknown             NaN  78999  \n",
       "1        Unknown             NaN  72999  \n",
       "2        Unknown             NaN  66999  \n",
       "3        Unknown             NaN  69999  \n",
       "4        Autauga             NaN   1001  \n",
       "...          ...             ...    ...  \n",
       "3138  Sweetwater             NaN  56037  \n",
       "3139       Teton             NaN  56039  \n",
       "3140       Uinta             NaN  56041  \n",
       "3141    Washakie             NaN  56043  \n",
       "3142      Weston             NaN  56045  \n",
       "\n",
       "[3143 rows x 7 columns]"
      ]
     },
     "execution_count": 124,
     "metadata": {},
     "output_type": "execute_result"
    }
   ],
   "source": [
    "population"
   ]
  },
  {
   "cell_type": "code",
   "execution_count": 128,
   "metadata": {},
   "outputs": [
    {
     "data": {
      "text/html": [
       "<div>\n",
       "<style scoped>\n",
       "    .dataframe tbody tr th:only-of-type {\n",
       "        vertical-align: middle;\n",
       "    }\n",
       "\n",
       "    .dataframe tbody tr th {\n",
       "        vertical-align: top;\n",
       "    }\n",
       "\n",
       "    .dataframe thead th {\n",
       "        text-align: right;\n",
       "    }\n",
       "</style>\n",
       "<table border=\"1\" class=\"dataframe\">\n",
       "  <thead>\n",
       "    <tr style=\"text-align: right;\">\n",
       "      <th></th>\n",
       "      <th>date</th>\n",
       "      <th>county</th>\n",
       "      <th>state</th>\n",
       "      <th>fips</th>\n",
       "      <th>cases</th>\n",
       "      <th>deaths</th>\n",
       "      <th>us_state_fips</th>\n",
       "      <th>us_county_fips</th>\n",
       "      <th>population</th>\n",
       "      <th>region</th>\n",
       "      <th>subregion</th>\n",
       "      <th>nyt_population</th>\n",
       "      <th>fips_pop</th>\n",
       "    </tr>\n",
       "  </thead>\n",
       "  <tbody>\n",
       "    <tr>\n",
       "      <th>0</th>\n",
       "      <td>2020-01-21 00:00:00</td>\n",
       "      <td>Snohomish</td>\n",
       "      <td>Washington</td>\n",
       "      <td>53061</td>\n",
       "      <td>1</td>\n",
       "      <td>0.0</td>\n",
       "      <td>NaN</td>\n",
       "      <td>NaN</td>\n",
       "      <td>NaN</td>\n",
       "      <td>NaN</td>\n",
       "      <td>NaN</td>\n",
       "      <td>NaN</td>\n",
       "      <td>NaN</td>\n",
       "    </tr>\n",
       "    <tr>\n",
       "      <th>10000</th>\n",
       "      <td>2020-03-24 00:00:00</td>\n",
       "      <td>St. James</td>\n",
       "      <td>Louisiana</td>\n",
       "      <td>22093</td>\n",
       "      <td>9</td>\n",
       "      <td>1.0</td>\n",
       "      <td>NaN</td>\n",
       "      <td>NaN</td>\n",
       "      <td>NaN</td>\n",
       "      <td>NaN</td>\n",
       "      <td>NaN</td>\n",
       "      <td>NaN</td>\n",
       "      <td>NaN</td>\n",
       "    </tr>\n",
       "    <tr>\n",
       "      <th>20000</th>\n",
       "      <td>2020-03-30 00:00:00</td>\n",
       "      <td>Fayette</td>\n",
       "      <td>Georgia</td>\n",
       "      <td>13113</td>\n",
       "      <td>42</td>\n",
       "      <td>3.0</td>\n",
       "      <td>NaN</td>\n",
       "      <td>NaN</td>\n",
       "      <td>NaN</td>\n",
       "      <td>NaN</td>\n",
       "      <td>NaN</td>\n",
       "      <td>NaN</td>\n",
       "      <td>NaN</td>\n",
       "    </tr>\n",
       "    <tr>\n",
       "      <th>30000</th>\n",
       "      <td>2020-04-03 00:00:00</td>\n",
       "      <td>Union</td>\n",
       "      <td>Ohio</td>\n",
       "      <td>39159</td>\n",
       "      <td>5</td>\n",
       "      <td>0.0</td>\n",
       "      <td>NaN</td>\n",
       "      <td>NaN</td>\n",
       "      <td>NaN</td>\n",
       "      <td>NaN</td>\n",
       "      <td>NaN</td>\n",
       "      <td>NaN</td>\n",
       "      <td>NaN</td>\n",
       "    </tr>\n",
       "    <tr>\n",
       "      <th>40000</th>\n",
       "      <td>2020-04-07 00:00:00</td>\n",
       "      <td>Darlington</td>\n",
       "      <td>South Carolina</td>\n",
       "      <td>45031</td>\n",
       "      <td>29</td>\n",
       "      <td>0.0</td>\n",
       "      <td>NaN</td>\n",
       "      <td>NaN</td>\n",
       "      <td>NaN</td>\n",
       "      <td>NaN</td>\n",
       "      <td>NaN</td>\n",
       "      <td>NaN</td>\n",
       "      <td>NaN</td>\n",
       "    </tr>\n",
       "    <tr>\n",
       "      <th>...</th>\n",
       "      <td>...</td>\n",
       "      <td>...</td>\n",
       "      <td>...</td>\n",
       "      <td>...</td>\n",
       "      <td>...</td>\n",
       "      <td>...</td>\n",
       "      <td>...</td>\n",
       "      <td>...</td>\n",
       "      <td>...</td>\n",
       "      <td>...</td>\n",
       "      <td>...</td>\n",
       "      <td>...</td>\n",
       "      <td>...</td>\n",
       "    </tr>\n",
       "    <tr>\n",
       "      <th>1830000</th>\n",
       "      <td>2021-10-19 00:00:00</td>\n",
       "      <td>Appling</td>\n",
       "      <td>Georgia</td>\n",
       "      <td>13001</td>\n",
       "      <td>3466</td>\n",
       "      <td>102.0</td>\n",
       "      <td>NaN</td>\n",
       "      <td>NaN</td>\n",
       "      <td>NaN</td>\n",
       "      <td>NaN</td>\n",
       "      <td>NaN</td>\n",
       "      <td>NaN</td>\n",
       "      <td>NaN</td>\n",
       "    </tr>\n",
       "    <tr>\n",
       "      <th>1840000</th>\n",
       "      <td>2021-10-22 00:00:00</td>\n",
       "      <td>Jo Daviess</td>\n",
       "      <td>Illinois</td>\n",
       "      <td>17085</td>\n",
       "      <td>2166</td>\n",
       "      <td>32.0</td>\n",
       "      <td>NaN</td>\n",
       "      <td>NaN</td>\n",
       "      <td>NaN</td>\n",
       "      <td>NaN</td>\n",
       "      <td>NaN</td>\n",
       "      <td>NaN</td>\n",
       "      <td>NaN</td>\n",
       "    </tr>\n",
       "    <tr>\n",
       "      <th>1850000</th>\n",
       "      <td>2021-10-25 00:00:00</td>\n",
       "      <td>Woodbury</td>\n",
       "      <td>Iowa</td>\n",
       "      <td>19193</td>\n",
       "      <td>19215</td>\n",
       "      <td>244.0</td>\n",
       "      <td>NaN</td>\n",
       "      <td>NaN</td>\n",
       "      <td>NaN</td>\n",
       "      <td>NaN</td>\n",
       "      <td>NaN</td>\n",
       "      <td>NaN</td>\n",
       "      <td>NaN</td>\n",
       "    </tr>\n",
       "    <tr>\n",
       "      <th>1860000</th>\n",
       "      <td>2021-10-28 00:00:00</td>\n",
       "      <td>Jefferson</td>\n",
       "      <td>Louisiana</td>\n",
       "      <td>22051</td>\n",
       "      <td>69492</td>\n",
       "      <td>1162.0</td>\n",
       "      <td>NaN</td>\n",
       "      <td>NaN</td>\n",
       "      <td>NaN</td>\n",
       "      <td>NaN</td>\n",
       "      <td>NaN</td>\n",
       "      <td>NaN</td>\n",
       "      <td>NaN</td>\n",
       "    </tr>\n",
       "    <tr>\n",
       "      <th>1870000</th>\n",
       "      <td>2021-10-31 00:00:00</td>\n",
       "      <td>Stearns</td>\n",
       "      <td>Minnesota</td>\n",
       "      <td>27145</td>\n",
       "      <td>29213</td>\n",
       "      <td>259.0</td>\n",
       "      <td>NaN</td>\n",
       "      <td>NaN</td>\n",
       "      <td>NaN</td>\n",
       "      <td>NaN</td>\n",
       "      <td>NaN</td>\n",
       "      <td>NaN</td>\n",
       "      <td>NaN</td>\n",
       "    </tr>\n",
       "  </tbody>\n",
       "</table>\n",
       "<p>188 rows × 13 columns</p>\n",
       "</div>"
      ],
      "text/plain": [
       "                        date      county           state   fips  cases  \\\n",
       "0        2020-01-21 00:00:00   Snohomish      Washington  53061      1   \n",
       "10000    2020-03-24 00:00:00   St. James       Louisiana  22093      9   \n",
       "20000    2020-03-30 00:00:00     Fayette         Georgia  13113     42   \n",
       "30000    2020-04-03 00:00:00       Union            Ohio  39159      5   \n",
       "40000    2020-04-07 00:00:00  Darlington  South Carolina  45031     29   \n",
       "...                      ...         ...             ...    ...    ...   \n",
       "1830000  2021-10-19 00:00:00     Appling         Georgia  13001   3466   \n",
       "1840000  2021-10-22 00:00:00  Jo Daviess        Illinois  17085   2166   \n",
       "1850000  2021-10-25 00:00:00    Woodbury            Iowa  19193  19215   \n",
       "1860000  2021-10-28 00:00:00   Jefferson       Louisiana  22051  69492   \n",
       "1870000  2021-10-31 00:00:00     Stearns       Minnesota  27145  29213   \n",
       "\n",
       "         deaths  us_state_fips  us_county_fips  population region subregion  \\\n",
       "0           0.0            NaN             NaN         NaN    NaN       NaN   \n",
       "10000       1.0            NaN             NaN         NaN    NaN       NaN   \n",
       "20000       3.0            NaN             NaN         NaN    NaN       NaN   \n",
       "30000       0.0            NaN             NaN         NaN    NaN       NaN   \n",
       "40000       0.0            NaN             NaN         NaN    NaN       NaN   \n",
       "...         ...            ...             ...         ...    ...       ...   \n",
       "1830000   102.0            NaN             NaN         NaN    NaN       NaN   \n",
       "1840000    32.0            NaN             NaN         NaN    NaN       NaN   \n",
       "1850000   244.0            NaN             NaN         NaN    NaN       NaN   \n",
       "1860000  1162.0            NaN             NaN         NaN    NaN       NaN   \n",
       "1870000   259.0            NaN             NaN         NaN    NaN       NaN   \n",
       "\n",
       "         nyt_population  fips_pop  \n",
       "0                   NaN       NaN  \n",
       "10000               NaN       NaN  \n",
       "20000               NaN       NaN  \n",
       "30000               NaN       NaN  \n",
       "40000               NaN       NaN  \n",
       "...                 ...       ...  \n",
       "1830000             NaN       NaN  \n",
       "1840000             NaN       NaN  \n",
       "1850000             NaN       NaN  \n",
       "1860000             NaN       NaN  \n",
       "1870000             NaN       NaN  \n",
       "\n",
       "[188 rows x 13 columns]"
      ]
     },
     "execution_count": 128,
     "metadata": {},
     "output_type": "execute_result"
    }
   ],
   "source": [
    "deathswithpop= counties.join(population, \"fips\", rsuffix=\"_pop\")\n",
    "deathswithpop[::10000]"
   ]
  },
  {
   "cell_type": "code",
   "execution_count": 130,
   "metadata": {},
   "outputs": [],
   "source": []
  },
  {
   "cell_type": "code",
   "execution_count": 131,
   "metadata": {},
   "outputs": [
    {
     "data": {
      "text/plain": [
       "223298627.0"
      ]
     },
     "execution_count": 131,
     "metadata": {},
     "output_type": "execute_result"
    }
   ],
   "source": [
    "deathswithpop.deaths.sum()"
   ]
  },
  {
   "cell_type": "code",
   "execution_count": 138,
   "metadata": {},
   "outputs": [
    {
     "data": {
      "text/html": [
       "<div>\n",
       "<style scoped>\n",
       "    .dataframe tbody tr th:only-of-type {\n",
       "        vertical-align: middle;\n",
       "    }\n",
       "\n",
       "    .dataframe tbody tr th {\n",
       "        vertical-align: top;\n",
       "    }\n",
       "\n",
       "    .dataframe thead th {\n",
       "        text-align: right;\n",
       "    }\n",
       "</style>\n",
       "<table border=\"1\" class=\"dataframe\">\n",
       "  <thead>\n",
       "    <tr style=\"text-align: right;\">\n",
       "      <th></th>\n",
       "      <th>date</th>\n",
       "      <th>county</th>\n",
       "      <th>state</th>\n",
       "      <th>cases</th>\n",
       "      <th>deaths</th>\n",
       "      <th>us_state_fips</th>\n",
       "      <th>us_county_fips</th>\n",
       "      <th>population</th>\n",
       "      <th>region</th>\n",
       "      <th>subregion</th>\n",
       "      <th>nyt_population</th>\n",
       "    </tr>\n",
       "    <tr>\n",
       "      <th>fips</th>\n",
       "      <th></th>\n",
       "      <th></th>\n",
       "      <th></th>\n",
       "      <th></th>\n",
       "      <th></th>\n",
       "      <th></th>\n",
       "      <th></th>\n",
       "      <th></th>\n",
       "      <th></th>\n",
       "      <th></th>\n",
       "      <th></th>\n",
       "    </tr>\n",
       "  </thead>\n",
       "  <tbody>\n",
       "    <tr>\n",
       "      <th>0</th>\n",
       "      <td>0</td>\n",
       "      <td>0</td>\n",
       "      <td>0</td>\n",
       "      <td>0</td>\n",
       "      <td>0.0</td>\n",
       "      <td>NaN</td>\n",
       "      <td>NaN</td>\n",
       "      <td>NaN</td>\n",
       "      <td>NaN</td>\n",
       "      <td>NaN</td>\n",
       "      <td>NaN</td>\n",
       "    </tr>\n",
       "    <tr>\n",
       "      <th>0</th>\n",
       "      <td>0</td>\n",
       "      <td>0</td>\n",
       "      <td>0</td>\n",
       "      <td>0</td>\n",
       "      <td>0.0</td>\n",
       "      <td>NaN</td>\n",
       "      <td>NaN</td>\n",
       "      <td>NaN</td>\n",
       "      <td>NaN</td>\n",
       "      <td>NaN</td>\n",
       "      <td>NaN</td>\n",
       "    </tr>\n",
       "    <tr>\n",
       "      <th>0</th>\n",
       "      <td>0</td>\n",
       "      <td>0</td>\n",
       "      <td>0</td>\n",
       "      <td>0</td>\n",
       "      <td>0.0</td>\n",
       "      <td>NaN</td>\n",
       "      <td>NaN</td>\n",
       "      <td>NaN</td>\n",
       "      <td>NaN</td>\n",
       "      <td>NaN</td>\n",
       "      <td>NaN</td>\n",
       "    </tr>\n",
       "    <tr>\n",
       "      <th>0</th>\n",
       "      <td>0</td>\n",
       "      <td>0</td>\n",
       "      <td>0</td>\n",
       "      <td>0</td>\n",
       "      <td>0.0</td>\n",
       "      <td>NaN</td>\n",
       "      <td>NaN</td>\n",
       "      <td>NaN</td>\n",
       "      <td>NaN</td>\n",
       "      <td>NaN</td>\n",
       "      <td>NaN</td>\n",
       "    </tr>\n",
       "    <tr>\n",
       "      <th>0</th>\n",
       "      <td>0</td>\n",
       "      <td>0</td>\n",
       "      <td>0</td>\n",
       "      <td>0</td>\n",
       "      <td>0.0</td>\n",
       "      <td>NaN</td>\n",
       "      <td>NaN</td>\n",
       "      <td>NaN</td>\n",
       "      <td>NaN</td>\n",
       "      <td>NaN</td>\n",
       "      <td>NaN</td>\n",
       "    </tr>\n",
       "  </tbody>\n",
       "</table>\n",
       "</div>"
      ],
      "text/plain": [
       "     date county state  cases  deaths  us_state_fips  us_county_fips  \\\n",
       "fips                                                                   \n",
       "0       0      0     0      0     0.0            NaN             NaN   \n",
       "0       0      0     0      0     0.0            NaN             NaN   \n",
       "0       0      0     0      0     0.0            NaN             NaN   \n",
       "0       0      0     0      0     0.0            NaN             NaN   \n",
       "0       0      0     0      0     0.0            NaN             NaN   \n",
       "\n",
       "      population region subregion  nyt_population  \n",
       "fips                                               \n",
       "0            NaN    NaN       NaN             NaN  \n",
       "0            NaN    NaN       NaN             NaN  \n",
       "0            NaN    NaN       NaN             NaN  \n",
       "0            NaN    NaN       NaN             NaN  \n",
       "0            NaN    NaN       NaN             NaN  "
      ]
     },
     "execution_count": 138,
     "metadata": {},
     "output_type": "execute_result"
    }
   ],
   "source": [
    "deathswithpop.head()"
   ]
  },
  {
   "cell_type": "code",
   "execution_count": 145,
   "metadata": {},
   "outputs": [],
   "source": [
    "feb = deathswithpop.loc[np.where(deathswithpop.date ==np.datetime64(\"2021-01-31\"))]\n"
   ]
  },
  {
   "cell_type": "code",
   "execution_count": 148,
   "metadata": {},
   "outputs": [
    {
     "data": {
      "text/plain": [
       "3169"
      ]
     },
     "execution_count": 148,
     "metadata": {},
     "output_type": "execute_result"
    }
   ],
   "source": [
    "len(feb)"
   ]
  },
  {
   "cell_type": "code",
   "execution_count": 149,
   "metadata": {},
   "outputs": [
    {
     "data": {
      "text/plain": [
       "6707680.0"
      ]
     },
     "execution_count": 149,
     "metadata": {},
     "output_type": "execute_result"
    }
   ],
   "source": [
    "feb.population.sum()"
   ]
  },
  {
   "cell_type": "code",
   "execution_count": 150,
   "metadata": {},
   "outputs": [
    {
     "data": {
      "text/plain": [
       "94"
      ]
     },
     "execution_count": 150,
     "metadata": {},
     "output_type": "execute_result"
    }
   ],
   "source": [
    "len(feb[feb.population>0])"
   ]
  },
  {
   "cell_type": "code",
   "execution_count": 153,
   "metadata": {},
   "outputs": [],
   "source": [
    "# A little bit of a puzzle why only 94 counties out of 3169 joined.\n",
    "# Search engine...\n",
    "# https://stackoverflow.com/questions/10114399/pandas-simple-join-not-working\n",
    "# Use pd.DataFrame.merge; pd.join is index-centric.\n",
    "deathswithpop= counties.merge(population, on=\"fips\")\n",
    "feb = deathswithpop.loc[np.where(deathswithpop.date ==np.datetime64(\"2021-01-31\"))]\n"
   ]
  },
  {
   "cell_type": "code",
   "execution_count": 154,
   "metadata": {},
   "outputs": [
    {
     "data": {
      "text/plain": [
       "325437513"
      ]
     },
     "execution_count": 154,
     "metadata": {},
     "output_type": "execute_result"
    }
   ],
   "source": [
    "feb.population.sum()"
   ]
  },
  {
   "cell_type": "code",
   "execution_count": 155,
   "metadata": {},
   "outputs": [
    {
     "data": {
      "text/plain": [
       "439361.0"
      ]
     },
     "execution_count": 155,
     "metadata": {},
     "output_type": "execute_result"
    }
   ],
   "source": [
    "feb.deaths.sum()"
   ]
  },
  {
   "cell_type": "code",
   "execution_count": 156,
   "metadata": {},
   "outputs": [
    {
     "data": {
      "text/plain": [
       "3135"
      ]
     },
     "execution_count": 156,
     "metadata": {},
     "output_type": "execute_result"
    }
   ],
   "source": [
    "len(feb.loc[feb.population>0])"
   ]
  },
  {
   "cell_type": "code",
   "execution_count": 157,
   "metadata": {},
   "outputs": [
    {
     "data": {
      "text/html": [
       "<div>\n",
       "<style scoped>\n",
       "    .dataframe tbody tr th:only-of-type {\n",
       "        vertical-align: middle;\n",
       "    }\n",
       "\n",
       "    .dataframe tbody tr th {\n",
       "        vertical-align: top;\n",
       "    }\n",
       "\n",
       "    .dataframe thead th {\n",
       "        text-align: right;\n",
       "    }\n",
       "</style>\n",
       "<table border=\"1\" class=\"dataframe\">\n",
       "  <thead>\n",
       "    <tr style=\"text-align: right;\">\n",
       "      <th></th>\n",
       "      <th>date</th>\n",
       "      <th>county</th>\n",
       "      <th>state</th>\n",
       "      <th>fips</th>\n",
       "      <th>cases</th>\n",
       "      <th>deaths</th>\n",
       "      <th>us_state_fips</th>\n",
       "      <th>us_county_fips</th>\n",
       "      <th>population</th>\n",
       "      <th>region</th>\n",
       "      <th>subregion</th>\n",
       "      <th>nyt_population</th>\n",
       "    </tr>\n",
       "  </thead>\n",
       "  <tbody>\n",
       "    <tr>\n",
       "      <th>376</th>\n",
       "      <td>2021-01-31 00:00:00</td>\n",
       "      <td>Snohomish</td>\n",
       "      <td>Washington</td>\n",
       "      <td>53061</td>\n",
       "      <td>28373</td>\n",
       "      <td>488.0</td>\n",
       "      <td>53</td>\n",
       "      <td>53061</td>\n",
       "      <td>786620</td>\n",
       "      <td>Washington</td>\n",
       "      <td>Snohomish</td>\n",
       "      <td>NaN</td>\n",
       "    </tr>\n",
       "    <tr>\n",
       "      <th>1024</th>\n",
       "      <td>2021-01-31 00:00:00</td>\n",
       "      <td>Cook</td>\n",
       "      <td>Illinois</td>\n",
       "      <td>17031</td>\n",
       "      <td>453634</td>\n",
       "      <td>9374.0</td>\n",
       "      <td>17</td>\n",
       "      <td>17031</td>\n",
       "      <td>5223719</td>\n",
       "      <td>Illinois</td>\n",
       "      <td>Cook</td>\n",
       "      <td>NaN</td>\n",
       "    </tr>\n",
       "    <tr>\n",
       "      <th>1671</th>\n",
       "      <td>2021-01-31 00:00:00</td>\n",
       "      <td>Orange</td>\n",
       "      <td>California</td>\n",
       "      <td>6059</td>\n",
       "      <td>245978</td>\n",
       "      <td>3062.0</td>\n",
       "      <td>6</td>\n",
       "      <td>6059</td>\n",
       "      <td>3164182</td>\n",
       "      <td>California</td>\n",
       "      <td>Orange</td>\n",
       "      <td>NaN</td>\n",
       "    </tr>\n",
       "    <tr>\n",
       "      <th>2317</th>\n",
       "      <td>2021-01-31 00:00:00</td>\n",
       "      <td>Maricopa</td>\n",
       "      <td>Arizona</td>\n",
       "      <td>4013</td>\n",
       "      <td>472760</td>\n",
       "      <td>7462.0</td>\n",
       "      <td>4</td>\n",
       "      <td>4013</td>\n",
       "      <td>4253913</td>\n",
       "      <td>Arizona</td>\n",
       "      <td>Maricopa</td>\n",
       "      <td>NaN</td>\n",
       "    </tr>\n",
       "    <tr>\n",
       "      <th>2963</th>\n",
       "      <td>2021-01-31 00:00:00</td>\n",
       "      <td>Los Angeles</td>\n",
       "      <td>California</td>\n",
       "      <td>6037</td>\n",
       "      <td>1117346</td>\n",
       "      <td>16770.0</td>\n",
       "      <td>6</td>\n",
       "      <td>6037</td>\n",
       "      <td>10098052</td>\n",
       "      <td>California</td>\n",
       "      <td>Los Angeles</td>\n",
       "      <td>NaN</td>\n",
       "    </tr>\n",
       "  </tbody>\n",
       "</table>\n",
       "</div>"
      ],
      "text/plain": [
       "                     date       county       state   fips    cases   deaths  \\\n",
       "376   2021-01-31 00:00:00    Snohomish  Washington  53061    28373    488.0   \n",
       "1024  2021-01-31 00:00:00         Cook    Illinois  17031   453634   9374.0   \n",
       "1671  2021-01-31 00:00:00       Orange  California   6059   245978   3062.0   \n",
       "2317  2021-01-31 00:00:00     Maricopa     Arizona   4013   472760   7462.0   \n",
       "2963  2021-01-31 00:00:00  Los Angeles  California   6037  1117346  16770.0   \n",
       "\n",
       "      us_state_fips  us_county_fips  population      region    subregion  \\\n",
       "376              53           53061      786620  Washington    Snohomish   \n",
       "1024             17           17031     5223719    Illinois         Cook   \n",
       "1671              6            6059     3164182  California       Orange   \n",
       "2317              4            4013     4253913     Arizona     Maricopa   \n",
       "2963              6            6037    10098052  California  Los Angeles   \n",
       "\n",
       "      nyt_population  \n",
       "376              NaN  \n",
       "1024             NaN  \n",
       "1671             NaN  \n",
       "2317             NaN  \n",
       "2963             NaN  "
      ]
     },
     "execution_count": 157,
     "metadata": {},
     "output_type": "execute_result"
    }
   ],
   "source": [
    "feb.head()"
   ]
  },
  {
   "cell_type": "code",
   "execution_count": null,
   "metadata": {},
   "outputs": [],
   "source": [
    "# I am now satisfied that my table is joined."
   ]
  },
  {
   "cell_type": "code",
   "execution_count": 158,
   "metadata": {},
   "outputs": [],
   "source": [
    "feb[\"percapitadeaths\"] = feb.deaths / feb.population"
   ]
  },
  {
   "cell_type": "code",
   "execution_count": 161,
   "metadata": {},
   "outputs": [
    {
     "data": {
      "text/plain": [
       "Text(0, 0.5, 'Deaths')"
      ]
     },
     "execution_count": 161,
     "metadata": {},
     "output_type": "execute_result"
    },
    {
     "data": {
      "image/png": "[encoded data removed]",
      "text/plain": [
       "<Figure size 432x288 with 1 Axes>"
      ]
     },
     "metadata": {
      "needs_background": "light"
     },
     "output_type": "display_data"
    }
   ],
   "source": [
    "plt.scatter(feb.population, feb.deaths)\n",
    "plt.xlabel(\"Population\")\n",
    "plt.ylabel(\"Deaths\")"
   ]
  },
  {
   "cell_type": "code",
   "execution_count": 163,
   "metadata": {},
   "outputs": [
    {
     "data": {
      "text/plain": [
       "Text(0, 0.5, 'Deaths')"
      ]
     },
     "execution_count": 163,
     "metadata": {},
     "output_type": "execute_result"
    },
    {
     "data": {
      "image/png": "[encoded data removed]",
      "text/plain": [
       "<Figure size 432x288 with 1 Axes>"
      ]
     },
     "metadata": {
      "needs_background": "light"
     },
     "output_type": "display_data"
    }
   ],
   "source": [
    "plt.loglog(feb.population, feb.deaths,'.')\n",
    "plt.xlabel(\"Population\")\n",
    "plt.ylabel(\"Deaths\")"
   ]
  },
  {
   "cell_type": "code",
   "execution_count": 165,
   "metadata": {},
   "outputs": [
    {
     "data": {
      "text/plain": [
       "Text(0.5, 0, 'Per capita death rate')"
      ]
     },
     "execution_count": 165,
     "metadata": {},
     "output_type": "execute_result"
    },
    {
     "data": {
      "image/png": "[encoded data removed]",
      "text/plain": [
       "<Figure size 432x288 with 1 Axes>"
      ]
     },
     "metadata": {
      "needs_background": "light"
     },
     "output_type": "display_data"
    }
   ],
   "source": [
    "# Just for kicks... histogram of per capita death rate?\n",
    "plt.hist (feb.percapitadeaths, bins=100)\n",
    "plt.xlabel(\"Per capita death rate\")"
   ]
  },
  {
   "cell_type": "code",
   "execution_count": 166,
   "metadata": {},
   "outputs": [
    {
     "data": {
      "text/plain": [
       "0.0013469309216855877"
      ]
     },
     "execution_count": 166,
     "metadata": {},
     "output_type": "execute_result"
    }
   ],
   "source": [
    "# This looks believable, but this is not the graph on which \n",
    "# we will find the truth. \n",
    "# WE ARE COUNTING THE WRONG THINGS, as usual.\n",
    "# Imagine the headline \"50% of counties report death rates above\n",
    "feb.percapitadeaths.median()\n",
    "# .00134  ( one death per 742 population).  This generalizes how?\n",
    "# The counties do not all have the same weights."
   ]
  },
  {
   "cell_type": "code",
   "execution_count": null,
   "metadata": {},
   "outputs": [],
   "source": [
    "# To get at the Heritige Foundation's implicit question -- how can we show\n",
    "# the difference between death toll in large and small (population, before-the-fact)\n",
    "# counties, I suggest plotting cumulative population (small to large) against \n",
    "# cumulative deaths."
   ]
  },
  {
   "cell_type": "code",
   "execution_count": 167,
   "metadata": {},
   "outputs": [
    {
     "data": {
      "text/plain": [
       "[<matplotlib.lines.Line2D at 0x7f845476e0d0>]"
      ]
     },
     "execution_count": 167,
     "metadata": {},
     "output_type": "execute_result"
    },
    {
     "data": {
      "image/png": "[encoded data removed]",
      "text/plain": [
       "<Figure size 432x288 with 1 Axes>"
      ]
     },
     "metadata": {
      "needs_background": "light"
     },
     "output_type": "display_data"
    }
   ],
   "source": [
    "plt.plot(feb.population.cumsum())"
   ]
  },
  {
   "cell_type": "code",
   "execution_count": 175,
   "metadata": {},
   "outputs": [
    {
     "data": {
      "text/plain": [
       "[<matplotlib.lines.Line2D at 0x7f8453b1aeb0>]"
      ]
     },
     "execution_count": 175,
     "metadata": {},
     "output_type": "execute_result"
    },
    {
     "data": {
      "image/png": "[encoded data removed]",
      "text/plain": [
       "<Figure size 432x288 with 1 Axes>"
      ]
     },
     "metadata": {
      "needs_background": "light"
     },
     "output_type": "display_data"
    }
   ],
   "source": [
    "# Och, forgot to sort by population.\n",
    "plt.plot( feb.population.sort_values(ascending=True).cumsum())"
   ]
  },
  {
   "cell_type": "code",
   "execution_count": 171,
   "metadata": {},
   "outputs": [
    {
     "data": {
      "text/plain": [
       "1812671          75\n",
       "1812344         102\n",
       "1811258         228\n",
       "1802425         418\n",
       "1810486         432\n",
       "             ...   \n",
       "2317        4253913\n",
       "29389       4602523\n",
       "1024        5223719\n",
       "16009       8443713\n",
       "2963       10098052\n",
       "Name: population, Length: 3135, dtype: int64"
      ]
     },
     "execution_count": 171,
     "metadata": {},
     "output_type": "execute_result"
    }
   ],
   "source": [
    "# Uh, what?   \n",
    "feb.population.sort_values()"
   ]
  },
  {
   "cell_type": "code",
   "execution_count": null,
   "metadata": {},
   "outputs": [],
   "source": [
    "# plt.plot behaves differently when the index is a number.  ok. "
   ]
  },
  {
   "cell_type": "code",
   "execution_count": 177,
   "metadata": {},
   "outputs": [
    {
     "data": {
      "text/plain": [
       "[<matplotlib.lines.Line2D at 0x7f841d3ebd90>]"
      ]
     },
     "execution_count": 177,
     "metadata": {},
     "output_type": "execute_result"
    },
    {
     "data": {
      "image/png": "[encoded data removed]",
      "text/plain": [
       "<Figure size 432x288 with 2 Axes>"
      ]
     },
     "metadata": {
      "needs_background": "light"
     },
     "output_type": "display_data"
    }
   ],
   "source": [
    "# This gives me cumulative population from smallest to biggest... \n",
    "plt.subplot(121);\n",
    "plt.plot(np.arange(len(feb.population)), feb.population.sort_values(ascending=True).cumsum())\n",
    "plt.subplot(122)\n",
    "plt.plot(np.arange(len(feb.population)), feb.population.sort_values(ascending=False).cumsum())"
   ]
  },
  {
   "cell_type": "code",
   "execution_count": 179,
   "metadata": {},
   "outputs": [
    {
     "data": {
      "text/plain": [
       "[<matplotlib.lines.Line2D at 0x7f841d719550>]"
      ]
     },
     "execution_count": 179,
     "metadata": {},
     "output_type": "execute_result"
    },
    {
     "data": {
      "image/png": "[encoded data removed]",
      "text/plain": [
       "<Figure size 432x288 with 2 Axes>"
      ]
     },
     "metadata": {
      "needs_background": "light"
     },
     "output_type": "display_data"
    }
   ],
   "source": [
    "# but I'm using sort_values on feb.population (a series); I need the whole dataframe for \n",
    "# the next step. \n",
    "plt.subplot(121);\n",
    "plt.plot(np.arange(len(feb.population)), feb.sort_values(\"population\", ascending=True).population.cumsum())\n",
    "plt.subplot(122)\n",
    "plt.plot(np.arange(len(feb.population)), feb.sort_values(\"population\", ascending=False).population.cumsum())"
   ]
  },
  {
   "cell_type": "code",
   "execution_count": 180,
   "metadata": {},
   "outputs": [
    {
     "data": {
      "text/plain": [
       "[<matplotlib.lines.Line2D at 0x7f841d815fa0>]"
      ]
     },
     "execution_count": 180,
     "metadata": {},
     "output_type": "execute_result"
    },
    {
     "data": {
      "image/png": "[encoded data removed]",
      "text/plain": [
       "<Figure size 432x288 with 2 Axes>"
      ]
     },
     "metadata": {
      "needs_background": "light"
     },
     "output_type": "display_data"
    }
   ],
   "source": [
    "# This gives me the same thing, but also gives me access to deaths in the same order.\n",
    "# but I'm using sort_values on feb.population (a series); I need the whole dataframe for \n",
    "# the next step. \n",
    "plt.subplot(121);\n",
    "plt.plot(np.arange(len(feb.population)), feb.sort_values(\"population\", ascending=True).population.cumsum())\n",
    "plt.plot(np.arange(len(feb.population)), feb.sort_values(\"population\", ascending=True).deaths.cumsum())\n",
    "plt.subplot(122)\n",
    "plt.plot(np.arange(len(feb.population)), feb.sort_values(\"population\", ascending=False).population.cumsum())\n",
    "plt.plot(np.arange(len(feb.population)), feb.sort_values(\"population\", ascending=False).deaths.cumsum())\n"
   ]
  },
  {
   "cell_type": "code",
   "execution_count": 181,
   "metadata": {},
   "outputs": [
    {
     "data": {
      "image/png": "[encoded data removed]",
      "text/plain": [
       "<Figure size 432x288 with 2 Axes>"
      ]
     },
     "metadata": {
      "needs_background": "light"
     },
     "output_type": "display_data"
    }
   ],
   "source": [
    "# Make it logarithmic just to make sure we have what we expect\n",
    "plt.subplot(121);\n",
    "plt.plot(np.arange(len(feb.population)), feb.sort_values(\"population\", ascending=True).population.cumsum())\n",
    "plt.plot(np.arange(len(feb.population)), feb.sort_values(\"population\", ascending=True).deaths.cumsum())\n",
    "plt.yscale(\"log\")\n",
    "plt.subplot(122)\n",
    "plt.plot(np.arange(len(feb.population)), feb.sort_values(\"population\", ascending=False).population.cumsum())\n",
    "plt.plot(np.arange(len(feb.population)), feb.sort_values(\"population\", ascending=False).deaths.cumsum())\n",
    "plt.yscale(\"log\")"
   ]
  },
  {
   "cell_type": "code",
   "execution_count": 183,
   "metadata": {},
   "outputs": [
    {
     "data": {
      "text/plain": [
       "[<matplotlib.lines.Line2D at 0x7f841e5af190>]"
      ]
     },
     "execution_count": 183,
     "metadata": {},
     "output_type": "execute_result"
    },
    {
     "data": {
      "image/png": "[encoded data removed]",
      "text/plain": [
       "<Figure size 1152x576 with 2 Axes>"
      ]
     },
     "metadata": {
      "needs_background": "light"
     },
     "output_type": "display_data"
    }
   ],
   "source": [
    "# And now for the finish, plot cumulative population vs. cumulative deaths.\n",
    "# Before we plot it, we expect it will go from 0,0 to 326M, 411k.\n",
    "# Make it logarithmic just to make sure we have what we expect\n",
    "plt.figure(figsize=(16,8))\n",
    "plt.subplot(121);\n",
    "plt.plot( feb.sort_values(\"population\", ascending=True).population.cumsum(), feb.sort_values(\"population\", ascending=True).deaths.cumsum())\n",
    "plt.xlabel(\"cumulative of population, smallest to largest counties (326M)\")\n",
    "plt.ylabel(\"cumulative of COVID deaths n = 411k\")\n",
    "\n",
    "plt.subplot(122)\n",
    "plt.plot( feb.sort_values(\"population\", ascending=False).population.cumsum(), feb.sort_values(\"population\", ascending=False).deaths.cumsum())\n",
    "plt.xlabel(\"cumulative of population, largest to smallest counties (326M)\")\n",
    "plt.ylabel(\"cumulative COVID deaths (Feb 2021) n = 411k\")\n"
   ]
  },
  {
   "cell_type": "code",
   "execution_count": null,
   "metadata": {},
   "outputs": [],
   "source": [
    "# ?!?!?!"
   ]
  },
  {
   "cell_type": "code",
   "execution_count": 189,
   "metadata": {},
   "outputs": [
    {
     "data": {
      "text/plain": [
       "[<matplotlib.lines.Line2D at 0x7f84200443d0>]"
      ]
     },
     "execution_count": 189,
     "metadata": {},
     "output_type": "execute_result"
    },
    {
     "data": {
      "image/png": "[encoded data removed]",
      "text/plain": [
       "<Figure size 1152x576 with 2 Axes>"
      ]
     },
     "metadata": {
      "needs_background": "light"
     },
     "output_type": "display_data"
    }
   ],
   "source": [
    "# add line at constant-fraction-population-deaths\n",
    "\n",
    "plt.figure(figsize=(16,8))\n",
    "plt.subplot(121);\n",
    "plt.plot( feb.sort_values(\"population\", ascending=True).population.cumsum() / feb.population.sum(), feb.sort_values(\"population\", ascending=True).deaths.cumsum()/feb.deaths.sum())\n",
    "plt.xlabel(\"fraction of population, smallest to largest counties (326M)\")\n",
    "plt.ylabel(\"fraction of COVID deaths n = 411k\")\n",
    "\n",
    "plt.plot([0,1],[0,1])\n",
    "plt.subplot(122)\n",
    "plt.plot( feb.sort_values(\"population\", ascending=False).population.cumsum() / feb.population.sum(), feb.sort_values(\"population\", ascending=False).deaths.cumsum()/feb.deaths.sum())\n",
    "plt.xlabel(\"fraction of population, largest to smallest counties (326M)\")\n",
    "plt.ylabel(\"fraction of COVID deaths n=411k\")\n",
    "\n",
    "plt.plot([0,1],[0,1])"
   ]
  },
  {
   "cell_type": "code",
   "execution_count": null,
   "metadata": {},
   "outputs": [],
   "source": [
    "# This is an honest visualization, but \n",
    "# I was not expecting to see this.  \n",
    "# The effect is real, but seems smaller than we were led to believe.  (Hard to judge from graph)\n",
    "# On the right-hand graph, we see that large counties are in fact harder hit, \n",
    "# and that the third of the population in the smallest counties had lower-than-overall\n",
    "# death rates.   \n",
    "# Hmm.  How to make this deceptive?  \n",
    "\n",
    "# A:  Sort by after-the-fact death rate by county (something you should probably never do)\n"
   ]
  },
  {
   "cell_type": "code",
   "execution_count": 190,
   "metadata": {},
   "outputs": [
    {
     "data": {
      "text/plain": [
       "[<matplotlib.lines.Line2D at 0x7f84204dffa0>]"
      ]
     },
     "execution_count": 190,
     "metadata": {},
     "output_type": "execute_result"
    },
    {
     "data": {
      "image/png": "[encoded data removed]",
      "text/plain": [
       "<Figure size 1152x576 with 2 Axes>"
      ]
     },
     "metadata": {
      "needs_background": "light"
     },
     "output_type": "display_data"
    }
   ],
   "source": [
    "plt.figure(figsize=(16,8))\n",
    "plt.subplot(121);\n",
    "plt.plot( feb.sort_values(\"deaths\", ascending=True).population.cumsum() / feb.population.sum(), feb.sort_values(\"deaths\", ascending=True).deaths.cumsum()/feb.deaths.sum())\n",
    "plt.xlabel(\"fraction of population, fewest to most death counties (326M)\")\n",
    "plt.ylabel(\"fraction of COVID deaths n = 411k\")\n",
    "\n",
    "plt.plot([0,1],[0,1])\n",
    "plt.subplot(122)\n",
    "plt.plot( feb.sort_values(\"deaths\", ascending=False).population.cumsum() / feb.population.sum(), feb.sort_values(\"deaths\", ascending=False).deaths.cumsum()/feb.deaths.sum())\n",
    "plt.xlabel(\"fraction of population, most deaths to least deaths counties (326M)\")\n",
    "plt.ylabel(\"fraction of COVID deaths n=411k\")\n",
    "\n",
    "plt.plot([0,1],[0,1])"
   ]
  },
  {
   "cell_type": "code",
   "execution_count": 203,
   "metadata": {},
   "outputs": [],
   "source": [
    "# This is not as dramatic as I was expecting. \n",
    "# Let's see if it matches.\n",
    "#  65 counties most deaths - 31.9% US population 40.3% of deaths\n",
    "\n",
    "heritage = pd.DataFrame( {\n",
    "\"fracdeaths\": feb.sort_values(\"deaths\", ascending=False).deaths.cumsum() / feb.deaths.sum(),\n",
    "\"fracpopulation\": feb.sort_values(\"deaths\", ascending=False).population.cumsum() / feb.population.sum()\n",
    "})"
   ]
  },
  {
   "cell_type": "code",
   "execution_count": 204,
   "metadata": {},
   "outputs": [],
   "source": [
    "heritage.index = np.arange(len(heritage))"
   ]
  },
  {
   "cell_type": "code",
   "execution_count": 205,
   "metadata": {},
   "outputs": [
    {
     "data": {
      "text/html": [
       "<div>\n",
       "<style scoped>\n",
       "    .dataframe tbody tr th:only-of-type {\n",
       "        vertical-align: middle;\n",
       "    }\n",
       "\n",
       "    .dataframe tbody tr th {\n",
       "        vertical-align: top;\n",
       "    }\n",
       "\n",
       "    .dataframe thead th {\n",
       "        text-align: right;\n",
       "    }\n",
       "</style>\n",
       "<table border=\"1\" class=\"dataframe\">\n",
       "  <thead>\n",
       "    <tr style=\"text-align: right;\">\n",
       "      <th></th>\n",
       "      <th>fracdeaths</th>\n",
       "      <th>fracpopulation</th>\n",
       "    </tr>\n",
       "  </thead>\n",
       "  <tbody>\n",
       "    <tr>\n",
       "      <th>0</th>\n",
       "      <td>0.061767</td>\n",
       "      <td>0.025946</td>\n",
       "    </tr>\n",
       "    <tr>\n",
       "      <th>1</th>\n",
       "      <td>0.099936</td>\n",
       "      <td>0.056975</td>\n",
       "    </tr>\n",
       "    <tr>\n",
       "      <th>2</th>\n",
       "      <td>0.121272</td>\n",
       "      <td>0.073026</td>\n",
       "    </tr>\n",
       "    <tr>\n",
       "      <th>3</th>\n",
       "      <td>0.138255</td>\n",
       "      <td>0.086098</td>\n",
       "    </tr>\n",
       "    <tr>\n",
       "      <th>4</th>\n",
       "      <td>0.149349</td>\n",
       "      <td>0.094442</td>\n",
       "    </tr>\n",
       "    <tr>\n",
       "      <th>...</th>\n",
       "      <td>...</td>\n",
       "      <td>...</td>\n",
       "    </tr>\n",
       "    <tr>\n",
       "      <th>3130</th>\n",
       "      <td>1.000000</td>\n",
       "      <td>0.999952</td>\n",
       "    </tr>\n",
       "    <tr>\n",
       "      <th>3131</th>\n",
       "      <td>1.000000</td>\n",
       "      <td>0.999961</td>\n",
       "    </tr>\n",
       "    <tr>\n",
       "      <th>3132</th>\n",
       "      <td>1.000000</td>\n",
       "      <td>0.999987</td>\n",
       "    </tr>\n",
       "    <tr>\n",
       "      <th>3133</th>\n",
       "      <td>1.000000</td>\n",
       "      <td>1.000000</td>\n",
       "    </tr>\n",
       "    <tr>\n",
       "      <th>3134</th>\n",
       "      <td>1.000000</td>\n",
       "      <td>1.000000</td>\n",
       "    </tr>\n",
       "  </tbody>\n",
       "</table>\n",
       "<p>3135 rows × 2 columns</p>\n",
       "</div>"
      ],
      "text/plain": [
       "      fracdeaths  fracpopulation\n",
       "0       0.061767        0.025946\n",
       "1       0.099936        0.056975\n",
       "2       0.121272        0.073026\n",
       "3       0.138255        0.086098\n",
       "4       0.149349        0.094442\n",
       "...          ...             ...\n",
       "3130    1.000000        0.999952\n",
       "3131    1.000000        0.999961\n",
       "3132    1.000000        0.999987\n",
       "3133    1.000000        1.000000\n",
       "3134    1.000000        1.000000\n",
       "\n",
       "[3135 rows x 2 columns]"
      ]
     },
     "execution_count": 205,
     "metadata": {},
     "output_type": "execute_result"
    }
   ],
   "source": [
    "heritage"
   ]
  },
  {
   "cell_type": "code",
   "execution_count": 207,
   "metadata": {},
   "outputs": [
    {
     "data": {
      "text/plain": [
       "fracdeaths        0.413724\n",
       "fracpopulation    0.335987\n",
       "Name: 64, dtype: float64"
      ]
     },
     "execution_count": 207,
     "metadata": {},
     "output_type": "execute_result"
    }
   ],
   "source": [
    "heritage.loc[64]"
   ]
  },
  {
   "cell_type": "code",
   "execution_count": 208,
   "metadata": {},
   "outputs": [
    {
     "data": {
      "text/plain": [
       "fracdeaths        0.402917\n",
       "fracpopulation    0.324608\n",
       "Name: 60, dtype: float64"
      ]
     },
     "execution_count": 208,
     "metadata": {},
     "output_type": "execute_result"
    }
   ],
   "source": [
    "heritage.loc[60]"
   ]
  },
  {
   "cell_type": "code",
   "execution_count": 209,
   "metadata": {},
   "outputs": [
    {
     "data": {
      "text/plain": [
       "fracdeaths        0.400177\n",
       "fracpopulation    0.323166\n",
       "Name: 59, dtype: float64"
      ]
     },
     "execution_count": 209,
     "metadata": {},
     "output_type": "execute_result"
    }
   ],
   "source": [
    "#  65 counties most deaths - 31.9% US population 40.3% of deaths\n",
    "# This is a size of error that might be caused by consolidating \n",
    "# NYC's five boroughs.. \n",
    "\n",
    "# The difference at 40.3% of deaths is 0.5% of US population, \n",
    "# which is a difference of a county of 1.6M population.\n",
    "# This isn't far enough off to make me sound the alarm.  \n",
    "\n",
    "# The deception was in sorting by the outcome of a random process."
   ]
  },
  {
   "cell_type": "code",
   "execution_count": 210,
   "metadata": {},
   "outputs": [
    {
     "data": {
      "text/plain": [
       "1.6300000000000001"
      ]
     },
     "execution_count": 210,
     "metadata": {},
     "output_type": "execute_result"
    }
   ],
   "source": []
  },
  {
   "cell_type": "code",
   "execution_count": 217,
   "metadata": {},
   "outputs": [
    {
     "data": {
      "text/plain": [
       "[<matplotlib.lines.Line2D at 0x7f8422ce9880>]"
      ]
     },
     "execution_count": 217,
     "metadata": {},
     "output_type": "execute_result"
    },
    {
     "data": {
      "image/png": "[encoded data removed]",
      "text/plain": [
       "<Figure size 1152x576 with 2 Axes>"
      ]
     },
     "metadata": {
      "needs_background": "light"
     },
     "output_type": "display_data"
    }
   ],
   "source": [
    "# Maybe I can plot the difference betwen fraction population and fraction of deaths?\n",
    "plt.figure(figsize=(16,8))\n",
    "plt.subplot(121);\n",
    "plt.plot( feb.sort_values(\"deaths\", ascending=True).population.cumsum() / feb.population.sum(),    feb.sort_values(\"deaths\", ascending=True).deaths.cumsum()/feb.deaths.sum()- feb.sort_values(\"deaths\", ascending=True).population.cumsum() / feb.population.sum())\n",
    "plt.xlabel(\"fraction of population, least deaths to most death counties (326M)\")\n",
    "plt.ylabel(\"difference fraction of covid deaths to fraction of population \")\n",
    "\n",
    "plt.plot([0,1],[0,0])\n",
    "plt.subplot(122)\n",
    "plt.plot( feb.sort_values(\"population\", ascending=False).population.cumsum() / feb.population.sum(), feb.sort_values(\"population\", ascending=False).deaths.cumsum()/feb.deaths.sum()- feb.sort_values(\"population\", ascending=False).population.cumsum()/feb.population.sum( ))\n",
    "plt.xlabel(\"fraction of population, most populous to least populous counties (326M)\")\n",
    "plt.ylabel(\"difference fraction of covid deaths to fraction of population\")\n",
    "plt.plot([0,1],[0,0])\n",
    "\n"
   ]
  },
  {
   "cell_type": "code",
   "execution_count": null,
   "metadata": {},
   "outputs": [],
   "source": [
    "# And this relationship on the left was treated with a slider that\n",
    "# ran from 0 to 5% of population, and with another slider for the n\n",
    "# most-death counties that ran from 52% to 89%. "
   ]
  }
 ],
 "metadata": {
  "kernelspec": {
   "display_name": "Python 3",
   "language": "python",
   "name": "python3"
  },
  "language_info": {
   "codemirror_mode": {
    "name": "ipython",
    "version": 3
   },
   "file_extension": ".py",
   "mimetype": "text/x-python",
   "name": "python",
   "nbconvert_exporter": "python",
   "pygments_lexer": "ipython3",
   "version": "3.8.5"
  }
 },
 "nbformat": 4,
 "nbformat_minor": 4
}
